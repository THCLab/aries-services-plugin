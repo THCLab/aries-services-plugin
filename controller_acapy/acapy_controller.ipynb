{
 "cells": [
  {
   "cell_type": "code",
   "execution_count": 30,
   "metadata": {},
   "outputs": [],
   "source": [
    "import requests \n",
    "import json\n",
    "import pprint as pp # pretty print\n",
    "\n",
    "import aries_cloudagent.wallet.crypto as crypto\n",
    "import base64\n",
    "import base58\n",
    "import uuid\n",
    "import jupyter_util as util\n",
    "from importlib import reload"
   ]
  },
  {
   "cell_type": "code",
   "execution_count": 73,
   "metadata": {},
   "outputs": [
    {
     "data": {
      "text/plain": [
       "<module 'jupyter_util' from '/home/sevni/Documents/thclab/aries/aries-acapy-plugin/utilities/jupyter_util.py'>"
      ]
     },
     "execution_count": 73,
     "metadata": {},
     "output_type": "execute_result"
    }
   ],
   "source": [
    "reload(util)"
   ]
  },
  {
   "cell_type": "markdown",
   "metadata": {},
   "source": [
    "## Enter Invite Url:"
   ]
  },
  {
   "cell_type": "code",
   "execution_count": 32,
   "metadata": {},
   "outputs": [
    {
     "name": "stdout",
     "output_type": "stream",
     "text": [
      "http://agent1.localhost?c_i=eyJAdHlwZSI6ICJkaWQ6c292OkJ6Q2JzTlloTXJqSGlxWkRUVUFTSGc7c3BlYy9jb25uZWN0aW9ucy8xLjAvaW52aXRhdGlvbiIsICJAaWQiOiAiODg5NjJjMjItNjEyMC00ODhiLWI5MzYtN2E0YjFjMTU1ODUyIiwgInNlcnZpY2VFbmRwb2ludCI6ICJodHRwOi8vYWdlbnQxLmxvY2FsaG9zdCIsICJsYWJlbCI6ICJNYWluIChhZG1pbikiLCAicmVjaXBpZW50S2V5cyI6IFsiRm1LUnpFUWpIZnBaTlNqYWRiOU1IdWZZWnNTTXh6c2dCOW42VXJ0WmlXQiJdfQ==\n"
     ]
    }
   ],
   "source": [
    "agent1 = {}\n",
    "plugin = {}\n",
    "endpoint = \"http://localhost:8150/connections/create-admin-invitation-url\"\n",
    "adminInvitationResponse = requests.post(endpoint)\n",
    "adminInvitationResponse = adminInvitationResponse.text\n",
    "agent1['url'] = json.loads(adminInvitationResponse)['invitation_url']\n",
    "print(agent1['url'])"
   ]
  },
  {
   "cell_type": "code",
   "execution_count": 33,
   "metadata": {
    "scrolled": true
   },
   "outputs": [
    {
     "name": "stdout",
     "output_type": "stream",
     "text": [
      "http://agent2.localhost?c_i=eyJAdHlwZSI6ICJkaWQ6c292OkJ6Q2JzTlloTXJqSGlxWkRUVUFTSGc7c3BlYy9jb25uZWN0aW9ucy8xLjAvaW52aXRhdGlvbiIsICJAaWQiOiAiZjllZjgzM2YtZDJjZC00ODkwLTg2NDItMDI2NGRkOWUwZTZkIiwgInJlY2lwaWVudEtleXMiOiBbIkZpWkxkUm5GN0NVSFE4SmpKYjNITWZwUms5cTlYTXhyUVU4RkdZNzJnNlNrIl0sICJsYWJlbCI6ICJDbGllbnQgKGFkbWluKSIsICJzZXJ2aWNlRW5kcG9pbnQiOiAiaHR0cDovL2FnZW50Mi5sb2NhbGhvc3QifQ==\n"
     ]
    }
   ],
   "source": [
    "agent2 = {}\n",
    "endpoint = \"http://localhost:8151/connections/create-admin-invitation-url\"\n",
    "adminInvitationResponse = requests.post(endpoint)\n",
    "adminInvitationResponse = adminInvitationResponse.text\n",
    "agent2['url'] = json.loads(adminInvitationResponse)['invitation_url']\n",
    "print(agent2['url'])"
   ]
  },
  {
   "cell_type": "code",
   "execution_count": 34,
   "metadata": {
    "scrolled": true
   },
   "outputs": [
    {
     "name": "stdout",
     "output_type": "stream",
     "text": [
      "Decoded invitation:\n",
      "\n",
      "{'@id': 'f9ef833f-d2cd-4890-8642-0264dd9e0e6d',\n",
      " '@type': 'did:sov:BzCbsNYhMrjHiqZDTUASHg;spec/connections/1.0/invitation',\n",
      " 'label': 'Client (admin)',\n",
      " 'recipientKeys': ['FiZLdRnF7CUHQ8JjJb3HMfpRk9q9XMxrQU8FGY72g6Sk'],\n",
      " 'serviceEndpoint': 'http://agent2.localhost'}\n"
     ]
    }
   ],
   "source": [
    "agent1 = util.processInviteUrl(agent1['url'])\n",
    "agent2 = util.processInviteUrl(agent2['url'])\n",
    "print(\"Decoded invitation:\\n\")\n",
    "pp.pprint(agent2['invite'])"
   ]
  },
  {
   "cell_type": "code",
   "execution_count": 35,
   "metadata": {
    "scrolled": true
   },
   "outputs": [
    {
     "name": "stdout",
     "output_type": "stream",
     "text": [
      "Private key: \n",
      " 4fb6eosjBij42tZrs33BX7L1ZLNiu3mi99yQjaWh8p5kGpdxiKEbE1zsBfS7Gi5UXf7HwBQ53CWUJAZ2VL6DysXL\n",
      "\n",
      "Public key: \n",
      " 9t81otewmZj9n99BsYx32ZYPyMyi7rEEBufKneUQDe62\n"
     ]
    }
   ],
   "source": [
    "### Generating a did key using aries crypto module\n",
    "# Create a key pair with random seed \n",
    "# Order: 0 - public key, 1 - secret / pritvate key\n",
    "plugin['keypair'] = crypto.create_keypair()\n",
    "# it seems to me that did is an encoded sub string of public key\n",
    "# or maybe just some arbitrary random number\n",
    "did = plugin['keypair'][0][:16]\n",
    "# final version of our did\n",
    "plugin['did'] = base58.b58encode(did).decode(\"ascii\")\n",
    "# encoding keys to base58\n",
    "plugin['public_key_b58'] = \\\n",
    "    base58.b58encode(plugin['keypair'][0]).decode(\"ascii\")\n",
    "plugin['private_key_b58'] = \\\n",
    "    base58.b58encode(plugin['keypair'][1]).decode(\"ascii\")\n",
    "\n",
    "print(\"Private key: \\n\", plugin['private_key_b58'])\n",
    "print(\"\\nPublic key: \\n\", plugin['public_key_b58'])"
   ]
  },
  {
   "cell_type": "markdown",
   "metadata": {},
   "source": [
    "**Sending a connection request to acapy**"
   ]
  },
  {
   "cell_type": "code",
   "execution_count": 36,
   "metadata": {
    "scrolled": false
   },
   "outputs": [],
   "source": [
    "   \n",
    "agent1['connection'] = util.connectWithAcapy(agent1, plugin)\n",
    "agent2['connection'] = util.connectWithAcapy(agent2, plugin)\n",
    "# print(\"Decoded acapy response: \\n\")\n",
    "# pp.pprint(agent1['conn'])"
   ]
  },
  {
   "cell_type": "markdown",
   "metadata": {},
   "source": [
    "**Unpacking connection data embedded in the response**"
   ]
  },
  {
   "cell_type": "code",
   "execution_count": 37,
   "metadata": {
    "scrolled": true
   },
   "outputs": [],
   "source": [
    "agent1['connection_details'] = util.decodeConnectionDetails(agent1['connection'])\n",
    "agent2['connection_details'] = util.decodeConnectionDetails(agent2['connection'])"
   ]
  },
  {
   "cell_type": "markdown",
   "metadata": {},
   "source": [
    "**Adding the connection to connection list**"
   ]
  },
  {
   "cell_type": "code",
   "execution_count": 38,
   "metadata": {
    "scrolled": true
   },
   "outputs": [],
   "source": [
    "connections = [\n",
    "    {\n",
    "        \"label\": agent1['invite']['label'],\n",
    "        \"DIDDoc\": agent1['connection_details']['DIDDoc'],\n",
    "        \"myKey\": plugin['keypair'][1]\n",
    "    },\n",
    "    {\n",
    "        \"label\": agent2['invite']['label'],\n",
    "        \"DIDDoc\": agent2['connection_details']['DIDDoc'],\n",
    "        \"myKey\": plugin['keypair'][1]\n",
    "    },\n",
    "]\n",
    "\n",
    "# pp.pprint(connections)"
   ]
  },
  {
   "cell_type": "markdown",
   "metadata": {},
   "source": [
    "### FEATURE DISCOVERY"
   ]
  },
  {
   "cell_type": "code",
   "execution_count": 44,
   "metadata": {},
   "outputs": [],
   "source": [
    "# pp.pprint(util.getFeatureDiscovery(connections[0]))"
   ]
  },
  {
   "cell_type": "markdown",
   "metadata": {},
   "source": [
    "### Notes\n",
    "\n",
    "* To receive invitation use \"new connections\" protocol \"receive invitation\"\n",
    "* To create invitation use create invitation from \"invitations\" protocol"
   ]
  },
  {
   "cell_type": "markdown",
   "metadata": {},
   "source": [
    "### Done\n",
    "* create invitation\n",
    "* receive invitation\n",
    "* basic message\n",
    "    * get\n",
    "    * send\n",
    "    * basic message\n",
    "    * deletes\n",
    "* dids\n",
    "    * list dids\n",
    "    \n",
    "\n",
    "### Todo\n",
    "* basic message sorting\n",
    "* basic message delete"
   ]
  },
  {
   "cell_type": "code",
   "execution_count": 45,
   "metadata": {
    "collapsed": true
   },
   "outputs": [
    {
     "name": "stdout",
     "output_type": "stream",
     "text": [
      "{'@id': '8f376685-a89e-4e64-bb38-f4fc44d288a3',\n",
      " '@type': 'https://github.com/hyperledger/aries-toolbox/tree/master/docs/admin-connections/0.1/connection',\n",
      " 'connection_id': '55d7fc39-c40f-422b-b75d-b1f9c98bc114',\n",
      " 'label': 'ConnectionBetweenAgents',\n",
      " 'my_did': 'Njs1G7cpen9MKMrx1VTWT5',\n",
      " 'raw_repr': {'accept': 'auto',\n",
      "              'connection_id': '55d7fc39-c40f-422b-b75d-b1f9c98bc114',\n",
      "              'created_at': '2020-06-03 09:52:25.375806Z',\n",
      "              'initiator': 'external',\n",
      "              'invitation_key': 'tcH5kgbkXTS4Rxm4zgcT2avz8SbjmRrpi6coXpvJLuj',\n",
      "              'invitation_mode': 'once',\n",
      "              'my_did': 'Njs1G7cpen9MKMrx1VTWT5',\n",
      "              'request_id': 'dc32ff07-93bb-4181-bed4-b6181c5cf4ce',\n",
      "              'routing_state': 'none',\n",
      "              'state': 'request',\n",
      "              'their_label': 'ConnectionBetweenAgents',\n",
      "              'updated_at': '2020-06-03 09:52:25.387945Z'},\n",
      " 'state': 'pending'}\n"
     ]
    }
   ],
   "source": [
    "pp.pprint(util.connectAgents(connections[0], connections[1]))"
   ]
  },
  {
   "cell_type": "code",
   "execution_count": 47,
   "metadata": {},
   "outputs": [
    {
     "name": "stdout",
     "output_type": "stream",
     "text": [
      "{'@id': '88ba6222-b1b0-4309-8f70-745684bd4e23',\n",
      " '@type': 'https://github.com/hyperledger/aries-toolbox/tree/master/docs/admin-connections/0.1/list',\n",
      " 'connections': [{'connection_id': '31e42ba3-99e8-4404-9003-9a115a4f7153',\n",
      "                  'label': None,\n",
      "                  'my_did': None,\n",
      "                  'raw_repr': {'accept': 'auto',\n",
      "                               'connection_id': '31e42ba3-99e8-4404-9003-9a115a4f7153',\n",
      "                               'created_at': '2020-06-03 09:41:11.837134Z',\n",
      "                               'initiator': 'self',\n",
      "                               'invitation_key': '4gi4VNnXAg7zgcPiFi1SjcgENsEMSnVnDs9ii2BBSXND',\n",
      "                               'invitation_mode': 'once',\n",
      "                               'routing_state': 'none',\n",
      "                               'state': 'invitation',\n",
      "                               'their_role': 'admin',\n",
      "                               'updated_at': '2020-06-03 09:41:11.837134Z'},\n",
      "                  'role': 'admin',\n",
      "                  'state': 'pending',\n",
      "                  'their_did': None},\n",
      "                 {'connection_id': 'f69db560-d055-4f8d-9cc4-64050a15752a',\n",
      "                  'label': 'Plugin',\n",
      "                  'my_did': 'N7Ct31e63azoM3Jz5rYMno',\n",
      "                  'raw_repr': {'accept': 'auto',\n",
      "                               'connection_id': 'f69db560-d055-4f8d-9cc4-64050a15752a',\n",
      "                               'created_at': '2020-06-03 09:50:56.206723Z',\n",
      "                               'initiator': 'self',\n",
      "                               'invitation_key': 'FiZLdRnF7CUHQ8JjJb3HMfpRk9q9XMxrQU8FGY72g6Sk',\n",
      "                               'invitation_mode': 'once',\n",
      "                               'my_did': 'N7Ct31e63azoM3Jz5rYMno',\n",
      "                               'routing_state': 'none',\n",
      "                               'state': 'active',\n",
      "                               'their_did': 'HJ7nqnJLqoBx13NQxkKxhW',\n",
      "                               'their_label': 'Plugin',\n",
      "                               'their_role': 'admin',\n",
      "                               'updated_at': '2020-06-03 09:52:25.368310Z'},\n",
      "                  'role': 'admin',\n",
      "                  'state': 'active',\n",
      "                  'their_did': 'HJ7nqnJLqoBx13NQxkKxhW'},\n",
      "                 {'connection_id': '55d7fc39-c40f-422b-b75d-b1f9c98bc114',\n",
      "                  'label': 'ConnectionBetweenAgents',\n",
      "                  'my_did': 'Njs1G7cpen9MKMrx1VTWT5',\n",
      "                  'raw_repr': {'accept': 'auto',\n",
      "                               'connection_id': '55d7fc39-c40f-422b-b75d-b1f9c98bc114',\n",
      "                               'created_at': '2020-06-03 09:52:25.375806Z',\n",
      "                               'initiator': 'external',\n",
      "                               'invitation_key': 'tcH5kgbkXTS4Rxm4zgcT2avz8SbjmRrpi6coXpvJLuj',\n",
      "                               'invitation_mode': 'once',\n",
      "                               'my_did': 'Njs1G7cpen9MKMrx1VTWT5',\n",
      "                               'request_id': 'dc32ff07-93bb-4181-bed4-b6181c5cf4ce',\n",
      "                               'routing_state': 'none',\n",
      "                               'state': 'active',\n",
      "                               'their_did': 'TA5mXJYNwzV7NaQV1aWsm6',\n",
      "                               'their_label': 'ConnectionBetweenAgents',\n",
      "                               'updated_at': '2020-06-03 09:52:25.618696Z'},\n",
      "                  'role': None,\n",
      "                  'state': 'active',\n",
      "                  'their_did': 'TA5mXJYNwzV7NaQV1aWsm6'}],\n",
      " '~thread': {'thid': '79775904-3eb9-4e99-bfe1-9ac11ad063af'}}\n"
     ]
    }
   ],
   "source": [
    "pp.pprint(util.getConnectionList(connections[1]))"
   ]
  },
  {
   "cell_type": "code",
   "execution_count": 49,
   "metadata": {},
   "outputs": [
    {
     "name": "stdout",
     "output_type": "stream",
     "text": [
      "{'@id': '09f8a881-f817-40bc-8701-29c772db4b86',\n",
      " '@type': 'https://github.com/hyperledger/aries-toolbox/tree/master/docs/admin-basicmessage/0.1/sent',\n",
      " 'connection_id': '55d7fc39-c40f-422b-b75d-b1f9c98bc114',\n",
      " 'message': {'connection_id': '55d7fc39-c40f-422b-b75d-b1f9c98bc114',\n",
      "             'content': 'test delete',\n",
      "             'message_id': 'f58c2401-2c67-42ae-a49a-71545273e389',\n",
      "             'sent_time': '2020-06-03T10:04:05Z',\n",
      "             'state': 'sent'},\n",
      " '~thread': {'thid': '3afddc9b-2920-433a-9ffe-b0b7c75c2f3b'}}\n"
     ]
    }
   ],
   "source": [
    "pp.pprint(util.sendBasicMessage(connections[1], \"55d7fc39-c40f-422b-b75d-b1f9c98bc114\", \"test delete\"))"
   ]
  },
  {
   "cell_type": "code",
   "execution_count": 60,
   "metadata": {},
   "outputs": [
    {
     "name": "stdout",
     "output_type": "stream",
     "text": [
      "{'@id': '19646718-5848-431d-8a67-64866edce7b4',\n",
      " '@type': 'https://github.com/hyperledger/aries-toolbox/tree/master/docs/admin-basicmessage/0.1/messages',\n",
      " 'count': 0,\n",
      " 'messages': [],\n",
      " 'offset': 0,\n",
      " 'remaining': 0,\n",
      " '~thread': {'thid': '34c4e176-154f-43b8-9072-e4f650cea317'}}\n"
     ]
    }
   ],
   "source": [
    "pp.pprint(util.getBasicMessages(connections[0]))"
   ]
  },
  {
   "cell_type": "code",
   "execution_count": 59,
   "metadata": {},
   "outputs": [
    {
     "name": "stdout",
     "output_type": "stream",
     "text": [
      "{'@id': '3c649c8a-c567-4bb2-9ca8-aa8c81440d52',\n",
      " '@type': 'https://github.com/hyperledger/aries-toolbox/tree/master/docs/admin-basicmessage/0.1/deleted',\n",
      " 'connection_id': '5c637f43-b573-438d-a076-ff098e708893',\n",
      " 'deleted': [{'connection_id': '5c637f43-b573-438d-a076-ff098e708893',\n",
      "              'content': 'test delete',\n",
      "              'message_id': 'f58c2401-2c67-42ae-a49a-71545273e389',\n",
      "              'sent_time': '2020-06-03T10:04:05Z',\n",
      "              'state': 'recv'}],\n",
      " '~thread': {'thid': '31b101d7-8e5e-4ebe-8849-63af5c0851ed'}}\n"
     ]
    }
   ],
   "source": [
    "pp.pprint(deleteBasicMessage(connections[0], \"5c637f43-b573-438d-a076-ff098e708893\", 'f58c2401-2c67-42ae-a49a-71545273e389'))"
   ]
  },
  {
   "cell_type": "code",
   "execution_count": 62,
   "metadata": {},
   "outputs": [
    {
     "name": "stdout",
     "output_type": "stream",
     "text": [
      "{'@id': '20e70536-5cf2-4203-b7f7-874144802887',\n",
      " '@type': 'did:sov:BzCbsNYhMrjHiqZDTUASHg;spec/admin-dids/0.1/did',\n",
      " 'result': {'did': '7JQ2X2Gwh2p5ZZivz4kiev',\n",
      "            'verkey': '4S9vLXq5FRw56brvM4dqH2UENNrmWbYNbucfhJFaEcWz'},\n",
      " '~thread': {'thid': 'b0af7280-950e-409f-8157-e27be829904a'}}\n"
     ]
    }
   ],
   "source": [
    "def createDid(agent):\n",
    "    message = util.buildMessage(\n",
    "        \"did:sov:BzCbsNYhMrjHiqZDTUASHg;spec/admin-dids/0.1/create-did\"\n",
    "    )\n",
    "    return util.sendMessage(message, agent)\n",
    "\n",
    "pp.pprint(createDid(connections[0]))"
   ]
  },
  {
   "cell_type": "code",
   "execution_count": 66,
   "metadata": {},
   "outputs": [
    {
     "name": "stdout",
     "output_type": "stream",
     "text": [
      "{'@id': '2cae5cb4-d619-4f21-9186-1ff5bbd8eb88',\n",
      " '@type': 'did:sov:BzCbsNYhMrjHiqZDTUASHg;spec/admin-dids/0.1/did',\n",
      " 'result': {'did': '7JQ2X2Gwh2p5ZZivz4kiev',\n",
      "            'metadata': {'public': True},\n",
      "            'verkey': '4S9vLXq5FRw56brvM4dqH2UENNrmWbYNbucfhJFaEcWz'},\n",
      " '~thread': {'thid': 'fd23b2b1-963c-4ee3-847e-8e9b3ba21d5a'}}\n"
     ]
    }
   ],
   "source": [
    "def setPublicDid(agent, did):\n",
    "    message = util.buildMessage(\n",
    "        \"did:sov:BzCbsNYhMrjHiqZDTUASHg;spec/admin-dids/0.1/set-public-did\",\n",
    "        did=did\n",
    "    )\n",
    "    return util.sendMessage(message, agent)\n",
    "\n",
    "pp.pprint(setPublicDid(connections[0], \"7JQ2X2Gwh2p5ZZivz4kiev\"))"
   ]
  },
  {
   "cell_type": "code",
   "execution_count": 67,
   "metadata": {},
   "outputs": [
    {
     "name": "stdout",
     "output_type": "stream",
     "text": [
      "{'@id': '3a171dc5-1b32-409f-a111-a69533e8b84c',\n",
      " '@type': 'did:sov:BzCbsNYhMrjHiqZDTUASHg;spec/admin-dids/0.1/did',\n",
      " 'result': {'did': '7JQ2X2Gwh2p5ZZivz4kiev',\n",
      "            'metadata': {'public': True},\n",
      "            'verkey': '4S9vLXq5FRw56brvM4dqH2UENNrmWbYNbucfhJFaEcWz'},\n",
      " '~thread': {'thid': 'a7613921-8ad2-49e2-a90c-c992119c6e4d'}}\n"
     ]
    }
   ],
   "source": [
    "def getPublicDid(agent):\n",
    "    message = util.buildMessage(\n",
    "        \"did:sov:BzCbsNYhMrjHiqZDTUASHg;spec/admin-dids/0.1/get-public-did\"\n",
    "    )\n",
    "    return util.sendMessage(message, agent)\n",
    "\n",
    "pp.pprint(getPublicDid(connections[0]))"
   ]
  },
  {
   "cell_type": "code",
   "execution_count": 69,
   "metadata": {
    "scrolled": true
   },
   "outputs": [
    {
     "ename": "JSONDecodeError",
     "evalue": "Expecting value: line 1 column 1 (char 0)",
     "output_type": "error",
     "traceback": [
      "\u001b[0;31m---------------------------------------------------------------------------\u001b[0m",
      "\u001b[0;31mJSONDecodeError\u001b[0m                           Traceback (most recent call last)",
      "\u001b[0;32m<ipython-input-69-e46980a7fbbb>\u001b[0m in \u001b[0;36m<module>\u001b[0;34m\u001b[0m\n\u001b[1;32m      7\u001b[0m     \u001b[0;32mreturn\u001b[0m \u001b[0mutil\u001b[0m\u001b[0;34m.\u001b[0m\u001b[0msendMessage\u001b[0m\u001b[0;34m(\u001b[0m\u001b[0mmessage\u001b[0m\u001b[0;34m,\u001b[0m \u001b[0mconnection\u001b[0m\u001b[0;34m)\u001b[0m\u001b[0;34m\u001b[0m\u001b[0;34m\u001b[0m\u001b[0m\n\u001b[1;32m      8\u001b[0m \u001b[0;34m\u001b[0m\u001b[0m\n\u001b[0;32m----> 9\u001b[0;31m \u001b[0mpp\u001b[0m\u001b[0;34m.\u001b[0m\u001b[0mpprint\u001b[0m\u001b[0;34m(\u001b[0m\u001b[0mregisterDidOnLedger\u001b[0m\u001b[0;34m(\u001b[0m\u001b[0mconnections\u001b[0m\u001b[0;34m[\u001b[0m\u001b[0;36m0\u001b[0m\u001b[0;34m]\u001b[0m\u001b[0;34m,\u001b[0m \u001b[0;34m\"7JQ2X2Gwh2p5ZZivz4kiev\"\u001b[0m\u001b[0;34m,\u001b[0m \u001b[0;34m\"4S9vLXq5FRw56brvM4dqH2UENNrmWbYNbucfhJFaEcWz\"\u001b[0m\u001b[0;34m)\u001b[0m\u001b[0;34m)\u001b[0m\u001b[0;34m\u001b[0m\u001b[0;34m\u001b[0m\u001b[0m\n\u001b[0m",
      "\u001b[0;32m<ipython-input-69-e46980a7fbbb>\u001b[0m in \u001b[0;36mregisterDidOnLedger\u001b[0;34m(connection, did, verkey, alias, role)\u001b[0m\n\u001b[1;32m      5\u001b[0m         \u001b[0mverkey\u001b[0m\u001b[0;34m=\u001b[0m\u001b[0mverkey\u001b[0m\u001b[0;34m\u001b[0m\u001b[0;34m\u001b[0m\u001b[0m\n\u001b[1;32m      6\u001b[0m     )\n\u001b[0;32m----> 7\u001b[0;31m     \u001b[0;32mreturn\u001b[0m \u001b[0mutil\u001b[0m\u001b[0;34m.\u001b[0m\u001b[0msendMessage\u001b[0m\u001b[0;34m(\u001b[0m\u001b[0mmessage\u001b[0m\u001b[0;34m,\u001b[0m \u001b[0mconnection\u001b[0m\u001b[0;34m)\u001b[0m\u001b[0;34m\u001b[0m\u001b[0;34m\u001b[0m\u001b[0m\n\u001b[0m\u001b[1;32m      8\u001b[0m \u001b[0;34m\u001b[0m\u001b[0m\n\u001b[1;32m      9\u001b[0m \u001b[0mpp\u001b[0m\u001b[0;34m.\u001b[0m\u001b[0mpprint\u001b[0m\u001b[0;34m(\u001b[0m\u001b[0mregisterDidOnLedger\u001b[0m\u001b[0;34m(\u001b[0m\u001b[0mconnections\u001b[0m\u001b[0;34m[\u001b[0m\u001b[0;36m0\u001b[0m\u001b[0;34m]\u001b[0m\u001b[0;34m,\u001b[0m \u001b[0;34m\"7JQ2X2Gwh2p5ZZivz4kiev\"\u001b[0m\u001b[0;34m,\u001b[0m \u001b[0;34m\"4S9vLXq5FRw56brvM4dqH2UENNrmWbYNbucfhJFaEcWz\"\u001b[0m\u001b[0;34m)\u001b[0m\u001b[0;34m)\u001b[0m\u001b[0;34m\u001b[0m\u001b[0;34m\u001b[0m\u001b[0m\n",
      "\u001b[0;32m~/Documents/thclab/aries/aries-acapy-plugin/utilities/jupyter_util.py\u001b[0m in \u001b[0;36msendMessage\u001b[0;34m(message, connection)\u001b[0m\n\u001b[1;32m    133\u001b[0m     \u001b[0mendpoint\u001b[0m \u001b[0;34m=\u001b[0m \u001b[0mconnection\u001b[0m\u001b[0;34m[\u001b[0m\u001b[0;34m'DIDDoc'\u001b[0m\u001b[0;34m]\u001b[0m\u001b[0;34m[\u001b[0m\u001b[0;34m'service'\u001b[0m\u001b[0;34m]\u001b[0m\u001b[0;34m[\u001b[0m\u001b[0;36m0\u001b[0m\u001b[0;34m]\u001b[0m\u001b[0;34m[\u001b[0m\u001b[0;34m'serviceEndpoint'\u001b[0m\u001b[0;34m]\u001b[0m\u001b[0;34m\u001b[0m\u001b[0;34m\u001b[0m\u001b[0m\n\u001b[1;32m    134\u001b[0m     \u001b[0mresponse\u001b[0m \u001b[0;34m=\u001b[0m \u001b[0mrequests\u001b[0m\u001b[0;34m.\u001b[0m\u001b[0mpost\u001b[0m\u001b[0;34m(\u001b[0m\u001b[0mendpoint\u001b[0m\u001b[0;34m,\u001b[0m \u001b[0mdata\u001b[0m\u001b[0;34m=\u001b[0m\u001b[0mencodedMessage\u001b[0m\u001b[0;34m)\u001b[0m\u001b[0;34m\u001b[0m\u001b[0;34m\u001b[0m\u001b[0m\n\u001b[0;32m--> 135\u001b[0;31m     \u001b[0mresponseDecoded\u001b[0m \u001b[0;34m=\u001b[0m \u001b[0munpackMessage\u001b[0m\u001b[0;34m(\u001b[0m\u001b[0mresponse\u001b[0m\u001b[0;34m.\u001b[0m\u001b[0mtext\u001b[0m\u001b[0;34m,\u001b[0m \u001b[0mconnection\u001b[0m\u001b[0;34m[\u001b[0m\u001b[0;34m'myKey'\u001b[0m\u001b[0;34m]\u001b[0m\u001b[0;34m)\u001b[0m\u001b[0;34m\u001b[0m\u001b[0;34m\u001b[0m\u001b[0m\n\u001b[0m\u001b[1;32m    136\u001b[0m     \u001b[0mresponseDecoded\u001b[0m \u001b[0;34m=\u001b[0m \u001b[0mjson\u001b[0m\u001b[0;34m.\u001b[0m\u001b[0mloads\u001b[0m\u001b[0;34m(\u001b[0m\u001b[0mresponseDecoded\u001b[0m\u001b[0;34m[\u001b[0m\u001b[0;36m0\u001b[0m\u001b[0;34m]\u001b[0m\u001b[0;34m)\u001b[0m\u001b[0;34m\u001b[0m\u001b[0;34m\u001b[0m\u001b[0m\n\u001b[1;32m    137\u001b[0m     \u001b[0;32mreturn\u001b[0m \u001b[0mresponseDecoded\u001b[0m\u001b[0;34m\u001b[0m\u001b[0;34m\u001b[0m\u001b[0m\n",
      "\u001b[0;32m~/Documents/thclab/aries/aries-acapy-plugin/utilities/jupyter_util.py\u001b[0m in \u001b[0;36munpackMessage\u001b[0;34m(message, privateKey)\u001b[0m\n\u001b[1;32m     98\u001b[0m \u001b[0;34m\u001b[0m\u001b[0m\n\u001b[1;32m     99\u001b[0m     \u001b[0mfind_key\u001b[0m \u001b[0;34m=\u001b[0m \u001b[0mFindKey\u001b[0m\u001b[0;34m(\u001b[0m\u001b[0mprivateKey\u001b[0m\u001b[0;34m)\u001b[0m\u001b[0;34m\u001b[0m\u001b[0;34m\u001b[0m\u001b[0m\n\u001b[0;32m--> 100\u001b[0;31m     \u001b[0;32mreturn\u001b[0m \u001b[0mcrypto\u001b[0m\u001b[0;34m.\u001b[0m\u001b[0mdecode_pack_message\u001b[0m\u001b[0;34m(\u001b[0m\u001b[0mmessage\u001b[0m\u001b[0;34m,\u001b[0m \u001b[0mfind_key\u001b[0m\u001b[0;34m)\u001b[0m\u001b[0;34m\u001b[0m\u001b[0;34m\u001b[0m\u001b[0m\n\u001b[0m\u001b[1;32m    101\u001b[0m \u001b[0;34m\u001b[0m\u001b[0m\n\u001b[1;32m    102\u001b[0m \u001b[0;34m\u001b[0m\u001b[0m\n",
      "\u001b[0;32m~/.local/lib/python3.7/site-packages/aries_cloudagent/wallet/crypto.py\u001b[0m in \u001b[0;36mdecode_pack_message\u001b[0;34m(enc_message, find_key)\u001b[0m\n\u001b[1;32m    388\u001b[0m \u001b[0;34m\u001b[0m\u001b[0m\n\u001b[1;32m    389\u001b[0m     \"\"\"\n\u001b[0;32m--> 390\u001b[0;31m     \u001b[0mwrapper\u001b[0m\u001b[0;34m,\u001b[0m \u001b[0mrecips\u001b[0m\u001b[0;34m,\u001b[0m \u001b[0mis_authcrypt\u001b[0m \u001b[0;34m=\u001b[0m \u001b[0mdecode_pack_message_outer\u001b[0m\u001b[0;34m(\u001b[0m\u001b[0menc_message\u001b[0m\u001b[0;34m)\u001b[0m\u001b[0;34m\u001b[0m\u001b[0;34m\u001b[0m\u001b[0m\n\u001b[0m\u001b[1;32m    391\u001b[0m     \u001b[0mpayload_key\u001b[0m\u001b[0;34m,\u001b[0m \u001b[0msender_vk\u001b[0m \u001b[0;34m=\u001b[0m \u001b[0;32mNone\u001b[0m\u001b[0;34m,\u001b[0m \u001b[0;32mNone\u001b[0m\u001b[0;34m\u001b[0m\u001b[0;34m\u001b[0m\u001b[0m\n\u001b[1;32m    392\u001b[0m     \u001b[0;32mfor\u001b[0m \u001b[0mrecip_vk\u001b[0m \u001b[0;32min\u001b[0m \u001b[0mrecips\u001b[0m\u001b[0;34m:\u001b[0m\u001b[0;34m\u001b[0m\u001b[0;34m\u001b[0m\u001b[0m\n",
      "\u001b[0;32m~/.local/lib/python3.7/site-packages/aries_cloudagent/wallet/crypto.py\u001b[0m in \u001b[0;36mdecode_pack_message_outer\u001b[0;34m(enc_message)\u001b[0m\n\u001b[1;32m    418\u001b[0m     \"\"\"\n\u001b[1;32m    419\u001b[0m     \u001b[0;32mtry\u001b[0m\u001b[0;34m:\u001b[0m\u001b[0;34m\u001b[0m\u001b[0;34m\u001b[0m\u001b[0m\n\u001b[0;32m--> 420\u001b[0;31m         \u001b[0mwrapper\u001b[0m \u001b[0;34m=\u001b[0m \u001b[0mPackMessageSchema\u001b[0m\u001b[0;34m(\u001b[0m\u001b[0;34m)\u001b[0m\u001b[0;34m.\u001b[0m\u001b[0mloads\u001b[0m\u001b[0;34m(\u001b[0m\u001b[0menc_message\u001b[0m\u001b[0;34m)\u001b[0m\u001b[0;34m\u001b[0m\u001b[0;34m\u001b[0m\u001b[0m\n\u001b[0m\u001b[1;32m    421\u001b[0m     \u001b[0;32mexcept\u001b[0m \u001b[0mValidationError\u001b[0m\u001b[0;34m:\u001b[0m\u001b[0;34m\u001b[0m\u001b[0;34m\u001b[0m\u001b[0m\n\u001b[1;32m    422\u001b[0m         \u001b[0;32mraise\u001b[0m \u001b[0mValueError\u001b[0m\u001b[0;34m(\u001b[0m\u001b[0;34m\"Invalid packed message\"\u001b[0m\u001b[0;34m)\u001b[0m\u001b[0;34m\u001b[0m\u001b[0;34m\u001b[0m\u001b[0m\n",
      "\u001b[0;32m~/.local/lib/python3.7/site-packages/marshmallow/schema.py\u001b[0m in \u001b[0;36mloads\u001b[0;34m(self, json_data, many, partial, unknown, **kwargs)\u001b[0m\n\u001b[1;32m    707\u001b[0m             \u001b[0;32mif\u001b[0m \u001b[0minvalid\u001b[0m \u001b[0mdata\u001b[0m \u001b[0mare\u001b[0m \u001b[0mpassed\u001b[0m\u001b[0;34m.\u001b[0m\u001b[0;34m\u001b[0m\u001b[0;34m\u001b[0m\u001b[0m\n\u001b[1;32m    708\u001b[0m         \"\"\"\n\u001b[0;32m--> 709\u001b[0;31m         \u001b[0mdata\u001b[0m \u001b[0;34m=\u001b[0m \u001b[0mself\u001b[0m\u001b[0;34m.\u001b[0m\u001b[0mopts\u001b[0m\u001b[0;34m.\u001b[0m\u001b[0mrender_module\u001b[0m\u001b[0;34m.\u001b[0m\u001b[0mloads\u001b[0m\u001b[0;34m(\u001b[0m\u001b[0mjson_data\u001b[0m\u001b[0;34m,\u001b[0m \u001b[0;34m**\u001b[0m\u001b[0mkwargs\u001b[0m\u001b[0;34m)\u001b[0m\u001b[0;34m\u001b[0m\u001b[0;34m\u001b[0m\u001b[0m\n\u001b[0m\u001b[1;32m    710\u001b[0m         \u001b[0;32mreturn\u001b[0m \u001b[0mself\u001b[0m\u001b[0;34m.\u001b[0m\u001b[0mload\u001b[0m\u001b[0;34m(\u001b[0m\u001b[0mdata\u001b[0m\u001b[0;34m,\u001b[0m \u001b[0mmany\u001b[0m\u001b[0;34m=\u001b[0m\u001b[0mmany\u001b[0m\u001b[0;34m,\u001b[0m \u001b[0mpartial\u001b[0m\u001b[0;34m=\u001b[0m\u001b[0mpartial\u001b[0m\u001b[0;34m,\u001b[0m \u001b[0munknown\u001b[0m\u001b[0;34m=\u001b[0m\u001b[0munknown\u001b[0m\u001b[0;34m)\u001b[0m\u001b[0;34m\u001b[0m\u001b[0;34m\u001b[0m\u001b[0m\n\u001b[1;32m    711\u001b[0m \u001b[0;34m\u001b[0m\u001b[0m\n",
      "\u001b[0;32m/usr/lib/python3.7/json/__init__.py\u001b[0m in \u001b[0;36mloads\u001b[0;34m(s, encoding, cls, object_hook, parse_float, parse_int, parse_constant, object_pairs_hook, **kw)\u001b[0m\n\u001b[1;32m    346\u001b[0m             \u001b[0mparse_int\u001b[0m \u001b[0;32mis\u001b[0m \u001b[0;32mNone\u001b[0m \u001b[0;32mand\u001b[0m \u001b[0mparse_float\u001b[0m \u001b[0;32mis\u001b[0m \u001b[0;32mNone\u001b[0m \u001b[0;32mand\u001b[0m\u001b[0;34m\u001b[0m\u001b[0;34m\u001b[0m\u001b[0m\n\u001b[1;32m    347\u001b[0m             parse_constant is None and object_pairs_hook is None and not kw):\n\u001b[0;32m--> 348\u001b[0;31m         \u001b[0;32mreturn\u001b[0m \u001b[0m_default_decoder\u001b[0m\u001b[0;34m.\u001b[0m\u001b[0mdecode\u001b[0m\u001b[0;34m(\u001b[0m\u001b[0ms\u001b[0m\u001b[0;34m)\u001b[0m\u001b[0;34m\u001b[0m\u001b[0;34m\u001b[0m\u001b[0m\n\u001b[0m\u001b[1;32m    349\u001b[0m     \u001b[0;32mif\u001b[0m \u001b[0mcls\u001b[0m \u001b[0;32mis\u001b[0m \u001b[0;32mNone\u001b[0m\u001b[0;34m:\u001b[0m\u001b[0;34m\u001b[0m\u001b[0;34m\u001b[0m\u001b[0m\n\u001b[1;32m    350\u001b[0m         \u001b[0mcls\u001b[0m \u001b[0;34m=\u001b[0m \u001b[0mJSONDecoder\u001b[0m\u001b[0;34m\u001b[0m\u001b[0;34m\u001b[0m\u001b[0m\n",
      "\u001b[0;32m/usr/lib/python3.7/json/decoder.py\u001b[0m in \u001b[0;36mdecode\u001b[0;34m(self, s, _w)\u001b[0m\n\u001b[1;32m    335\u001b[0m \u001b[0;34m\u001b[0m\u001b[0m\n\u001b[1;32m    336\u001b[0m         \"\"\"\n\u001b[0;32m--> 337\u001b[0;31m         \u001b[0mobj\u001b[0m\u001b[0;34m,\u001b[0m \u001b[0mend\u001b[0m \u001b[0;34m=\u001b[0m \u001b[0mself\u001b[0m\u001b[0;34m.\u001b[0m\u001b[0mraw_decode\u001b[0m\u001b[0;34m(\u001b[0m\u001b[0ms\u001b[0m\u001b[0;34m,\u001b[0m \u001b[0midx\u001b[0m\u001b[0;34m=\u001b[0m\u001b[0m_w\u001b[0m\u001b[0;34m(\u001b[0m\u001b[0ms\u001b[0m\u001b[0;34m,\u001b[0m \u001b[0;36m0\u001b[0m\u001b[0;34m)\u001b[0m\u001b[0;34m.\u001b[0m\u001b[0mend\u001b[0m\u001b[0;34m(\u001b[0m\u001b[0;34m)\u001b[0m\u001b[0;34m)\u001b[0m\u001b[0;34m\u001b[0m\u001b[0;34m\u001b[0m\u001b[0m\n\u001b[0m\u001b[1;32m    338\u001b[0m         \u001b[0mend\u001b[0m \u001b[0;34m=\u001b[0m \u001b[0m_w\u001b[0m\u001b[0;34m(\u001b[0m\u001b[0ms\u001b[0m\u001b[0;34m,\u001b[0m \u001b[0mend\u001b[0m\u001b[0;34m)\u001b[0m\u001b[0;34m.\u001b[0m\u001b[0mend\u001b[0m\u001b[0;34m(\u001b[0m\u001b[0;34m)\u001b[0m\u001b[0;34m\u001b[0m\u001b[0;34m\u001b[0m\u001b[0m\n\u001b[1;32m    339\u001b[0m         \u001b[0;32mif\u001b[0m \u001b[0mend\u001b[0m \u001b[0;34m!=\u001b[0m \u001b[0mlen\u001b[0m\u001b[0;34m(\u001b[0m\u001b[0ms\u001b[0m\u001b[0;34m)\u001b[0m\u001b[0;34m:\u001b[0m\u001b[0;34m\u001b[0m\u001b[0;34m\u001b[0m\u001b[0m\n",
      "\u001b[0;32m/usr/lib/python3.7/json/decoder.py\u001b[0m in \u001b[0;36mraw_decode\u001b[0;34m(self, s, idx)\u001b[0m\n\u001b[1;32m    353\u001b[0m             \u001b[0mobj\u001b[0m\u001b[0;34m,\u001b[0m \u001b[0mend\u001b[0m \u001b[0;34m=\u001b[0m \u001b[0mself\u001b[0m\u001b[0;34m.\u001b[0m\u001b[0mscan_once\u001b[0m\u001b[0;34m(\u001b[0m\u001b[0ms\u001b[0m\u001b[0;34m,\u001b[0m \u001b[0midx\u001b[0m\u001b[0;34m)\u001b[0m\u001b[0;34m\u001b[0m\u001b[0;34m\u001b[0m\u001b[0m\n\u001b[1;32m    354\u001b[0m         \u001b[0;32mexcept\u001b[0m \u001b[0mStopIteration\u001b[0m \u001b[0;32mas\u001b[0m \u001b[0merr\u001b[0m\u001b[0;34m:\u001b[0m\u001b[0;34m\u001b[0m\u001b[0;34m\u001b[0m\u001b[0m\n\u001b[0;32m--> 355\u001b[0;31m             \u001b[0;32mraise\u001b[0m \u001b[0mJSONDecodeError\u001b[0m\u001b[0;34m(\u001b[0m\u001b[0;34m\"Expecting value\"\u001b[0m\u001b[0;34m,\u001b[0m \u001b[0ms\u001b[0m\u001b[0;34m,\u001b[0m \u001b[0merr\u001b[0m\u001b[0;34m.\u001b[0m\u001b[0mvalue\u001b[0m\u001b[0;34m)\u001b[0m \u001b[0;32mfrom\u001b[0m \u001b[0;32mNone\u001b[0m\u001b[0;34m\u001b[0m\u001b[0;34m\u001b[0m\u001b[0m\n\u001b[0m\u001b[1;32m    356\u001b[0m         \u001b[0;32mreturn\u001b[0m \u001b[0mobj\u001b[0m\u001b[0;34m,\u001b[0m \u001b[0mend\u001b[0m\u001b[0;34m\u001b[0m\u001b[0;34m\u001b[0m\u001b[0m\n",
      "\u001b[0;31mJSONDecodeError\u001b[0m: Expecting value: line 1 column 1 (char 0)"
     ]
    }
   ],
   "source": [
    "# this works but is not handled well on toolbox side\n",
    "def registerDidOnLedger(agent,verkey,alias=None,role=None):\n",
    "    message = util.buildMessage(\n",
    "        \"did:sov:BzCbsNYhMrjHiqZDTUASHg;spec/admin-dids/0.1/register-did\",\n",
    "        did=did,\n",
    "        verkey=verkey\n",
    "    )\n",
    "    return util.sendMessage(message, agent\n",
    "\n",
    "pp.pprint(registerDidOnLedger(connections[0], \"7JQ2X2Gwh2p5ZZivz4kiev\", \"4S9vLXq5FRw56brvM4dqH2UENNrmWbYNbucfhJFaEcWz\"))"
   ]
  },
  {
   "cell_type": "code",
   "execution_count": 70,
   "metadata": {},
   "outputs": [
    {
     "name": "stdout",
     "output_type": "stream",
     "text": [
      "{'@id': '91cdb27f-bc84-4bc3-8359-e6861e35dbb3',\n",
      " '@type': 'did:sov:BzCbsNYhMrjHiqZDTUASHg;spec/admin-connections/0.1/ack',\n",
      " '~thread': {'thid': 'af76a6a1-3f2f-4b64-b276-ec736bf7b745'}}\n"
     ]
    }
   ],
   "source": [
    "def deleteConnection(agent, connection_id):\n",
    "    message = util.buildMessage(\n",
    "        'did:sov:BzCbsNYhMrjHiqZDTUASHg;spec/admin-connections/0.1/delete',\n",
    "        connection_id=connection_id\n",
    "    )\n",
    "    return util.sendMessage(message, agent)\n",
    "\n",
    "pp.pprint(deleteConnection(connections[1], '31e42ba3-99e8-4404-9003-9a115a4f7153'))\n"
   ]
  },
  {
   "cell_type": "code",
   "execution_count": null,
   "metadata": {},
   "outputs": [],
   "source": []
  }
 ],
 "metadata": {
  "kernelspec": {
   "display_name": "Python 3",
   "language": "python",
   "name": "python3"
  },
  "language_info": {
   "codemirror_mode": {
    "name": "ipython",
    "version": 3
   },
   "file_extension": ".py",
   "mimetype": "text/x-python",
   "name": "python",
   "nbconvert_exporter": "python",
   "pygments_lexer": "ipython3",
   "version": "3.7.5"
  }
 },
 "nbformat": 4,
 "nbformat_minor": 4
}
