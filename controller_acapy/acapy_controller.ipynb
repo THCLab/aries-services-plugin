{
 "cells": [
  {
   "cell_type": "code",
   "execution_count": 47,
   "metadata": {},
   "outputs": [
    {
     "data": {
      "text/plain": [
       "<module 'jupyter_util' from '/home/sevni/Documents/thclab/aries/aries-acapy-plugin/controller_acapy/jupyter_util.py'>"
      ]
     },
     "execution_count": 47,
     "metadata": {},
     "output_type": "execute_result"
    }
   ],
   "source": [
    "import requests \n",
    "import json\n",
    "import pprint as pp # pretty print\n",
    "\n",
    "import aries_cloudagent.wallet.crypto as crypto\n",
    "import base64\n",
    "import base58\n",
    "import uuid\n",
    "import jupyter_util as util\n",
    "from importlib import reload\n",
    "reload(util)"
   ]
  },
  {
   "cell_type": "markdown",
   "metadata": {},
   "source": [
    "## Enter Invite Url:"
   ]
  },
  {
   "cell_type": "code",
   "execution_count": 48,
   "metadata": {},
   "outputs": [
    {
     "name": "stdout",
     "output_type": "stream",
     "text": [
      "http://agent1.localhost?c_i=eyJAdHlwZSI6ICJkaWQ6c292OkJ6Q2JzTlloTXJqSGlxWkRUVUFTSGc7c3BlYy9jb25uZWN0aW9ucy8xLjAvaW52aXRhdGlvbiIsICJAaWQiOiAiMWM1MzU2M2ItMWNlMS00ZjJhLTg3NDMtMzVhZmI1OTNjMTY0IiwgInNlcnZpY2VFbmRwb2ludCI6ICJodHRwOi8vYWdlbnQxLmxvY2FsaG9zdCIsICJyZWNpcGllbnRLZXlzIjogWyI2SGpUcDZvTHBDUnNOUkZDUjY5ZUFWQ1hvYXdrNlJ3SlBIQzNNdmJoeVZudSJdLCAibGFiZWwiOiAiTWFpbiAoYWRtaW4pIn0=\n"
     ]
    }
   ],
   "source": [
    "agent1 = {}\n",
    "plugin = {}\n",
    "endpoint = \"http://localhost:8150/connections/create-admin-invitation-url\"\n",
    "adminInvitationResponse = requests.post(endpoint)\n",
    "adminInvitationResponse = adminInvitationResponse.text\n",
    "agent1['url'] = json.loads(adminInvitationResponse)['invitation_url']\n",
    "print(agent1['url'])"
   ]
  },
  {
   "cell_type": "code",
   "execution_count": 49,
   "metadata": {
    "scrolled": true
   },
   "outputs": [
    {
     "name": "stdout",
     "output_type": "stream",
     "text": [
      "http://agent2.localhost?c_i=eyJAdHlwZSI6ICJkaWQ6c292OkJ6Q2JzTlloTXJqSGlxWkRUVUFTSGc7c3BlYy9jb25uZWN0aW9ucy8xLjAvaW52aXRhdGlvbiIsICJAaWQiOiAiZGQ2ODRiZTktNGZlZi00MzhjLWE2ZGItYWJhMDE4YmMzZGIxIiwgInNlcnZpY2VFbmRwb2ludCI6ICJodHRwOi8vYWdlbnQyLmxvY2FsaG9zdCIsICJyZWNpcGllbnRLZXlzIjogWyI5UjIzQ0dvZGN3UkFUQjV2aEJweFBGdkw5dWl6SERTZ3QzM1pUdlFVbjk3YSJdLCAibGFiZWwiOiAiQ2xpZW50IChhZG1pbikifQ==\n"
     ]
    }
   ],
   "source": [
    "agent2 = {}\n",
    "endpoint = \"http://localhost:8151/connections/create-admin-invitation-url\"\n",
    "adminInvitationResponse = requests.post(endpoint)\n",
    "adminInvitationResponse = adminInvitationResponse.text\n",
    "agent2['url'] = json.loads(adminInvitationResponse)['invitation_url']\n",
    "print(agent2['url'])"
   ]
  },
  {
   "cell_type": "code",
   "execution_count": 50,
   "metadata": {
    "scrolled": true
   },
   "outputs": [
    {
     "name": "stdout",
     "output_type": "stream",
     "text": [
      "Decoded invitation:\n",
      "\n",
      "{'@id': 'dd684be9-4fef-438c-a6db-aba018bc3db1',\n",
      " '@type': 'did:sov:BzCbsNYhMrjHiqZDTUASHg;spec/connections/1.0/invitation',\n",
      " 'label': 'Client (admin)',\n",
      " 'recipientKeys': ['9R23CGodcwRATB5vhBpxPFvL9uizHDSgt33ZTvQUn97a'],\n",
      " 'serviceEndpoint': 'http://agent2.localhost'}\n"
     ]
    }
   ],
   "source": [
    "agent1 = util.processInviteUrl(agent1['url'])\n",
    "agent2 = util.processInviteUrl(agent2['url'])\n",
    "print(\"Decoded invitation:\\n\")\n",
    "pp.pprint(agent2['invite'])"
   ]
  },
  {
   "cell_type": "code",
   "execution_count": 51,
   "metadata": {
    "scrolled": true
   },
   "outputs": [
    {
     "name": "stdout",
     "output_type": "stream",
     "text": [
      "Private key: \n",
      " 3HcsNeByCMCsvqVXm5Zc3mMa69WxjrqXRrmccERjhiCcvbXBe5sDhEDNZXQ8DXuo5v1TREmzwwTprYqCUaHQZY2b\n",
      "\n",
      "Public key: \n",
      " ByJjrACzCUqjWQBjbAZaiopAJE1A4gTdP8MH8iNWHL5d\n"
     ]
    }
   ],
   "source": [
    "### Generating a did key using aries crypto module\n",
    "# Create a key pair with random seed \n",
    "# Order: 0 - public key, 1 - secret / pritvate key\n",
    "plugin['keypair'] = crypto.create_keypair()\n",
    "# it seems to me that did is an encoded sub string of public key\n",
    "# or maybe just some arbitrary random number\n",
    "did = plugin['keypair'][0][:16]\n",
    "# final version of our did\n",
    "plugin['did'] = base58.b58encode(did).decode(\"ascii\")\n",
    "# encoding keys to base58\n",
    "plugin['public_key_b58'] = \\\n",
    "    base58.b58encode(plugin['keypair'][0]).decode(\"ascii\")\n",
    "plugin['private_key_b58'] = \\\n",
    "    base58.b58encode(plugin['keypair'][1]).decode(\"ascii\")\n",
    "\n",
    "print(\"Private key: \\n\", plugin['private_key_b58'])\n",
    "print(\"\\nPublic key: \\n\", plugin['public_key_b58'])"
   ]
  },
  {
   "cell_type": "markdown",
   "metadata": {},
   "source": [
    "**Sending a connection request to acapy**"
   ]
  },
  {
   "cell_type": "code",
   "execution_count": 52,
   "metadata": {
    "scrolled": false
   },
   "outputs": [],
   "source": [
    "agent1['connection'] = util.connectWithAcapy(agent1, plugin)\n",
    "agent2['connection'] = util.connectWithAcapy(agent2, plugin)\n",
    "# print(\"Decoded acapy response: \\n\")\n",
    "# pp.pprint(agent1['conn'])"
   ]
  },
  {
   "cell_type": "markdown",
   "metadata": {},
   "source": [
    "**Unpacking connection data embedded in the response**"
   ]
  },
  {
   "cell_type": "code",
   "execution_count": 53,
   "metadata": {
    "scrolled": true
   },
   "outputs": [],
   "source": [
    "agent1['connection_details'] = util.decodeConnectionDetails(agent1['connection'])\n",
    "agent2['connection_details'] = util.decodeConnectionDetails(agent2['connection'])"
   ]
  },
  {
   "cell_type": "markdown",
   "metadata": {},
   "source": [
    "**Adding the connection to connection list**"
   ]
  },
  {
   "cell_type": "code",
   "execution_count": 54,
   "metadata": {
    "scrolled": true
   },
   "outputs": [],
   "source": [
    "agents = [\n",
    "    {\n",
    "        \"label\": agent1['invite']['label'],\n",
    "        \"DIDDoc\": agent1['connection_details']['DIDDoc'],\n",
    "        \"myKey\": plugin['keypair'][1]\n",
    "    },\n",
    "    {\n",
    "        \"label\": agent2['invite']['label'],\n",
    "        \"DIDDoc\": agent2['connection_details']['DIDDoc'],\n",
    "        \"myKey\": plugin['keypair'][1]\n",
    "    },\n",
    "]\n",
    "\n",
    "# pp.pprint(connections)"
   ]
  },
  {
   "cell_type": "markdown",
   "metadata": {},
   "source": [
    "### FEATURE DISCOVERY"
   ]
  },
  {
   "cell_type": "code",
   "execution_count": 58,
   "metadata": {},
   "outputs": [
    {
     "name": "stdout",
     "output_type": "stream",
     "text": [
      "{'@id': '67ec276b-cc7c-4508-8b72-e5b473e788a6',\n",
      " '@type': 'did:sov:BzCbsNYhMrjHiqZDTUASHg;spec/discover-features/1.0/disclose',\n",
      " 'protocols': [{'pid': 'https://didcomm.org/present-proof/1.0'},\n",
      "               {'pid': 'https://github.com/hyperledger/aries-toolbox/tree/master/docs/admin-payments/0.1'},\n",
      "               {'pid': 'did:sov:BzCbsNYhMrjHiqZDTUASHg;spec/admin-connections/0.1'},\n",
      "               {'pid': 'https://github.com/hyperledger/aries-toolbox/tree/master/docs/admin-invitations/0.1'},\n",
      "               {'pid': 'did:sov:BzCbsNYhMrjHiqZDTUASHg;spec/discover-features/1.0'},\n",
      "               {'pid': 'https://didcomm.org/action-menu/1.0'},\n",
      "               {'pid': 'did:sov:BzCbsNYhMrjHiqZDTUASHg;spec/action-menu/1.0',\n",
      "                'roles': ['provider']},\n",
      "               {'pid': 'did:sov:BzCbsNYhMrjHiqZDTUASHg;spec/introduction-service/0.1'},\n",
      "               {'pid': 'did:sov:BzCbsNYhMrjHiqZDTUASHg;spec/routing/1.0'},\n",
      "               {'pid': 'https://github.com/hyperledger/aries-toolbox/tree/master/docs/admin-basicmessage/0.1'},\n",
      "               {'pid': 'https://didcomm.org/introduction-service/0.1'},\n",
      "               {'pid': 'https://didcomm.org/issue-credential/1.0'},\n",
      "               {'pid': 'https://didcomm.org/basicmessage/1.0'},\n",
      "               {'pid': 'https://didcomm.org/discover-features/1.0'},\n",
      "               {'pid': 'did:sov:BzCbsNYhMrjHiqZDTUASHg;spec/admin-schemas/0.1'},\n",
      "               {'pid': 'did:sov:BzCbsNYhMrjHiqZDTUASHg;spec/connections/1.0'},\n",
      "               {'pid': 'did:sov:BzCbsNYhMrjHiqZDTUASHg;spec/admin-dids/0.1'},\n",
      "               {'pid': 'did:sov:BzCbsNYhMrjHiqZDTUASHg;spec/admin-static-connections/0.1'},\n",
      "               {'pid': 'did:sov:BzCbsNYhMrjHiqZDTUASHg;spec/admin-credential-definitions/0.1'},\n",
      "               {'pid': 'did:sov:BzCbsNYhMrjHiqZDTUASHg;spec/trust_ping/1.0'},\n",
      "               {'pid': 'did:sov:BzCbsNYhMrjHiqZDTUASHg;spec/notification/1.0'},\n",
      "               {'pid': 'did:sov:BzCbsNYhMrjHiqZDTUASHg;spec/admin-issuer/0.1'},\n",
      "               {'pid': 'https://didcomm.org/routing/1.0'},\n",
      "               {'pid': 'https://didcomm.org/notification/1.0'},\n",
      "               {'pid': 'did:sov:BzCbsNYhMrjHiqZDTUASHg;spec/admin-holder/0.1'},\n",
      "               {'pid': 'https://didcomm.org/connections/1.0'},\n",
      "               {'pid': 'https://github.com/hyperledger/aries-toolbox/tree/master/docs/admin-taa/0.1'},\n",
      "               {'pid': 'did:sov:BzCbsNYhMrjHiqZDTUASHg;spec/basicmessage/1.0'},\n",
      "               {'pid': 'https://didcomm.org/trust_ping/1.0'},\n",
      "               {'pid': 'did:sov:BzCbsNYhMrjHiqZDTUASHg;spec/schema-exchange/1.0'},\n",
      "               {'pid': 'https://github.com/hyperledger/aries-toolbox/tree/master/docs/admin-connections/0.1'},\n",
      "               {'pid': 'did:sov:BzCbsNYhMrjHiqZDTUASHg;spec/present-proof/1.0'},\n",
      "               {'pid': 'did:sov:BzCbsNYhMrjHiqZDTUASHg;spec/issue-credential/1.0'}],\n",
      " '~thread': {'thid': 'ff9c3392-9ce8-4a3f-9b5d-ab221ead4d39'}}\n"
     ]
    }
   ],
   "source": [
    "pp.pprint(util.getFeatureDiscovery(agents[0]))"
   ]
  },
  {
   "cell_type": "code",
   "execution_count": null,
   "metadata": {},
   "outputs": [],
   "source": []
  },
  {
   "cell_type": "markdown",
   "metadata": {},
   "source": [
    "### Notes\n",
    "\n",
    "* To receive invitation use \"new connections\" protocol \"receive invitation\"\n",
    "* To create invitation use create invitation from \"invitations\" protocol"
   ]
  },
  {
   "cell_type": "markdown",
   "metadata": {},
   "source": [
    "### Done\n",
    "* create invitation\n",
    "* receive invitation\n",
    "* basic message\n",
    "    * get\n",
    "    * send\n",
    "    * basic message\n",
    "    * deletes\n",
    "* dids\n",
    "    * list dids\n",
    "    \n",
    "\n",
    "### Todo\n",
    "* basic message sorting\n",
    "* add problem report for did on ledger\n",
    "* add problem report for schema send"
   ]
  },
  {
   "cell_type": "code",
   "execution_count": 56,
   "metadata": {},
   "outputs": [],
   "source": [
    "# message = util.buildMessage(\n",
    "#         'did:sov:BzCbsNYhMrjHiqZDTUASHg;spec/admin-connections/0.1/create-invitation',\n",
    "#         label=\"ConnectionBetweenAgents\",\n",
    "#         auto_accept='auto',\n",
    "#         alias=\"agent1ToAgent2\"\n",
    "#     )\n",
    "# createInvitation = util.sendMessage(message, agents[0])"
   ]
  },
  {
   "cell_type": "code",
   "execution_count": 57,
   "metadata": {},
   "outputs": [],
   "source": [
    "# createInvitation"
   ]
  },
  {
   "cell_type": "code",
   "execution_count": 64,
   "metadata": {},
   "outputs": [
    {
     "ename": "KeyboardInterrupt",
     "evalue": "",
     "output_type": "error",
     "traceback": [
      "\u001b[0;31m---------------------------------------------------------------------------\u001b[0m",
      "\u001b[0;31mTypeError\u001b[0m                                 Traceback (most recent call last)",
      "\u001b[0;32m/usr/lib/python3/dist-packages/urllib3/connectionpool.py\u001b[0m in \u001b[0;36m_make_request\u001b[0;34m(self, conn, method, url, timeout, chunked, **httplib_request_kw)\u001b[0m\n\u001b[1;32m    376\u001b[0m             \u001b[0;32mtry\u001b[0m\u001b[0;34m:\u001b[0m  \u001b[0;31m# Python 2.7, use buffering of HTTP responses\u001b[0m\u001b[0;34m\u001b[0m\u001b[0;34m\u001b[0m\u001b[0m\n\u001b[0;32m--> 377\u001b[0;31m                 \u001b[0mhttplib_response\u001b[0m \u001b[0;34m=\u001b[0m \u001b[0mconn\u001b[0m\u001b[0;34m.\u001b[0m\u001b[0mgetresponse\u001b[0m\u001b[0;34m(\u001b[0m\u001b[0mbuffering\u001b[0m\u001b[0;34m=\u001b[0m\u001b[0;32mTrue\u001b[0m\u001b[0;34m)\u001b[0m\u001b[0;34m\u001b[0m\u001b[0;34m\u001b[0m\u001b[0m\n\u001b[0m\u001b[1;32m    378\u001b[0m             \u001b[0;32mexcept\u001b[0m \u001b[0mTypeError\u001b[0m\u001b[0;34m:\u001b[0m  \u001b[0;31m# Python 3\u001b[0m\u001b[0;34m\u001b[0m\u001b[0;34m\u001b[0m\u001b[0m\n",
      "\u001b[0;31mTypeError\u001b[0m: getresponse() got an unexpected keyword argument 'buffering'",
      "\nDuring handling of the above exception, another exception occurred:\n",
      "\u001b[0;31mKeyboardInterrupt\u001b[0m                         Traceback (most recent call last)",
      "\u001b[0;32m<ipython-input-64-f86b496cd311>\u001b[0m in \u001b[0;36m<module>\u001b[0;34m\u001b[0m\n\u001b[1;32m      3\u001b[0m         \u001b[0mpayload\u001b[0m\u001b[0;34m=\u001b[0m\u001b[0;34m\"asdasdad\"\u001b[0m\u001b[0;34m\u001b[0m\u001b[0;34m\u001b[0m\u001b[0m\n\u001b[1;32m      4\u001b[0m     )\n\u001b[0;32m----> 5\u001b[0;31m \u001b[0mschemaExchange\u001b[0m \u001b[0;34m=\u001b[0m \u001b[0mutil\u001b[0m\u001b[0;34m.\u001b[0m\u001b[0msendMessage\u001b[0m\u001b[0;34m(\u001b[0m\u001b[0mmessage\u001b[0m\u001b[0;34m,\u001b[0m \u001b[0magents\u001b[0m\u001b[0;34m[\u001b[0m\u001b[0;36m0\u001b[0m\u001b[0;34m]\u001b[0m\u001b[0;34m)\u001b[0m\u001b[0;34m\u001b[0m\u001b[0;34m\u001b[0m\u001b[0m\n\u001b[0m",
      "\u001b[0;32m~/Documents/thclab/aries/aries-acapy-plugin/controller_acapy/jupyter_util.py\u001b[0m in \u001b[0;36msendMessage\u001b[0;34m(message, connection)\u001b[0m\n\u001b[1;32m    132\u001b[0m     \u001b[0mencodedMessage\u001b[0m \u001b[0;34m=\u001b[0m \u001b[0mpackMessage\u001b[0m\u001b[0;34m(\u001b[0m\u001b[0mmessage\u001b[0m\u001b[0;34m,\u001b[0m \u001b[0mconnection\u001b[0m\u001b[0;34m)\u001b[0m\u001b[0;34m\u001b[0m\u001b[0;34m\u001b[0m\u001b[0m\n\u001b[1;32m    133\u001b[0m     \u001b[0mendpoint\u001b[0m \u001b[0;34m=\u001b[0m \u001b[0mconnection\u001b[0m\u001b[0;34m[\u001b[0m\u001b[0;34m'DIDDoc'\u001b[0m\u001b[0;34m]\u001b[0m\u001b[0;34m[\u001b[0m\u001b[0;34m'service'\u001b[0m\u001b[0;34m]\u001b[0m\u001b[0;34m[\u001b[0m\u001b[0;36m0\u001b[0m\u001b[0;34m]\u001b[0m\u001b[0;34m[\u001b[0m\u001b[0;34m'serviceEndpoint'\u001b[0m\u001b[0;34m]\u001b[0m\u001b[0;34m\u001b[0m\u001b[0;34m\u001b[0m\u001b[0m\n\u001b[0;32m--> 134\u001b[0;31m     \u001b[0mresponse\u001b[0m \u001b[0;34m=\u001b[0m \u001b[0mrequests\u001b[0m\u001b[0;34m.\u001b[0m\u001b[0mpost\u001b[0m\u001b[0;34m(\u001b[0m\u001b[0mendpoint\u001b[0m\u001b[0;34m,\u001b[0m \u001b[0mdata\u001b[0m\u001b[0;34m=\u001b[0m\u001b[0mencodedMessage\u001b[0m\u001b[0;34m)\u001b[0m\u001b[0;34m\u001b[0m\u001b[0;34m\u001b[0m\u001b[0m\n\u001b[0m\u001b[1;32m    135\u001b[0m     \u001b[0mresponseDecoded\u001b[0m \u001b[0;34m=\u001b[0m \u001b[0munpackMessage\u001b[0m\u001b[0;34m(\u001b[0m\u001b[0mresponse\u001b[0m\u001b[0;34m.\u001b[0m\u001b[0mtext\u001b[0m\u001b[0;34m,\u001b[0m \u001b[0mconnection\u001b[0m\u001b[0;34m[\u001b[0m\u001b[0;34m'myKey'\u001b[0m\u001b[0;34m]\u001b[0m\u001b[0;34m)\u001b[0m\u001b[0;34m\u001b[0m\u001b[0;34m\u001b[0m\u001b[0m\n\u001b[1;32m    136\u001b[0m     \u001b[0mresponseDecoded\u001b[0m \u001b[0;34m=\u001b[0m \u001b[0mjson\u001b[0m\u001b[0;34m.\u001b[0m\u001b[0mloads\u001b[0m\u001b[0;34m(\u001b[0m\u001b[0mresponseDecoded\u001b[0m\u001b[0;34m[\u001b[0m\u001b[0;36m0\u001b[0m\u001b[0;34m]\u001b[0m\u001b[0;34m)\u001b[0m\u001b[0;34m\u001b[0m\u001b[0;34m\u001b[0m\u001b[0m\n",
      "\u001b[0;32m~/.local/lib/python3.7/site-packages/requests/api.py\u001b[0m in \u001b[0;36mpost\u001b[0;34m(url, data, json, **kwargs)\u001b[0m\n\u001b[1;32m    117\u001b[0m     \"\"\"\n\u001b[1;32m    118\u001b[0m \u001b[0;34m\u001b[0m\u001b[0m\n\u001b[0;32m--> 119\u001b[0;31m     \u001b[0;32mreturn\u001b[0m \u001b[0mrequest\u001b[0m\u001b[0;34m(\u001b[0m\u001b[0;34m'post'\u001b[0m\u001b[0;34m,\u001b[0m \u001b[0murl\u001b[0m\u001b[0;34m,\u001b[0m \u001b[0mdata\u001b[0m\u001b[0;34m=\u001b[0m\u001b[0mdata\u001b[0m\u001b[0;34m,\u001b[0m \u001b[0mjson\u001b[0m\u001b[0;34m=\u001b[0m\u001b[0mjson\u001b[0m\u001b[0;34m,\u001b[0m \u001b[0;34m**\u001b[0m\u001b[0mkwargs\u001b[0m\u001b[0;34m)\u001b[0m\u001b[0;34m\u001b[0m\u001b[0;34m\u001b[0m\u001b[0m\n\u001b[0m\u001b[1;32m    120\u001b[0m \u001b[0;34m\u001b[0m\u001b[0m\n\u001b[1;32m    121\u001b[0m \u001b[0;34m\u001b[0m\u001b[0m\n",
      "\u001b[0;32m~/.local/lib/python3.7/site-packages/requests/api.py\u001b[0m in \u001b[0;36mrequest\u001b[0;34m(method, url, **kwargs)\u001b[0m\n\u001b[1;32m     59\u001b[0m     \u001b[0;31m# cases, and look like a memory leak in others.\u001b[0m\u001b[0;34m\u001b[0m\u001b[0;34m\u001b[0m\u001b[0;34m\u001b[0m\u001b[0m\n\u001b[1;32m     60\u001b[0m     \u001b[0;32mwith\u001b[0m \u001b[0msessions\u001b[0m\u001b[0;34m.\u001b[0m\u001b[0mSession\u001b[0m\u001b[0;34m(\u001b[0m\u001b[0;34m)\u001b[0m \u001b[0;32mas\u001b[0m \u001b[0msession\u001b[0m\u001b[0;34m:\u001b[0m\u001b[0;34m\u001b[0m\u001b[0;34m\u001b[0m\u001b[0m\n\u001b[0;32m---> 61\u001b[0;31m         \u001b[0;32mreturn\u001b[0m \u001b[0msession\u001b[0m\u001b[0;34m.\u001b[0m\u001b[0mrequest\u001b[0m\u001b[0;34m(\u001b[0m\u001b[0mmethod\u001b[0m\u001b[0;34m=\u001b[0m\u001b[0mmethod\u001b[0m\u001b[0;34m,\u001b[0m \u001b[0murl\u001b[0m\u001b[0;34m=\u001b[0m\u001b[0murl\u001b[0m\u001b[0;34m,\u001b[0m \u001b[0;34m**\u001b[0m\u001b[0mkwargs\u001b[0m\u001b[0;34m)\u001b[0m\u001b[0;34m\u001b[0m\u001b[0;34m\u001b[0m\u001b[0m\n\u001b[0m\u001b[1;32m     62\u001b[0m \u001b[0;34m\u001b[0m\u001b[0m\n\u001b[1;32m     63\u001b[0m \u001b[0;34m\u001b[0m\u001b[0m\n",
      "\u001b[0;32m~/.local/lib/python3.7/site-packages/requests/sessions.py\u001b[0m in \u001b[0;36mrequest\u001b[0;34m(self, method, url, params, data, headers, cookies, files, auth, timeout, allow_redirects, proxies, hooks, stream, verify, cert, json)\u001b[0m\n\u001b[1;32m    528\u001b[0m         }\n\u001b[1;32m    529\u001b[0m         \u001b[0msend_kwargs\u001b[0m\u001b[0;34m.\u001b[0m\u001b[0mupdate\u001b[0m\u001b[0;34m(\u001b[0m\u001b[0msettings\u001b[0m\u001b[0;34m)\u001b[0m\u001b[0;34m\u001b[0m\u001b[0;34m\u001b[0m\u001b[0m\n\u001b[0;32m--> 530\u001b[0;31m         \u001b[0mresp\u001b[0m \u001b[0;34m=\u001b[0m \u001b[0mself\u001b[0m\u001b[0;34m.\u001b[0m\u001b[0msend\u001b[0m\u001b[0;34m(\u001b[0m\u001b[0mprep\u001b[0m\u001b[0;34m,\u001b[0m \u001b[0;34m**\u001b[0m\u001b[0msend_kwargs\u001b[0m\u001b[0;34m)\u001b[0m\u001b[0;34m\u001b[0m\u001b[0;34m\u001b[0m\u001b[0m\n\u001b[0m\u001b[1;32m    531\u001b[0m \u001b[0;34m\u001b[0m\u001b[0m\n\u001b[1;32m    532\u001b[0m         \u001b[0;32mreturn\u001b[0m \u001b[0mresp\u001b[0m\u001b[0;34m\u001b[0m\u001b[0;34m\u001b[0m\u001b[0m\n",
      "\u001b[0;32m~/.local/lib/python3.7/site-packages/requests/sessions.py\u001b[0m in \u001b[0;36msend\u001b[0;34m(self, request, **kwargs)\u001b[0m\n\u001b[1;32m    641\u001b[0m \u001b[0;34m\u001b[0m\u001b[0m\n\u001b[1;32m    642\u001b[0m         \u001b[0;31m# Send the request\u001b[0m\u001b[0;34m\u001b[0m\u001b[0;34m\u001b[0m\u001b[0;34m\u001b[0m\u001b[0m\n\u001b[0;32m--> 643\u001b[0;31m         \u001b[0mr\u001b[0m \u001b[0;34m=\u001b[0m \u001b[0madapter\u001b[0m\u001b[0;34m.\u001b[0m\u001b[0msend\u001b[0m\u001b[0;34m(\u001b[0m\u001b[0mrequest\u001b[0m\u001b[0;34m,\u001b[0m \u001b[0;34m**\u001b[0m\u001b[0mkwargs\u001b[0m\u001b[0;34m)\u001b[0m\u001b[0;34m\u001b[0m\u001b[0;34m\u001b[0m\u001b[0m\n\u001b[0m\u001b[1;32m    644\u001b[0m \u001b[0;34m\u001b[0m\u001b[0m\n\u001b[1;32m    645\u001b[0m         \u001b[0;31m# Total elapsed time of the request (approximately)\u001b[0m\u001b[0;34m\u001b[0m\u001b[0;34m\u001b[0m\u001b[0;34m\u001b[0m\u001b[0m\n",
      "\u001b[0;32m~/.local/lib/python3.7/site-packages/requests/adapters.py\u001b[0m in \u001b[0;36msend\u001b[0;34m(self, request, stream, timeout, verify, cert, proxies)\u001b[0m\n\u001b[1;32m    447\u001b[0m                     \u001b[0mdecode_content\u001b[0m\u001b[0;34m=\u001b[0m\u001b[0;32mFalse\u001b[0m\u001b[0;34m,\u001b[0m\u001b[0;34m\u001b[0m\u001b[0;34m\u001b[0m\u001b[0m\n\u001b[1;32m    448\u001b[0m                     \u001b[0mretries\u001b[0m\u001b[0;34m=\u001b[0m\u001b[0mself\u001b[0m\u001b[0;34m.\u001b[0m\u001b[0mmax_retries\u001b[0m\u001b[0;34m,\u001b[0m\u001b[0;34m\u001b[0m\u001b[0;34m\u001b[0m\u001b[0m\n\u001b[0;32m--> 449\u001b[0;31m                     \u001b[0mtimeout\u001b[0m\u001b[0;34m=\u001b[0m\u001b[0mtimeout\u001b[0m\u001b[0;34m\u001b[0m\u001b[0;34m\u001b[0m\u001b[0m\n\u001b[0m\u001b[1;32m    450\u001b[0m                 )\n\u001b[1;32m    451\u001b[0m \u001b[0;34m\u001b[0m\u001b[0m\n",
      "\u001b[0;32m/usr/lib/python3/dist-packages/urllib3/connectionpool.py\u001b[0m in \u001b[0;36murlopen\u001b[0;34m(self, method, url, body, headers, retries, redirect, assert_same_host, timeout, pool_timeout, release_conn, chunked, body_pos, **response_kw)\u001b[0m\n\u001b[1;32m    598\u001b[0m                                                   \u001b[0mtimeout\u001b[0m\u001b[0;34m=\u001b[0m\u001b[0mtimeout_obj\u001b[0m\u001b[0;34m,\u001b[0m\u001b[0;34m\u001b[0m\u001b[0;34m\u001b[0m\u001b[0m\n\u001b[1;32m    599\u001b[0m                                                   \u001b[0mbody\u001b[0m\u001b[0;34m=\u001b[0m\u001b[0mbody\u001b[0m\u001b[0;34m,\u001b[0m \u001b[0mheaders\u001b[0m\u001b[0;34m=\u001b[0m\u001b[0mheaders\u001b[0m\u001b[0;34m,\u001b[0m\u001b[0;34m\u001b[0m\u001b[0;34m\u001b[0m\u001b[0m\n\u001b[0;32m--> 600\u001b[0;31m                                                   chunked=chunked)\n\u001b[0m\u001b[1;32m    601\u001b[0m \u001b[0;34m\u001b[0m\u001b[0m\n\u001b[1;32m    602\u001b[0m             \u001b[0;31m# If we're going to release the connection in ``finally:``, then\u001b[0m\u001b[0;34m\u001b[0m\u001b[0;34m\u001b[0m\u001b[0;34m\u001b[0m\u001b[0m\n",
      "\u001b[0;32m/usr/lib/python3/dist-packages/urllib3/connectionpool.py\u001b[0m in \u001b[0;36m_make_request\u001b[0;34m(self, conn, method, url, timeout, chunked, **httplib_request_kw)\u001b[0m\n\u001b[1;32m    378\u001b[0m             \u001b[0;32mexcept\u001b[0m \u001b[0mTypeError\u001b[0m\u001b[0;34m:\u001b[0m  \u001b[0;31m# Python 3\u001b[0m\u001b[0;34m\u001b[0m\u001b[0;34m\u001b[0m\u001b[0m\n\u001b[1;32m    379\u001b[0m                 \u001b[0;32mtry\u001b[0m\u001b[0;34m:\u001b[0m\u001b[0;34m\u001b[0m\u001b[0;34m\u001b[0m\u001b[0m\n\u001b[0;32m--> 380\u001b[0;31m                     \u001b[0mhttplib_response\u001b[0m \u001b[0;34m=\u001b[0m \u001b[0mconn\u001b[0m\u001b[0;34m.\u001b[0m\u001b[0mgetresponse\u001b[0m\u001b[0;34m(\u001b[0m\u001b[0;34m)\u001b[0m\u001b[0;34m\u001b[0m\u001b[0;34m\u001b[0m\u001b[0m\n\u001b[0m\u001b[1;32m    381\u001b[0m                 \u001b[0;32mexcept\u001b[0m \u001b[0mException\u001b[0m \u001b[0;32mas\u001b[0m \u001b[0me\u001b[0m\u001b[0;34m:\u001b[0m\u001b[0;34m\u001b[0m\u001b[0;34m\u001b[0m\u001b[0m\n\u001b[1;32m    382\u001b[0m                     \u001b[0;31m# Remove the TypeError from the exception chain in Python 3;\u001b[0m\u001b[0;34m\u001b[0m\u001b[0;34m\u001b[0m\u001b[0;34m\u001b[0m\u001b[0m\n",
      "\u001b[0;32m/usr/lib/python3.7/http/client.py\u001b[0m in \u001b[0;36mgetresponse\u001b[0;34m(self)\u001b[0m\n\u001b[1;32m   1352\u001b[0m         \u001b[0;32mtry\u001b[0m\u001b[0;34m:\u001b[0m\u001b[0;34m\u001b[0m\u001b[0;34m\u001b[0m\u001b[0m\n\u001b[1;32m   1353\u001b[0m             \u001b[0;32mtry\u001b[0m\u001b[0;34m:\u001b[0m\u001b[0;34m\u001b[0m\u001b[0;34m\u001b[0m\u001b[0m\n\u001b[0;32m-> 1354\u001b[0;31m                 \u001b[0mresponse\u001b[0m\u001b[0;34m.\u001b[0m\u001b[0mbegin\u001b[0m\u001b[0;34m(\u001b[0m\u001b[0;34m)\u001b[0m\u001b[0;34m\u001b[0m\u001b[0;34m\u001b[0m\u001b[0m\n\u001b[0m\u001b[1;32m   1355\u001b[0m             \u001b[0;32mexcept\u001b[0m \u001b[0mConnectionError\u001b[0m\u001b[0;34m:\u001b[0m\u001b[0;34m\u001b[0m\u001b[0;34m\u001b[0m\u001b[0m\n\u001b[1;32m   1356\u001b[0m                 \u001b[0mself\u001b[0m\u001b[0;34m.\u001b[0m\u001b[0mclose\u001b[0m\u001b[0;34m(\u001b[0m\u001b[0;34m)\u001b[0m\u001b[0;34m\u001b[0m\u001b[0;34m\u001b[0m\u001b[0m\n",
      "\u001b[0;32m/usr/lib/python3.7/http/client.py\u001b[0m in \u001b[0;36mbegin\u001b[0;34m(self)\u001b[0m\n\u001b[1;32m    304\u001b[0m         \u001b[0;31m# read until we get a non-100 response\u001b[0m\u001b[0;34m\u001b[0m\u001b[0;34m\u001b[0m\u001b[0;34m\u001b[0m\u001b[0m\n\u001b[1;32m    305\u001b[0m         \u001b[0;32mwhile\u001b[0m \u001b[0;32mTrue\u001b[0m\u001b[0;34m:\u001b[0m\u001b[0;34m\u001b[0m\u001b[0;34m\u001b[0m\u001b[0m\n\u001b[0;32m--> 306\u001b[0;31m             \u001b[0mversion\u001b[0m\u001b[0;34m,\u001b[0m \u001b[0mstatus\u001b[0m\u001b[0;34m,\u001b[0m \u001b[0mreason\u001b[0m \u001b[0;34m=\u001b[0m \u001b[0mself\u001b[0m\u001b[0;34m.\u001b[0m\u001b[0m_read_status\u001b[0m\u001b[0;34m(\u001b[0m\u001b[0;34m)\u001b[0m\u001b[0;34m\u001b[0m\u001b[0;34m\u001b[0m\u001b[0m\n\u001b[0m\u001b[1;32m    307\u001b[0m             \u001b[0;32mif\u001b[0m \u001b[0mstatus\u001b[0m \u001b[0;34m!=\u001b[0m \u001b[0mCONTINUE\u001b[0m\u001b[0;34m:\u001b[0m\u001b[0;34m\u001b[0m\u001b[0;34m\u001b[0m\u001b[0m\n\u001b[1;32m    308\u001b[0m                 \u001b[0;32mbreak\u001b[0m\u001b[0;34m\u001b[0m\u001b[0;34m\u001b[0m\u001b[0m\n",
      "\u001b[0;32m/usr/lib/python3.7/http/client.py\u001b[0m in \u001b[0;36m_read_status\u001b[0;34m(self)\u001b[0m\n\u001b[1;32m    265\u001b[0m \u001b[0;34m\u001b[0m\u001b[0m\n\u001b[1;32m    266\u001b[0m     \u001b[0;32mdef\u001b[0m \u001b[0m_read_status\u001b[0m\u001b[0;34m(\u001b[0m\u001b[0mself\u001b[0m\u001b[0;34m)\u001b[0m\u001b[0;34m:\u001b[0m\u001b[0;34m\u001b[0m\u001b[0;34m\u001b[0m\u001b[0m\n\u001b[0;32m--> 267\u001b[0;31m         \u001b[0mline\u001b[0m \u001b[0;34m=\u001b[0m \u001b[0mstr\u001b[0m\u001b[0;34m(\u001b[0m\u001b[0mself\u001b[0m\u001b[0;34m.\u001b[0m\u001b[0mfp\u001b[0m\u001b[0;34m.\u001b[0m\u001b[0mreadline\u001b[0m\u001b[0;34m(\u001b[0m\u001b[0m_MAXLINE\u001b[0m \u001b[0;34m+\u001b[0m \u001b[0;36m1\u001b[0m\u001b[0;34m)\u001b[0m\u001b[0;34m,\u001b[0m \u001b[0;34m\"iso-8859-1\"\u001b[0m\u001b[0;34m)\u001b[0m\u001b[0;34m\u001b[0m\u001b[0;34m\u001b[0m\u001b[0m\n\u001b[0m\u001b[1;32m    268\u001b[0m         \u001b[0;32mif\u001b[0m \u001b[0mlen\u001b[0m\u001b[0;34m(\u001b[0m\u001b[0mline\u001b[0m\u001b[0;34m)\u001b[0m \u001b[0;34m>\u001b[0m \u001b[0m_MAXLINE\u001b[0m\u001b[0;34m:\u001b[0m\u001b[0;34m\u001b[0m\u001b[0;34m\u001b[0m\u001b[0m\n\u001b[1;32m    269\u001b[0m             \u001b[0;32mraise\u001b[0m \u001b[0mLineTooLong\u001b[0m\u001b[0;34m(\u001b[0m\u001b[0;34m\"status line\"\u001b[0m\u001b[0;34m)\u001b[0m\u001b[0;34m\u001b[0m\u001b[0;34m\u001b[0m\u001b[0m\n",
      "\u001b[0;32m/usr/lib/python3.7/socket.py\u001b[0m in \u001b[0;36mreadinto\u001b[0;34m(self, b)\u001b[0m\n\u001b[1;32m    587\u001b[0m         \u001b[0;32mwhile\u001b[0m \u001b[0;32mTrue\u001b[0m\u001b[0;34m:\u001b[0m\u001b[0;34m\u001b[0m\u001b[0;34m\u001b[0m\u001b[0m\n\u001b[1;32m    588\u001b[0m             \u001b[0;32mtry\u001b[0m\u001b[0;34m:\u001b[0m\u001b[0;34m\u001b[0m\u001b[0;34m\u001b[0m\u001b[0m\n\u001b[0;32m--> 589\u001b[0;31m                 \u001b[0;32mreturn\u001b[0m \u001b[0mself\u001b[0m\u001b[0;34m.\u001b[0m\u001b[0m_sock\u001b[0m\u001b[0;34m.\u001b[0m\u001b[0mrecv_into\u001b[0m\u001b[0;34m(\u001b[0m\u001b[0mb\u001b[0m\u001b[0;34m)\u001b[0m\u001b[0;34m\u001b[0m\u001b[0;34m\u001b[0m\u001b[0m\n\u001b[0m\u001b[1;32m    590\u001b[0m             \u001b[0;32mexcept\u001b[0m \u001b[0mtimeout\u001b[0m\u001b[0;34m:\u001b[0m\u001b[0;34m\u001b[0m\u001b[0;34m\u001b[0m\u001b[0m\n\u001b[1;32m    591\u001b[0m                 \u001b[0mself\u001b[0m\u001b[0;34m.\u001b[0m\u001b[0m_timeout_occurred\u001b[0m \u001b[0;34m=\u001b[0m \u001b[0;32mTrue\u001b[0m\u001b[0;34m\u001b[0m\u001b[0;34m\u001b[0m\u001b[0m\n",
      "\u001b[0;31mKeyboardInterrupt\u001b[0m: "
     ]
    }
   ],
   "source": [
    "message = util.buildMessage(\n",
    "        'did:sov:BzCbsNYhMrjHiqZDTUASHg;spec/schema-exchange/1.0/send',\n",
    "        payload=\"asdasdad\"\n",
    "    )\n",
    "schemaExchange = util.sendMessage(message, agents[0])"
   ]
  },
  {
   "cell_type": "code",
   "execution_count": 63,
   "metadata": {},
   "outputs": [
    {
     "data": {
      "text/plain": [
       "{'@type': 'did:sov:BzCbsNYhMrjHiqZDTUASHg;spec/schema-exchange/1.0/send',\n",
       " '@id': '6bb18882-393b-403e-a9d1-c240d3931287',\n",
       " '~thread': {'thid': 'c476d97f-bee0-4de5-9bc4-e2fab43a6000'},\n",
       " 'hashid': 'ec103814b9ccb1e305ce20d6a25e681d3735d2301d5bb631b8dfa0abb2394a99',\n",
       " 'payload': 'asdasdad'}"
      ]
     },
     "execution_count": 63,
     "metadata": {},
     "output_type": "execute_result"
    }
   ],
   "source": [
    "schemaExchange"
   ]
  },
  {
   "cell_type": "code",
   "execution_count": 23,
   "metadata": {
    "scrolled": true
   },
   "outputs": [
    {
     "name": "stdout",
     "output_type": "stream",
     "text": [
      "{'@id': '3ef00dd2-27dc-43ab-bbc9-cc575b7c8e14',\n",
      " '@type': 'https://github.com/hyperledger/aries-toolbox/tree/master/docs/admin-connections/0.1/connection',\n",
      " 'connection_id': '7f583c69-3b04-4c3a-a9a8-54f1636db137',\n",
      " 'label': 'ConnectionBetweenAgents',\n",
      " 'my_did': 'V992yuD4YTv1s6SSfLLnkn',\n",
      " 'raw_repr': {'accept': 'auto',\n",
      "              'connection_id': '7f583c69-3b04-4c3a-a9a8-54f1636db137',\n",
      "              'created_at': '2020-06-09 14:56:40.330661Z',\n",
      "              'initiator': 'external',\n",
      "              'invitation_key': '6EbsPk8Z91YKgAb2KHtdi1jP6uHJTU4mpFTchkkbXH6k',\n",
      "              'invitation_mode': 'once',\n",
      "              'my_did': 'V992yuD4YTv1s6SSfLLnkn',\n",
      "              'request_id': '725e0e06-59af-4d34-836f-d875b4609a9d',\n",
      "              'routing_state': 'none',\n",
      "              'state': 'request',\n",
      "              'their_label': 'ConnectionBetweenAgents',\n",
      "              'updated_at': '2020-06-09 14:56:40.359881Z'},\n",
      " 'state': 'pending'}\n"
     ]
    }
   ],
   "source": [
    "pp.pprint(util.connectAgents(agents[0], agents[1]))"
   ]
  },
  {
   "cell_type": "code",
   "execution_count": 24,
   "metadata": {},
   "outputs": [
    {
     "name": "stdout",
     "output_type": "stream",
     "text": [
      "{'@id': '5966f953-d429-4a5f-a0a1-8258a3665cc3',\n",
      " '@type': 'https://github.com/hyperledger/aries-toolbox/tree/master/docs/admin-connections/0.1/list',\n",
      " 'connections': [{'connection_id': '7f583c69-3b04-4c3a-a9a8-54f1636db137',\n",
      "                  'label': 'ConnectionBetweenAgents',\n",
      "                  'my_did': 'V992yuD4YTv1s6SSfLLnkn',\n",
      "                  'raw_repr': {'accept': 'auto',\n",
      "                               'connection_id': '7f583c69-3b04-4c3a-a9a8-54f1636db137',\n",
      "                               'created_at': '2020-06-09 14:56:40.330661Z',\n",
      "                               'initiator': 'external',\n",
      "                               'invitation_key': '6EbsPk8Z91YKgAb2KHtdi1jP6uHJTU4mpFTchkkbXH6k',\n",
      "                               'invitation_mode': 'once',\n",
      "                               'my_did': 'V992yuD4YTv1s6SSfLLnkn',\n",
      "                               'request_id': '725e0e06-59af-4d34-836f-d875b4609a9d',\n",
      "                               'routing_state': 'none',\n",
      "                               'state': 'request',\n",
      "                               'their_label': 'ConnectionBetweenAgents',\n",
      "                               'updated_at': '2020-06-09 14:56:40.359881Z'},\n",
      "                  'role': None,\n",
      "                  'state': 'pending',\n",
      "                  'their_did': None},\n",
      "                 {'connection_id': '5d4afc3f-7915-4cb6-8f39-1c7fa9598a79',\n",
      "                  'label': 'Plugin',\n",
      "                  'my_did': 'QQZSM4V81j1ctMAdR7zssE',\n",
      "                  'raw_repr': {'accept': 'auto',\n",
      "                               'connection_id': '5d4afc3f-7915-4cb6-8f39-1c7fa9598a79',\n",
      "                               'created_at': '2020-06-09 14:56:39.734613Z',\n",
      "                               'initiator': 'self',\n",
      "                               'invitation_key': 'HwVqFK3jkjM2k6vcyDqEMw7p1bYuHfij9ydCFKjiTwt9',\n",
      "                               'invitation_mode': 'once',\n",
      "                               'my_did': 'QQZSM4V81j1ctMAdR7zssE',\n",
      "                               'routing_state': 'none',\n",
      "                               'state': 'active',\n",
      "                               'their_did': 'KtEsioiMo9TBoSZbHK9wrK',\n",
      "                               'their_label': 'Plugin',\n",
      "                               'their_role': 'admin',\n",
      "                               'updated_at': '2020-06-09 14:56:40.314768Z'},\n",
      "                  'role': 'admin',\n",
      "                  'state': 'active',\n",
      "                  'their_did': 'KtEsioiMo9TBoSZbHK9wrK'},\n",
      "                 {'connection_id': '2f3974d3-6814-4a9a-923a-2c69260a3f73',\n",
      "                  'label': None,\n",
      "                  'my_did': None,\n",
      "                  'raw_repr': {'accept': 'auto',\n",
      "                               'connection_id': '2f3974d3-6814-4a9a-923a-2c69260a3f73',\n",
      "                               'created_at': '2020-06-09 14:56:09.110881Z',\n",
      "                               'initiator': 'self',\n",
      "                               'invitation_key': 'D8Z63ucGMaQ5cRKD3kTRzQMKVwJFUfuhCvm78DmXGEA1',\n",
      "                               'invitation_mode': 'once',\n",
      "                               'routing_state': 'none',\n",
      "                               'state': 'invitation',\n",
      "                               'their_role': 'admin',\n",
      "                               'updated_at': '2020-06-09 14:56:09.110881Z'},\n",
      "                  'role': 'admin',\n",
      "                  'state': 'pending',\n",
      "                  'their_did': None}],\n",
      " '~thread': {'thid': '234550a3-b827-47fd-9cad-8a12957a89be'}}\n"
     ]
    }
   ],
   "source": [
    "pp.pprint(util.getConnections(agents[1]))"
   ]
  },
  {
   "cell_type": "code",
   "execution_count": 25,
   "metadata": {},
   "outputs": [
    {
     "name": "stdout",
     "output_type": "stream",
     "text": [
      "{'did': 'UTckeR8yEogf7QUDKNoFH7',\n",
      " 'verkey': 'Fy2kCRmHd76UGHw8Z3bpKofzwMn9WmRXs4P9pbUFBtTR'}\n"
     ]
    }
   ],
   "source": [
    "newDid = util.createDid(agents[0])\n",
    "pp.pprint(newDid['result'])"
   ]
  },
  {
   "cell_type": "code",
   "execution_count": 26,
   "metadata": {
    "scrolled": false
   },
   "outputs": [
    {
     "data": {
      "text/plain": [
       "{'@type': 'did:sov:BzCbsNYhMrjHiqZDTUASHg;spec/connections/1.0/response',\n",
       " '@id': '93a27c5e-10d6-4978-9771-e416d67aa157',\n",
       " '~thread': {'thid': '725e0e06-59af-4d34-836f-d875b4609a9d'},\n",
       " 'connection~sig': {'@type': 'did:sov:BzCbsNYhMrjHiqZDTUASHg;spec/signature/1.0/ed25519Sha512_single',\n",
       "  'signature': 'kN1rtDUQFA6Hk7WrF-vl-fpuvk5TXfpPQewpgDGEkIfVVU7IJJE2sMgJa_FgBTs2nbXU-SBlNocwQwjkA3LHDg==',\n",
       "  'sig_data': 'AAAAAF7foyh7IkRJRCI6ICJKZWZlZXhXRlN0S01QRVp4UUtMU3FpIiwgIkRJRERvYyI6IHsiQGNvbnRleHQiOiAiaHR0cHM6Ly93M2lkLm9yZy9kaWQvdjEiLCAiaWQiOiAiZGlkOnNvdjpKZWZlZXhXRlN0S01QRVp4UUtMU3FpIiwgInB1YmxpY0tleSI6IFt7ImlkIjogImRpZDpzb3Y6SmVmZWV4V0ZTdEtNUEVaeFFLTFNxaSMxIiwgInR5cGUiOiAiRWQyNTUxOVZlcmlmaWNhdGlvbktleTIwMTgiLCAiY29udHJvbGxlciI6ICJkaWQ6c292OkplZmVleFdGU3RLTVBFWnhRS0xTcWkiLCAicHVibGljS2V5QmFzZTU4IjogIkFjdzdWSnpzaHk2ajdEMXZqWjg3cXg0UkVCYjFNRndUa0tXOU55ZVVDV3c1In1dLCAiYXV0aGVudGljYXRpb24iOiBbeyJ0eXBlIjogIkVkMjU1MTlTaWduYXR1cmVBdXRoZW50aWNhdGlvbjIwMTgiLCAicHVibGljS2V5IjogImRpZDpzb3Y6SmVmZWV4V0ZTdEtNUEVaeFFLTFNxaSMxIn1dLCAic2VydmljZSI6IFt7ImlkIjogImRpZDpzb3Y6SmVmZWV4V0ZTdEtNUEVaeFFLTFNxaTtpbmR5IiwgInR5cGUiOiAiSW5keUFnZW50IiwgInByaW9yaXR5IjogMCwgInJlY2lwaWVudEtleXMiOiBbIkFjdzdWSnpzaHk2ajdEMXZqWjg3cXg0UkVCYjFNRndUa0tXOU55ZVVDV3c1Il0sICJzZXJ2aWNlRW5kcG9pbnQiOiAiaHR0cDovL2FnZW50MS5sb2NhbGhvc3QifV19fQ==',\n",
       "  'signer': '6EbsPk8Z91YKgAb2KHtdi1jP6uHJTU4mpFTchkkbXH6k'}}"
      ]
     },
     "execution_count": 26,
     "metadata": {},
     "output_type": "execute_result"
    }
   ],
   "source": [
    "util.registerDidOnLedger(agents[0], newDid['result']['did'], newDid['result']['verkey'])"
   ]
  },
  {
   "cell_type": "code",
   "execution_count": 27,
   "metadata": {
    "scrolled": true
   },
   "outputs": [
    {
     "data": {
      "text/plain": [
       "{'@type': 'did:sov:BzCbsNYhMrjHiqZDTUASHg;spec/admin-dids/0.1/did',\n",
       " '@id': '7afbcb60-0807-4d4b-a7e0-785a61391bc3',\n",
       " '~thread': {'thid': '237b349d-ac0c-4f8e-a0c1-8497fadd82d6'},\n",
       " 'result': {'metadata': {'public': True},\n",
       "  'did': 'UTckeR8yEogf7QUDKNoFH7',\n",
       "  'verkey': 'Fy2kCRmHd76UGHw8Z3bpKofzwMn9WmRXs4P9pbUFBtTR'}}"
      ]
     },
     "execution_count": 27,
     "metadata": {},
     "output_type": "execute_result"
    }
   ],
   "source": [
    "util.setPublicDid(agents[0], newDid['result']['did'])"
   ]
  },
  {
   "cell_type": "code",
   "execution_count": 28,
   "metadata": {},
   "outputs": [
    {
     "name": "stdout",
     "output_type": "stream",
     "text": [
      "{'@id': '6ea282cb-58b9-43df-a6e2-9b874f21a66a',\n",
      " '@type': 'did:sov:BzCbsNYhMrjHiqZDTUASHg;spec/admin-schemas/0.1/schema-id',\n",
      " 'schema_id': \"('UTckeR8yEogf7QUDKNoFH7:2:schesssdddvd:1.0', {'ver': '1.0', \"\n",
      "              \"'id': 'UTckeR8yEogf7QUDKNoFH7:2:schesssdddvd:1.0', 'name': \"\n",
      "              \"'schesssdddvd', 'version': '1.0', 'attrNames': \"\n",
      "              \"['memesssaaaaaaa'], 'seqNo': 11})\",\n",
      " '~thread': {'thid': '3c40a5f4-3784-4f9d-a5a3-0ff9e5a602e8'}}\n"
     ]
    }
   ],
   "source": [
    "pp.pprint(util.sendSchema(agents[0], \"schesssdddvd\", \"1.0\", [\"memesssaaaaaaa\"]))"
   ]
  },
  {
   "cell_type": "code",
   "execution_count": 29,
   "metadata": {},
   "outputs": [
    {
     "name": "stdout",
     "output_type": "stream",
     "text": [
      "{'@type': 'did:sov:BzCbsNYhMrjHiqZDTUASHg;spec/admin-schemas/0.1/schema-list', '@id': 'b70eec03-206f-4ca2-a2a7-8d6f0eef2829', '~thread': {'thid': 'fffe2a09-4741-455a-a921-a7253f37f3bd'}, 'results': [{'state': 'written', 'attributes': ['memesssaaaaaaa'], 'schema_name': 'schesssdddvd', 'created_at': '2020-06-09 14:56:43.771284Z', 'schema_version': '1.0', 'schema_id': 'UTckeR8yEogf7QUDKNoFH7:2:schesssdddvd:1.0', 'updated_at': '2020-06-09 14:56:43.771284Z', 'author': 'self'}]}\n"
     ]
    }
   ],
   "source": [
    "result = util.schemaGetList(agents[0])\n",
    "last_schema_id = result['results'][-1]['schema_id']\n",
    "print(result)"
   ]
  },
  {
   "cell_type": "code",
   "execution_count": 30,
   "metadata": {},
   "outputs": [
    {
     "data": {
      "text/plain": [
       "{'@type': 'did:sov:BzCbsNYhMrjHiqZDTUASHg;spec/admin-schemas/0.1/schema',\n",
       " '@id': '6032790e-0e04-41db-b0d5-08c806209b25',\n",
       " '~thread': {'thid': '016ce3e5-a806-4dbc-b0c2-74d781ffd3fa'},\n",
       " 'state': 'written',\n",
       " 'attributes': ['memesssaaaaaaa'],\n",
       " 'schema_name': 'schesssdddvd',\n",
       " 'created_at': '2020-06-09 14:56:43.854957Z',\n",
       " 'schema_version': '1.0',\n",
       " 'updated_at': '2020-06-09 14:56:43.854957Z',\n",
       " 'schema_id': 'UTckeR8yEogf7QUDKNoFH7:2:schesssdddvd:1.0',\n",
       " 'author': 'other'}"
      ]
     },
     "execution_count": 30,
     "metadata": {},
     "output_type": "execute_result"
    }
   ],
   "source": [
    "util.schemaGet(agents[0], last_schema_id)"
   ]
  },
  {
   "cell_type": "code",
   "execution_count": 31,
   "metadata": {
    "scrolled": true
   },
   "outputs": [
    {
     "name": "stdout",
     "output_type": "stream",
     "text": [
      "UTckeR8yEogf7QUDKNoFH7:3:CL:11:schesssdddvd_1.0\n"
     ]
    }
   ],
   "source": [
    "result = util.sendCredentialDefinition(agents[0], last_schema_id)\n",
    "cred_def_id = result['cred_def_id']\n",
    "print(cred_def_id)"
   ]
  },
  {
   "cell_type": "code",
   "execution_count": 32,
   "metadata": {},
   "outputs": [
    {
     "data": {
      "text/plain": [
       "{'@type': 'did:sov:BzCbsNYhMrjHiqZDTUASHg;spec/admin-credential-definitions/0.1/credential-definition-list',\n",
       " '@id': '4a3aaacc-4069-472b-ac7b-583f8966aa74',\n",
       " '~thread': {'thid': '316991ab-c20d-4050-8b9e-4fd89623976d'},\n",
       " 'results': [{'cred_def_id': 'UTckeR8yEogf7QUDKNoFH7:3:CL:11:schesssdddvd_1.0',\n",
       "   'state': 'written',\n",
       "   'attributes': ['memesssaaaaaaa'],\n",
       "   'created_at': '2020-06-09 14:56:46.810226Z',\n",
       "   'schema_id': 'UTckeR8yEogf7QUDKNoFH7:2:schesssdddvd:1.0',\n",
       "   'updated_at': '2020-06-09 14:56:46.810226Z',\n",
       "   'author': 'self'}]}"
      ]
     },
     "execution_count": 32,
     "metadata": {},
     "output_type": "execute_result"
    }
   ],
   "source": [
    "util.getCredentialDefinitionList(agents[0])"
   ]
  },
  {
   "cell_type": "code",
   "execution_count": 33,
   "metadata": {
    "scrolled": true
   },
   "outputs": [
    {
     "data": {
      "text/plain": [
       "{'@type': 'did:sov:BzCbsNYhMrjHiqZDTUASHg;spec/admin-credential-definitions/0.1/credential-definition',\n",
       " '@id': 'e347f6f3-3b05-46f6-aff9-a0aca47d9221',\n",
       " '~thread': {'thid': '81d8203c-3a79-4c5a-a459-4f668c15eed7'},\n",
       " 'cred_def_id': 'UTckeR8yEogf7QUDKNoFH7:3:CL:11:schesssdddvd_1.0',\n",
       " 'state': 'written',\n",
       " 'attributes': ['memesssaaaaaaa'],\n",
       " 'created_at': '2020-06-09 14:56:46.905245Z',\n",
       " 'updated_at': '2020-06-09 14:56:46.905245Z',\n",
       " 'schema_id': 'UTckeR8yEogf7QUDKNoFH7:2:schesssdddvd:1.0',\n",
       " 'author': 'other'}"
      ]
     },
     "execution_count": 33,
     "metadata": {},
     "output_type": "execute_result"
    }
   ],
   "source": [
    "util.getCredentialDefinition(agents[0], cred_def_id)"
   ]
  }
 ],
 "metadata": {
  "kernelspec": {
   "display_name": "Python 3",
   "language": "python",
   "name": "python3"
  },
  "language_info": {
   "codemirror_mode": {
    "name": "ipython",
    "version": 3
   },
   "file_extension": ".py",
   "mimetype": "text/x-python",
   "name": "python",
   "nbconvert_exporter": "python",
   "pygments_lexer": "ipython3",
   "version": "3.7.5"
  }
 },
 "nbformat": 4,
 "nbformat_minor": 4
}
