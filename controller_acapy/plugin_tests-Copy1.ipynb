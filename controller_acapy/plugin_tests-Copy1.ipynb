{
 "cells": [
  {
   "cell_type": "code",
   "execution_count": 3,
   "metadata": {},
   "outputs": [
    {
     "data": {
      "text/plain": [
       "<module 'jupyter_util' from '/home/sevni/Documents/thclab/aries/aries-acapy-plugin/controller_acapy/jupyter_util.py'>"
      ]
     },
     "execution_count": 3,
     "metadata": {},
     "output_type": "execute_result"
    }
   ],
   "source": [
    "import requests \n",
    "import json\n",
    "import pprint as pp # pretty print\n",
    "\n",
    "import aries_cloudagent.wallet.crypto as crypto\n",
    "import base64\n",
    "import base58\n",
    "import uuid\n",
    "import hashlib\n",
    "import jupyter_util as util\n",
    "from importlib import reload\n",
    "reload(util)"
   ]
  },
  {
   "cell_type": "code",
   "execution_count": 4,
   "metadata": {},
   "outputs": [],
   "source": [
    "def save_and_retrieve():\n",
    "    add = requests.post('http://localhost:8150/pds/save', json={\n",
    "      \"payload\": \"testing\"\n",
    "    })\n",
    "    print(add)\n",
    "    add = json.loads(add.text)\n",
    "    print(add)\n",
    "\n",
    "    get = requests.get('http://localhost:8150/pds/' + str(add['payload_id']))\n",
    "    print(get)\n",
    "    get = json.loads(get.text)\n",
    "    print(get)\n",
    "        \n",
    "        \n",
    "def set_pds_config(pds_type, settings = {}):\n",
    "    config = requests.post('http://localhost:8150/pds/settings', json={\n",
    "      \"settings\": {\n",
    "          pds_type: settings\n",
    "      }\n",
    "    })\n",
    "    print(config)\n",
    "    config = json.loads(config.text)\n",
    "    print(config)\n",
    "    \n",
    "# set_pds_config(\"own_your_data\", {\n",
    "#     \"client_id\": \"8SX1-RBazhic9ftG4HyG2XegrQ2kdLGu0hd-Ty3IZnE\", \n",
    "#     \"client_secret\": \"gEg9_tTh2V1ZK6piL9tZ38YO-1xqXLDXCccJS4uQUJg\"\n",
    "# })\n",
    "# save_and_retrieve()\n",
    "# set_pds_config(\"local\")\n",
    "# save_and_retrieve()\n",
    "# set_pds_config(\"data_vault\")\n",
    "# save_and_retrieve()\n",
    "\n"
   ]
  },
  {
   "cell_type": "markdown",
   "metadata": {},
   "source": [
    "## Enter Invite Url:"
   ]
  },
  {
   "cell_type": "code",
   "execution_count": 5,
   "metadata": {
    "scrolled": true
   },
   "outputs": [
    {
     "name": "stdout",
     "output_type": "stream",
     "text": [
      "http://agent1.localhost?c_i=eyJAdHlwZSI6ICJkaWQ6c292OkJ6Q2JzTlloTXJqSGlxWkRUVUFTSGc7c3BlYy9jb25uZWN0aW9ucy8xLjAvaW52aXRhdGlvbiIsICJAaWQiOiAiZjA2ZDFjZmQtNjM0MC00ZjMwLWJkZDEtM2Q2ZWQ0ZjY2OTZmIiwgInNlcnZpY2VFbmRwb2ludCI6ICJodHRwOi8vYWdlbnQxLmxvY2FsaG9zdCIsICJsYWJlbCI6ICJNYWluIChhZG1pbikiLCAicmVjaXBpZW50S2V5cyI6IFsiQmMxQU10QlhveXZlZXRIRmpmUkZBQ3drRnBLWENENFZXV0NCU0RTN21QMXoiXX0=\n"
     ]
    }
   ],
   "source": [
    "agent1 = {}\n",
    "plugin = {}\n",
    "endpoint = \"http://localhost:8150/connections/create-admin-invitation-url\"\n",
    "adminInvitationResponse = requests.post(endpoint)\n",
    "adminInvitationResponse = adminInvitationResponse.text\n",
    "agent1['url'] = json.loads(adminInvitationResponse)['invitation_url']\n",
    "print(agent1['url'])"
   ]
  },
  {
   "cell_type": "code",
   "execution_count": 6,
   "metadata": {
    "scrolled": true
   },
   "outputs": [
    {
     "name": "stdout",
     "output_type": "stream",
     "text": [
      "http://agent2.localhost?c_i=eyJAdHlwZSI6ICJkaWQ6c292OkJ6Q2JzTlloTXJqSGlxWkRUVUFTSGc7c3BlYy9jb25uZWN0aW9ucy8xLjAvaW52aXRhdGlvbiIsICJAaWQiOiAiZWIwNjYwNjQtNmFmYS00ODY3LTk2YjQtNDliZTMxYzE0YTMwIiwgInNlcnZpY2VFbmRwb2ludCI6ICJodHRwOi8vYWdlbnQyLmxvY2FsaG9zdCIsICJsYWJlbCI6ICJDbGllbnQgKGFkbWluKSIsICJyZWNpcGllbnRLZXlzIjogWyJESHVVeW04MnFDUUZpTTRIM1N3S0pyZkJoNkhhTHNlVWRzb1FFZ0RaVjRpUiJdfQ==\n"
     ]
    }
   ],
   "source": [
    "agent2 = {}\n",
    "endpoint = \"http://localhost:8151/connections/create-admin-invitation-url\"\n",
    "adminInvitationResponse = requests.post(endpoint)\n",
    "adminInvitationResponse = adminInvitationResponse.text\n",
    "agent2['url'] = json.loads(adminInvitationResponse)['invitation_url']\n",
    "print(agent2['url'])"
   ]
  },
  {
   "cell_type": "code",
   "execution_count": 7,
   "metadata": {
    "scrolled": true
   },
   "outputs": [
    {
     "name": "stdout",
     "output_type": "stream",
     "text": [
      "Decoded invitation:\n",
      "\n",
      "{'@id': 'eb066064-6afa-4867-96b4-49be31c14a30',\n",
      " '@type': 'did:sov:BzCbsNYhMrjHiqZDTUASHg;spec/connections/1.0/invitation',\n",
      " 'label': 'Client (admin)',\n",
      " 'recipientKeys': ['DHuUym82qCQFiM4H3SwKJrfBh6HaLseUdsoQEgDZV4iR'],\n",
      " 'serviceEndpoint': 'http://agent2.localhost'}\n"
     ]
    }
   ],
   "source": [
    "agent1 = util.processInviteUrl(agent1['url'])\n",
    "agent2 = util.processInviteUrl(agent2['url'])\n",
    "print(\"Decoded invitation:\\n\")\n",
    "pp.pprint(agent2['invite'])"
   ]
  },
  {
   "cell_type": "code",
   "execution_count": 8,
   "metadata": {
    "scrolled": true
   },
   "outputs": [
    {
     "name": "stdout",
     "output_type": "stream",
     "text": [
      "Private key: \n",
      " 5yS1rGcWNRCTGprBHeGBfg1Jt2YU1r5s9RBFzozP29oxPUyyJ9d4T8CgP83pxLKJKD3yiWMGKu6PBb6asSNEq16X\n",
      "\n",
      "Public key: \n",
      " EWiSiezMNkrVV1Lhd5RHnWtg1SBxvACv9GYbS2ipujaX\n"
     ]
    }
   ],
   "source": [
    "### Generating a did key using aries crypto module\n",
    "# Create a key pair with random seed \n",
    "# Order: 0 - public key, 1 - secret / pritvate key\n",
    "plugin['keypair'] = crypto.create_keypair()\n",
    "# it seems to me that did is an encoded sub string of public key\n",
    "# or maybe just some arbitrary random number\n",
    "did = plugin['keypair'][0][:16]\n",
    "# final version of our did\n",
    "plugin['did'] = base58.b58encode(did).decode(\"ascii\")\n",
    "# encoding keys to base58\n",
    "plugin['public_key_b58'] = \\\n",
    "    base58.b58encode(plugin['keypair'][0]).decode(\"ascii\")\n",
    "plugin['private_key_b58'] = \\\n",
    "    base58.b58encode(plugin['keypair'][1]).decode(\"ascii\")\n",
    "\n",
    "print(\"Private key: \\n\", plugin['private_key_b58'])\n",
    "print(\"\\nPublic key: \\n\", plugin['public_key_b58'])"
   ]
  },
  {
   "cell_type": "markdown",
   "metadata": {},
   "source": [
    "**Sending a connection request to acapy**"
   ]
  },
  {
   "cell_type": "code",
   "execution_count": 9,
   "metadata": {
    "scrolled": false
   },
   "outputs": [],
   "source": [
    "agent1['connection'] = util.connectWithAcapy(agent1, plugin)\n",
    "agent2['connection'] = util.connectWithAcapy(agent2, plugin)\n",
    "# print(\"Decoded acapy response: \\n\")\n",
    "# pp.pprint(agent1['conn'])"
   ]
  },
  {
   "cell_type": "markdown",
   "metadata": {},
   "source": [
    "**Unpacking connection data embedded in the response**"
   ]
  },
  {
   "cell_type": "code",
   "execution_count": 10,
   "metadata": {
    "scrolled": true
   },
   "outputs": [],
   "source": [
    "agent1['connection_details'] = util.decodeConnectionDetails(agent1['connection'])\n",
    "agent2['connection_details'] = util.decodeConnectionDetails(agent2['connection'])"
   ]
  },
  {
   "cell_type": "markdown",
   "metadata": {},
   "source": [
    "**Adding the connection to connection list**"
   ]
  },
  {
   "cell_type": "code",
   "execution_count": 11,
   "metadata": {
    "scrolled": true
   },
   "outputs": [],
   "source": [
    "agents = [\n",
    "    {\n",
    "        \"label\": agent1['invite']['label'],\n",
    "        \"DIDDoc\": agent1['connection_details']['DIDDoc'],\n",
    "        \"myKey\": plugin['keypair'][1]\n",
    "    },\n",
    "    {\n",
    "        \"label\": agent2['invite']['label'],\n",
    "        \"DIDDoc\": agent2['connection_details']['DIDDoc'],\n",
    "        \"myKey\": plugin['keypair'][1]\n",
    "    },\n",
    "]\n",
    "\n",
    "# pp.pprint(connections)"
   ]
  },
  {
   "cell_type": "code",
   "execution_count": 12,
   "metadata": {
    "scrolled": true
   },
   "outputs": [
    {
     "name": "stdout",
     "output_type": "stream",
     "text": [
      "0978411e-d461-4b45-ae38-cda5a554a9c3 \n",
      " 206855a9-c266-41d1-95cf-1bbe356cdbb1\n"
     ]
    }
   ],
   "source": [
    "connection = util.connectAgents(agents[0], agents[1])\n",
    "connection[1] = connection[1]['raw_repr']['connection_id']\n",
    "connection[0] = connection[0]['connection_id']\n",
    "print(connection[0], \"\\n\", connection[1])"
   ]
  },
  {
   "cell_type": "code",
   "execution_count": 13,
   "metadata": {
    "scrolled": true
   },
   "outputs": [],
   "source": [
    "# add = requests.post('http://localhost:8150/test-vs', json={\n",
    "#   \"connection_id\": connection[0]\n",
    "# })\n",
    "# print(add.text)\n",
    "# add = json.loads(add.text)"
   ]
  },
  {
   "cell_type": "markdown",
   "metadata": {},
   "source": [
    "### FEATURE DISCOVERY"
   ]
  },
  {
   "cell_type": "code",
   "execution_count": 14,
   "metadata": {
    "scrolled": true
   },
   "outputs": [],
   "source": [
    "# pp.pprint(util.getFeatureDiscovery(agents[0]))"
   ]
  },
  {
   "cell_type": "code",
   "execution_count": 15,
   "metadata": {},
   "outputs": [],
   "source": [
    "# consentSchema: function() {\n",
    "#       return {\n",
    "#         namespace: \"consent\",\n",
    "#         DRI: \"fArVHJTQSKHu2CeXJocQmH3HHxzZXsuQD7kzyHJhQ49s\"\n",
    "#       }\n",
    "#     },\n",
    "\n",
    "# consentAnswers: function() {\n",
    "#       return [\n",
    "#         \"zQmNeoZGfo1chKACu9RLrVoG4afjLrGnAz1rhsfvGZwg9Z3\",\n",
    "#         \"zQmPsU57nqWY8jzndU9AE2RK4EXvjMLGmytVpUNxfRpm18G\"\n",
    "#       ]"
   ]
  },
  {
   "cell_type": "code",
   "execution_count": 16,
   "metadata": {},
   "outputs": [
    {
     "name": "stdout",
     "output_type": "stream",
     "text": [
      "{\"service_schema\": {\"oca_schema_namespace\": \"string\", \"oca_schema_dri\": \"string\"}, \"consent_schema\": {\"data_dri\": \"zQmPsU57nqWY8jzndU9AE2RK4EXvjMLGmytVpUNxfRpm18G\", \"oca_schema_namespace\": \"consent\", \"oca_schema_dri\": \"fArVHJTQSKHu2CeXJocQmH3HHxzZXsuQD7kzyHJhQ49s\"}, \"updated_at\": \"2020-10-06 10:30:05.484373Z\", \"label\": \"consent_test\", \"created_at\": \"2020-10-06 10:30:05.484373Z\"}\n"
     ]
    }
   ],
   "source": [
    "add = requests.post('http://localhost:8151/verifiable-services/add', json={\n",
    "  \"label\": \"consent_test\",\n",
    "  \"service_schema\": {\n",
    "    \"oca_schema_namespace\": \"string\",\n",
    "    \"oca_schema_dri\": \"string\"\n",
    "  },\n",
    "  \"consent_schema\": {\n",
    "    \"oca_schema_namespace\": \"consent\",\n",
    "    \"oca_schema_dri\": \"fArVHJTQSKHu2CeXJocQmH3HHxzZXsuQD7kzyHJhQ49s\",\n",
    "    \"data_dri\": \"zQmPsU57nqWY8jzndU9AE2RK4EXvjMLGmytVpUNxfRpm18G\"\n",
    "  }\n",
    "})\n",
    "print(add.text)\n",
    "add = json.loads(add.text)"
   ]
  },
  {
   "cell_type": "code",
   "execution_count": 17,
   "metadata": {
    "scrolled": false
   },
   "outputs": [
    {
     "data": {
      "text/plain": [
       "{'@type': 'did:sov:BzCbsNYhMrjHiqZDTUASHg;spec/admin-dids/0.1/did',\n",
       " '@id': '97897954-f07d-4193-a1c0-31cd0af9f3e1',\n",
       " '~thread': {'thid': 'ca99369e-9a3e-46f1-9e89-75a9a40f50ad'},\n",
       " 'result': {'did': 'Xi4nWQLWcexqrrMxsoQT6Y',\n",
       "  'verkey': 'Hjjz4Rb3Rdr7BkEAiCAPH45ZY9vwQJZPL4CfNpyCnBjt',\n",
       "  'metadata': {'public': True, 'posted': True}}}"
      ]
     },
     "execution_count": 17,
     "metadata": {},
     "output_type": "execute_result"
    }
   ],
   "source": [
    "\n",
    "\n",
    "newDid1 = util.createDid(agents[1])\n",
    "newDid0 = util.createDid(agents[0])\n",
    "\n",
    "try:\n",
    "    util.registerDidOnLedger(agents[1], newDid1['result']['did'], newDid1['result']['verkey'])\n",
    "except:\n",
    "    pass\n",
    "try:\n",
    "    util.registerDidOnLedger(agents[0], newDid0['result']['did'], newDid0['result']['verkey'])\n",
    "except:\n",
    "    pass\n",
    "\n",
    "util.setPublicDid(agents[1], newDid1['result']['did'])\n",
    "util.setPublicDid(agents[0], newDid0['result']['did'])"
   ]
  },
  {
   "cell_type": "code",
   "execution_count": 18,
   "metadata": {
    "scrolled": false
   },
   "outputs": [
    {
     "name": "stdout",
     "output_type": "stream",
     "text": [
      "<Response [200]>\n",
      "{'connection_id': '0978411e-d461-4b45-ae38-cda5a554a9c3',\n",
      " 'created_at': '2020-10-06 10:30:10.809041Z',\n",
      " 'services': [{'consent_schema': {'data_dri': 'zQmPsU57nqWY8jzndU9AE2RK4EXvjMLGmytVpUNxfRpm18G',\n",
      "                                  'oca_schema_dri': 'fArVHJTQSKHu2CeXJocQmH3HHxzZXsuQD7kzyHJhQ49s',\n",
      "                                  'oca_schema_namespace': 'consent'},\n",
      "               'label': 'consent_test',\n",
      "               'service_id': 'f10889c2-c8b1-4608-bff8-15b0d50f19e6',\n",
      "               'service_schema': {'oca_schema_dri': 'string',\n",
      "                                  'oca_schema_namespace': 'string'}}],\n",
      " 'updated_at': '2020-10-06 10:30:10.809041Z'}\n"
     ]
    }
   ],
   "source": [
    "service_list = requests.get('http://localhost:8150/verifiable-services/DEBUGrequest/' + connection[0])\n",
    "print(service_list)\n",
    "service_list = json.loads(service_list.text)\n",
    "pp.pprint(service_list)"
   ]
  },
  {
   "cell_type": "code",
   "execution_count": 19,
   "metadata": {
    "scrolled": false
   },
   "outputs": [
    {
     "name": "stdout",
     "output_type": "stream",
     "text": [
      "{'@type': 'did:sov:BzCbsNYhMrjHiqZDTUASHg;spec/verifiable-services/1.0/application', '@id': '11b3757f-007c-471f-bfbd-87473184ad27', 'data_dri': 'b1fb1f3a6634d2271a21e2dcc012153fba6a6e4de7772c2fe86748ac36cab770', 'exchange_id': '0c01cb87-e576-4a89-833d-08e342c8385d', 'credential_definition_id': 'Xi4nWQLWcexqrrMxsoQT6Y:3:CL:1299:consent_schema', 'service_consent_match_id': 'd73fe490-6117-4008-a0d5-fecf018a058a', 'service_id': 'f10889c2-c8b1-4608-bff8-15b0d50f19e6'}\n"
     ]
    }
   ],
   "source": [
    "apply = requests.post('http://localhost:8150/verifiable-services/apply', json={\n",
    "  \"connection_id\": connection[0],\n",
    "  \"service_id\": service_list['services'][0]['service_id'],\n",
    "  \"payload\": \"abc\",\n",
    "  \"service\": service_list['services'][0],\n",
    "})\n",
    "apply = json.loads(apply.text)\n",
    "print(apply)"
   ]
  },
  {
   "cell_type": "code",
   "execution_count": 22,
   "metadata": {
    "scrolled": true
   },
   "outputs": [
    {
     "name": "stdout",
     "output_type": "stream",
     "text": [
      "<Response [200]>\n",
      "[{'author': 'other',\n",
      "  'connection_id': '206855a9-c266-41d1-95cf-1bbe356cdbb1',\n",
      "  'consent_schema': '{\"oca_schema_namespace\": \"consent\", \"oca_schema_dri\": '\n",
      "                    '\"fArVHJTQSKHu2CeXJocQmH3HHxzZXsuQD7kzyHJhQ49s\", '\n",
      "                    '\"data_dri\": '\n",
      "                    '\"zQmPsU57nqWY8jzndU9AE2RK4EXvjMLGmytVpUNxfRpm18G\"}',\n",
      "  'created_at': '2020-10-06 10:30:19.937292Z',\n",
      "  'exchange_id': '0c01cb87-e576-4a89-833d-08e342c8385d',\n",
      "  'issue_id': '51413a470912cf95cf66c1d58c71c73e7bc15cc0c30ff894e707c24d00489942',\n",
      "  'label': 'consent_test',\n",
      "  'payload_dri': 'aa8bf3ec-308c-4db5-8b91-9564d62069d0',\n",
      "  'service_consent_match_id': 'd73fe490-6117-4008-a0d5-fecf018a058a',\n",
      "  'service_id': 'f10889c2-c8b1-4608-bff8-15b0d50f19e6',\n",
      "  'service_schema': '{\"oca_schema_namespace\": \"string\", \"oca_schema_dri\": '\n",
      "                    '\"string\"}',\n",
      "  'state': 'accepted',\n",
      "  'updated_at': '2020-10-06 10:30:50.874458Z'}]\n"
     ]
    }
   ],
   "source": [
    "issue_self = requests.post('http://localhost:8151/verifiable-services/get-issue-self', json={\n",
    "    \"exchange_id\": apply['exchange_id'],\n",
    "})\n",
    "print(issue_self)\n",
    "issue_self = json.loads(issue_self.text)\n",
    "pp.pprint(issue_self)\n",
    "\n",
    "issue_self = requests.post('http://localhost:8151/verifiable-services/process-application', json={\n",
    "    \"issue_id\": issue_self[0]['issue_id'],\n",
    "    \"decision\": \"accept\",\n",
    "})\n",
    "print(issue_self)\n",
    "issue_self = json.loads(issue_self.text)\n",
    "pp.pprint(issue_self)"
   ]
  },
  {
   "cell_type": "code",
   "execution_count": 23,
   "metadata": {
    "scrolled": false
   },
   "outputs": [
    {
     "name": "stdout",
     "output_type": "stream",
     "text": [
      "{'results': [{'context': ['https://www.w3.org/2018/credentials/v1',\n",
      "                          'https://www.w3.org/2018/credentials/examples/v1'],\n",
      "              'created_at': '2020-10-06 10:30:20.207798Z',\n",
      "              'credentialSubject': {'data_dri': 'zQmPsU57nqWY8jzndU9AE2RK4EXvjMLGmytVpUNxfRpm18G',\n",
      "                                    'oca_schema_dri': 'fArVHJTQSKHu2CeXJocQmH3HHxzZXsuQD7kzyHJhQ49s',\n",
      "                                    'oca_schema_namespace': 'consent',\n",
      "                                    'service_consent_match_id': 'd73fe490-6117-4008-a0d5-fecf018a058a'},\n",
      "              'id': 'Xi4nWQLWcexqrrMxsoQT6Y',\n",
      "              'issuer': 'https://example.edu/issuers/565049',\n",
      "              'proof': {'jws': 'FEDOXLIh2lao+qqFJi91JfPC0F+Yz7xZmb4enBORqY1b0jYCEFX1CYLQLtq6Bl8odZGREtL0tHiKEKqyJcY6BA'},\n",
      "              'type': ['VerifiableCredential', 'ConsentCredential'],\n",
      "              'updated_at': '2020-10-06 10:30:20.207798Z'}]}\n"
     ]
    }
   ],
   "source": [
    "credentials = requests.get('http://localhost:8151/credentials')\n",
    "credentials = json.loads(credentials.text) \n",
    "pp.pprint(credentials)"
   ]
  },
  {
   "cell_type": "code",
   "execution_count": 24,
   "metadata": {
    "scrolled": true
   },
   "outputs": [
    {
     "name": "stdout",
     "output_type": "stream",
     "text": [
      "500 Internal Server Error\n",
      "\n",
      "Server got itself in trouble\n"
     ]
    }
   ],
   "source": [
    "proof_schema = {\n",
    "  \"proof_request\": {\n",
    "    \"version\": \"1.0\",\n",
    "    \"name\": \"Proof request\",\n",
    "    \"requested_attributes\": {\n",
    "      \"data_dri\": {\n",
    "        \"non_revoked\": {\n",
    "          \"from_epoch\": 1500000000,\n",
    "          \"to_epoch\": 1700758817\n",
    "        },\n",
    "        \"restrictions\": [\n",
    "          {\n",
    "            \"cred_def_id\": apply['credential_definition_id'],\n",
    "          }\n",
    "        ],\n",
    "        \"name\": \"data_dri\"\n",
    "      },\n",
    "    },\n",
    "    \"requested_predicates\": {\n",
    "    }\n",
    "  },\n",
    "  \"connection_id\": connection[1],\n",
    "#   \"trace\": True,\n",
    "  \"comment\": \"string\",\n",
    "  \"nonce\": \"1234567890\"\n",
    "}\n",
    "proof_json = json.dumps(proof_schema)\n",
    "\n",
    "proof = requests.post('http://localhost:8151/present-proof/send-request', json=proof_schema)\n",
    "print(proof.text)"
   ]
  },
  {
   "cell_type": "code",
   "execution_count": 359,
   "metadata": {
    "scrolled": false
   },
   "outputs": [
    {
     "name": "stdout",
     "output_type": "stream",
     "text": [
      "{'connection_id': '994ebd0f-14c2-428c-be53-e730bc3ca7a7',\n",
      " 'created_at': '2020-09-22 11:58:22.954779Z',\n",
      " 'initiator': 'external',\n",
      " 'presentation_exchange_id': '964c067c-46fb-4a4f-b30d-253029bf6d53',\n",
      " 'presentation_request': {'name': 'Proof request',\n",
      "                          'nonce': '236523038637111089936187',\n",
      "                          'requested_attributes': {'data_dri': {'name': 'data_dri',\n",
      "                                                                'non_revoked': {'from_epoch': 1500000000,\n",
      "                                                                                'to_epoch': 1700758817},\n",
      "                                                                'restrictions': [{'cred_def_id': 'WWZtMuY1V9hvFF1ezey2EM:3:CL:1175:Services'}]}},\n",
      "                          'requested_predicates': {},\n",
      "                          'version': '1.0'},\n",
      " 'role': 'prover',\n",
      " 'state': 'request_received',\n",
      " 'thread_id': 'aab467d6-30db-442a-a23e-354f77100467',\n",
      " 'trace': False,\n",
      " 'updated_at': '2020-09-22 11:58:22.954779Z'}\n"
     ]
    }
   ],
   "source": [
    "proof = requests.get('http://localhost:8150/present-proof/records')\n",
    "proof_requests = json.loads(proof.text)['results']\n",
    "proof_request = proof_requests[-4]\n",
    "pp.pprint(proof_request)"
   ]
  },
  {
   "cell_type": "code",
   "execution_count": 360,
   "metadata": {},
   "outputs": [
    {
     "name": "stdout",
     "output_type": "stream",
     "text": [
      "{'requested_attributes': {'data_dri': {'cred_id': '657ec1be-2d72-41ba-a1c2-725082d1c759', 'revealed': True}}, 'requested_predicates': {}, 'self_attested_attributes': {}}\n",
      "{\"initiator\": \"external\", \"presentation_exchange_id\": \"964c067c-46fb-4a4f-b30d-253029bf6d53\", \"created_at\": \"2020-09-22 11:58:22.954779Z\", \"trace\": false, \"state\": \"presentation_sent\", \"connection_id\": \"994ebd0f-14c2-428c-be53-e730bc3ca7a7\", \"presentation_request\": {\"version\": \"1.0\", \"name\": \"Proof request\", \"requested_attributes\": {\"data_dri\": {\"non_revoked\": {\"from_epoch\": 1500000000, \"to_epoch\": 1700758817}, \"restrictions\": [{\"cred_def_id\": \"WWZtMuY1V9hvFF1ezey2EM:3:CL:1175:Services\"}], \"name\": \"data_dri\"}}, \"requested_predicates\": {}, \"nonce\": \"236523038637111089936187\"}, \"thread_id\": \"aab467d6-30db-442a-a23e-354f77100467\", \"updated_at\": \"2020-09-22 11:58:42.143421Z\", \"presentation\": {\"proof\": {\"proofs\": [{\"primary_proof\": {\"eq_proof\": {\"revealed_attrs\": {\"data_dri\": \"46796680751272472783988362602137825638383598079504819093754394509164353886973\"}, \"a_prime\": \"42060925111681669636213334465461164575836194937273514079107094119770484811000923091931931784785962619845420855610272334622125682737405195884213715565867043509925472416542230863397669958480326702009362188549625307238027141923316901463241665948886510725396751211682976967537427315898409725423004977165973917577012397530091085459428313234742407572778673167976233810565597772593501428323674039588815331363333011131947563740565737374539566838030750665908985019265316116568987453545729637513283468515631444897559731280710185010390213929739834049875974694578153331367913238465099147764748757565809536821203716456575388378246\", \"e\": \"149744341664205744796154145307544248538889876675252530822112571443987546230915749702200658558420585713265123016013950977835969801053953057\", \"v\": \"611500275973716077638342134196143749269401777789295453477448952386694564754355219816896070280138046380597845313572924400039537614356550185345175519676886228534421522375059312418479172732704034125825285263726391463099804925326792955688994599264072888868147154086462088856576722420610251175390240393484212824859248095563277662182316048818404817752837750682311933776232565112156547542996673647885005252976628352266826262528613196337151779396744520955488617272922513173590890311138471331069250873591569080334336608211859065467889654065083576388358134177057657204175650203573670980280474111209661536613018013783943729771456848694997770331422735617853248555251590772247311074442108257482287847716201687135816676096040076847229708137930028637846719395420635293955991640151071282034453565406274539490046382548656941404839366363410458847362772078389209200362489367266760385226192321439164226416115778280460381338638837626371832277\", \"m\": {\"master_secret\": \"2386760805094402316301225455828598737852974810826183656609281403581400406381385357708002631450192597334737210900913783774065131278351010748381917449267988342221531930358518539593\", \"oca_schema_dri\": \"10467365126062225482220034266152025282119565305540774185894769593869521567039440403762918471710644463790938437383541425719509092454510052384855934169534701186169031533936996914208\", \"oca_schema_namespace\": \"5641039992783029118954033759931093315849431783850509706247083558761588336191455463479046583104389411550948521774966114533333848120198885113197917260032611884419343556216679868168\"}, \"m2\": \"9423589221175845988822465438365229099266331562855899050815504765507197913400318984512239410921352506129337243879571510767874922106901635484072542962230815225264781509213281129829\"}, \"ge_proofs\": []}, \"non_revoc_proof\": null}], \"aggregated_proof\": {\"c_hash\": \"13897483270767136334365162946375255520601393712161530796352281947775339896398\", \"c_list\": [[1, 77, 47, 204, 5, 97, 6, 60, 158, 55, 51, 65, 76, 154, 39, 86, 149, 244, 143, 41, 116, 94, 53, 141, 49, 38, 73, 51, 239, 187, 17, 43, 237, 113, 206, 6, 46, 213, 154, 195, 234, 33, 54, 144, 95, 132, 156, 147, 48, 125, 174, 17, 146, 107, 85, 227, 145, 206, 229, 246, 67, 191, 167, 65, 111, 24, 119, 26, 172, 132, 117, 244, 163, 236, 227, 155, 96, 23, 1, 213, 56, 25, 73, 110, 24, 150, 109, 194, 9, 117, 156, 97, 172, 96, 40, 127, 152, 155, 200, 129, 154, 125, 33, 159, 70, 11, 146, 191, 25, 96, 17, 197, 113, 193, 182, 252, 144, 235, 14, 238, 129, 214, 130, 131, 119, 162, 182, 242, 44, 158, 228, 57, 119, 93, 144, 200, 70, 234, 176, 146, 220, 47, 242, 70, 27, 19, 174, 161, 31, 85, 119, 241, 155, 46, 214, 170, 179, 127, 29, 3, 90, 188, 65, 169, 104, 181, 167, 129, 2, 227, 203, 148, 69, 145, 180, 255, 73, 135, 133, 76, 195, 230, 209, 158, 174, 249, 219, 148, 79, 88, 160, 250, 242, 28, 237, 234, 142, 75, 181, 105, 176, 70, 160, 222, 192, 225, 27, 17, 110, 58, 114, 69, 71, 6, 84, 55, 33, 180, 149, 173, 229, 5, 34, 120, 92, 220, 250, 55, 211, 152, 136, 2, 23, 11, 3, 232, 198, 94, 155, 57, 156, 157, 110, 162, 207, 172, 141, 175, 206, 120, 135, 218, 209, 204, 112, 100, 134]]}}, \"requested_proof\": {\"revealed_attrs\": {\"data_dri\": {\"sub_proof_index\": 0, \"raw\": \"7dfd716666994497926f8ca02e769257d36bba92f0c31e4fe91ccba9f4311f86\", \"encoded\": \"46796680751272472783988362602137825638383598079504819093754394509164353886973\"}}, \"self_attested_attrs\": {}, \"unrevealed_attrs\": {}, \"predicates\": {}}, \"identifiers\": [{\"schema_id\": \"WWZtMuY1V9hvFF1ezey2EM:2:consent_test:1.0\", \"cred_def_id\": \"WWZtMuY1V9hvFF1ezey2EM:3:CL:1175:Services\", \"rev_reg_id\": null, \"timestamp\": null}]}, \"role\": \"prover\"}\n"
     ]
    }
   ],
   "source": [
    "url = 'http://localhost:8150/present-proof/records/' + \\\n",
    "       proof_request['presentation_exchange_id'] + \\\n",
    "       '/send-presentation'\n",
    "\n",
    "presentation_schema = {\n",
    "  \"requested_attributes\": {\n",
    "    \"data_dri\": {\n",
    "      \"cred_id\": credentials['results'][0]['referent'],\n",
    "        \"revealed\": True\n",
    "    },\n",
    "  },\n",
    "   \"requested_predicates\": {\n",
    "  },\n",
    "  \"self_attested_attributes\": {\n",
    "  }\n",
    "}\n",
    "print(presentation_schema)\n",
    "present = requests.post(url, json=presentation_schema)\n",
    "\n",
    "print(present.text)"
   ]
  },
  {
   "cell_type": "code",
   "execution_count": 53,
   "metadata": {},
   "outputs": [],
   "source": [
    "send = requests.post('http://localhost:8151/schema-exchange/request-schema', json={\n",
    "  \"hash_id\": add['hash_id'],\n",
    "  \"connection_id\": connection[1]\n",
    "})"
   ]
  },
  {
   "cell_type": "code",
   "execution_count": 54,
   "metadata": {},
   "outputs": [],
   "source": [
    "send = requests.post('http://localhost:8151/schema-exchange/request-schema', json={\n",
    "  \"hash_id\": \"ddd\",\n",
    "  \"connection_id\": connection[1]\n",
    "})"
   ]
  },
  {
   "cell_type": "code",
   "execution_count": 55,
   "metadata": {
    "scrolled": true
   },
   "outputs": [
    {
     "name": "stdout",
     "output_type": "stream",
     "text": [
      "{\"hash_id\": \"ddd\", \"connection_id\": \"a361d994-aaea-4f5c-9bf4-9644a774de2b\", \"record_id\": \"1e61b917-946b-4a56-8810-5b48081f79e6\", \"exchange_id\": \"c5f71769-b806-49fe-8861-15f49ffad9e3\", \"state\": \"pending\"}\n"
     ]
    }
   ],
   "source": [
    "print(send.text)"
   ]
  },
  {
   "cell_type": "markdown",
   "metadata": {},
   "source": [
    "### GET Request By RECORD_ID"
   ]
  },
  {
   "cell_type": "markdown",
   "metadata": {},
   "source": [
    "### GET Request List and filter by state and author"
   ]
  },
  {
   "cell_type": "code",
   "execution_count": 56,
   "metadata": {
    "scrolled": true
   },
   "outputs": [
    {
     "name": "stdout",
     "output_type": "stream",
     "text": [
      "Agent1:\n",
      "[{'author': 'other',\n",
      "  'connection_id': '844f6e7f-c13e-4ef8-b018-754fc5205445',\n",
      "  'created_at': '2020-07-16 09:09:17.991960Z',\n",
      "  'exchange_id': 'c5f71769-b806-49fe-8861-15f49ffad9e3',\n",
      "  'payload': 'ddd',\n",
      "  'state': 'failed to find the record',\n",
      "  'updated_at': '2020-07-16 09:09:17.991960Z'},\n",
      " {'author': 'other',\n",
      "  'connection_id': '844f6e7f-c13e-4ef8-b018-754fc5205445',\n",
      "  'created_at': '2020-07-16 09:09:16.748526Z',\n",
      "  'exchange_id': 'f51e4a06-2214-4b9e-a28a-d4c336258f66',\n",
      "  'payload': '9f86d081884c7d659a2feaa0c55ad015a3bf4f1b2b0b822cd15d6c15b0f00a08',\n",
      "  'state': 'approved',\n",
      "  'updated_at': '2020-07-16 09:09:16.748526Z'}]\n",
      "\n",
      "Agent2:\n",
      "[{'author': 'self',\n",
      "  'connection_id': 'a361d994-aaea-4f5c-9bf4-9644a774de2b',\n",
      "  'created_at': '2020-07-16 09:09:17.950785Z',\n",
      "  'exchange_id': 'c5f71769-b806-49fe-8861-15f49ffad9e3',\n",
      "  'payload': 'ddd',\n",
      "  'state': 'failed to find the record',\n",
      "  'updated_at': '2020-07-16 09:09:18.029400Z'},\n",
      " {'author': 'self',\n",
      "  'connection_id': 'a361d994-aaea-4f5c-9bf4-9644a774de2b',\n",
      "  'created_at': '2020-07-16 09:09:16.720869Z',\n",
      "  'exchange_id': 'f51e4a06-2214-4b9e-a28a-d4c336258f66',\n",
      "  'payload': '9f86d081884c7d659a2feaa0c55ad015a3bf4f1b2b0b822cd15d6c15b0f00a08',\n",
      "  'state': 'approved',\n",
      "  'updated_at': '2020-07-16 09:09:16.780856Z'}]\n"
     ]
    }
   ],
   "source": [
    "request_list = requests.post('http://localhost:8150/schema-storage/debug/request/list', json={})\n",
    "request_list = json.loads(request_list.text)\n",
    "print(\"Agent1:\", )\n",
    "pp.pprint(request_list)\n",
    "request_list = requests.post('http://localhost:8151/schema-storage/debug/request/list', json={})\n",
    "request_list = json.loads(request_list.text)\n",
    "print(\"\\nAgent2:\")\n",
    "pp.pprint(request_list)"
   ]
  },
  {
   "cell_type": "markdown",
   "metadata": {},
   "source": [
    "### GET RECORD LIST"
   ]
  },
  {
   "cell_type": "code",
   "execution_count": 57,
   "metadata": {
    "scrolled": true
   },
   "outputs": [
    {
     "name": "stdout",
     "output_type": "stream",
     "text": [
      "Agent1: \n",
      "[{'author': 'self',\n",
      "  'created_at': '2020-07-16 09:09:15.407083Z',\n",
      "  'hash_id': '9f86d081884c7d659a2feaa0c55ad015a3bf4f1b2b0b822cd15d6c15b0f00a08',\n",
      "  'payload': 'test',\n",
      "  'updated_at': '2020-07-16 09:09:15.407083Z'}]\n",
      "Agent2: \n",
      "[{'author': 'a361d994-aaea-4f5c-9bf4-9644a774de2b',\n",
      "  'created_at': '2020-07-16 09:09:16.808608Z',\n",
      "  'hash_id': '9f86d081884c7d659a2feaa0c55ad015a3bf4f1b2b0b822cd15d6c15b0f00a08',\n",
      "  'payload': 'test',\n",
      "  'updated_at': '2020-07-16 09:09:16.808608Z'}]\n"
     ]
    }
   ],
   "source": [
    "getRequests = requests.post('http://localhost:8150/schema-storage/list')\n",
    "record_list = json.loads(getRequests.text)\n",
    "print(\"Agent1: \")\n",
    "pp.pprint(record_list)\n",
    "\n",
    "getRequests = requests.post('http://localhost:8151/schema-storage/list')\n",
    "record_list = json.loads(getRequests.text)\n",
    "print(\"Agent2: \")\n",
    "pp.pprint(record_list)"
   ]
  },
  {
   "cell_type": "code",
   "execution_count": null,
   "metadata": {},
   "outputs": [],
   "source": [
    "\n",
    "# message = util.buildMessage(\n",
    "#         'https://didcomm.org/issue-credential/1.0/propose-credential'\n",
    "#     )\n",
    "# testing = util.sendMessage(message, agents[0])\n",
    "# pp.pprint(testing)"
   ]
  },
  {
   "cell_type": "code",
   "execution_count": null,
   "metadata": {},
   "outputs": [],
   "source": [
    "# pp.pprint(util.sendSchema(agents[0], \"schesssdddvd\", \"1.0\", [\"memesssaaaaaaa\"]))"
   ]
  },
  {
   "cell_type": "code",
   "execution_count": null,
   "metadata": {},
   "outputs": [],
   "source": [
    "# result = util.schemaGetList(agents[0])\n",
    "# last_schema_id = result['results'][-1]['schema_id']\n",
    "# print(result)"
   ]
  },
  {
   "cell_type": "code",
   "execution_count": null,
   "metadata": {},
   "outputs": [],
   "source": [
    "# util.schemaGet(agents[0], last_schema_id)"
   ]
  }
 ],
 "metadata": {
  "kernelspec": {
   "display_name": "Python 3",
   "language": "python",
   "name": "python3"
  },
  "language_info": {
   "codemirror_mode": {
    "name": "ipython",
    "version": 3
   },
   "file_extension": ".py",
   "mimetype": "text/x-python",
   "name": "python",
   "nbconvert_exporter": "python",
   "pygments_lexer": "ipython3",
   "version": "3.7.5"
  }
 },
 "nbformat": 4,
 "nbformat_minor": 4
}
