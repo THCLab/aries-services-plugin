{
 "cells": [
  {
   "cell_type": "code",
   "execution_count": 15,
   "metadata": {},
   "outputs": [
    {
     "data": {
      "text/plain": [
       "<module 'jupyter_util' from '/home/sevni/Documents/thclab/aries/aries-acapy-plugin/controller_acapy/jupyter_util.py'>"
      ]
     },
     "execution_count": 15,
     "metadata": {},
     "output_type": "execute_result"
    }
   ],
   "source": [
    "import requests \n",
    "import json\n",
    "import pprint as pp # pretty print\n",
    "\n",
    "import aries_cloudagent.wallet.crypto as crypto\n",
    "import base64\n",
    "import base58\n",
    "import uuid\n",
    "import hashlib\n",
    "import jupyter_util as util\n",
    "from importlib import reload\n",
    "reload(util)"
   ]
  },
  {
   "cell_type": "markdown",
   "metadata": {},
   "source": [
    "## Enter Invite Url:"
   ]
  },
  {
   "cell_type": "code",
   "execution_count": 2,
   "metadata": {},
   "outputs": [
    {
     "name": "stdout",
     "output_type": "stream",
     "text": [
      "http://agent1.localhost?c_i=eyJAdHlwZSI6ICJkaWQ6c292OkJ6Q2JzTlloTXJqSGlxWkRUVUFTSGc7c3BlYy9jb25uZWN0aW9ucy8xLjAvaW52aXRhdGlvbiIsICJAaWQiOiAiMTUyM2E3M2YtZmY0My00OTQwLWJlNzktMzlmNjQ2N2QzMzM3IiwgImxhYmVsIjogIk1haW4gKGFkbWluKSIsICJzZXJ2aWNlRW5kcG9pbnQiOiAiaHR0cDovL2FnZW50MS5sb2NhbGhvc3QiLCAicmVjaXBpZW50S2V5cyI6IFsiMjJMUXk3ZjN0cnRIZ1pvUlZtdW1YR0E0Q3pFaGhkVHJzejV5c3pidHBjeEciXX0=\n"
     ]
    }
   ],
   "source": [
    "agent1 = {}\n",
    "plugin = {}\n",
    "endpoint = \"http://localhost:8150/connections/create-admin-invitation-url\"\n",
    "adminInvitationResponse = requests.post(endpoint)\n",
    "adminInvitationResponse = adminInvitationResponse.text\n",
    "agent1['url'] = json.loads(adminInvitationResponse)['invitation_url']\n",
    "print(agent1['url'])"
   ]
  },
  {
   "cell_type": "code",
   "execution_count": 3,
   "metadata": {
    "scrolled": true
   },
   "outputs": [
    {
     "name": "stdout",
     "output_type": "stream",
     "text": [
      "http://agent2.localhost?c_i=eyJAdHlwZSI6ICJkaWQ6c292OkJ6Q2JzTlloTXJqSGlxWkRUVUFTSGc7c3BlYy9jb25uZWN0aW9ucy8xLjAvaW52aXRhdGlvbiIsICJAaWQiOiAiYTVjMWUxMDQtMTRlYy00ODg4LTg3MjgtYzUyZTI0MmVlNGJjIiwgInJlY2lwaWVudEtleXMiOiBbIkJ2MnNtZWEyYVQ1dFNocjlheUFjU1FwS3NoQzFWc3VMaGpKb0pDem1ZQ0tRIl0sICJsYWJlbCI6ICJDbGllbnQgKGFkbWluKSIsICJzZXJ2aWNlRW5kcG9pbnQiOiAiaHR0cDovL2FnZW50Mi5sb2NhbGhvc3QifQ==\n"
     ]
    }
   ],
   "source": [
    "agent2 = {}\n",
    "endpoint = \"http://localhost:8151/connections/create-admin-invitation-url\"\n",
    "adminInvitationResponse = requests.post(endpoint)\n",
    "adminInvitationResponse = adminInvitationResponse.text\n",
    "agent2['url'] = json.loads(adminInvitationResponse)['invitation_url']\n",
    "print(agent2['url'])"
   ]
  },
  {
   "cell_type": "code",
   "execution_count": 4,
   "metadata": {
    "scrolled": true
   },
   "outputs": [
    {
     "name": "stdout",
     "output_type": "stream",
     "text": [
      "Decoded invitation:\n",
      "\n",
      "{'@id': 'a5c1e104-14ec-4888-8728-c52e242ee4bc',\n",
      " '@type': 'did:sov:BzCbsNYhMrjHiqZDTUASHg;spec/connections/1.0/invitation',\n",
      " 'label': 'Client (admin)',\n",
      " 'recipientKeys': ['Bv2smea2aT5tShr9ayAcSQpKshC1VsuLhjJoJCzmYCKQ'],\n",
      " 'serviceEndpoint': 'http://agent2.localhost'}\n"
     ]
    }
   ],
   "source": [
    "agent1 = util.processInviteUrl(agent1['url'])\n",
    "agent2 = util.processInviteUrl(agent2['url'])\n",
    "print(\"Decoded invitation:\\n\")\n",
    "pp.pprint(agent2['invite'])"
   ]
  },
  {
   "cell_type": "code",
   "execution_count": 5,
   "metadata": {
    "scrolled": true
   },
   "outputs": [
    {
     "name": "stdout",
     "output_type": "stream",
     "text": [
      "Private key: \n",
      " 3uZMpXzs9b8KMfTzrHMi8SQf9eySzsSqCQCgU3aUTeyF5axUWomFPPzkhtjcG93pLmEaGaXvfpcrmGGpBkNvXEBB\n",
      "\n",
      "Public key: \n",
      " Tz6sMt7RVPFgfrGALgqLQSgqWQp24SC8bHQSeETh2mf\n"
     ]
    }
   ],
   "source": [
    "### Generating a did key using aries crypto module\n",
    "# Create a key pair with random seed \n",
    "# Order: 0 - public key, 1 - secret / pritvate key\n",
    "plugin['keypair'] = crypto.create_keypair()\n",
    "# it seems to me that did is an encoded sub string of public key\n",
    "# or maybe just some arbitrary random number\n",
    "did = plugin['keypair'][0][:16]\n",
    "# final version of our did\n",
    "plugin['did'] = base58.b58encode(did).decode(\"ascii\")\n",
    "# encoding keys to base58\n",
    "plugin['public_key_b58'] = \\\n",
    "    base58.b58encode(plugin['keypair'][0]).decode(\"ascii\")\n",
    "plugin['private_key_b58'] = \\\n",
    "    base58.b58encode(plugin['keypair'][1]).decode(\"ascii\")\n",
    "\n",
    "print(\"Private key: \\n\", plugin['private_key_b58'])\n",
    "print(\"\\nPublic key: \\n\", plugin['public_key_b58'])"
   ]
  },
  {
   "cell_type": "markdown",
   "metadata": {},
   "source": [
    "**Sending a connection request to acapy**"
   ]
  },
  {
   "cell_type": "code",
   "execution_count": 6,
   "metadata": {
    "scrolled": false
   },
   "outputs": [],
   "source": [
    "agent1['connection'] = util.connectWithAcapy(agent1, plugin)\n",
    "agent2['connection'] = util.connectWithAcapy(agent2, plugin)\n",
    "# print(\"Decoded acapy response: \\n\")\n",
    "# pp.pprint(agent1['conn'])"
   ]
  },
  {
   "cell_type": "markdown",
   "metadata": {},
   "source": [
    "**Unpacking connection data embedded in the response**"
   ]
  },
  {
   "cell_type": "code",
   "execution_count": 7,
   "metadata": {
    "scrolled": true
   },
   "outputs": [],
   "source": [
    "agent1['connection_details'] = util.decodeConnectionDetails(agent1['connection'])\n",
    "agent2['connection_details'] = util.decodeConnectionDetails(agent2['connection'])"
   ]
  },
  {
   "cell_type": "markdown",
   "metadata": {},
   "source": [
    "**Adding the connection to connection list**"
   ]
  },
  {
   "cell_type": "code",
   "execution_count": 8,
   "metadata": {
    "scrolled": true
   },
   "outputs": [],
   "source": [
    "agents = [\n",
    "    {\n",
    "        \"label\": agent1['invite']['label'],\n",
    "        \"DIDDoc\": agent1['connection_details']['DIDDoc'],\n",
    "        \"myKey\": plugin['keypair'][1]\n",
    "    },\n",
    "    {\n",
    "        \"label\": agent2['invite']['label'],\n",
    "        \"DIDDoc\": agent2['connection_details']['DIDDoc'],\n",
    "        \"myKey\": plugin['keypair'][1]\n",
    "    },\n",
    "]\n",
    "\n",
    "# pp.pprint(connections)"
   ]
  },
  {
   "cell_type": "markdown",
   "metadata": {},
   "source": [
    "### FEATURE DISCOVERY"
   ]
  },
  {
   "cell_type": "code",
   "execution_count": 9,
   "metadata": {},
   "outputs": [],
   "source": [
    "# pp.pprint(util.getFeatureDiscovery(agents[0]))"
   ]
  },
  {
   "cell_type": "code",
   "execution_count": 35,
   "metadata": {},
   "outputs": [
    {
     "name": "stdout",
     "output_type": "stream",
     "text": [
      "some string yes dddd 903add166c6526429fc224bdfa339c99ea1069b9d0e2c39c42a1fd6e0dc2b630\n"
     ]
    }
   ],
   "source": [
    "payload = \"some string yes dddd\"\n",
    "payload_response = \"response yay\"\n",
    "hashid = hashlib.sha256(payload.encode(\"UTF-8\")).hexdigest()\n",
    "hashid_response = hashlib.sha256(payload_response.encode(\"UTF-8\")).hexdigest()\n",
    "print(payload, hashid)"
   ]
  },
  {
   "cell_type": "code",
   "execution_count": 19,
   "metadata": {},
   "outputs": [
    {
     "name": "stdout",
     "output_type": "stream",
     "text": [
      "df4ca9d6-560c-46f4-b1cf-eb8da6f37510 \n",
      " 1247c7cf-18bc-44c3-b362-99a6bb3a10c5\n"
     ]
    }
   ],
   "source": [
    "## TODO: this should return both creds\n",
    "\n",
    "connection = util.connectAgents(agents[0], agents[1])\n",
    "connection[1] = connection[1]['raw_repr']['connection_id']\n",
    "connection[0] = connection[0]['connection_id']\n",
    "print(connection[0], \"\\n\", connection[1])"
   ]
  },
  {
   "cell_type": "code",
   "execution_count": 46,
   "metadata": {},
   "outputs": [],
   "source": [
    "send = requests.post('http://localhost:8151/schema-exchange/send', json={\n",
    "  \"payload\": \"asdad\",\n",
    "  \"connection_id\": connection[1]\n",
    "})"
   ]
  },
  {
   "cell_type": "code",
   "execution_count": 47,
   "metadata": {
    "scrolled": true
   },
   "outputs": [
    {
     "name": "stdout",
     "output_type": "stream",
     "text": [
      "{'payload': 'asdad', 'connection_id': '1247c7cf-18bc-44c3-b362-99a6bb3a10c5', 'hashid': '9321dba76b029b298ee76fbb3e25f2a6261806d62b7c03b3754bafd5737b5f45'}\n"
     ]
    }
   ],
   "source": [
    "send = json.loads(send.text)\n",
    "print(send)"
   ]
  },
  {
   "cell_type": "code",
   "execution_count": 50,
   "metadata": {},
   "outputs": [
    {
     "name": "stdout",
     "output_type": "stream",
     "text": [
      "9321dba76b029b298ee76fbb3e25f2a6261806d62b7c03b3754bafd5737b5f45\n",
      "<Response [404]>\n"
     ]
    }
   ],
   "source": [
    "get = requests.get('http://localhost:8151/schema-exchange/' + send['hashid'])\n",
    "print(send['hashid'])\n",
    "#     get = json.loads(get.text)\n",
    "print(get)"
   ]
  },
  {
   "cell_type": "code",
   "execution_count": 100,
   "metadata": {},
   "outputs": [],
   "source": [
    "send = requests.post('http://localhost:8150/schema-exchange/send-response', json={\n",
    "  \"payload\": \"response yay\",\n",
    "  \"connection_id\": connection[1],\n",
    "    \"state\": \"accepted\",\n",
    "    \"hashid\": get['hashid']\n",
    "})\n",
    "response = json.loads(send.text)"
   ]
  },
  {
   "cell_type": "code",
   "execution_count": 101,
   "metadata": {},
   "outputs": [
    {
     "data": {
      "text/plain": [
       "{'payload': 'response yay',\n",
       " 'connection_id': '75878b2d-f674-48e9-9062-878063013548',\n",
       " 'state': 'accepted'}"
      ]
     },
     "execution_count": 101,
     "metadata": {},
     "output_type": "execute_result"
    }
   ],
   "source": [
    "response"
   ]
  },
  {
   "cell_type": "code",
   "execution_count": 103,
   "metadata": {},
   "outputs": [
    {
     "name": "stdout",
     "output_type": "stream",
     "text": [
      "{\"hashid\": \"1ed513da69bd4484dca947eb42d87a55d9842ae6d3634fb3a595aefa6c1fd0f5\", \"payload\": \"response yay\", \"state\": \"accepted\", \"author\": \"other\", \"connection_id\": \"75878b2d-f674-48e9-9062-878063013548\"}\n"
     ]
    }
   ],
   "source": [
    "send = requests.get('http://localhost:8151/schema-exchange/' + hashid_response)\n",
    "print(send.text)"
   ]
  },
  {
   "cell_type": "code",
   "execution_count": 31,
   "metadata": {},
   "outputs": [],
   "source": [
    "# message = util.buildMessage(\n",
    "#         'https://didcomm.org/issue-credential/1.0/propose-credential'\n",
    "#     )\n",
    "# testing = util.sendMessage(message, agents[0])\n",
    "# pp.pprint(testing)"
   ]
  },
  {
   "cell_type": "code",
   "execution_count": 32,
   "metadata": {
    "scrolled": true
   },
   "outputs": [],
   "source": [
    "# newDid = util.createDid(agents[0])\n",
    "# pp.pprint(newDid['result'])"
   ]
  },
  {
   "cell_type": "code",
   "execution_count": 33,
   "metadata": {
    "scrolled": false
   },
   "outputs": [],
   "source": [
    "# util.registerDidOnLedger(agents[0], newDid['result']['did'], newDid['result']['verkey'])"
   ]
  },
  {
   "cell_type": "code",
   "execution_count": 34,
   "metadata": {
    "scrolled": false
   },
   "outputs": [],
   "source": [
    "# util.setPublicDid(agents[0], newDid['result']['did'])"
   ]
  },
  {
   "cell_type": "code",
   "execution_count": 35,
   "metadata": {},
   "outputs": [],
   "source": [
    "# pp.pprint(util.sendSchema(agents[0], \"schesssdddvd\", \"1.0\", [\"memesssaaaaaaa\"]))"
   ]
  },
  {
   "cell_type": "code",
   "execution_count": 36,
   "metadata": {},
   "outputs": [],
   "source": [
    "# result = util.schemaGetList(agents[0])\n",
    "# last_schema_id = result['results'][-1]['schema_id']\n",
    "# print(result)"
   ]
  },
  {
   "cell_type": "code",
   "execution_count": 37,
   "metadata": {},
   "outputs": [],
   "source": [
    "# util.schemaGet(agents[0], last_schema_id)"
   ]
  }
 ],
 "metadata": {
  "kernelspec": {
   "display_name": "Python 3",
   "language": "python",
   "name": "python3"
  },
  "language_info": {
   "codemirror_mode": {
    "name": "ipython",
    "version": 3
   },
   "file_extension": ".py",
   "mimetype": "text/x-python",
   "name": "python",
   "nbconvert_exporter": "python",
   "pygments_lexer": "ipython3",
   "version": "3.7.5"
  }
 },
 "nbformat": 4,
 "nbformat_minor": 4
}
