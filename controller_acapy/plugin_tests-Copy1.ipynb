{
 "cells": [
  {
   "cell_type": "code",
   "execution_count": 104,
   "metadata": {},
   "outputs": [
    {
     "data": {
      "text/plain": [
       "<module 'jupyter_util' from '/home/sevni/Documents/thclab/aries/aries-acapy-plugin/controller_acapy/jupyter_util.py'>"
      ]
     },
     "execution_count": 104,
     "metadata": {},
     "output_type": "execute_result"
    }
   ],
   "source": [
    "import requests \n",
    "import json\n",
    "import pprint as pp # pretty print\n",
    "\n",
    "import aries_cloudagent.wallet.crypto as crypto\n",
    "import base64\n",
    "import base58\n",
    "import uuid\n",
    "import hashlib\n",
    "import jupyter_util as util\n",
    "from importlib import reload\n",
    "reload(util)"
   ]
  },
  {
   "cell_type": "markdown",
   "metadata": {},
   "source": [
    "## Enter Invite Url:"
   ]
  },
  {
   "cell_type": "code",
   "execution_count": 105,
   "metadata": {},
   "outputs": [
    {
     "name": "stdout",
     "output_type": "stream",
     "text": [
      "http://agent1.localhost?c_i=eyJAdHlwZSI6ICJkaWQ6c292OkJ6Q2JzTlloTXJqSGlxWkRUVUFTSGc7c3BlYy9jb25uZWN0aW9ucy8xLjAvaW52aXRhdGlvbiIsICJAaWQiOiAiNTlkOGM3N2MtZDRlNy00OWMyLTg3MDUtMjllZmUxYjc3NmE5IiwgInNlcnZpY2VFbmRwb2ludCI6ICJodHRwOi8vYWdlbnQxLmxvY2FsaG9zdCIsICJyZWNpcGllbnRLZXlzIjogWyI0SGtmang5SGNqS1JGMjg1c212RW5KUllrNVdKUTV6aGVWOVl0dUI5ZGdHVCJdLCAibGFiZWwiOiAiTWFpbiAoYWRtaW4pIn0=\n"
     ]
    }
   ],
   "source": [
    "agent1 = {}\n",
    "plugin = {}\n",
    "endpoint = \"http://localhost:8150/connections/create-admin-invitation-url\"\n",
    "adminInvitationResponse = requests.post(endpoint)\n",
    "adminInvitationResponse = adminInvitationResponse.text\n",
    "agent1['url'] = json.loads(adminInvitationResponse)['invitation_url']\n",
    "print(agent1['url'])"
   ]
  },
  {
   "cell_type": "code",
   "execution_count": 106,
   "metadata": {
    "scrolled": true
   },
   "outputs": [
    {
     "name": "stdout",
     "output_type": "stream",
     "text": [
      "http://agent2.localhost?c_i=eyJAdHlwZSI6ICJkaWQ6c292OkJ6Q2JzTlloTXJqSGlxWkRUVUFTSGc7c3BlYy9jb25uZWN0aW9ucy8xLjAvaW52aXRhdGlvbiIsICJAaWQiOiAiOGExZWRhYjctOWZhNy00MzkwLWIyMTgtZmQ0N2I4NGFlNDZlIiwgInJlY2lwaWVudEtleXMiOiBbIjlhaUJVTmlKeXR4QmVRbzZvU0p3Qm9yVnpYVExFekVMdTVYRGRpdGgzNjJMIl0sICJsYWJlbCI6ICJDbGllbnQgKGFkbWluKSIsICJzZXJ2aWNlRW5kcG9pbnQiOiAiaHR0cDovL2FnZW50Mi5sb2NhbGhvc3QifQ==\n"
     ]
    }
   ],
   "source": [
    "agent2 = {}\n",
    "endpoint = \"http://localhost:8151/connections/create-admin-invitation-url\"\n",
    "adminInvitationResponse = requests.post(endpoint)\n",
    "adminInvitationResponse = adminInvitationResponse.text\n",
    "agent2['url'] = json.loads(adminInvitationResponse)['invitation_url']\n",
    "print(agent2['url'])"
   ]
  },
  {
   "cell_type": "code",
   "execution_count": 107,
   "metadata": {
    "scrolled": true
   },
   "outputs": [
    {
     "name": "stdout",
     "output_type": "stream",
     "text": [
      "Decoded invitation:\n",
      "\n",
      "{'@id': '8a1edab7-9fa7-4390-b218-fd47b84ae46e',\n",
      " '@type': 'did:sov:BzCbsNYhMrjHiqZDTUASHg;spec/connections/1.0/invitation',\n",
      " 'label': 'Client (admin)',\n",
      " 'recipientKeys': ['9aiBUNiJytxBeQo6oSJwBorVzXTLEzELu5XDdith362L'],\n",
      " 'serviceEndpoint': 'http://agent2.localhost'}\n"
     ]
    }
   ],
   "source": [
    "agent1 = util.processInviteUrl(agent1['url'])\n",
    "agent2 = util.processInviteUrl(agent2['url'])\n",
    "print(\"Decoded invitation:\\n\")\n",
    "pp.pprint(agent2['invite'])"
   ]
  },
  {
   "cell_type": "code",
   "execution_count": 108,
   "metadata": {
    "scrolled": true
   },
   "outputs": [
    {
     "name": "stdout",
     "output_type": "stream",
     "text": [
      "Private key: \n",
      " 2MYaxTDVxVAhiJS35mB6LYNU4gbMY3zjjYUuGfpryaStUzM9mSSxH8EmtMn5PUAJ88TVB9db1BKkihBy99cpwrf8\n",
      "\n",
      "Public key: \n",
      " BJTS4rZJ8gCiRMUdQfWicAuCbvgFo8okeoa6Yb9252zA\n"
     ]
    }
   ],
   "source": [
    "### Generating a did key using aries crypto module\n",
    "# Create a key pair with random seed \n",
    "# Order: 0 - public key, 1 - secret / pritvate key\n",
    "plugin['keypair'] = crypto.create_keypair()\n",
    "# it seems to me that did is an encoded sub string of public key\n",
    "# or maybe just some arbitrary random number\n",
    "did = plugin['keypair'][0][:16]\n",
    "# final version of our did\n",
    "plugin['did'] = base58.b58encode(did).decode(\"ascii\")\n",
    "# encoding keys to base58\n",
    "plugin['public_key_b58'] = \\\n",
    "    base58.b58encode(plugin['keypair'][0]).decode(\"ascii\")\n",
    "plugin['private_key_b58'] = \\\n",
    "    base58.b58encode(plugin['keypair'][1]).decode(\"ascii\")\n",
    "\n",
    "print(\"Private key: \\n\", plugin['private_key_b58'])\n",
    "print(\"\\nPublic key: \\n\", plugin['public_key_b58'])"
   ]
  },
  {
   "cell_type": "markdown",
   "metadata": {},
   "source": [
    "**Sending a connection request to acapy**"
   ]
  },
  {
   "cell_type": "code",
   "execution_count": 109,
   "metadata": {
    "scrolled": false
   },
   "outputs": [],
   "source": [
    "agent1['connection'] = util.connectWithAcapy(agent1, plugin)\n",
    "agent2['connection'] = util.connectWithAcapy(agent2, plugin)\n",
    "# print(\"Decoded acapy response: \\n\")\n",
    "# pp.pprint(agent1['conn'])"
   ]
  },
  {
   "cell_type": "markdown",
   "metadata": {},
   "source": [
    "**Unpacking connection data embedded in the response**"
   ]
  },
  {
   "cell_type": "code",
   "execution_count": 110,
   "metadata": {
    "scrolled": true
   },
   "outputs": [],
   "source": [
    "agent1['connection_details'] = util.decodeConnectionDetails(agent1['connection'])\n",
    "agent2['connection_details'] = util.decodeConnectionDetails(agent2['connection'])"
   ]
  },
  {
   "cell_type": "markdown",
   "metadata": {},
   "source": [
    "**Adding the connection to connection list**"
   ]
  },
  {
   "cell_type": "code",
   "execution_count": 111,
   "metadata": {
    "scrolled": true
   },
   "outputs": [],
   "source": [
    "agents = [\n",
    "    {\n",
    "        \"label\": agent1['invite']['label'],\n",
    "        \"DIDDoc\": agent1['connection_details']['DIDDoc'],\n",
    "        \"myKey\": plugin['keypair'][1]\n",
    "    },\n",
    "    {\n",
    "        \"label\": agent2['invite']['label'],\n",
    "        \"DIDDoc\": agent2['connection_details']['DIDDoc'],\n",
    "        \"myKey\": plugin['keypair'][1]\n",
    "    },\n",
    "]\n",
    "\n",
    "# pp.pprint(connections)"
   ]
  },
  {
   "cell_type": "code",
   "execution_count": 112,
   "metadata": {
    "scrolled": true
   },
   "outputs": [
    {
     "name": "stdout",
     "output_type": "stream",
     "text": [
      "838516d7-dfa7-4d9c-859e-d4a0b9c030c3 \n",
      " 5c435eae-a8e3-4c92-851e-1c81e1847cf1\n"
     ]
    }
   ],
   "source": [
    "connection = util.connectAgents(agents[0], agents[1])\n",
    "connection[1] = connection[1]['raw_repr']['connection_id']\n",
    "connection[0] = connection[0]['connection_id']\n",
    "print(connection[0], \"\\n\", connection[1])"
   ]
  },
  {
   "cell_type": "code",
   "execution_count": 113,
   "metadata": {
    "scrolled": true
   },
   "outputs": [],
   "source": [
    "\n",
    "\n",
    "# add = requests.post('http://localhost:8150/test-vs', json={\n",
    "#   \"connection_id\": connection[0]\n",
    "# })\n",
    "# print(add.text)\n",
    "# add = json.loads(add.text)"
   ]
  },
  {
   "cell_type": "markdown",
   "metadata": {},
   "source": [
    "### FEATURE DISCOVERY"
   ]
  },
  {
   "cell_type": "code",
   "execution_count": 114,
   "metadata": {
    "scrolled": true
   },
   "outputs": [],
   "source": [
    "# pp.pprint(util.getFeatureDiscovery(agents[0]))"
   ]
  },
  {
   "cell_type": "code",
   "execution_count": 115,
   "metadata": {},
   "outputs": [],
   "source": [
    "# consentSchema: function() {\n",
    "#       return {\n",
    "#         namespace: \"consent\",\n",
    "#         DRI: \"fArVHJTQSKHu2CeXJocQmH3HHxzZXsuQD7kzyHJhQ49s\"\n",
    "#       }\n",
    "#     },\n",
    "\n",
    "# consentAnswers: function() {\n",
    "#       return [\n",
    "#         \"zQmNeoZGfo1chKACu9RLrVoG4afjLrGnAz1rhsfvGZwg9Z3\",\n",
    "#         \"zQmPsU57nqWY8jzndU9AE2RK4EXvjMLGmytVpUNxfRpm18G\"\n",
    "#       ]"
   ]
  },
  {
   "cell_type": "code",
   "execution_count": 116,
   "metadata": {
    "scrolled": false
   },
   "outputs": [
    {
     "data": {
      "text/plain": [
       "{'@type': 'did:sov:BzCbsNYhMrjHiqZDTUASHg;spec/admin-dids/0.1/did',\n",
       " '@id': '6c30160f-77cb-4566-847c-0980e0a37b0c',\n",
       " '~thread': {'thid': 'e9405436-64db-490f-bd1e-b5c47873696a'},\n",
       " 'result': {'metadata': {'public': True, 'posted': True},\n",
       "  'did': 'PaSe2EpSe8XwGAXmZFARcv',\n",
       "  'verkey': 'DJh3ZzQqTjHyPFsdtw7eFJCueSc5PXmUE2RrbQ2rgrT1'}}"
      ]
     },
     "execution_count": 116,
     "metadata": {},
     "output_type": "execute_result"
    }
   ],
   "source": [
    "add = requests.post('http://localhost:8151/verifiable-services/add', json={\n",
    "  \"label\": \"consent_test\",\n",
    "  \"service_schema\": {\n",
    "    \"oca_schema_namespace\": \"string\",\n",
    "    \"oca_schema_dri\": \"string\"\n",
    "  },\n",
    "  \"consent_schema\": {\n",
    "    \"oca_schema_namespace\": \"consent\",\n",
    "    \"oca_schema_dri\": \"fArVHJTQSKHu2CeXJocQmH3HHxzZXsuQD7kzyHJhQ49s\",\n",
    "    \"data_url\": \"zQmPsU57nqWY8jzndU9AE2RK4EXvjMLGmytVpUNxfRpm18G\"\n",
    "  }\n",
    "})\n",
    "add = json.loads(add.text)\n",
    "\n",
    "newDid1 = util.createDid(agents[1])\n",
    "newDid0 = util.createDid(agents[0])\n",
    "\n",
    "try:\n",
    "    util.registerDidOnLedger(agents[1], newDid1['result']['did'], newDid1['result']['verkey'])\n",
    "except:\n",
    "    pass\n",
    "try:\n",
    "    util.registerDidOnLedger(agents[0], newDid0['result']['did'], newDid0['result']['verkey'])\n",
    "except:\n",
    "    pass\n",
    "\n",
    "util.setPublicDid(agents[1], newDid1['result']['did'])\n",
    "util.setPublicDid(agents[0], newDid0['result']['did'])"
   ]
  },
  {
   "cell_type": "code",
   "execution_count": 117,
   "metadata": {
    "scrolled": false
   },
   "outputs": [
    {
     "name": "stdout",
     "output_type": "stream",
     "text": [
      "{'connection_id': '838516d7-dfa7-4d9c-859e-d4a0b9c030c3',\n",
      " 'created_at': '2020-09-15 10:40:15.624910Z',\n",
      " 'services': [{'consent_schema': {'data_url': 'zQmPsU57nqWY8jzndU9AE2RK4EXvjMLGmytVpUNxfRpm18G',\n",
      "                                  'oca_schema_dri': 'fArVHJTQSKHu2CeXJocQmH3HHxzZXsuQD7kzyHJhQ49s',\n",
      "                                  'oca_schema_namespace': 'consent'},\n",
      "               'label': 'consent_test',\n",
      "               'service_id': 'f6171800-e112-43fc-84e3-01068ea4c69c',\n",
      "               'service_schema': {'oca_schema_dri': 'string',\n",
      "                                  'oca_schema_namespace': 'string'}},\n",
      "              {'consent_schema': {'data_url': 'zQmPsU57nqWY8jzndU9AE2RK4EXvjMLGmytVpUNxfRpm18G',\n",
      "                                  'oca_schema_dri': 'fArVHJTQSKHu2CeXJocQmH3HHxzZXsuQD7kzyHJhQ49s',\n",
      "                                  'oca_schema_namespace': 'consent'},\n",
      "               'label': 'consent_test',\n",
      "               'service_id': '956a20d5-928c-4d5a-ad48-313d1c8f7eec',\n",
      "               'service_schema': {'oca_schema_dri': 'string',\n",
      "                                  'oca_schema_namespace': 'string'}},\n",
      "              {'consent_schema': {'data_url': 'zQmPsU57nqWY8jzndU9AE2RK4EXvjMLGmytVpUNxfRpm18G',\n",
      "                                  'oca_schema_dri': 'fArVHJTQSKHu2CeXJocQmH3HHxzZXsuQD7kzyHJhQ49s',\n",
      "                                  'oca_schema_namespace': 'consent'},\n",
      "               'label': 'consent_test',\n",
      "               'service_id': '608c773e-5bea-45f2-bdbb-ce5926fdb19f',\n",
      "               'service_schema': {'oca_schema_dri': 'string',\n",
      "                                  'oca_schema_namespace': 'string'}},\n",
      "              {'consent_schema': {'data_url': 'zQmPsU57nqWY8jzndU9AE2RK4EXvjMLGmytVpUNxfRpm18G',\n",
      "                                  'oca_schema_dri': 'fArVHJTQSKHu2CeXJocQmH3HHxzZXsuQD7kzyHJhQ49s',\n",
      "                                  'oca_schema_namespace': 'consent'},\n",
      "               'label': 'consent_test',\n",
      "               'service_id': 'b525fe12-726e-4fe5-b522-948803ecfa8b',\n",
      "               'service_schema': {'oca_schema_dri': 'string',\n",
      "                                  'oca_schema_namespace': 'string'}}],\n",
      " 'updated_at': '2020-09-15 10:40:15.624910Z'}\n"
     ]
    }
   ],
   "source": [
    "service_list = requests.get('http://localhost:8150/verifiable-services/DEBUGrequest/' + connection[0])\n",
    "service_list = json.loads(service_list.text)\n",
    "pp.pprint(service_list)"
   ]
  },
  {
   "cell_type": "code",
   "execution_count": 118,
   "metadata": {
    "scrolled": false
   },
   "outputs": [
    {
     "name": "stdout",
     "output_type": "stream",
     "text": [
      "{'@type': 'did:sov:BzCbsNYhMrjHiqZDTUASHg;spec/verifiable-services/1.0/application', '@id': '6bad9120-c4f7-4ee3-aa29-792fb6ab9c9c', 'exchange_id': '656bc8c9-9f45-4dbe-9e51-547b31ff6774', 'credential_definition_id': 'PaSe2EpSe8XwGAXmZFARcv:3:CL:1066:consent_schema', 'data_dri': '38f31d5c233875b74152758a60a704e380be3efdd680c075b6955a0235ba7a4f', 'service_id': 'f6171800-e112-43fc-84e3-01068ea4c69c'}\n"
     ]
    }
   ],
   "source": [
    "apply = requests.post('http://localhost:8150/verifiable-services/apply', json={\n",
    "  \"connection_id\": connection[0],\n",
    "  \"service_id\": service_list['services'][0]['service_id'],\n",
    "  \"payload\": \"abc\",\n",
    "  \"service\": service_list['services'][0],\n",
    "})\n",
    "apply = json.loads(apply.text)\n",
    "print(apply)"
   ]
  },
  {
   "cell_type": "code",
   "execution_count": 119,
   "metadata": {
    "scrolled": false
   },
   "outputs": [
    {
     "name": "stdout",
     "output_type": "stream",
     "text": [
      "[{'author': 'other',\n",
      "  'connection_id': '5c435eae-a8e3-4c92-851e-1c81e1847cf1',\n",
      "  'consent_schema': '{\"oca_schema_namespace\": \"consent\", \"oca_schema_dri\": '\n",
      "                    '\"fArVHJTQSKHu2CeXJocQmH3HHxzZXsuQD7kzyHJhQ49s\", '\n",
      "                    '\"data_url\": '\n",
      "                    '\"zQmPsU57nqWY8jzndU9AE2RK4EXvjMLGmytVpUNxfRpm18G\"}',\n",
      "  'created_at': '2020-09-15 10:40:39.015410Z',\n",
      "  'exchange_id': '656bc8c9-9f45-4dbe-9e51-547b31ff6774',\n",
      "  'issue_id': '0182c520e82fa605b64ed1d859c9a6f8038d30424b485998b5fa2555d1c84530',\n",
      "  'label': 'consent_test',\n",
      "  'payload': None,\n",
      "  'service_id': 'f6171800-e112-43fc-84e3-01068ea4c69c',\n",
      "  'service_schema': '{\"oca_schema_namespace\": \"string\", \"oca_schema_dri\": '\n",
      "                    '\"string\"}',\n",
      "  'state': 'pending',\n",
      "  'updated_at': '2020-09-15 10:40:39.015410Z'}]\n",
      "<Response [200]>\n",
      "{'credential_exchange_record': {'auto_issue': True,\n",
      "                                'auto_offer': False,\n",
      "                                'auto_remove': False,\n",
      "                                'connection_id': '5c435eae-a8e3-4c92-851e-1c81e1847cf1',\n",
      "                                'created_at': '2020-09-15 10:40:42.133053Z',\n",
      "                                'credential_definition_id': 'HyweLtQbeJ58FS5VTrXfx3:3:CL:1048:Services',\n",
      "                                'credential_exchange_id': '124e0de3-b336-4c20-9c62-8e6207ecef62',\n",
      "                                'credential_offer': {'cred_def_id': 'HyweLtQbeJ58FS5VTrXfx3:3:CL:1048:Services',\n",
      "                                                     'key_correctness_proof': {'c': '14588506703247298798303031020448899540021893591958702785651732855426705661179',\n",
      "                                                                               'xr_cap': [['oca_schema_dri',\n",
      "                                                                                           '66502886044318743306901590179243548862015220757531481648426361536636316342663504266125758987432377522300482428882411824199382493165227410422412758687641997111466485994286886503278910698757255373105057206462043752256112698593544214287234396880765748573394172047357066790496792348719780929173619796448208748227613434109150644392526867366267007059145355872567546400588141839446773659214732110507196583139496040691041493198194900609775358950790619811360527312172046890719383902093419170573659013130355985635138364768605449519326079964286929010500206793036163694411317013551993779995043264847961414172048347088094344613104120558103099093847896947075153988182054829874399421422109915576287894749414'],\n",
      "                                                                                          ['data_dri',\n",
      "                                                                                           '152539675441252263242484394676835350177902450605745969580509582696929344495052971798051872293756605159141230187749977309950855042177179674098270367523304333701317902041296103191244121432173316402772296954968524772965349535014356109377901615369473888388973343743538029832073511318198299211232221505524028570025459128578530814951300359187369127401171574735595366943457904832938419629266283893654294826432596227017526149216559071682582849015000546893760392709141619593992215007972903151649686925326714629497226019186397596014162143780349503036048107212343774917292814726778784359777844842985228050609844409703566450998994889721810876142466277072098742196328105039068551450650040768001015530660403'],\n",
      "                                                                                          ['master_secret',\n",
      "                                                                                           '43761696300246989788856693967204034163743867653303334687633961420414944458718962705831351333439410801485732846572104699949259839296382114539232092905988335813083123227362330124879000679458855663354230386485499062993564469812505757620205305110066055433987758715529063527893649436050902237511602675402360694455987624479462815754722031173589367056080105211535395531521788352854439651545390889591757721544586935023747190593188151466436403468664586193926992264360985152999310112224190713593351483763952700454949925239697531601290877556942721930916854903402943450185409236264084872574503743861622650553433699965542492621008723394049819568400442960204221876285193900989054220296306142743663150734076'],\n",
      "                                                                                          ['oca_schema_namespace',\n",
      "                                                                                           '184156664962596837805142901566134971010152980805503218118239700935257022881610572314869242807384643509022019169922054884651602314600124329676774673387945544556997225904519487376838400002355864959432060119658582400367154305019619102187727745459827110108343946018630425889110904402655678028199585104620288123758942001391484785159881109523553766025681500861038558787527471843242414573693584850805053714747148535103504858563113408134830652590510248053252831761043137224894417060476381664747700178785886111068683610692104292393666133968176170278313007085187171018398544431227015975279775203377186768411652658133534765842216321352083387638009322922952790090307402052842063501552738353448060360975878']],\n",
      "                                                                               'xz_cap': '139530158750197783198924519197907843871812028379454928265397650566543466181887405030708820052842715666677701374587904101952250635281934919041812189689231878531702655457589059420191515918962693022216087898293848674792016457673275850499460552400458109554798281482789886005751488826518113604266036055674599355762198081517483773655875336314629802853199304353740010686027272982499970159736662084738222614732782111781622632652898126803357114780957113519196842825746399302554556812600558171164941320602240773391509719526974491013353610766694033147040335445316446006014101245012174216000886210029291971543415008433945372442666790740949592408761411518665649652279025929848013753474899355444954467370910'},\n",
      "                                                     'nonce': '498251113546720460844827',\n",
      "                                                     'schema_id': 'HyweLtQbeJ58FS5VTrXfx3:2:consent_test:1.0'},\n",
      "                                'credential_offer_dict': {'@id': 'f7f65f99-3525-4b2b-87c1-d1223adb6be0',\n",
      "                                                          '@type': 'did:sov:BzCbsNYhMrjHiqZDTUASHg;spec/issue-credential/1.0/offer-credential',\n",
      "                                                          'credential_preview': {'@type': 'did:sov:BzCbsNYhMrjHiqZDTUASHg;spec/issue-credential/1.0/credential-preview',\n",
      "                                                                                 'attributes': [{'mime-type': 'application/json',\n",
      "                                                                                                 'name': 'oca_schema_dri',\n",
      "                                                                                                 'value': 'string'},\n",
      "                                                                                                {'mime-type': 'application/json',\n",
      "                                                                                                 'name': 'data_dri',\n",
      "                                                                                                 'value': '38f31d5c233875b74152758a60a704e380be3efdd680c075b6955a0235ba7a4f'},\n",
      "                                                                                                {'mime-type': 'application/json',\n",
      "                                                                                                 'name': 'oca_schema_namespace',\n",
      "                                                                                                 'value': 'string'}]},\n",
      "                                                          'offers~attach': [{'@id': 'libindy-cred-offer-0',\n",
      "                                                                             'data': {'base64': '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'},\n",
      "                                                                             'mime-type': 'application/json'}],\n",
      "                                                          '~thread': {}},\n",
      "                                'credential_proposal_dict': {'@id': 'af3c0aaf-32e9-422c-9477-028a53f7dbf4',\n",
      "                                                             '@type': 'did:sov:BzCbsNYhMrjHiqZDTUASHg;spec/issue-credential/1.0/propose-credential',\n",
      "                                                             'cred_def_id': 'HyweLtQbeJ58FS5VTrXfx3:3:CL:1048:Services',\n",
      "                                                             'credential_proposal': {'@type': 'did:sov:BzCbsNYhMrjHiqZDTUASHg;spec/issue-credential/1.0/credential-preview',\n",
      "                                                                                     'attributes': [{'mime-type': 'application/json',\n",
      "                                                                                                     'name': 'oca_schema_dri',\n",
      "                                                                                                     'value': 'string'},\n",
      "                                                                                                    {'mime-type': 'application/json',\n",
      "                                                                                                     'name': 'data_dri',\n",
      "                                                                                                     'value': '38f31d5c233875b74152758a60a704e380be3efdd680c075b6955a0235ba7a4f'},\n",
      "                                                                                                    {'mime-type': 'application/json',\n",
      "                                                                                                     'name': 'oca_schema_namespace',\n",
      "                                                                                                     'value': 'string'}]}},\n",
      "                                'initiator': 'self',\n",
      "                                'schema_id': 'HyweLtQbeJ58FS5VTrXfx3:2:consent_test:1.0',\n",
      "                                'state': 'offer_sent',\n",
      "                                'thread_id': 'f7f65f99-3525-4b2b-87c1-d1223adb6be0',\n",
      "                                'updated_at': '2020-09-15 10:40:42.133053Z'},\n",
      " 'issue': {'author': 'other',\n",
      "           'connection_id': '5c435eae-a8e3-4c92-851e-1c81e1847cf1',\n",
      "           'created_at': '2020-09-15 10:40:39.015410Z',\n",
      "           'exchange_id': '656bc8c9-9f45-4dbe-9e51-547b31ff6774',\n",
      "           'label': 'consent_test',\n",
      "           'service_id': 'f6171800-e112-43fc-84e3-01068ea4c69c',\n",
      "           'state': 'accepted',\n",
      "           'updated_at': '2020-09-15 10:40:42.144008Z'}}\n"
     ]
    }
   ],
   "source": [
    "issue_self = requests.post('http://localhost:8151/verifiable-services/get-issue-self', json={\n",
    "    \"exchange_id\": apply['exchange_id'],\n",
    "})\n",
    "issue_self = json.loads(issue_self.text)\n",
    "pp.pprint(issue_self)\n",
    "\n",
    "issue_self = requests.post('http://localhost:8151/verifiable-services/process-application', json={\n",
    "    \"issue_id\": issue_self[0]['issue_id'],\n",
    "    \"decision\": \"accept\",\n",
    "})\n",
    "print(issue_self)\n",
    "issue_self = json.loads(issue_self.text)\n",
    "pp.pprint(issue_self)"
   ]
  },
  {
   "cell_type": "code",
   "execution_count": 36,
   "metadata": {},
   "outputs": [
    {
     "name": "stdout",
     "output_type": "stream",
     "text": [
      "some string yes dd b7c34035833ad394aaf721e431ae4a7f6359d66e1c69e8be9ec4c3e1d2e1ea1f\n"
     ]
    }
   ],
   "source": [
    "payload = \"some string yes dd\"\n",
    "payload_response = \"response yay\"\n",
    "hash_id = hashlib.sha256(payload.encode(\"UTF-8\")).hexdigest()\n",
    "hash_id_response = hashlib.sha256(payload_response.encode(\"UTF-8\")).hexdigest()\n",
    "print(payload, hash_id)"
   ]
  },
  {
   "cell_type": "code",
   "execution_count": 293,
   "metadata": {},
   "outputs": [
    {
     "name": "stdout",
     "output_type": "stream",
     "text": [
      "{'results': [{'attrs': {'consent_schema': '{\"oca_schema_namespace\": \"string\", '\n",
      "                                          '\"oca_schema_dri\": \"string\", '\n",
      "                                          '\"data_url\": \"string\"}',\n",
      "                        'label': 'memxsassdsssdfdeds',\n",
      "                        'service_schema': '{\"oca_schema_namespace\": \"string\", '\n",
      "                                          '\"oca_schema_dri\": \"string\"}'},\n",
      "              'cred_def_id': 'B6hy9V4FLjh6tQmknfEvTt:3:CL:273:Services',\n",
      "              'cred_rev_id': None,\n",
      "              'referent': 'e56cb0b5-f044-4176-b4d8-246c27ea0d00',\n",
      "              'rev_reg_id': None,\n",
      "              'schema_id': 'B6hy9V4FLjh6tQmknfEvTt:2:memxsassdsssdfdeds:1.0'},\n",
      "             {'attrs': {'consent_schema': '{\"oca_schema_namespace\": \"string\", '\n",
      "                                          '\"oca_schema_dri\": \"string\", '\n",
      "                                          '\"data_url\": \"string\"}',\n",
      "                        'label': 'memxsassdsssdfdeds',\n",
      "                        'service_schema': '{\"oca_schema_namespace\": \"string\", '\n",
      "                                          '\"oca_schema_dri\": \"string\"}'},\n",
      "              'cred_def_id': 'B6hy9V4FLjh6tQmknfEvTt:3:CL:273:Services',\n",
      "              'cred_rev_id': None,\n",
      "              'referent': 'd387ddac-035e-452d-b993-5202801f3b89',\n",
      "              'rev_reg_id': None,\n",
      "              'schema_id': 'B6hy9V4FLjh6tQmknfEvTt:2:memxsassdsssdfdeds:1.0'}]}\n"
     ]
    }
   ],
   "source": [
    "credentials = requests.get('http://localhost:8150/credentials')\n",
    "credentials = json.loads(credentials.text) \n",
    "pp.pprint(credentials)"
   ]
  },
  {
   "cell_type": "markdown",
   "metadata": {},
   "source": [
    "I added returning hash id to add schema, I need to test if it works with both rejecting (not found schema) and accepting schema dound"
   ]
  },
  {
   "cell_type": "markdown",
   "metadata": {},
   "source": [
    "### Add schema to storage"
   ]
  },
  {
   "cell_type": "code",
   "execution_count": 52,
   "metadata": {
    "scrolled": true
   },
   "outputs": [
    {
     "name": "stdout",
     "output_type": "stream",
     "text": [
      "{\"hash_id\": \"9f86d081884c7d659a2feaa0c55ad015a3bf4f1b2b0b822cd15d6c15b0f00a08\", \"payload\": \"test\"}\n"
     ]
    }
   ],
   "source": [
    "add = requests.post('http://localhost:8150/schema-storage/add', json={\n",
    "  \"payload\": \"test\"\n",
    "})\n",
    "print(add.text)\n",
    "add = json.loads(add.text)"
   ]
  },
  {
   "cell_type": "markdown",
   "metadata": {},
   "source": [
    "### SEND Initial Request"
   ]
  },
  {
   "cell_type": "code",
   "execution_count": 53,
   "metadata": {},
   "outputs": [],
   "source": [
    "send = requests.post('http://localhost:8151/schema-exchange/request-schema', json={\n",
    "  \"hash_id\": add['hash_id'],\n",
    "  \"connection_id\": connection[1]\n",
    "})"
   ]
  },
  {
   "cell_type": "code",
   "execution_count": 54,
   "metadata": {},
   "outputs": [],
   "source": [
    "send = requests.post('http://localhost:8151/schema-exchange/request-schema', json={\n",
    "  \"hash_id\": \"ddd\",\n",
    "  \"connection_id\": connection[1]\n",
    "})"
   ]
  },
  {
   "cell_type": "code",
   "execution_count": 55,
   "metadata": {
    "scrolled": true
   },
   "outputs": [
    {
     "name": "stdout",
     "output_type": "stream",
     "text": [
      "{\"hash_id\": \"ddd\", \"connection_id\": \"a361d994-aaea-4f5c-9bf4-9644a774de2b\", \"record_id\": \"1e61b917-946b-4a56-8810-5b48081f79e6\", \"exchange_id\": \"c5f71769-b806-49fe-8861-15f49ffad9e3\", \"state\": \"pending\"}\n"
     ]
    }
   ],
   "source": [
    "print(send.text)"
   ]
  },
  {
   "cell_type": "markdown",
   "metadata": {},
   "source": [
    "### GET Request By RECORD_ID"
   ]
  },
  {
   "cell_type": "markdown",
   "metadata": {},
   "source": [
    "### GET Request List and filter by state and author"
   ]
  },
  {
   "cell_type": "code",
   "execution_count": 56,
   "metadata": {
    "scrolled": true
   },
   "outputs": [
    {
     "name": "stdout",
     "output_type": "stream",
     "text": [
      "Agent1:\n",
      "[{'author': 'other',\n",
      "  'connection_id': '844f6e7f-c13e-4ef8-b018-754fc5205445',\n",
      "  'created_at': '2020-07-16 09:09:17.991960Z',\n",
      "  'exchange_id': 'c5f71769-b806-49fe-8861-15f49ffad9e3',\n",
      "  'payload': 'ddd',\n",
      "  'state': 'failed to find the record',\n",
      "  'updated_at': '2020-07-16 09:09:17.991960Z'},\n",
      " {'author': 'other',\n",
      "  'connection_id': '844f6e7f-c13e-4ef8-b018-754fc5205445',\n",
      "  'created_at': '2020-07-16 09:09:16.748526Z',\n",
      "  'exchange_id': 'f51e4a06-2214-4b9e-a28a-d4c336258f66',\n",
      "  'payload': '9f86d081884c7d659a2feaa0c55ad015a3bf4f1b2b0b822cd15d6c15b0f00a08',\n",
      "  'state': 'approved',\n",
      "  'updated_at': '2020-07-16 09:09:16.748526Z'}]\n",
      "\n",
      "Agent2:\n",
      "[{'author': 'self',\n",
      "  'connection_id': 'a361d994-aaea-4f5c-9bf4-9644a774de2b',\n",
      "  'created_at': '2020-07-16 09:09:17.950785Z',\n",
      "  'exchange_id': 'c5f71769-b806-49fe-8861-15f49ffad9e3',\n",
      "  'payload': 'ddd',\n",
      "  'state': 'failed to find the record',\n",
      "  'updated_at': '2020-07-16 09:09:18.029400Z'},\n",
      " {'author': 'self',\n",
      "  'connection_id': 'a361d994-aaea-4f5c-9bf4-9644a774de2b',\n",
      "  'created_at': '2020-07-16 09:09:16.720869Z',\n",
      "  'exchange_id': 'f51e4a06-2214-4b9e-a28a-d4c336258f66',\n",
      "  'payload': '9f86d081884c7d659a2feaa0c55ad015a3bf4f1b2b0b822cd15d6c15b0f00a08',\n",
      "  'state': 'approved',\n",
      "  'updated_at': '2020-07-16 09:09:16.780856Z'}]\n"
     ]
    }
   ],
   "source": [
    "request_list = requests.post('http://localhost:8150/schema-storage/debug/request/list', json={})\n",
    "request_list = json.loads(request_list.text)\n",
    "print(\"Agent1:\", )\n",
    "pp.pprint(request_list)\n",
    "request_list = requests.post('http://localhost:8151/schema-storage/debug/request/list', json={})\n",
    "request_list = json.loads(request_list.text)\n",
    "print(\"\\nAgent2:\")\n",
    "pp.pprint(request_list)"
   ]
  },
  {
   "cell_type": "markdown",
   "metadata": {},
   "source": [
    "### GET RECORD LIST"
   ]
  },
  {
   "cell_type": "code",
   "execution_count": 57,
   "metadata": {
    "scrolled": true
   },
   "outputs": [
    {
     "name": "stdout",
     "output_type": "stream",
     "text": [
      "Agent1: \n",
      "[{'author': 'self',\n",
      "  'created_at': '2020-07-16 09:09:15.407083Z',\n",
      "  'hash_id': '9f86d081884c7d659a2feaa0c55ad015a3bf4f1b2b0b822cd15d6c15b0f00a08',\n",
      "  'payload': 'test',\n",
      "  'updated_at': '2020-07-16 09:09:15.407083Z'}]\n",
      "Agent2: \n",
      "[{'author': 'a361d994-aaea-4f5c-9bf4-9644a774de2b',\n",
      "  'created_at': '2020-07-16 09:09:16.808608Z',\n",
      "  'hash_id': '9f86d081884c7d659a2feaa0c55ad015a3bf4f1b2b0b822cd15d6c15b0f00a08',\n",
      "  'payload': 'test',\n",
      "  'updated_at': '2020-07-16 09:09:16.808608Z'}]\n"
     ]
    }
   ],
   "source": [
    "getRequests = requests.post('http://localhost:8150/schema-storage/list')\n",
    "record_list = json.loads(getRequests.text)\n",
    "print(\"Agent1: \")\n",
    "pp.pprint(record_list)\n",
    "\n",
    "getRequests = requests.post('http://localhost:8151/schema-storage/list')\n",
    "record_list = json.loads(getRequests.text)\n",
    "print(\"Agent2: \")\n",
    "pp.pprint(record_list)"
   ]
  },
  {
   "cell_type": "code",
   "execution_count": null,
   "metadata": {},
   "outputs": [],
   "source": [
    "\n",
    "# message = util.buildMessage(\n",
    "#         'https://didcomm.org/issue-credential/1.0/propose-credential'\n",
    "#     )\n",
    "# testing = util.sendMessage(message, agents[0])\n",
    "# pp.pprint(testing)"
   ]
  },
  {
   "cell_type": "code",
   "execution_count": null,
   "metadata": {},
   "outputs": [],
   "source": [
    "# pp.pprint(util.sendSchema(agents[0], \"schesssdddvd\", \"1.0\", [\"memesssaaaaaaa\"]))"
   ]
  },
  {
   "cell_type": "code",
   "execution_count": null,
   "metadata": {},
   "outputs": [],
   "source": [
    "# result = util.schemaGetList(agents[0])\n",
    "# last_schema_id = result['results'][-1]['schema_id']\n",
    "# print(result)"
   ]
  },
  {
   "cell_type": "code",
   "execution_count": null,
   "metadata": {},
   "outputs": [],
   "source": [
    "# util.schemaGet(agents[0], last_schema_id)"
   ]
  }
 ],
 "metadata": {
  "kernelspec": {
   "display_name": "Python 3",
   "language": "python",
   "name": "python3"
  },
  "language_info": {
   "codemirror_mode": {
    "name": "ipython",
    "version": 3
   },
   "file_extension": ".py",
   "mimetype": "text/x-python",
   "name": "python",
   "nbconvert_exporter": "python",
   "pygments_lexer": "ipython3",
   "version": "3.7.5"
  }
 },
 "nbformat": 4,
 "nbformat_minor": 4
}
