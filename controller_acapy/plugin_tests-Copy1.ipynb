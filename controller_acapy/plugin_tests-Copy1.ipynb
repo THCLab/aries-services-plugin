{
 "cells": [
  {
   "cell_type": "code",
   "execution_count": 22,
   "metadata": {},
   "outputs": [
    {
     "data": {
      "text/plain": [
       "<module 'jupyter_util' from '/home/sevni/Documents/thclab/aries/aries-acapy-plugin/controller_acapy/jupyter_util.py'>"
      ]
     },
     "execution_count": 22,
     "metadata": {},
     "output_type": "execute_result"
    }
   ],
   "source": [
    "import requests \n",
    "import json\n",
    "import pprint as pp # pretty print\n",
    "\n",
    "import aries_cloudagent.wallet.crypto as crypto\n",
    "import base64\n",
    "import base58\n",
    "import uuid\n",
    "import hashlib\n",
    "import jupyter_util as util\n",
    "from importlib import reload\n",
    "reload(util)"
   ]
  },
  {
   "cell_type": "markdown",
   "metadata": {},
   "source": [
    "## Enter Invite Url:"
   ]
  },
  {
   "cell_type": "code",
   "execution_count": 23,
   "metadata": {},
   "outputs": [
    {
     "name": "stdout",
     "output_type": "stream",
     "text": [
      "http://agent1.localhost?c_i=eyJAdHlwZSI6ICJkaWQ6c292OkJ6Q2JzTlloTXJqSGlxWkRUVUFTSGc7c3BlYy9jb25uZWN0aW9ucy8xLjAvaW52aXRhdGlvbiIsICJAaWQiOiAiNDFiN2E2YmYtNWNkMS00MDBjLThhODEtZDg1NDViNGZlYjJhIiwgInJlY2lwaWVudEtleXMiOiBbIkJjOWJDWVFNb3oyaW1UODlvZjRRdjZ6NXZxbmpTb2VucjJMM2FzdEpKZUhhIl0sICJsYWJlbCI6ICJNYWluIChhZG1pbikiLCAic2VydmljZUVuZHBvaW50IjogImh0dHA6Ly9hZ2VudDEubG9jYWxob3N0In0=\n"
     ]
    }
   ],
   "source": [
    "agent1 = {}\n",
    "plugin = {}\n",
    "endpoint = \"http://localhost:8150/connections/create-admin-invitation-url\"\n",
    "adminInvitationResponse = requests.post(endpoint)\n",
    "adminInvitationResponse = adminInvitationResponse.text\n",
    "agent1['url'] = json.loads(adminInvitationResponse)['invitation_url']\n",
    "print(agent1['url'])"
   ]
  },
  {
   "cell_type": "code",
   "execution_count": 24,
   "metadata": {
    "scrolled": true
   },
   "outputs": [
    {
     "name": "stdout",
     "output_type": "stream",
     "text": [
      "http://agent2.localhost?c_i=eyJAdHlwZSI6ICJkaWQ6c292OkJ6Q2JzTlloTXJqSGlxWkRUVUFTSGc7c3BlYy9jb25uZWN0aW9ucy8xLjAvaW52aXRhdGlvbiIsICJAaWQiOiAiNjQzMmVlZjgtZmE3YS00Y2JhLTg0NzUtMDA4ZGIyY2ZkYWM2IiwgInNlcnZpY2VFbmRwb2ludCI6ICJodHRwOi8vYWdlbnQyLmxvY2FsaG9zdCIsICJsYWJlbCI6ICJDbGllbnQgKGFkbWluKSIsICJyZWNpcGllbnRLZXlzIjogWyI3Y1YyZHRaMlhBaDVFcTVqVnBVeVl6bk5qQnh5YlhjWkRiTHdIcndiclhTZiJdfQ==\n"
     ]
    }
   ],
   "source": [
    "agent2 = {}\n",
    "endpoint = \"http://localhost:8151/connections/create-admin-invitation-url\"\n",
    "adminInvitationResponse = requests.post(endpoint)\n",
    "adminInvitationResponse = adminInvitationResponse.text\n",
    "agent2['url'] = json.loads(adminInvitationResponse)['invitation_url']\n",
    "print(agent2['url'])"
   ]
  },
  {
   "cell_type": "code",
   "execution_count": 25,
   "metadata": {
    "scrolled": true
   },
   "outputs": [
    {
     "name": "stdout",
     "output_type": "stream",
     "text": [
      "Decoded invitation:\n",
      "\n",
      "{'@id': '6432eef8-fa7a-4cba-8475-008db2cfdac6',\n",
      " '@type': 'did:sov:BzCbsNYhMrjHiqZDTUASHg;spec/connections/1.0/invitation',\n",
      " 'label': 'Client (admin)',\n",
      " 'recipientKeys': ['7cV2dtZ2XAh5Eq5jVpUyYznNjBxybXcZDbLwHrwbrXSf'],\n",
      " 'serviceEndpoint': 'http://agent2.localhost'}\n"
     ]
    }
   ],
   "source": [
    "agent1 = util.processInviteUrl(agent1['url'])\n",
    "agent2 = util.processInviteUrl(agent2['url'])\n",
    "print(\"Decoded invitation:\\n\")\n",
    "pp.pprint(agent2['invite'])"
   ]
  },
  {
   "cell_type": "code",
   "execution_count": 26,
   "metadata": {
    "scrolled": true
   },
   "outputs": [
    {
     "name": "stdout",
     "output_type": "stream",
     "text": [
      "Private key: \n",
      " y9AQqyUrxKUDY4fF7J5a1sWvkW3KB3YgkbUk5eSf5gLsA2DiSUuVqNKgdB3kdvCzDXLBse6MFTiPBwP7zFe47Z1\n",
      "\n",
      "Public key: \n",
      " D2E1C3wW4VvAjXCFZXMP6jusUoGfEmnd5bFRm7twedFV\n"
     ]
    }
   ],
   "source": [
    "### Generating a did key using aries crypto module\n",
    "# Create a key pair with random seed \n",
    "# Order: 0 - public key, 1 - secret / pritvate key\n",
    "plugin['keypair'] = crypto.create_keypair()\n",
    "# it seems to me that did is an encoded sub string of public key\n",
    "# or maybe just some arbitrary random number\n",
    "did = plugin['keypair'][0][:16]\n",
    "# final version of our did\n",
    "plugin['did'] = base58.b58encode(did).decode(\"ascii\")\n",
    "# encoding keys to base58\n",
    "plugin['public_key_b58'] = \\\n",
    "    base58.b58encode(plugin['keypair'][0]).decode(\"ascii\")\n",
    "plugin['private_key_b58'] = \\\n",
    "    base58.b58encode(plugin['keypair'][1]).decode(\"ascii\")\n",
    "\n",
    "print(\"Private key: \\n\", plugin['private_key_b58'])\n",
    "print(\"\\nPublic key: \\n\", plugin['public_key_b58'])"
   ]
  },
  {
   "cell_type": "markdown",
   "metadata": {},
   "source": [
    "**Sending a connection request to acapy**"
   ]
  },
  {
   "cell_type": "code",
   "execution_count": 27,
   "metadata": {
    "scrolled": false
   },
   "outputs": [],
   "source": [
    "agent1['connection'] = util.connectWithAcapy(agent1, plugin)\n",
    "agent2['connection'] = util.connectWithAcapy(agent2, plugin)\n",
    "# print(\"Decoded acapy response: \\n\")\n",
    "# pp.pprint(agent1['conn'])"
   ]
  },
  {
   "cell_type": "markdown",
   "metadata": {},
   "source": [
    "**Unpacking connection data embedded in the response**"
   ]
  },
  {
   "cell_type": "code",
   "execution_count": 28,
   "metadata": {
    "scrolled": true
   },
   "outputs": [],
   "source": [
    "agent1['connection_details'] = util.decodeConnectionDetails(agent1['connection'])\n",
    "agent2['connection_details'] = util.decodeConnectionDetails(agent2['connection'])"
   ]
  },
  {
   "cell_type": "markdown",
   "metadata": {},
   "source": [
    "**Adding the connection to connection list**"
   ]
  },
  {
   "cell_type": "code",
   "execution_count": 29,
   "metadata": {
    "scrolled": true
   },
   "outputs": [],
   "source": [
    "agents = [\n",
    "    {\n",
    "        \"label\": agent1['invite']['label'],\n",
    "        \"DIDDoc\": agent1['connection_details']['DIDDoc'],\n",
    "        \"myKey\": plugin['keypair'][1]\n",
    "    },\n",
    "    {\n",
    "        \"label\": agent2['invite']['label'],\n",
    "        \"DIDDoc\": agent2['connection_details']['DIDDoc'],\n",
    "        \"myKey\": plugin['keypair'][1]\n",
    "    },\n",
    "]\n",
    "\n",
    "# pp.pprint(connections)"
   ]
  },
  {
   "cell_type": "code",
   "execution_count": 30,
   "metadata": {},
   "outputs": [
    {
     "name": "stdout",
     "output_type": "stream",
     "text": [
      "affd6b1a-8350-4cc2-bcf4-22f2e1c8280d \n",
      " 4800931d-4ae9-4e63-b5c2-8da68ad8b2c9\n"
     ]
    }
   ],
   "source": [
    "connection = util.connectAgents(agents[0], agents[1])\n",
    "connection[1] = connection[1]['raw_repr']['connection_id']\n",
    "connection[0] = connection[0]['connection_id']\n",
    "print(connection[0], \"\\n\", connection[1])"
   ]
  },
  {
   "cell_type": "markdown",
   "metadata": {},
   "source": [
    "### FEATURE DISCOVERY"
   ]
  },
  {
   "cell_type": "code",
   "execution_count": 31,
   "metadata": {
    "scrolled": true
   },
   "outputs": [],
   "source": [
    "# pp.pprint(util.getFeatureDiscovery(agents[0]))"
   ]
  },
  {
   "cell_type": "code",
   "execution_count": 11,
   "metadata": {},
   "outputs": [],
   "source": [
    "# web.post(\"/verifiable-services/add\", add),\n",
    "# web.get(\n",
    "#     \"/verifiable-services/send/{connection_id}\", getList, allow_head=False\n",
    "# ),\n",
    "# web.get(\"/verifiable-services/{connection_id}\", get, allow_head=False),"
   ]
  },
  {
   "cell_type": "code",
   "execution_count": 32,
   "metadata": {
    "scrolled": true
   },
   "outputs": [
    {
     "name": "stdout",
     "output_type": "stream",
     "text": [
      "{\"updated_at\": \"2020-07-23 10:41:17.400377Z\", \"label\": \"memxsassdsssdfdeds\", \"service_schema\": {\"oca_schema_namespace\": \"string\", \"oca_schema_dri\": \"string\"}, \"consent_schema\": {\"data_url\": \"string\", \"oca_schema_namespace\": \"string\", \"oca_schema_dri\": \"string\"}, \"created_at\": \"2020-07-23 10:41:17.400377Z\"}\n"
     ]
    }
   ],
   "source": [
    "add = requests.post('http://localhost:8151/verifiable-services/add', json={\n",
    "  \"label\": \"memxsassdsssdfdeds\",\n",
    "  \"service_schema\": {\n",
    "    \"oca_schema_namespace\": \"string\",\n",
    "    \"oca_schema_dri\": \"string\"\n",
    "  },\n",
    "  \"consent_schema\": {\n",
    "    \"oca_schema_namespace\": \"string\",\n",
    "    \"oca_schema_dri\": \"string\",\n",
    "    \"data_url\": \"string\"\n",
    "  }\n",
    "})\n",
    "print(add.text)\n",
    "add = json.loads(add.text)"
   ]
  },
  {
   "cell_type": "code",
   "execution_count": 33,
   "metadata": {
    "scrolled": false
   },
   "outputs": [
    {
     "name": "stdout",
     "output_type": "stream",
     "text": [
      "{\"@type\": \"did:sov:BzCbsNYhMrjHiqZDTUASHg;spec/verifiable-services/1.0/discovery\", \"@id\": \"9316f4e9-dd7b-4744-8234-75b20aeb25b0\"}\n"
     ]
    }
   ],
   "source": [
    "send = requests.get('http://localhost:8150/verifiable-services/request-list/' + connection[0])\n",
    "print(send.text)\n",
    "send = json.loads(send.text)"
   ]
  },
  {
   "cell_type": "code",
   "execution_count": 34,
   "metadata": {
    "scrolled": true
   },
   "outputs": [
    {
     "name": "stdout",
     "output_type": "stream",
     "text": [
      "{'connection_id': 'affd6b1a-8350-4cc2-bcf4-22f2e1c8280d',\n",
      " 'created_at': '2020-07-23 10:41:19.480951Z',\n",
      " 'services': [{'consent_schema': {'data_url': 'string',\n",
      "                                  'oca_schema_dri': 'string',\n",
      "                                  'oca_schema_namespace': 'string'},\n",
      "               'label': 'memxsassdsssdfdeds',\n",
      "               'service_schema': {'oca_schema_dri': 'string',\n",
      "                                  'oca_schema_namespace': 'string'}}],\n",
      " 'updated_at': '2020-07-23 10:41:19.480951Z'}\n"
     ]
    }
   ],
   "source": [
    "send = requests.get('http://localhost:8150/verifiable-services/get-list/' + connection[0])\n",
    "send = json.loads(send.text)\n",
    "pp.pprint(send)"
   ]
  },
  {
   "cell_type": "code",
   "execution_count": 35,
   "metadata": {},
   "outputs": [
    {
     "name": "stdout",
     "output_type": "stream",
     "text": [
      "{'@id': '5794a7f9-1516-44b6-b873-202a5a58211b',\n",
      " '@type': 'did:sov:BzCbsNYhMrjHiqZDTUASHg;spec/verifiable-services/1.0/discovery-response',\n",
      " 'services': [{'consent_schema': {'data_url': 'string',\n",
      "                                  'oca_schema_dri': 'string',\n",
      "                                  'oca_schema_namespace': 'string'},\n",
      "               'label': 'memxsassdsssdfdeds',\n",
      "               'service_schema': {'oca_schema_dri': 'string',\n",
      "                                  'oca_schema_namespace': 'string'}}],\n",
      " '~thread': {'thid': 'edef1ddb-73b2-4b7b-8edc-28853f6df31c'}}\n"
     ]
    }
   ],
   "source": [
    "message = util.buildMessage(\n",
    "    \"did:sov:BzCbsNYhMrjHiqZDTUASHg;spec/verifiable-services/1.0/discovery\",\n",
    ")\n",
    "response = util.sendMessage(message, agents[1])\n",
    "pp.pprint(response)"
   ]
  },
  {
   "cell_type": "code",
   "execution_count": 36,
   "metadata": {},
   "outputs": [
    {
     "name": "stdout",
     "output_type": "stream",
     "text": [
      "some string yes dd b7c34035833ad394aaf721e431ae4a7f6359d66e1c69e8be9ec4c3e1d2e1ea1f\n"
     ]
    }
   ],
   "source": [
    "payload = \"some string yes dd\"\n",
    "payload_response = \"response yay\"\n",
    "hash_id = hashlib.sha256(payload.encode(\"UTF-8\")).hexdigest()\n",
    "hash_id_response = hashlib.sha256(payload_response.encode(\"UTF-8\")).hexdigest()\n",
    "print(payload, hash_id)"
   ]
  },
  {
   "cell_type": "markdown",
   "metadata": {},
   "source": [
    "I added returning hash id to add schema, I need to test if it works with both rejecting (not found schema) and accepting schema dound"
   ]
  },
  {
   "cell_type": "markdown",
   "metadata": {},
   "source": [
    "### Add schema to storage"
   ]
  },
  {
   "cell_type": "code",
   "execution_count": 52,
   "metadata": {
    "scrolled": false
   },
   "outputs": [
    {
     "name": "stdout",
     "output_type": "stream",
     "text": [
      "{\"hash_id\": \"9f86d081884c7d659a2feaa0c55ad015a3bf4f1b2b0b822cd15d6c15b0f00a08\", \"payload\": \"test\"}\n"
     ]
    }
   ],
   "source": [
    "add = requests.post('http://localhost:8150/schema-storage/add', json={\n",
    "  \"payload\": \"test\"\n",
    "})\n",
    "print(add.text)\n",
    "add = json.loads(add.text)"
   ]
  },
  {
   "cell_type": "markdown",
   "metadata": {},
   "source": [
    "### SEND Initial Request"
   ]
  },
  {
   "cell_type": "code",
   "execution_count": 53,
   "metadata": {},
   "outputs": [],
   "source": [
    "send = requests.post('http://localhost:8151/schema-exchange/request-schema', json={\n",
    "  \"hash_id\": add['hash_id'],\n",
    "  \"connection_id\": connection[1]\n",
    "})"
   ]
  },
  {
   "cell_type": "code",
   "execution_count": 54,
   "metadata": {},
   "outputs": [],
   "source": [
    "send = requests.post('http://localhost:8151/schema-exchange/request-schema', json={\n",
    "  \"hash_id\": \"ddd\",\n",
    "  \"connection_id\": connection[1]\n",
    "})"
   ]
  },
  {
   "cell_type": "code",
   "execution_count": 55,
   "metadata": {
    "scrolled": true
   },
   "outputs": [
    {
     "name": "stdout",
     "output_type": "stream",
     "text": [
      "{\"hash_id\": \"ddd\", \"connection_id\": \"a361d994-aaea-4f5c-9bf4-9644a774de2b\", \"record_id\": \"1e61b917-946b-4a56-8810-5b48081f79e6\", \"exchange_id\": \"c5f71769-b806-49fe-8861-15f49ffad9e3\", \"state\": \"pending\"}\n"
     ]
    }
   ],
   "source": [
    "print(send.text)"
   ]
  },
  {
   "cell_type": "markdown",
   "metadata": {},
   "source": [
    "### GET Request By RECORD_ID"
   ]
  },
  {
   "cell_type": "markdown",
   "metadata": {},
   "source": [
    "### GET Request List and filter by state and author"
   ]
  },
  {
   "cell_type": "code",
   "execution_count": 56,
   "metadata": {
    "scrolled": true
   },
   "outputs": [
    {
     "name": "stdout",
     "output_type": "stream",
     "text": [
      "Agent1:\n",
      "[{'author': 'other',\n",
      "  'connection_id': '844f6e7f-c13e-4ef8-b018-754fc5205445',\n",
      "  'created_at': '2020-07-16 09:09:17.991960Z',\n",
      "  'exchange_id': 'c5f71769-b806-49fe-8861-15f49ffad9e3',\n",
      "  'payload': 'ddd',\n",
      "  'state': 'failed to find the record',\n",
      "  'updated_at': '2020-07-16 09:09:17.991960Z'},\n",
      " {'author': 'other',\n",
      "  'connection_id': '844f6e7f-c13e-4ef8-b018-754fc5205445',\n",
      "  'created_at': '2020-07-16 09:09:16.748526Z',\n",
      "  'exchange_id': 'f51e4a06-2214-4b9e-a28a-d4c336258f66',\n",
      "  'payload': '9f86d081884c7d659a2feaa0c55ad015a3bf4f1b2b0b822cd15d6c15b0f00a08',\n",
      "  'state': 'approved',\n",
      "  'updated_at': '2020-07-16 09:09:16.748526Z'}]\n",
      "\n",
      "Agent2:\n",
      "[{'author': 'self',\n",
      "  'connection_id': 'a361d994-aaea-4f5c-9bf4-9644a774de2b',\n",
      "  'created_at': '2020-07-16 09:09:17.950785Z',\n",
      "  'exchange_id': 'c5f71769-b806-49fe-8861-15f49ffad9e3',\n",
      "  'payload': 'ddd',\n",
      "  'state': 'failed to find the record',\n",
      "  'updated_at': '2020-07-16 09:09:18.029400Z'},\n",
      " {'author': 'self',\n",
      "  'connection_id': 'a361d994-aaea-4f5c-9bf4-9644a774de2b',\n",
      "  'created_at': '2020-07-16 09:09:16.720869Z',\n",
      "  'exchange_id': 'f51e4a06-2214-4b9e-a28a-d4c336258f66',\n",
      "  'payload': '9f86d081884c7d659a2feaa0c55ad015a3bf4f1b2b0b822cd15d6c15b0f00a08',\n",
      "  'state': 'approved',\n",
      "  'updated_at': '2020-07-16 09:09:16.780856Z'}]\n"
     ]
    }
   ],
   "source": [
    "request_list = requests.post('http://localhost:8150/schema-storage/debug/request/list', json={})\n",
    "request_list = json.loads(request_list.text)\n",
    "print(\"Agent1:\", )\n",
    "pp.pprint(request_list)\n",
    "request_list = requests.post('http://localhost:8151/schema-storage/debug/request/list', json={})\n",
    "request_list = json.loads(request_list.text)\n",
    "print(\"\\nAgent2:\")\n",
    "pp.pprint(request_list)"
   ]
  },
  {
   "cell_type": "markdown",
   "metadata": {},
   "source": [
    "### GET RECORD LIST"
   ]
  },
  {
   "cell_type": "code",
   "execution_count": 57,
   "metadata": {
    "scrolled": true
   },
   "outputs": [
    {
     "name": "stdout",
     "output_type": "stream",
     "text": [
      "Agent1: \n",
      "[{'author': 'self',\n",
      "  'created_at': '2020-07-16 09:09:15.407083Z',\n",
      "  'hash_id': '9f86d081884c7d659a2feaa0c55ad015a3bf4f1b2b0b822cd15d6c15b0f00a08',\n",
      "  'payload': 'test',\n",
      "  'updated_at': '2020-07-16 09:09:15.407083Z'}]\n",
      "Agent2: \n",
      "[{'author': 'a361d994-aaea-4f5c-9bf4-9644a774de2b',\n",
      "  'created_at': '2020-07-16 09:09:16.808608Z',\n",
      "  'hash_id': '9f86d081884c7d659a2feaa0c55ad015a3bf4f1b2b0b822cd15d6c15b0f00a08',\n",
      "  'payload': 'test',\n",
      "  'updated_at': '2020-07-16 09:09:16.808608Z'}]\n"
     ]
    }
   ],
   "source": [
    "getRequests = requests.post('http://localhost:8150/schema-storage/list')\n",
    "record_list = json.loads(getRequests.text)\n",
    "print(\"Agent1: \")\n",
    "pp.pprint(record_list)\n",
    "\n",
    "getRequests = requests.post('http://localhost:8151/schema-storage/list')\n",
    "record_list = json.loads(getRequests.text)\n",
    "print(\"Agent2: \")\n",
    "pp.pprint(record_list)"
   ]
  },
  {
   "cell_type": "code",
   "execution_count": null,
   "metadata": {},
   "outputs": [],
   "source": [
    "\n",
    "# message = util.buildMessage(\n",
    "#         'https://didcomm.org/issue-credential/1.0/propose-credential'\n",
    "#     )\n",
    "# testing = util.sendMessage(message, agents[0])\n",
    "# pp.pprint(testing)"
   ]
  },
  {
   "cell_type": "code",
   "execution_count": null,
   "metadata": {
    "scrolled": true
   },
   "outputs": [],
   "source": [
    "# newDid = util.createDid(agents[0])\n",
    "# pp.pprint(newDid['result'])"
   ]
  },
  {
   "cell_type": "code",
   "execution_count": null,
   "metadata": {
    "scrolled": false
   },
   "outputs": [],
   "source": [
    "# util.registerDidOnLedger(agents[0], newDid['result']['did'], newDid['result']['verkey'])"
   ]
  },
  {
   "cell_type": "code",
   "execution_count": null,
   "metadata": {
    "scrolled": false
   },
   "outputs": [],
   "source": [
    "# util.setPublicDid(agents[0], newDid['result']['did'])"
   ]
  },
  {
   "cell_type": "code",
   "execution_count": null,
   "metadata": {},
   "outputs": [],
   "source": [
    "# pp.pprint(util.sendSchema(agents[0], \"schesssdddvd\", \"1.0\", [\"memesssaaaaaaa\"]))"
   ]
  },
  {
   "cell_type": "code",
   "execution_count": null,
   "metadata": {},
   "outputs": [],
   "source": [
    "# result = util.schemaGetList(agents[0])\n",
    "# last_schema_id = result['results'][-1]['schema_id']\n",
    "# print(result)"
   ]
  },
  {
   "cell_type": "code",
   "execution_count": null,
   "metadata": {},
   "outputs": [],
   "source": [
    "# util.schemaGet(agents[0], last_schema_id)"
   ]
  }
 ],
 "metadata": {
  "kernelspec": {
   "display_name": "Python 3",
   "language": "python",
   "name": "python3"
  },
  "language_info": {
   "codemirror_mode": {
    "name": "ipython",
    "version": 3
   },
   "file_extension": ".py",
   "mimetype": "text/x-python",
   "name": "python",
   "nbconvert_exporter": "python",
   "pygments_lexer": "ipython3",
   "version": "3.7.5"
  }
 },
 "nbformat": 4,
 "nbformat_minor": 4
}
