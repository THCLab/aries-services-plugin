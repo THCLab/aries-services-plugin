{
 "cells": [
  {
   "cell_type": "code",
   "execution_count": 324,
   "metadata": {},
   "outputs": [
    {
     "data": {
      "text/plain": [
       "<module 'jupyter_util' from '/home/sevni/Documents/thclab/aries/aries-acapy-plugin/controller_acapy/jupyter_util.py'>"
      ]
     },
     "execution_count": 324,
     "metadata": {},
     "output_type": "execute_result"
    }
   ],
   "source": [
    "import requests \n",
    "import json\n",
    "import pprint as pp # pretty print\n",
    "\n",
    "import aries_cloudagent.wallet.crypto as crypto\n",
    "import base64\n",
    "import base58\n",
    "import uuid\n",
    "import hashlib\n",
    "import jupyter_util as util\n",
    "from importlib import reload\n",
    "reload(util)"
   ]
  },
  {
   "cell_type": "markdown",
   "metadata": {},
   "source": [
    "## Enter Invite Url:"
   ]
  },
  {
   "cell_type": "code",
   "execution_count": 325,
   "metadata": {},
   "outputs": [
    {
     "name": "stdout",
     "output_type": "stream",
     "text": [
      "http://agent1.localhost?c_i=eyJAdHlwZSI6ICJkaWQ6c292OkJ6Q2JzTlloTXJqSGlxWkRUVUFTSGc7c3BlYy9jb25uZWN0aW9ucy8xLjAvaW52aXRhdGlvbiIsICJAaWQiOiAiZmE4NWUzZWYtNzMzMC00NWVhLWE4YzYtNWZhZDBlYTdiMWJkIiwgInNlcnZpY2VFbmRwb2ludCI6ICJodHRwOi8vYWdlbnQxLmxvY2FsaG9zdCIsICJsYWJlbCI6ICJNYWluIChhZG1pbikiLCAicmVjaXBpZW50S2V5cyI6IFsiQ0U3NEhtclVNQ1hwUXk3d3RBbTZZdkNrUXA0QWhtbzV2Snk3c1pMSGpocFMiXX0=\n"
     ]
    }
   ],
   "source": [
    "agent1 = {}\n",
    "plugin = {}\n",
    "endpoint = \"http://localhost:8150/connections/create-admin-invitation-url\"\n",
    "adminInvitationResponse = requests.post(endpoint)\n",
    "adminInvitationResponse = adminInvitationResponse.text\n",
    "agent1['url'] = json.loads(adminInvitationResponse)['invitation_url']\n",
    "print(agent1['url'])"
   ]
  },
  {
   "cell_type": "code",
   "execution_count": 326,
   "metadata": {
    "scrolled": true
   },
   "outputs": [
    {
     "name": "stdout",
     "output_type": "stream",
     "text": [
      "http://agent2.localhost?c_i=eyJAdHlwZSI6ICJkaWQ6c292OkJ6Q2JzTlloTXJqSGlxWkRUVUFTSGc7c3BlYy9jb25uZWN0aW9ucy8xLjAvaW52aXRhdGlvbiIsICJAaWQiOiAiNjE1MzRjNmUtZGEzMS00MjY4LWJiMjAtYTM2MTNiZDZjYzdlIiwgImxhYmVsIjogIkNsaWVudCAoYWRtaW4pIiwgInNlcnZpY2VFbmRwb2ludCI6ICJodHRwOi8vYWdlbnQyLmxvY2FsaG9zdCIsICJyZWNpcGllbnRLZXlzIjogWyI4U1lkTEY2NTFMUjlYNWlBYmdnTFJ3cFA3VWlzMk1HSm9zaE1ES1VaYTV5RCJdfQ==\n"
     ]
    }
   ],
   "source": [
    "agent2 = {}\n",
    "endpoint = \"http://localhost:8151/connections/create-admin-invitation-url\"\n",
    "adminInvitationResponse = requests.post(endpoint)\n",
    "adminInvitationResponse = adminInvitationResponse.text\n",
    "agent2['url'] = json.loads(adminInvitationResponse)['invitation_url']\n",
    "print(agent2['url'])"
   ]
  },
  {
   "cell_type": "code",
   "execution_count": 327,
   "metadata": {
    "scrolled": true
   },
   "outputs": [
    {
     "name": "stdout",
     "output_type": "stream",
     "text": [
      "Decoded invitation:\n",
      "\n",
      "{'@id': '61534c6e-da31-4268-bb20-a3613bd6cc7e',\n",
      " '@type': 'did:sov:BzCbsNYhMrjHiqZDTUASHg;spec/connections/1.0/invitation',\n",
      " 'label': 'Client (admin)',\n",
      " 'recipientKeys': ['8SYdLF651LR9X5iAbggLRwpP7Uis2MGJoshMDKUZa5yD'],\n",
      " 'serviceEndpoint': 'http://agent2.localhost'}\n"
     ]
    }
   ],
   "source": [
    "agent1 = util.processInviteUrl(agent1['url'])\n",
    "agent2 = util.processInviteUrl(agent2['url'])\n",
    "print(\"Decoded invitation:\\n\")\n",
    "pp.pprint(agent2['invite'])"
   ]
  },
  {
   "cell_type": "code",
   "execution_count": 328,
   "metadata": {
    "scrolled": true
   },
   "outputs": [
    {
     "name": "stdout",
     "output_type": "stream",
     "text": [
      "Private key: \n",
      " VdRxhV4RRxenpsp8RNJqTJuiFtbA9Eu5XeJh1WzXJDA7EqcDFFuJT91Y3ZswUqexhHc3utFQpgzVs1iQ1eZE9tZ\n",
      "\n",
      "Public key: \n",
      " 85W41FpdcuJ4KNZvnGAmktLyUZihtDRqEWwwiED1PjNV\n"
     ]
    }
   ],
   "source": [
    "### Generating a did key using aries crypto module\n",
    "# Create a key pair with random seed \n",
    "# Order: 0 - public key, 1 - secret / pritvate key\n",
    "plugin['keypair'] = crypto.create_keypair()\n",
    "# it seems to me that did is an encoded sub string of public key\n",
    "# or maybe just some arbitrary random number\n",
    "did = plugin['keypair'][0][:16]\n",
    "# final version of our did\n",
    "plugin['did'] = base58.b58encode(did).decode(\"ascii\")\n",
    "# encoding keys to base58\n",
    "plugin['public_key_b58'] = \\\n",
    "    base58.b58encode(plugin['keypair'][0]).decode(\"ascii\")\n",
    "plugin['private_key_b58'] = \\\n",
    "    base58.b58encode(plugin['keypair'][1]).decode(\"ascii\")\n",
    "\n",
    "print(\"Private key: \\n\", plugin['private_key_b58'])\n",
    "print(\"\\nPublic key: \\n\", plugin['public_key_b58'])"
   ]
  },
  {
   "cell_type": "markdown",
   "metadata": {},
   "source": [
    "**Sending a connection request to acapy**"
   ]
  },
  {
   "cell_type": "code",
   "execution_count": 329,
   "metadata": {
    "scrolled": false
   },
   "outputs": [],
   "source": [
    "agent1['connection'] = util.connectWithAcapy(agent1, plugin)\n",
    "agent2['connection'] = util.connectWithAcapy(agent2, plugin)\n",
    "# print(\"Decoded acapy response: \\n\")\n",
    "# pp.pprint(agent1['conn'])"
   ]
  },
  {
   "cell_type": "markdown",
   "metadata": {},
   "source": [
    "**Unpacking connection data embedded in the response**"
   ]
  },
  {
   "cell_type": "code",
   "execution_count": 330,
   "metadata": {
    "scrolled": true
   },
   "outputs": [],
   "source": [
    "agent1['connection_details'] = util.decodeConnectionDetails(agent1['connection'])\n",
    "agent2['connection_details'] = util.decodeConnectionDetails(agent2['connection'])"
   ]
  },
  {
   "cell_type": "markdown",
   "metadata": {},
   "source": [
    "**Adding the connection to connection list**"
   ]
  },
  {
   "cell_type": "code",
   "execution_count": 331,
   "metadata": {
    "scrolled": true
   },
   "outputs": [],
   "source": [
    "agents = [\n",
    "    {\n",
    "        \"label\": agent1['invite']['label'],\n",
    "        \"DIDDoc\": agent1['connection_details']['DIDDoc'],\n",
    "        \"myKey\": plugin['keypair'][1]\n",
    "    },\n",
    "    {\n",
    "        \"label\": agent2['invite']['label'],\n",
    "        \"DIDDoc\": agent2['connection_details']['DIDDoc'],\n",
    "        \"myKey\": plugin['keypair'][1]\n",
    "    },\n",
    "]\n",
    "\n",
    "# pp.pprint(connections)"
   ]
  },
  {
   "cell_type": "code",
   "execution_count": 332,
   "metadata": {},
   "outputs": [
    {
     "name": "stdout",
     "output_type": "stream",
     "text": [
      "46ff09c7-afaa-4dfc-8cb4-a651d96ac8d5 \n",
      " ea676198-ca20-43d4-b96b-7b445d95a7a1\n"
     ]
    }
   ],
   "source": [
    "connection = util.connectAgents(agents[0], agents[1])\n",
    "connection[1] = connection[1]['raw_repr']['connection_id']\n",
    "connection[0] = connection[0]['connection_id']\n",
    "print(connection[0], \"\\n\", connection[1])"
   ]
  },
  {
   "cell_type": "markdown",
   "metadata": {},
   "source": [
    "### FEATURE DISCOVERY"
   ]
  },
  {
   "cell_type": "code",
   "execution_count": 333,
   "metadata": {
    "scrolled": true
   },
   "outputs": [],
   "source": [
    "# pp.pprint(util.getFeatureDiscovery(agents[0]))"
   ]
  },
  {
   "cell_type": "code",
   "execution_count": 334,
   "metadata": {
    "scrolled": false
   },
   "outputs": [
    {
     "name": "stdout",
     "output_type": "stream",
     "text": [
      "{\"updated_at\": \"2020-08-25 10:28:26.067345Z\", \"label\": \"memxsassdsssdfdeds\", \"consent_schema\": {\"data_url\": \"string\", \"oca_schema_namespace\": \"string\", \"oca_schema_dri\": \"string\"}, \"created_at\": \"2020-08-25 10:28:26.067345Z\", \"service_schema\": {\"oca_schema_namespace\": \"string\", \"oca_schema_dri\": \"string\"}}\n"
     ]
    }
   ],
   "source": [
    "add = requests.post('http://localhost:8151/verifiable-services/add', json={\n",
    "  \"label\": \"memxsassdsssdfdeds\",\n",
    "  \"service_schema\": {\n",
    "    \"oca_schema_namespace\": \"string\",\n",
    "    \"oca_schema_dri\": \"string\"\n",
    "  },\n",
    "  \"consent_schema\": {\n",
    "    \"oca_schema_namespace\": \"string\",\n",
    "    \"oca_schema_dri\": \"string\",\n",
    "    \"data_url\": \"string\"\n",
    "  }\n",
    "})\n",
    "print(add.text)\n",
    "add = json.loads(add.text)"
   ]
  },
  {
   "cell_type": "code",
   "execution_count": 335,
   "metadata": {
    "scrolled": false
   },
   "outputs": [],
   "source": [
    "# did = requests.post('http://localhost:8151/wallet/did/create')\n",
    "# did = json.loads(did.text)\n",
    "# print(did)"
   ]
  },
  {
   "cell_type": "code",
   "execution_count": 336,
   "metadata": {
    "scrolled": true
   },
   "outputs": [],
   "source": [
    "# create_did = requests.post('http://localhost:8151/wallet/did/create')\n",
    "# create_did = json.loads(create_did.text)\n",
    "# print(create_did)"
   ]
  },
  {
   "cell_type": "code",
   "execution_count": 337,
   "metadata": {},
   "outputs": [],
   "source": [
    "# register_did = requests.post('http://localhost:8151/ledger/register-nym', params={\n",
    "#     \"verkey\": create_did['result']['verkey'],\n",
    "#     \"did\": create_did['result']['did'],\n",
    "# })\n",
    "# register_did = json.loads(register_did.text)\n",
    "# print(register_did)"
   ]
  },
  {
   "cell_type": "code",
   "execution_count": 338,
   "metadata": {},
   "outputs": [],
   "source": [
    "# did = requests.post('http://localhost:8151/wallet/did/public', params={\n",
    "#     'did': register_did['result']['did']\n",
    "# })\n",
    "# did = json.loads(did.text)\n",
    "# print(did)"
   ]
  },
  {
   "cell_type": "code",
   "execution_count": 339,
   "metadata": {},
   "outputs": [],
   "source": [
    "## DID"
   ]
  },
  {
   "cell_type": "code",
   "execution_count": 340,
   "metadata": {
    "scrolled": true
   },
   "outputs": [
    {
     "ename": "KeyboardInterrupt",
     "evalue": "",
     "output_type": "error",
     "traceback": [
      "\u001b[0;31m---------------------------------------------------------------------------\u001b[0m",
      "\u001b[0;31mTypeError\u001b[0m                                 Traceback (most recent call last)",
      "\u001b[0;32m/usr/lib/python3/dist-packages/urllib3/connectionpool.py\u001b[0m in \u001b[0;36m_make_request\u001b[0;34m(self, conn, method, url, timeout, chunked, **httplib_request_kw)\u001b[0m\n\u001b[1;32m    376\u001b[0m             \u001b[0;32mtry\u001b[0m\u001b[0;34m:\u001b[0m  \u001b[0;31m# Python 2.7, use buffering of HTTP responses\u001b[0m\u001b[0;34m\u001b[0m\u001b[0;34m\u001b[0m\u001b[0m\n\u001b[0;32m--> 377\u001b[0;31m                 \u001b[0mhttplib_response\u001b[0m \u001b[0;34m=\u001b[0m \u001b[0mconn\u001b[0m\u001b[0;34m.\u001b[0m\u001b[0mgetresponse\u001b[0m\u001b[0;34m(\u001b[0m\u001b[0mbuffering\u001b[0m\u001b[0;34m=\u001b[0m\u001b[0;32mTrue\u001b[0m\u001b[0;34m)\u001b[0m\u001b[0;34m\u001b[0m\u001b[0;34m\u001b[0m\u001b[0m\n\u001b[0m\u001b[1;32m    378\u001b[0m             \u001b[0;32mexcept\u001b[0m \u001b[0mTypeError\u001b[0m\u001b[0;34m:\u001b[0m  \u001b[0;31m# Python 3\u001b[0m\u001b[0;34m\u001b[0m\u001b[0;34m\u001b[0m\u001b[0m\n",
      "\u001b[0;31mTypeError\u001b[0m: getresponse() got an unexpected keyword argument 'buffering'",
      "\nDuring handling of the above exception, another exception occurred:\n",
      "\u001b[0;31mKeyboardInterrupt\u001b[0m                         Traceback (most recent call last)",
      "\u001b[0;32m<ipython-input-340-bd60d59a6d03>\u001b[0m in \u001b[0;36m<module>\u001b[0;34m\u001b[0m\n\u001b[1;32m      1\u001b[0m \u001b[0mnewDid1\u001b[0m \u001b[0;34m=\u001b[0m \u001b[0mutil\u001b[0m\u001b[0;34m.\u001b[0m\u001b[0mcreateDid\u001b[0m\u001b[0;34m(\u001b[0m\u001b[0magents\u001b[0m\u001b[0;34m[\u001b[0m\u001b[0;36m1\u001b[0m\u001b[0;34m]\u001b[0m\u001b[0;34m)\u001b[0m\u001b[0;34m\u001b[0m\u001b[0;34m\u001b[0m\u001b[0m\n\u001b[0;32m----> 2\u001b[0;31m \u001b[0mutil\u001b[0m\u001b[0;34m.\u001b[0m\u001b[0mregisterDidOnLedger\u001b[0m\u001b[0;34m(\u001b[0m\u001b[0magents\u001b[0m\u001b[0;34m[\u001b[0m\u001b[0;36m1\u001b[0m\u001b[0;34m]\u001b[0m\u001b[0;34m,\u001b[0m \u001b[0mnewDid1\u001b[0m\u001b[0;34m[\u001b[0m\u001b[0;34m'result'\u001b[0m\u001b[0;34m]\u001b[0m\u001b[0;34m[\u001b[0m\u001b[0;34m'did'\u001b[0m\u001b[0;34m]\u001b[0m\u001b[0;34m,\u001b[0m \u001b[0mnewDid1\u001b[0m\u001b[0;34m[\u001b[0m\u001b[0;34m'result'\u001b[0m\u001b[0;34m]\u001b[0m\u001b[0;34m[\u001b[0m\u001b[0;34m'verkey'\u001b[0m\u001b[0;34m]\u001b[0m\u001b[0;34m)\u001b[0m\u001b[0;34m\u001b[0m\u001b[0;34m\u001b[0m\u001b[0m\n\u001b[0m",
      "\u001b[0;32m~/Documents/thclab/aries/aries-acapy-plugin/controller_acapy/jupyter_util.py\u001b[0m in \u001b[0;36mregisterDidOnLedger\u001b[0;34m(agent, did, verkey, alias, role)\u001b[0m\n\u001b[1;32m    242\u001b[0m         \u001b[0mverkey\u001b[0m\u001b[0;34m=\u001b[0m\u001b[0mverkey\u001b[0m\u001b[0;34m\u001b[0m\u001b[0;34m\u001b[0m\u001b[0m\n\u001b[1;32m    243\u001b[0m     )\n\u001b[0;32m--> 244\u001b[0;31m     \u001b[0;32mreturn\u001b[0m \u001b[0msendMessage\u001b[0m\u001b[0;34m(\u001b[0m\u001b[0mmessage\u001b[0m\u001b[0;34m,\u001b[0m \u001b[0magent\u001b[0m\u001b[0;34m)\u001b[0m\u001b[0;34m\u001b[0m\u001b[0;34m\u001b[0m\u001b[0m\n\u001b[0m\u001b[1;32m    245\u001b[0m \u001b[0;34m\u001b[0m\u001b[0m\n\u001b[1;32m    246\u001b[0m \u001b[0;32mdef\u001b[0m \u001b[0mgetPublicDid\u001b[0m\u001b[0;34m(\u001b[0m\u001b[0magent\u001b[0m\u001b[0;34m)\u001b[0m\u001b[0;34m:\u001b[0m\u001b[0;34m\u001b[0m\u001b[0;34m\u001b[0m\u001b[0m\n",
      "\u001b[0;32m~/Documents/thclab/aries/aries-acapy-plugin/controller_acapy/jupyter_util.py\u001b[0m in \u001b[0;36msendMessage\u001b[0;34m(message, connection)\u001b[0m\n\u001b[1;32m    132\u001b[0m     \u001b[0mencodedMessage\u001b[0m \u001b[0;34m=\u001b[0m \u001b[0mpackMessage\u001b[0m\u001b[0;34m(\u001b[0m\u001b[0mmessage\u001b[0m\u001b[0;34m,\u001b[0m \u001b[0mconnection\u001b[0m\u001b[0;34m)\u001b[0m\u001b[0;34m\u001b[0m\u001b[0;34m\u001b[0m\u001b[0m\n\u001b[1;32m    133\u001b[0m     \u001b[0mendpoint\u001b[0m \u001b[0;34m=\u001b[0m \u001b[0mconnection\u001b[0m\u001b[0;34m[\u001b[0m\u001b[0;34m'DIDDoc'\u001b[0m\u001b[0;34m]\u001b[0m\u001b[0;34m[\u001b[0m\u001b[0;34m'service'\u001b[0m\u001b[0;34m]\u001b[0m\u001b[0;34m[\u001b[0m\u001b[0;36m0\u001b[0m\u001b[0;34m]\u001b[0m\u001b[0;34m[\u001b[0m\u001b[0;34m'serviceEndpoint'\u001b[0m\u001b[0;34m]\u001b[0m\u001b[0;34m\u001b[0m\u001b[0;34m\u001b[0m\u001b[0m\n\u001b[0;32m--> 134\u001b[0;31m     \u001b[0mresponse\u001b[0m \u001b[0;34m=\u001b[0m \u001b[0mrequests\u001b[0m\u001b[0;34m.\u001b[0m\u001b[0mpost\u001b[0m\u001b[0;34m(\u001b[0m\u001b[0mendpoint\u001b[0m\u001b[0;34m,\u001b[0m \u001b[0mdata\u001b[0m\u001b[0;34m=\u001b[0m\u001b[0mencodedMessage\u001b[0m\u001b[0;34m)\u001b[0m\u001b[0;34m\u001b[0m\u001b[0;34m\u001b[0m\u001b[0m\n\u001b[0m\u001b[1;32m    135\u001b[0m     \u001b[0mresponseDecoded\u001b[0m \u001b[0;34m=\u001b[0m \u001b[0munpackMessage\u001b[0m\u001b[0;34m(\u001b[0m\u001b[0mresponse\u001b[0m\u001b[0;34m.\u001b[0m\u001b[0mtext\u001b[0m\u001b[0;34m,\u001b[0m \u001b[0mconnection\u001b[0m\u001b[0;34m[\u001b[0m\u001b[0;34m'myKey'\u001b[0m\u001b[0;34m]\u001b[0m\u001b[0;34m)\u001b[0m\u001b[0;34m\u001b[0m\u001b[0;34m\u001b[0m\u001b[0m\n\u001b[1;32m    136\u001b[0m     \u001b[0mresponseDecoded\u001b[0m \u001b[0;34m=\u001b[0m \u001b[0mjson\u001b[0m\u001b[0;34m.\u001b[0m\u001b[0mloads\u001b[0m\u001b[0;34m(\u001b[0m\u001b[0mresponseDecoded\u001b[0m\u001b[0;34m[\u001b[0m\u001b[0;36m0\u001b[0m\u001b[0;34m]\u001b[0m\u001b[0;34m)\u001b[0m\u001b[0;34m\u001b[0m\u001b[0;34m\u001b[0m\u001b[0m\n",
      "\u001b[0;32m~/.local/lib/python3.7/site-packages/requests/api.py\u001b[0m in \u001b[0;36mpost\u001b[0;34m(url, data, json, **kwargs)\u001b[0m\n\u001b[1;32m    117\u001b[0m     \"\"\"\n\u001b[1;32m    118\u001b[0m \u001b[0;34m\u001b[0m\u001b[0m\n\u001b[0;32m--> 119\u001b[0;31m     \u001b[0;32mreturn\u001b[0m \u001b[0mrequest\u001b[0m\u001b[0;34m(\u001b[0m\u001b[0;34m'post'\u001b[0m\u001b[0;34m,\u001b[0m \u001b[0murl\u001b[0m\u001b[0;34m,\u001b[0m \u001b[0mdata\u001b[0m\u001b[0;34m=\u001b[0m\u001b[0mdata\u001b[0m\u001b[0;34m,\u001b[0m \u001b[0mjson\u001b[0m\u001b[0;34m=\u001b[0m\u001b[0mjson\u001b[0m\u001b[0;34m,\u001b[0m \u001b[0;34m**\u001b[0m\u001b[0mkwargs\u001b[0m\u001b[0;34m)\u001b[0m\u001b[0;34m\u001b[0m\u001b[0;34m\u001b[0m\u001b[0m\n\u001b[0m\u001b[1;32m    120\u001b[0m \u001b[0;34m\u001b[0m\u001b[0m\n\u001b[1;32m    121\u001b[0m \u001b[0;34m\u001b[0m\u001b[0m\n",
      "\u001b[0;32m~/.local/lib/python3.7/site-packages/requests/api.py\u001b[0m in \u001b[0;36mrequest\u001b[0;34m(method, url, **kwargs)\u001b[0m\n\u001b[1;32m     59\u001b[0m     \u001b[0;31m# cases, and look like a memory leak in others.\u001b[0m\u001b[0;34m\u001b[0m\u001b[0;34m\u001b[0m\u001b[0;34m\u001b[0m\u001b[0m\n\u001b[1;32m     60\u001b[0m     \u001b[0;32mwith\u001b[0m \u001b[0msessions\u001b[0m\u001b[0;34m.\u001b[0m\u001b[0mSession\u001b[0m\u001b[0;34m(\u001b[0m\u001b[0;34m)\u001b[0m \u001b[0;32mas\u001b[0m \u001b[0msession\u001b[0m\u001b[0;34m:\u001b[0m\u001b[0;34m\u001b[0m\u001b[0;34m\u001b[0m\u001b[0m\n\u001b[0;32m---> 61\u001b[0;31m         \u001b[0;32mreturn\u001b[0m \u001b[0msession\u001b[0m\u001b[0;34m.\u001b[0m\u001b[0mrequest\u001b[0m\u001b[0;34m(\u001b[0m\u001b[0mmethod\u001b[0m\u001b[0;34m=\u001b[0m\u001b[0mmethod\u001b[0m\u001b[0;34m,\u001b[0m \u001b[0murl\u001b[0m\u001b[0;34m=\u001b[0m\u001b[0murl\u001b[0m\u001b[0;34m,\u001b[0m \u001b[0;34m**\u001b[0m\u001b[0mkwargs\u001b[0m\u001b[0;34m)\u001b[0m\u001b[0;34m\u001b[0m\u001b[0;34m\u001b[0m\u001b[0m\n\u001b[0m\u001b[1;32m     62\u001b[0m \u001b[0;34m\u001b[0m\u001b[0m\n\u001b[1;32m     63\u001b[0m \u001b[0;34m\u001b[0m\u001b[0m\n",
      "\u001b[0;32m~/.local/lib/python3.7/site-packages/requests/sessions.py\u001b[0m in \u001b[0;36mrequest\u001b[0;34m(self, method, url, params, data, headers, cookies, files, auth, timeout, allow_redirects, proxies, hooks, stream, verify, cert, json)\u001b[0m\n\u001b[1;32m    528\u001b[0m         }\n\u001b[1;32m    529\u001b[0m         \u001b[0msend_kwargs\u001b[0m\u001b[0;34m.\u001b[0m\u001b[0mupdate\u001b[0m\u001b[0;34m(\u001b[0m\u001b[0msettings\u001b[0m\u001b[0;34m)\u001b[0m\u001b[0;34m\u001b[0m\u001b[0;34m\u001b[0m\u001b[0m\n\u001b[0;32m--> 530\u001b[0;31m         \u001b[0mresp\u001b[0m \u001b[0;34m=\u001b[0m \u001b[0mself\u001b[0m\u001b[0;34m.\u001b[0m\u001b[0msend\u001b[0m\u001b[0;34m(\u001b[0m\u001b[0mprep\u001b[0m\u001b[0;34m,\u001b[0m \u001b[0;34m**\u001b[0m\u001b[0msend_kwargs\u001b[0m\u001b[0;34m)\u001b[0m\u001b[0;34m\u001b[0m\u001b[0;34m\u001b[0m\u001b[0m\n\u001b[0m\u001b[1;32m    531\u001b[0m \u001b[0;34m\u001b[0m\u001b[0m\n\u001b[1;32m    532\u001b[0m         \u001b[0;32mreturn\u001b[0m \u001b[0mresp\u001b[0m\u001b[0;34m\u001b[0m\u001b[0;34m\u001b[0m\u001b[0m\n",
      "\u001b[0;32m~/.local/lib/python3.7/site-packages/requests/sessions.py\u001b[0m in \u001b[0;36msend\u001b[0;34m(self, request, **kwargs)\u001b[0m\n\u001b[1;32m    641\u001b[0m \u001b[0;34m\u001b[0m\u001b[0m\n\u001b[1;32m    642\u001b[0m         \u001b[0;31m# Send the request\u001b[0m\u001b[0;34m\u001b[0m\u001b[0;34m\u001b[0m\u001b[0;34m\u001b[0m\u001b[0m\n\u001b[0;32m--> 643\u001b[0;31m         \u001b[0mr\u001b[0m \u001b[0;34m=\u001b[0m \u001b[0madapter\u001b[0m\u001b[0;34m.\u001b[0m\u001b[0msend\u001b[0m\u001b[0;34m(\u001b[0m\u001b[0mrequest\u001b[0m\u001b[0;34m,\u001b[0m \u001b[0;34m**\u001b[0m\u001b[0mkwargs\u001b[0m\u001b[0;34m)\u001b[0m\u001b[0;34m\u001b[0m\u001b[0;34m\u001b[0m\u001b[0m\n\u001b[0m\u001b[1;32m    644\u001b[0m \u001b[0;34m\u001b[0m\u001b[0m\n\u001b[1;32m    645\u001b[0m         \u001b[0;31m# Total elapsed time of the request (approximately)\u001b[0m\u001b[0;34m\u001b[0m\u001b[0;34m\u001b[0m\u001b[0;34m\u001b[0m\u001b[0m\n",
      "\u001b[0;32m~/.local/lib/python3.7/site-packages/requests/adapters.py\u001b[0m in \u001b[0;36msend\u001b[0;34m(self, request, stream, timeout, verify, cert, proxies)\u001b[0m\n\u001b[1;32m    447\u001b[0m                     \u001b[0mdecode_content\u001b[0m\u001b[0;34m=\u001b[0m\u001b[0;32mFalse\u001b[0m\u001b[0;34m,\u001b[0m\u001b[0;34m\u001b[0m\u001b[0;34m\u001b[0m\u001b[0m\n\u001b[1;32m    448\u001b[0m                     \u001b[0mretries\u001b[0m\u001b[0;34m=\u001b[0m\u001b[0mself\u001b[0m\u001b[0;34m.\u001b[0m\u001b[0mmax_retries\u001b[0m\u001b[0;34m,\u001b[0m\u001b[0;34m\u001b[0m\u001b[0;34m\u001b[0m\u001b[0m\n\u001b[0;32m--> 449\u001b[0;31m                     \u001b[0mtimeout\u001b[0m\u001b[0;34m=\u001b[0m\u001b[0mtimeout\u001b[0m\u001b[0;34m\u001b[0m\u001b[0;34m\u001b[0m\u001b[0m\n\u001b[0m\u001b[1;32m    450\u001b[0m                 )\n\u001b[1;32m    451\u001b[0m \u001b[0;34m\u001b[0m\u001b[0m\n",
      "\u001b[0;32m/usr/lib/python3/dist-packages/urllib3/connectionpool.py\u001b[0m in \u001b[0;36murlopen\u001b[0;34m(self, method, url, body, headers, retries, redirect, assert_same_host, timeout, pool_timeout, release_conn, chunked, body_pos, **response_kw)\u001b[0m\n\u001b[1;32m    598\u001b[0m                                                   \u001b[0mtimeout\u001b[0m\u001b[0;34m=\u001b[0m\u001b[0mtimeout_obj\u001b[0m\u001b[0;34m,\u001b[0m\u001b[0;34m\u001b[0m\u001b[0;34m\u001b[0m\u001b[0m\n\u001b[1;32m    599\u001b[0m                                                   \u001b[0mbody\u001b[0m\u001b[0;34m=\u001b[0m\u001b[0mbody\u001b[0m\u001b[0;34m,\u001b[0m \u001b[0mheaders\u001b[0m\u001b[0;34m=\u001b[0m\u001b[0mheaders\u001b[0m\u001b[0;34m,\u001b[0m\u001b[0;34m\u001b[0m\u001b[0;34m\u001b[0m\u001b[0m\n\u001b[0;32m--> 600\u001b[0;31m                                                   chunked=chunked)\n\u001b[0m\u001b[1;32m    601\u001b[0m \u001b[0;34m\u001b[0m\u001b[0m\n\u001b[1;32m    602\u001b[0m             \u001b[0;31m# If we're going to release the connection in ``finally:``, then\u001b[0m\u001b[0;34m\u001b[0m\u001b[0;34m\u001b[0m\u001b[0;34m\u001b[0m\u001b[0m\n",
      "\u001b[0;32m/usr/lib/python3/dist-packages/urllib3/connectionpool.py\u001b[0m in \u001b[0;36m_make_request\u001b[0;34m(self, conn, method, url, timeout, chunked, **httplib_request_kw)\u001b[0m\n\u001b[1;32m    378\u001b[0m             \u001b[0;32mexcept\u001b[0m \u001b[0mTypeError\u001b[0m\u001b[0;34m:\u001b[0m  \u001b[0;31m# Python 3\u001b[0m\u001b[0;34m\u001b[0m\u001b[0;34m\u001b[0m\u001b[0m\n\u001b[1;32m    379\u001b[0m                 \u001b[0;32mtry\u001b[0m\u001b[0;34m:\u001b[0m\u001b[0;34m\u001b[0m\u001b[0;34m\u001b[0m\u001b[0m\n\u001b[0;32m--> 380\u001b[0;31m                     \u001b[0mhttplib_response\u001b[0m \u001b[0;34m=\u001b[0m \u001b[0mconn\u001b[0m\u001b[0;34m.\u001b[0m\u001b[0mgetresponse\u001b[0m\u001b[0;34m(\u001b[0m\u001b[0;34m)\u001b[0m\u001b[0;34m\u001b[0m\u001b[0;34m\u001b[0m\u001b[0m\n\u001b[0m\u001b[1;32m    381\u001b[0m                 \u001b[0;32mexcept\u001b[0m \u001b[0mException\u001b[0m \u001b[0;32mas\u001b[0m \u001b[0me\u001b[0m\u001b[0;34m:\u001b[0m\u001b[0;34m\u001b[0m\u001b[0;34m\u001b[0m\u001b[0m\n\u001b[1;32m    382\u001b[0m                     \u001b[0;31m# Remove the TypeError from the exception chain in Python 3;\u001b[0m\u001b[0;34m\u001b[0m\u001b[0;34m\u001b[0m\u001b[0;34m\u001b[0m\u001b[0m\n",
      "\u001b[0;32m/usr/lib/python3.7/http/client.py\u001b[0m in \u001b[0;36mgetresponse\u001b[0;34m(self)\u001b[0m\n\u001b[1;32m   1352\u001b[0m         \u001b[0;32mtry\u001b[0m\u001b[0;34m:\u001b[0m\u001b[0;34m\u001b[0m\u001b[0;34m\u001b[0m\u001b[0m\n\u001b[1;32m   1353\u001b[0m             \u001b[0;32mtry\u001b[0m\u001b[0;34m:\u001b[0m\u001b[0;34m\u001b[0m\u001b[0;34m\u001b[0m\u001b[0m\n\u001b[0;32m-> 1354\u001b[0;31m                 \u001b[0mresponse\u001b[0m\u001b[0;34m.\u001b[0m\u001b[0mbegin\u001b[0m\u001b[0;34m(\u001b[0m\u001b[0;34m)\u001b[0m\u001b[0;34m\u001b[0m\u001b[0;34m\u001b[0m\u001b[0m\n\u001b[0m\u001b[1;32m   1355\u001b[0m             \u001b[0;32mexcept\u001b[0m \u001b[0mConnectionError\u001b[0m\u001b[0;34m:\u001b[0m\u001b[0;34m\u001b[0m\u001b[0;34m\u001b[0m\u001b[0m\n\u001b[1;32m   1356\u001b[0m                 \u001b[0mself\u001b[0m\u001b[0;34m.\u001b[0m\u001b[0mclose\u001b[0m\u001b[0;34m(\u001b[0m\u001b[0;34m)\u001b[0m\u001b[0;34m\u001b[0m\u001b[0;34m\u001b[0m\u001b[0m\n",
      "\u001b[0;32m/usr/lib/python3.7/http/client.py\u001b[0m in \u001b[0;36mbegin\u001b[0;34m(self)\u001b[0m\n\u001b[1;32m    304\u001b[0m         \u001b[0;31m# read until we get a non-100 response\u001b[0m\u001b[0;34m\u001b[0m\u001b[0;34m\u001b[0m\u001b[0;34m\u001b[0m\u001b[0m\n\u001b[1;32m    305\u001b[0m         \u001b[0;32mwhile\u001b[0m \u001b[0;32mTrue\u001b[0m\u001b[0;34m:\u001b[0m\u001b[0;34m\u001b[0m\u001b[0;34m\u001b[0m\u001b[0m\n\u001b[0;32m--> 306\u001b[0;31m             \u001b[0mversion\u001b[0m\u001b[0;34m,\u001b[0m \u001b[0mstatus\u001b[0m\u001b[0;34m,\u001b[0m \u001b[0mreason\u001b[0m \u001b[0;34m=\u001b[0m \u001b[0mself\u001b[0m\u001b[0;34m.\u001b[0m\u001b[0m_read_status\u001b[0m\u001b[0;34m(\u001b[0m\u001b[0;34m)\u001b[0m\u001b[0;34m\u001b[0m\u001b[0;34m\u001b[0m\u001b[0m\n\u001b[0m\u001b[1;32m    307\u001b[0m             \u001b[0;32mif\u001b[0m \u001b[0mstatus\u001b[0m \u001b[0;34m!=\u001b[0m \u001b[0mCONTINUE\u001b[0m\u001b[0;34m:\u001b[0m\u001b[0;34m\u001b[0m\u001b[0;34m\u001b[0m\u001b[0m\n\u001b[1;32m    308\u001b[0m                 \u001b[0;32mbreak\u001b[0m\u001b[0;34m\u001b[0m\u001b[0;34m\u001b[0m\u001b[0m\n",
      "\u001b[0;32m/usr/lib/python3.7/http/client.py\u001b[0m in \u001b[0;36m_read_status\u001b[0;34m(self)\u001b[0m\n\u001b[1;32m    265\u001b[0m \u001b[0;34m\u001b[0m\u001b[0m\n\u001b[1;32m    266\u001b[0m     \u001b[0;32mdef\u001b[0m \u001b[0m_read_status\u001b[0m\u001b[0;34m(\u001b[0m\u001b[0mself\u001b[0m\u001b[0;34m)\u001b[0m\u001b[0;34m:\u001b[0m\u001b[0;34m\u001b[0m\u001b[0;34m\u001b[0m\u001b[0m\n\u001b[0;32m--> 267\u001b[0;31m         \u001b[0mline\u001b[0m \u001b[0;34m=\u001b[0m \u001b[0mstr\u001b[0m\u001b[0;34m(\u001b[0m\u001b[0mself\u001b[0m\u001b[0;34m.\u001b[0m\u001b[0mfp\u001b[0m\u001b[0;34m.\u001b[0m\u001b[0mreadline\u001b[0m\u001b[0;34m(\u001b[0m\u001b[0m_MAXLINE\u001b[0m \u001b[0;34m+\u001b[0m \u001b[0;36m1\u001b[0m\u001b[0;34m)\u001b[0m\u001b[0;34m,\u001b[0m \u001b[0;34m\"iso-8859-1\"\u001b[0m\u001b[0;34m)\u001b[0m\u001b[0;34m\u001b[0m\u001b[0;34m\u001b[0m\u001b[0m\n\u001b[0m\u001b[1;32m    268\u001b[0m         \u001b[0;32mif\u001b[0m \u001b[0mlen\u001b[0m\u001b[0;34m(\u001b[0m\u001b[0mline\u001b[0m\u001b[0;34m)\u001b[0m \u001b[0;34m>\u001b[0m \u001b[0m_MAXLINE\u001b[0m\u001b[0;34m:\u001b[0m\u001b[0;34m\u001b[0m\u001b[0;34m\u001b[0m\u001b[0m\n\u001b[1;32m    269\u001b[0m             \u001b[0;32mraise\u001b[0m \u001b[0mLineTooLong\u001b[0m\u001b[0;34m(\u001b[0m\u001b[0;34m\"status line\"\u001b[0m\u001b[0;34m)\u001b[0m\u001b[0;34m\u001b[0m\u001b[0;34m\u001b[0m\u001b[0m\n",
      "\u001b[0;32m/usr/lib/python3.7/socket.py\u001b[0m in \u001b[0;36mreadinto\u001b[0;34m(self, b)\u001b[0m\n\u001b[1;32m    587\u001b[0m         \u001b[0;32mwhile\u001b[0m \u001b[0;32mTrue\u001b[0m\u001b[0;34m:\u001b[0m\u001b[0;34m\u001b[0m\u001b[0;34m\u001b[0m\u001b[0m\n\u001b[1;32m    588\u001b[0m             \u001b[0;32mtry\u001b[0m\u001b[0;34m:\u001b[0m\u001b[0;34m\u001b[0m\u001b[0;34m\u001b[0m\u001b[0m\n\u001b[0;32m--> 589\u001b[0;31m                 \u001b[0;32mreturn\u001b[0m \u001b[0mself\u001b[0m\u001b[0;34m.\u001b[0m\u001b[0m_sock\u001b[0m\u001b[0;34m.\u001b[0m\u001b[0mrecv_into\u001b[0m\u001b[0;34m(\u001b[0m\u001b[0mb\u001b[0m\u001b[0;34m)\u001b[0m\u001b[0;34m\u001b[0m\u001b[0;34m\u001b[0m\u001b[0m\n\u001b[0m\u001b[1;32m    590\u001b[0m             \u001b[0;32mexcept\u001b[0m \u001b[0mtimeout\u001b[0m\u001b[0;34m:\u001b[0m\u001b[0;34m\u001b[0m\u001b[0;34m\u001b[0m\u001b[0m\n\u001b[1;32m    591\u001b[0m                 \u001b[0mself\u001b[0m\u001b[0;34m.\u001b[0m\u001b[0m_timeout_occurred\u001b[0m \u001b[0;34m=\u001b[0m \u001b[0;32mTrue\u001b[0m\u001b[0;34m\u001b[0m\u001b[0;34m\u001b[0m\u001b[0m\n",
      "\u001b[0;31mKeyboardInterrupt\u001b[0m: "
     ]
    }
   ],
   "source": [
    "newDid1 = util.createDid(agents[1])\n",
    "util.registerDidOnLedger(agents[1], newDid1['result']['did'], newDid1['result']['verkey'])"
   ]
  },
  {
   "cell_type": "code",
   "execution_count": 341,
   "metadata": {
    "scrolled": true
   },
   "outputs": [
    {
     "ename": "KeyboardInterrupt",
     "evalue": "",
     "output_type": "error",
     "traceback": [
      "\u001b[0;31m---------------------------------------------------------------------------\u001b[0m",
      "\u001b[0;31mTypeError\u001b[0m                                 Traceback (most recent call last)",
      "\u001b[0;32m/usr/lib/python3/dist-packages/urllib3/connectionpool.py\u001b[0m in \u001b[0;36m_make_request\u001b[0;34m(self, conn, method, url, timeout, chunked, **httplib_request_kw)\u001b[0m\n\u001b[1;32m    376\u001b[0m             \u001b[0;32mtry\u001b[0m\u001b[0;34m:\u001b[0m  \u001b[0;31m# Python 2.7, use buffering of HTTP responses\u001b[0m\u001b[0;34m\u001b[0m\u001b[0;34m\u001b[0m\u001b[0m\n\u001b[0;32m--> 377\u001b[0;31m                 \u001b[0mhttplib_response\u001b[0m \u001b[0;34m=\u001b[0m \u001b[0mconn\u001b[0m\u001b[0;34m.\u001b[0m\u001b[0mgetresponse\u001b[0m\u001b[0;34m(\u001b[0m\u001b[0mbuffering\u001b[0m\u001b[0;34m=\u001b[0m\u001b[0;32mTrue\u001b[0m\u001b[0;34m)\u001b[0m\u001b[0;34m\u001b[0m\u001b[0;34m\u001b[0m\u001b[0m\n\u001b[0m\u001b[1;32m    378\u001b[0m             \u001b[0;32mexcept\u001b[0m \u001b[0mTypeError\u001b[0m\u001b[0;34m:\u001b[0m  \u001b[0;31m# Python 3\u001b[0m\u001b[0;34m\u001b[0m\u001b[0;34m\u001b[0m\u001b[0m\n",
      "\u001b[0;31mTypeError\u001b[0m: getresponse() got an unexpected keyword argument 'buffering'",
      "\nDuring handling of the above exception, another exception occurred:\n",
      "\u001b[0;31mKeyboardInterrupt\u001b[0m                         Traceback (most recent call last)",
      "\u001b[0;32m<ipython-input-341-622bdd0f08d3>\u001b[0m in \u001b[0;36m<module>\u001b[0;34m\u001b[0m\n\u001b[1;32m      1\u001b[0m \u001b[0mnewDid0\u001b[0m \u001b[0;34m=\u001b[0m \u001b[0mutil\u001b[0m\u001b[0;34m.\u001b[0m\u001b[0mcreateDid\u001b[0m\u001b[0;34m(\u001b[0m\u001b[0magents\u001b[0m\u001b[0;34m[\u001b[0m\u001b[0;36m0\u001b[0m\u001b[0;34m]\u001b[0m\u001b[0;34m)\u001b[0m\u001b[0;34m\u001b[0m\u001b[0;34m\u001b[0m\u001b[0m\n\u001b[0;32m----> 2\u001b[0;31m \u001b[0mutil\u001b[0m\u001b[0;34m.\u001b[0m\u001b[0mregisterDidOnLedger\u001b[0m\u001b[0;34m(\u001b[0m\u001b[0magents\u001b[0m\u001b[0;34m[\u001b[0m\u001b[0;36m0\u001b[0m\u001b[0;34m]\u001b[0m\u001b[0;34m,\u001b[0m \u001b[0mnewDid0\u001b[0m\u001b[0;34m[\u001b[0m\u001b[0;34m'result'\u001b[0m\u001b[0;34m]\u001b[0m\u001b[0;34m[\u001b[0m\u001b[0;34m'did'\u001b[0m\u001b[0;34m]\u001b[0m\u001b[0;34m,\u001b[0m \u001b[0mnewDid0\u001b[0m\u001b[0;34m[\u001b[0m\u001b[0;34m'result'\u001b[0m\u001b[0;34m]\u001b[0m\u001b[0;34m[\u001b[0m\u001b[0;34m'verkey'\u001b[0m\u001b[0;34m]\u001b[0m\u001b[0;34m)\u001b[0m\u001b[0;34m\u001b[0m\u001b[0;34m\u001b[0m\u001b[0m\n\u001b[0m",
      "\u001b[0;32m~/Documents/thclab/aries/aries-acapy-plugin/controller_acapy/jupyter_util.py\u001b[0m in \u001b[0;36mregisterDidOnLedger\u001b[0;34m(agent, did, verkey, alias, role)\u001b[0m\n\u001b[1;32m    242\u001b[0m         \u001b[0mverkey\u001b[0m\u001b[0;34m=\u001b[0m\u001b[0mverkey\u001b[0m\u001b[0;34m\u001b[0m\u001b[0;34m\u001b[0m\u001b[0m\n\u001b[1;32m    243\u001b[0m     )\n\u001b[0;32m--> 244\u001b[0;31m     \u001b[0;32mreturn\u001b[0m \u001b[0msendMessage\u001b[0m\u001b[0;34m(\u001b[0m\u001b[0mmessage\u001b[0m\u001b[0;34m,\u001b[0m \u001b[0magent\u001b[0m\u001b[0;34m)\u001b[0m\u001b[0;34m\u001b[0m\u001b[0;34m\u001b[0m\u001b[0m\n\u001b[0m\u001b[1;32m    245\u001b[0m \u001b[0;34m\u001b[0m\u001b[0m\n\u001b[1;32m    246\u001b[0m \u001b[0;32mdef\u001b[0m \u001b[0mgetPublicDid\u001b[0m\u001b[0;34m(\u001b[0m\u001b[0magent\u001b[0m\u001b[0;34m)\u001b[0m\u001b[0;34m:\u001b[0m\u001b[0;34m\u001b[0m\u001b[0;34m\u001b[0m\u001b[0m\n",
      "\u001b[0;32m~/Documents/thclab/aries/aries-acapy-plugin/controller_acapy/jupyter_util.py\u001b[0m in \u001b[0;36msendMessage\u001b[0;34m(message, connection)\u001b[0m\n\u001b[1;32m    132\u001b[0m     \u001b[0mencodedMessage\u001b[0m \u001b[0;34m=\u001b[0m \u001b[0mpackMessage\u001b[0m\u001b[0;34m(\u001b[0m\u001b[0mmessage\u001b[0m\u001b[0;34m,\u001b[0m \u001b[0mconnection\u001b[0m\u001b[0;34m)\u001b[0m\u001b[0;34m\u001b[0m\u001b[0;34m\u001b[0m\u001b[0m\n\u001b[1;32m    133\u001b[0m     \u001b[0mendpoint\u001b[0m \u001b[0;34m=\u001b[0m \u001b[0mconnection\u001b[0m\u001b[0;34m[\u001b[0m\u001b[0;34m'DIDDoc'\u001b[0m\u001b[0;34m]\u001b[0m\u001b[0;34m[\u001b[0m\u001b[0;34m'service'\u001b[0m\u001b[0;34m]\u001b[0m\u001b[0;34m[\u001b[0m\u001b[0;36m0\u001b[0m\u001b[0;34m]\u001b[0m\u001b[0;34m[\u001b[0m\u001b[0;34m'serviceEndpoint'\u001b[0m\u001b[0;34m]\u001b[0m\u001b[0;34m\u001b[0m\u001b[0;34m\u001b[0m\u001b[0m\n\u001b[0;32m--> 134\u001b[0;31m     \u001b[0mresponse\u001b[0m \u001b[0;34m=\u001b[0m \u001b[0mrequests\u001b[0m\u001b[0;34m.\u001b[0m\u001b[0mpost\u001b[0m\u001b[0;34m(\u001b[0m\u001b[0mendpoint\u001b[0m\u001b[0;34m,\u001b[0m \u001b[0mdata\u001b[0m\u001b[0;34m=\u001b[0m\u001b[0mencodedMessage\u001b[0m\u001b[0;34m)\u001b[0m\u001b[0;34m\u001b[0m\u001b[0;34m\u001b[0m\u001b[0m\n\u001b[0m\u001b[1;32m    135\u001b[0m     \u001b[0mresponseDecoded\u001b[0m \u001b[0;34m=\u001b[0m \u001b[0munpackMessage\u001b[0m\u001b[0;34m(\u001b[0m\u001b[0mresponse\u001b[0m\u001b[0;34m.\u001b[0m\u001b[0mtext\u001b[0m\u001b[0;34m,\u001b[0m \u001b[0mconnection\u001b[0m\u001b[0;34m[\u001b[0m\u001b[0;34m'myKey'\u001b[0m\u001b[0;34m]\u001b[0m\u001b[0;34m)\u001b[0m\u001b[0;34m\u001b[0m\u001b[0;34m\u001b[0m\u001b[0m\n\u001b[1;32m    136\u001b[0m     \u001b[0mresponseDecoded\u001b[0m \u001b[0;34m=\u001b[0m \u001b[0mjson\u001b[0m\u001b[0;34m.\u001b[0m\u001b[0mloads\u001b[0m\u001b[0;34m(\u001b[0m\u001b[0mresponseDecoded\u001b[0m\u001b[0;34m[\u001b[0m\u001b[0;36m0\u001b[0m\u001b[0;34m]\u001b[0m\u001b[0;34m)\u001b[0m\u001b[0;34m\u001b[0m\u001b[0;34m\u001b[0m\u001b[0m\n",
      "\u001b[0;32m~/.local/lib/python3.7/site-packages/requests/api.py\u001b[0m in \u001b[0;36mpost\u001b[0;34m(url, data, json, **kwargs)\u001b[0m\n\u001b[1;32m    117\u001b[0m     \"\"\"\n\u001b[1;32m    118\u001b[0m \u001b[0;34m\u001b[0m\u001b[0m\n\u001b[0;32m--> 119\u001b[0;31m     \u001b[0;32mreturn\u001b[0m \u001b[0mrequest\u001b[0m\u001b[0;34m(\u001b[0m\u001b[0;34m'post'\u001b[0m\u001b[0;34m,\u001b[0m \u001b[0murl\u001b[0m\u001b[0;34m,\u001b[0m \u001b[0mdata\u001b[0m\u001b[0;34m=\u001b[0m\u001b[0mdata\u001b[0m\u001b[0;34m,\u001b[0m \u001b[0mjson\u001b[0m\u001b[0;34m=\u001b[0m\u001b[0mjson\u001b[0m\u001b[0;34m,\u001b[0m \u001b[0;34m**\u001b[0m\u001b[0mkwargs\u001b[0m\u001b[0;34m)\u001b[0m\u001b[0;34m\u001b[0m\u001b[0;34m\u001b[0m\u001b[0m\n\u001b[0m\u001b[1;32m    120\u001b[0m \u001b[0;34m\u001b[0m\u001b[0m\n\u001b[1;32m    121\u001b[0m \u001b[0;34m\u001b[0m\u001b[0m\n",
      "\u001b[0;32m~/.local/lib/python3.7/site-packages/requests/api.py\u001b[0m in \u001b[0;36mrequest\u001b[0;34m(method, url, **kwargs)\u001b[0m\n\u001b[1;32m     59\u001b[0m     \u001b[0;31m# cases, and look like a memory leak in others.\u001b[0m\u001b[0;34m\u001b[0m\u001b[0;34m\u001b[0m\u001b[0;34m\u001b[0m\u001b[0m\n\u001b[1;32m     60\u001b[0m     \u001b[0;32mwith\u001b[0m \u001b[0msessions\u001b[0m\u001b[0;34m.\u001b[0m\u001b[0mSession\u001b[0m\u001b[0;34m(\u001b[0m\u001b[0;34m)\u001b[0m \u001b[0;32mas\u001b[0m \u001b[0msession\u001b[0m\u001b[0;34m:\u001b[0m\u001b[0;34m\u001b[0m\u001b[0;34m\u001b[0m\u001b[0m\n\u001b[0;32m---> 61\u001b[0;31m         \u001b[0;32mreturn\u001b[0m \u001b[0msession\u001b[0m\u001b[0;34m.\u001b[0m\u001b[0mrequest\u001b[0m\u001b[0;34m(\u001b[0m\u001b[0mmethod\u001b[0m\u001b[0;34m=\u001b[0m\u001b[0mmethod\u001b[0m\u001b[0;34m,\u001b[0m \u001b[0murl\u001b[0m\u001b[0;34m=\u001b[0m\u001b[0murl\u001b[0m\u001b[0;34m,\u001b[0m \u001b[0;34m**\u001b[0m\u001b[0mkwargs\u001b[0m\u001b[0;34m)\u001b[0m\u001b[0;34m\u001b[0m\u001b[0;34m\u001b[0m\u001b[0m\n\u001b[0m\u001b[1;32m     62\u001b[0m \u001b[0;34m\u001b[0m\u001b[0m\n\u001b[1;32m     63\u001b[0m \u001b[0;34m\u001b[0m\u001b[0m\n",
      "\u001b[0;32m~/.local/lib/python3.7/site-packages/requests/sessions.py\u001b[0m in \u001b[0;36mrequest\u001b[0;34m(self, method, url, params, data, headers, cookies, files, auth, timeout, allow_redirects, proxies, hooks, stream, verify, cert, json)\u001b[0m\n\u001b[1;32m    528\u001b[0m         }\n\u001b[1;32m    529\u001b[0m         \u001b[0msend_kwargs\u001b[0m\u001b[0;34m.\u001b[0m\u001b[0mupdate\u001b[0m\u001b[0;34m(\u001b[0m\u001b[0msettings\u001b[0m\u001b[0;34m)\u001b[0m\u001b[0;34m\u001b[0m\u001b[0;34m\u001b[0m\u001b[0m\n\u001b[0;32m--> 530\u001b[0;31m         \u001b[0mresp\u001b[0m \u001b[0;34m=\u001b[0m \u001b[0mself\u001b[0m\u001b[0;34m.\u001b[0m\u001b[0msend\u001b[0m\u001b[0;34m(\u001b[0m\u001b[0mprep\u001b[0m\u001b[0;34m,\u001b[0m \u001b[0;34m**\u001b[0m\u001b[0msend_kwargs\u001b[0m\u001b[0;34m)\u001b[0m\u001b[0;34m\u001b[0m\u001b[0;34m\u001b[0m\u001b[0m\n\u001b[0m\u001b[1;32m    531\u001b[0m \u001b[0;34m\u001b[0m\u001b[0m\n\u001b[1;32m    532\u001b[0m         \u001b[0;32mreturn\u001b[0m \u001b[0mresp\u001b[0m\u001b[0;34m\u001b[0m\u001b[0;34m\u001b[0m\u001b[0m\n",
      "\u001b[0;32m~/.local/lib/python3.7/site-packages/requests/sessions.py\u001b[0m in \u001b[0;36msend\u001b[0;34m(self, request, **kwargs)\u001b[0m\n\u001b[1;32m    641\u001b[0m \u001b[0;34m\u001b[0m\u001b[0m\n\u001b[1;32m    642\u001b[0m         \u001b[0;31m# Send the request\u001b[0m\u001b[0;34m\u001b[0m\u001b[0;34m\u001b[0m\u001b[0;34m\u001b[0m\u001b[0m\n\u001b[0;32m--> 643\u001b[0;31m         \u001b[0mr\u001b[0m \u001b[0;34m=\u001b[0m \u001b[0madapter\u001b[0m\u001b[0;34m.\u001b[0m\u001b[0msend\u001b[0m\u001b[0;34m(\u001b[0m\u001b[0mrequest\u001b[0m\u001b[0;34m,\u001b[0m \u001b[0;34m**\u001b[0m\u001b[0mkwargs\u001b[0m\u001b[0;34m)\u001b[0m\u001b[0;34m\u001b[0m\u001b[0;34m\u001b[0m\u001b[0m\n\u001b[0m\u001b[1;32m    644\u001b[0m \u001b[0;34m\u001b[0m\u001b[0m\n\u001b[1;32m    645\u001b[0m         \u001b[0;31m# Total elapsed time of the request (approximately)\u001b[0m\u001b[0;34m\u001b[0m\u001b[0;34m\u001b[0m\u001b[0;34m\u001b[0m\u001b[0m\n",
      "\u001b[0;32m~/.local/lib/python3.7/site-packages/requests/adapters.py\u001b[0m in \u001b[0;36msend\u001b[0;34m(self, request, stream, timeout, verify, cert, proxies)\u001b[0m\n\u001b[1;32m    447\u001b[0m                     \u001b[0mdecode_content\u001b[0m\u001b[0;34m=\u001b[0m\u001b[0;32mFalse\u001b[0m\u001b[0;34m,\u001b[0m\u001b[0;34m\u001b[0m\u001b[0;34m\u001b[0m\u001b[0m\n\u001b[1;32m    448\u001b[0m                     \u001b[0mretries\u001b[0m\u001b[0;34m=\u001b[0m\u001b[0mself\u001b[0m\u001b[0;34m.\u001b[0m\u001b[0mmax_retries\u001b[0m\u001b[0;34m,\u001b[0m\u001b[0;34m\u001b[0m\u001b[0;34m\u001b[0m\u001b[0m\n\u001b[0;32m--> 449\u001b[0;31m                     \u001b[0mtimeout\u001b[0m\u001b[0;34m=\u001b[0m\u001b[0mtimeout\u001b[0m\u001b[0;34m\u001b[0m\u001b[0;34m\u001b[0m\u001b[0m\n\u001b[0m\u001b[1;32m    450\u001b[0m                 )\n\u001b[1;32m    451\u001b[0m \u001b[0;34m\u001b[0m\u001b[0m\n",
      "\u001b[0;32m/usr/lib/python3/dist-packages/urllib3/connectionpool.py\u001b[0m in \u001b[0;36murlopen\u001b[0;34m(self, method, url, body, headers, retries, redirect, assert_same_host, timeout, pool_timeout, release_conn, chunked, body_pos, **response_kw)\u001b[0m\n\u001b[1;32m    598\u001b[0m                                                   \u001b[0mtimeout\u001b[0m\u001b[0;34m=\u001b[0m\u001b[0mtimeout_obj\u001b[0m\u001b[0;34m,\u001b[0m\u001b[0;34m\u001b[0m\u001b[0;34m\u001b[0m\u001b[0m\n\u001b[1;32m    599\u001b[0m                                                   \u001b[0mbody\u001b[0m\u001b[0;34m=\u001b[0m\u001b[0mbody\u001b[0m\u001b[0;34m,\u001b[0m \u001b[0mheaders\u001b[0m\u001b[0;34m=\u001b[0m\u001b[0mheaders\u001b[0m\u001b[0;34m,\u001b[0m\u001b[0;34m\u001b[0m\u001b[0;34m\u001b[0m\u001b[0m\n\u001b[0;32m--> 600\u001b[0;31m                                                   chunked=chunked)\n\u001b[0m\u001b[1;32m    601\u001b[0m \u001b[0;34m\u001b[0m\u001b[0m\n\u001b[1;32m    602\u001b[0m             \u001b[0;31m# If we're going to release the connection in ``finally:``, then\u001b[0m\u001b[0;34m\u001b[0m\u001b[0;34m\u001b[0m\u001b[0;34m\u001b[0m\u001b[0m\n",
      "\u001b[0;32m/usr/lib/python3/dist-packages/urllib3/connectionpool.py\u001b[0m in \u001b[0;36m_make_request\u001b[0;34m(self, conn, method, url, timeout, chunked, **httplib_request_kw)\u001b[0m\n\u001b[1;32m    378\u001b[0m             \u001b[0;32mexcept\u001b[0m \u001b[0mTypeError\u001b[0m\u001b[0;34m:\u001b[0m  \u001b[0;31m# Python 3\u001b[0m\u001b[0;34m\u001b[0m\u001b[0;34m\u001b[0m\u001b[0m\n\u001b[1;32m    379\u001b[0m                 \u001b[0;32mtry\u001b[0m\u001b[0;34m:\u001b[0m\u001b[0;34m\u001b[0m\u001b[0;34m\u001b[0m\u001b[0m\n\u001b[0;32m--> 380\u001b[0;31m                     \u001b[0mhttplib_response\u001b[0m \u001b[0;34m=\u001b[0m \u001b[0mconn\u001b[0m\u001b[0;34m.\u001b[0m\u001b[0mgetresponse\u001b[0m\u001b[0;34m(\u001b[0m\u001b[0;34m)\u001b[0m\u001b[0;34m\u001b[0m\u001b[0;34m\u001b[0m\u001b[0m\n\u001b[0m\u001b[1;32m    381\u001b[0m                 \u001b[0;32mexcept\u001b[0m \u001b[0mException\u001b[0m \u001b[0;32mas\u001b[0m \u001b[0me\u001b[0m\u001b[0;34m:\u001b[0m\u001b[0;34m\u001b[0m\u001b[0;34m\u001b[0m\u001b[0m\n\u001b[1;32m    382\u001b[0m                     \u001b[0;31m# Remove the TypeError from the exception chain in Python 3;\u001b[0m\u001b[0;34m\u001b[0m\u001b[0;34m\u001b[0m\u001b[0;34m\u001b[0m\u001b[0m\n",
      "\u001b[0;32m/usr/lib/python3.7/http/client.py\u001b[0m in \u001b[0;36mgetresponse\u001b[0;34m(self)\u001b[0m\n\u001b[1;32m   1352\u001b[0m         \u001b[0;32mtry\u001b[0m\u001b[0;34m:\u001b[0m\u001b[0;34m\u001b[0m\u001b[0;34m\u001b[0m\u001b[0m\n\u001b[1;32m   1353\u001b[0m             \u001b[0;32mtry\u001b[0m\u001b[0;34m:\u001b[0m\u001b[0;34m\u001b[0m\u001b[0;34m\u001b[0m\u001b[0m\n\u001b[0;32m-> 1354\u001b[0;31m                 \u001b[0mresponse\u001b[0m\u001b[0;34m.\u001b[0m\u001b[0mbegin\u001b[0m\u001b[0;34m(\u001b[0m\u001b[0;34m)\u001b[0m\u001b[0;34m\u001b[0m\u001b[0;34m\u001b[0m\u001b[0m\n\u001b[0m\u001b[1;32m   1355\u001b[0m             \u001b[0;32mexcept\u001b[0m \u001b[0mConnectionError\u001b[0m\u001b[0;34m:\u001b[0m\u001b[0;34m\u001b[0m\u001b[0;34m\u001b[0m\u001b[0m\n\u001b[1;32m   1356\u001b[0m                 \u001b[0mself\u001b[0m\u001b[0;34m.\u001b[0m\u001b[0mclose\u001b[0m\u001b[0;34m(\u001b[0m\u001b[0;34m)\u001b[0m\u001b[0;34m\u001b[0m\u001b[0;34m\u001b[0m\u001b[0m\n",
      "\u001b[0;32m/usr/lib/python3.7/http/client.py\u001b[0m in \u001b[0;36mbegin\u001b[0;34m(self)\u001b[0m\n\u001b[1;32m    304\u001b[0m         \u001b[0;31m# read until we get a non-100 response\u001b[0m\u001b[0;34m\u001b[0m\u001b[0;34m\u001b[0m\u001b[0;34m\u001b[0m\u001b[0m\n\u001b[1;32m    305\u001b[0m         \u001b[0;32mwhile\u001b[0m \u001b[0;32mTrue\u001b[0m\u001b[0;34m:\u001b[0m\u001b[0;34m\u001b[0m\u001b[0;34m\u001b[0m\u001b[0m\n\u001b[0;32m--> 306\u001b[0;31m             \u001b[0mversion\u001b[0m\u001b[0;34m,\u001b[0m \u001b[0mstatus\u001b[0m\u001b[0;34m,\u001b[0m \u001b[0mreason\u001b[0m \u001b[0;34m=\u001b[0m \u001b[0mself\u001b[0m\u001b[0;34m.\u001b[0m\u001b[0m_read_status\u001b[0m\u001b[0;34m(\u001b[0m\u001b[0;34m)\u001b[0m\u001b[0;34m\u001b[0m\u001b[0;34m\u001b[0m\u001b[0m\n\u001b[0m\u001b[1;32m    307\u001b[0m             \u001b[0;32mif\u001b[0m \u001b[0mstatus\u001b[0m \u001b[0;34m!=\u001b[0m \u001b[0mCONTINUE\u001b[0m\u001b[0;34m:\u001b[0m\u001b[0;34m\u001b[0m\u001b[0;34m\u001b[0m\u001b[0m\n\u001b[1;32m    308\u001b[0m                 \u001b[0;32mbreak\u001b[0m\u001b[0;34m\u001b[0m\u001b[0;34m\u001b[0m\u001b[0m\n",
      "\u001b[0;32m/usr/lib/python3.7/http/client.py\u001b[0m in \u001b[0;36m_read_status\u001b[0;34m(self)\u001b[0m\n\u001b[1;32m    265\u001b[0m \u001b[0;34m\u001b[0m\u001b[0m\n\u001b[1;32m    266\u001b[0m     \u001b[0;32mdef\u001b[0m \u001b[0m_read_status\u001b[0m\u001b[0;34m(\u001b[0m\u001b[0mself\u001b[0m\u001b[0;34m)\u001b[0m\u001b[0;34m:\u001b[0m\u001b[0;34m\u001b[0m\u001b[0;34m\u001b[0m\u001b[0m\n\u001b[0;32m--> 267\u001b[0;31m         \u001b[0mline\u001b[0m \u001b[0;34m=\u001b[0m \u001b[0mstr\u001b[0m\u001b[0;34m(\u001b[0m\u001b[0mself\u001b[0m\u001b[0;34m.\u001b[0m\u001b[0mfp\u001b[0m\u001b[0;34m.\u001b[0m\u001b[0mreadline\u001b[0m\u001b[0;34m(\u001b[0m\u001b[0m_MAXLINE\u001b[0m \u001b[0;34m+\u001b[0m \u001b[0;36m1\u001b[0m\u001b[0;34m)\u001b[0m\u001b[0;34m,\u001b[0m \u001b[0;34m\"iso-8859-1\"\u001b[0m\u001b[0;34m)\u001b[0m\u001b[0;34m\u001b[0m\u001b[0;34m\u001b[0m\u001b[0m\n\u001b[0m\u001b[1;32m    268\u001b[0m         \u001b[0;32mif\u001b[0m \u001b[0mlen\u001b[0m\u001b[0;34m(\u001b[0m\u001b[0mline\u001b[0m\u001b[0;34m)\u001b[0m \u001b[0;34m>\u001b[0m \u001b[0m_MAXLINE\u001b[0m\u001b[0;34m:\u001b[0m\u001b[0;34m\u001b[0m\u001b[0;34m\u001b[0m\u001b[0m\n\u001b[1;32m    269\u001b[0m             \u001b[0;32mraise\u001b[0m \u001b[0mLineTooLong\u001b[0m\u001b[0;34m(\u001b[0m\u001b[0;34m\"status line\"\u001b[0m\u001b[0;34m)\u001b[0m\u001b[0;34m\u001b[0m\u001b[0;34m\u001b[0m\u001b[0m\n",
      "\u001b[0;32m/usr/lib/python3.7/socket.py\u001b[0m in \u001b[0;36mreadinto\u001b[0;34m(self, b)\u001b[0m\n\u001b[1;32m    587\u001b[0m         \u001b[0;32mwhile\u001b[0m \u001b[0;32mTrue\u001b[0m\u001b[0;34m:\u001b[0m\u001b[0;34m\u001b[0m\u001b[0;34m\u001b[0m\u001b[0m\n\u001b[1;32m    588\u001b[0m             \u001b[0;32mtry\u001b[0m\u001b[0;34m:\u001b[0m\u001b[0;34m\u001b[0m\u001b[0;34m\u001b[0m\u001b[0m\n\u001b[0;32m--> 589\u001b[0;31m                 \u001b[0;32mreturn\u001b[0m \u001b[0mself\u001b[0m\u001b[0;34m.\u001b[0m\u001b[0m_sock\u001b[0m\u001b[0;34m.\u001b[0m\u001b[0mrecv_into\u001b[0m\u001b[0;34m(\u001b[0m\u001b[0mb\u001b[0m\u001b[0;34m)\u001b[0m\u001b[0;34m\u001b[0m\u001b[0;34m\u001b[0m\u001b[0m\n\u001b[0m\u001b[1;32m    590\u001b[0m             \u001b[0;32mexcept\u001b[0m \u001b[0mtimeout\u001b[0m\u001b[0;34m:\u001b[0m\u001b[0;34m\u001b[0m\u001b[0;34m\u001b[0m\u001b[0m\n\u001b[1;32m    591\u001b[0m                 \u001b[0mself\u001b[0m\u001b[0;34m.\u001b[0m\u001b[0m_timeout_occurred\u001b[0m \u001b[0;34m=\u001b[0m \u001b[0;32mTrue\u001b[0m\u001b[0;34m\u001b[0m\u001b[0;34m\u001b[0m\u001b[0m\n",
      "\u001b[0;31mKeyboardInterrupt\u001b[0m: "
     ]
    }
   ],
   "source": [
    "newDid0 = util.createDid(agents[0])\n",
    "util.registerDidOnLedger(agents[0], newDid0['result']['did'], newDid0['result']['verkey'])"
   ]
  },
  {
   "cell_type": "code",
   "execution_count": 342,
   "metadata": {
    "scrolled": false
   },
   "outputs": [
    {
     "data": {
      "text/plain": [
       "{'@type': 'did:sov:BzCbsNYhMrjHiqZDTUASHg;spec/admin-dids/0.1/did',\n",
       " '@id': 'e62688ce-8b0b-4a1c-b1a5-c5ce8c3f019a',\n",
       " '~thread': {'thid': 'e3678c6b-90ad-4b20-9483-88e927c0141b'},\n",
       " 'result': {'metadata': {'public': True},\n",
       "  'did': 'LaeJo3amdkvMgXb5gqG6a3',\n",
       "  'verkey': 'BfxvRDkn2jd9q8fqEeLzEDuGHrytCS4yVt3K1WxLhNun'}}"
      ]
     },
     "execution_count": 342,
     "metadata": {},
     "output_type": "execute_result"
    }
   ],
   "source": [
    "util.setPublicDid(agents[1], newDid1['result']['did'])\n",
    "util.setPublicDid(agents[0], newDid0['result']['did'])"
   ]
  },
  {
   "cell_type": "code",
   "execution_count": 347,
   "metadata": {
    "scrolled": false
   },
   "outputs": [
    {
     "name": "stdout",
     "output_type": "stream",
     "text": [
      "<Response [200]>\n",
      "'SUCCESS: request sent, expect a webhook notification'\n"
     ]
    }
   ],
   "source": [
    "service_list = requests.get('http://localhost:8150/verifiable-services/request-service-list/' + connection[0])\n",
    "print(service_list)\n",
    "service_list = json.loads(service_list.text)\n",
    "pp.pprint(service_list)"
   ]
  },
  {
   "cell_type": "code",
   "execution_count": 348,
   "metadata": {
    "scrolled": true
   },
   "outputs": [
    {
     "name": "stdout",
     "output_type": "stream",
     "text": [
      "{'connection_id': '46ff09c7-afaa-4dfc-8cb4-a651d96ac8d5',\n",
      " 'created_at': '2020-08-25 10:28:45.466420Z',\n",
      " 'services': [{'consent_schema': {'data_url': 'string',\n",
      "                                  'oca_schema_dri': 'string',\n",
      "                                  'oca_schema_namespace': 'string'},\n",
      "               'label': 'memxsassdsssdfdeds',\n",
      "               'service_id': '0dc46016-c2df-4c54-962f-434187644722',\n",
      "               'service_schema': {'oca_schema_dri': 'string',\n",
      "                                  'oca_schema_namespace': 'string'}},\n",
      "              {'consent_schema': {'data_url': 'string',\n",
      "                                  'oca_schema_dri': 'string',\n",
      "                                  'oca_schema_namespace': 'string'},\n",
      "               'label': 'memxsassdsssdfdeds',\n",
      "               'service_id': '867f5ba9-b588-42db-9e28-9ef2007620b3',\n",
      "               'service_schema': {'oca_schema_dri': 'string',\n",
      "                                  'oca_schema_namespace': 'string'}},\n",
      "              {'consent_schema': {'data_url': 'string',\n",
      "                                  'oca_schema_dri': 'string',\n",
      "                                  'oca_schema_namespace': 'string'},\n",
      "               'label': 'memxsassdsssdfdeds',\n",
      "               'service_id': '681d61fa-b6d5-4b7a-9ac5-a45dfa36fd11',\n",
      "               'service_schema': {'oca_schema_dri': 'string',\n",
      "                                  'oca_schema_namespace': 'string'}},\n",
      "              {'consent_schema': {'data_url': 'string',\n",
      "                                  'oca_schema_dri': 'string',\n",
      "                                  'oca_schema_namespace': 'string'},\n",
      "               'label': 'memxsassdsssdfdeds',\n",
      "               'service_id': '1272769e-a03e-447d-9a4b-6f90cbb07f6d',\n",
      "               'service_schema': {'oca_schema_dri': 'string',\n",
      "                                  'oca_schema_namespace': 'string'}},\n",
      "              {'consent_schema': {'data_url': 'string',\n",
      "                                  'oca_schema_dri': 'string',\n",
      "                                  'oca_schema_namespace': 'string'},\n",
      "               'label': 'memxsassdsssdfdeds',\n",
      "               'service_id': '41d7bec4-2f1d-493a-8b77-e79604cff81b',\n",
      "               'service_schema': {'oca_schema_dri': 'string',\n",
      "                                  'oca_schema_namespace': 'string'}},\n",
      "              {'consent_schema': {'data_url': 'string',\n",
      "                                  'oca_schema_dri': 'string',\n",
      "                                  'oca_schema_namespace': 'string'},\n",
      "               'label': 'memxsassdsssdfdeds',\n",
      "               'service_id': '5de9a5b3-47ba-445d-919c-e27b00503830',\n",
      "               'service_schema': {'oca_schema_dri': 'string',\n",
      "                                  'oca_schema_namespace': 'string'}},\n",
      "              {'consent_schema': {'data_url': 'string',\n",
      "                                  'oca_schema_dri': 'string',\n",
      "                                  'oca_schema_namespace': 'string'},\n",
      "               'label': 'memxsassdsssdfdeds',\n",
      "               'service_id': '0994c99e-4770-44f0-894b-03a3deefbd78',\n",
      "               'service_schema': {'oca_schema_dri': 'string',\n",
      "                                  'oca_schema_namespace': 'string'}}],\n",
      " 'updated_at': '2020-08-25 10:28:45.466420Z'}\n"
     ]
    }
   ],
   "source": [
    "service_list = requests.get('http://localhost:8150/verifiable-services/DEBUGrequest/' + connection[0])\n",
    "service_list = json.loads(service_list.text)\n",
    "pp.pprint(service_list)"
   ]
  },
  {
   "cell_type": "code",
   "execution_count": 345,
   "metadata": {
    "scrolled": true
   },
   "outputs": [
    {
     "name": "stdout",
     "output_type": "stream",
     "text": [
      "{'@type': 'did:sov:BzCbsNYhMrjHiqZDTUASHg;spec/verifiable-services/1.0/application', '@id': '76314309-95b4-49b2-a478-d0bfb834be90', 'credential_definition_id': 'LaeJo3amdkvMgXb5gqG6a3:3:CL:595:consent_schema', 'data_dri': '23607c8e8b252f0c18468243ca3a50eaa70a3ef6704cd5220c932a655063b4f2', 'exchange_id': 'a9a9b0ee-b8ef-4442-a787-7f237fccfd88', 'service_id': '0dc46016-c2df-4c54-962f-434187644722'}\n"
     ]
    }
   ],
   "source": [
    "apply = requests.post('http://localhost:8150/verifiable-services/apply', json={\n",
    "  \"connection_id\": connection[0],\n",
    "  \"service_id\": service_list['services'][0]['service_id'],\n",
    "  \"payload\": \"abc\",\n",
    "  \"service\": service_list['services'][0],\n",
    "})\n",
    "apply = json.loads(apply.text)\n",
    "print(apply)"
   ]
  },
  {
   "cell_type": "code",
   "execution_count": 225,
   "metadata": {
    "scrolled": true
   },
   "outputs": [
    {
     "name": "stdout",
     "output_type": "stream",
     "text": [
      "[{'author': 'self',\n",
      "  'connection_id': '4cc0a2d8-4df1-41a6-a5e4-345e05a425ab',\n",
      "  'created_at': '2020-08-25 09:30:18.525070Z',\n",
      "  'exchange_id': '6bd7aad2-6134-4067-b64d-418131f3fae4',\n",
      "  'label': 'memxsassdsssdfdeds',\n",
      "  'service_id': '681d61fa-b6d5-4b7a-9ac5-a45dfa36fd11',\n",
      "  'state': 'pending',\n",
      "  'updated_at': '2020-08-25 09:30:18.600280Z'}]\n"
     ]
    }
   ],
   "source": [
    "status = requests.get('http://localhost:8150/verifiable-services/apply-status', json={\n",
    "  \"connection_id\": connection[0],\n",
    "    \"exchange_id\": apply['exchange_id'],\n",
    "})\n",
    "status = json.loads(status.text)\n",
    "pp.pprint(status)"
   ]
  },
  {
   "cell_type": "code",
   "execution_count": 228,
   "metadata": {
    "scrolled": false
   },
   "outputs": [
    {
     "name": "stdout",
     "output_type": "stream",
     "text": [
      "[{'author': 'other',\n",
      "  'connection_id': 'bdf2e3c9-5dc1-4eb1-8400-69e058b800d0',\n",
      "  'consent_schema': '{\"oca_schema_namespace\": \"string\", \"oca_schema_dri\": '\n",
      "                    '\"string\", \"data_url\": \"string\"}',\n",
      "  'created_at': '2020-08-25 09:30:18.567927Z',\n",
      "  'exchange_id': '6bd7aad2-6134-4067-b64d-418131f3fae4',\n",
      "  'issue_id': '1576894a38c80f5001377976d0f2a3668cc416aa76786870919469e8e8e18523',\n",
      "  'label': 'memxsassdsssdfdeds',\n",
      "  'payload': 'abc',\n",
      "  'service_id': '681d61fa-b6d5-4b7a-9ac5-a45dfa36fd11',\n",
      "  'service_schema': '{\"oca_schema_namespace\": \"string\", \"oca_schema_dri\": '\n",
      "                    '\"string\"}',\n",
      "  'state': 'accepted',\n",
      "  'updated_at': '2020-08-25 09:30:32.048980Z'}]\n"
     ]
    }
   ],
   "source": [
    "issue_self = requests.post('http://localhost:8151/verifiable-services/get-issue-self', json={\n",
    "    \"exchange_id\": apply['exchange_id'],\n",
    "})\n",
    "issue_self = json.loads(issue_self.text)\n",
    "pp.pprint(issue_self)"
   ]
  },
  {
   "cell_type": "code",
   "execution_count": 227,
   "metadata": {
    "scrolled": true
   },
   "outputs": [
    {
     "name": "stdout",
     "output_type": "stream",
     "text": [
      "<Response [200]>\n",
      "{'credential_exchange_record': {'auto_issue': True,\n",
      "                                'auto_offer': False,\n",
      "                                'auto_remove': False,\n",
      "                                'connection_id': 'bdf2e3c9-5dc1-4eb1-8400-69e058b800d0',\n",
      "                                'created_at': '2020-08-25 09:30:32.040804Z',\n",
      "                                'credential_definition_id': '7ktHcMmM5NK61P9g5Hio4P:3:CL:564:Services',\n",
      "                                'credential_exchange_id': 'c27d7b52-650d-4b4f-bada-deb4bd82ce9b',\n",
      "                                'credential_offer': {'cred_def_id': '7ktHcMmM5NK61P9g5Hio4P:3:CL:564:Services',\n",
      "                                                     'key_correctness_proof': {'c': '110975624205282597727392057631075725644309954786316201575391002893922349344925',\n",
      "                                                                               'xr_cap': [['oca_schema_dri',\n",
      "                                                                                           '863687490737654232935978538411273900594481292344181911851745536132007711187872755161419793959148077265154659305736178719006930929644168353556294271943150665306904468400279281207135046092651914682527684967117506701032934757289785665640047805904161905323264351128728825906567718650860781447541722697270420867707875300983063273688662194463365809432241025611532235659581297999429971054973310607710070866025728540555572244620332126854407408387345321535777250331449631165127764213686175056859768358972502705194852219678598539750578685766466090491499569813315218999932843149718744679758161942789352728664639478102057222016089574444526184935329338593057933719106807262496497675051379425786053846915581'],\n",
      "                                                                                          ['oca_schema_namespace',\n",
      "                                                                                           '689599625267814414375901364724825134850307141500500955881944237169246344863631544679586612107295365618282695578936632912682738086195347933105375646745928094780542802258878857047830515276726145074151953294402054650384246825761440062249700300156373884273651033081741324840727904141799780709008555709171589602189186297296630953232993023217488306683246602672457542733617911185737641308071486813052202755365363132103451083272462163172687154882041918205485236812721298022530527345163998951583771642127293186800611138484471319372678002989441971887031742587144059002548680978206344523229549701455564556203000254213186691366067965707797695896671127592570672530149599255691137206114604198387705285396484'],\n",
      "                                                                                          ['master_secret',\n",
      "                                                                                           '1363084306335603678987930516755999041736801421433845808212707891080936002416294190039116779495959572674613429638135584394845260271086492510198396416066469363112071203919105669768350052874016996007049743017568792182643054624963019213026215264762194416823217168174660029105213347735715696620067171969973323720859296666946436626936437058550438403283983535608740285048393680252344401322833899415029916111477303375320567464226588431774881635206967693011593508596893147420091723716312879788600130796917162735829917853076783460951031004913576262232455541095505976510176995629296616210693533900671804839094698673136898394640112256251409435942049625763449843917546045617693931933895027309894117155195296'],\n",
      "                                                                                          ['data_dri',\n",
      "                                                                                           '1238470451307943156770354549988816509677842207414948167721613222949014458383277560393270915134895401306028167889344453705107931331743697843397167075538200919135792517401984647013065633345371634702008184062719061371189862868937770272425405942378492758273186747600960255055622695103474101058913062179958204690441087210942077268656141075022138894659155320567915033045613986330422845904385146803944581114505069025847111755104716611534149535786620508517321650215305997707729051716378983245405927736302410296477151489316171110031316335274871124160144997494876131026082746973325754638596933274807637894126554413456484711564264681210187429542463371036799526347375077801659428833536051090367675561002537']],\n",
      "                                                                               'xz_cap': '2400326396261338765469694335165743227142063232193868969394401945664211777239005672257265122821750873932438282385880473111309913469752505974799966091297405143075984653319529296391145959249458609914597056304063920521448806407797439836461407181292491602443798906423866194029653882663164002865994764310474002686530323745350982915239440189726990342276275004803290970530772736728708813862924132201344120627643399167707420376633252572006865430475498135269166446954879742181839130583278052183027950459278476462010709075902438598388722352087425990196230485220385292444474183314486302074831190031474634006950332032587834361803030658990768741484180558416826498321691728724628232415315583434178630147614652'},\n",
      "                                                     'nonce': '134344014383337102476985',\n",
      "                                                     'schema_id': '7ktHcMmM5NK61P9g5Hio4P:2:memxsassdsssdfdeds:1.0'},\n",
      "                                'credential_proposal_dict': {'@id': 'a91acc37-d9f5-45cc-91ff-74502b733f50',\n",
      "                                                             '@type': 'did:sov:BzCbsNYhMrjHiqZDTUASHg;spec/issue-credential/1.0/propose-credential',\n",
      "                                                             'cred_def_id': '7ktHcMmM5NK61P9g5Hio4P:3:CL:564:Services',\n",
      "                                                             'credential_proposal': {'@type': 'did:sov:BzCbsNYhMrjHiqZDTUASHg;spec/issue-credential/1.0/credential-preview',\n",
      "                                                                                     'attributes': [{'mime-type': 'application/json',\n",
      "                                                                                                     'name': 'oca_schema_dri',\n",
      "                                                                                                     'value': 'string'},\n",
      "                                                                                                    {'mime-type': 'application/json',\n",
      "                                                                                                     'name': 'data_dri',\n",
      "                                                                                                     'value': '5aa1ded3d7ca5332930e36bcc5a68440c31cabe27c0b562e2b47112fd5ce17b9'},\n",
      "                                                                                                    {'mime-type': 'application/json',\n",
      "                                                                                                     'name': 'oca_schema_namespace',\n",
      "                                                                                                     'value': 'string'}]}},\n",
      "                                'initiator': 'self',\n",
      "                                'schema_id': '7ktHcMmM5NK61P9g5Hio4P:2:memxsassdsssdfdeds:1.0',\n",
      "                                'state': 'offer_sent',\n",
      "                                'thread_id': 'c6feec82-e2c1-4885-811f-63bd3bb3762c',\n",
      "                                'updated_at': '2020-08-25 09:30:32.040804Z'},\n",
      " 'issue': {'author': 'other',\n",
      "           'connection_id': 'bdf2e3c9-5dc1-4eb1-8400-69e058b800d0',\n",
      "           'created_at': '2020-08-25 09:30:18.567927Z',\n",
      "           'exchange_id': '6bd7aad2-6134-4067-b64d-418131f3fae4',\n",
      "           'label': 'memxsassdsssdfdeds',\n",
      "           'service_id': '681d61fa-b6d5-4b7a-9ac5-a45dfa36fd11',\n",
      "           'state': 'accepted',\n",
      "           'updated_at': '2020-08-25 09:30:32.048980Z'}}\n"
     ]
    }
   ],
   "source": [
    "issue_self = requests.post('http://localhost:8151/verifiable-services/process-application', json={\n",
    "    \"issue_id\": issue_self[0]['issue_id'],\n",
    "    \"decision\": \"accept\",\n",
    "})\n",
    "print(issue_self)\n",
    "issue_self = json.loads(issue_self.text)\n",
    "pp.pprint(issue_self)"
   ]
  },
  {
   "cell_type": "code",
   "execution_count": 36,
   "metadata": {},
   "outputs": [
    {
     "name": "stdout",
     "output_type": "stream",
     "text": [
      "some string yes dd b7c34035833ad394aaf721e431ae4a7f6359d66e1c69e8be9ec4c3e1d2e1ea1f\n"
     ]
    }
   ],
   "source": [
    "payload = \"some string yes dd\"\n",
    "payload_response = \"response yay\"\n",
    "hash_id = hashlib.sha256(payload.encode(\"UTF-8\")).hexdigest()\n",
    "hash_id_response = hashlib.sha256(payload_response.encode(\"UTF-8\")).hexdigest()\n",
    "print(payload, hash_id)"
   ]
  },
  {
   "cell_type": "code",
   "execution_count": 293,
   "metadata": {},
   "outputs": [
    {
     "name": "stdout",
     "output_type": "stream",
     "text": [
      "{'results': [{'attrs': {'consent_schema': '{\"oca_schema_namespace\": \"string\", '\n",
      "                                          '\"oca_schema_dri\": \"string\", '\n",
      "                                          '\"data_url\": \"string\"}',\n",
      "                        'label': 'memxsassdsssdfdeds',\n",
      "                        'service_schema': '{\"oca_schema_namespace\": \"string\", '\n",
      "                                          '\"oca_schema_dri\": \"string\"}'},\n",
      "              'cred_def_id': 'B6hy9V4FLjh6tQmknfEvTt:3:CL:273:Services',\n",
      "              'cred_rev_id': None,\n",
      "              'referent': 'e56cb0b5-f044-4176-b4d8-246c27ea0d00',\n",
      "              'rev_reg_id': None,\n",
      "              'schema_id': 'B6hy9V4FLjh6tQmknfEvTt:2:memxsassdsssdfdeds:1.0'},\n",
      "             {'attrs': {'consent_schema': '{\"oca_schema_namespace\": \"string\", '\n",
      "                                          '\"oca_schema_dri\": \"string\", '\n",
      "                                          '\"data_url\": \"string\"}',\n",
      "                        'label': 'memxsassdsssdfdeds',\n",
      "                        'service_schema': '{\"oca_schema_namespace\": \"string\", '\n",
      "                                          '\"oca_schema_dri\": \"string\"}'},\n",
      "              'cred_def_id': 'B6hy9V4FLjh6tQmknfEvTt:3:CL:273:Services',\n",
      "              'cred_rev_id': None,\n",
      "              'referent': 'd387ddac-035e-452d-b993-5202801f3b89',\n",
      "              'rev_reg_id': None,\n",
      "              'schema_id': 'B6hy9V4FLjh6tQmknfEvTt:2:memxsassdsssdfdeds:1.0'}]}\n"
     ]
    }
   ],
   "source": [
    "credentials = requests.get('http://localhost:8150/credentials')\n",
    "credentials = json.loads(credentials.text) \n",
    "pp.pprint(credentials)"
   ]
  },
  {
   "cell_type": "markdown",
   "metadata": {},
   "source": [
    "I added returning hash id to add schema, I need to test if it works with both rejecting (not found schema) and accepting schema dound"
   ]
  },
  {
   "cell_type": "markdown",
   "metadata": {},
   "source": [
    "### Add schema to storage"
   ]
  },
  {
   "cell_type": "code",
   "execution_count": 52,
   "metadata": {
    "scrolled": true
   },
   "outputs": [
    {
     "name": "stdout",
     "output_type": "stream",
     "text": [
      "{\"hash_id\": \"9f86d081884c7d659a2feaa0c55ad015a3bf4f1b2b0b822cd15d6c15b0f00a08\", \"payload\": \"test\"}\n"
     ]
    }
   ],
   "source": [
    "add = requests.post('http://localhost:8150/schema-storage/add', json={\n",
    "  \"payload\": \"test\"\n",
    "})\n",
    "print(add.text)\n",
    "add = json.loads(add.text)"
   ]
  },
  {
   "cell_type": "markdown",
   "metadata": {},
   "source": [
    "### SEND Initial Request"
   ]
  },
  {
   "cell_type": "code",
   "execution_count": 53,
   "metadata": {},
   "outputs": [],
   "source": [
    "send = requests.post('http://localhost:8151/schema-exchange/request-schema', json={\n",
    "  \"hash_id\": add['hash_id'],\n",
    "  \"connection_id\": connection[1]\n",
    "})"
   ]
  },
  {
   "cell_type": "code",
   "execution_count": 54,
   "metadata": {},
   "outputs": [],
   "source": [
    "send = requests.post('http://localhost:8151/schema-exchange/request-schema', json={\n",
    "  \"hash_id\": \"ddd\",\n",
    "  \"connection_id\": connection[1]\n",
    "})"
   ]
  },
  {
   "cell_type": "code",
   "execution_count": 55,
   "metadata": {
    "scrolled": true
   },
   "outputs": [
    {
     "name": "stdout",
     "output_type": "stream",
     "text": [
      "{\"hash_id\": \"ddd\", \"connection_id\": \"a361d994-aaea-4f5c-9bf4-9644a774de2b\", \"record_id\": \"1e61b917-946b-4a56-8810-5b48081f79e6\", \"exchange_id\": \"c5f71769-b806-49fe-8861-15f49ffad9e3\", \"state\": \"pending\"}\n"
     ]
    }
   ],
   "source": [
    "print(send.text)"
   ]
  },
  {
   "cell_type": "markdown",
   "metadata": {},
   "source": [
    "### GET Request By RECORD_ID"
   ]
  },
  {
   "cell_type": "markdown",
   "metadata": {},
   "source": [
    "### GET Request List and filter by state and author"
   ]
  },
  {
   "cell_type": "code",
   "execution_count": 56,
   "metadata": {
    "scrolled": true
   },
   "outputs": [
    {
     "name": "stdout",
     "output_type": "stream",
     "text": [
      "Agent1:\n",
      "[{'author': 'other',\n",
      "  'connection_id': '844f6e7f-c13e-4ef8-b018-754fc5205445',\n",
      "  'created_at': '2020-07-16 09:09:17.991960Z',\n",
      "  'exchange_id': 'c5f71769-b806-49fe-8861-15f49ffad9e3',\n",
      "  'payload': 'ddd',\n",
      "  'state': 'failed to find the record',\n",
      "  'updated_at': '2020-07-16 09:09:17.991960Z'},\n",
      " {'author': 'other',\n",
      "  'connection_id': '844f6e7f-c13e-4ef8-b018-754fc5205445',\n",
      "  'created_at': '2020-07-16 09:09:16.748526Z',\n",
      "  'exchange_id': 'f51e4a06-2214-4b9e-a28a-d4c336258f66',\n",
      "  'payload': '9f86d081884c7d659a2feaa0c55ad015a3bf4f1b2b0b822cd15d6c15b0f00a08',\n",
      "  'state': 'approved',\n",
      "  'updated_at': '2020-07-16 09:09:16.748526Z'}]\n",
      "\n",
      "Agent2:\n",
      "[{'author': 'self',\n",
      "  'connection_id': 'a361d994-aaea-4f5c-9bf4-9644a774de2b',\n",
      "  'created_at': '2020-07-16 09:09:17.950785Z',\n",
      "  'exchange_id': 'c5f71769-b806-49fe-8861-15f49ffad9e3',\n",
      "  'payload': 'ddd',\n",
      "  'state': 'failed to find the record',\n",
      "  'updated_at': '2020-07-16 09:09:18.029400Z'},\n",
      " {'author': 'self',\n",
      "  'connection_id': 'a361d994-aaea-4f5c-9bf4-9644a774de2b',\n",
      "  'created_at': '2020-07-16 09:09:16.720869Z',\n",
      "  'exchange_id': 'f51e4a06-2214-4b9e-a28a-d4c336258f66',\n",
      "  'payload': '9f86d081884c7d659a2feaa0c55ad015a3bf4f1b2b0b822cd15d6c15b0f00a08',\n",
      "  'state': 'approved',\n",
      "  'updated_at': '2020-07-16 09:09:16.780856Z'}]\n"
     ]
    }
   ],
   "source": [
    "request_list = requests.post('http://localhost:8150/schema-storage/debug/request/list', json={})\n",
    "request_list = json.loads(request_list.text)\n",
    "print(\"Agent1:\", )\n",
    "pp.pprint(request_list)\n",
    "request_list = requests.post('http://localhost:8151/schema-storage/debug/request/list', json={})\n",
    "request_list = json.loads(request_list.text)\n",
    "print(\"\\nAgent2:\")\n",
    "pp.pprint(request_list)"
   ]
  },
  {
   "cell_type": "markdown",
   "metadata": {},
   "source": [
    "### GET RECORD LIST"
   ]
  },
  {
   "cell_type": "code",
   "execution_count": 57,
   "metadata": {
    "scrolled": true
   },
   "outputs": [
    {
     "name": "stdout",
     "output_type": "stream",
     "text": [
      "Agent1: \n",
      "[{'author': 'self',\n",
      "  'created_at': '2020-07-16 09:09:15.407083Z',\n",
      "  'hash_id': '9f86d081884c7d659a2feaa0c55ad015a3bf4f1b2b0b822cd15d6c15b0f00a08',\n",
      "  'payload': 'test',\n",
      "  'updated_at': '2020-07-16 09:09:15.407083Z'}]\n",
      "Agent2: \n",
      "[{'author': 'a361d994-aaea-4f5c-9bf4-9644a774de2b',\n",
      "  'created_at': '2020-07-16 09:09:16.808608Z',\n",
      "  'hash_id': '9f86d081884c7d659a2feaa0c55ad015a3bf4f1b2b0b822cd15d6c15b0f00a08',\n",
      "  'payload': 'test',\n",
      "  'updated_at': '2020-07-16 09:09:16.808608Z'}]\n"
     ]
    }
   ],
   "source": [
    "getRequests = requests.post('http://localhost:8150/schema-storage/list')\n",
    "record_list = json.loads(getRequests.text)\n",
    "print(\"Agent1: \")\n",
    "pp.pprint(record_list)\n",
    "\n",
    "getRequests = requests.post('http://localhost:8151/schema-storage/list')\n",
    "record_list = json.loads(getRequests.text)\n",
    "print(\"Agent2: \")\n",
    "pp.pprint(record_list)"
   ]
  },
  {
   "cell_type": "code",
   "execution_count": null,
   "metadata": {},
   "outputs": [],
   "source": [
    "\n",
    "# message = util.buildMessage(\n",
    "#         'https://didcomm.org/issue-credential/1.0/propose-credential'\n",
    "#     )\n",
    "# testing = util.sendMessage(message, agents[0])\n",
    "# pp.pprint(testing)"
   ]
  },
  {
   "cell_type": "code",
   "execution_count": null,
   "metadata": {},
   "outputs": [],
   "source": [
    "# pp.pprint(util.sendSchema(agents[0], \"schesssdddvd\", \"1.0\", [\"memesssaaaaaaa\"]))"
   ]
  },
  {
   "cell_type": "code",
   "execution_count": null,
   "metadata": {},
   "outputs": [],
   "source": [
    "# result = util.schemaGetList(agents[0])\n",
    "# last_schema_id = result['results'][-1]['schema_id']\n",
    "# print(result)"
   ]
  },
  {
   "cell_type": "code",
   "execution_count": null,
   "metadata": {},
   "outputs": [],
   "source": [
    "# util.schemaGet(agents[0], last_schema_id)"
   ]
  }
 ],
 "metadata": {
  "kernelspec": {
   "display_name": "Python 3",
   "language": "python",
   "name": "python3"
  },
  "language_info": {
   "codemirror_mode": {
    "name": "ipython",
    "version": 3
   },
   "file_extension": ".py",
   "mimetype": "text/x-python",
   "name": "python",
   "nbconvert_exporter": "python",
   "pygments_lexer": "ipython3",
   "version": "3.7.5"
  }
 },
 "nbformat": 4,
 "nbformat_minor": 4
}
