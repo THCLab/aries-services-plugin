{
 "cells": [
  {
   "cell_type": "code",
   "execution_count": 2,
   "metadata": {},
   "outputs": [],
   "source": [
    "import requests\n",
    "import json\n",
    "import pprint\n",
    "from aiohttp import ClientSession, FormData"
   ]
  },
  {
   "cell_type": "code",
   "execution_count": 13,
   "metadata": {
    "scrolled": false
   },
   "outputs": [
    {
     "name": "stdout",
     "output_type": "stream",
     "text": [
      "<class 'int'>\n",
      "{\"access_token\":\"aX8HgISQAWLjJqa_7NjRyZaTDIxm-fOBZG-UtBLEKXU\",\"token_type\":\"Bearer\",\"expires_in\":7200,\"created_at\":1601884048,\"username\":\"Karol\"}\n",
      "{\"id\":1615635}\n",
      "https://data-vault.eu/api/items/1615635/details\n",
      "{\"id\":1615635,\"repo_id\":5785,\"merkle_id\":null,\"value\":\"{\\\"test\\\":\\\"data\\\",\\\"id\\\":1615635}\",\"oyd_hash\":null,\"created_at\":\"2020-10-05T07:32:42.598Z\",\"updated_at\":\"2020-10-05T07:32:42.645Z\",\"oyd_source_pile_id\":null,\"dri\":null,\"schema_dri\":null,\"mime_type\":null,\"repo_name\":\"dip.data\",\"access_count\":9}\n",
      "{\"item_id\":1615635}\n",
      "https://data-vault.eu/api/items/1615635/details\n",
      "{\"id\":1615635,\"repo_id\":5785,\"merkle_id\":null,\"value\":\"{\\\"change\\\":\\\"data\\\",\\\"id\\\":\\\"1615635\\\"}\",\"oyd_hash\":null,\"created_at\":\"2020-10-05T07:32:42.598Z\",\"updated_at\":\"2020-10-05T07:32:43.367Z\",\"oyd_source_pile_id\":null,\"dri\":null,\"schema_dri\":null,\"mime_type\":null,\"repo_name\":\"dip.data\",\"access_count\":11}\n"
     ]
    }
   ],
   "source": [
    "# curl -H \"Content-Type: application/json\" \\\n",
    "#     -d '{\"client_id\": \"{Identifier from above}\", \\\n",
    "#          \"client_secret\": \"{Secret from above}\", \"grant_type\": \"client_credentials\"}' \\\n",
    "#     -X POST https://data-vault.eu/oauth/token\n",
    "\n",
    "# curl -H \"Content-Type: application/json\" \\\n",
    "#   -H \"Authorization: Bearer {access_token from above}\" \\\n",
    "#   -d '{\"hello\": \"world\"}' \\\n",
    "#   -X POST https://data-vault.eu/api/repos/dip.data/items\n",
    "\n",
    "# curl -H \"Content-Type: application/json\" \\\n",
    "#   -H \"Authorization: Bearer {access_token from above}\" \\\n",
    "#   https://data-vault.eu/api/repos/dip.data/items\n",
    "\n",
    "\n",
    "async with ClientSession() as session:\n",
    "            result = await session.post(\"https://data-vault.eu/oauth/token\", json={\n",
    "                \"client_id\": \"8SX1-RBazhic9ftG4HyG2XegrQ2kdLGu0hd-Ty3IZnE\", \n",
    "                \"client_secret\": \"gEg9_tTh2V1ZK6piL9tZ38YO-1xqXLDXCccJS4uQUJg\",\n",
    "                \"grant_type\": \"client_credentials\"\n",
    "            })\n",
    "            print(type(result.status))\n",
    "            result = await result.text()\n",
    "            token = json.loads(result)\n",
    "            print(result)\n",
    "            \n",
    "async with ClientSession() as session:\n",
    "            result = await session.post(\"https://data-vault.eu/api/repos/dip.data/items\", json={\n",
    "                \"test\": \"data\"\n",
    "            }, headers={\n",
    "                \"Authorization\": \"Bearer \" + token['access_token']\n",
    "            })\n",
    "            \n",
    "            result = await result.text()\n",
    "            save = json.loads(result)\n",
    "            print(result)\n",
    "\n",
    "url = \"https://data-vault.eu/api/items/\"+str(save[\"id\"])+\"/details\"\n",
    "print(url)\n",
    "async with ClientSession() as session:\n",
    "            result = await session.get(url, headers={\n",
    "                \"Authorization\": \"Bearer \" + token['access_token']\n",
    "            })\n",
    "            result = await result.text()\n",
    "            load = json.loads(result)\n",
    "            print(result)\n",
    "            \n",
    "            \n",
    "url = \"https://data-vault.eu/api/repos/dip.data/items/\" + str(load['id'])\n",
    "async with ClientSession() as session:\n",
    "            result = await session.put(url, json={\n",
    "                \"change\": \"data\"\n",
    "            }, headers={\n",
    "                \"Authorization\": \"Bearer \" + token['access_token']\n",
    "            })\n",
    "            \n",
    "            result = await result.text()\n",
    "            update = json.loads(result)\n",
    "            print(result)\n",
    "            \n",
    "url = \"https://data-vault.eu/api/items/\"+str(update['item_id'])+\"/details\"\n",
    "print(url)\n",
    "async with ClientSession() as session:\n",
    "            result = await session.get(url, headers={\n",
    "                \"Authorization\": \"Bearer \" + token['access_token']\n",
    "            })\n",
    "            result = await result.text()\n",
    "            load = json.loads(result)\n",
    "            print(result)\n"
   ]
  },
  {
   "cell_type": "code",
   "execution_count": 37,
   "metadata": {},
   "outputs": [
    {
     "name": "stdout",
     "output_type": "stream",
     "text": [
      "{\"id\":1610004,\"repo_id\":5785,\"merkle_id\":null,\"value\":\"{\\\"test\\\":\\\"data\\\",\\\"id\\\":1610004}\",\"oyd_hash\":null,\"created_at\":\"2020-10-02T12:53:05.392Z\",\"updated_at\":\"2020-10-02T12:53:05.418Z\",\"oyd_source_pile_id\":null,\"dri\":null,\"schema_dri\":null,\"mime_type\":null,\"repo_name\":\"dip.data\",\"access_count\":10}\n"
     ]
    }
   ],
   "source": [
    "async with ClientSession() as session:\n",
    "            result = await session.get(\"https://data-vault.eu/api/items/1610004/details\", headers={\n",
    "                \"Authorization\": \"Bearer \" + token['access_token']\n",
    "            })\n",
    "            result = await result.text()\n",
    "            load = json.loads(result)\n",
    "            print(result)"
   ]
  },
  {
   "cell_type": "code",
   "execution_count": 18,
   "metadata": {},
   "outputs": [
    {
     "ename": "NameError",
     "evalue": "name 'resp' is not defined",
     "output_type": "error",
     "traceback": [
      "\u001b[0;31m---------------------------------------------------------------------------\u001b[0m",
      "\u001b[0;31mNameError\u001b[0m                                 Traceback (most recent call last)",
      "\u001b[0;32m<ipython-input-18-35618d7c1416>\u001b[0m in \u001b[0;36masync-def-wrapper\u001b[0;34m()\u001b[0m\n\u001b[1;32m     11\u001b[0m     \u001b[0mprint\u001b[0m\u001b[0;34m(\u001b[0m\u001b[0mresp\u001b[0m\u001b[0;34m.\u001b[0m\u001b[0mstatus\u001b[0m\u001b[0;34m)\u001b[0m\u001b[0;34m\u001b[0m\u001b[0;34m\u001b[0m\u001b[0m\n",
      "\u001b[0;31mNameError\u001b[0m: name 'resp' is not defined"
     ]
    }
   ],
   "source": [
    "\n",
    "url = 'http://data-vault.localhost/api/v1/files'\n",
    "data = FormData()\n",
    "data.add_field('file',\n",
    "               \"memes\",\n",
    "               filename='abba',\n",
    "               content_type='application/json')\n",
    "\n",
    "async with ClientSession() as session:\n",
    "    await session.post(url=url, data=data)\n",
    "    print(await resp.text())"
   ]
  },
  {
   "cell_type": "code",
   "execution_count": 23,
   "metadata": {
    "scrolled": false
   },
   "outputs": [
    {
     "name": "stdout",
     "output_type": "stream",
     "text": [
      "<Response [200]>\n",
      "zQmcXWdhiJSaWg25mXKPTZAp4EAt7SjfEPAjKdjSDUXfDXn\n"
     ]
    }
   ],
   "source": [
    "add = requests.post('http://data-vault.localhost/api/v1/files', files = {\n",
    "    'file': ('test_file', 'test_test_yes')\n",
    "})\n",
    "print(add)\n",
    "print(add.text)"
   ]
  },
  {
   "cell_type": "code",
   "execution_count": 48,
   "metadata": {
    "scrolled": true
   },
   "outputs": [
    {
     "name": "stdout",
     "output_type": "stream",
     "text": [
      "test_test_yes\n"
     ]
    }
   ],
   "source": [
    "get = requests.get('http://data-vault.localhost/api/v1/files/' + add.text)\n",
    "print(get.text)"
   ]
  },
  {
   "cell_type": "code",
   "execution_count": 50,
   "metadata": {},
   "outputs": [
    {
     "name": "stdout",
     "output_type": "stream",
     "text": [
      "[{\"DRI\":\"zQmP9LkvbGXK2aaVuitR8WCZQYeKosFvcFQQjunZkz8NZ4F\",\"file\":{\"name\":\"zQmbB6LSS92nZEmEKZLQH6bzd9EeBXuW42DuWpSmD76aMQX\",\"type\":\"json\",\"contentDRI\":\"zQmbB6LSS92nZEmEKZLQH6bzd9EeBXuW42DuWpSmD76aMQX\"}},{\"DRI\":\"zQmVHm8oRsiRgPv5wUQ1c286cLj9Z3iBsd4ah2z3bMGExbe\",\"file\":{\"name\":\"a6c7a86b5af85a0de1685c0bcce4b3d\",\"type\":\"zip\",\"contentDRI\":\"zQmNiqMUz1tnUsXroHb2ugKoPDGoZCAqrHRz7vYHEHAw3jA\"}},{\"DRI\":\"zQmcXWdhiJSaWg25mXKPTZAp4EAt7SjfEPAjKdjSDUXfDXn\",\"file\":{\"name\":\"test_file\",\"type\":null,\"contentDRI\":\"zQmVAxg5Ncz6C8zjx4bab7uQB2W8AGqkAVcRAi2VceQN6Cc\"}},{\"DRI\":\"zQmRBXgMkjh1Vw9MB3XZt3cHDRxmX15b7xmHLsVFcjZv8th\",\"file\":{\"name\":\"abba\",\"type\":null,\"contentDRI\":\"zQmNmDadhKMDtF1C8nJBwxzync5RytDBJruo9rQ2mgKnQMj\"}},{\"DRI\":\"zQmNxuZvDfqHopr3thcQurYePoB11DaEb6wu3qPHpwxEG3u\",\"file\":{\"name\":\"string\",\"type\":null,\"contentDRI\":\"zQmSGkFU26J43H5ToS5VwoyS1eqP41F6VU1WUyNaNui4gXg\"}}]\n",
      "[{'DRI': 'zQmP9LkvbGXK2aaVuitR8WCZQYeKosFvcFQQjunZkz8NZ4F',\n",
      "  'file': {'contentDRI': 'zQmbB6LSS92nZEmEKZLQH6bzd9EeBXuW42DuWpSmD76aMQX',\n",
      "           'name': 'zQmbB6LSS92nZEmEKZLQH6bzd9EeBXuW42DuWpSmD76aMQX',\n",
      "           'type': 'json'}},\n",
      " {'DRI': 'zQmVHm8oRsiRgPv5wUQ1c286cLj9Z3iBsd4ah2z3bMGExbe',\n",
      "  'file': {'contentDRI': 'zQmNiqMUz1tnUsXroHb2ugKoPDGoZCAqrHRz7vYHEHAw3jA',\n",
      "           'name': 'a6c7a86b5af85a0de1685c0bcce4b3d',\n",
      "           'type': 'zip'}},\n",
      " {'DRI': 'zQmcXWdhiJSaWg25mXKPTZAp4EAt7SjfEPAjKdjSDUXfDXn',\n",
      "  'file': {'contentDRI': 'zQmVAxg5Ncz6C8zjx4bab7uQB2W8AGqkAVcRAi2VceQN6Cc',\n",
      "           'name': 'test_file',\n",
      "           'type': None}},\n",
      " {'DRI': 'zQmRBXgMkjh1Vw9MB3XZt3cHDRxmX15b7xmHLsVFcjZv8th',\n",
      "  'file': {'contentDRI': 'zQmNmDadhKMDtF1C8nJBwxzync5RytDBJruo9rQ2mgKnQMj',\n",
      "           'name': 'abba',\n",
      "           'type': None}},\n",
      " {'DRI': 'zQmNxuZvDfqHopr3thcQurYePoB11DaEb6wu3qPHpwxEG3u',\n",
      "  'file': {'contentDRI': 'zQmSGkFU26J43H5ToS5VwoyS1eqP41F6VU1WUyNaNui4gXg',\n",
      "           'name': 'string',\n",
      "           'type': None}}]\n"
     ]
    }
   ],
   "source": [
    "get = requests.get('http://data-vault.localhost/api/v1/files')\n",
    "print(get.text)\n",
    "memes = json.loads(get.text)\n",
    "len(memes)\n",
    "pprint.pprint(memes)"
   ]
  }
 ],
 "metadata": {
  "kernelspec": {
   "display_name": "Python 3",
   "language": "python",
   "name": "python3"
  },
  "language_info": {
   "codemirror_mode": {
    "name": "ipython",
    "version": 3
   },
   "file_extension": ".py",
   "mimetype": "text/x-python",
   "name": "python",
   "nbconvert_exporter": "python",
   "pygments_lexer": "ipython3",
   "version": "3.7.5"
  }
 },
 "nbformat": 4,
 "nbformat_minor": 4
}
