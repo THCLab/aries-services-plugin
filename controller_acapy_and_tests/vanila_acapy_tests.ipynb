{
 "cells": [
  {
   "cell_type": "code",
   "execution_count": 60,
   "metadata": {},
   "outputs": [
    {
     "data": {
      "text/plain": [
       "<module 'jupyter_util' from '/home/sevni/Documents/thclab/aries/aries-acapy-plugin/controller_acapy/jupyter_util.py'>"
      ]
     },
     "execution_count": 60,
     "metadata": {},
     "output_type": "execute_result"
    }
   ],
   "source": [
    "import requests \n",
    "import json\n",
    "import pprint as pp # pretty print\n",
    "\n",
    "import aries_cloudagent.wallet.crypto as crypto\n",
    "import base64\n",
    "import base58\n",
    "import uuid\n",
    "import hashlib\n",
    "import jupyter_util as util\n",
    "from importlib import reload\n",
    "reload(util)"
   ]
  },
  {
   "cell_type": "markdown",
   "metadata": {},
   "source": [
    "## Enter Invite Url:"
   ]
  },
  {
   "cell_type": "code",
   "execution_count": 61,
   "metadata": {
    "scrolled": true
   },
   "outputs": [
    {
     "name": "stdout",
     "output_type": "stream",
     "text": [
      "http://agent1.localhost?c_i=eyJAdHlwZSI6ICJkaWQ6c292OkJ6Q2JzTlloTXJqSGlxWkRUVUFTSGc7c3BlYy9jb25uZWN0aW9ucy8xLjAvaW52aXRhdGlvbiIsICJAaWQiOiAiOTljZjBlZTEtYjY3ZC00OWY4LTlmZmEtNDM5ZjlkMmQ2NmU4IiwgImxhYmVsIjogIkFnZW50IEJvbmQgdGhlIEZpcnN0IChhZG1pbikiLCAicmVjaXBpZW50S2V5cyI6IFsiN21mOUJaOUw0NW04UGc1NUYzN3QzMm9XQ3g0dFVlVDJrbmVoWExWS21BUDQiXSwgInNlcnZpY2VFbmRwb2ludCI6ICJodHRwOi8vYWdlbnQxLmxvY2FsaG9zdCJ9\n"
     ]
    }
   ],
   "source": [
    "agent1 = {}\n",
    "plugin = {}\n",
    "endpoint = \"http://localhost:8150/connections/create-admin-invitation-url\"\n",
    "adminInvitationResponse = requests.post(endpoint)\n",
    "adminInvitationResponse = adminInvitationResponse.text\n",
    "agent1['url'] = json.loads(adminInvitationResponse)['invitation_url']\n",
    "print(agent1['url'])"
   ]
  },
  {
   "cell_type": "code",
   "execution_count": 62,
   "metadata": {
    "scrolled": true
   },
   "outputs": [
    {
     "name": "stdout",
     "output_type": "stream",
     "text": [
      "http://agent2.localhost?c_i=eyJAdHlwZSI6ICJkaWQ6c292OkJ6Q2JzTlloTXJqSGlxWkRUVUFTSGc7c3BlYy9jb25uZWN0aW9ucy8xLjAvaW52aXRhdGlvbiIsICJAaWQiOiAiNTBkYWJhYzEtYjI0MS00ZTBkLTk4OWMtMzFkZjZhODE0MDAzIiwgInNlcnZpY2VFbmRwb2ludCI6ICJodHRwOi8vYWdlbnQyLmxvY2FsaG9zdCIsICJsYWJlbCI6ICJBbGljZSBKb25lcyAoYWRtaW4pIiwgInJlY2lwaWVudEtleXMiOiBbIkg2c1huekUzeFVSRHlCUlRMRzg3a3U0WWZRRkFTekxVUjlLbVhyQmQyZllGIl19\n"
     ]
    }
   ],
   "source": [
    "agent2 = {}\n",
    "endpoint = \"http://localhost:8151/connections/create-admin-invitation-url\"\n",
    "adminInvitationResponse = requests.post(endpoint)\n",
    "adminInvitationResponse = adminInvitationResponse.text\n",
    "agent2['url'] = json.loads(adminInvitationResponse)['invitation_url']\n",
    "print(agent2['url'])"
   ]
  },
  {
   "cell_type": "code",
   "execution_count": 63,
   "metadata": {
    "scrolled": true
   },
   "outputs": [
    {
     "name": "stdout",
     "output_type": "stream",
     "text": [
      "Decoded invitation:\n",
      "\n",
      "{'@id': '50dabac1-b241-4e0d-989c-31df6a814003',\n",
      " '@type': 'did:sov:BzCbsNYhMrjHiqZDTUASHg;spec/connections/1.0/invitation',\n",
      " 'label': 'Alice Jones (admin)',\n",
      " 'recipientKeys': ['H6sXnzE3xURDyBRTLG87ku4YfQFASzLUR9KmXrBd2fYF'],\n",
      " 'serviceEndpoint': 'http://agent2.localhost'}\n"
     ]
    }
   ],
   "source": [
    "agent1 = util.processInviteUrl(agent1['url'])\n",
    "agent2 = util.processInviteUrl(agent2['url'])\n",
    "print(\"Decoded invitation:\\n\")\n",
    "pp.pprint(agent2['invite'])"
   ]
  },
  {
   "cell_type": "code",
   "execution_count": 64,
   "metadata": {
    "scrolled": true
   },
   "outputs": [
    {
     "name": "stdout",
     "output_type": "stream",
     "text": [
      "Private key: \n",
      " 2eyUvLm4qb1YND3RxA1E6jRhzPiwxmT1YLgGb9Y7se4TD2j61BmbjVpKr6jZbVcjyzrUiGEL71aW75NSxED74bVq\n",
      "\n",
      "Public key: \n",
      " DjFN6jg5SAAMSKJvb6TvVkt75anM7cSATseBZWK3W9r7\n"
     ]
    }
   ],
   "source": [
    "### Generating a did key using aries crypto module\n",
    "# Create a key pair with random seed \n",
    "# Order: 0 - public key, 1 - secret / pritvate key\n",
    "plugin['keypair'] = crypto.create_keypair()\n",
    "# it seems to me that did is an encoded sub string of public key\n",
    "# or maybe just some arbitrary random number\n",
    "did = plugin['keypair'][0][:16]\n",
    "# final version of our did\n",
    "plugin['did'] = base58.b58encode(did).decode(\"ascii\")\n",
    "# encoding keys to base58\n",
    "plugin['public_key_b58'] = \\\n",
    "    base58.b58encode(plugin['keypair'][0]).decode(\"ascii\")\n",
    "plugin['private_key_b58'] = \\\n",
    "    base58.b58encode(plugin['keypair'][1]).decode(\"ascii\")\n",
    "\n",
    "print(\"Private key: \\n\", plugin['private_key_b58'])\n",
    "print(\"\\nPublic key: \\n\", plugin['public_key_b58'])"
   ]
  },
  {
   "cell_type": "markdown",
   "metadata": {},
   "source": [
    "**Sending a connection request to acapy**"
   ]
  },
  {
   "cell_type": "code",
   "execution_count": 65,
   "metadata": {
    "scrolled": false
   },
   "outputs": [],
   "source": [
    "agent1['connection'] = util.connectWithAcapy(agent1, plugin)\n",
    "agent2['connection'] = util.connectWithAcapy(agent2, plugin)\n",
    "# print(\"Decoded acapy response: \\n\")\n",
    "# pp.pprint(agent1['conn'])"
   ]
  },
  {
   "cell_type": "markdown",
   "metadata": {},
   "source": [
    "**Unpacking connection data embedded in the response**"
   ]
  },
  {
   "cell_type": "code",
   "execution_count": 66,
   "metadata": {
    "scrolled": true
   },
   "outputs": [],
   "source": [
    "agent1['connection_details'] = util.decodeConnectionDetails(agent1['connection'])\n",
    "agent2['connection_details'] = util.decodeConnectionDetails(agent2['connection'])"
   ]
  },
  {
   "cell_type": "markdown",
   "metadata": {},
   "source": [
    "**Adding the connection to connection list**"
   ]
  },
  {
   "cell_type": "code",
   "execution_count": 67,
   "metadata": {
    "scrolled": true
   },
   "outputs": [],
   "source": [
    "agents = [\n",
    "    {\n",
    "        \"label\": agent1['invite']['label'],\n",
    "        \"DIDDoc\": agent1['connection_details']['DIDDoc'],\n",
    "        \"myKey\": plugin['keypair'][1]\n",
    "    },\n",
    "    {\n",
    "        \"label\": agent2['invite']['label'],\n",
    "        \"DIDDoc\": agent2['connection_details']['DIDDoc'],\n",
    "        \"myKey\": plugin['keypair'][1]\n",
    "    },\n",
    "]\n",
    "\n",
    "# pp.pprint(connections)"
   ]
  },
  {
   "cell_type": "code",
   "execution_count": 68,
   "metadata": {
    "scrolled": true
   },
   "outputs": [
    {
     "name": "stdout",
     "output_type": "stream",
     "text": [
      "fac3731e-8cc6-4226-8046-aa25b2304c4b \n",
      " abf45fbf-0998-40f9-9bbb-2e128a12dd59\n"
     ]
    }
   ],
   "source": [
    "connection = util.connectAgents(agents[0], agents[1])\n",
    "connection[1] = connection[1]['raw_repr']['connection_id']\n",
    "connection[0] = connection[0]['connection_id']\n",
    "print(connection[0], \"\\n\", connection[1])"
   ]
  },
  {
   "cell_type": "markdown",
   "metadata": {},
   "source": [
    "### FEATURE DISCOVERY"
   ]
  },
  {
   "cell_type": "code",
   "execution_count": 69,
   "metadata": {},
   "outputs": [],
   "source": [
    "# consentSchema: function() {\n",
    "#       return {\n",
    "#         namespace: \"consent\",\n",
    "#         DRI: \"fArVHJTQSKHu2CeXJocQmH3HHxzZXsuQD7kzyHJhQ49s\"\n",
    "#       }\n",
    "#     },\n",
    "\n",
    "# consentAnswers: function() {\n",
    "#       return [\n",
    "#         \"zQmNeoZGfo1chKACu9RLrVoG4afjLrGnAz1rhsfvGZwg9Z3\",\n",
    "#         \"zQmPsU57nqWY8jzndU9AE2RK4EXvjMLGmytVpUNxfRpm18G\"\n",
    "#       ]"
   ]
  },
  {
   "cell_type": "code",
   "execution_count": 70,
   "metadata": {
    "scrolled": true
   },
   "outputs": [
    {
     "data": {
      "text/plain": [
       "{'@type': 'did:sov:BzCbsNYhMrjHiqZDTUASHg;spec/admin-dids/0.1/did',\n",
       " '@id': '6d295edb-7cb8-4fcc-b206-85e4c4b129fe',\n",
       " '~thread': {'thid': '7f5e7865-38b5-4ae0-ba08-003b2a0bd0ca'},\n",
       " 'result': {'metadata': {'public': True},\n",
       "  'verkey': '4h6fuP5FDHsVq4Sdh3oxfN2cvAXyVG7GkVDB2x3GmDvw',\n",
       "  'did': '7mpJAwgyGir27gvGXnBhpo'}}"
      ]
     },
     "execution_count": 70,
     "metadata": {},
     "output_type": "execute_result"
    }
   ],
   "source": [
    "add = requests.post('http://localhost:8151/verifiable-services/add', json={\n",
    "  \"label\": \"consent_test\",\n",
    "  \"service_schema\": {\n",
    "    \"oca_schema_namespace\": \"string\",\n",
    "    \"oca_schema_dri\": \"string\"\n",
    "  },\n",
    "  \"consent_schema\": {\n",
    "    \"oca_schema_namespace\": \"consent\",\n",
    "    \"oca_schema_dri\": \"fArVHJTQSKHu2CeXJocQmH3HHxzZXsuQD7kzyHJhQ49s\",\n",
    "    \"data_dri\": \"zQmPsU57nqWY8jzndU9AE2RK4EXvjMLGmytVpUNxfRpm18G\"\n",
    "  }\n",
    "})\n",
    "add = json.loads(add.text)\n",
    "\n",
    "newDid1 = util.createDid(agents[1])\n",
    "newDid0 = util.createDid(agents[0])\n",
    "\n",
    "try:\n",
    "    util.registerDidOnLedger(agents[1], newDid1['result']['did'], newDid1['result']['verkey'])\n",
    "except:\n",
    "    pass\n",
    "try:\n",
    "    util.registerDidOnLedger(agents[0], newDid0['result']['did'], newDid0['result']['verkey'])\n",
    "except:\n",
    "    pass\n",
    "\n",
    "util.setPublicDid(agents[1], newDid1['result']['did'])\n",
    "util.setPublicDid(agents[0], newDid0['result']['did'])"
   ]
  },
  {
   "cell_type": "code",
   "execution_count": 71,
   "metadata": {
    "scrolled": true
   },
   "outputs": [
    {
     "name": "stdout",
     "output_type": "stream",
     "text": [
      "<Response [200]>\n",
      "{'connection_id': 'fac3731e-8cc6-4226-8046-aa25b2304c4b',\n",
      " 'created_at': '2020-10-01 10:54:15.870430Z',\n",
      " 'services': [{'consent_schema': {'data_dri': 'zQmPsU57nqWY8jzndU9AE2RK4EXvjMLGmytVpUNxfRpm18G',\n",
      "                                  'oca_schema_dri': 'fArVHJTQSKHu2CeXJocQmH3HHxzZXsuQD7kzyHJhQ49s',\n",
      "                                  'oca_schema_namespace': 'consent'},\n",
      "               'label': 'consent_test',\n",
      "               'service_id': 'be7a59d1-1a6f-4784-bfd5-33734725d8cd',\n",
      "               'service_schema': {'oca_schema_dri': 'string',\n",
      "                                  'oca_schema_namespace': 'string'}}],\n",
      " 'updated_at': '2020-10-01 10:54:15.870430Z'}\n"
     ]
    }
   ],
   "source": [
    "service_list = requests.get('http://localhost:8150/verifiable-services/DEBUGrequest/' + connection[0])\n",
    "print(service_list)\n",
    "service_list = json.loads(service_list.text)\n",
    "pp.pprint(service_list)"
   ]
  },
  {
   "cell_type": "code",
   "execution_count": 72,
   "metadata": {
    "scrolled": true
   },
   "outputs": [
    {
     "name": "stdout",
     "output_type": "stream",
     "text": [
      "{'@type': 'did:sov:BzCbsNYhMrjHiqZDTUASHg;spec/verifiable-services/1.0/application', '@id': '7bb9b480-b045-4179-8f89-36a27f00ead0', 'exchange_id': 'e98ff6dc-4105-4131-af13-f68fa67d68df', 'data_dri': 'ddbcc71964f4fd7744bf2d23c031516fb9bd6f766909090044cdc3e4201cd4d8', 'service_id': 'be7a59d1-1a6f-4784-bfd5-33734725d8cd', 'credential_definition_id': '7mpJAwgyGir27gvGXnBhpo:3:CL:1293:consent_schema'}\n"
     ]
    }
   ],
   "source": [
    "apply = requests.post('http://localhost:8150/verifiable-services/apply', json={\n",
    "  \"connection_id\": connection[0],\n",
    "  \"service_id\": service_list['services'][0]['service_id'],\n",
    "  \"payload\": \"abc\",\n",
    "  \"service\": service_list['services'][0],\n",
    "})\n",
    "apply = json.loads(apply.text)\n",
    "print(apply)"
   ]
  },
  {
   "cell_type": "code",
   "execution_count": 81,
   "metadata": {
    "scrolled": true
   },
   "outputs": [
    {
     "name": "stdout",
     "output_type": "stream",
     "text": [
      "[{'author': 'other',\n",
      "  'connection_id': 'abf45fbf-0998-40f9-9bbb-2e128a12dd59',\n",
      "  'consent_schema': '{\"oca_schema_namespace\": \"consent\", \"oca_schema_dri\": '\n",
      "                    '\"fArVHJTQSKHu2CeXJocQmH3HHxzZXsuQD7kzyHJhQ49s\", '\n",
      "                    '\"data_dri\": '\n",
      "                    '\"zQmPsU57nqWY8jzndU9AE2RK4EXvjMLGmytVpUNxfRpm18G\"}',\n",
      "  'created_at': '2020-10-01 10:54:32.739200Z',\n",
      "  'exchange_id': 'e98ff6dc-4105-4131-af13-f68fa67d68df',\n",
      "  'issue_id': '852db2726e355088c5d1e04959c2bcb57009a5621a64723742ce4a851caa4ba7',\n",
      "  'label': 'consent_test',\n",
      "  'payload': None,\n",
      "  'service_id': 'be7a59d1-1a6f-4784-bfd5-33734725d8cd',\n",
      "  'service_schema': '{\"oca_schema_namespace\": \"string\", \"oca_schema_dri\": '\n",
      "                    '\"string\"}',\n",
      "  'state': 'accepted',\n",
      "  'updated_at': '2020-10-01 10:54:51.814837Z'}]\n",
      "<Response [200]>\n",
      "{'credential_exchange_record': {'auto_issue': True,\n",
      "                                'auto_offer': False,\n",
      "                                'auto_remove': False,\n",
      "                                'connection_id': 'abf45fbf-0998-40f9-9bbb-2e128a12dd59',\n",
      "                                'created_at': '2020-10-01 10:55:19.562244Z',\n",
      "                                'credential_definition_id': '8pX1utXEav1kgqb4U4275X:3:CL:1295:Services',\n",
      "                                'credential_exchange_id': '98661c93-0b21-4f7a-b61e-f88b7e52f565',\n",
      "                                'credential_offer': {'cred_def_id': '8pX1utXEav1kgqb4U4275X:3:CL:1295:Services',\n",
      "                                                     'key_correctness_proof': {'c': '37335018372314216860833530723297262270694990367228416399104943038605893183920',\n",
      "                                                                               'xr_cap': [['master_secret',\n",
      "                                                                                           '825695929461302909348195813036364640147956285770837637847805084769611339294058128478823713915612168326387289648033966420076964533497261397317092095929600853664512470306843219730870248232115952974487262497308909518043704272916147703908738339037909720676592688528062687861695514018110387817175686666350961756684947988260908959183958123230644427783996901929364187379156075337853225871171327640519249597602365696214937343551292949100135083194145374081442075078877918803969860266009335336531104322215281537414798698912072802674256931108157458893508629429210641933220566574079887305999203503642510456636524157655016731911886352426708798095859373420405812257189928139265945182531576999182483142246036'],\n",
      "                                                                                          ['data_dri',\n",
      "                                                                                           '450450376369734873803107922717269166868991469523953849402185564915393072172356904652567213858209153206600618664551575052062570394128733279811438683791167112640039292926626137784828279913958677093709093143282186722294494316409398321986470293609929330118786756616187824409247578123031553856820876705420546295443634492804815704022047776980607994133269927192560293315356927350622303908095512762366963459804421911609215797345749380619055011417286019767216928717944151982560220964487761087776522929380435036614577854787957341203916072064787809423151718539317267512781684802258552596910103349008712073329975785777171435713039067961837936295987277894116113854620853096092712522098883720453631518175926'],\n",
      "                                                                                          ['oca_schema_namespace',\n",
      "                                                                                           '558662495485217107455248113017632519116945207902149016255761799472926850645517093440040242174685609134907438774120833547647804144276058335049057799643539491984651312434597739628376910783906191746790518743779109952527277346587731629632826071145272025453568988884754118162325118469802504972788154581397965091298067852989167722962362017491311045572093095008693125838674704409608998267146721391600730577373940263194290984768247265261671992616185938442489252325527216530924224812840606183222162300993650422584939964215653183851192934931971094343458980240983009610248145710421743764721835871786950102841298335093802204311500233968977131672961180923825936874702673555506211029985253167313254568884575'],\n",
      "                                                                                          ['oca_schema_dri',\n",
      "                                                                                           '969732755889405301147448325228518893008533645403848822322466517543088204581055410277690203922007100381781805624126396748958373682468392384260762467254667943403735374943538593322431679609653569207963221104422518563514796690614313181859358904284403705201787822368443569780123179197196049060282540390929210431723072553606947483423185382498901367910425073002967773011817131367703305716284611260753324698304310900119881307565733339437314433136403146676817937447520364598981152432995560259198190993190835109492024430494096911745882321747656342825412253091524574940586626694452543882798753659842692731162699628584116204050275756061163934204371955954304513201583360174487891061971540664778916122587144']],\n",
      "                                                                               'xz_cap': '520657077211961711908307999753137025320740727858864873125439614922979874779048433349737505576760967982439892548618494627716233540853717567043462952674637869596557383051867418214075726491935742838284156171678543825725903749011058836917099095103446554397785044122535943672186165438872601192727656126582389518109283458631345155162405097001317148109116986879581212116034174485982714354125479134218832866220267058374437570939325299841689524880044755681267159648925509675390170076654092852924136855429407984686086043535477489763802596000651018983298436244358215686723198170673460735551824389610030222411048951888827493312037051437402325576826719363453112562756756031079713461809393872715154397336588'},\n",
      "                                                     'nonce': '147298769101198516516425',\n",
      "                                                     'schema_id': '8pX1utXEav1kgqb4U4275X:2:consent_test:1.0'},\n",
      "                                'credential_offer_dict': {'@id': '1b662c19-258e-432b-93b2-62255a8450d5',\n",
      "                                                          '@type': 'did:sov:BzCbsNYhMrjHiqZDTUASHg;spec/issue-credential/1.0/offer-credential',\n",
      "                                                          'credential_preview': {'@type': 'did:sov:BzCbsNYhMrjHiqZDTUASHg;spec/issue-credential/1.0/credential-preview',\n",
      "                                                                                 'attributes': [{'mime-type': 'application/json',\n",
      "                                                                                                 'name': 'oca_schema_dri',\n",
      "                                                                                                 'value': 'string'},\n",
      "                                                                                                {'mime-type': 'application/json',\n",
      "                                                                                                 'name': 'data_dri',\n",
      "                                                                                                 'value': 'ddbcc71964f4fd7744bf2d23c031516fb9bd6f766909090044cdc3e4201cd4d8'},\n",
      "                                                                                                {'mime-type': 'application/json',\n",
      "                                                                                                 'name': 'oca_schema_namespace',\n",
      "                                                                                                 'value': 'string'}]},\n",
      "                                                          'offers~attach': [{'@id': 'libindy-cred-offer-0',\n",
      "                                                                             'data': {'base64': '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'},\n",
      "                                                                             'mime-type': 'application/json'}],\n",
      "                                                          '~thread': {}},\n",
      "                                'credential_proposal_dict': {'@id': '9f2b89e4-1e9d-4999-899e-3633cab89b78',\n",
      "                                                             '@type': 'did:sov:BzCbsNYhMrjHiqZDTUASHg;spec/issue-credential/1.0/propose-credential',\n",
      "                                                             'cred_def_id': '8pX1utXEav1kgqb4U4275X:3:CL:1295:Services',\n",
      "                                                             'credential_proposal': {'@type': 'did:sov:BzCbsNYhMrjHiqZDTUASHg;spec/issue-credential/1.0/credential-preview',\n",
      "                                                                                     'attributes': [{'mime-type': 'application/json',\n",
      "                                                                                                     'name': 'oca_schema_dri',\n",
      "                                                                                                     'value': 'string'},\n",
      "                                                                                                    {'mime-type': 'application/json',\n",
      "                                                                                                     'name': 'data_dri',\n",
      "                                                                                                     'value': 'ddbcc71964f4fd7744bf2d23c031516fb9bd6f766909090044cdc3e4201cd4d8'},\n",
      "                                                                                                    {'mime-type': 'application/json',\n",
      "                                                                                                     'name': 'oca_schema_namespace',\n",
      "                                                                                                     'value': 'string'}]}},\n",
      "                                'initiator': 'self',\n",
      "                                'schema_id': '8pX1utXEav1kgqb4U4275X:2:consent_test:1.0',\n",
      "                                'state': 'offer_sent',\n",
      "                                'thread_id': '1b662c19-258e-432b-93b2-62255a8450d5',\n",
      "                                'updated_at': '2020-10-01 10:55:19.562244Z'},\n",
      " 'issue': {'author': 'other',\n",
      "           'connection_id': 'abf45fbf-0998-40f9-9bbb-2e128a12dd59',\n",
      "           'created_at': '2020-10-01 10:54:32.739200Z',\n",
      "           'exchange_id': 'e98ff6dc-4105-4131-af13-f68fa67d68df',\n",
      "           'label': 'consent_test',\n",
      "           'service_id': 'be7a59d1-1a6f-4784-bfd5-33734725d8cd',\n",
      "           'state': 'accepted',\n",
      "           'updated_at': '2020-10-01 10:55:19.570051Z'}}\n"
     ]
    }
   ],
   "source": [
    "issue_self = requests.post('http://localhost:8151/verifiable-services/get-issue-self', json={\n",
    "    \"exchange_id\": apply['exchange_id'],\n",
    "})\n",
    "issue_self = json.loads(issue_self.text)\n",
    "pp.pprint(issue_self)\n",
    "\n",
    "issue_self = requests.post('http://localhost:8151/verifiable-services/process-application', json={\n",
    "    \"issue_id\": issue_self[0]['issue_id'],\n",
    "    \"decision\": \"accept\",\n",
    "})\n",
    "print(issue_self)\n",
    "issue_self = json.loads(issue_self.text)\n",
    "pp.pprint(issue_self)"
   ]
  },
  {
   "cell_type": "code",
   "execution_count": 82,
   "metadata": {
    "scrolled": true
   },
   "outputs": [
    {
     "name": "stdout",
     "output_type": "stream",
     "text": [
      "{'results': [{'attrs': {'data_dri': 'ddbcc71964f4fd7744bf2d23c031516fb9bd6f766909090044cdc3e4201cd4d8',\n",
      "                        'oca_schema_dri': 'string',\n",
      "                        'oca_schema_namespace': 'string'},\n",
      "              'cred_def_id': '8pX1utXEav1kgqb4U4275X:3:CL:1295:Services',\n",
      "              'cred_rev_id': None,\n",
      "              'referent': '0c0e3ab5-b44f-4d82-9fd9-8be78bba94d7',\n",
      "              'rev_reg_id': None,\n",
      "              'schema_id': '8pX1utXEav1kgqb4U4275X:2:consent_test:1.0'},\n",
      "             {'attrs': {'data_dri': 'ddbcc71964f4fd7744bf2d23c031516fb9bd6f766909090044cdc3e4201cd4d8',\n",
      "                        'oca_schema_dri': 'string',\n",
      "                        'oca_schema_namespace': 'string'},\n",
      "              'cred_def_id': '8pX1utXEav1kgqb4U4275X:3:CL:1295:Services',\n",
      "              'cred_rev_id': None,\n",
      "              'referent': '8e52d3f0-659c-4677-ad75-371236506873',\n",
      "              'rev_reg_id': None,\n",
      "              'schema_id': '8pX1utXEav1kgqb4U4275X:2:consent_test:1.0'}]}\n"
     ]
    }
   ],
   "source": [
    "credentials = requests.get('http://localhost:8150/credentials')\n",
    "credentials = json.loads(credentials.text) \n",
    "pp.pprint(credentials)"
   ]
  },
  {
   "cell_type": "code",
   "execution_count": 83,
   "metadata": {
    "scrolled": true
   },
   "outputs": [
    {
     "name": "stdout",
     "output_type": "stream",
     "text": [
      "{'auto_present': False, 'presentation_request_dict': {'@type': 'did:sov:BzCbsNYhMrjHiqZDTUASHg;spec/present-proof/1.0/request-presentation', '@id': '8d49fca8-b018-49a2-9aae-67896371de6c', 'request_presentations~attach': [{'@id': 'libindy-request-presentation-0', 'mime-type': 'application/json', 'data': {'base64': 'eyJ2ZXJzaW9uIjogIjEuMCIsICJuYW1lIjogIlByb29mIHJlcXVlc3QiLCAicmVxdWVzdGVkX2F0dHJpYnV0ZXMiOiB7ImRhdGFfZHJpIjogeyJyZXN0cmljdGlvbnMiOiBbeyJjcmVkX2RlZl9pZCI6ICI4cFgxdXRYRWF2MWtncWI0VTQyNzVYOjM6Q0w6MTI5NTpTZXJ2aWNlcyJ9XSwgIm5hbWUiOiAiZGF0YV9kcmkifX0sICJyZXF1ZXN0ZWRfcHJlZGljYXRlcyI6IHt9LCAibm9uY2UiOiAiMTIzNDUifQ=='}}]}, 'presentation_exchange_id': 'dd79640e-c9b7-466b-b85e-b91cba502d55', 'presentation_request': {'version': '1.0', 'name': 'Proof request', 'requested_attributes': {'data_dri': {'restrictions': [{'cred_def_id': '8pX1utXEav1kgqb4U4275X:3:CL:1295:Services'}], 'name': 'data_dri'}}, 'requested_predicates': {}, 'nonce': '12345'}, 'connection_id': 'abf45fbf-0998-40f9-9bbb-2e128a12dd59', 'trace': False, 'updated_at': '2020-10-01 10:55:21.708723Z', 'state': 'request_sent', 'created_at': '2020-10-01 10:55:21.708723Z', 'initiator': 'self', 'thread_id': '8d49fca8-b018-49a2-9aae-67896371de6c', 'role': 'verifier'}\n"
     ]
    }
   ],
   "source": [
    "proof_schema = {\n",
    "  \"proof_request\": {\n",
    "    \"version\": \"1.0\",\n",
    "    \"name\": \"Proof request\",\n",
    "    \"requested_attributes\": {\n",
    "      \"data_dri\": {\n",
    "        \"restrictions\": [\n",
    "          {\n",
    "            \"cred_def_id\": credentials['results'][0]['cred_def_id'],\n",
    "          }\n",
    "        ],\n",
    "        \"name\": \"data_dri\"\n",
    "      },\n",
    "    },\n",
    "    \"requested_predicates\": {\n",
    "    },\n",
    "    \"nonce\": \"12345\"\n",
    "  },\n",
    "  \"connection_id\": connection[1],\n",
    "}\n",
    "proof_json = json.dumps(proof_schema)\n",
    "\n",
    "proof = requests.post('http://localhost:8151/present-proof/send-request', json=proof_schema)\n",
    "proof = json.loads(proof.text)\n",
    "print(proof)"
   ]
  },
  {
   "cell_type": "code",
   "execution_count": 84,
   "metadata": {
    "scrolled": false
   },
   "outputs": [
    {
     "name": "stdout",
     "output_type": "stream",
     "text": [
      "{'connection_id': 'fac3731e-8cc6-4226-8046-aa25b2304c4b',\n",
      " 'created_at': '2020-10-01 10:55:21.777931Z',\n",
      " 'initiator': 'external',\n",
      " 'presentation_exchange_id': 'f888a71d-57db-40df-8ec7-150fbae6758a',\n",
      " 'presentation_request': {'name': 'Proof request',\n",
      "                          'nonce': '12345',\n",
      "                          'requested_attributes': {'data_dri': {'name': 'data_dri',\n",
      "                                                                'restrictions': [{'cred_def_id': '8pX1utXEav1kgqb4U4275X:3:CL:1295:Services'}]}},\n",
      "                          'requested_predicates': {},\n",
      "                          'version': '1.0'},\n",
      " 'role': 'prover',\n",
      " 'state': 'request_received',\n",
      " 'thread_id': '8d49fca8-b018-49a2-9aae-67896371de6c',\n",
      " 'trace': False,\n",
      " 'updated_at': '2020-10-01 10:55:21.777931Z'}\n"
     ]
    }
   ],
   "source": [
    "proof = requests.get('http://localhost:8150/present-proof/records?state=request_received')\n",
    "proof_requests = json.loads(proof.text)['results']\n",
    "proof_request = proof_requests[0]\n",
    "pp.pprint(proof_request)"
   ]
  },
  {
   "cell_type": "code",
   "execution_count": 85,
   "metadata": {},
   "outputs": [
    {
     "name": "stdout",
     "output_type": "stream",
     "text": [
      "{'requested_attributes': {'data_dri': {'cred_id': '0c0e3ab5-b44f-4d82-9fd9-8be78bba94d7', 'revealed': True}}, 'requested_predicates': {}, 'self_attested_attributes': {}}\n",
      "{\"trace\": false, \"connection_id\": \"fac3731e-8cc6-4226-8046-aa25b2304c4b\", \"thread_id\": \"8d49fca8-b018-49a2-9aae-67896371de6c\", \"role\": \"prover\", \"updated_at\": \"2020-10-01 10:55:23.750371Z\", \"created_at\": \"2020-10-01 10:55:21.777931Z\", \"state\": \"presentation_sent\", \"presentation\": {\"proof\": {\"proofs\": [{\"primary_proof\": {\"eq_proof\": {\"revealed_attrs\": {\"data_dri\": \"30586878791154781151037835533422175090933089741194177308066356351013299802157\"}, \"a_prime\": \"20659873220326237780683732467955894328895851146743030684312928123564738716747435833225354044751689438346166300301283550065195034442344314997928520854799971107013064202246407341805394090515161976612001597564121308615537575581448591321899117336200420785855520367937727286299941991235391305999145755087083444716752685872828066315283301043282248204702522852629142436736547729057004321512710170168208230129035705330205013272064953320659724707140222187291885103877338033291113268967201645947891853376125488136791648239106380767938219421724945309002849375344015996066615762315590066884996302451171077539123647383737850268071\", \"e\": \"175389143788092535095135589226629831427369155854314752370116015101669288837927832769336698286095049762452473275596229940399879973700920964\", \"v\": \"522947217223474220982722875150281306183263364401304993360633956175307331630407061596514241957818075376201482483274256302096324669638580175902297320129957222746831888326598388937743514725721576824014536397792799647261831147720192898782110131449737094360759953590354669540692039404775530441510897738278049920925817970550171348020683926614489780484789823141461843148141869024511763621866230752868445522068995871855497553537887840818271829713108621234720425788528455317097081459994612350695763593602249434529117304912856826312817699934485926197020626623441942813135658174665764237009692060166025402445895900392108718885726313362919067787608265480948327510910901758038397143680394758352725870322713927766905939826240745099058883534278338213320286627602904220857754622511305176820121612053080881994489298413009008116316314963984703362571493592662480337541117871443120512504512710232487574287186238308188519159632374002424079339\", \"m\": {\"oca_schema_dri\": \"12369144407069957474116685891552939583705917135012563817124743603312374685383739305731920654371181411787407362486230243447133587697974178099341501770252762303796273101521181009132\", \"oca_schema_namespace\": \"664250889042631732024864123679731410140016747666663018010945274918879602821761384606628906767117573736148292733484704753763430041728735859279994039531443461874342559807600380200\", \"master_secret\": \"6551435289790120301139358307792491003226373940972240292597901870773410952831041490208889781716611753722355552022148586024761305066254891030589478402324446039085699774922549546421\"}, \"m2\": \"932938108499590787175116293738342546008067509934987550136907824400780251583888996240710695857875472304699190958471907145560933883472001837786539360693491503662753005628250134671\"}, \"ge_proofs\": []}, \"non_revoc_proof\": null}], \"aggregated_proof\": {\"c_hash\": \"35016745194304127470920725574602511633194872588500891853838385752581897919495\", \"c_list\": [[163, 168, 96, 93, 138, 72, 170, 95, 188, 15, 38, 203, 160, 111, 239, 105, 13, 22, 49, 9, 83, 76, 225, 139, 100, 209, 181, 184, 119, 54, 94, 89, 189, 234, 189, 158, 41, 110, 57, 200, 208, 191, 78, 249, 199, 244, 183, 80, 96, 113, 119, 206, 151, 164, 93, 82, 97, 59, 80, 39, 128, 193, 142, 179, 109, 158, 228, 114, 203, 46, 19, 5, 191, 123, 105, 199, 85, 180, 121, 25, 178, 204, 180, 69, 66, 4, 44, 168, 31, 126, 255, 166, 252, 112, 194, 141, 159, 251, 233, 48, 233, 224, 245, 192, 106, 128, 177, 92, 160, 66, 45, 199, 226, 104, 6, 143, 226, 195, 102, 39, 234, 37, 207, 160, 128, 202, 237, 88, 64, 137, 140, 124, 82, 25, 134, 90, 37, 123, 198, 197, 21, 200, 189, 134, 130, 206, 247, 221, 144, 96, 85, 142, 137, 239, 224, 59, 131, 219, 186, 106, 176, 38, 206, 227, 172, 95, 161, 19, 21, 167, 99, 125, 98, 140, 207, 77, 171, 159, 38, 30, 216, 176, 19, 42, 166, 179, 169, 205, 130, 69, 185, 236, 25, 79, 1, 23, 52, 21, 35, 206, 190, 57, 179, 31, 151, 67, 199, 198, 113, 193, 141, 136, 201, 224, 169, 88, 96, 248, 125, 68, 3, 40, 234, 100, 198, 251, 195, 135, 67, 33, 93, 207, 219, 53, 160, 179, 77, 5, 216, 133, 160, 9, 49, 136, 199, 44, 219, 238, 254, 144, 137, 228, 172, 218, 9, 167]]}}, \"requested_proof\": {\"revealed_attrs\": {\"data_dri\": {\"sub_proof_index\": 0, \"raw\": \"ddbcc71964f4fd7744bf2d23c031516fb9bd6f766909090044cdc3e4201cd4d8\", \"encoded\": \"30586878791154781151037835533422175090933089741194177308066356351013299802157\"}}, \"self_attested_attrs\": {}, \"unrevealed_attrs\": {}, \"predicates\": {}}, \"identifiers\": [{\"schema_id\": \"8pX1utXEav1kgqb4U4275X:2:consent_test:1.0\", \"cred_def_id\": \"8pX1utXEav1kgqb4U4275X:3:CL:1295:Services\", \"rev_reg_id\": null, \"timestamp\": null}]}, \"presentation_request\": {\"version\": \"1.0\", \"name\": \"Proof request\", \"requested_attributes\": {\"data_dri\": {\"restrictions\": [{\"cred_def_id\": \"8pX1utXEav1kgqb4U4275X:3:CL:1295:Services\"}], \"name\": \"data_dri\"}}, \"requested_predicates\": {}, \"nonce\": \"12345\"}, \"initiator\": \"external\", \"presentation_exchange_id\": \"f888a71d-57db-40df-8ec7-150fbae6758a\"}\n"
     ]
    }
   ],
   "source": [
    "url = 'http://localhost:8150/present-proof/records/' + \\\n",
    "       proof_request['presentation_exchange_id'] + \\\n",
    "       '/send-presentation'\n",
    "\n",
    "presentation_schema = {\n",
    "  \"requested_attributes\": {\n",
    "    \"data_dri\": {\n",
    "      \"cred_id\": credentials['results'][0]['referent'],\n",
    "        \"revealed\": True\n",
    "    },\n",
    "  },\n",
    "   \"requested_predicates\": {\n",
    "  },\n",
    "  \"self_attested_attributes\": {\n",
    "      \n",
    "  }\n",
    "}\n",
    "print(presentation_schema)\n",
    "present = requests.post(url, json=presentation_schema)\n",
    "\n",
    "print(present.text)"
   ]
  },
  {
   "cell_type": "code",
   "execution_count": 47,
   "metadata": {
    "collapsed": true
   },
   "outputs": [
    {
     "name": "stdout",
     "output_type": "stream",
     "text": [
      "{\"proof_request\": {\"version\": \"1.0\", \"name\": \"Proof request\", \"requested_attributes\": {\"additionalProp1\": {\"non_revoked\": {\"from_epoch\": 1600672361, \"to_epoch\": 1600672361}, \"restrictions\": [{\"credential_definition_id\": \"WgWxqztrNooG92RXvxSTWv:3:CL:20:tag\", \"schema_version\": \"1.0\", \"issuer_did\": \"WgWxqztrNooG92RXvxSTWv\", \"schema_name\": \"transcript\", \"schema_issuer_did\": \"WgWxqztrNooG92RXvxSTWv\", \"cred_def_id\": \"WgWxqztrNooG92RXvxSTWv:3:CL:20:tag\", \"schema_id\": \"WgWxqztrNooG92RXvxSTWv:2:schema_name:1.0\"}], \"name\": \"favouriteDrink\"}, \"additionalProp2\": {\"non_revoked\": {\"from_epoch\": 1600672361, \"to_epoch\": 1600672361}, \"restrictions\": [{\"credential_definition_id\": \"WgWxqztrNooG92RXvxSTWv:3:CL:20:tag\", \"schema_version\": \"1.0\", \"issuer_did\": \"WgWxqztrNooG92RXvxSTWv\", \"schema_name\": \"transcript\", \"schema_issuer_did\": \"WgWxqztrNooG92RXvxSTWv\", \"cred_def_id\": \"WgWxqztrNooG92RXvxSTWv:3:CL:20:tag\", \"schema_id\": \"WgWxqztrNooG92RXvxSTWv:2:schema_name:1.0\"}], \"name\": \"favouriteDrink\"}, \"additionalProp3\": {\"non_revoked\": {\"from_epoch\": 1600672361, \"to_epoch\": 1600672361}, \"restrictions\": [{\"credential_definition_id\": \"WgWxqztrNooG92RXvxSTWv:3:CL:20:tag\", \"schema_version\": \"1.0\", \"issuer_did\": \"WgWxqztrNooG92RXvxSTWv\", \"schema_name\": \"transcript\", \"schema_issuer_did\": \"WgWxqztrNooG92RXvxSTWv\", \"cred_def_id\": \"WgWxqztrNooG92RXvxSTWv:3:CL:20:tag\", \"schema_id\": \"WgWxqztrNooG92RXvxSTWv:2:schema_name:1.0\"}], \"name\": \"favouriteDrink\"}}, \"requested_predicates\": {\"additionalProp1\": {\"p_type\": \">=\", \"p_value\": 0, \"name\": \"index\", \"non_revoked\": {\"from_epoch\": 1600672361, \"to_epoch\": 1600672361}, \"restrictions\": [{\"credential_definition_id\": \"WgWxqztrNooG92RXvxSTWv:3:CL:20:tag\", \"schema_version\": \"1.0\", \"issuer_did\": \"WgWxqztrNooG92RXvxSTWv\", \"schema_name\": \"transcript\", \"schema_issuer_did\": \"WgWxqztrNooG92RXvxSTWv\", \"cred_def_id\": \"WgWxqztrNooG92RXvxSTWv:3:CL:20:tag\", \"schema_id\": \"WgWxqztrNooG92RXvxSTWv:2:schema_name:1.0\"}]}, \"additionalProp2\": {\"p_type\": \">=\", \"p_value\": 0, \"name\": \"index\", \"non_revoked\": {\"from_epoch\": 1600672361, \"to_epoch\": 1600672361}, \"restrictions\": [{\"credential_definition_id\": \"WgWxqztrNooG92RXvxSTWv:3:CL:20:tag\", \"schema_version\": \"1.0\", \"issuer_did\": \"WgWxqztrNooG92RXvxSTWv\", \"schema_name\": \"transcript\", \"schema_issuer_did\": \"WgWxqztrNooG92RXvxSTWv\", \"cred_def_id\": \"WgWxqztrNooG92RXvxSTWv:3:CL:20:tag\", \"schema_id\": \"WgWxqztrNooG92RXvxSTWv:2:schema_name:1.0\"}]}, \"additionalProp3\": {\"p_type\": \">=\", \"p_value\": 0, \"name\": \"index\", \"non_revoked\": {\"from_epoch\": 1600672361, \"to_epoch\": 1600672361}, \"restrictions\": [{\"credential_definition_id\": \"WgWxqztrNooG92RXvxSTWv:3:CL:20:tag\", \"schema_version\": \"1.0\", \"issuer_did\": \"WgWxqztrNooG92RXvxSTWv\", \"schema_name\": \"transcript\", \"schema_issuer_did\": \"WgWxqztrNooG92RXvxSTWv\", \"cred_def_id\": \"WgWxqztrNooG92RXvxSTWv:3:CL:20:tag\", \"schema_id\": \"WgWxqztrNooG92RXvxSTWv:2:schema_name:1.0\"}]}}, \"nonce\": \"1234567890\"}, \"connection_id\": \"3fa85f64-5717-4562-b3fc-2c963f66afa6\", \"trace\": true, \"comment\": \"string\"}\n"
     ]
    }
   ],
   "source": [
    "# proof_schema = {\n",
    "#   \"proof_request\": {\n",
    "#     \"version\": \"1.0\",\n",
    "#     \"name\": \"Proof request\",\n",
    "#     \"requested_attributes\": {\n",
    "#       \"additionalProp1\": {\n",
    "#         \"non_revoked\": {\n",
    "#           \"from_epoch\": 1600672361,\n",
    "#           \"to_epoch\": 1600672361\n",
    "#         },\n",
    "#         \"restrictions\": [\n",
    "#           {\n",
    "#             \"credential_definition_id\": \"WgWxqztrNooG92RXvxSTWv:3:CL:20:tag\",\n",
    "#             \"schema_version\": \"1.0\",\n",
    "#             \"issuer_did\": \"WgWxqztrNooG92RXvxSTWv\",\n",
    "#             \"schema_name\": \"transcript\",\n",
    "#             \"schema_issuer_did\": \"WgWxqztrNooG92RXvxSTWv\",\n",
    "#             \"cred_def_id\": \"WgWxqztrNooG92RXvxSTWv:3:CL:20:tag\",\n",
    "#             \"schema_id\": \"WgWxqztrNooG92RXvxSTWv:2:schema_name:1.0\"\n",
    "#           }\n",
    "#         ],\n",
    "#         \"name\": \"favouriteDrink\"\n",
    "#       },\n",
    "#       \"additionalProp2\": {\n",
    "#         \"non_revoked\": {\n",
    "#           \"from_epoch\": 1600672361,\n",
    "#           \"to_epoch\": 1600672361\n",
    "#         },\n",
    "#         \"restrictions\": [\n",
    "#           {\n",
    "#             \"credential_definition_id\": \"WgWxqztrNooG92RXvxSTWv:3:CL:20:tag\",\n",
    "#             \"schema_version\": \"1.0\",\n",
    "#             \"issuer_did\": \"WgWxqztrNooG92RXvxSTWv\",\n",
    "#             \"schema_name\": \"transcript\",\n",
    "#             \"schema_issuer_did\": \"WgWxqztrNooG92RXvxSTWv\",\n",
    "#             \"cred_def_id\": \"WgWxqztrNooG92RXvxSTWv:3:CL:20:tag\",\n",
    "#             \"schema_id\": \"WgWxqztrNooG92RXvxSTWv:2:schema_name:1.0\"\n",
    "#           }\n",
    "#         ],\n",
    "#         \"name\": \"favouriteDrink\"\n",
    "#       },\n",
    "#       \"additionalProp3\": {\n",
    "#         \"non_revoked\": {\n",
    "#           \"from_epoch\": 1600672361,\n",
    "#           \"to_epoch\": 1600672361\n",
    "#         },\n",
    "#         \"restrictions\": [\n",
    "#           {\n",
    "#             \"credential_definition_id\": \"WgWxqztrNooG92RXvxSTWv:3:CL:20:tag\",\n",
    "#             \"schema_version\": \"1.0\",\n",
    "#             \"issuer_did\": \"WgWxqztrNooG92RXvxSTWv\",\n",
    "#             \"schema_name\": \"transcript\",\n",
    "#             \"schema_issuer_did\": \"WgWxqztrNooG92RXvxSTWv\",\n",
    "#             \"cred_def_id\": \"WgWxqztrNooG92RXvxSTWv:3:CL:20:tag\",\n",
    "#             \"schema_id\": \"WgWxqztrNooG92RXvxSTWv:2:schema_name:1.0\"\n",
    "#           }\n",
    "#         ],\n",
    "#         \"name\": \"favouriteDrink\"\n",
    "#       }\n",
    "#     },\n",
    "#     \"requested_predicates\": {\n",
    "#       \"additionalProp1\": {\n",
    "#         \"p_type\": \">=\",\n",
    "#         \"p_value\": 0,\n",
    "#         \"name\": \"index\",\n",
    "#         \"non_revoked\": {\n",
    "#           \"from_epoch\": 1600672361,\n",
    "#           \"to_epoch\": 1600672361\n",
    "#         },\n",
    "#         \"restrictions\": [\n",
    "#           {\n",
    "#             \"credential_definition_id\": \"WgWxqztrNooG92RXvxSTWv:3:CL:20:tag\",\n",
    "#             \"schema_version\": \"1.0\",\n",
    "#             \"issuer_did\": \"WgWxqztrNooG92RXvxSTWv\",\n",
    "#             \"schema_name\": \"transcript\",\n",
    "#             \"schema_issuer_did\": \"WgWxqztrNooG92RXvxSTWv\",\n",
    "#             \"cred_def_id\": \"WgWxqztrNooG92RXvxSTWv:3:CL:20:tag\",\n",
    "#             \"schema_id\": \"WgWxqztrNooG92RXvxSTWv:2:schema_name:1.0\"\n",
    "#           }\n",
    "#         ]\n",
    "#       },\n",
    "#       \"additionalProp2\": {\n",
    "#         \"p_type\": \">=\",\n",
    "#         \"p_value\": 0,\n",
    "#         \"name\": \"index\",\n",
    "#         \"non_revoked\": {\n",
    "#           \"from_epoch\": 1600672361,\n",
    "#           \"to_epoch\": 1600672361\n",
    "#         },\n",
    "#         \"restrictions\": [\n",
    "#           {\n",
    "#             \"credential_definition_id\": \"WgWxqztrNooG92RXvxSTWv:3:CL:20:tag\",\n",
    "#             \"schema_version\": \"1.0\",\n",
    "#             \"issuer_did\": \"WgWxqztrNooG92RXvxSTWv\",\n",
    "#             \"schema_name\": \"transcript\",\n",
    "#             \"schema_issuer_did\": \"WgWxqztrNooG92RXvxSTWv\",\n",
    "#             \"cred_def_id\": \"WgWxqztrNooG92RXvxSTWv:3:CL:20:tag\",\n",
    "#             \"schema_id\": \"WgWxqztrNooG92RXvxSTWv:2:schema_name:1.0\"\n",
    "#           }\n",
    "#         ]\n",
    "#       },\n",
    "#       \"additionalProp3\": {\n",
    "#         \"p_type\": \">=\",\n",
    "#         \"p_value\": 0,\n",
    "#         \"name\": \"index\",\n",
    "#         \"non_revoked\": {\n",
    "#           \"from_epoch\": 1600672361,\n",
    "#           \"to_epoch\": 1600672361\n",
    "#         },\n",
    "#         \"restrictions\": [\n",
    "#           {\n",
    "#             \"credential_definition_id\": \"WgWxqztrNooG92RXvxSTWv:3:CL:20:tag\",\n",
    "#             \"schema_version\": \"1.0\",\n",
    "#             \"issuer_did\": \"WgWxqztrNooG92RXvxSTWv\",\n",
    "#             \"schema_name\": \"transcript\",\n",
    "#             \"schema_issuer_did\": \"WgWxqztrNooG92RXvxSTWv\",\n",
    "#             \"cred_def_id\": \"WgWxqztrNooG92RXvxSTWv:3:CL:20:tag\",\n",
    "#             \"schema_id\": \"WgWxqztrNooG92RXvxSTWv:2:schema_name:1.0\"\n",
    "#           }\n",
    "#         ]\n",
    "#       }\n",
    "#     },\n",
    "#     \"nonce\": \"1234567890\"\n",
    "#   },\n",
    "#   \"connection_id\": connection[0],\n",
    "#   \"trace\": True,\n",
    "#   \"comment\": \"string\"\n",
    "# }\n",
    "# proof_json = json.dumps(proof_schema)\n",
    "\n",
    "# proof = requests.get('http://localhost:8150/present-proof/send-request', json=proof_json)\n"
   ]
  },
  {
   "cell_type": "code",
   "execution_count": 53,
   "metadata": {},
   "outputs": [],
   "source": [
    "send = requests.post('http://localhost:8151/schema-exchange/request-schema', json={\n",
    "  \"hash_id\": add['hash_id'],\n",
    "  \"connection_id\": connection[1]\n",
    "})"
   ]
  },
  {
   "cell_type": "code",
   "execution_count": 54,
   "metadata": {},
   "outputs": [],
   "source": [
    "send = requests.post('http://localhost:8151/schema-exchange/request-schema', json={\n",
    "  \"hash_id\": \"ddd\",\n",
    "  \"connection_id\": connection[1]\n",
    "})"
   ]
  },
  {
   "cell_type": "code",
   "execution_count": 55,
   "metadata": {
    "scrolled": true
   },
   "outputs": [
    {
     "name": "stdout",
     "output_type": "stream",
     "text": [
      "{\"hash_id\": \"ddd\", \"connection_id\": \"a361d994-aaea-4f5c-9bf4-9644a774de2b\", \"record_id\": \"1e61b917-946b-4a56-8810-5b48081f79e6\", \"exchange_id\": \"c5f71769-b806-49fe-8861-15f49ffad9e3\", \"state\": \"pending\"}\n"
     ]
    }
   ],
   "source": [
    "print(send.text)"
   ]
  },
  {
   "cell_type": "markdown",
   "metadata": {},
   "source": [
    "### GET Request By RECORD_ID"
   ]
  },
  {
   "cell_type": "markdown",
   "metadata": {},
   "source": [
    "### GET Request List and filter by state and author"
   ]
  },
  {
   "cell_type": "code",
   "execution_count": 56,
   "metadata": {
    "scrolled": true
   },
   "outputs": [
    {
     "name": "stdout",
     "output_type": "stream",
     "text": [
      "Agent1:\n",
      "[{'author': 'other',\n",
      "  'connection_id': '844f6e7f-c13e-4ef8-b018-754fc5205445',\n",
      "  'created_at': '2020-07-16 09:09:17.991960Z',\n",
      "  'exchange_id': 'c5f71769-b806-49fe-8861-15f49ffad9e3',\n",
      "  'payload': 'ddd',\n",
      "  'state': 'failed to find the record',\n",
      "  'updated_at': '2020-07-16 09:09:17.991960Z'},\n",
      " {'author': 'other',\n",
      "  'connection_id': '844f6e7f-c13e-4ef8-b018-754fc5205445',\n",
      "  'created_at': '2020-07-16 09:09:16.748526Z',\n",
      "  'exchange_id': 'f51e4a06-2214-4b9e-a28a-d4c336258f66',\n",
      "  'payload': '9f86d081884c7d659a2feaa0c55ad015a3bf4f1b2b0b822cd15d6c15b0f00a08',\n",
      "  'state': 'approved',\n",
      "  'updated_at': '2020-07-16 09:09:16.748526Z'}]\n",
      "\n",
      "Agent2:\n",
      "[{'author': 'self',\n",
      "  'connection_id': 'a361d994-aaea-4f5c-9bf4-9644a774de2b',\n",
      "  'created_at': '2020-07-16 09:09:17.950785Z',\n",
      "  'exchange_id': 'c5f71769-b806-49fe-8861-15f49ffad9e3',\n",
      "  'payload': 'ddd',\n",
      "  'state': 'failed to find the record',\n",
      "  'updated_at': '2020-07-16 09:09:18.029400Z'},\n",
      " {'author': 'self',\n",
      "  'connection_id': 'a361d994-aaea-4f5c-9bf4-9644a774de2b',\n",
      "  'created_at': '2020-07-16 09:09:16.720869Z',\n",
      "  'exchange_id': 'f51e4a06-2214-4b9e-a28a-d4c336258f66',\n",
      "  'payload': '9f86d081884c7d659a2feaa0c55ad015a3bf4f1b2b0b822cd15d6c15b0f00a08',\n",
      "  'state': 'approved',\n",
      "  'updated_at': '2020-07-16 09:09:16.780856Z'}]\n"
     ]
    }
   ],
   "source": [
    "request_list = requests.post('http://localhost:8150/schema-storage/debug/request/list', json={})\n",
    "request_list = json.loads(request_list.text)\n",
    "print(\"Agent1:\", )\n",
    "pp.pprint(request_list)\n",
    "request_list = requests.post('http://localhost:8151/schema-storage/debug/request/list', json={})\n",
    "request_list = json.loads(request_list.text)\n",
    "print(\"\\nAgent2:\")\n",
    "pp.pprint(request_list)"
   ]
  },
  {
   "cell_type": "markdown",
   "metadata": {},
   "source": [
    "### GET RECORD LIST"
   ]
  },
  {
   "cell_type": "code",
   "execution_count": 57,
   "metadata": {
    "scrolled": true
   },
   "outputs": [
    {
     "name": "stdout",
     "output_type": "stream",
     "text": [
      "Agent1: \n",
      "[{'author': 'self',\n",
      "  'created_at': '2020-07-16 09:09:15.407083Z',\n",
      "  'hash_id': '9f86d081884c7d659a2feaa0c55ad015a3bf4f1b2b0b822cd15d6c15b0f00a08',\n",
      "  'payload': 'test',\n",
      "  'updated_at': '2020-07-16 09:09:15.407083Z'}]\n",
      "Agent2: \n",
      "[{'author': 'a361d994-aaea-4f5c-9bf4-9644a774de2b',\n",
      "  'created_at': '2020-07-16 09:09:16.808608Z',\n",
      "  'hash_id': '9f86d081884c7d659a2feaa0c55ad015a3bf4f1b2b0b822cd15d6c15b0f00a08',\n",
      "  'payload': 'test',\n",
      "  'updated_at': '2020-07-16 09:09:16.808608Z'}]\n"
     ]
    }
   ],
   "source": [
    "getRequests = requests.post('http://localhost:8150/schema-storage/list')\n",
    "record_list = json.loads(getRequests.text)\n",
    "print(\"Agent1: \")\n",
    "pp.pprint(record_list)\n",
    "\n",
    "getRequests = requests.post('http://localhost:8151/schema-storage/list')\n",
    "record_list = json.loads(getRequests.text)\n",
    "print(\"Agent2: \")\n",
    "pp.pprint(record_list)"
   ]
  },
  {
   "cell_type": "code",
   "execution_count": null,
   "metadata": {},
   "outputs": [],
   "source": [
    "\n",
    "# message = util.buildMessage(\n",
    "#         'https://didcomm.org/issue-credential/1.0/propose-credential'\n",
    "#     )\n",
    "# testing = util.sendMessage(message, agents[0])\n",
    "# pp.pprint(testing)"
   ]
  },
  {
   "cell_type": "code",
   "execution_count": null,
   "metadata": {},
   "outputs": [],
   "source": [
    "# pp.pprint(util.sendSchema(agents[0], \"schesssdddvd\", \"1.0\", [\"memesssaaaaaaa\"]))"
   ]
  },
  {
   "cell_type": "code",
   "execution_count": null,
   "metadata": {},
   "outputs": [],
   "source": [
    "# result = util.schemaGetList(agents[0])\n",
    "# last_schema_id = result['results'][-1]['schema_id']\n",
    "# print(result)"
   ]
  },
  {
   "cell_type": "code",
   "execution_count": null,
   "metadata": {},
   "outputs": [],
   "source": [
    "# util.schemaGet(agents[0], last_schema_id)"
   ]
  }
 ],
 "metadata": {
  "kernelspec": {
   "display_name": "Python 3",
   "language": "python",
   "name": "python3"
  },
  "language_info": {
   "codemirror_mode": {
    "name": "ipython",
    "version": 3
   },
   "file_extension": ".py",
   "mimetype": "text/x-python",
   "name": "python",
   "nbconvert_exporter": "python",
   "pygments_lexer": "ipython3",
   "version": "3.7.5"
  }
 },
 "nbformat": 4,
 "nbformat_minor": 4
}
