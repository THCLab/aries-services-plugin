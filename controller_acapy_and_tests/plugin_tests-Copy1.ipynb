{
 "cells": [
  {
   "cell_type": "code",
   "execution_count": 1,
   "metadata": {},
   "outputs": [
    {
     "data": {
      "text/plain": [
       "<module 'jupyter_util' from '/home/sevni/Documents/thclab/aries/aries-acapy-plugin/controller_acapy/jupyter_util.py'>"
      ]
     },
     "execution_count": 1,
     "metadata": {},
     "output_type": "execute_result"
    }
   ],
   "source": [
    "import requests \n",
    "import json\n",
    "import pprint as pp # pretty print\n",
    "\n",
    "import aries_cloudagent.wallet.crypto as crypto\n",
    "import base64\n",
    "import base58\n",
    "import uuid\n",
    "import hashlib\n",
    "import jupyter_util as util\n",
    "from importlib import reload\n",
    "reload(util)"
   ]
  },
  {
   "cell_type": "code",
   "execution_count": 2,
   "metadata": {},
   "outputs": [],
   "source": [
    "def save_and_retrieve():\n",
    "    add = requests.post('http://localhost:8150/pds/save', json={\n",
    "      \"payload\": \"testing\"\n",
    "    })\n",
    "    print(add)\n",
    "    add = json.loads(add.text)\n",
    "    print(add)\n",
    "\n",
    "    get = requests.get('http://localhost:8150/pds/' + str(add['payload_id']))\n",
    "    print(get)\n",
    "    get = json.loads(get.text)\n",
    "    print(get)\n",
    "        \n",
    "        \n",
    "def set_pds_config(pds_type, settings = {}):\n",
    "    config = requests.post('http://localhost:8150/pds/settings', json={\n",
    "      \"settings\": {\n",
    "          pds_type: settings\n",
    "      }\n",
    "    })\n",
    "    print(config)\n",
    "    config = json.loads(config.text)\n",
    "    print(config)\n",
    "    \n",
    "# set_pds_config(\"own_your_data\", {\n",
    "#     \"client_id\": \"8SX1-RBazhic9ftG4HyG2XegrQ2kdLGu0hd-Ty3IZnE\", \n",
    "#     \"client_secret\": \"gEg9_tTh2V1ZK6piL9tZ38YO-1xqXLDXCccJS4uQUJg\"\n",
    "# })\n",
    "# save_and_retrieve()\n",
    "# set_pds_config(\"local\")\n",
    "# save_and_retrieve()\n",
    "# set_pds_config(\"data_vault\")\n",
    "# save_and_retrieve()\n",
    "\n"
   ]
  },
  {
   "cell_type": "markdown",
   "metadata": {},
   "source": [
    "## Enter Invite Url:"
   ]
  },
  {
   "cell_type": "code",
   "execution_count": 3,
   "metadata": {
    "scrolled": true
   },
   "outputs": [
    {
     "name": "stdout",
     "output_type": "stream",
     "text": [
      "http://agent1.localhost?c_i=eyJAdHlwZSI6ICJkaWQ6c292OkJ6Q2JzTlloTXJqSGlxWkRUVUFTSGc7c3BlYy9jb25uZWN0aW9ucy8xLjAvaW52aXRhdGlvbiIsICJAaWQiOiAiMmEyMjg5NmMtM2Y1Ny00ZDI1LWI2YTYtZGUyMmFhNDI4OWRhIiwgImxhYmVsIjogIk1haW4gKGFkbWluKSIsICJzZXJ2aWNlRW5kcG9pbnQiOiAiaHR0cDovL2FnZW50MS5sb2NhbGhvc3QiLCAicmVjaXBpZW50S2V5cyI6IFsiNnVXdlE2YlkzRE1pUWMxUEZoc1NHMXFGYUV4clZMS3dmVFFCQVh0MWtLVnEiXX0=\n"
     ]
    }
   ],
   "source": [
    "agent1 = {}\n",
    "plugin = {}\n",
    "endpoint = \"http://localhost:8150/connections/create-admin-invitation-url\"\n",
    "adminInvitationResponse = requests.post(endpoint)\n",
    "adminInvitationResponse = adminInvitationResponse.text\n",
    "agent1['url'] = json.loads(adminInvitationResponse)['invitation_url']\n",
    "print(agent1['url'])"
   ]
  },
  {
   "cell_type": "code",
   "execution_count": 4,
   "metadata": {
    "scrolled": true
   },
   "outputs": [
    {
     "name": "stdout",
     "output_type": "stream",
     "text": [
      "http://agent2.localhost?c_i=eyJAdHlwZSI6ICJkaWQ6c292OkJ6Q2JzTlloTXJqSGlxWkRUVUFTSGc7c3BlYy9jb25uZWN0aW9ucy8xLjAvaW52aXRhdGlvbiIsICJAaWQiOiAiZDBiZDgxZTktNjIzNy00MGJiLWI3NzEtMDRiNTEwM2YzNDlhIiwgInJlY2lwaWVudEtleXMiOiBbIkVpWm9FVFkyOUE2ZkhZUHNOMm9GcVBzZGt4NmdjaFY2am1USmZnaWhIRkRvIl0sICJzZXJ2aWNlRW5kcG9pbnQiOiAiaHR0cDovL2FnZW50Mi5sb2NhbGhvc3QiLCAibGFiZWwiOiAiQ2xpZW50IChhZG1pbikifQ==\n"
     ]
    }
   ],
   "source": [
    "agent2 = {}\n",
    "endpoint = \"http://localhost:8151/connections/create-admin-invitation-url\"\n",
    "adminInvitationResponse = requests.post(endpoint)\n",
    "adminInvitationResponse = adminInvitationResponse.text\n",
    "agent2['url'] = json.loads(adminInvitationResponse)['invitation_url']\n",
    "print(agent2['url'])"
   ]
  },
  {
   "cell_type": "code",
   "execution_count": 5,
   "metadata": {
    "scrolled": true
   },
   "outputs": [
    {
     "name": "stdout",
     "output_type": "stream",
     "text": [
      "Decoded invitation:\n",
      "\n",
      "{'@id': 'd0bd81e9-6237-40bb-b771-04b5103f349a',\n",
      " '@type': 'did:sov:BzCbsNYhMrjHiqZDTUASHg;spec/connections/1.0/invitation',\n",
      " 'label': 'Client (admin)',\n",
      " 'recipientKeys': ['EiZoETY29A6fHYPsN2oFqPsdkx6gchV6jmTJfgihHFDo'],\n",
      " 'serviceEndpoint': 'http://agent2.localhost'}\n"
     ]
    }
   ],
   "source": [
    "agent1 = util.processInviteUrl(agent1['url'])\n",
    "agent2 = util.processInviteUrl(agent2['url'])\n",
    "print(\"Decoded invitation:\\n\")\n",
    "pp.pprint(agent2['invite'])"
   ]
  },
  {
   "cell_type": "code",
   "execution_count": 6,
   "metadata": {
    "scrolled": true
   },
   "outputs": [
    {
     "name": "stdout",
     "output_type": "stream",
     "text": [
      "Private key: \n",
      " 46Gb4Nhiq5ATCuuENKU1e4rjKsxHc9ZrcGpMwLVg5cex4rvHG3dQ5VRvXGsounJkPRykMyJwRHNHxzj4iiahkv3T\n",
      "\n",
      "Public key: \n",
      " Fnt8RVRHxn6XLC2gMqLCPxK1G4GGeHqVyE2QAhhmBNyf\n"
     ]
    }
   ],
   "source": [
    "### Generating a did key using aries crypto module\n",
    "# Create a key pair with random seed \n",
    "# Order: 0 - public key, 1 - secret / pritvate key\n",
    "plugin['keypair'] = crypto.create_keypair()\n",
    "# it seems to me that did is an encoded sub string of public key\n",
    "# or maybe just some arbitrary random number\n",
    "did = plugin['keypair'][0][:16]\n",
    "# final version of our did\n",
    "plugin['did'] = base58.b58encode(did).decode(\"ascii\")\n",
    "# encoding keys to base58\n",
    "plugin['public_key_b58'] = \\\n",
    "    base58.b58encode(plugin['keypair'][0]).decode(\"ascii\")\n",
    "plugin['private_key_b58'] = \\\n",
    "    base58.b58encode(plugin['keypair'][1]).decode(\"ascii\")\n",
    "\n",
    "print(\"Private key: \\n\", plugin['private_key_b58'])\n",
    "print(\"\\nPublic key: \\n\", plugin['public_key_b58'])"
   ]
  },
  {
   "cell_type": "markdown",
   "metadata": {},
   "source": [
    "**Sending a connection request to acapy**"
   ]
  },
  {
   "cell_type": "code",
   "execution_count": 7,
   "metadata": {
    "scrolled": false
   },
   "outputs": [],
   "source": [
    "agent1['connection'] = util.connectWithAcapy(agent1, plugin)\n",
    "agent2['connection'] = util.connectWithAcapy(agent2, plugin)\n",
    "# print(\"Decoded acapy response: \\n\")\n",
    "# pp.pprint(agent1['conn'])"
   ]
  },
  {
   "cell_type": "markdown",
   "metadata": {},
   "source": [
    "**Unpacking connection data embedded in the response**"
   ]
  },
  {
   "cell_type": "code",
   "execution_count": 8,
   "metadata": {
    "scrolled": true
   },
   "outputs": [],
   "source": [
    "agent1['connection_details'] = util.decodeConnectionDetails(agent1['connection'])\n",
    "agent2['connection_details'] = util.decodeConnectionDetails(agent2['connection'])"
   ]
  },
  {
   "cell_type": "markdown",
   "metadata": {},
   "source": [
    "**Adding the connection to connection list**"
   ]
  },
  {
   "cell_type": "code",
   "execution_count": 9,
   "metadata": {
    "scrolled": true
   },
   "outputs": [],
   "source": [
    "agents = [\n",
    "    {\n",
    "        \"label\": agent1['invite']['label'],\n",
    "        \"DIDDoc\": agent1['connection_details']['DIDDoc'],\n",
    "        \"myKey\": plugin['keypair'][1]\n",
    "    },\n",
    "    {\n",
    "        \"label\": agent2['invite']['label'],\n",
    "        \"DIDDoc\": agent2['connection_details']['DIDDoc'],\n",
    "        \"myKey\": plugin['keypair'][1]\n",
    "    },\n",
    "]\n",
    "\n",
    "# pp.pprint(connections)"
   ]
  },
  {
   "cell_type": "code",
   "execution_count": 10,
   "metadata": {
    "scrolled": true
   },
   "outputs": [
    {
     "name": "stdout",
     "output_type": "stream",
     "text": [
      "158bfeee-1b2f-4ad3-a3dd-05b5ff665ec1 \n",
      " dee60d47-526d-479a-bb1c-bf5bc78417d0\n"
     ]
    }
   ],
   "source": [
    "connection = util.connectAgents(agents[0], agents[1])\n",
    "connection[1] = connection[1]['raw_repr']['connection_id']\n",
    "connection[0] = connection[0]['connection_id']\n",
    "print(connection[0], \"\\n\", connection[1])"
   ]
  },
  {
   "cell_type": "code",
   "execution_count": 11,
   "metadata": {
    "scrolled": true
   },
   "outputs": [],
   "source": [
    "# add = requests.post('http://localhost:8150/test-vs', json={\n",
    "#   \"connection_id\": connection[0]\n",
    "# })\n",
    "# print(add.text)\n",
    "# add = json.loads(add.text)"
   ]
  },
  {
   "cell_type": "markdown",
   "metadata": {},
   "source": [
    "### FEATURE DISCOVERY"
   ]
  },
  {
   "cell_type": "code",
   "execution_count": 12,
   "metadata": {
    "scrolled": true
   },
   "outputs": [],
   "source": [
    "# pp.pprint(util.getFeatureDiscovery(agents[0]))"
   ]
  },
  {
   "cell_type": "code",
   "execution_count": 13,
   "metadata": {},
   "outputs": [],
   "source": [
    "# consentSchema: function() {\n",
    "#       return {\n",
    "#         namespace: \"consent\",\n",
    "#         DRI: \"fArVHJTQSKHu2CeXJocQmH3HHxzZXsuQD7kzyHJhQ49s\"\n",
    "#       }\n",
    "#     },\n",
    "\n",
    "# consentAnswers: function() {\n",
    "#       return [\n",
    "#         \"zQmNeoZGfo1chKACu9RLrVoG4afjLrGnAz1rhsfvGZwg9Z3\",\n",
    "#         \"zQmPsU57nqWY8jzndU9AE2RK4EXvjMLGmytVpUNxfRpm18G\"\n",
    "#       ]"
   ]
  },
  {
   "cell_type": "code",
   "execution_count": 14,
   "metadata": {},
   "outputs": [
    {
     "name": "stdout",
     "output_type": "stream",
     "text": [
      "{\"consent_schema\": {\"data_dri\": \"zQmPsU57nqWY8jzndU9AE2RK4EXvjMLGmytVpUNxfRpm18G\", \"oca_schema_namespace\": \"consent\", \"oca_schema_dri\": \"fArVHJTQSKHu2CeXJocQmH3HHxzZXsuQD7kzyHJhQ49s\"}, \"service_schema\": {\"oca_schema_namespace\": \"string\", \"oca_schema_dri\": \"string\"}, \"updated_at\": \"2020-10-08 09:59:13.470829Z\", \"created_at\": \"2020-10-08 09:59:13.470829Z\", \"label\": \"consent_test\"}\n"
     ]
    }
   ],
   "source": [
    "add = requests.post('http://localhost:8151/verifiable-services/add', json={\n",
    "  \"label\": \"consent_test\",\n",
    "  \"service_schema\": {\n",
    "    \"oca_schema_namespace\": \"string\",\n",
    "    \"oca_schema_dri\": \"string\"\n",
    "  },\n",
    "  \"consent_schema\": {\n",
    "    \"oca_schema_namespace\": \"consent\",\n",
    "    \"oca_schema_dri\": \"fArVHJTQSKHu2CeXJocQmH3HHxzZXsuQD7kzyHJhQ49s\",\n",
    "    \"data_dri\": \"zQmPsU57nqWY8jzndU9AE2RK4EXvjMLGmytVpUNxfRpm18G\"\n",
    "  }\n",
    "})\n",
    "print(add.text)\n",
    "add = json.loads(add.text)"
   ]
  },
  {
   "cell_type": "code",
   "execution_count": 15,
   "metadata": {
    "scrolled": false
   },
   "outputs": [
    {
     "data": {
      "text/plain": [
       "{'@type': 'did:sov:BzCbsNYhMrjHiqZDTUASHg;spec/admin-dids/0.1/did',\n",
       " '@id': '1ed8d823-241b-49ec-99b1-1c443140da77',\n",
       " '~thread': {'thid': 'c44dffa9-32a1-42d1-a584-934244ca02e1'},\n",
       " 'result': {'metadata': {'public': True, 'posted': True},\n",
       "  'verkey': '9NqJzeZVAn9dEk187EonKGVEMmscjMT3rTjqDTHKcc2m',\n",
       "  'did': 'GNP6e3JhuSvTyizByepDVv'}}"
      ]
     },
     "execution_count": 15,
     "metadata": {},
     "output_type": "execute_result"
    }
   ],
   "source": [
    "\n",
    "\n",
    "newDid1 = util.createDid(agents[1])\n",
    "newDid0 = util.createDid(agents[0])\n",
    "\n",
    "try:\n",
    "    util.registerDidOnLedger(agents[1], newDid1['result']['did'], newDid1['result']['verkey'])\n",
    "except:\n",
    "    pass\n",
    "try:\n",
    "    util.registerDidOnLedger(agents[0], newDid0['result']['did'], newDid0['result']['verkey'])\n",
    "except:\n",
    "    pass\n",
    "\n",
    "util.setPublicDid(agents[1], newDid1['result']['did'])\n",
    "util.setPublicDid(agents[0], newDid0['result']['did'])"
   ]
  },
  {
   "cell_type": "code",
   "execution_count": 16,
   "metadata": {
    "scrolled": false
   },
   "outputs": [
    {
     "name": "stdout",
     "output_type": "stream",
     "text": [
      "<Response [200]>\n",
      "{'connection_id': '158bfeee-1b2f-4ad3-a3dd-05b5ff665ec1',\n",
      " 'created_at': '2020-10-08 09:59:18.823671Z',\n",
      " 'services': [{'consent_schema': {'data_dri': 'zQmPsU57nqWY8jzndU9AE2RK4EXvjMLGmytVpUNxfRpm18G',\n",
      "                                  'oca_schema_dri': 'fArVHJTQSKHu2CeXJocQmH3HHxzZXsuQD7kzyHJhQ49s',\n",
      "                                  'oca_schema_namespace': 'consent'},\n",
      "               'label': 'consent_test',\n",
      "               'service_id': '305a46cb-5e0f-403f-8594-2e4d6e6e6a8f',\n",
      "               'service_schema': {'oca_schema_dri': 'string',\n",
      "                                  'oca_schema_namespace': 'string'}}],\n",
      " 'updated_at': '2020-10-08 09:59:18.823671Z'}\n"
     ]
    }
   ],
   "source": [
    "service_list = requests.get('http://localhost:8150/verifiable-services/DEBUGrequest/' + connection[0])\n",
    "print(service_list)\n",
    "service_list = json.loads(service_list.text)\n",
    "pp.pprint(service_list)"
   ]
  },
  {
   "cell_type": "code",
   "execution_count": 17,
   "metadata": {
    "scrolled": true
   },
   "outputs": [
    {
     "name": "stdout",
     "output_type": "stream",
     "text": [
      "{'@type': 'did:sov:BzCbsNYhMrjHiqZDTUASHg;spec/verifiable-services/1.0/application', '@id': 'cefaec3e-f49d-4026-950b-5018d6697212', 'service_consent_match_id': '313c0ef5-a5db-4e00-8f7d-1cf15dec7a8f', 'credential_definition_id': 'GNP6e3JhuSvTyizByepDVv:3:CL:1323:consent_schema', 'service_id': '305a46cb-5e0f-403f-8594-2e4d6e6e6a8f', 'exchange_id': '67ee2fd8-a1c2-4607-a8aa-de8d08ddcabc', 'data_dri': 'deec8b07e82b31afde0c782b7ba06f357091a311f5aa9bcf1e1edff920e0f44f'}\n"
     ]
    }
   ],
   "source": [
    "apply = requests.post('http://localhost:8150/verifiable-services/apply', json={\n",
    "  \"connection_id\": connection[0],\n",
    "  \"service_id\": service_list['services'][0]['service_id'],\n",
    "  \"payload\": \"abc\",\n",
    "  \"service\": service_list['services'][0],\n",
    "})\n",
    "apply = json.loads(apply.text)\n",
    "print(apply)"
   ]
  },
  {
   "cell_type": "code",
   "execution_count": 18,
   "metadata": {
    "scrolled": true
   },
   "outputs": [
    {
     "name": "stdout",
     "output_type": "stream",
     "text": [
      "<Response [200]>\n",
      "[{'author': 'other',\n",
      "  'connection_id': 'dee60d47-526d-479a-bb1c-bf5bc78417d0',\n",
      "  'consent_schema': '{\"oca_schema_namespace\": \"consent\", \"oca_schema_dri\": '\n",
      "                    '\"fArVHJTQSKHu2CeXJocQmH3HHxzZXsuQD7kzyHJhQ49s\", '\n",
      "                    '\"data_dri\": '\n",
      "                    '\"zQmPsU57nqWY8jzndU9AE2RK4EXvjMLGmytVpUNxfRpm18G\"}',\n",
      "  'created_at': '2020-10-08 09:59:27.963599Z',\n",
      "  'exchange_id': '67ee2fd8-a1c2-4607-a8aa-de8d08ddcabc',\n",
      "  'issue_id': 'e0eb49c03db5811295275ccb20f673da5d5f616df5061253bde92833a64f8f28',\n",
      "  'label': 'consent_test',\n",
      "  'payload_dri': None,\n",
      "  'service_consent_match_id': '313c0ef5-a5db-4e00-8f7d-1cf15dec7a8f',\n",
      "  'service_id': '305a46cb-5e0f-403f-8594-2e4d6e6e6a8f',\n",
      "  'service_schema': '{\"oca_schema_namespace\": \"string\", \"oca_schema_dri\": '\n",
      "                    '\"string\"}',\n",
      "  'state': 'pending',\n",
      "  'updated_at': '2020-10-08 09:59:27.963599Z'}]\n",
      "<Response [200]>\n",
      "{'credential_exchange_record': {'auto_issue': True,\n",
      "                                'auto_offer': False,\n",
      "                                'auto_remove': False,\n",
      "                                'connection_id': 'dee60d47-526d-479a-bb1c-bf5bc78417d0',\n",
      "                                'created_at': '2020-10-08 09:59:40.463639Z',\n",
      "                                'credential_definition_id': 'H9GjBiipV6Wexs8dB5qPzc:3:CL:1325:Services',\n",
      "                                'credential_exchange_id': '30d967d2-1bc2-407d-b7ab-99eba284b8f6',\n",
      "                                'credential_offer': {'cred_def_id': 'H9GjBiipV6Wexs8dB5qPzc:3:CL:1325:Services',\n",
      "                                                     'key_correctness_proof': {'c': '51019235217623565474414245950952041233601886593313299428297824409735999772281',\n",
      "                                                                               'xr_cap': [['master_secret',\n",
      "                                                                                           '1225966397496572825055771181271942130308235706727269208765745668189742748354194048758169831178534597555820042808769235772303710954990194190449764932384028744445353908588477533435500704127235121997668296452404289934596382009489350203185449977877217986605557489020824551698106912306543508056439039188798607324774886942199303364219267862696322074910782392550859795362808980096293538927854470917208790510827850356983205209221845074994452825544805576132704243946556390248073001025521302299792813124580686313519529294685186830256000698839907682741129568955790695170422671635265772925227874782346909539418197998387188494145500617196604415370459577420618125825986291029617136123894619550610565834443734'],\n",
      "                                                                                          ['data_dri',\n",
      "                                                                                           '792383310698240166411961907387118821969442970274307897336787416847847656390054134944352701629652420764723831157593464721635816818756220588155303884371697742546922314107710152797566622947950208609899981086428933767767659872028610107265638518483040673906721631718532499007258534158186301225325592206581618148169813326275254897823058182261532635182845800526100611475103366990927871493176838289495681803401829752469249097145569236448291688878089111441101510783443588846189023858438951205183334188459932166200884757474765072087874231032846857322918865056811343898933252420219020389483325424778102455703729504949455600630862385231369468484784657027286352227368461250130903777261165178853528262531750'],\n",
      "                                                                                          ['service_consent_match_id',\n",
      "                                                                                           '803853039098415870010095642298887752979893833043923995913337203719481732640750854785700516429627580612324387254625066395033777069286154327927929844673470393469118214936721461752166060217311003978400044878223872878009649899192452008040644131562939292160081474256613022581693910984395752714908413537647852600543847900926556118353328283276353243428851407271393569466382870315478202762934544806536912449160793486051739584229132203215285633597171983922200738718335160425673409893098838431441345665767570723050396640168642042053530023811386833918210722955890348779242362314600745124847802251337371147917641531935168057829786864318742056338390280823979810048922262476356858644629993210673274690450669'],\n",
      "                                                                                          ['oca_schema_namespace',\n",
      "                                                                                           '771613345492048627713728158425414425943559071326274525224646542926279064075617218432196563221341375309439224503684213204767181859954290927109752641356450998658350671616710333285859849053229172525724332473592643465415949866878703761104833240549086936923227282875372429974715416835093658695369599318713296779601826692009421288865925900430731330236024764781807572073565962944306417332019809449159796060994851127323209273820547121539959786960912682641986275664411919928726283751382262727398007631676259850650147239339222237724009412099068259068877815212329254235004778447772121966223032750249758074875791303518367801102148015462693631603699946696796909082858829764929020188453249828029050451994447'],\n",
      "                                                                                          ['oca_schema_dri',\n",
      "                                                                                           '188729183345451269393570609712561346730161964026990118300971030559545161543924909254244178468039015228329808011889083965453367789675846529762319097659937211278877999952353958136688357789128553920598908989454328339514061638651745094566112081691234204833522293567516548812345964341142720196204724870807176555519206692027240654616455955419778454262322210973948910944774046345065855733678485115872434777788595753696052208494301177702049968192804468519077252292123817288567665634471895646382989147718160700324967753828954777219654006804858353810664905642914749305277878634585100164173946121947488313001470404320276332560228680394918424607541391734784188707645905552040973365340434598042916896549135']],\n",
      "                                                                               'xz_cap': '787353467365735311134317486084357991351408721718823962623803597172871200011373398697409704651123988243121279700689478825327760259933480586511916693657786764955639734969632617432956749373476308028166405191343964635948885759220623021314405146929362653725902065455022346821489461494036026956594712868805150918749043773562799740120195966270152672286373697787085938480747520873687685434144181361731132855619328446252303961434507711253802044808558059055108849847480247951294418360800016590470911144367651666301944764452555250967784471497328977081449344317286569776472560049628589553415549385262163664867976318838221358617060417122386482557382802829588313112860273540079328940939520264838849069784601'},\n",
      "                                                     'nonce': '313595428158444758355596',\n",
      "                                                     'schema_id': 'H9GjBiipV6Wexs8dB5qPzc:2:consent_test:1.0'},\n",
      "                                'credential_offer_dict': {'@id': '586cad34-ed51-43be-8833-eb11fb74f8dc',\n",
      "                                                          '@type': 'did:sov:BzCbsNYhMrjHiqZDTUASHg;spec/issue-credential/1.0/offer-credential',\n",
      "                                                          'credential_preview': {'@type': 'did:sov:BzCbsNYhMrjHiqZDTUASHg;spec/issue-credential/1.0/credential-preview',\n",
      "                                                                                 'attributes': [{'mime-type': 'application/json',\n",
      "                                                                                                 'name': 'oca_schema_dri',\n",
      "                                                                                                 'value': 'string'},\n",
      "                                                                                                {'mime-type': 'application/json',\n",
      "                                                                                                 'name': 'data_dri',\n",
      "                                                                                                 'value': 'deec8b07e82b31afde0c782b7ba06f357091a311f5aa9bcf1e1edff920e0f44f'},\n",
      "                                                                                                {'mime-type': 'application/json',\n",
      "                                                                                                 'name': 'oca_schema_namespace',\n",
      "                                                                                                 'value': 'string'},\n",
      "                                                                                                {'mime-type': 'application/json',\n",
      "                                                                                                 'name': 'service_consent_match_id',\n",
      "                                                                                                 'value': '313c0ef5-a5db-4e00-8f7d-1cf15dec7a8f'}]},\n",
      "                                                          'offers~attach': [{'@id': 'libindy-cred-offer-0',\n",
      "                                                                             'data': {'base64': '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'},\n",
      "                                                                             'mime-type': 'application/json'}],\n",
      "                                                          '~thread': {}},\n",
      "                                'credential_proposal_dict': {'@id': '47938d3b-fef9-40e4-8e6d-7e7ba51bfd77',\n",
      "                                                             '@type': 'did:sov:BzCbsNYhMrjHiqZDTUASHg;spec/issue-credential/1.0/propose-credential',\n",
      "                                                             'cred_def_id': 'H9GjBiipV6Wexs8dB5qPzc:3:CL:1325:Services',\n",
      "                                                             'credential_proposal': {'@type': 'did:sov:BzCbsNYhMrjHiqZDTUASHg;spec/issue-credential/1.0/credential-preview',\n",
      "                                                                                     'attributes': [{'mime-type': 'application/json',\n",
      "                                                                                                     'name': 'oca_schema_dri',\n",
      "                                                                                                     'value': 'string'},\n",
      "                                                                                                    {'mime-type': 'application/json',\n",
      "                                                                                                     'name': 'data_dri',\n",
      "                                                                                                     'value': 'deec8b07e82b31afde0c782b7ba06f357091a311f5aa9bcf1e1edff920e0f44f'},\n",
      "                                                                                                    {'mime-type': 'application/json',\n",
      "                                                                                                     'name': 'oca_schema_namespace',\n",
      "                                                                                                     'value': 'string'},\n",
      "                                                                                                    {'mime-type': 'application/json',\n",
      "                                                                                                     'name': 'service_consent_match_id',\n",
      "                                                                                                     'value': '313c0ef5-a5db-4e00-8f7d-1cf15dec7a8f'}]}},\n",
      "                                'initiator': 'self',\n",
      "                                'schema_id': 'H9GjBiipV6Wexs8dB5qPzc:2:consent_test:1.0',\n",
      "                                'state': 'offer_sent',\n",
      "                                'thread_id': '586cad34-ed51-43be-8833-eb11fb74f8dc',\n",
      "                                'updated_at': '2020-10-08 09:59:40.463639Z'},\n",
      " 'issue': {'author': 'other',\n",
      "           'connection_id': 'dee60d47-526d-479a-bb1c-bf5bc78417d0',\n",
      "           'created_at': '2020-10-08 09:59:27.963599Z',\n",
      "           'exchange_id': '67ee2fd8-a1c2-4607-a8aa-de8d08ddcabc',\n",
      "           'label': 'consent_test',\n",
      "           'service_consent_match_id': '313c0ef5-a5db-4e00-8f7d-1cf15dec7a8f',\n",
      "           'service_id': '305a46cb-5e0f-403f-8594-2e4d6e6e6a8f',\n",
      "           'state': 'accepted',\n",
      "           'updated_at': '2020-10-08 09:59:40.471726Z'}}\n"
     ]
    }
   ],
   "source": [
    "issue_self = requests.post('http://localhost:8151/verifiable-services/get-issue-self', json={\n",
    "    \"exchange_id\": apply['exchange_id'],\n",
    "})\n",
    "print(issue_self)\n",
    "issue_self = json.loads(issue_self.text)\n",
    "pp.pprint(issue_self)\n",
    "\n",
    "issue_self = requests.post('http://localhost:8151/verifiable-services/process-application', json={\n",
    "    \"issue_id\": issue_self[0]['issue_id'],\n",
    "    \"decision\": \"accept\",\n",
    "})\n",
    "print(issue_self)\n",
    "issue_self = json.loads(issue_self.text)\n",
    "pp.pprint(issue_self)"
   ]
  },
  {
   "cell_type": "code",
   "execution_count": 23,
   "metadata": {
    "scrolled": false
   },
   "outputs": [
    {
     "name": "stdout",
     "output_type": "stream",
     "text": [
      "{'results': [{'context': ['https://www.w3.org/2018/credentials/v1',\n",
      "                          'https://www.w3.org/2018/credentials/examples/v1'],\n",
      "              'created_at': '2020-10-06 10:30:20.207798Z',\n",
      "              'credentialSubject': {'data_dri': 'zQmPsU57nqWY8jzndU9AE2RK4EXvjMLGmytVpUNxfRpm18G',\n",
      "                                    'oca_schema_dri': 'fArVHJTQSKHu2CeXJocQmH3HHxzZXsuQD7kzyHJhQ49s',\n",
      "                                    'oca_schema_namespace': 'consent',\n",
      "                                    'service_consent_match_id': 'd73fe490-6117-4008-a0d5-fecf018a058a'},\n",
      "              'id': 'Xi4nWQLWcexqrrMxsoQT6Y',\n",
      "              'issuer': 'https://example.edu/issuers/565049',\n",
      "              'proof': {'jws': 'FEDOXLIh2lao+qqFJi91JfPC0F+Yz7xZmb4enBORqY1b0jYCEFX1CYLQLtq6Bl8odZGREtL0tHiKEKqyJcY6BA'},\n",
      "              'type': ['VerifiableCredential', 'ConsentCredential'],\n",
      "              'updated_at': '2020-10-06 10:30:20.207798Z'}]}\n"
     ]
    }
   ],
   "source": [
    "credentials = requests.get('http://localhost:8151/credentials')\n",
    "credentials = json.loads(credentials.text) \n",
    "pp.pprint(credentials)"
   ]
  },
  {
   "cell_type": "code",
   "execution_count": 24,
   "metadata": {
    "scrolled": true
   },
   "outputs": [
    {
     "name": "stdout",
     "output_type": "stream",
     "text": [
      "500 Internal Server Error\n",
      "\n",
      "Server got itself in trouble\n"
     ]
    }
   ],
   "source": [
    "proof_schema = {\n",
    "  \"proof_request\": {\n",
    "    \"version\": \"1.0\",\n",
    "    \"name\": \"Proof request\",\n",
    "    \"requested_attributes\": {\n",
    "      \"data_dri\": {\n",
    "        \"non_revoked\": {\n",
    "          \"from_epoch\": 1500000000,\n",
    "          \"to_epoch\": 1700758817\n",
    "        },\n",
    "        \"restrictions\": [\n",
    "          {\n",
    "            \"cred_def_id\": apply['credential_definition_id'],\n",
    "          }\n",
    "        ],\n",
    "        \"name\": \"data_dri\"\n",
    "      },\n",
    "    },\n",
    "    \"requested_predicates\": {\n",
    "    }\n",
    "  },\n",
    "  \"connection_id\": connection[1],\n",
    "#   \"trace\": True,\n",
    "  \"comment\": \"string\",\n",
    "  \"nonce\": \"1234567890\"\n",
    "}\n",
    "proof_json = json.dumps(proof_schema)\n",
    "\n",
    "proof = requests.post('http://localhost:8151/present-proof/send-request', json=proof_schema)\n",
    "print(proof.text)"
   ]
  },
  {
   "cell_type": "code",
   "execution_count": 359,
   "metadata": {
    "scrolled": false
   },
   "outputs": [
    {
     "name": "stdout",
     "output_type": "stream",
     "text": [
      "{'connection_id': '994ebd0f-14c2-428c-be53-e730bc3ca7a7',\n",
      " 'created_at': '2020-09-22 11:58:22.954779Z',\n",
      " 'initiator': 'external',\n",
      " 'presentation_exchange_id': '964c067c-46fb-4a4f-b30d-253029bf6d53',\n",
      " 'presentation_request': {'name': 'Proof request',\n",
      "                          'nonce': '236523038637111089936187',\n",
      "                          'requested_attributes': {'data_dri': {'name': 'data_dri',\n",
      "                                                                'non_revoked': {'from_epoch': 1500000000,\n",
      "                                                                                'to_epoch': 1700758817},\n",
      "                                                                'restrictions': [{'cred_def_id': 'WWZtMuY1V9hvFF1ezey2EM:3:CL:1175:Services'}]}},\n",
      "                          'requested_predicates': {},\n",
      "                          'version': '1.0'},\n",
      " 'role': 'prover',\n",
      " 'state': 'request_received',\n",
      " 'thread_id': 'aab467d6-30db-442a-a23e-354f77100467',\n",
      " 'trace': False,\n",
      " 'updated_at': '2020-09-22 11:58:22.954779Z'}\n"
     ]
    }
   ],
   "source": [
    "proof = requests.get('http://localhost:8150/present-proof/records')\n",
    "proof_requests = json.loads(proof.text)['results']\n",
    "proof_request = proof_requests[-4]\n",
    "pp.pprint(proof_request)"
   ]
  },
  {
   "cell_type": "code",
   "execution_count": 360,
   "metadata": {},
   "outputs": [
    {
     "name": "stdout",
     "output_type": "stream",
     "text": [
      "{'requested_attributes': {'data_dri': {'cred_id': '657ec1be-2d72-41ba-a1c2-725082d1c759', 'revealed': True}}, 'requested_predicates': {}, 'self_attested_attributes': {}}\n",
      "{\"initiator\": \"external\", \"presentation_exchange_id\": \"964c067c-46fb-4a4f-b30d-253029bf6d53\", \"created_at\": \"2020-09-22 11:58:22.954779Z\", \"trace\": false, \"state\": \"presentation_sent\", \"connection_id\": \"994ebd0f-14c2-428c-be53-e730bc3ca7a7\", \"presentation_request\": {\"version\": \"1.0\", \"name\": \"Proof request\", \"requested_attributes\": {\"data_dri\": {\"non_revoked\": {\"from_epoch\": 1500000000, \"to_epoch\": 1700758817}, \"restrictions\": [{\"cred_def_id\": \"WWZtMuY1V9hvFF1ezey2EM:3:CL:1175:Services\"}], \"name\": \"data_dri\"}}, \"requested_predicates\": {}, \"nonce\": \"236523038637111089936187\"}, \"thread_id\": \"aab467d6-30db-442a-a23e-354f77100467\", \"updated_at\": \"2020-09-22 11:58:42.143421Z\", \"presentation\": {\"proof\": {\"proofs\": [{\"primary_proof\": {\"eq_proof\": {\"revealed_attrs\": {\"data_dri\": \"46796680751272472783988362602137825638383598079504819093754394509164353886973\"}, \"a_prime\": \"42060925111681669636213334465461164575836194937273514079107094119770484811000923091931931784785962619845420855610272334622125682737405195884213715565867043509925472416542230863397669958480326702009362188549625307238027141923316901463241665948886510725396751211682976967537427315898409725423004977165973917577012397530091085459428313234742407572778673167976233810565597772593501428323674039588815331363333011131947563740565737374539566838030750665908985019265316116568987453545729637513283468515631444897559731280710185010390213929739834049875974694578153331367913238465099147764748757565809536821203716456575388378246\", \"e\": \"149744341664205744796154145307544248538889876675252530822112571443987546230915749702200658558420585713265123016013950977835969801053953057\", \"v\": \"611500275973716077638342134196143749269401777789295453477448952386694564754355219816896070280138046380597845313572924400039537614356550185345175519676886228534421522375059312418479172732704034125825285263726391463099804925326792955688994599264072888868147154086462088856576722420610251175390240393484212824859248095563277662182316048818404817752837750682311933776232565112156547542996673647885005252976628352266826262528613196337151779396744520955488617272922513173590890311138471331069250873591569080334336608211859065467889654065083576388358134177057657204175650203573670980280474111209661536613018013783943729771456848694997770331422735617853248555251590772247311074442108257482287847716201687135816676096040076847229708137930028637846719395420635293955991640151071282034453565406274539490046382548656941404839366363410458847362772078389209200362489367266760385226192321439164226416115778280460381338638837626371832277\", \"m\": {\"master_secret\": \"2386760805094402316301225455828598737852974810826183656609281403581400406381385357708002631450192597334737210900913783774065131278351010748381917449267988342221531930358518539593\", \"oca_schema_dri\": \"10467365126062225482220034266152025282119565305540774185894769593869521567039440403762918471710644463790938437383541425719509092454510052384855934169534701186169031533936996914208\", \"oca_schema_namespace\": \"5641039992783029118954033759931093315849431783850509706247083558761588336191455463479046583104389411550948521774966114533333848120198885113197917260032611884419343556216679868168\"}, \"m2\": \"9423589221175845988822465438365229099266331562855899050815504765507197913400318984512239410921352506129337243879571510767874922106901635484072542962230815225264781509213281129829\"}, \"ge_proofs\": []}, \"non_revoc_proof\": null}], \"aggregated_proof\": {\"c_hash\": \"13897483270767136334365162946375255520601393712161530796352281947775339896398\", \"c_list\": [[1, 77, 47, 204, 5, 97, 6, 60, 158, 55, 51, 65, 76, 154, 39, 86, 149, 244, 143, 41, 116, 94, 53, 141, 49, 38, 73, 51, 239, 187, 17, 43, 237, 113, 206, 6, 46, 213, 154, 195, 234, 33, 54, 144, 95, 132, 156, 147, 48, 125, 174, 17, 146, 107, 85, 227, 145, 206, 229, 246, 67, 191, 167, 65, 111, 24, 119, 26, 172, 132, 117, 244, 163, 236, 227, 155, 96, 23, 1, 213, 56, 25, 73, 110, 24, 150, 109, 194, 9, 117, 156, 97, 172, 96, 40, 127, 152, 155, 200, 129, 154, 125, 33, 159, 70, 11, 146, 191, 25, 96, 17, 197, 113, 193, 182, 252, 144, 235, 14, 238, 129, 214, 130, 131, 119, 162, 182, 242, 44, 158, 228, 57, 119, 93, 144, 200, 70, 234, 176, 146, 220, 47, 242, 70, 27, 19, 174, 161, 31, 85, 119, 241, 155, 46, 214, 170, 179, 127, 29, 3, 90, 188, 65, 169, 104, 181, 167, 129, 2, 227, 203, 148, 69, 145, 180, 255, 73, 135, 133, 76, 195, 230, 209, 158, 174, 249, 219, 148, 79, 88, 160, 250, 242, 28, 237, 234, 142, 75, 181, 105, 176, 70, 160, 222, 192, 225, 27, 17, 110, 58, 114, 69, 71, 6, 84, 55, 33, 180, 149, 173, 229, 5, 34, 120, 92, 220, 250, 55, 211, 152, 136, 2, 23, 11, 3, 232, 198, 94, 155, 57, 156, 157, 110, 162, 207, 172, 141, 175, 206, 120, 135, 218, 209, 204, 112, 100, 134]]}}, \"requested_proof\": {\"revealed_attrs\": {\"data_dri\": {\"sub_proof_index\": 0, \"raw\": \"7dfd716666994497926f8ca02e769257d36bba92f0c31e4fe91ccba9f4311f86\", \"encoded\": \"46796680751272472783988362602137825638383598079504819093754394509164353886973\"}}, \"self_attested_attrs\": {}, \"unrevealed_attrs\": {}, \"predicates\": {}}, \"identifiers\": [{\"schema_id\": \"WWZtMuY1V9hvFF1ezey2EM:2:consent_test:1.0\", \"cred_def_id\": \"WWZtMuY1V9hvFF1ezey2EM:3:CL:1175:Services\", \"rev_reg_id\": null, \"timestamp\": null}]}, \"role\": \"prover\"}\n"
     ]
    }
   ],
   "source": [
    "url = 'http://localhost:8150/present-proof/records/' + \\\n",
    "       proof_request['presentation_exchange_id'] + \\\n",
    "       '/send-presentation'\n",
    "\n",
    "presentation_schema = {\n",
    "  \"requested_attributes\": {\n",
    "    \"data_dri\": {\n",
    "      \"cred_id\": credentials['results'][0]['referent'],\n",
    "        \"revealed\": True\n",
    "    },\n",
    "  },\n",
    "   \"requested_predicates\": {\n",
    "  },\n",
    "  \"self_attested_attributes\": {\n",
    "  }\n",
    "}\n",
    "print(presentation_schema)\n",
    "present = requests.post(url, json=presentation_schema)\n",
    "\n",
    "print(present.text)"
   ]
  },
  {
   "cell_type": "code",
   "execution_count": 53,
   "metadata": {},
   "outputs": [],
   "source": [
    "send = requests.post('http://localhost:8151/schema-exchange/request-schema', json={\n",
    "  \"hash_id\": add['hash_id'],\n",
    "  \"connection_id\": connection[1]\n",
    "})"
   ]
  },
  {
   "cell_type": "code",
   "execution_count": 54,
   "metadata": {},
   "outputs": [],
   "source": [
    "send = requests.post('http://localhost:8151/schema-exchange/request-schema', json={\n",
    "  \"hash_id\": \"ddd\",\n",
    "  \"connection_id\": connection[1]\n",
    "})"
   ]
  },
  {
   "cell_type": "code",
   "execution_count": 55,
   "metadata": {
    "scrolled": true
   },
   "outputs": [
    {
     "name": "stdout",
     "output_type": "stream",
     "text": [
      "{\"hash_id\": \"ddd\", \"connection_id\": \"a361d994-aaea-4f5c-9bf4-9644a774de2b\", \"record_id\": \"1e61b917-946b-4a56-8810-5b48081f79e6\", \"exchange_id\": \"c5f71769-b806-49fe-8861-15f49ffad9e3\", \"state\": \"pending\"}\n"
     ]
    }
   ],
   "source": [
    "print(send.text)"
   ]
  },
  {
   "cell_type": "markdown",
   "metadata": {},
   "source": [
    "### GET Request By RECORD_ID"
   ]
  },
  {
   "cell_type": "markdown",
   "metadata": {},
   "source": [
    "### GET Request List and filter by state and author"
   ]
  },
  {
   "cell_type": "code",
   "execution_count": 56,
   "metadata": {
    "scrolled": true
   },
   "outputs": [
    {
     "name": "stdout",
     "output_type": "stream",
     "text": [
      "Agent1:\n",
      "[{'author': 'other',\n",
      "  'connection_id': '844f6e7f-c13e-4ef8-b018-754fc5205445',\n",
      "  'created_at': '2020-07-16 09:09:17.991960Z',\n",
      "  'exchange_id': 'c5f71769-b806-49fe-8861-15f49ffad9e3',\n",
      "  'payload': 'ddd',\n",
      "  'state': 'failed to find the record',\n",
      "  'updated_at': '2020-07-16 09:09:17.991960Z'},\n",
      " {'author': 'other',\n",
      "  'connection_id': '844f6e7f-c13e-4ef8-b018-754fc5205445',\n",
      "  'created_at': '2020-07-16 09:09:16.748526Z',\n",
      "  'exchange_id': 'f51e4a06-2214-4b9e-a28a-d4c336258f66',\n",
      "  'payload': '9f86d081884c7d659a2feaa0c55ad015a3bf4f1b2b0b822cd15d6c15b0f00a08',\n",
      "  'state': 'approved',\n",
      "  'updated_at': '2020-07-16 09:09:16.748526Z'}]\n",
      "\n",
      "Agent2:\n",
      "[{'author': 'self',\n",
      "  'connection_id': 'a361d994-aaea-4f5c-9bf4-9644a774de2b',\n",
      "  'created_at': '2020-07-16 09:09:17.950785Z',\n",
      "  'exchange_id': 'c5f71769-b806-49fe-8861-15f49ffad9e3',\n",
      "  'payload': 'ddd',\n",
      "  'state': 'failed to find the record',\n",
      "  'updated_at': '2020-07-16 09:09:18.029400Z'},\n",
      " {'author': 'self',\n",
      "  'connection_id': 'a361d994-aaea-4f5c-9bf4-9644a774de2b',\n",
      "  'created_at': '2020-07-16 09:09:16.720869Z',\n",
      "  'exchange_id': 'f51e4a06-2214-4b9e-a28a-d4c336258f66',\n",
      "  'payload': '9f86d081884c7d659a2feaa0c55ad015a3bf4f1b2b0b822cd15d6c15b0f00a08',\n",
      "  'state': 'approved',\n",
      "  'updated_at': '2020-07-16 09:09:16.780856Z'}]\n"
     ]
    }
   ],
   "source": [
    "request_list = requests.post('http://localhost:8150/schema-storage/debug/request/list', json={})\n",
    "request_list = json.loads(request_list.text)\n",
    "print(\"Agent1:\", )\n",
    "pp.pprint(request_list)\n",
    "request_list = requests.post('http://localhost:8151/schema-storage/debug/request/list', json={})\n",
    "request_list = json.loads(request_list.text)\n",
    "print(\"\\nAgent2:\")\n",
    "pp.pprint(request_list)"
   ]
  },
  {
   "cell_type": "markdown",
   "metadata": {},
   "source": [
    "### GET RECORD LIST"
   ]
  },
  {
   "cell_type": "code",
   "execution_count": 57,
   "metadata": {
    "scrolled": true
   },
   "outputs": [
    {
     "name": "stdout",
     "output_type": "stream",
     "text": [
      "Agent1: \n",
      "[{'author': 'self',\n",
      "  'created_at': '2020-07-16 09:09:15.407083Z',\n",
      "  'hash_id': '9f86d081884c7d659a2feaa0c55ad015a3bf4f1b2b0b822cd15d6c15b0f00a08',\n",
      "  'payload': 'test',\n",
      "  'updated_at': '2020-07-16 09:09:15.407083Z'}]\n",
      "Agent2: \n",
      "[{'author': 'a361d994-aaea-4f5c-9bf4-9644a774de2b',\n",
      "  'created_at': '2020-07-16 09:09:16.808608Z',\n",
      "  'hash_id': '9f86d081884c7d659a2feaa0c55ad015a3bf4f1b2b0b822cd15d6c15b0f00a08',\n",
      "  'payload': 'test',\n",
      "  'updated_at': '2020-07-16 09:09:16.808608Z'}]\n"
     ]
    }
   ],
   "source": [
    "getRequests = requests.post('http://localhost:8150/schema-storage/list')\n",
    "record_list = json.loads(getRequests.text)\n",
    "print(\"Agent1: \")\n",
    "pp.pprint(record_list)\n",
    "\n",
    "getRequests = requests.post('http://localhost:8151/schema-storage/list')\n",
    "record_list = json.loads(getRequests.text)\n",
    "print(\"Agent2: \")\n",
    "pp.pprint(record_list)"
   ]
  },
  {
   "cell_type": "code",
   "execution_count": null,
   "metadata": {},
   "outputs": [],
   "source": [
    "\n",
    "# message = util.buildMessage(\n",
    "#         'https://didcomm.org/issue-credential/1.0/propose-credential'\n",
    "#     )\n",
    "# testing = util.sendMessage(message, agents[0])\n",
    "# pp.pprint(testing)"
   ]
  },
  {
   "cell_type": "code",
   "execution_count": null,
   "metadata": {},
   "outputs": [],
   "source": [
    "# pp.pprint(util.sendSchema(agents[0], \"schesssdddvd\", \"1.0\", [\"memesssaaaaaaa\"]))"
   ]
  },
  {
   "cell_type": "code",
   "execution_count": null,
   "metadata": {},
   "outputs": [],
   "source": [
    "# result = util.schemaGetList(agents[0])\n",
    "# last_schema_id = result['results'][-1]['schema_id']\n",
    "# print(result)"
   ]
  },
  {
   "cell_type": "code",
   "execution_count": null,
   "metadata": {},
   "outputs": [],
   "source": [
    "# util.schemaGet(agents[0], last_schema_id)"
   ]
  }
 ],
 "metadata": {
  "kernelspec": {
   "display_name": "Python 3",
   "language": "python",
   "name": "python3"
  },
  "language_info": {
   "codemirror_mode": {
    "name": "ipython",
    "version": 3
   },
   "file_extension": ".py",
   "mimetype": "text/x-python",
   "name": "python",
   "nbconvert_exporter": "python",
   "pygments_lexer": "ipython3",
   "version": "3.7.5"
  }
 },
 "nbformat": 4,
 "nbformat_minor": 4
}
