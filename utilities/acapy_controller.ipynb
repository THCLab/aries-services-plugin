{
 "cells": [
  {
   "cell_type": "code",
   "execution_count": 1,
   "metadata": {},
   "outputs": [],
   "source": [
    "import requests \n",
    "import json\n",
    "import pprint as pp # pretty print\n",
    "\n",
    "import aries_cloudagent.wallet.crypto as crypto\n",
    "import base64\n",
    "import base58\n",
    "import uuid\n",
    "import jupyter_util as util"
   ]
  },
  {
   "cell_type": "markdown",
   "metadata": {},
   "source": [
    "## Enter Invite Url:"
   ]
  },
  {
   "cell_type": "code",
   "execution_count": 14,
   "metadata": {},
   "outputs": [
    {
     "name": "stdout",
     "output_type": "stream",
     "text": [
      "http://agent1.localhost?c_i=eyJAdHlwZSI6ICJkaWQ6c292OkJ6Q2JzTlloTXJqSGlxWkRUVUFTSGc7c3BlYy9jb25uZWN0aW9ucy8xLjAvaW52aXRhdGlvbiIsICJAaWQiOiAiZjM4NzdlOGItYmZiYy00ZGIyLThiZDMtM2VhMTZiMDJlNGQ0IiwgInNlcnZpY2VFbmRwb2ludCI6ICJodHRwOi8vYWdlbnQxLmxvY2FsaG9zdCIsICJyZWNpcGllbnRLZXlzIjogWyI0QnFWdThuYzZyNXAzZzdyY1hiVmRIZllkV1RzVkdyV29vR2hib1dtRUt3UyJdLCAibGFiZWwiOiAiTWFpbiAoYWRtaW4pIn0=\n"
     ]
    }
   ],
   "source": [
    "agent1 = {}\n",
    "plugin = {}\n",
    "endpoint = \"http://localhost:8150/connections/create-admin-invitation-url\"\n",
    "adminInvitationResponse = requests.post(endpoint)\n",
    "adminInvitationResponse = adminInvitationResponse.text\n",
    "agent1['url'] = json.loads(adminInvitationResponse)['invitation_url']\n",
    "print(agent1['url'])"
   ]
  },
  {
   "cell_type": "code",
   "execution_count": 15,
   "metadata": {},
   "outputs": [
    {
     "name": "stdout",
     "output_type": "stream",
     "text": [
      "http://agent2.localhost?c_i=eyJAdHlwZSI6ICJkaWQ6c292OkJ6Q2JzTlloTXJqSGlxWkRUVUFTSGc7c3BlYy9jb25uZWN0aW9ucy8xLjAvaW52aXRhdGlvbiIsICJAaWQiOiAiNmNhODgxNDUtOGZkNi00ZmZmLWEzYmQtYjM0MDRhZjBhMmFjIiwgInNlcnZpY2VFbmRwb2ludCI6ICJodHRwOi8vYWdlbnQyLmxvY2FsaG9zdCIsICJsYWJlbCI6ICJDbGllbnQgKGFkbWluKSIsICJyZWNpcGllbnRLZXlzIjogWyI4VmJiOVNBa3FxV2VURnhtN29VUlgzUk1hNUp0cVIzWGM5ekZ2Z1E5OXdoQSJdfQ==\n"
     ]
    }
   ],
   "source": [
    "agent2 = {}\n",
    "endpoint = \"http://localhost:8151/connections/create-admin-invitation-url\"\n",
    "adminInvitationResponse = requests.post(endpoint)\n",
    "adminInvitationResponse = adminInvitationResponse.text\n",
    "agent2['url'] = json.loads(adminInvitationResponse)['invitation_url']\n",
    "print(agent2['url'])"
   ]
  },
  {
   "cell_type": "code",
   "execution_count": 4,
   "metadata": {
    "scrolled": true
   },
   "outputs": [
    {
     "name": "stdout",
     "output_type": "stream",
     "text": [
      "Decoded invitation:\n",
      "\n",
      "{'@id': '8f0f158b-c9fe-4274-b7d1-a5fcadfb9709',\n",
      " '@type': 'did:sov:BzCbsNYhMrjHiqZDTUASHg;spec/connections/1.0/invitation',\n",
      " 'label': 'Client (admin)',\n",
      " 'recipientKeys': ['74MPyGb42fYYSuuCREkkh4k4yjTxD6oNYHDBf3ssd3F8'],\n",
      " 'serviceEndpoint': 'http://agent2.localhost'}\n"
     ]
    }
   ],
   "source": [
    "agent1 = util.processInviteUrl(agent1['url'])\n",
    "agent2 = util.processInviteUrl(agent2['url'])\n",
    "print(\"Decoded invitation:\\n\")\n",
    "pp.pprint(agent2['invite'])"
   ]
  },
  {
   "cell_type": "code",
   "execution_count": 5,
   "metadata": {},
   "outputs": [
    {
     "name": "stdout",
     "output_type": "stream",
     "text": [
      "Private key: \n",
      " 2hZiozbLxfXyHRB6hg6ZH25iqTprb4rZtXkjJbzzHVMud9BkubmdqWgzgYKRWph7qdRehFwKwarAZqCEZH9xFJ7b\n",
      "\n",
      "Public key: \n",
      " JDhqfJhhn6aZxTnW192VQYNwJDBHrGJx7kWYH8XLiuvR\n"
     ]
    }
   ],
   "source": [
    "### Generating a did key using aries crypto module\n",
    "# Create a key pair with random seed \n",
    "# Order: 0 - public key, 1 - secret / pritvate key\n",
    "plugin['keypair'] = crypto.create_keypair()\n",
    "# it seems to me that did is an encoded sub string of public key\n",
    "# or maybe just some arbitrary random number\n",
    "did = plugin['keypair'][0][:16]\n",
    "# final version of our did\n",
    "plugin['did'] = base58.b58encode(did).decode(\"ascii\")\n",
    "# encoding keys to base58\n",
    "plugin['public_key_b58'] = \\\n",
    "    base58.b58encode(plugin['keypair'][0]).decode(\"ascii\")\n",
    "plugin['private_key_b58'] = \\\n",
    "    base58.b58encode(plugin['keypair'][1]).decode(\"ascii\")\n",
    "\n",
    "print(\"Private key: \\n\", plugin['private_key_b58'])\n",
    "print(\"\\nPublic key: \\n\", plugin['public_key_b58'])"
   ]
  },
  {
   "cell_type": "markdown",
   "metadata": {},
   "source": [
    "**Sending a connection request to acapy**"
   ]
  },
  {
   "cell_type": "code",
   "execution_count": 6,
   "metadata": {
    "scrolled": false
   },
   "outputs": [],
   "source": [
    "   \n",
    "agent1['connection'] = util.connectWithAcapy(agent1, plugin)\n",
    "agent2['connection'] = util.connectWithAcapy(agent2, plugin)\n",
    "# print(\"Decoded acapy response: \\n\")\n",
    "# pp.pprint(agent1['conn'])"
   ]
  },
  {
   "cell_type": "markdown",
   "metadata": {},
   "source": [
    "**Unpacking connection data embedded in the response**"
   ]
  },
  {
   "cell_type": "code",
   "execution_count": 7,
   "metadata": {
    "scrolled": true
   },
   "outputs": [],
   "source": [
    "agent1['connection_details'] = util.decodeConnectionDetails(agent1['connection'])\n",
    "agent2['connection_details'] = util.decodeConnectionDetails(agent2['connection'])"
   ]
  },
  {
   "cell_type": "markdown",
   "metadata": {},
   "source": [
    "**Adding the connection to connection list**"
   ]
  },
  {
   "cell_type": "code",
   "execution_count": 8,
   "metadata": {
    "scrolled": true
   },
   "outputs": [
    {
     "name": "stdout",
     "output_type": "stream",
     "text": [
      "[{'DIDDoc': {'@context': 'https://w3id.org/did/v1',\n",
      "             'authentication': [{'publicKey': 'did:sov:AhEexLqttHShTSfhfTHTqT#1',\n",
      "                                 'type': 'Ed25519SignatureAuthentication2018'}],\n",
      "             'id': 'did:sov:AhEexLqttHShTSfhfTHTqT',\n",
      "             'publicKey': [{'controller': 'did:sov:AhEexLqttHShTSfhfTHTqT',\n",
      "                            'id': 'did:sov:AhEexLqttHShTSfhfTHTqT#1',\n",
      "                            'publicKeyBase58': '6HSNTkgQqq6q25SujuUkF6rnvusHbBKHDT4HkMiHqEdK',\n",
      "                            'type': 'Ed25519VerificationKey2018'}],\n",
      "             'service': [{'id': 'did:sov:AhEexLqttHShTSfhfTHTqT;indy',\n",
      "                          'priority': 0,\n",
      "                          'recipientKeys': ['6HSNTkgQqq6q25SujuUkF6rnvusHbBKHDT4HkMiHqEdK'],\n",
      "                          'serviceEndpoint': 'http://agent1.localhost',\n",
      "                          'type': 'IndyAgent'}]},\n",
      "  'label': 'Main (admin)',\n",
      "  'myKey': b'T\\xff{\\xe1\\xce2\\x88\\x18\\x99\\xe4I\\xa7`\\xdb\\x92\\x8b\\xba\\x84X\\xa1'\n",
      "           b'g\\xe4\\xd5\\xdd\\xe9g\\x99\\xa4\\x13f\\xac\\xef\\xff\\xd7\\xd3\\x00'\n",
      "           b\"\\xcb\\x9d_\\x08\\xdck8C\\xb2\\xa7'R<8\\xb7\\xde\\xa5\\x027b\\x9a'\\xea\\xde\"\n",
      "           b'^F\\xb9\\x82'},\n",
      " {'DIDDoc': {'@context': 'https://w3id.org/did/v1',\n",
      "             'authentication': [{'publicKey': 'did:sov:BCEBsVu9m8v4Y8STKrJLTS#1',\n",
      "                                 'type': 'Ed25519SignatureAuthentication2018'}],\n",
      "             'id': 'did:sov:BCEBsVu9m8v4Y8STKrJLTS',\n",
      "             'publicKey': [{'controller': 'did:sov:BCEBsVu9m8v4Y8STKrJLTS',\n",
      "                            'id': 'did:sov:BCEBsVu9m8v4Y8STKrJLTS#1',\n",
      "                            'publicKeyBase58': '6ZEs355nigBHJ97strAjNRuDKo551bb8QrdWT4bd9cQH',\n",
      "                            'type': 'Ed25519VerificationKey2018'}],\n",
      "             'service': [{'id': 'did:sov:BCEBsVu9m8v4Y8STKrJLTS;indy',\n",
      "                          'priority': 0,\n",
      "                          'recipientKeys': ['6ZEs355nigBHJ97strAjNRuDKo551bb8QrdWT4bd9cQH'],\n",
      "                          'serviceEndpoint': 'http://agent2.localhost',\n",
      "                          'type': 'IndyAgent'}]},\n",
      "  'label': 'Client (admin)',\n",
      "  'myKey': b'T\\xff{\\xe1\\xce2\\x88\\x18\\x99\\xe4I\\xa7`\\xdb\\x92\\x8b\\xba\\x84X\\xa1'\n",
      "           b'g\\xe4\\xd5\\xdd\\xe9g\\x99\\xa4\\x13f\\xac\\xef\\xff\\xd7\\xd3\\x00'\n",
      "           b\"\\xcb\\x9d_\\x08\\xdck8C\\xb2\\xa7'R<8\\xb7\\xde\\xa5\\x027b\\x9a'\\xea\\xde\"\n",
      "           b'^F\\xb9\\x82'}]\n"
     ]
    }
   ],
   "source": [
    "connections = [\n",
    "    {\n",
    "        \"label\": agent1['invite']['label'],\n",
    "        \"DIDDoc\": agent1['connection_details']['DIDDoc'],\n",
    "        \"myKey\": plugin['keypair'][1]\n",
    "    },\n",
    "    {\n",
    "        \"label\": agent2['invite']['label'],\n",
    "        \"DIDDoc\": agent2['connection_details']['DIDDoc'],\n",
    "        \"myKey\": plugin['keypair'][1]\n",
    "    },\n",
    "]\n",
    "\n",
    "pp.pprint(connections)"
   ]
  },
  {
   "cell_type": "markdown",
   "metadata": {},
   "source": [
    "### FEATURE DISCOVERY"
   ]
  },
  {
   "cell_type": "code",
   "execution_count": 9,
   "metadata": {},
   "outputs": [
    {
     "name": "stdout",
     "output_type": "stream",
     "text": [
      "{'@id': 'ba82a8c4-ab9a-422e-8576-15fdfbe95111',\n",
      " '@type': 'did:sov:BzCbsNYhMrjHiqZDTUASHg;spec/discover-features/1.0/disclose',\n",
      " 'protocols': [{'pid': 'did:sov:BzCbsNYhMrjHiqZDTUASHg;spec/action-menu/1.0',\n",
      "                'roles': ['provider']},\n",
      "               {'pid': 'https://didcomm.org/connections/1.0'},\n",
      "               {'pid': 'https://didcomm.org/credential-issuance/0.1'},\n",
      "               {'pid': 'did:sov:BzCbsNYhMrjHiqZDTUASHg;spec/notification/1.0'},\n",
      "               {'pid': 'did:sov:BzCbsNYhMrjHiqZDTUASHg;spec/admin-holder/0.1'},\n",
      "               {'pid': 'did:sov:BzCbsNYhMrjHiqZDTUASHg;spec/admin-dids/0.1'},\n",
      "               {'pid': 'https://github.com/hyperledger/aries-toolbox/tree/master/docs/admin-invitations/0.1'},\n",
      "               {'pid': 'did:sov:BzCbsNYhMrjHiqZDTUASHg;spec/admin-credential-definitions/0.1'},\n",
      "               {'pid': 'did:sov:BzCbsNYhMrjHiqZDTUASHg;spec/acapy-plugin/1.0/records'},\n",
      "               {'pid': 'did:sov:BzCbsNYhMrjHiqZDTUASHg;spec/discover-features/1.0'},\n",
      "               {'pid': 'https://github.com/hyperledger/aries-toolbox/tree/master/docs/admin-taa/0.1'},\n",
      "               {'pid': 'https://didcomm.org/introduction-service/0.1'},\n",
      "               {'pid': 'https://didcomm.org/routing/1.0'},\n",
      "               {'pid': 'https://github.com/hyperledger/aries-toolbox/tree/master/docs/admin-basicmessage/0.1'},\n",
      "               {'pid': 'did:sov:BzCbsNYhMrjHiqZDTUASHg;spec/introduction-service/0.1'},\n",
      "               {'pid': 'https://didcomm.org/trust_ping/1.0'},\n",
      "               {'pid': 'https://didcomm.org/issue-credential/1.0'},\n",
      "               {'pid': 'https://didcomm.org/action-menu/1.0'},\n",
      "               {'pid': 'https://didcomm.org/basicmessage/1.0'},\n",
      "               {'pid': 'https://didcomm.org/credential-presentation/0.1'},\n",
      "               {'pid': 'https://github.com/hyperledger/aries-toolbox/tree/master/docs/admin-payments/0.1'},\n",
      "               {'pid': 'did:sov:BzCbsNYhMrjHiqZDTUASHg;spec/issue-credential/1.0'},\n",
      "               {'pid': 'did:sov:BzCbsNYhMrjHiqZDTUASHg;spec/admin-static-connections/0.1'},\n",
      "               {'pid': 'did:sov:BzCbsNYhMrjHiqZDTUASHg;spec/admin-schemas/0.1'},\n",
      "               {'pid': 'did:sov:BzCbsNYhMrjHiqZDTUASHg;spec/credential-presentation/0.1'},\n",
      "               {'pid': 'did:sov:BzCbsNYhMrjHiqZDTUASHg;spec/admin-connections/0.1'},\n",
      "               {'pid': 'https://didcomm.org/discover-features/1.0'},\n",
      "               {'pid': 'did:sov:BzCbsNYhMrjHiqZDTUASHg;spec/connections/1.0'},\n",
      "               {'pid': 'did:sov:BzCbsNYhMrjHiqZDTUASHg;spec/trust_ping/1.0'},\n",
      "               {'pid': 'did:sov:BzCbsNYhMrjHiqZDTUASHg;spec/routing/1.0'},\n",
      "               {'pid': 'https://didcomm.org/notification/1.0'},\n",
      "               {'pid': 'https://didcomm.org/present-proof/1.0'},\n",
      "               {'pid': 'https://github.com/hyperledger/aries-toolbox/tree/master/docs/admin-connections/0.1'},\n",
      "               {'pid': 'did:sov:BzCbsNYhMrjHiqZDTUASHg;spec/present-proof/1.0'},\n",
      "               {'pid': 'did:sov:BzCbsNYhMrjHiqZDTUASHg;spec/admin-issuer/0.1'},\n",
      "               {'pid': 'did:sov:BzCbsNYhMrjHiqZDTUASHg;spec/credential-issuance/0.1'},\n",
      "               {'pid': 'did:sov:BzCbsNYhMrjHiqZDTUASHg;spec/basicmessage/1.0'}],\n",
      " '~thread': {'thid': '7a42b71d-b72c-4b34-afc9-9e3c595697fc'}}\n"
     ]
    }
   ],
   "source": [
    "message = util.buildMessage(\n",
    "    \"did:sov:BzCbsNYhMrjHiqZDTUASHg;spec/discover-features/1.0/query\",\n",
    "    query=\"*\"\n",
    ")\n",
    "response = util.sendMessage(message, connections[0])\n",
    "pp.pprint(response)"
   ]
  },
  {
   "cell_type": "code",
   "execution_count": 10,
   "metadata": {
    "scrolled": false
   },
   "outputs": [
    {
     "name": "stdout",
     "output_type": "stream",
     "text": [
      "{'@id': '31e7a4a6-74a9-44ba-9ef9-691b076fe6dd', '@type': 'https://github.com/hyperledger/aries-toolbox/tree/master/docs/admin-invitations/0.1/create', '~transport': {'return_route': 'all'}, 'label': 'agent2', 'alias': 'agent2', 'auto_accept': True}\n",
      "{'@id': 'fda3b581-6e0c-4ad9-8efe-bd73c192df62',\n",
      " '@type': 'https://github.com/hyperledger/aries-toolbox/tree/master/docs/admin-invitations/0.1/invitation',\n",
      " 'alias': 'agent2',\n",
      " 'auto_accept': True,\n",
      " 'created_date': '2020-05-25 11:50:25.087020Z',\n",
      " 'id': '254ac3d7-5a0f-4502-a491-82decb5b8178',\n",
      " 'invitation_url': 'http://agent1.localhost?c_i=eyJAdHlwZSI6ICJkaWQ6c292OkJ6Q2JzTlloTXJqSGlxWkRUVUFTSGc7c3BlYy9jb25uZWN0aW9ucy8xLjAvaW52aXRhdGlvbiIsICJAaWQiOiAiMWY0ODc1MzEtNjNiOC00YzAyLWEwMmUtNDllODgyY2E2MzVkIiwgInNlcnZpY2VFbmRwb2ludCI6ICJodHRwOi8vYWdlbnQxLmxvY2FsaG9zdCIsICJyZWNpcGllbnRLZXlzIjogWyJFNUt6bU1HWkdkaXFKOGJ0SnE5VFA1VnVpQzQ3NXloaUNLZk1pNlNQOUIzZyJdLCAibGFiZWwiOiAiYWdlbnQyIn0=',\n",
      " 'label': 'agent2',\n",
      " 'multi_use': False,\n",
      " 'raw_repr': {'connection': {'accept': 'auto',\n",
      "                             'alias': 'agent2',\n",
      "                             'connection_id': '254ac3d7-5a0f-4502-a491-82decb5b8178',\n",
      "                             'created_at': '2020-05-25 11:50:25.087020Z',\n",
      "                             'initiator': 'self',\n",
      "                             'invitation_key': 'E5KzmMGZGdiqJ8btJq9TP5VuiC475yhiCKfMi6SP9B3g',\n",
      "                             'invitation_mode': 'once',\n",
      "                             'routing_state': 'none',\n",
      "                             'state': 'invitation',\n",
      "                             'updated_at': '2020-05-25 11:50:25.087020Z'},\n",
      "              'invitation': {'@id': '1f487531-63b8-4c02-a02e-49e882ca635d',\n",
      "                             '@type': 'did:sov:BzCbsNYhMrjHiqZDTUASHg;spec/connections/1.0/invitation',\n",
      "                             'label': 'agent2',\n",
      "                             'recipientKeys': ['E5KzmMGZGdiqJ8btJq9TP5VuiC475yhiCKfMi6SP9B3g'],\n",
      "                             'serviceEndpoint': 'http://agent1.localhost'}},\n",
      " '~thread': {'thid': '31e7a4a6-74a9-44ba-9ef9-691b076fe6dd'}}\n"
     ]
    }
   ],
   "source": [
    "message = util.buildMessage(\n",
    "    'https://github.com/hyperledger/aries-toolbox/tree/master/docs/admin-invitations/0.1/create',\n",
    "    label=\"agent2\",\n",
    "    alias=\"agent2\",\n",
    "    auto_accept=True \n",
    ")\n",
    "print(message)\n",
    "response = util.sendMessage(message, connections[0])\n",
    "pp.pprint(response)"
   ]
  },
  {
   "cell_type": "code",
   "execution_count": 11,
   "metadata": {
    "scrolled": false
   },
   "outputs": [
    {
     "name": "stdout",
     "output_type": "stream",
     "text": [
      "{'@id': 'fda3b581-6e0c-4ad9-8efe-bd73c192df62',\n",
      " '@type': 'https://github.com/hyperledger/aries-toolbox/tree/master/docs/admin-invitations/0.1/invitation',\n",
      " 'alias': 'agent2',\n",
      " 'auto_accept': True,\n",
      " 'created_date': '2020-05-25 11:50:25.087020Z',\n",
      " 'id': '254ac3d7-5a0f-4502-a491-82decb5b8178',\n",
      " 'invitation_url': 'http://agent1.localhost?c_i=eyJAdHlwZSI6ICJkaWQ6c292OkJ6Q2JzTlloTXJqSGlxWkRUVUFTSGc7c3BlYy9jb25uZWN0aW9ucy8xLjAvaW52aXRhdGlvbiIsICJAaWQiOiAiMWY0ODc1MzEtNjNiOC00YzAyLWEwMmUtNDllODgyY2E2MzVkIiwgInNlcnZpY2VFbmRwb2ludCI6ICJodHRwOi8vYWdlbnQxLmxvY2FsaG9zdCIsICJyZWNpcGllbnRLZXlzIjogWyJFNUt6bU1HWkdkaXFKOGJ0SnE5VFA1VnVpQzQ3NXloaUNLZk1pNlNQOUIzZyJdLCAibGFiZWwiOiAiYWdlbnQyIn0=',\n",
      " 'label': 'agent2',\n",
      " 'multi_use': False,\n",
      " 'raw_repr': {'connection': {'accept': 'auto',\n",
      "                             'alias': 'agent2',\n",
      "                             'connection_id': '254ac3d7-5a0f-4502-a491-82decb5b8178',\n",
      "                             'created_at': '2020-05-25 11:50:25.087020Z',\n",
      "                             'initiator': 'self',\n",
      "                             'invitation_key': 'E5KzmMGZGdiqJ8btJq9TP5VuiC475yhiCKfMi6SP9B3g',\n",
      "                             'invitation_mode': 'once',\n",
      "                             'routing_state': 'none',\n",
      "                             'state': 'invitation',\n",
      "                             'updated_at': '2020-05-25 11:50:25.087020Z'},\n",
      "              'invitation': {'@id': '1f487531-63b8-4c02-a02e-49e882ca635d',\n",
      "                             '@type': 'did:sov:BzCbsNYhMrjHiqZDTUASHg;spec/connections/1.0/invitation',\n",
      "                             'label': 'agent2',\n",
      "                             'recipientKeys': ['E5KzmMGZGdiqJ8btJq9TP5VuiC475yhiCKfMi6SP9B3g'],\n",
      "                             'serviceEndpoint': 'http://agent1.localhost'}},\n",
      " '~thread': {'thid': '31e7a4a6-74a9-44ba-9ef9-691b076fe6dd'}}\n"
     ]
    }
   ],
   "source": [
    "message = util.buildMessage(\n",
    "    \"did:sov:BzCbsNYhMrjHiqZDTUASHg;spec/admin-connections/0.1/receive-invitation\",\n",
    "    accept='auto',\n",
    "    invitation=response['raw_repr']['invitation'],\n",
    ")\n",
    "responsee = util.sendMessage(message, connections[1])\n",
    "pp.pprint(response)\n"
   ]
  },
  {
   "cell_type": "code",
   "execution_count": 17,
   "metadata": {
    "scrolled": true
   },
   "outputs": [
    {
     "name": "stdout",
     "output_type": "stream",
     "text": [
      "{'@id': '82831db6-4456-42c8-84da-a4f262201faa',\n",
      " '@type': 'did:sov:BzCbsNYhMrjHiqZDTUASHg;spec/admin-connections/0.1/connection-list',\n",
      " 'results': [{'accept': 'auto',\n",
      "              'connection_id': '494e3454-e450-4621-8af3-b43a83dd7295',\n",
      "              'created_at': '2020-05-25 11:50:24.320627Z',\n",
      "              'initiator': 'self',\n",
      "              'invitation_key': '4Sybxnii2djC3AmZmSUmjuh8DadV7DRy3MvCR8mtX4ue',\n",
      "              'invitation_mode': 'once',\n",
      "              'my_did': 'AhEexLqttHShTSfhfTHTqT',\n",
      "              'routing_state': 'none',\n",
      "              'state': 'active',\n",
      "              'their_did': 'YbNUr7Coh2SYfW9kSWRK9B',\n",
      "              'their_label': 'Plugin',\n",
      "              'their_role': 'admin',\n",
      "              'updated_at': '2020-05-25 11:50:24.972160Z'},\n",
      "             {'accept': 'auto',\n",
      "              'alias': 'agent2',\n",
      "              'connection_id': '254ac3d7-5a0f-4502-a491-82decb5b8178',\n",
      "              'created_at': '2020-05-25 11:50:25.087020Z',\n",
      "              'initiator': 'self',\n",
      "              'invitation_key': 'E5KzmMGZGdiqJ8btJq9TP5VuiC475yhiCKfMi6SP9B3g',\n",
      "              'invitation_mode': 'once',\n",
      "              'my_did': '7q6oxTbRhDc7z1wyKVMBsG',\n",
      "              'routing_state': 'none',\n",
      "              'state': 'active',\n",
      "              'their_did': 'XMa67edu5AYsDWGXMP5GhC',\n",
      "              'their_label': 'Client',\n",
      "              'updated_at': '2020-05-25 11:57:11.925428Z'},\n",
      "             {'accept': 'auto',\n",
      "              'connection_id': 'e6e9db71-a678-4251-8a73-9eff29a9bea1',\n",
      "              'created_at': '2020-05-25 11:55:47.630846Z',\n",
      "              'initiator': 'self',\n",
      "              'invitation_key': '4BqVu8nc6r5p3g7rcXbVdHfYdWTsVGrWooGhboWmEKwS',\n",
      "              'invitation_mode': 'once',\n",
      "              'my_did': 'Kadp2mFAPp2okvcJuNZVQR',\n",
      "              'routing_state': 'none',\n",
      "              'state': 'active',\n",
      "              'their_did': '3AToPjPR6Ss8oNA93vJttH',\n",
      "              'their_label': 'ToolBox',\n",
      "              'their_role': 'admin',\n",
      "              'updated_at': '2020-05-25 11:56:03.947245Z'},\n",
      "             {'accept': 'auto',\n",
      "              'connection_id': 'c3e22855-a714-4b71-9234-9edca28fafd9',\n",
      "              'created_at': '2020-05-25 11:50:10.609181Z',\n",
      "              'initiator': 'self',\n",
      "              'invitation_key': '4xro2c7hbpCiv7Wbv4zCkGW27GxYMRaonDvhTNLJxgvN',\n",
      "              'invitation_mode': 'once',\n",
      "              'routing_state': 'none',\n",
      "              'state': 'invitation',\n",
      "              'their_role': 'admin',\n",
      "              'updated_at': '2020-05-25 11:50:10.609181Z'},\n",
      "             {'accept': 'auto',\n",
      "              'connection_id': 'fbb4f513-fcd3-48a9-a577-890ef6545e5f',\n",
      "              'created_at': '2020-05-25 11:56:11.851459Z',\n",
      "              'initiator': 'self',\n",
      "              'invitation_key': '9t8gSskcmrrNopQYjVMRj9iGkvSjmwyHWsNFHx4m949S',\n",
      "              'invitation_mode': 'once',\n",
      "              'routing_state': 'none',\n",
      "              'state': 'invitation',\n",
      "              'their_role': '',\n",
      "              'updated_at': '2020-05-25 11:56:11.851459Z'}],\n",
      " '~thread': {'thid': '5396f6bf-1175-4e80-b68f-be93e900d85e'}}\n"
     ]
    }
   ],
   "source": [
    "message = util.buildMessage(\n",
    "    \"did:sov:BzCbsNYhMrjHiqZDTUASHg;spec/admin-connections/0.1/connection-get-list\",\n",
    ")\n",
    "responseee = util.sendMessage(message, connections[0])\n",
    "pp.pprint(responseee)"
   ]
  }
 ],
 "metadata": {
  "kernelspec": {
   "display_name": "Python 3",
   "language": "python",
   "name": "python3"
  },
  "language_info": {
   "codemirror_mode": {
    "name": "ipython",
    "version": 3
   },
   "file_extension": ".py",
   "mimetype": "text/x-python",
   "name": "python",
   "nbconvert_exporter": "python",
   "pygments_lexer": "ipython3",
   "version": "3.7.5"
  }
 },
 "nbformat": 4,
 "nbformat_minor": 4
}
