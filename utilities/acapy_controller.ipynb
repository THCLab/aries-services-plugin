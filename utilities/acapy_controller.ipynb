{
 "cells": [
  {
   "cell_type": "code",
   "execution_count": 1,
   "metadata": {},
   "outputs": [],
   "source": [
    "import requests \n",
    "import json\n",
    "import pprint as pp # pretty print\n",
    "\n",
    "import aries_cloudagent.wallet.crypto as crypto\n",
    "import base64\n",
    "import base58\n",
    "import uuid\n",
    "import jupyter_util as util"
   ]
  },
  {
   "cell_type": "markdown",
   "metadata": {},
   "source": [
    "## Enter Invite Url:"
   ]
  },
  {
   "cell_type": "code",
   "execution_count": 2,
   "metadata": {},
   "outputs": [
    {
     "name": "stdout",
     "output_type": "stream",
     "text": [
      "http://agent1.localhost?c_i=eyJAdHlwZSI6ICJkaWQ6c292OkJ6Q2JzTlloTXJqSGlxWkRUVUFTSGc7c3BlYy9jb25uZWN0aW9ucy8xLjAvaW52aXRhdGlvbiIsICJAaWQiOiAiMWQ4MGI4MGYtOGE4Yi00ZGRjLWIxNWItN2E3NDdlNzJlZGFmIiwgImxhYmVsIjogIk1haW4gKGFkbWluKSIsICJyZWNpcGllbnRLZXlzIjogWyJFTjhuWkhXbVFodlBtNnJTcm11V01lYXlCZWZ3YURIUTlvcHBrYU5MWjZoQyJdLCAic2VydmljZUVuZHBvaW50IjogImh0dHA6Ly9hZ2VudDEubG9jYWxob3N0In0=\n"
     ]
    }
   ],
   "source": [
    "agent1 = {}\n",
    "plugin = {}\n",
    "endpoint = \"http://localhost:8150/connections/create-admin-invitation-url\"\n",
    "adminInvitationResponse = requests.post(endpoint)\n",
    "adminInvitationResponse = adminInvitationResponse.text\n",
    "agent1['url'] = json.loads(adminInvitationResponse)['invitation_url']\n",
    "print(agent1['url'])"
   ]
  },
  {
   "cell_type": "code",
   "execution_count": 3,
   "metadata": {
    "scrolled": true
   },
   "outputs": [
    {
     "name": "stdout",
     "output_type": "stream",
     "text": [
      "http://agent2.localhost?c_i=eyJAdHlwZSI6ICJkaWQ6c292OkJ6Q2JzTlloTXJqSGlxWkRUVUFTSGc7c3BlYy9jb25uZWN0aW9ucy8xLjAvaW52aXRhdGlvbiIsICJAaWQiOiAiMjY3NWIwMWMtODY2Yi00YWU0LTgyOWQtZDA4NjgxODA0ZjIyIiwgInNlcnZpY2VFbmRwb2ludCI6ICJodHRwOi8vYWdlbnQyLmxvY2FsaG9zdCIsICJyZWNpcGllbnRLZXlzIjogWyJCbVFRNWMyZVhMOW94ZVJNajJuTnBrQzNLZG1odkNIU2txblVQYW1CcG9RayJdLCAibGFiZWwiOiAiQ2xpZW50IChhZG1pbikifQ==\n"
     ]
    }
   ],
   "source": [
    "agent2 = {}\n",
    "endpoint = \"http://localhost:8151/connections/create-admin-invitation-url\"\n",
    "adminInvitationResponse = requests.post(endpoint)\n",
    "adminInvitationResponse = adminInvitationResponse.text\n",
    "agent2['url'] = json.loads(adminInvitationResponse)['invitation_url']\n",
    "print(agent2['url'])"
   ]
  },
  {
   "cell_type": "code",
   "execution_count": 4,
   "metadata": {
    "scrolled": true
   },
   "outputs": [
    {
     "name": "stdout",
     "output_type": "stream",
     "text": [
      "Decoded invitation:\n",
      "\n",
      "{'@id': '2675b01c-866b-4ae4-829d-d08681804f22',\n",
      " '@type': 'did:sov:BzCbsNYhMrjHiqZDTUASHg;spec/connections/1.0/invitation',\n",
      " 'label': 'Client (admin)',\n",
      " 'recipientKeys': ['BmQQ5c2eXL9oxeRMj2nNpkC3KdmhvCHSkqnUPamBpoQk'],\n",
      " 'serviceEndpoint': 'http://agent2.localhost'}\n"
     ]
    }
   ],
   "source": [
    "agent1 = util.processInviteUrl(agent1['url'])\n",
    "agent2 = util.processInviteUrl(agent2['url'])\n",
    "print(\"Decoded invitation:\\n\")\n",
    "pp.pprint(agent2['invite'])"
   ]
  },
  {
   "cell_type": "code",
   "execution_count": 5,
   "metadata": {
    "scrolled": true
   },
   "outputs": [
    {
     "name": "stdout",
     "output_type": "stream",
     "text": [
      "Private key: \n",
      " YKPzwzPMxcDDcBBNKqrYZZypLR4HuB5tySwx1aCBTthFRbJAe3ypUaSxf3ajBS7DpB5GNtukZxRLKFjajd96yZj\n",
      "\n",
      "Public key: \n",
      " DcCLBqoBQopizFRNfbiLT65zdLttzqCycwFcVZ1SPWJd\n"
     ]
    }
   ],
   "source": [
    "### Generating a did key using aries crypto module\n",
    "# Create a key pair with random seed \n",
    "# Order: 0 - public key, 1 - secret / pritvate key\n",
    "plugin['keypair'] = crypto.create_keypair()\n",
    "# it seems to me that did is an encoded sub string of public key\n",
    "# or maybe just some arbitrary random number\n",
    "did = plugin['keypair'][0][:16]\n",
    "# final version of our did\n",
    "plugin['did'] = base58.b58encode(did).decode(\"ascii\")\n",
    "# encoding keys to base58\n",
    "plugin['public_key_b58'] = \\\n",
    "    base58.b58encode(plugin['keypair'][0]).decode(\"ascii\")\n",
    "plugin['private_key_b58'] = \\\n",
    "    base58.b58encode(plugin['keypair'][1]).decode(\"ascii\")\n",
    "\n",
    "print(\"Private key: \\n\", plugin['private_key_b58'])\n",
    "print(\"\\nPublic key: \\n\", plugin['public_key_b58'])"
   ]
  },
  {
   "cell_type": "markdown",
   "metadata": {},
   "source": [
    "**Sending a connection request to acapy**"
   ]
  },
  {
   "cell_type": "code",
   "execution_count": 6,
   "metadata": {
    "scrolled": false
   },
   "outputs": [],
   "source": [
    "   \n",
    "agent1['connection'] = util.connectWithAcapy(agent1, plugin)\n",
    "agent2['connection'] = util.connectWithAcapy(agent2, plugin)\n",
    "# print(\"Decoded acapy response: \\n\")\n",
    "# pp.pprint(agent1['conn'])"
   ]
  },
  {
   "cell_type": "markdown",
   "metadata": {},
   "source": [
    "**Unpacking connection data embedded in the response**"
   ]
  },
  {
   "cell_type": "code",
   "execution_count": 7,
   "metadata": {
    "scrolled": true
   },
   "outputs": [],
   "source": [
    "agent1['connection_details'] = util.decodeConnectionDetails(agent1['connection'])\n",
    "agent2['connection_details'] = util.decodeConnectionDetails(agent2['connection'])"
   ]
  },
  {
   "cell_type": "markdown",
   "metadata": {},
   "source": [
    "**Adding the connection to connection list**"
   ]
  },
  {
   "cell_type": "code",
   "execution_count": 8,
   "metadata": {
    "scrolled": true
   },
   "outputs": [
    {
     "name": "stdout",
     "output_type": "stream",
     "text": [
      "[{'DIDDoc': {'@context': 'https://w3id.org/did/v1',\n",
      "             'authentication': [{'publicKey': 'did:sov:MWMFdJCZkX738paNdnA6bD#1',\n",
      "                                 'type': 'Ed25519SignatureAuthentication2018'}],\n",
      "             'id': 'did:sov:MWMFdJCZkX738paNdnA6bD',\n",
      "             'publicKey': [{'controller': 'did:sov:MWMFdJCZkX738paNdnA6bD',\n",
      "                            'id': 'did:sov:MWMFdJCZkX738paNdnA6bD#1',\n",
      "                            'publicKeyBase58': 'CBEfywby9FKjMCJrB585GQ4AJf8gHmXZZtKnaqZomq87',\n",
      "                            'type': 'Ed25519VerificationKey2018'}],\n",
      "             'service': [{'id': 'did:sov:MWMFdJCZkX738paNdnA6bD;indy',\n",
      "                          'priority': 0,\n",
      "                          'recipientKeys': ['CBEfywby9FKjMCJrB585GQ4AJf8gHmXZZtKnaqZomq87'],\n",
      "                          'serviceEndpoint': 'http://agent1.localhost',\n",
      "                          'type': 'IndyAgent'}]},\n",
      "  'label': 'Main (admin)',\n",
      "  'myKey': b'\\x1b\\x01\\xbaH]\\x0f-\\xec\\xdd\\x9a\\x94\\xd3\\xb7P&8\\xcb \\xe7q[@\\xfb\\x82'\n",
      "           b\"\\xd4i\\xde\\xfc$\\xb5\\x1d\\xce\\xbbPb\\x1a\\xbb\\x1d\\x17-\\xa5?\\xfc'@N)\\x89\"\n",
      "           b'\\xae)\\x1aN\\x9d\\x94:\\xff\\xda\\xfc\\x85\\xac\\x05\\x95\\xf4\\x12'},\n",
      " {'DIDDoc': {'@context': 'https://w3id.org/did/v1',\n",
      "             'authentication': [{'publicKey': 'did:sov:MAyyQ7zC5zz94qPSKAsAhL#1',\n",
      "                                 'type': 'Ed25519SignatureAuthentication2018'}],\n",
      "             'id': 'did:sov:MAyyQ7zC5zz94qPSKAsAhL',\n",
      "             'publicKey': [{'controller': 'did:sov:MAyyQ7zC5zz94qPSKAsAhL',\n",
      "                            'id': 'did:sov:MAyyQ7zC5zz94qPSKAsAhL#1',\n",
      "                            'publicKeyBase58': 'BzgStpoXVaHP7659r9x7YMT8vS31Zpiqwq4LwEj7yvGa',\n",
      "                            'type': 'Ed25519VerificationKey2018'}],\n",
      "             'service': [{'id': 'did:sov:MAyyQ7zC5zz94qPSKAsAhL;indy',\n",
      "                          'priority': 0,\n",
      "                          'recipientKeys': ['BzgStpoXVaHP7659r9x7YMT8vS31Zpiqwq4LwEj7yvGa'],\n",
      "                          'serviceEndpoint': 'http://agent2.localhost',\n",
      "                          'type': 'IndyAgent'}]},\n",
      "  'label': 'Client (admin)',\n",
      "  'myKey': b'\\x1b\\x01\\xbaH]\\x0f-\\xec\\xdd\\x9a\\x94\\xd3\\xb7P&8\\xcb \\xe7q[@\\xfb\\x82'\n",
      "           b\"\\xd4i\\xde\\xfc$\\xb5\\x1d\\xce\\xbbPb\\x1a\\xbb\\x1d\\x17-\\xa5?\\xfc'@N)\\x89\"\n",
      "           b'\\xae)\\x1aN\\x9d\\x94:\\xff\\xda\\xfc\\x85\\xac\\x05\\x95\\xf4\\x12'}]\n"
     ]
    }
   ],
   "source": [
    "connections = [\n",
    "    {\n",
    "        \"label\": agent1['invite']['label'],\n",
    "        \"DIDDoc\": agent1['connection_details']['DIDDoc'],\n",
    "        \"myKey\": plugin['keypair'][1]\n",
    "    },\n",
    "    {\n",
    "        \"label\": agent2['invite']['label'],\n",
    "        \"DIDDoc\": agent2['connection_details']['DIDDoc'],\n",
    "        \"myKey\": plugin['keypair'][1]\n",
    "    },\n",
    "]\n",
    "\n",
    "# pp.pprint(connections)"
   ]
  },
  {
   "cell_type": "markdown",
   "metadata": {},
   "source": [
    "### FEATURE DISCOVERY"
   ]
  },
  {
   "cell_type": "code",
   "execution_count": 17,
   "metadata": {},
   "outputs": [],
   "source": [
    "# message = util.buildMessage(\n",
    "#     \"did:sov:BzCbsNYhMrjHiqZDTUASHg;spec/discover-features/1.0/query\",\n",
    "#     query=\"*\"\n",
    "# )\n",
    "# response = util.sendMessage(message, connections[0])\n",
    "# pp.pprint(response)"
   ]
  },
  {
   "cell_type": "markdown",
   "metadata": {},
   "source": [
    "### Notes\n",
    "\n",
    "* To receive invitation use \"new connections\" protocol \"receive invitation\"\n",
    "* To create invitation use create invitation from \"invitations\" protocol"
   ]
  },
  {
   "cell_type": "markdown",
   "metadata": {},
   "source": [
    "### Done\n",
    "* create inv, receive\n",
    "* basic messaging sending, get list of messages etc.\n",
    "* dids"
   ]
  },
  {
   "cell_type": "code",
   "execution_count": 11,
   "metadata": {
    "scrolled": true
   },
   "outputs": [
    {
     "name": "stdout",
     "output_type": "stream",
     "text": [
      "{'@type': 'https://github.com/hyperledger/aries-toolbox/tree/master/docs/admin-connections/0.1/connection', '@id': '72da5a5f-e492-4c20-8c2c-6dbe12ec1e0b', 'state': 'pending', 'label': 'ConnectionBetweenAgents', 'connection_id': '431acade-ed1c-4084-83cd-4084bdbcc2c0', 'my_did': '4M6tANeLSqzAY6pU1x68Zg', 'raw_repr': {'invitation_key': 'GmEA8nDqukbRofaXDSuRCE2UyLA7heUzxnxdTHwKHnYm', 'updated_at': '2020-06-02 10:49:22.929574Z', 'state': 'request', 'accept': 'auto', 'routing_state': 'none', 'invitation_mode': 'once', 'initiator': 'external', 'connection_id': '431acade-ed1c-4084-83cd-4084bdbcc2c0', 'my_did': '4M6tANeLSqzAY6pU1x68Zg', 'request_id': '00624512-b504-4d07-a10e-8b56cecba699', 'created_at': '2020-06-02 10:49:22.899715Z', 'their_label': 'ConnectionBetweenAgents'}}\n"
     ]
    }
   ],
   "source": [
    "response = util.connectAgents(connections[0], connections[1])\n",
    "pp.pprint(response)"
   ]
  },
  {
   "cell_type": "code",
   "execution_count": 22,
   "metadata": {},
   "outputs": [
    {
     "name": "stdout",
     "output_type": "stream",
     "text": [
      "[{'connection_id': '8b217d00-aaba-4db2-bff4-8b6616345048',\n",
      "  'label': 'Client',\n",
      "  'my_did': 'WwqD8U9uUPHz8ZhVFabXVB',\n",
      "  'raw_repr': {'accept': 'auto',\n",
      "               'connection_id': '8b217d00-aaba-4db2-bff4-8b6616345048',\n",
      "               'created_at': '2020-06-02 10:34:30.442943Z',\n",
      "               'initiator': 'self',\n",
      "               'invitation_key': 'AGUEpLAHkUFEQpUi3ALsSBABHhZxh3FWKtYrcf7BcjgR',\n",
      "               'invitation_mode': 'once',\n",
      "               'my_did': 'WwqD8U9uUPHz8ZhVFabXVB',\n",
      "               'routing_state': 'none',\n",
      "               'state': 'active',\n",
      "               'their_did': 'EqetcsEvB8ZSonTMy1fFVX',\n",
      "               'their_label': 'Client',\n",
      "               'updated_at': '2020-06-02 10:34:30.862634Z'},\n",
      "  'role': None,\n",
      "  'state': 'active',\n",
      "  'their_did': 'EqetcsEvB8ZSonTMy1fFVX'},\n",
      " {'connection_id': '32440029-af56-47aa-bd08-04d5a7a9949d',\n",
      "  'label': 'Client',\n",
      "  'my_did': '2ZCYcLZsqGGrvxahUgHH2M',\n",
      "  'raw_repr': {'accept': 'auto',\n",
      "               'connection_id': '32440029-af56-47aa-bd08-04d5a7a9949d',\n",
      "               'created_at': '2020-06-02 10:49:22.835168Z',\n",
      "               'initiator': 'self',\n",
      "               'invitation_key': 'GmEA8nDqukbRofaXDSuRCE2UyLA7heUzxnxdTHwKHnYm',\n",
      "               'invitation_mode': 'once',\n",
      "               'my_did': '2ZCYcLZsqGGrvxahUgHH2M',\n",
      "               'routing_state': 'none',\n",
      "               'state': 'active',\n",
      "               'their_did': '4M6tANeLSqzAY6pU1x68Zg',\n",
      "               'their_label': 'Client',\n",
      "               'updated_at': '2020-06-02 10:49:23.264014Z'},\n",
      "  'role': None,\n",
      "  'state': 'active',\n",
      "  'their_did': '4M6tANeLSqzAY6pU1x68Zg'},\n",
      " {'connection_id': 'df355e85-4c18-4b87-bb3f-3374506f521a',\n",
      "  'label': 'Plugin',\n",
      "  'my_did': '8YfBPVu8hSn1uTBPXBg9BM',\n",
      "  'raw_repr': {'accept': 'auto',\n",
      "               'connection_id': 'df355e85-4c18-4b87-bb3f-3374506f521a',\n",
      "               'created_at': '2020-06-02 10:48:01.236537Z',\n",
      "               'initiator': 'self',\n",
      "               'invitation_key': 'EXQ291Dn5hZ1ehGBf2x3zA7ZwxCYzNezz8r3cetg3S4P',\n",
      "               'invitation_mode': 'once',\n",
      "               'my_did': '8YfBPVu8hSn1uTBPXBg9BM',\n",
      "               'routing_state': 'none',\n",
      "               'state': 'active',\n",
      "               'their_did': 'ACxnqEJcGfw5vUtUmFjh7i',\n",
      "               'their_label': 'Plugin',\n",
      "               'their_role': 'admin',\n",
      "               'updated_at': '2020-06-02 10:48:01.649260Z'},\n",
      "  'role': 'admin',\n",
      "  'state': 'active',\n",
      "  'their_did': 'ACxnqEJcGfw5vUtUmFjh7i'},\n",
      " {'connection_id': 'ad4c187a-8dbf-4f25-b229-07230eff18c5',\n",
      "  'label': 'Plugin',\n",
      "  'my_did': '27zKHqsiuVxG5KfBSXRbgg',\n",
      "  'raw_repr': {'accept': 'auto',\n",
      "               'connection_id': 'ad4c187a-8dbf-4f25-b229-07230eff18c5',\n",
      "               'created_at': '2020-06-02 10:34:29.845341Z',\n",
      "               'initiator': 'self',\n",
      "               'invitation_key': '9kKvaCRRT6NHXPTzf1MG5qz7CvAYvzdUjrWzg2ZBTmSZ',\n",
      "               'invitation_mode': 'once',\n",
      "               'my_did': '27zKHqsiuVxG5KfBSXRbgg',\n",
      "               'routing_state': 'none',\n",
      "               'state': 'active',\n",
      "               'their_did': 'Jj1uM1T1B8xknmoZ3S3fAA',\n",
      "               'their_label': 'Plugin',\n",
      "               'their_role': 'admin',\n",
      "               'updated_at': '2020-06-02 10:34:30.335701Z'},\n",
      "  'role': 'admin',\n",
      "  'state': 'active',\n",
      "  'their_did': 'Jj1uM1T1B8xknmoZ3S3fAA'},\n",
      " {'connection_id': '257ba1de-bea0-4501-8d07-29ab33d7c269',\n",
      "  'label': 'Plugin',\n",
      "  'my_did': 'MWMFdJCZkX738paNdnA6bD',\n",
      "  'raw_repr': {'accept': 'auto',\n",
      "               'connection_id': '257ba1de-bea0-4501-8d07-29ab33d7c269',\n",
      "               'created_at': '2020-06-02 10:49:22.335817Z',\n",
      "               'initiator': 'self',\n",
      "               'invitation_key': 'EN8nZHWmQhvPm6rSrmuWMeayBefwaDHQ9oppkaNLZ6hC',\n",
      "               'invitation_mode': 'once',\n",
      "               'my_did': 'MWMFdJCZkX738paNdnA6bD',\n",
      "               'routing_state': 'none',\n",
      "               'state': 'active',\n",
      "               'their_did': 'Q8ZS8BVMhzNZnypipRpagQ',\n",
      "               'their_label': 'Plugin',\n",
      "               'their_role': 'admin',\n",
      "               'updated_at': '2020-06-02 10:49:22.754309Z'},\n",
      "  'role': 'admin',\n",
      "  'state': 'active',\n",
      "  'their_did': 'Q8ZS8BVMhzNZnypipRpagQ'},\n",
      " {'connection_id': '2b6f3446-aa17-4c21-a1b3-7ec3947d7ad2',\n",
      "  'label': None,\n",
      "  'my_did': None,\n",
      "  'raw_repr': {'accept': 'auto',\n",
      "               'connection_id': '2b6f3446-aa17-4c21-a1b3-7ec3947d7ad2',\n",
      "               'created_at': '2020-06-02 10:33:59.874422Z',\n",
      "               'initiator': 'self',\n",
      "               'invitation_key': 'CDMxC8cYqdvWerABmnYYxUPVeCcBfdYrkFHmP1RNzho4',\n",
      "               'invitation_mode': 'once',\n",
      "               'routing_state': 'none',\n",
      "               'state': 'invitation',\n",
      "               'their_role': 'admin',\n",
      "               'updated_at': '2020-06-02 10:33:59.874422Z'},\n",
      "  'role': 'admin',\n",
      "  'state': 'pending',\n",
      "  'their_did': None}]\n"
     ]
    }
   ],
   "source": [
    "message = util.buildMessage(\n",
    "    \"https://github.com/hyperledger/aries-toolbox/tree/master/docs/admin-connections/0.1/get-list\",\n",
    ")\n",
    "connection_list = util.sendMessage(message, connections[0])\n",
    "pp.pprint(connection_list['connections'])"
   ]
  },
  {
   "cell_type": "code",
   "execution_count": 28,
   "metadata": {
    "scrolled": true
   },
   "outputs": [
    {
     "name": "stdout",
     "output_type": "stream",
     "text": [
      "{'accept': 'auto',\n",
      " 'connection_id': '431acade-ed1c-4084-83cd-4084bdbcc2c0',\n",
      " 'created_at': '2020-06-02 10:49:22.899715Z',\n",
      " 'initiator': 'external',\n",
      " 'invitation_key': 'GmEA8nDqukbRofaXDSuRCE2UyLA7heUzxnxdTHwKHnYm',\n",
      " 'invitation_mode': 'once',\n",
      " 'my_did': '4M6tANeLSqzAY6pU1x68Zg',\n",
      " 'request_id': '00624512-b504-4d07-a10e-8b56cecba699',\n",
      " 'routing_state': 'none',\n",
      " 'state': 'active',\n",
      " 'their_did': '2ZCYcLZsqGGrvxahUgHH2M',\n",
      " 'their_label': 'ConnectionBetweenAgents',\n",
      " 'updated_at': '2020-06-02 10:49:23.310499Z'}\n"
     ]
    }
   ],
   "source": [
    "message = util.buildMessage(\n",
    "    \"did:sov:BzCbsNYhMrjHiqZDTUASHg;spec/admin-connections/0.1/connection-get-list\"\n",
    ")\n",
    "connection_list = util.sendMessage(message, connections[1])\n",
    "pp.pprint(connection_list['results'][-2])"
   ]
  },
  {
   "cell_type": "code",
   "execution_count": 14,
   "metadata": {
    "scrolled": true
   },
   "outputs": [
    {
     "name": "stdout",
     "output_type": "stream",
     "text": [
      "{'@id': '55c8e14b-aa56-46ee-88c0-a9d6c051e67e',\n",
      " '@type': 'https://github.com/hyperledger/aries-toolbox/tree/master/docs/admin-basicmessage/0.1/sent',\n",
      " 'connection_id': '8b217d00-aaba-4db2-bff4-8b6616345048',\n",
      " 'message': {'connection_id': '8b217d00-aaba-4db2-bff4-8b6616345048',\n",
      "             'content': 'halo',\n",
      "             'message_id': 'bf04f0e0-595a-4f3b-aa2f-06d8907827c0',\n",
      "             'sent_time': '2020-06-02T10:49:23Z',\n",
      "             'state': 'sent'},\n",
      " '~thread': {'thid': '4b404045-a89e-4397-9d01-9415681cccf5'}}\n"
     ]
    }
   ],
   "source": [
    "message = util.buildMessage(\n",
    "    \"https://github.com/hyperledger/aries-toolbox/tree/master/docs/admin-basicmessage/0.1/send\",\n",
    "    connection_id=\"8b217d00-aaba-4db2-bff4-8b6616345048\",\n",
    "    content=\"halo\"\n",
    ")\n",
    "public_did = util.sendMessage(message, connections[0])\n",
    "pp.pprint(public_did)\n"
   ]
  },
  {
   "cell_type": "code",
   "execution_count": 15,
   "metadata": {},
   "outputs": [
    {
     "name": "stdout",
     "output_type": "stream",
     "text": [
      "{'@id': '89f3741c-66d6-4a29-b820-3e5291a6a96a',\n",
      " '@type': 'https://github.com/hyperledger/aries-toolbox/tree/master/docs/admin-basicmessage/0.1/messages',\n",
      " 'count': 2,\n",
      " 'messages': [{'connection_id': '951c7526-af69-45df-aad7-c9f2f4173b77',\n",
      "               'content': 'halo',\n",
      "               'message_id': 'bf04f0e0-595a-4f3b-aa2f-06d8907827c0',\n",
      "               'sent_time': '2020-06-02T10:49:23Z',\n",
      "               'state': 'recv'},\n",
      "              {'connection_id': '951c7526-af69-45df-aad7-c9f2f4173b77',\n",
      "               'content': 'halo',\n",
      "               'message_id': '7123a7dd-ed26-4162-b976-f6c688ad2369',\n",
      "               'sent_time': '2020-06-02T10:35:48Z',\n",
      "               'state': 'recv'}],\n",
      " 'offset': 0,\n",
      " 'remaining': 0,\n",
      " '~thread': {'thid': '0497985c-3454-4e7d-a662-16881d205309'}}\n"
     ]
    }
   ],
   "source": [
    "message = util.buildMessage(\n",
    "    \"https://github.com/hyperledger/aries-toolbox/tree/master/docs/admin-basicmessage/0.1/get\"\n",
    ")\n",
    "public_did = util.sendMessage(message, connections[1])\n",
    "pp.pprint(public_did)"
   ]
  }
 ],
 "metadata": {
  "kernelspec": {
   "display_name": "Python 3",
   "language": "python",
   "name": "python3"
  },
  "language_info": {
   "codemirror_mode": {
    "name": "ipython",
    "version": 3
   },
   "file_extension": ".py",
   "mimetype": "text/x-python",
   "name": "python",
   "nbconvert_exporter": "python",
   "pygments_lexer": "ipython3",
   "version": "3.7.5"
  }
 },
 "nbformat": 4,
 "nbformat_minor": 4
}
