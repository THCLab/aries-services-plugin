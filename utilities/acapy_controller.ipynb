{
 "cells": [
  {
   "cell_type": "code",
   "execution_count": 93,
   "metadata": {},
   "outputs": [],
   "source": [
    "import requests \n",
    "import json\n",
    "import pprint as pp # pretty print\n",
    "\n",
    "import aries_cloudagent.wallet.crypto as crypto\n",
    "import base64\n",
    "import base58\n",
    "import uuid\n",
    "import jupyter_util as util"
   ]
  },
  {
   "cell_type": "markdown",
   "metadata": {},
   "source": [
    "## Enter Invite Url:"
   ]
  },
  {
   "cell_type": "code",
   "execution_count": 94,
   "metadata": {},
   "outputs": [
    {
     "name": "stdout",
     "output_type": "stream",
     "text": [
      "http://agent1.localhost?c_i=eyJAdHlwZSI6ICJkaWQ6c292OkJ6Q2JzTlloTXJqSGlxWkRUVUFTSGc7c3BlYy9jb25uZWN0aW9ucy8xLjAvaW52aXRhdGlvbiIsICJAaWQiOiAiYzBhZWU1YTItNDk2Yy00NzRjLTk2ZGUtZDI1ZWVjZWY5YTdmIiwgImxhYmVsIjogIk1haW4gKGFkbWluKSIsICJzZXJ2aWNlRW5kcG9pbnQiOiAiaHR0cDovL2FnZW50MS5sb2NhbGhvc3QiLCAicmVjaXBpZW50S2V5cyI6IFsiN1pYR05Ic2NkYmJrWVY4NFc2VWJNZjJWbVJvQ2Nrc3pzU1ZUUjRRVXlIWTUiXX0=\n"
     ]
    }
   ],
   "source": [
    "agent1 = {}\n",
    "plugin = {}\n",
    "endpoint = \"http://localhost:8150/connections/create-admin-invitation-url\"\n",
    "adminInvitationResponse = requests.post(endpoint)\n",
    "adminInvitationResponse = adminInvitationResponse.text\n",
    "agent1['url'] = json.loads(adminInvitationResponse)['invitation_url']\n",
    "print(agent1['url'])"
   ]
  },
  {
   "cell_type": "code",
   "execution_count": 95,
   "metadata": {
    "scrolled": true
   },
   "outputs": [
    {
     "name": "stdout",
     "output_type": "stream",
     "text": [
      "http://agent2.localhost?c_i=eyJAdHlwZSI6ICJkaWQ6c292OkJ6Q2JzTlloTXJqSGlxWkRUVUFTSGc7c3BlYy9jb25uZWN0aW9ucy8xLjAvaW52aXRhdGlvbiIsICJAaWQiOiAiNzQxNjNkMDEtZDI1Ni00ZTg0LTlhOTUtYWIyOGM5ODQ3ZGEzIiwgImxhYmVsIjogIkNsaWVudCAoYWRtaW4pIiwgInNlcnZpY2VFbmRwb2ludCI6ICJodHRwOi8vYWdlbnQyLmxvY2FsaG9zdCIsICJyZWNpcGllbnRLZXlzIjogWyIzcVdtZktQNnQzbXdjRzJYakVCUjZOTVEyVjhUamZ2M2Z5NVZWUmdSd3VoRSJdfQ==\n"
     ]
    }
   ],
   "source": [
    "agent2 = {}\n",
    "endpoint = \"http://localhost:8151/connections/create-admin-invitation-url\"\n",
    "adminInvitationResponse = requests.post(endpoint)\n",
    "adminInvitationResponse = adminInvitationResponse.text\n",
    "agent2['url'] = json.loads(adminInvitationResponse)['invitation_url']\n",
    "print(agent2['url'])"
   ]
  },
  {
   "cell_type": "code",
   "execution_count": 96,
   "metadata": {
    "scrolled": true
   },
   "outputs": [
    {
     "name": "stdout",
     "output_type": "stream",
     "text": [
      "Decoded invitation:\n",
      "\n",
      "{'@id': '74163d01-d256-4e84-9a95-ab28c9847da3',\n",
      " '@type': 'did:sov:BzCbsNYhMrjHiqZDTUASHg;spec/connections/1.0/invitation',\n",
      " 'label': 'Client (admin)',\n",
      " 'recipientKeys': ['3qWmfKP6t3mwcG2XjEBR6NMQ2V8Tjfv3fy5VVRgRwuhE'],\n",
      " 'serviceEndpoint': 'http://agent2.localhost'}\n"
     ]
    }
   ],
   "source": [
    "agent1 = util.processInviteUrl(agent1['url'])\n",
    "agent2 = util.processInviteUrl(agent2['url'])\n",
    "print(\"Decoded invitation:\\n\")\n",
    "pp.pprint(agent2['invite'])"
   ]
  },
  {
   "cell_type": "code",
   "execution_count": 97,
   "metadata": {
    "scrolled": true
   },
   "outputs": [
    {
     "name": "stdout",
     "output_type": "stream",
     "text": [
      "Private key: \n",
      " 5tDJTFbwjtRnbXqbYuzH6yB69X3qp4Nx3qY5jxFXYHMHx5aUcDVQN9fveGroYc1AefkAbeWpfhkQWmiv76KLPe71\n",
      "\n",
      "Public key: \n",
      " EJFAZD6HsgkrvzMt5NBmSeNW6nbYtmxcadRL4YPesdiw\n"
     ]
    }
   ],
   "source": [
    "### Generating a did key using aries crypto module\n",
    "# Create a key pair with random seed \n",
    "# Order: 0 - public key, 1 - secret / pritvate key\n",
    "plugin['keypair'] = crypto.create_keypair()\n",
    "# it seems to me that did is an encoded sub string of public key\n",
    "# or maybe just some arbitrary random number\n",
    "did = plugin['keypair'][0][:16]\n",
    "# final version of our did\n",
    "plugin['did'] = base58.b58encode(did).decode(\"ascii\")\n",
    "# encoding keys to base58\n",
    "plugin['public_key_b58'] = \\\n",
    "    base58.b58encode(plugin['keypair'][0]).decode(\"ascii\")\n",
    "plugin['private_key_b58'] = \\\n",
    "    base58.b58encode(plugin['keypair'][1]).decode(\"ascii\")\n",
    "\n",
    "print(\"Private key: \\n\", plugin['private_key_b58'])\n",
    "print(\"\\nPublic key: \\n\", plugin['public_key_b58'])"
   ]
  },
  {
   "cell_type": "markdown",
   "metadata": {},
   "source": [
    "**Sending a connection request to acapy**"
   ]
  },
  {
   "cell_type": "code",
   "execution_count": 98,
   "metadata": {
    "scrolled": false
   },
   "outputs": [],
   "source": [
    "   \n",
    "agent1['connection'] = util.connectWithAcapy(agent1, plugin)\n",
    "agent2['connection'] = util.connectWithAcapy(agent2, plugin)\n",
    "# print(\"Decoded acapy response: \\n\")\n",
    "# pp.pprint(agent1['conn'])"
   ]
  },
  {
   "cell_type": "markdown",
   "metadata": {},
   "source": [
    "**Unpacking connection data embedded in the response**"
   ]
  },
  {
   "cell_type": "code",
   "execution_count": 99,
   "metadata": {
    "scrolled": true
   },
   "outputs": [],
   "source": [
    "agent1['connection_details'] = util.decodeConnectionDetails(agent1['connection'])\n",
    "agent2['connection_details'] = util.decodeConnectionDetails(agent2['connection'])"
   ]
  },
  {
   "cell_type": "markdown",
   "metadata": {},
   "source": [
    "**Adding the connection to connection list**"
   ]
  },
  {
   "cell_type": "code",
   "execution_count": 100,
   "metadata": {
    "scrolled": true
   },
   "outputs": [
    {
     "name": "stdout",
     "output_type": "stream",
     "text": [
      "[{'DIDDoc': {'@context': 'https://w3id.org/did/v1',\n",
      "             'authentication': [{'publicKey': 'did:sov:DgqBNsboNv24GsSfvrbFTr#1',\n",
      "                                 'type': 'Ed25519SignatureAuthentication2018'}],\n",
      "             'id': 'did:sov:DgqBNsboNv24GsSfvrbFTr',\n",
      "             'publicKey': [{'controller': 'did:sov:DgqBNsboNv24GsSfvrbFTr',\n",
      "                            'id': 'did:sov:DgqBNsboNv24GsSfvrbFTr#1',\n",
      "                            'publicKeyBase58': '7v44NW5sMhZ69zvfx252rhCV8yvp69pLZnfGFDf3D6bq',\n",
      "                            'type': 'Ed25519VerificationKey2018'}],\n",
      "             'service': [{'id': 'did:sov:DgqBNsboNv24GsSfvrbFTr;indy',\n",
      "                          'priority': 0,\n",
      "                          'recipientKeys': ['7v44NW5sMhZ69zvfx252rhCV8yvp69pLZnfGFDf3D6bq'],\n",
      "                          'serviceEndpoint': 'http://agent1.localhost',\n",
      "                          'type': 'IndyAgent'}]},\n",
      "  'label': 'Main (admin)',\n",
      "  'myKey': b'\\xf4;9\\xd7|\\xbcp\\xe3\\xc3\\xc4\\xde\\xe6\\xb6\\xfd\\x1a\\xab{\\x86\\x18\\xa2'\n",
      "           b'\\xd5\\xc66&\\xca\\xb1m\\x84\\xa1\\x92-\\xf6\\xc5\\x92\\xd1\\xe6'\n",
      "           b'\\xbf\\xc7\\x03\\xc9_\\x9cz\\x8e\\xac\\x1f\\x91xT\\x165j8e\\xef\\xc3U\\x8c\\xf5~'\n",
      "           b'\\x1e!\\xa9\\xb0'},\n",
      " {'DIDDoc': {'@context': 'https://w3id.org/did/v1',\n",
      "             'authentication': [{'publicKey': 'did:sov:BVx7BSg8jqp2j3kVXuGPRm#1',\n",
      "                                 'type': 'Ed25519SignatureAuthentication2018'}],\n",
      "             'id': 'did:sov:BVx7BSg8jqp2j3kVXuGPRm',\n",
      "             'publicKey': [{'controller': 'did:sov:BVx7BSg8jqp2j3kVXuGPRm',\n",
      "                            'id': 'did:sov:BVx7BSg8jqp2j3kVXuGPRm#1',\n",
      "                            'publicKeyBase58': '6iu7ayRVMYp1ivHsAMuriRKcEwox4wRgrPxoboPsBoYX',\n",
      "                            'type': 'Ed25519VerificationKey2018'}],\n",
      "             'service': [{'id': 'did:sov:BVx7BSg8jqp2j3kVXuGPRm;indy',\n",
      "                          'priority': 0,\n",
      "                          'recipientKeys': ['6iu7ayRVMYp1ivHsAMuriRKcEwox4wRgrPxoboPsBoYX'],\n",
      "                          'serviceEndpoint': 'http://agent2.localhost',\n",
      "                          'type': 'IndyAgent'}]},\n",
      "  'label': 'Client (admin)',\n",
      "  'myKey': b'\\xf4;9\\xd7|\\xbcp\\xe3\\xc3\\xc4\\xde\\xe6\\xb6\\xfd\\x1a\\xab{\\x86\\x18\\xa2'\n",
      "           b'\\xd5\\xc66&\\xca\\xb1m\\x84\\xa1\\x92-\\xf6\\xc5\\x92\\xd1\\xe6'\n",
      "           b'\\xbf\\xc7\\x03\\xc9_\\x9cz\\x8e\\xac\\x1f\\x91xT\\x165j8e\\xef\\xc3U\\x8c\\xf5~'\n",
      "           b'\\x1e!\\xa9\\xb0'}]\n"
     ]
    }
   ],
   "source": [
    "connections = [\n",
    "    {\n",
    "        \"label\": agent1['invite']['label'],\n",
    "        \"DIDDoc\": agent1['connection_details']['DIDDoc'],\n",
    "        \"myKey\": plugin['keypair'][1]\n",
    "    },\n",
    "    {\n",
    "        \"label\": agent2['invite']['label'],\n",
    "        \"DIDDoc\": agent2['connection_details']['DIDDoc'],\n",
    "        \"myKey\": plugin['keypair'][1]\n",
    "    },\n",
    "]\n",
    "\n",
    "pp.pprint(connections)"
   ]
  },
  {
   "cell_type": "markdown",
   "metadata": {},
   "source": [
    "### FEATURE DISCOVERY"
   ]
  },
  {
   "cell_type": "code",
   "execution_count": 101,
   "metadata": {},
   "outputs": [
    {
     "name": "stdout",
     "output_type": "stream",
     "text": [
      "{'@id': '24133cc7-dda2-4e68-90bf-bba1912bffbf',\n",
      " '@type': 'did:sov:BzCbsNYhMrjHiqZDTUASHg;spec/discover-features/1.0/disclose',\n",
      " 'protocols': [{'pid': 'https://didcomm.org/introduction-service/0.1'},\n",
      "               {'pid': 'did:sov:BzCbsNYhMrjHiqZDTUASHg;spec/action-menu/1.0',\n",
      "                'roles': ['provider']},\n",
      "               {'pid': 'https://didcomm.org/trust_ping/1.0'},\n",
      "               {'pid': 'https://didcomm.org/connections/1.0'},\n",
      "               {'pid': 'https://didcomm.org/issue-credential/1.0'},\n",
      "               {'pid': 'did:sov:BzCbsNYhMrjHiqZDTUASHg;spec/introduction-service/0.1'},\n",
      "               {'pid': 'https://didcomm.org/basicmessage/1.0'},\n",
      "               {'pid': 'did:sov:BzCbsNYhMrjHiqZDTUASHg;spec/notification/1.0'},\n",
      "               {'pid': 'did:sov:BzCbsNYhMrjHiqZDTUASHg;spec/trust_ping/1.0'},\n",
      "               {'pid': 'did:sov:BzCbsNYhMrjHiqZDTUASHg;spec/basicmessage/1.0'},\n",
      "               {'pid': 'did:sov:BzCbsNYhMrjHiqZDTUASHg;spec/connections/1.0'},\n",
      "               {'pid': 'did:sov:BzCbsNYhMrjHiqZDTUASHg;spec/routing/1.0'},\n",
      "               {'pid': 'https://didcomm.org/discover-features/1.0'},\n",
      "               {'pid': 'https://didcomm.org/present-proof/1.0'},\n",
      "               {'pid': 'did:sov:BzCbsNYhMrjHiqZDTUASHg;spec/acapy-plugin/1.0'},\n",
      "               {'pid': 'did:sov:BzCbsNYhMrjHiqZDTUASHg;spec/issue-credential/1.0'},\n",
      "               {'pid': 'did:sov:BzCbsNYhMrjHiqZDTUASHg;spec/present-proof/1.0'},\n",
      "               {'pid': 'https://didcomm.org/action-menu/1.0'},\n",
      "               {'pid': 'https://didcomm.org/routing/1.0'},\n",
      "               {'pid': 'did:sov:BzCbsNYhMrjHiqZDTUASHg;spec/discover-features/1.0'},\n",
      "               {'pid': 'https://didcomm.org/notification/1.0'}],\n",
      " '~thread': {'thid': '44e57306-0e9c-4cba-bc7b-454f00e76064'}}\n"
     ]
    }
   ],
   "source": [
    "message = util.buildMessage(\n",
    "    \"did:sov:BzCbsNYhMrjHiqZDTUASHg;spec/discover-features/1.0/query\",\n",
    "    query=\"*\"\n",
    ")\n",
    "response = util.sendMessage(message, connections[0])\n",
    "pp.pprint(response)"
   ]
  },
  {
   "cell_type": "code",
   "execution_count": 108,
   "metadata": {},
   "outputs": [
    {
     "name": "stdout",
     "output_type": "stream",
     "text": [
      "{'@id': 'c8265e38-8aca-4a68-a6fa-e9f7874191b8',\n",
      " '@type': 'did:sov:BzCbsNYhMrjHiqZDTUASHg;spec/acapy-plugin/1.0/add',\n",
      " 'hashid': '5fee3a425c19413ab7ab6d4546794def443d9e9ca109802c424abea7a6411498',\n",
      " 'payload': '{aaaaa}: bbdb',\n",
      " '~thread': {'thid': '87784949-e489-4b37-bbbe-48be6b759ca0'}}\n"
     ]
    }
   ],
   "source": [
    "message = util.buildMessage(\n",
    "    'did:sov:BzCbsNYhMrjHiqZDTUASHg;spec/acapy-plugin/1.0/add',\n",
    "    payload=\"{aaaaa}: bbdb\"\n",
    ")\n",
    "response = util.sendMessage(message, connections[0])\n",
    "pp.pprint(response)\n"
   ]
  },
  {
   "cell_type": "code",
   "execution_count": 110,
   "metadata": {},
   "outputs": [
    {
     "name": "stdout",
     "output_type": "stream",
     "text": [
      "{'@id': '56ac06d5-b7f8-4916-be46-fba16566a6f2',\n",
      " '@type': 'did:sov:BzCbsNYhMrjHiqZDTUASHg;spec/acapy-plugin/1.0/get',\n",
      " 'hashid': '5fee3a425c19413ab7ab6d4546794def443d9e9ca109802c424abea7a6411498',\n",
      " 'payload': '{aaaaa}: bbdb',\n",
      " '~thread': {'thid': '7134b2fb-ed0a-4cbd-970a-def408431162'}}\n"
     ]
    }
   ],
   "source": [
    "message = util.buildMessage(\n",
    "    'did:sov:BzCbsNYhMrjHiqZDTUASHg;spec/acapy-plugin/1.0/get',\n",
    "    hashid=\"5fee3a425c19413ab7ab6d4546794def443d9e9ca109802c424abea7a6411498\"\n",
    ")\n",
    "response = util.sendMessage(message, connections[0])\n",
    "pp.pprint(response)\n"
   ]
  },
  {
   "cell_type": "code",
   "execution_count": 103,
   "metadata": {},
   "outputs": [
    {
     "name": "stdout",
     "output_type": "stream",
     "text": [
      "{'@id': 'ad2d2052-0e99-497a-b029-538b2526ae07',\n",
      " '@type': 'did:sov:BzCbsNYhMrjHiqZDTUASHg;spec/notification/1.0/problem-report',\n",
      " 'explain-ltxt': 'Unrecognized message type '\n",
      "                 'https://github.com/hyperledger/aries-toolbox/tree/master/docs/admin-invitations/0.1/create',\n",
      " '~thread': {'thid': 'f123c883-c0bd-4989-8a5d-a97d1b8bae68'}}\n"
     ]
    }
   ],
   "source": [
    "message = util.buildMessage(\n",
    "    'https://github.com/hyperledger/aries-toolbox/tree/master/docs/admin-invitations/0.1/create',\n",
    "    label=\"Agent1ToAgent2\",\n",
    "    alias=\"Agent1ToAgent2\",\n",
    "    auto_accept=True \n",
    ")\n",
    "response = util.sendMessage(message, connections[0])\n",
    "pp.pprint(response)"
   ]
  },
  {
   "cell_type": "code",
   "execution_count": 104,
   "metadata": {
    "scrolled": true
   },
   "outputs": [
    {
     "ename": "KeyError",
     "evalue": "'invitation_url'",
     "output_type": "error",
     "traceback": [
      "\u001b[0;31m---------------------------------------------------------------------------\u001b[0m",
      "\u001b[0;31mKeyError\u001b[0m                                  Traceback (most recent call last)",
      "\u001b[0;32m<ipython-input-104-5c18c8d22460>\u001b[0m in \u001b[0;36m<module>\u001b[0;34m\u001b[0m\n\u001b[1;32m      2\u001b[0m     \u001b[0;34m\"did:sov:BzCbsNYhMrjHiqZDTUASHg;spec/admin-connections/0.1/receive-invitation\"\u001b[0m\u001b[0;34m,\u001b[0m\u001b[0;34m\u001b[0m\u001b[0;34m\u001b[0m\u001b[0m\n\u001b[1;32m      3\u001b[0m     \u001b[0maccept\u001b[0m\u001b[0;34m=\u001b[0m\u001b[0;34m'none'\u001b[0m\u001b[0;34m,\u001b[0m\u001b[0;34m\u001b[0m\u001b[0;34m\u001b[0m\u001b[0m\n\u001b[0;32m----> 4\u001b[0;31m     \u001b[0minvitation\u001b[0m\u001b[0;34m=\u001b[0m\u001b[0mresponse\u001b[0m\u001b[0;34m[\u001b[0m\u001b[0;34m'invitation_url'\u001b[0m\u001b[0;34m]\u001b[0m\u001b[0;34m,\u001b[0m\u001b[0;34m\u001b[0m\u001b[0;34m\u001b[0m\u001b[0m\n\u001b[0m\u001b[1;32m      5\u001b[0m )\n\u001b[1;32m      6\u001b[0m \u001b[0mresponsee\u001b[0m \u001b[0;34m=\u001b[0m \u001b[0mutil\u001b[0m\u001b[0;34m.\u001b[0m\u001b[0msendMessage\u001b[0m\u001b[0;34m(\u001b[0m\u001b[0mmessage\u001b[0m\u001b[0;34m,\u001b[0m \u001b[0mconnections\u001b[0m\u001b[0;34m[\u001b[0m\u001b[0;36m1\u001b[0m\u001b[0;34m]\u001b[0m\u001b[0;34m)\u001b[0m\u001b[0;34m\u001b[0m\u001b[0;34m\u001b[0m\u001b[0m\n",
      "\u001b[0;31mKeyError\u001b[0m: 'invitation_url'"
     ]
    }
   ],
   "source": [
    "message = util.buildMessage(\n",
    "    \"did:sov:BzCbsNYhMrjHiqZDTUASHg;spec/admin-connections/0.1/receive-invitation\",\n",
    "    accept='none',\n",
    "    invitation=response['invitation_url'],\n",
    ")\n",
    "responsee = util.sendMessage(message, connections[1])\n",
    "pp.pprint(responsee)\n"
   ]
  },
  {
   "cell_type": "code",
   "execution_count": null,
   "metadata": {
    "scrolled": true
   },
   "outputs": [],
   "source": [
    "message = util.buildMessage(\n",
    "    \"https://github.com/hyperledger/aries-toolbox/tree/master/docs/admin-connections/0.1/get-list\",\n",
    ")\n",
    "responseee = util.sendMessage(message, connections[1])\n",
    "pp.pprint(responseee['connections'])"
   ]
  },
  {
   "cell_type": "code",
   "execution_count": null,
   "metadata": {},
   "outputs": [],
   "source": [
    "message = util.buildMessage(\n",
    "    \"did:sov:BzCbsNYhMrjHiqZDTUASHg;spec/admin-dids/0.1/get-list-dids\"\n",
    ")\n",
    "list_dids = util.sendMessage(message, connections[0])\n",
    "pp.pprint(list_dids)"
   ]
  },
  {
   "cell_type": "code",
   "execution_count": null,
   "metadata": {
    "scrolled": true
   },
   "outputs": [],
   "source": [
    "message = util.buildMessage(\n",
    "    \"did:sov:BzCbsNYhMrjHiqZDTUASHg;spec/admin-dids/0.1/get-public-did\"\n",
    ")\n",
    "public_did = util.sendMessage(message, connections[0])\n",
    "pp.pprint(public_did)\n"
   ]
  },
  {
   "cell_type": "code",
   "execution_count": null,
   "metadata": {},
   "outputs": [],
   "source": [
    "message = util.buildMessage(\n",
    "    \"did:sov:BzCbsNYhMrjHiqZDTUASHg;spec/admin-schema-exchange/1.0/send\",\n",
    "    connection_id=\"d352f12e-cb92-4046-859a-4f05f4e6b40e\",\n",
    "    content=\"Test\"\n",
    ")\n",
    "public_did = util.sendMessage(message, connections[0])\n",
    "pp.pprint(public_did)\n"
   ]
  },
  {
   "cell_type": "code",
   "execution_count": null,
   "metadata": {},
   "outputs": [],
   "source": [
    "message = util.buildMessage(\n",
    "    \"did:sov:BzCbsNYhMrjHiqZDTUASHg;spec/admin-schema-exchange/1.0/get\"\n",
    ")\n",
    "public_did = util.sendMessage(message, connections[0])\n",
    "pp.pprint(public_did)\n",
    "# \"6c6642dc-0372-4414-b5e8-98e5f4a58075\""
   ]
  },
  {
   "cell_type": "code",
   "execution_count": null,
   "metadata": {},
   "outputs": [],
   "source": []
  }
 ],
 "metadata": {
  "kernelspec": {
   "display_name": "Python 3",
   "language": "python",
   "name": "python3"
  },
  "language_info": {
   "codemirror_mode": {
    "name": "ipython",
    "version": 3
   },
   "file_extension": ".py",
   "mimetype": "text/x-python",
   "name": "python",
   "nbconvert_exporter": "python",
   "pygments_lexer": "ipython3",
   "version": "3.7.5"
  }
 },
 "nbformat": 4,
 "nbformat_minor": 4
}
