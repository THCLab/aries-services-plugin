{
 "cells": [
  {
   "cell_type": "code",
   "execution_count": null,
   "metadata": {},
   "outputs": [],
   "source": [
    "## acapy plugin add schema\n",
    "message = util.buildMessage(\n",
    "    'did:sov:BzCbsNYhMrjHiqZDTUASHg;spec/acapy-plugin/1.0/add',\n",
    "    payload=\"{aaaaa}: bbdb\"\n",
    ")\n",
    "response = util.sendMessage(message, connections[0])\n",
    "pp.pprint(response)\n"
   ]
  },
  {
   "cell_type": "code",
   "execution_count": null,
   "metadata": {},
   "outputs": [],
   "source": [
    "## acapy plugin get schema\n",
    "message = util.buildMessage(\n",
    "    'did:sov:BzCbsNYhMrjHiqZDTUASHg;spec/acapy-plugin/1.0/get',\n",
    "    hashid=\"5fee3a425c19413ab7ab6d4546794def443d9e9ca109802c424abea7a6411498\"\n",
    ")\n",
    "response = util.sendMessage(message, connections[0])\n",
    "pp.pprint(response)\n"
   ]
  },
  {
   "cell_type": "code",
   "execution_count": null,
   "metadata": {},
   "outputs": [],
   "source": [
    "## Get all messages\n",
    "message = util.buildMessage(\n",
    "    \"https://github.com/hyperledger/aries-toolbox/tree/master/docs/admin-basicmessage/0.1/get\"\n",
    ")\n",
    "public_did = util.sendMessage(message, connections[1])\n",
    "pp.pprint(public_did)"
   ]
  },
  {
   "cell_type": "code",
   "execution_count": null,
   "metadata": {},
   "outputs": [],
   "source": [
    "## Send basic message to connection id\n",
    "message = util.buildMessage(\n",
    "    \"https://github.com/hyperledger/aries-toolbox/tree/master/docs/admin-basicmessage/0.1/send\",\n",
    "    connection_id=\"aab9c0f7-647f-4c0e-a2b6-b9b8a0cf174f\",\n",
    "    content=\"test test\"\n",
    ")\n",
    "public_did = util.sendMessage(message, connections[0])\n",
    "pp.pprint(public_did)"
   ]
  },
  {
   "cell_type": "code",
   "execution_count": null,
   "metadata": {},
   "outputs": [],
   "source": [
    "## Create invitation\n",
    "message = util.buildMessage(\n",
    "    'did:sov:BzCbsNYhMrjHiqZDTUASHg;spec/admin-connections/0.1/create-invitation',\n",
    "    label=\"aaaa\",\n",
    "    auto_accept='auto',\n",
    "    alias=\"agent1ToAgent2\"\n",
    ")\n",
    "createInvitation = util.sendMessage(message, connections[0])\n",
    "pp.pprint(createInvitation)"
   ]
  },
  {
   "cell_type": "code",
   "execution_count": null,
   "metadata": {},
   "outputs": [],
   "source": [
    "## Receive invitation\n",
    "message = util.buildMessage(\n",
    "    \"https://github.com/hyperledger/aries-toolbox/tree/master/docs/admin-connections/0.1/receive-invitation\",\n",
    "    auto_accept=True,\n",
    "    invitation=createInvitation['invitation_url'],\n",
    ")\n",
    "receiveInvitation = util.sendMessage(message, connections[1])\n",
    "pp.pprint(receiveInvitation)\n"
   ]
  },
  {
   "cell_type": "code",
   "execution_count": null,
   "metadata": {},
   "outputs": [],
   "source": [
    "## Get list of connections\n",
    "message = util.buildMessage(\n",
    "    \"https://github.com/hyperledger/aries-toolbox/tree/master/docs/admin-connections/0.1/get-list\",\n",
    ")\n",
    "responseee = util.sendMessage(message, connections[0])\n",
    "pp.pprint(responseee['connections'])\n",
    "## Same\n",
    "message = util.buildMessage(\n",
    "    \"did:sov:BzCbsNYhMrjHiqZDTUASHg;spec/admin-connections/0.1/connection-get-list\",\n",
    "    connection_id=\"bb8c2c5a-7396-48da-998f-ab78b4783bd8\"\n",
    ")\n",
    "list_dids = util.sendMessage(message, connections[0])\n",
    "pp.pprint(list_dids)"
   ]
  },
  {
   "cell_type": "code",
   "execution_count": null,
   "metadata": {},
   "outputs": [],
   "source": [
    "## Get public did\n",
    "message = util.buildMessage(\n",
    "    \"did:sov:BzCbsNYhMrjHiqZDTUASHg;spec/admin-dids/0.1/get-public-did\"\n",
    ")\n",
    "public_did = util.sendMessage(message, connections[0])\n",
    "pp.pprint(public_did)"
   ]
  }
 ],
 "metadata": {
  "kernelspec": {
   "display_name": "Python 3",
   "language": "python",
   "name": "python3"
  },
  "language_info": {
   "codemirror_mode": {
    "name": "ipython",
    "version": 3
   },
   "file_extension": ".py",
   "mimetype": "text/x-python",
   "name": "python",
   "nbconvert_exporter": "python",
   "pygments_lexer": "ipython3",
   "version": "3.7.5"
  }
 },
 "nbformat": 4,
 "nbformat_minor": 4
}
