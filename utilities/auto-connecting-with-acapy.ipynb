{
 "cells": [
  {
   "cell_type": "code",
   "execution_count": 50,
   "metadata": {},
   "outputs": [],
   "source": [
    "import requests \n",
    "import re as regex\n",
    "import json\n",
    "import pprint as pp # pretty print\n",
    "\n",
    "import aries_cloudagent.wallet.crypto as crypto\n",
    "import base64\n",
    "import base58\n",
    "import uuid\n",
    "import jupyter_util as util"
   ]
  },
  {
   "cell_type": "markdown",
   "metadata": {},
   "source": [
    "## Enter Invite Url:"
   ]
  },
  {
   "cell_type": "code",
   "execution_count": 51,
   "metadata": {},
   "outputs": [
    {
     "name": "stdout",
     "output_type": "stream",
     "text": [
      "http://agent1.localhost?c_i=eyJAdHlwZSI6ICJkaWQ6c292OkJ6Q2JzTlloTXJqSGlxWkRUVUFTSGc7c3BlYy9jb25uZWN0aW9ucy8xLjAvaW52aXRhdGlvbiIsICJAaWQiOiAiYzJmOGMxNzgtMzFkZS00NGZlLThjZmQtMDJhNTkwNjBmZDAyIiwgInNlcnZpY2VFbmRwb2ludCI6ICJodHRwOi8vYWdlbnQxLmxvY2FsaG9zdCIsICJyZWNpcGllbnRLZXlzIjogWyI0WVBvNUFzeEZWSjFxckFEWmlvcXZIUlhlbnpGVk1xamNpcnR0djlRVW94ZyJdLCAibGFiZWwiOiAiTWFpbiAoYWRtaW4pIn0=\n"
     ]
    }
   ],
   "source": [
    "agent1 = {}\n",
    "plugin = {}\n",
    "endpoint = \"http://localhost:8150/connections/create-admin-invitation-url\"\n",
    "adminInvitationResponse = requests.post(endpoint)\n",
    "adminInvitationResponse = adminInvitationResponse.text\n",
    "agent1['url'] = json.loads(adminInvitationResponse)['invitation_url']\n",
    "print(agent1['url'])"
   ]
  },
  {
   "cell_type": "code",
   "execution_count": 52,
   "metadata": {},
   "outputs": [
    {
     "name": "stdout",
     "output_type": "stream",
     "text": [
      "http://agent2.localhost?c_i=eyJAdHlwZSI6ICJkaWQ6c292OkJ6Q2JzTlloTXJqSGlxWkRUVUFTSGc7c3BlYy9jb25uZWN0aW9ucy8xLjAvaW52aXRhdGlvbiIsICJAaWQiOiAiNTNkY2RiNWMtYTA4NS00ZGFkLThkNjUtNTc4ZWQ4NzhjMmU3IiwgInNlcnZpY2VFbmRwb2ludCI6ICJodHRwOi8vYWdlbnQyLmxvY2FsaG9zdCIsICJyZWNpcGllbnRLZXlzIjogWyJDTEFRNFRaTTRmTEs2UlpjZ1ZjaFY0ODhES2c1dEsyOU5wZ0pHcnBiNFRUVyJdLCAibGFiZWwiOiAiQ2xpZW50IChhZG1pbikifQ==\n"
     ]
    }
   ],
   "source": [
    "agent2 = {}\n",
    "endpoint = \"http://localhost:8151/connections/create-admin-invitation-url\"\n",
    "adminInvitationResponse = requests.post(endpoint)\n",
    "adminInvitationResponse = adminInvitationResponse.text\n",
    "agent2['url'] = json.loads(adminInvitationResponse)['invitation_url']\n",
    "print(agent2['url'])"
   ]
  },
  {
   "cell_type": "code",
   "execution_count": 53,
   "metadata": {
    "scrolled": true
   },
   "outputs": [
    {
     "name": "stdout",
     "output_type": "stream",
     "text": [
      "Decoded invitation:\n",
      "\n",
      "{'@id': 'c2f8c178-31de-44fe-8cfd-02a59060fd02',\n",
      " '@type': 'did:sov:BzCbsNYhMrjHiqZDTUASHg;spec/connections/1.0/invitation',\n",
      " 'label': 'Main (admin)',\n",
      " 'recipientKeys': ['4YPo5AsxFVJ1qrADZioqvHRXenzFVMqjcirttv9QUoxg'],\n",
      " 'serviceEndpoint': 'http://agent1.localhost'}\n"
     ]
    }
   ],
   "source": [
    "# Process invite url, delete white spaces\n",
    "agent1['url'] = agent1['url'].replace(\" \", \"\")\n",
    "# Regex(substitution) to extract only the invite string from url\n",
    "agent1['invite_string_b64'] = regex.sub(\n",
    "           r\".*(c\\_i\\=)\", \n",
    "           r\"\", \n",
    "           agent1['url'])\n",
    "# Decoding invite string using base64 decoder\n",
    "agent1['invite_string'] = base64.b64decode(agent1['invite_string_b64'])\n",
    "# Converting our invite json string into a dictionary \n",
    "agent1['invite'] = json.loads(agent1['invite_string'])\n",
    "\n",
    "print(\"Decoded invitation:\\n\")\n",
    "pp.pprint(agent1['invite'])"
   ]
  },
  {
   "cell_type": "code",
   "execution_count": 54,
   "metadata": {},
   "outputs": [
    {
     "name": "stdout",
     "output_type": "stream",
     "text": [
      "Private key: \n",
      " 52srtqQP3RKmNLKSbdyuzZQ8evddbTBgRYt8mB6kw5DjoRBrJSm6GJkqtE2u3xSe2t1mKhUNWa8mMet3QcwDd46q\n",
      "\n",
      "Public key: \n",
      " 8JV21jX3S8GEmovotdSVQtc5khsckbn6K942zhpXv6Zb\n"
     ]
    }
   ],
   "source": [
    "### Generating a did key using aries crypto module\n",
    "# Create a key pair with random seed \n",
    "# Order: 0 - public key, 1 - secret / pritvate key\n",
    "plugin['keypair'] = crypto.create_keypair()\n",
    "# it seems to me that did is an encoded sub string of public key\n",
    "# or maybe just some arbitrary random number\n",
    "did = plugin['keypair'][0][:16]\n",
    "# final version of our did\n",
    "plugin['did'] = base58.b58encode(did).decode(\"ascii\")\n",
    "# encoding keys to base58\n",
    "plugin['public_key_b58'] = \\\n",
    "    base58.b58encode(plugin['keypair'][0]).decode(\"ascii\")\n",
    "plugin['private_key_b58'] = \\\n",
    "    base58.b58encode(plugin['keypair'][1]).decode(\"ascii\")\n",
    "\n",
    "print(\"Private key: \\n\", plugin['private_key_b58'])\n",
    "print(\"\\nPublic key: \\n\", plugin['public_key_b58'])"
   ]
  },
  {
   "cell_type": "markdown",
   "metadata": {},
   "source": [
    "**Sending a connection request to acapy**"
   ]
  },
  {
   "cell_type": "code",
   "execution_count": 55,
   "metadata": {},
   "outputs": [],
   "source": [
    "uniqueId = str(uuid.uuid4())\n",
    "# print(uniqueId)\n",
    "\n",
    "# our request body\n",
    "message = {\n",
    "        \"@id\":  uniqueId,\n",
    "        \"~transport\": {\n",
    "          \"return_route\": \"all\"\n",
    "        },\n",
    "        \"@type\": \"did:sov:BzCbsNYhMrjHiqZDTUASHg;spec/connections/1.0/request\",\n",
    "        \"label\": \"Plugin\",\n",
    "        \"connection\": {\n",
    "          \"DID\": plugin['did'],\n",
    "          \"DIDDoc\": {\n",
    "            \"@context\": \"https://w3id.org/did/v1\",\n",
    "            \"id\": plugin['did'],\n",
    "            \"publicKey\": [{\n",
    "              \"id\": plugin['did'] + \"#keys-1\",\n",
    "              \"type\": \"Ed25519VerificationKey2018\",\n",
    "              \"controller\": plugin['did'],\n",
    "              \"publicKeyBase58\": plugin['public_key_b58']\n",
    "            }],\n",
    "            \"service\": [{\n",
    "              \"id\": plugin['did'] + \";indy\",\n",
    "              \"type\": \"IndyAgent\",\n",
    "              \"recipientKeys\": plugin['public_key_b58'],\n",
    "              \"serviceEndpoint\": \"\"\n",
    "            }]\n",
    "          }\n",
    "        }\n",
    "      }"
   ]
  },
  {
   "cell_type": "markdown",
   "metadata": {},
   "source": [
    "**Encoding/packing the request**"
   ]
  },
  {
   "cell_type": "code",
   "execution_count": 56,
   "metadata": {},
   "outputs": [],
   "source": [
    "# encoding it with aries crypto function using the key that was\n",
    "# given to us by aca-py in recipientKeys\n",
    "decodedAcapyKey = base58.b58decode(agent1['invite']['recipientKeys'][0])\n",
    "ourPrivateKey = plugin['keypair'][1]\n",
    "# print(plugin['did'])\n",
    "encodedMessage = \\\n",
    "    crypto.encode_pack_message(json.dumps(message), [decodedAcapyKey], ourPrivateKey)\n",
    "\n",
    "encodedMessage = encodedMessage.decode(\"ascii\")"
   ]
  },
  {
   "cell_type": "code",
   "execution_count": 57,
   "metadata": {},
   "outputs": [],
   "source": [
    "connectionRequestResponse = requests.post(agent1['invite']['serviceEndpoint'], data=encodedMessage)\n",
    "assert connectionRequestResponse.text != \"\", \"invalid response from acapy\""
   ]
  },
  {
   "cell_type": "markdown",
   "metadata": {},
   "source": [
    "**Response from aca-py**"
   ]
  },
  {
   "cell_type": "code",
   "execution_count": 58,
   "metadata": {
    "scrolled": true
   },
   "outputs": [
    {
     "name": "stdout",
     "output_type": "stream",
     "text": [
      "Decoded acapy response: \n",
      "\n",
      "('{\"@type\": \"did:sov:BzCbsNYhMrjHiqZDTUASHg;spec/connections/1.0/response\", '\n",
      " '\"@id\": \"19c41eba-067e-48f5-a056-7193e4f75282\", \"~thread\": {\"thid\": '\n",
      " '\"9fcad62c-6939-4aca-82b1-ad0d0e50ca11\"}, \"connection~sig\": {\"@type\": '\n",
      " '\"did:sov:BzCbsNYhMrjHiqZDTUASHg;spec/signature/1.0/ed25519Sha512_single\", '\n",
      " '\"signature\": '\n",
      " '\"3KQC09vdrQJzzaUB2A2OxRV_mqP2yGah1xcuLNBYGgSFkE5CCwak9tb3ceqUUudt1iQYruRWBHyHGpSxGPewCw==\", '\n",
      " '\"sig_data\": '\n",
      " '\"AAAAAF7Ho817IkRJRCI6ICI4TnlSQ1BDVkZQRzdadVdHMzgxNkZ3IiwgIkRJRERvYyI6IHsiQGNvbnRleHQiOiAiaHR0cHM6Ly93M2lkLm9yZy9kaWQvdjEiLCAiaWQiOiAiZGlkOnNvdjo4TnlSQ1BDVkZQRzdadVdHMzgxNkZ3IiwgInB1YmxpY0tleSI6IFt7ImlkIjogImRpZDpzb3Y6OE55UkNQQ1ZGUEc3WnVXRzM4MTZGdyMxIiwgInR5cGUiOiAiRWQyNTUxOVZlcmlmaWNhdGlvbktleTIwMTgiLCAiY29udHJvbGxlciI6ICJkaWQ6c292OjhOeVJDUENWRlBHN1p1V0czODE2RnciLCAicHVibGljS2V5QmFzZTU4IjogIjUyRzRZUWpnMlYxVmVvNUJMRzRVa2FpYkhSYVNZdW9WSEc0Ujl4UDJDOEU4In1dLCAiYXV0aGVudGljYXRpb24iOiBbeyJ0eXBlIjogIkVkMjU1MTlTaWduYXR1cmVBdXRoZW50aWNhdGlvbjIwMTgiLCAicHVibGljS2V5IjogImRpZDpzb3Y6OE55UkNQQ1ZGUEc3WnVXRzM4MTZGdyMxIn1dLCAic2VydmljZSI6IFt7ImlkIjogImRpZDpzb3Y6OE55UkNQQ1ZGUEc3WnVXRzM4MTZGdztpbmR5IiwgInR5cGUiOiAiSW5keUFnZW50IiwgInByaW9yaXR5IjogMCwgInJlY2lwaWVudEtleXMiOiBbIjUyRzRZUWpnMlYxVmVvNUJMRzRVa2FpYkhSYVNZdW9WSEc0Ujl4UDJDOEU4Il0sICJzZXJ2aWNlRW5kcG9pbnQiOiAiaHR0cDovL2FnZW50MS5sb2NhbGhvc3QifV19fQ==\", '\n",
      " '\"signer\": \"4YPo5AsxFVJ1qrADZioqvHRXenzFVMqjcirttv9QUoxg\"}}',\n",
      " '4YPo5AsxFVJ1qrADZioqvHRXenzFVMqjcirttv9QUoxg',\n",
      " '8JV21jX3S8GEmovotdSVQtc5khsckbn6K942zhpXv6Zb')\n"
     ]
    }
   ],
   "source": [
    "   \n",
    "connectionRequestResponseUnpacked = \\\n",
    "    util.unpackMessage(connectionRequestResponse.text, plugin['keypair'][1])\n",
    "\n",
    "connectionRequestResponseDict = json.loads(connectionRequestResponseUnpacked[0])\n",
    "\n",
    "print(\"Decoded acapy response: \\n\")\n",
    "pp.pprint(connectionRequestResponseUnpacked)"
   ]
  },
  {
   "cell_type": "markdown",
   "metadata": {},
   "source": [
    "**Unpacking connection data embedded in the response**"
   ]
  },
  {
   "cell_type": "code",
   "execution_count": 59,
   "metadata": {
    "scrolled": true
   },
   "outputs": [
    {
     "name": "stdout",
     "output_type": "stream",
     "text": [
      "{'DID': '8NyRCPCVFPG7ZuWG3816Fw',\n",
      " 'DIDDoc': {'@context': 'https://w3id.org/did/v1',\n",
      "            'authentication': [{'publicKey': 'did:sov:8NyRCPCVFPG7ZuWG3816Fw#1',\n",
      "                                'type': 'Ed25519SignatureAuthentication2018'}],\n",
      "            'id': 'did:sov:8NyRCPCVFPG7ZuWG3816Fw',\n",
      "            'publicKey': [{'controller': 'did:sov:8NyRCPCVFPG7ZuWG3816Fw',\n",
      "                           'id': 'did:sov:8NyRCPCVFPG7ZuWG3816Fw#1',\n",
      "                           'publicKeyBase58': '52G4YQjg2V1Veo5BLG4UkaibHRaSYuoVHG4R9xP2C8E8',\n",
      "                           'type': 'Ed25519VerificationKey2018'}],\n",
      "            'service': [{'id': 'did:sov:8NyRCPCVFPG7ZuWG3816Fw;indy',\n",
      "                         'priority': 0,\n",
      "                         'recipientKeys': ['52G4YQjg2V1Veo5BLG4UkaibHRaSYuoVHG4R9xP2C8E8'],\n",
      "                         'serviceEndpoint': 'http://agent1.localhost',\n",
      "                         'type': 'IndyAgent'}]}}\n"
     ]
    }
   ],
   "source": [
    "sig_data_raw = connectionRequestResponseDict['connection~sig']['sig_data']\n",
    "#  (this is a hack)replacing artifacts that sometimes happen\n",
    "sig_data_raw = sig_data_raw.replace(\"-\", \"1\")\n",
    "sig_data_raw = sig_data_raw.replace(\"_\", \"1\")\n",
    "\n",
    "sig_data_raw = base64.b64decode(sig_data_raw)\n",
    "# avoid first 8 characters as they are a time signature\n",
    "sig_data_raw = sig_data_raw[8:]\n",
    "sig_data_raw = sig_data_raw.decode('ascii')\n",
    "\n",
    "sig_data = json.loads(sig_data_raw)\n",
    "pp.pprint(sig_data)"
   ]
  },
  {
   "cell_type": "markdown",
   "metadata": {},
   "source": [
    "**Adding the connection to connection list**"
   ]
  },
  {
   "cell_type": "code",
   "execution_count": 60,
   "metadata": {
    "scrolled": true
   },
   "outputs": [
    {
     "name": "stdout",
     "output_type": "stream",
     "text": [
      "[{'DIDDoc': {'@context': 'https://w3id.org/did/v1',\n",
      "             'authentication': [{'publicKey': 'did:sov:8NyRCPCVFPG7ZuWG3816Fw#1',\n",
      "                                 'type': 'Ed25519SignatureAuthentication2018'}],\n",
      "             'id': 'did:sov:8NyRCPCVFPG7ZuWG3816Fw',\n",
      "             'publicKey': [{'controller': 'did:sov:8NyRCPCVFPG7ZuWG3816Fw',\n",
      "                            'id': 'did:sov:8NyRCPCVFPG7ZuWG3816Fw#1',\n",
      "                            'publicKeyBase58': '52G4YQjg2V1Veo5BLG4UkaibHRaSYuoVHG4R9xP2C8E8',\n",
      "                            'type': 'Ed25519VerificationKey2018'}],\n",
      "             'service': [{'id': 'did:sov:8NyRCPCVFPG7ZuWG3816Fw;indy',\n",
      "                          'priority': 0,\n",
      "                          'recipientKeys': ['52G4YQjg2V1Veo5BLG4UkaibHRaSYuoVHG4R9xP2C8E8'],\n",
      "                          'serviceEndpoint': 'http://agent1.localhost',\n",
      "                          'type': 'IndyAgent'}]},\n",
      "  'label': 'Main (admin)',\n",
      "  'myKey': b'\\xc9\\xaf\\xc2|\\xb3\\x19y_\\xfdI\\xb5\\xa6\\x84L\\xff\\x960O\\xc5*h\\x9cFU'\n",
      "           b'\\xa5\\xf5Yb\\xbeO\\xe8\\xbdl|\\\\\\x97\\x1f\\xa34\"\\x98\\nS\\xc2'\n",
      "           b'\\x98\\x85\\xc2\\xcb\\xfdn\\xcf\\x12\\xe9H;\\xef\\x87\\xb5^\\x15'\n",
      "           b'\\x92\\x0e\\x93\\x1e'}]\n"
     ]
    }
   ],
   "source": [
    "connections = [\n",
    "    {\n",
    "        \"label\": agent1['invite']['label'],\n",
    "        \"DIDDoc\": sig_data['DIDDoc'],\n",
    "        \"myKey\": plugin['keypair'][1]\n",
    "    }\n",
    "]\n",
    "\n",
    "pp.pprint(connections)"
   ]
  },
  {
   "cell_type": "markdown",
   "metadata": {},
   "source": [
    "### FEATURE DISCOVERY"
   ]
  },
  {
   "cell_type": "code",
   "execution_count": 61,
   "metadata": {
    "scrolled": true
   },
   "outputs": [
    {
     "name": "stdout",
     "output_type": "stream",
     "text": [
      "{'@id': '23f61f7f-9350-44f3-a613-d0fe147b01d1',\n",
      " '@type': 'did:sov:BzCbsNYhMrjHiqZDTUASHg;spec/discover-features/1.0/disclose',\n",
      " 'protocols': [{'pid': 'did:sov:BzCbsNYhMrjHiqZDTUASHg;spec/issue-credential/1.0'},\n",
      "               {'pid': 'https://didcomm.org/action-menu/1.0'},\n",
      "               {'pid': 'did:sov:BzCbsNYhMrjHiqZDTUASHg;spec/present-proof/1.0'},\n",
      "               {'pid': 'https://didcomm.org/basicmessage/1.0'},\n",
      "               {'pid': 'did:sov:BzCbsNYhMrjHiqZDTUASHg;spec/admin-dids/0.1'},\n",
      "               {'pid': 'https://github.com/hyperledger/aries-toolbox/tree/master/docs/admin-taa/0.1'},\n",
      "               {'pid': 'did:sov:BzCbsNYhMrjHiqZDTUASHg;spec/credential-presentation/0.1'},\n",
      "               {'pid': 'https://didcomm.org/connections/1.0'},\n",
      "               {'pid': 'did:sov:BzCbsNYhMrjHiqZDTUASHg;spec/admin-static-connections/0.1'},\n",
      "               {'pid': 'https://didcomm.org/credential-presentation/0.1'},\n",
      "               {'pid': 'https://didcomm.org/credential-issuance/0.1'},\n",
      "               {'pid': 'https://didcomm.org/trust_ping/1.0'},\n",
      "               {'pid': 'did:sov:BzCbsNYhMrjHiqZDTUASHg;spec/notification/1.0'},\n",
      "               {'pid': 'https://github.com/hyperledger/aries-toolbox/tree/master/docs/admin-payments/0.1'},\n",
      "               {'pid': 'https://didcomm.org/notification/1.0'},\n",
      "               {'pid': 'did:sov:BzCbsNYhMrjHiqZDTUASHg;spec/credential-issuance/0.1'},\n",
      "               {'pid': 'https://github.com/hyperledger/aries-toolbox/tree/master/docs/admin-basicmessage/0.1'},\n",
      "               {'pid': 'did:sov:BzCbsNYhMrjHiqZDTUASHg;spec/admin-schemas/0.1'},\n",
      "               {'pid': 'https://didcomm.org/issue-credential/1.0'},\n",
      "               {'pid': 'did:sov:BzCbsNYhMrjHiqZDTUASHg;spec/connections/1.0'},\n",
      "               {'pid': 'https://didcomm.org/routing/1.0'},\n",
      "               {'pid': 'did:sov:BzCbsNYhMrjHiqZDTUASHg;spec/discover-features/1.0'},\n",
      "               {'pid': 'did:sov:BzCbsNYhMrjHiqZDTUASHg;spec/action-menu/1.0',\n",
      "                'roles': ['provider']},\n",
      "               {'pid': 'did:sov:BzCbsNYhMrjHiqZDTUASHg;spec/trust_ping/1.0'},\n",
      "               {'pid': 'did:sov:BzCbsNYhMrjHiqZDTUASHg;spec/admin-holder/0.1'},\n",
      "               {'pid': 'https://didcomm.org/introduction-service/0.1'},\n",
      "               {'pid': 'did:sov:BzCbsNYhMrjHiqZDTUASHg;spec/admin-issuer/0.1'},\n",
      "               {'pid': 'did:sov:BzCbsNYhMrjHiqZDTUASHg;spec/routing/1.0'},\n",
      "               {'pid': 'did:sov:BzCbsNYhMrjHiqZDTUASHg;spec/admin-credential-definitions/0.1'},\n",
      "               {'pid': 'did:sov:BzCbsNYhMrjHiqZDTUASHg;spec/basicmessage/1.0'},\n",
      "               {'pid': 'https://github.com/hyperledger/aries-toolbox/tree/master/docs/admin-invitations/0.1'},\n",
      "               {'pid': 'did:sov:BzCbsNYhMrjHiqZDTUASHg;spec/admin-connections/0.1'},\n",
      "               {'pid': 'https://github.com/hyperledger/aries-toolbox/tree/master/docs/admin-connections/0.1'},\n",
      "               {'pid': 'https://didcomm.org/discover-features/1.0'},\n",
      "               {'pid': 'did:sov:BzCbsNYhMrjHiqZDTUASHg;spec/introduction-service/0.1'},\n",
      "               {'pid': 'did:sov:BzCbsNYhMrjHiqZDTUASHg;spec/acapy-plugin/1.0/records'},\n",
      "               {'pid': 'https://didcomm.org/present-proof/1.0'}],\n",
      " '~thread': {'thid': '99346aeb-c5ac-401c-b72f-bdedcbf552c4'}}\n"
     ]
    }
   ],
   "source": [
    "message = util.buildMessage(\n",
    "    \"did:sov:BzCbsNYhMrjHiqZDTUASHg;spec/discover-features/1.0/query\",\n",
    "    query=\"*\"\n",
    ")\n",
    "message = util.packMessage(message, connections[0])\n",
    "# print(encodedMessage)\n",
    "\n",
    "endpoint = connections[0]['DIDDoc']['service'][0]['serviceEndpoint']\n",
    "response = requests.post(endpoint, data=message)\n",
    "# print(response.text)\n",
    "\n",
    "responseDecoded = util.unpackMessage(response.text, plugin['keypair'][1])\n",
    "responseDecoded = json.loads(responseDecoded[0])\n",
    "pp.pprint(responseDecoded)"
   ]
  },
  {
   "cell_type": "code",
   "execution_count": 62,
   "metadata": {},
   "outputs": [
    {
     "name": "stdout",
     "output_type": "stream",
     "text": [
      "{'@id': '2fe4c870-e357-400a-9c94-25629666eab8',\n",
      " '@type': 'did:sov:BzCbsNYhMrjHiqZDTUASHg;spec/acapy-plugin/1.0/records/add',\n",
      " 'hashid': '79ea90f829f21cbfc9a9697ca5d835f508e751745ef091f185138acdd2e22c1e',\n",
      " 'payload': \"{amazing: 'payload'}\",\n",
      " '~thread': {'thid': 'dead9673-8287-468e-95fa-7ed2a37b4ed2'}}\n"
     ]
    }
   ],
   "source": [
    "message = util.buildMessage(\n",
    "    \"did:sov:BzCbsNYhMrjHiqZDTUASHg;spec/acapy-plugin/1.0/records/add\",\n",
    "    payload=\"{amazing: 'payload'}\"\n",
    ")\n",
    "\n",
    "encodedMessage = util.packMessage(message, connections[0])\n",
    "# print(encodedMessage)\n",
    "\n",
    "endpoint = connections[0]['DIDDoc']['service'][0]['serviceEndpoint']\n",
    "response = requests.post(endpoint, data=encodedMessage)\n",
    "# print(response.text)\n",
    "\n",
    "responseDecoded = util.unpackMessage(response.text, plugin['keypair'][1])\n",
    "responseDecoded = json.loads(responseDecoded[0])\n",
    "pp.pprint(responseDecoded)"
   ]
  },
  {
   "cell_type": "code",
   "execution_count": 65,
   "metadata": {},
   "outputs": [
    {
     "name": "stdout",
     "output_type": "stream",
     "text": [
      "{'@id': '06ca1f95-0d06-472a-8b2d-a75427499b0d',\n",
      " '@type': 'did:sov:BzCbsNYhMrjHiqZDTUASHg;spec/acapy-plugin/1.0/records/get',\n",
      " 'hashid': '79ea90f829f21cbfc9a9697ca5d835f508e751745ef091f185138acdd2e22c1e',\n",
      " 'payload': \"{amazing: 'payload'}\",\n",
      " '~thread': {'thid': 'fd8cc313-5a32-4b3f-ab48-de6d6aca6e34'}}\n"
     ]
    }
   ],
   "source": [
    "message = util.buildMessage(\n",
    "    \"did:sov:BzCbsNYhMrjHiqZDTUASHg;spec/acapy-plugin/1.0/records/get\",\n",
    "    hashid=responseDecoded['hashid']\n",
    ")\n",
    "\n",
    "encodedMessage = util.packMessage(message, connections[0])\n",
    "\n",
    "endpoint = connections[0]['DIDDoc']['service'][0]['serviceEndpoint']\n",
    "response = requests.post(endpoint, data=encodedMessage)\n",
    "\n",
    "responseDecoded = util.unpackMessage(response.text, plugin['keypair'][1])\n",
    "responseDecoded = json.loads(responseDecoded[0])\n",
    "pp.pprint(responseDecoded)"
   ]
  }
 ],
 "metadata": {
  "kernelspec": {
   "display_name": "Python 3",
   "language": "python",
   "name": "python3"
  },
  "language_info": {
   "codemirror_mode": {
    "name": "ipython",
    "version": 3
   },
   "file_extension": ".py",
   "mimetype": "text/x-python",
   "name": "python",
   "nbconvert_exporter": "python",
   "pygments_lexer": "ipython3",
   "version": "3.7.5"
  }
 },
 "nbformat": 4,
 "nbformat_minor": 4
}
