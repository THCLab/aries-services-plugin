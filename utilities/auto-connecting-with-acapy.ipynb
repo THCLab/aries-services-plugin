{
 "cells": [
  {
   "cell_type": "code",
   "execution_count": 63,
   "metadata": {},
   "outputs": [],
   "source": [
    "import requests \n",
    "import re as regex\n",
    "import json\n",
    "import pprint as pp # pretty print\n",
    "\n",
    "import aries_cloudagent.wallet.crypto as crypto\n",
    "import base64\n",
    "import base58\n",
    "import uuid\n",
    "import jupyter_util as util"
   ]
  },
  {
   "cell_type": "markdown",
   "metadata": {},
   "source": [
    "## Enter Invite Url:"
   ]
  },
  {
   "cell_type": "code",
   "execution_count": 64,
   "metadata": {},
   "outputs": [
    {
     "name": "stdout",
     "output_type": "stream",
     "text": [
      "http://agent1.localhost?c_i=eyJAdHlwZSI6ICJkaWQ6c292OkJ6Q2JzTlloTXJqSGlxWkRUVUFTSGc7c3BlYy9jb25uZWN0aW9ucy8xLjAvaW52aXRhdGlvbiIsICJAaWQiOiAiNzJkOGI4YzItOGI1MS00MGI0LThiMzQtNGY2Njc0OGUzOGQ1IiwgInNlcnZpY2VFbmRwb2ludCI6ICJodHRwOi8vYWdlbnQxLmxvY2FsaG9zdCIsICJsYWJlbCI6ICJNYWluIChhZG1pbikiLCAicmVjaXBpZW50S2V5cyI6IFsiODhKaU55UnlxeHFzOVRDaVJpWW9DUTh6NXFtcEI4cWpOWTRxVnVZRkpHSHAiXX0=\n"
     ]
    }
   ],
   "source": [
    "agent1 = {}\n",
    "plugin = {}\n",
    "endpoint = \"http://localhost:8150/connections/create-admin-invitation-url\"\n",
    "adminInvitationResponse = requests.post(endpoint)\n",
    "adminInvitationResponse = adminInvitationResponse.text\n",
    "agent1['url'] = json.loads(adminInvitationResponse)['invitation_url']\n",
    "print(agent1['url'])"
   ]
  },
  {
   "cell_type": "code",
   "execution_count": 65,
   "metadata": {
    "scrolled": true
   },
   "outputs": [
    {
     "name": "stdout",
     "output_type": "stream",
     "text": [
      "Decoded invitation:\n",
      "\n",
      "{'@id': '72d8b8c2-8b51-40b4-8b34-4f66748e38d5',\n",
      " '@type': 'did:sov:BzCbsNYhMrjHiqZDTUASHg;spec/connections/1.0/invitation',\n",
      " 'label': 'Main (admin)',\n",
      " 'recipientKeys': ['88JiNyRyqxqs9TCiRiYoCQ8z5qmpB8qjNY4qVuYFJGHp'],\n",
      " 'serviceEndpoint': 'http://agent1.localhost'}\n"
     ]
    }
   ],
   "source": [
    "# Process invite url, delete white spaces\n",
    "agent1['url'] = agent1['url'].replace(\" \", \"\")\n",
    "# Regex(substitution) to extract only the invite string from url\n",
    "agent1['invite_string_b64'] = regex.sub(\n",
    "           r\".*(c\\_i\\=)\", \n",
    "           r\"\", \n",
    "           agent1['url'])\n",
    "# Decoding invite string using base64 decoder\n",
    "agent1['invite_string'] = base64.b64decode(agent1['invite_string_b64'])\n",
    "# Converting our invite json string into a dictionary \n",
    "agent1['invite'] = json.loads(agent1['invite_string'])\n",
    "\n",
    "print(\"Decoded invitation:\\n\")\n",
    "pp.pprint(agent1['invite'])"
   ]
  },
  {
   "cell_type": "code",
   "execution_count": 66,
   "metadata": {},
   "outputs": [
    {
     "name": "stdout",
     "output_type": "stream",
     "text": [
      "Private key: \n",
      " 2JsTWLe2HzTwUko4VtiiwuoRqsdwUjVrrgmWrx1q8aMYoH2kvRbWbz6G3TRa9nri83F4FjexMDJBrtT1LgxKE9Sq\n",
      "\n",
      "Public key: \n",
      " FN3DTYxQzS9zuN56EE6g1nqbBf9hd97EjHygdv5xTo5b\n"
     ]
    }
   ],
   "source": [
    "### Generating a did key using aries crypto module\n",
    "# Create a key pair with random seed \n",
    "# Order: 0 - public key, 1 - secret / pritvate key\n",
    "plugin['keypair'] = crypto.create_keypair()\n",
    "# it seems to me that did is an encoded sub string of public key\n",
    "# or maybe just some arbitrary random number\n",
    "did = plugin['keypair'][0][:16]\n",
    "# final version of our did\n",
    "plugin['did'] = base58.b58encode(did).decode(\"ascii\")\n",
    "# encoding keys to base58\n",
    "plugin['public_key_b58'] = \\\n",
    "    base58.b58encode(plugin['keypair'][0]).decode(\"ascii\")\n",
    "plugin['private_key_b58'] = \\\n",
    "    base58.b58encode(plugin['keypair'][1]).decode(\"ascii\")\n",
    "\n",
    "print(\"Private key: \\n\", plugin['private_key_b58'])\n",
    "print(\"\\nPublic key: \\n\", plugin['public_key_b58'])"
   ]
  },
  {
   "cell_type": "markdown",
   "metadata": {},
   "source": [
    "**Sending a connection request to acapy**"
   ]
  },
  {
   "cell_type": "code",
   "execution_count": 67,
   "metadata": {},
   "outputs": [],
   "source": [
    "uniqueId = str(uuid.uuid4())\n",
    "# print(uniqueId)\n",
    "\n",
    "# our request body\n",
    "message = {\n",
    "        \"@id\":  uniqueId,\n",
    "        \"~transport\": {\n",
    "          \"return_route\": \"all\"\n",
    "        },\n",
    "        \"@type\": \"did:sov:BzCbsNYhMrjHiqZDTUASHg;spec/connections/1.0/request\",\n",
    "        \"label\": \"Plugin\",\n",
    "        \"connection\": {\n",
    "          \"DID\": plugin['did'],\n",
    "          \"DIDDoc\": {\n",
    "            \"@context\": \"https://w3id.org/did/v1\",\n",
    "            \"id\": plugin['did'],\n",
    "            \"publicKey\": [{\n",
    "              \"id\": plugin['did'] + \"#keys-1\",\n",
    "              \"type\": \"Ed25519VerificationKey2018\",\n",
    "              \"controller\": plugin['did'],\n",
    "              \"publicKeyBase58\": plugin['public_key_b58']\n",
    "            }],\n",
    "            \"service\": [{\n",
    "              \"id\": plugin['did'] + \";indy\",\n",
    "              \"type\": \"IndyAgent\",\n",
    "              \"recipientKeys\": plugin['public_key_b58'],\n",
    "              \"serviceEndpoint\": \"\"\n",
    "            }]\n",
    "          }\n",
    "        }\n",
    "      }"
   ]
  },
  {
   "cell_type": "markdown",
   "metadata": {},
   "source": [
    "**Encoding/packing the request**"
   ]
  },
  {
   "cell_type": "code",
   "execution_count": 68,
   "metadata": {},
   "outputs": [],
   "source": [
    "# encoding it with aries crypto function using the key that was\n",
    "# given to us by aca-py in recipientKeys\n",
    "decodedAcapyKey = base58.b58decode(agent1['invite']['recipientKeys'][0])\n",
    "ourPrivateKey = plugin['keypair'][1]\n",
    "# print(plugin['did'])\n",
    "encodedMessage = \\\n",
    "    crypto.encode_pack_message(json.dumps(message), [decodedAcapyKey], ourPrivateKey)\n",
    "\n",
    "encodedMessage = encodedMessage.decode(\"ascii\")"
   ]
  },
  {
   "cell_type": "code",
   "execution_count": 69,
   "metadata": {},
   "outputs": [],
   "source": [
    "connectionRequestResponse = requests.post(agent1['invite']['serviceEndpoint'], data=encodedMessage)\n",
    "assert connectionRequestResponse.text != \"\", \"invalid response from acapy\""
   ]
  },
  {
   "cell_type": "markdown",
   "metadata": {},
   "source": [
    "**Response from aca-py**"
   ]
  },
  {
   "cell_type": "code",
   "execution_count": 70,
   "metadata": {
    "scrolled": true
   },
   "outputs": [
    {
     "name": "stdout",
     "output_type": "stream",
     "text": [
      "Decoded acapy response: \n",
      "\n",
      "('{\"@type\": \"did:sov:BzCbsNYhMrjHiqZDTUASHg;spec/connections/1.0/response\", '\n",
      " '\"@id\": \"99661ec5-6c78-40d2-8d78-edc677aff7f1\", \"~thread\": {\"thid\": '\n",
      " '\"5b3ecc6a-be48-4f5d-b94f-368e1d34be26\"}, \"connection~sig\": {\"@type\": '\n",
      " '\"did:sov:BzCbsNYhMrjHiqZDTUASHg;spec/signature/1.0/ed25519Sha512_single\", '\n",
      " '\"signature\": '\n",
      " '\"Cw8AB65mRDXexFU2xgU0yoYs0jXcRiTEZeyBIJkRIrwNTIDSx4tDvq-lMouxwBwIwjjs2eNN6PFa36F7A0iACA==\", '\n",
      " '\"sig_data\": '\n",
      " '\"AAAAAF7E_OB7IkRJRCI6ICJOSGRiS05IVEpzZjlGZnQ1Q3llQ0F0IiwgIkRJRERvYyI6IHsiQGNvbnRleHQiOiAiaHR0cHM6Ly93M2lkLm9yZy9kaWQvdjEiLCAiaWQiOiAiZGlkOnNvdjpOSGRiS05IVEpzZjlGZnQ1Q3llQ0F0IiwgInB1YmxpY0tleSI6IFt7ImlkIjogImRpZDpzb3Y6TkhkYktOSFRKc2Y5RmZ0NUN5ZUNBdCMxIiwgInR5cGUiOiAiRWQyNTUxOVZlcmlmaWNhdGlvbktleTIwMTgiLCAiY29udHJvbGxlciI6ICJkaWQ6c292Ok5IZGJLTkhUSnNmOUZmdDVDeWVDQXQiLCAicHVibGljS2V5QmFzZTU4IjogIkNidjdrWWhnNVAyb2p0dnBjWVR5S2NYWmZONFFSV25kTjVuOVhxb3liamNmIn1dLCAiYXV0aGVudGljYXRpb24iOiBbeyJ0eXBlIjogIkVkMjU1MTlTaWduYXR1cmVBdXRoZW50aWNhdGlvbjIwMTgiLCAicHVibGljS2V5IjogImRpZDpzb3Y6TkhkYktOSFRKc2Y5RmZ0NUN5ZUNBdCMxIn1dLCAic2VydmljZSI6IFt7ImlkIjogImRpZDpzb3Y6TkhkYktOSFRKc2Y5RmZ0NUN5ZUNBdDtpbmR5IiwgInR5cGUiOiAiSW5keUFnZW50IiwgInByaW9yaXR5IjogMCwgInJlY2lwaWVudEtleXMiOiBbIkNidjdrWWhnNVAyb2p0dnBjWVR5S2NYWmZONFFSV25kTjVuOVhxb3liamNmIl0sICJzZXJ2aWNlRW5kcG9pbnQiOiAiaHR0cDovL2FnZW50MS5sb2NhbGhvc3QifV19fQ==\", '\n",
      " '\"signer\": \"88JiNyRyqxqs9TCiRiYoCQ8z5qmpB8qjNY4qVuYFJGHp\"}}',\n",
      " '88JiNyRyqxqs9TCiRiYoCQ8z5qmpB8qjNY4qVuYFJGHp',\n",
      " 'FN3DTYxQzS9zuN56EE6g1nqbBf9hd97EjHygdv5xTo5b')\n"
     ]
    }
   ],
   "source": [
    "   \n",
    "connectionRequestResponseUnpacked = \\\n",
    "    util.unpackMessage(connectionRequestResponse.text, plugin['keypair'][1])\n",
    "\n",
    "connectionRequestResponseDict = json.loads(connectionRequestResponseUnpacked[0])\n",
    "\n",
    "print(\"Decoded acapy response: \\n\")\n",
    "pp.pprint(connectionRequestResponseUnpacked)"
   ]
  },
  {
   "cell_type": "markdown",
   "metadata": {},
   "source": [
    "**Unpacking connection data embedded in the response**"
   ]
  },
  {
   "cell_type": "code",
   "execution_count": 71,
   "metadata": {
    "scrolled": true
   },
   "outputs": [
    {
     "name": "stdout",
     "output_type": "stream",
     "text": [
      "{'DID': 'NHdbKNHTJsf9Fft5CyeCAt',\n",
      " 'DIDDoc': {'@context': 'https://w3id.org/did/v1',\n",
      "            'authentication': [{'publicKey': 'did:sov:NHdbKNHTJsf9Fft5CyeCAt#1',\n",
      "                                'type': 'Ed25519SignatureAuthentication2018'}],\n",
      "            'id': 'did:sov:NHdbKNHTJsf9Fft5CyeCAt',\n",
      "            'publicKey': [{'controller': 'did:sov:NHdbKNHTJsf9Fft5CyeCAt',\n",
      "                           'id': 'did:sov:NHdbKNHTJsf9Fft5CyeCAt#1',\n",
      "                           'publicKeyBase58': 'Cbv7kYhg5P2ojtvpcYTyKcXZfN4QRWndN5n9Xqoybjcf',\n",
      "                           'type': 'Ed25519VerificationKey2018'}],\n",
      "            'service': [{'id': 'did:sov:NHdbKNHTJsf9Fft5CyeCAt;indy',\n",
      "                         'priority': 0,\n",
      "                         'recipientKeys': ['Cbv7kYhg5P2ojtvpcYTyKcXZfN4QRWndN5n9Xqoybjcf'],\n",
      "                         'serviceEndpoint': 'http://agent1.localhost',\n",
      "                         'type': 'IndyAgent'}]}}\n"
     ]
    }
   ],
   "source": [
    "sig_data_raw = connectionRequestResponseDict['connection~sig']['sig_data']\n",
    "#  (this is a hack)replacing artifacts that sometimes happen\n",
    "sig_data_raw = sig_data_raw.replace(\"-\", \"1\")\n",
    "sig_data_raw = sig_data_raw.replace(\"_\", \"1\")\n",
    "\n",
    "sig_data_raw = base64.b64decode(sig_data_raw)\n",
    "# avoid first 8 characters as they are a time signature\n",
    "sig_data_raw = sig_data_raw[8:]\n",
    "sig_data_raw = sig_data_raw.decode('ascii')\n",
    "\n",
    "sig_data = json.loads(sig_data_raw)\n",
    "pp.pprint(sig_data)"
   ]
  },
  {
   "cell_type": "markdown",
   "metadata": {},
   "source": [
    "**Adding the connection to connection list**"
   ]
  },
  {
   "cell_type": "code",
   "execution_count": 72,
   "metadata": {
    "scrolled": true
   },
   "outputs": [
    {
     "name": "stdout",
     "output_type": "stream",
     "text": [
      "[{'DIDDoc': {'@context': 'https://w3id.org/did/v1',\n",
      "             'authentication': [{'publicKey': 'did:sov:NHdbKNHTJsf9Fft5CyeCAt#1',\n",
      "                                 'type': 'Ed25519SignatureAuthentication2018'}],\n",
      "             'id': 'did:sov:NHdbKNHTJsf9Fft5CyeCAt',\n",
      "             'publicKey': [{'controller': 'did:sov:NHdbKNHTJsf9Fft5CyeCAt',\n",
      "                            'id': 'did:sov:NHdbKNHTJsf9Fft5CyeCAt#1',\n",
      "                            'publicKeyBase58': 'Cbv7kYhg5P2ojtvpcYTyKcXZfN4QRWndN5n9Xqoybjcf',\n",
      "                            'type': 'Ed25519VerificationKey2018'}],\n",
      "             'service': [{'id': 'did:sov:NHdbKNHTJsf9Fft5CyeCAt;indy',\n",
      "                          'priority': 0,\n",
      "                          'recipientKeys': ['Cbv7kYhg5P2ojtvpcYTyKcXZfN4QRWndN5n9Xqoybjcf'],\n",
      "                          'serviceEndpoint': 'http://agent1.localhost',\n",
      "                          'type': 'IndyAgent'}]},\n",
      "  'label': 'Main (admin)',\n",
      "  'myKey': b'Amg\\xb0DQ\\x9d\\xc6\\xbacMW\\x8cGq\\xc5\\xfb\\xf5\\x05IEtP\\x95\\xff\\x91s3'\n",
      "           b'\\xc8\\x9d\\x0c\\xd2\\xd5gQw\\x7f\\xea\\xe7E\\x0f\\xddxs\\xc6\\xd6o\\x0e'\n",
      "           b'\\x0c\\xa8b\\xd4\\xcb{\\x13k\\x93\\xab\\xd9\\x0fX\\xe5F\\xc2'}]\n"
     ]
    }
   ],
   "source": [
    "connections = [\n",
    "    {\n",
    "        \"label\": agent1['invite']['label'],\n",
    "        \"DIDDoc\": sig_data['DIDDoc'],\n",
    "        \"myKey\": plugin['keypair'][1]\n",
    "    }\n",
    "]\n",
    "\n",
    "pp.pprint(connections)"
   ]
  },
  {
   "cell_type": "markdown",
   "metadata": {},
   "source": [
    "### FEATURE DISCOVERY"
   ]
  },
  {
   "cell_type": "code",
   "execution_count": 73,
   "metadata": {
    "scrolled": true
   },
   "outputs": [
    {
     "name": "stdout",
     "output_type": "stream",
     "text": [
      "{'@id': '4775d17d-f4a6-4642-9195-3647b783c7d0',\n",
      " '@type': 'did:sov:BzCbsNYhMrjHiqZDTUASHg;spec/discover-features/1.0/disclose',\n",
      " 'protocols': [{'pid': 'did:sov:BzCbsNYhMrjHiqZDTUASHg;spec/credential-issuance/0.1'},\n",
      "               {'pid': 'did:sov:BzCbsNYhMrjHiqZDTUASHg;spec/routing/1.0'},\n",
      "               {'pid': 'did:sov:BzCbsNYhMrjHiqZDTUASHg;spec/action-menu/1.0',\n",
      "                'roles': ['provider']},\n",
      "               {'pid': 'did:sov:BzCbsNYhMrjHiqZDTUASHg;spec/admin-dids/0.1'},\n",
      "               {'pid': 'did:sov:BzCbsNYhMrjHiqZDTUASHg;spec/discover-features/1.0'},\n",
      "               {'pid': 'https://didcomm.org/introduction-service/0.1'},\n",
      "               {'pid': 'did:sov:BzCbsNYhMrjHiqZDTUASHg;spec/credential-presentation/0.1'},\n",
      "               {'pid': 'did:sov:BzCbsNYhMrjHiqZDTUASHg;spec/issue-credential/1.0'},\n",
      "               {'pid': 'did:sov:BzCbsNYhMrjHiqZDTUASHg;spec/basicmessage/1.0'},\n",
      "               {'pid': 'https://didcomm.org/connections/1.0'},\n",
      "               {'pid': 'https://didcomm.org/notification/1.0'},\n",
      "               {'pid': 'did:sov:BzCbsNYhMrjHiqZDTUASHg;spec/admin-connections/0.1'},\n",
      "               {'pid': 'https://github.com/hyperledger/aries-toolbox/tree/master/docs/admin-payments/0.1'},\n",
      "               {'pid': 'https://didcomm.org/action-menu/1.0'},\n",
      "               {'pid': 'did:sov:BzCbsNYhMrjHiqZDTUASHg;spec/admin-holder/0.1'},\n",
      "               {'pid': 'did:sov:BzCbsNYhMrjHiqZDTUASHg;spec/admin-issuer/0.1'},\n",
      "               {'pid': 'https://github.com/hyperledger/aries-toolbox/tree/master/docs/admin-connections/0.1'},\n",
      "               {'pid': 'https://didcomm.org/credential-issuance/0.1'},\n",
      "               {'pid': 'https://didcomm.org/basicmessage/1.0'},\n",
      "               {'pid': 'https://github.com/hyperledger/aries-toolbox/tree/master/docs/admin-taa/0.1'},\n",
      "               {'pid': 'did:sov:BzCbsNYhMrjHiqZDTUASHg;spec/connections/1.0'},\n",
      "               {'pid': 'https://didcomm.org/present-proof/1.0'},\n",
      "               {'pid': 'did:sov:BzCbsNYhMrjHiqZDTUASHg;spec/admin-credential-definitions/0.1'},\n",
      "               {'pid': 'did:sov:BzCbsNYhMrjHiqZDTUASHg;spec/admin-static-connections/0.1'},\n",
      "               {'pid': 'did:sov:BzCbsNYhMrjHiqZDTUASHg;spec/admin-schemas/0.1'},\n",
      "               {'pid': 'https://didcomm.org/discover-features/1.0'},\n",
      "               {'pid': 'https://github.com/hyperledger/aries-toolbox/tree/master/docs/admin-invitations/0.1'},\n",
      "               {'pid': 'did:sov:BzCbsNYhMrjHiqZDTUASHg;spec/introduction-service/0.1'},\n",
      "               {'pid': 'https://didcomm.org/routing/1.0'},\n",
      "               {'pid': 'https://didcomm.org/issue-credential/1.0'},\n",
      "               {'pid': 'https://didcomm.org/trust_ping/1.0'},\n",
      "               {'pid': 'did:sov:BzCbsNYhMrjHiqZDTUASHg;spec/notification/1.0'},\n",
      "               {'pid': 'did:sov:BzCbsNYhMrjHiqZDTUASHg;spec/acapy-plugin/1.0'},\n",
      "               {'pid': 'did:sov:BzCbsNYhMrjHiqZDTUASHg;spec/present-proof/1.0'},\n",
      "               {'pid': 'https://didcomm.org/credential-presentation/0.1'},\n",
      "               {'pid': 'did:sov:BzCbsNYhMrjHiqZDTUASHg;spec/trust_ping/1.0'},\n",
      "               {'pid': 'https://github.com/hyperledger/aries-toolbox/tree/master/docs/admin-basicmessage/0.1'}],\n",
      " '~thread': {'thid': 'e48e74a7-c737-41e0-866c-2d4983812cc9'}}\n"
     ]
    }
   ],
   "source": [
    "message = util.buildMessage(\n",
    "    \"did:sov:BzCbsNYhMrjHiqZDTUASHg;spec/discover-features/1.0/query\",\n",
    "    query=\"*\"\n",
    ")\n",
    "message = util.packMessage(message, connections[0])\n",
    "# print(encodedMessage)\n",
    "\n",
    "endpoint = connections[0]['DIDDoc']['service'][0]['serviceEndpoint']\n",
    "response = requests.post(endpoint, data=message)\n",
    "# print(response.text)\n",
    "\n",
    "responseDecoded = util.unpackMessage(response.text, plugin['keypair'][1])\n",
    "responseDecoded = json.loads(responseDecoded[0])\n",
    "pp.pprint(responseDecoded)"
   ]
  },
  {
   "cell_type": "code",
   "execution_count": 76,
   "metadata": {},
   "outputs": [
    {
     "name": "stdout",
     "output_type": "stream",
     "text": [
      "{'@id': '30c547cb-d33b-47da-af4a-205775eed071',\n",
      " '@type': 'did:sov:BzCbsNYhMrjHiqZDTUASHg;spec/acapy-plugin/1.0/schema',\n",
      " 'payload': \"{amazing: 'payload'}\",\n",
      " 'schema_id': '2a272d933be14d9e9a92589395ed75db',\n",
      " '~thread': {'thid': '5b2b3339-feaa-4fe7-8f6c-f49fe356ca16'}}\n"
     ]
    }
   ],
   "source": [
    "message = util.buildMessage(\n",
    "    \"did:sov:BzCbsNYhMrjHiqZDTUASHg;spec/acapy-plugin/1.0/schema\",\n",
    "    payload=\"{amazing: 'payload'}\"\n",
    ")\n",
    "\n",
    "encodedMessage = util.packMessage(message, connections[0])\n",
    "# print(encodedMessage)\n",
    "\n",
    "endpoint = connections[0]['DIDDoc']['service'][0]['serviceEndpoint']\n",
    "response = requests.post(endpoint, data=encodedMessage)\n",
    "# print(response.text)\n",
    "\n",
    "responseDecoded = util.unpackMessage(response.text, plugin['keypair'][1])\n",
    "responseDecoded = json.loads(responseDecoded[0])\n",
    "pp.pprint(responseDecoded)"
   ]
  },
  {
   "cell_type": "code",
   "execution_count": 78,
   "metadata": {},
   "outputs": [
    {
     "name": "stdout",
     "output_type": "stream",
     "text": [
      "{'@id': 'd7e34e17-fb37-4a30-8a5d-3d13ac660a8f',\n",
      " '@type': 'did:sov:BzCbsNYhMrjHiqZDTUASHg;spec/acapy-plugin/1.0/schema',\n",
      " 'payload': \"{amazing: 'payload'}\",\n",
      " 'schema_id': '2a272d933be14d9e9a92589395ed75db',\n",
      " '~thread': {'thid': '3f56f12d-271d-4d4a-bb96-304eb9ad4da1'}}\n"
     ]
    }
   ],
   "source": [
    "message = util.buildMessage(\n",
    "    \"did:sov:BzCbsNYhMrjHiqZDTUASHg;spec/acapy-plugin/1.0/search_schema\",\n",
    "    schema_id=\"2a272d933be14d9e9a92589395ed75db\"\n",
    ")\n",
    "\n",
    "encodedMessage = util.packMessage(message, connections[0])\n",
    "\n",
    "endpoint = connections[0]['DIDDoc']['service'][0]['serviceEndpoint']\n",
    "response = requests.post(endpoint, data=encodedMessage)\n",
    "\n",
    "responseDecoded = util.unpackMessage(response.text, plugin['keypair'][1])\n",
    "responseDecoded = json.loads(responseDecoded[0])\n",
    "pp.pprint(responseDecoded)"
   ]
  }
 ],
 "metadata": {
  "kernelspec": {
   "display_name": "Python 3",
   "language": "python",
   "name": "python3"
  },
  "language_info": {
   "codemirror_mode": {
    "name": "ipython",
    "version": 3
   },
   "file_extension": ".py",
   "mimetype": "text/x-python",
   "name": "python",
   "nbconvert_exporter": "python",
   "pygments_lexer": "ipython3",
   "version": "3.7.5"
  }
 },
 "nbformat": 4,
 "nbformat_minor": 4
}
