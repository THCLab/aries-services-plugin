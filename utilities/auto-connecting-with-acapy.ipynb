{
 "cells": [
  {
   "cell_type": "code",
   "execution_count": 122,
   "metadata": {},
   "outputs": [],
   "source": [
    "import requests \n",
    "import re as regex\n",
    "import json\n",
    "import pprint as pp # pretty print\n",
    "\n",
    "import aries_cloudagent.wallet.crypto as crypto\n",
    "import base64\n",
    "import base58\n",
    "import uuid\n",
    "import jupyter_util as util"
   ]
  },
  {
   "cell_type": "markdown",
   "metadata": {},
   "source": [
    "## Enter Invite Url:"
   ]
  },
  {
   "cell_type": "code",
   "execution_count": 123,
   "metadata": {},
   "outputs": [
    {
     "name": "stdout",
     "output_type": "stream",
     "text": [
      "http://agent1.localhost?c_i=eyJAdHlwZSI6ICJkaWQ6c292OkJ6Q2JzTlloTXJqSGlxWkRUVUFTSGc7c3BlYy9jb25uZWN0aW9ucy8xLjAvaW52aXRhdGlvbiIsICJAaWQiOiAiYzFlYjRhYjUtY2ExOC00NmJlLWFiYzktNTIzZTljZjZjN2E5IiwgInJlY2lwaWVudEtleXMiOiBbIjVOV1phdEw5ZVJyV0FjcDlxZWFVczhRZVB5ZE5FMVRMclVzQ0EyWDJQQWhHIl0sICJzZXJ2aWNlRW5kcG9pbnQiOiAiaHR0cDovL2FnZW50MS5sb2NhbGhvc3QiLCAibGFiZWwiOiAiTWFpbiAoYWRtaW4pIn0=\n"
     ]
    }
   ],
   "source": [
    "agent1 = {}\n",
    "plugin = {}\n",
    "endpoint = \"http://localhost:8150/connections/create-admin-invitation-url\"\n",
    "adminInvitationResponse = requests.post(endpoint)\n",
    "adminInvitationResponse = adminInvitationResponse.text\n",
    "agent1['url'] = json.loads(adminInvitationResponse)['invitation_url']\n",
    "print(agent1['url'])"
   ]
  },
  {
   "cell_type": "code",
   "execution_count": 124,
   "metadata": {
    "scrolled": true
   },
   "outputs": [
    {
     "name": "stdout",
     "output_type": "stream",
     "text": [
      "Decoded invitation:\n",
      "\n",
      "{'@id': 'c1eb4ab5-ca18-46be-abc9-523e9cf6c7a9',\n",
      " '@type': 'did:sov:BzCbsNYhMrjHiqZDTUASHg;spec/connections/1.0/invitation',\n",
      " 'label': 'Main (admin)',\n",
      " 'recipientKeys': ['5NWZatL9eRrWAcp9qeaUs8QePydNE1TLrUsCA2X2PAhG'],\n",
      " 'serviceEndpoint': 'http://agent1.localhost'}\n"
     ]
    }
   ],
   "source": [
    "# Process invite url, delete white spaces\n",
    "agent1['url'] = agent1['url'].replace(\" \", \"\")\n",
    "# Regex(substitution) to extract only the invite string from url\n",
    "agent1['invite_string_b64'] = regex.sub(\n",
    "           r\".*(c\\_i\\=)\", \n",
    "           r\"\", \n",
    "           agent1['url'])\n",
    "# Decoding invite string using base64 decoder\n",
    "agent1['invite_string'] = base64.b64decode(agent1['invite_string_b64'])\n",
    "# Converting our invite json string into a dictionary \n",
    "agent1['invite'] = json.loads(agent1['invite_string'])\n",
    "\n",
    "print(\"Decoded invitation:\\n\")\n",
    "pp.pprint(agent1['invite'])"
   ]
  },
  {
   "cell_type": "code",
   "execution_count": 125,
   "metadata": {},
   "outputs": [
    {
     "name": "stdout",
     "output_type": "stream",
     "text": [
      "Private key: \n",
      " 2QSciKJ3oH8c9rqHjQX8wNcWYSCuaj2YxUdX9AMEY4gj5RB1SBngnVmFtjSkf4mbcf9PbRGUKJcEmhWPgem83tYS\n",
      "\n",
      "Public key: \n",
      " FLwc3MDwCAn8Mr8XgmamQkeK1Ds1s8Eb43fXWvGPAoJJ\n"
     ]
    }
   ],
   "source": [
    "### Generating a did key using aries crypto module\n",
    "# Create a key pair with random seed \n",
    "# Order: 0 - public key, 1 - secret / pritvate key\n",
    "plugin['keypair'] = crypto.create_keypair()\n",
    "# it seems to me that did is an encoded sub string of public key\n",
    "# or maybe just some arbitrary random number\n",
    "did = plugin['keypair'][0][:16]\n",
    "# final version of our did\n",
    "plugin['did'] = base58.b58encode(did).decode(\"ascii\")\n",
    "# encoding keys to base58\n",
    "plugin['public_key_b58'] = \\\n",
    "    base58.b58encode(plugin['keypair'][0]).decode(\"ascii\")\n",
    "plugin['private_key_b58'] = \\\n",
    "    base58.b58encode(plugin['keypair'][1]).decode(\"ascii\")\n",
    "\n",
    "# print(base58.b58encode(did))\n",
    "# print(plugin['did'])\n",
    "print(\"Private key: \\n\", plugin['private_key_b58'])\n",
    "print(\"\\nPublic key: \\n\", plugin['public_key_b58'])"
   ]
  },
  {
   "cell_type": "markdown",
   "metadata": {},
   "source": [
    "**Sending a connection request to acapy**"
   ]
  },
  {
   "cell_type": "code",
   "execution_count": 126,
   "metadata": {},
   "outputs": [],
   "source": [
    "uniqueId = str(uuid.uuid4())\n",
    "# print(uniqueId)\n",
    "\n",
    "# our request body\n",
    "message = {\n",
    "        \"@id\":  uniqueId,\n",
    "        \"~transport\": {\n",
    "          \"return_route\": \"all\"\n",
    "        },\n",
    "        \"@type\": \"did:sov:BzCbsNYhMrjHiqZDTUASHg;spec/connections/1.0/request\",\n",
    "        \"label\": \"Plugin\",\n",
    "        \"connection\": {\n",
    "          \"DID\": plugin['did'],\n",
    "          \"DIDDoc\": {\n",
    "            \"@context\": \"https://w3id.org/did/v1\",\n",
    "            \"id\": plugin['did'],\n",
    "            \"publicKey\": [{\n",
    "              \"id\": plugin['did'] + \"#keys-1\",\n",
    "              \"type\": \"Ed25519VerificationKey2018\",\n",
    "              \"controller\": plugin['did'],\n",
    "              \"publicKeyBase58\": plugin['public_key_b58']\n",
    "            }],\n",
    "            \"service\": [{\n",
    "              \"id\": plugin['did'] + \";indy\",\n",
    "              \"type\": \"IndyAgent\",\n",
    "              \"recipientKeys\": plugin['public_key_b58'],\n",
    "              \"serviceEndpoint\": \"\"\n",
    "            }]\n",
    "          }\n",
    "        }\n",
    "      }"
   ]
  },
  {
   "cell_type": "markdown",
   "metadata": {},
   "source": [
    "**Encoding/packing the request**"
   ]
  },
  {
   "cell_type": "code",
   "execution_count": 127,
   "metadata": {},
   "outputs": [],
   "source": [
    "# encoding it with aries crypto function using the key that was\n",
    "# given to us by aca-py in recipientKeys\n",
    "decodedAcapyKey = base58.b58decode(agent1['invite']['recipientKeys'][0])\n",
    "ourPrivateKey = plugin['keypair'][1]\n",
    "# print(plugin['did'])\n",
    "encodedMessage = \\\n",
    "    crypto.encode_pack_message(json.dumps(message), [decodedAcapyKey], ourPrivateKey)\n",
    "\n",
    "encodedMessage = encodedMessage.decode(\"ascii\")"
   ]
  },
  {
   "cell_type": "code",
   "execution_count": 128,
   "metadata": {},
   "outputs": [],
   "source": [
    "connectionRequestResponse = requests.post(agent1['invite']['serviceEndpoint'], data=encodedMessage)\n",
    "assert connectionRequestResponse.text != \"\", \"invalid response from acapy\""
   ]
  },
  {
   "cell_type": "markdown",
   "metadata": {},
   "source": [
    "**Response from aca-py**"
   ]
  },
  {
   "cell_type": "code",
   "execution_count": 129,
   "metadata": {
    "scrolled": true
   },
   "outputs": [
    {
     "name": "stdout",
     "output_type": "stream",
     "text": [
      "Decoded acapy response: \n",
      "\n",
      "('{\"@type\": \"did:sov:BzCbsNYhMrjHiqZDTUASHg;spec/connections/1.0/response\", '\n",
      " '\"@id\": \"77d7615c-12e8-4432-a490-5d55421769ee\", \"~thread\": {\"thid\": '\n",
      " '\"5c32193e-7299-4254-863c-7379a43744de\"}, \"connection~sig\": {\"@type\": '\n",
      " '\"did:sov:BzCbsNYhMrjHiqZDTUASHg;spec/signature/1.0/ed25519Sha512_single\", '\n",
      " '\"signature\": '\n",
      " '\"QFrPlYQU5oQZrsx_T1AXXNh3Qwb15P3GPIOcMWUA3dRl2esnxuUY0VQdOq_mf6nUpZP-yLgdi7cJkA9RC3DQDw==\", '\n",
      " '\"sig_data\": '\n",
      " '\"AAAAAF7DyLN7IkRJRCI6ICJYN2hXTWNoUU42dzhERzhubjR6TkFtIiwgIkRJRERvYyI6IHsiQGNvbnRleHQiOiAiaHR0cHM6Ly93M2lkLm9yZy9kaWQvdjEiLCAiaWQiOiAiZGlkOnNvdjpYN2hXTWNoUU42dzhERzhubjR6TkFtIiwgInB1YmxpY0tleSI6IFt7ImlkIjogImRpZDpzb3Y6WDdoV01jaFFONnc4REc4bm40ek5BbSMxIiwgInR5cGUiOiAiRWQyNTUxOVZlcmlmaWNhdGlvbktleTIwMTgiLCAiY29udHJvbGxlciI6ICJkaWQ6c292Olg3aFdNY2hRTjZ3OERHOG5uNHpOQW0iLCAicHVibGljS2V5QmFzZTU4IjogIkhSMWFiZDd3cUtvYm1FZTFLZTdHRUY0NnhYdnpYbmtBaUhONnBXdjNneFZUIn1dLCAiYXV0aGVudGljYXRpb24iOiBbeyJ0eXBlIjogIkVkMjU1MTlTaWduYXR1cmVBdXRoZW50aWNhdGlvbjIwMTgiLCAicHVibGljS2V5IjogImRpZDpzb3Y6WDdoV01jaFFONnc4REc4bm40ek5BbSMxIn1dLCAic2VydmljZSI6IFt7ImlkIjogImRpZDpzb3Y6WDdoV01jaFFONnc4REc4bm40ek5BbTtpbmR5IiwgInR5cGUiOiAiSW5keUFnZW50IiwgInByaW9yaXR5IjogMCwgInJlY2lwaWVudEtleXMiOiBbIkhSMWFiZDd3cUtvYm1FZTFLZTdHRUY0NnhYdnpYbmtBaUhONnBXdjNneFZUIl0sICJzZXJ2aWNlRW5kcG9pbnQiOiAiaHR0cDovL2FnZW50MS5sb2NhbGhvc3QifV19fQ==\", '\n",
      " '\"signer\": \"5NWZatL9eRrWAcp9qeaUs8QePydNE1TLrUsCA2X2PAhG\"}}',\n",
      " '5NWZatL9eRrWAcp9qeaUs8QePydNE1TLrUsCA2X2PAhG',\n",
      " 'FLwc3MDwCAn8Mr8XgmamQkeK1Ds1s8Eb43fXWvGPAoJJ')\n"
     ]
    }
   ],
   "source": [
    "   \n",
    "connectionRequestResponseUnpacked = \\\n",
    "    util.unpackMessage(connectionRequestResponse.text, plugin['keypair'][1])\n",
    "\n",
    "connectionRequestResponseDict = json.loads(connectionRequestResponseUnpacked[0])\n",
    "\n",
    "print(\"Decoded acapy response: \\n\")\n",
    "pp.pprint(connectionRequestResponseUnpacked)"
   ]
  },
  {
   "cell_type": "markdown",
   "metadata": {},
   "source": [
    "**Unpacking connection data embedded in the response**"
   ]
  },
  {
   "cell_type": "code",
   "execution_count": 130,
   "metadata": {
    "scrolled": true
   },
   "outputs": [
    {
     "name": "stdout",
     "output_type": "stream",
     "text": [
      "{'DID': 'X7hWMchQN6w8DG8nn4zNAm',\n",
      " 'DIDDoc': {'@context': 'https://w3id.org/did/v1',\n",
      "            'authentication': [{'publicKey': 'did:sov:X7hWMchQN6w8DG8nn4zNAm#1',\n",
      "                                'type': 'Ed25519SignatureAuthentication2018'}],\n",
      "            'id': 'did:sov:X7hWMchQN6w8DG8nn4zNAm',\n",
      "            'publicKey': [{'controller': 'did:sov:X7hWMchQN6w8DG8nn4zNAm',\n",
      "                           'id': 'did:sov:X7hWMchQN6w8DG8nn4zNAm#1',\n",
      "                           'publicKeyBase58': 'HR1abd7wqKobmEe1Ke7GEF46xXvzXnkAiHN6pWv3gxVT',\n",
      "                           'type': 'Ed25519VerificationKey2018'}],\n",
      "            'service': [{'id': 'did:sov:X7hWMchQN6w8DG8nn4zNAm;indy',\n",
      "                         'priority': 0,\n",
      "                         'recipientKeys': ['HR1abd7wqKobmEe1Ke7GEF46xXvzXnkAiHN6pWv3gxVT'],\n",
      "                         'serviceEndpoint': 'http://agent1.localhost',\n",
      "                         'type': 'IndyAgent'}]}}\n"
     ]
    }
   ],
   "source": [
    "sig_data_raw = connectionRequestResponseDict['connection~sig']['sig_data']\n",
    "#  (this is a hack)replacing artifacts that sometimes happen\n",
    "sig_data_raw = sig_data_raw.replace(\"-\", \"1\")\n",
    "sig_data_raw = sig_data_raw.replace(\"_\", \"1\")\n",
    "\n",
    "sig_data_raw = base64.b64decode(sig_data_raw)\n",
    "# avoid first 8 characters as they are a time signature\n",
    "sig_data_raw = sig_data_raw[8:]\n",
    "sig_data_raw = sig_data_raw.decode('ascii')\n",
    "\n",
    "sig_data = json.loads(sig_data_raw)\n",
    "pp.pprint(sig_data)"
   ]
  },
  {
   "cell_type": "markdown",
   "metadata": {},
   "source": [
    "**Adding the connection to connection list**"
   ]
  },
  {
   "cell_type": "code",
   "execution_count": 131,
   "metadata": {
    "scrolled": true
   },
   "outputs": [
    {
     "name": "stdout",
     "output_type": "stream",
     "text": [
      "[{'DIDDoc': {'@context': 'https://w3id.org/did/v1',\n",
      "             'authentication': [{'publicKey': 'did:sov:X7hWMchQN6w8DG8nn4zNAm#1',\n",
      "                                 'type': 'Ed25519SignatureAuthentication2018'}],\n",
      "             'id': 'did:sov:X7hWMchQN6w8DG8nn4zNAm',\n",
      "             'publicKey': [{'controller': 'did:sov:X7hWMchQN6w8DG8nn4zNAm',\n",
      "                            'id': 'did:sov:X7hWMchQN6w8DG8nn4zNAm#1',\n",
      "                            'publicKeyBase58': 'HR1abd7wqKobmEe1Ke7GEF46xXvzXnkAiHN6pWv3gxVT',\n",
      "                            'type': 'Ed25519VerificationKey2018'}],\n",
      "             'service': [{'id': 'did:sov:X7hWMchQN6w8DG8nn4zNAm;indy',\n",
      "                          'priority': 0,\n",
      "                          'recipientKeys': ['HR1abd7wqKobmEe1Ke7GEF46xXvzXnkAiHN6pWv3gxVT'],\n",
      "                          'serviceEndpoint': 'http://agent1.localhost',\n",
      "                          'type': 'IndyAgent'}]},\n",
      "  'label': 'Main (admin)',\n",
      "  'myKey': b'F;p\\xab\\xb5\\xc3\\x8f&\\x91\\x96\\xe3&}n,\\x92\\xa3L\\xaa\\xdd\\xb6Zq\\xb7'\n",
      "           b'$ f\\xb2\\xb6C\\\\\\xae\\xd5\\x1fd\\xb8\\xeag\\xe9\\xce\\xd5\\xaa\\x1c\\x08'\n",
      "           b'\\xbc\\x87[\\xc5\\x8d\\xaf;\\x89}vA\\xf1{\\x05\\xac41%%K'}]\n"
     ]
    }
   ],
   "source": [
    "connections = [\n",
    "    {\n",
    "        \"label\": agent1['invite']['label'],\n",
    "        \"DIDDoc\": sig_data['DIDDoc'],\n",
    "        \"myKey\": plugin['keypair'][1]\n",
    "    }\n",
    "]\n",
    "\n",
    "pp.pprint(connections)"
   ]
  },
  {
   "cell_type": "markdown",
   "metadata": {},
   "source": [
    "### FEATURE DISCOVERY"
   ]
  },
  {
   "cell_type": "code",
   "execution_count": 132,
   "metadata": {
    "scrolled": true
   },
   "outputs": [
    {
     "name": "stdout",
     "output_type": "stream",
     "text": [
      "{'@id': '50299d75-1d2c-4bed-8a45-bcd235aabf01',\n",
      " '@type': 'did:sov:BzCbsNYhMrjHiqZDTUASHg;spec/discover-features/1.0/disclose',\n",
      " 'protocols': [{'pid': 'did:sov:BzCbsNYhMrjHiqZDTUASHg;spec/admin-static-connections/0.1'},\n",
      "               {'pid': 'https://didcomm.org/credential-presentation/0.1'},\n",
      "               {'pid': 'https://didcomm.org/notification/1.0'},\n",
      "               {'pid': 'https://github.com/hyperledger/aries-toolbox/tree/master/docs/admin-basicmessage/0.1'},\n",
      "               {'pid': 'did:sov:BzCbsNYhMrjHiqZDTUASHg;spec/basicmessage/1.0'},\n",
      "               {'pid': 'https://didcomm.org/connections/1.0'},\n",
      "               {'pid': 'did:sov:BzCbsNYhMrjHiqZDTUASHg;spec/credential-issuance/0.1'},\n",
      "               {'pid': 'https://didcomm.org/discover-features/1.0'},\n",
      "               {'pid': 'did:sov:BzCbsNYhMrjHiqZDTUASHg;spec/routing/1.0'},\n",
      "               {'pid': 'https://didcomm.org/routing/1.0'},\n",
      "               {'pid': 'did:sov:BzCbsNYhMrjHiqZDTUASHg;spec/admin-connections/0.1'},\n",
      "               {'pid': 'https://didcomm.org/action-menu/1.0'},\n",
      "               {'pid': 'https://github.com/hyperledger/aries-toolbox/tree/master/docs/admin-payments/0.1'},\n",
      "               {'pid': 'https://didcomm.org/issue-credential/1.0'},\n",
      "               {'pid': 'did:sov:BzCbsNYhMrjHiqZDTUASHg;spec/admin-dids/0.1'},\n",
      "               {'pid': 'https://didcomm.org/present-proof/1.0'},\n",
      "               {'pid': 'did:sov:BzCbsNYhMrjHiqZDTUASHg;spec/acapy-plugin/1.0'},\n",
      "               {'pid': 'did:sov:BzCbsNYhMrjHiqZDTUASHg;spec/discover-features/1.0'},\n",
      "               {'pid': 'https://didcomm.org/credential-issuance/0.1'},\n",
      "               {'pid': 'did:sov:BzCbsNYhMrjHiqZDTUASHg;spec/connections/1.0'},\n",
      "               {'pid': 'did:sov:BzCbsNYhMrjHiqZDTUASHg;spec/admin-holder/0.1'},\n",
      "               {'pid': 'https://didcomm.org/trust_ping/1.0'},\n",
      "               {'pid': 'https://didcomm.org/introduction-service/0.1'},\n",
      "               {'pid': 'did:sov:BzCbsNYhMrjHiqZDTUASHg;spec/issue-credential/1.0'},\n",
      "               {'pid': 'https://github.com/hyperledger/aries-toolbox/tree/master/docs/admin-invitations/0.1'},\n",
      "               {'pid': 'did:sov:BzCbsNYhMrjHiqZDTUASHg;spec/introduction-service/0.1'},\n",
      "               {'pid': 'https://github.com/hyperledger/aries-toolbox/tree/master/docs/admin-connections/0.1'},\n",
      "               {'pid': 'https://didcomm.org/basicmessage/1.0'},\n",
      "               {'pid': 'did:sov:BzCbsNYhMrjHiqZDTUASHg;spec/notification/1.0'},\n",
      "               {'pid': 'did:sov:BzCbsNYhMrjHiqZDTUASHg;spec/admin-credential-definitions/0.1'},\n",
      "               {'pid': 'did:sov:BzCbsNYhMrjHiqZDTUASHg;spec/credential-presentation/0.1'},\n",
      "               {'pid': 'did:sov:BzCbsNYhMrjHiqZDTUASHg;spec/admin-schemas/0.1'},\n",
      "               {'pid': 'did:sov:BzCbsNYhMrjHiqZDTUASHg;spec/present-proof/1.0'},\n",
      "               {'pid': 'did:sov:BzCbsNYhMrjHiqZDTUASHg;spec/action-menu/1.0',\n",
      "                'roles': ['provider']},\n",
      "               {'pid': 'did:sov:BzCbsNYhMrjHiqZDTUASHg;spec/admin-issuer/0.1'},\n",
      "               {'pid': 'did:sov:BzCbsNYhMrjHiqZDTUASHg;spec/trust_ping/1.0'},\n",
      "               {'pid': 'https://github.com/hyperledger/aries-toolbox/tree/master/docs/admin-taa/0.1'}],\n",
      " '~thread': {'thid': '88de51b5-5ea0-40b4-8ad3-89009a36fc4f'}}\n"
     ]
    }
   ],
   "source": [
    "message = util.buildMessage(\n",
    "    \"did:sov:BzCbsNYhMrjHiqZDTUASHg;spec/discover-features/1.0/query\",\n",
    "    query=\"*\"\n",
    ")\n",
    "message = util.packMessage(message, connections[0])\n",
    "# print(encodedMessage)\n",
    "\n",
    "endpoint = connections[0]['DIDDoc']['service'][0]['serviceEndpoint']\n",
    "response = requests.post(endpoint, data=message)\n",
    "# print(response.text)\n",
    "\n",
    "responseDecoded = util.unpackMessage(response.text, plugin['keypair'][1])\n",
    "responseDecoded = json.loads(responseDecoded[0])\n",
    "pp.pprint(responseDecoded)"
   ]
  },
  {
   "cell_type": "markdown",
   "metadata": {},
   "source": [
    "## Dids"
   ]
  },
  {
   "cell_type": "code",
   "execution_count": 133,
   "metadata": {},
   "outputs": [
    {
     "name": "stdout",
     "output_type": "stream",
     "text": [
      "{'@id': '9405aa44-a192-487a-bce5-351e857f2339',\n",
      " '@type': 'did:sov:BzCbsNYhMrjHiqZDTUASHg;spec/admin-dids/0.1/list-dids',\n",
      " 'result': [{'did': 'WTSnQMUdQjdsxYkKUBTcYJ',\n",
      "             'verkey': 'H4AJNxyBHdmgENQsME6dhXS345NLVqcvvPM7QtF2X3b5'},\n",
      "            {'did': 'WjVuoNs4Zc1mK6vXPfqnj5',\n",
      "             'verkey': 'HCuoA2ewtHWQ297KgJG22VrexYmEbZRCi4aqPkE2cEt9'},\n",
      "            {'did': 'CcPNApHoaNaxHtrDJx3Fcu',\n",
      "             'verkey': '7L23hAKHoiLQ4KyaTEkpzi5eoLXt3cLuteFYp6CzDxXk'},\n",
      "            {'did': 'AH7bQLKyijZkniHvRoLAzu',\n",
      "             'verkey': '64HqNtZaju4Y5Vd4ZzzBZ4apZqe69gc6AtF9zHr5S9dr'},\n",
      "            {'did': 'TUNT4Z7kKeYquhmeCZjg8F',\n",
      "             'verkey': 'FRq4sMiB64yErvd4Rs7k4dmKxzBBVkbFh4Rt6QGmXmbZ'},\n",
      "            {'did': 'X7hWMchQN6w8DG8nn4zNAm',\n",
      "             'verkey': 'HR1abd7wqKobmEe1Ke7GEF46xXvzXnkAiHN6pWv3gxVT'},\n",
      "            {'did': 'B2xyyghsCnQ2svVzD6uce5',\n",
      "             'verkey': '6UC4vdz81bf5ZCgQk2DoQho3d8jMxmsRbC5StZHHwtc4'},\n",
      "            {'did': 'WZndzdvhBc6vXp8hFPrCdL',\n",
      "             'verkey': 'H7co14Vem8cv3BQ4GLgu3yutTHRRikXfUFofspX9vpDd'},\n",
      "            {'did': 'qREBhbMGwvNYXYVehH82e',\n",
      "             'verkey': 'TPabtvsKvYvrGPPohaD6PGy3yn4MxmQbng9BWSgDimx'},\n",
      "            {'did': '8vxj6PkgTnDZ2bBkyHsxga',\n",
      "             'verkey': '5KhGWAMLFtxvFjB7YhFZGSjPNnEfDSwEMrHhWB3H2PT9'},\n",
      "            {'did': 'SZEuahK29EnCrm9uUtJaJ6',\n",
      "             'verkey': 'EvsXE959ztN2HGbhfp4BJcmDU6umsswhxQPD73evxLFd'},\n",
      "            {'did': '5UupaM5RUM4mUebHuUx2sz',\n",
      "             'verkey': '3SfHndFMGHHDF3qjEG6zzpvYaBdEo9o3DSxUHAgdjZ1m'},\n",
      "            {'did': 'PAMhLzhfLCv3DDUP7Yx7ps',\n",
      "             'verkey': 'D5ZfTTQDKREv8nVwR5evgzfUr2yJquwt9dECKbKHV7ie'},\n",
      "            {'did': 'F4po14vx8dJBhQWcRfLAq1',\n",
      "             'verkey': '8feoitpFocZG4muetHvUvQN5cxFhA6yKSCSqVakU1v57'},\n",
      "            {'did': 'LUyanBdxvSZbptjEb8xbQa',\n",
      "             'verkey': 'BcsknuSSTdYRHCnvaQs7Q5DXeiRETF61QF1nS6sY5a6B'},\n",
      "            {'did': '55GkHamhTU1ZbTbV2ab9DE',\n",
      "             'verkey': '3Dn1SJNPaCXcvvJvSbsFWP2xaCjMom3can8CQNhWrTRx'},\n",
      "            {'did': 'Eae7rNh7Mn93GTVYzhV2st',\n",
      "             'verkey': '8QHrRY5Wm6eMiDfzsZwVxdiazkL6Zd7qYK8PeytBucjX'},\n",
      "            {'did': 'MtQ8f8RS3D9L32KwRppSN3',\n",
      "             'verkey': 'CPFhtvCVkzXbCQkNHVeYv8idUYWp6UqHDMaaYXK92fQV'},\n",
      "            {'did': 'Faq6TQsQ3ZsiARxwKv29tT',\n",
      "             'verkey': '8x1L4oqHNa8nRg3BACzrJkgzmWPCX3581tgt4Ghvobu1'},\n",
      "            {'did': '2xVVxz7CUc1aEDqmtWTNyY',\n",
      "             'verkey': '24rgnQ3jsfCEoEow8KF2Nz19piYtZHppZxbAMwqwmq5z'},\n",
      "            {'did': '12JVZvRYnFCbvquE4NCdRq',\n",
      "             'verkey': '1i9U9vXkK6292TKNHTYgFYTA4bKJZsjhMidDXECsVKe'},\n",
      "            {'did': 'LBNmHx5rsjt4uzihCKK5FS',\n",
      "             'verkey': 'BTHNhXWAp2af9WMDXdJQpNHiNPct2eedY8oZQHNhCpdr'},\n",
      "            {'did': 'C6ejYAEzNFpzXgyWAHVVJ7',\n",
      "             'verkey': '73p4gufT4AHYdJQKtpVgMDLvNr2LhPyFLQ9xTTQfbu6D'},\n",
      "            {'did': 'GbkqqqnCPFVP8r45GAZZDr',\n",
      "             'verkey': '9W87pWUrgFVpojeR8zKtEDj4VaWM788N2DgHzN2Tkkzd'},\n",
      "            {'did': '8P9EYpMrG1sRB77QJxinJT',\n",
      "             'verkey': '52MQrkyBgynpJmh6upFQwext7k6Fp6why8e1bLKYSZhf'},\n",
      "            {'did': 'VUVADMjTh4Z1Pcn4SGWMSp',\n",
      "             'verkey': 'GX7iK8osF2gmZEGHCmYEZVRrbXZAP1ZHNZpvBgb6yXE2'},\n",
      "            {'did': 'GcKX5NKL7jqYHeByVwATwU',\n",
      "             'verkey': '9WRvnZrZrsAo3HMV6ReSCX7hR8NkWDbdSMwEuPRgcxwd'},\n",
      "            {'did': 'AjBA7vUjTkG7LkCJAHuj4p',\n",
      "             'verkey': '6JVgu66GQJuNvJS3nSjodAYfigKJhioEUfDM5ZvWayar'},\n",
      "            {'did': '6r5RtncjZ4YHeSZUtvx78c',\n",
      "             'verkey': '4BosbcTu3aJLN5Tb6cU3S1AWrZVsMY3H2zRhBPdE9v5u'},\n",
      "            {'did': 'GezrG42HRtizmLy6RsmW7p',\n",
      "             'verkey': '9Xtb6e8SkFtcaxavEyJ115e28VSq7eTU4w7WnpBk27oQ'},\n",
      "            {'did': '9JveaapuypoNY3HRU3X9mj',\n",
      "             'verkey': '5XfbhFrPxtB6KzKVQbn2nA9okNfvKGRct7uiBXFFJucY'},\n",
      "            {'did': 'SeW18kDEZHDBuV7HfYmFxv',\n",
      "             'verkey': 'EyjouSbB8vR6N6S5x6pza5U2ZKXxfwq9mgzyHoqYPWrb'},\n",
      "            {'did': '3VdJuJC62Ru33WyNSxUcjX',\n",
      "             'verkey': '2MpuySBwegXuRaDnaktGYiwxJLEEnuuDHHCZgnWQkCwU'},\n",
      "            {'did': 'LFNLZCihLk1DRYbsmswgr4',\n",
      "             'verkey': 'BVTbCE9RrNxqEZPidAtDLCtNLqLwKXfhD4gVudXjmJcV'},\n",
      "            {'did': 'UEDxFRbX5J45PzgPG2sYsz',\n",
      "             'verkey': 'FqjN28vcUEgWkkTvuNYcb3WHetSkzBdSyJwiR271Tkzf'},\n",
      "            {'did': '5pm36m4SARmZC3nTLZ1VpK',\n",
      "             'verkey': '3dUjzXnhyfb79B6QLV1cHEsqBk3trsntEcMZjBSm3mTk'},\n",
      "            {'did': 'XnueDaAMaE4f4Nzhio2Kh2',\n",
      "             'verkey': 'HnP4WGLwWXgsvmmVRAtg41ErNUicmdA9tYCiBUr23hg9'},\n",
      "            {'did': 'GuCfzcBckXK91DvdcFm9cT',\n",
      "             'verkey': '9fdbmSSVvELS74jkdY5sUkqDV14hZLbJdcAm6TL79ex8'},\n",
      "            {'did': 'SqDRMURHifvwtzWwdazfSa',\n",
      "             'verkey': 'F5aW93xPr4yVBDNnzDJxXRBEYzouyivd6XwmCpg8Y96Z'},\n",
      "            {'did': '8PKFgMijzCPNfUdjRW1U4k',\n",
      "             'verkey': '52SsbRZHbSC4G67FUqKfSzsoZsz48zo3XGp69MVbLuuN'},\n",
      "            {'did': '3U3xJ7A5eQZr8fo4P9DsLg',\n",
      "             'verkey': '2Ly842juwgcVrjPoeU1RXjQ2WrZvSnQ6yCAFXtnRcurA'},\n",
      "            {'did': 'NoE2L3jV9yALVhptnhXMTe',\n",
      "             'verkey': 'Ct3dXWGuYPGNHQFtxKgYBEnQ5GijhUguW6aDS61rBjfX'},\n",
      "            {'did': 'NsBr4HvNa3YRV6HgbywSGc',\n",
      "             'verkey': 'CvCtgVmrNjshZt6FE5Y1Kx5nLxbvbTn3Cju4V5KfmzSU'}],\n",
      " '~thread': {'thid': '177627bd-3b0f-4203-881a-1f622942c49b'}}\n"
     ]
    }
   ],
   "source": [
    "message = util.buildMessage(\"did:sov:BzCbsNYhMrjHiqZDTUASHg;spec/admin-dids/0.1/get-list-dids\")\n",
    "encodedMessage = util.packMessage(message, connections[0])\n",
    "# print(encodedMessage)\n",
    "\n",
    "endpoint = connections[0]['DIDDoc']['service'][0]['serviceEndpoint']\n",
    "response = requests.post(endpoint, data=encodedMessage)\n",
    "# print(response.text)\n",
    "\n",
    "responseDecoded = util.unpackMessage(response.text, plugin['keypair'][1])\n",
    "responseDecoded = json.loads(responseDecoded[0])\n",
    "pp.pprint(responseDecoded)"
   ]
  },
  {
   "cell_type": "markdown",
   "metadata": {},
   "source": [
    "## Public did"
   ]
  },
  {
   "cell_type": "code",
   "execution_count": 134,
   "metadata": {},
   "outputs": [
    {
     "name": "stdout",
     "output_type": "stream",
     "text": [
      "{'@id': 'd31cf65a-c6ab-421d-a9a9-3fd0360a148e',\n",
      " '@type': 'did:sov:BzCbsNYhMrjHiqZDTUASHg;spec/admin-dids/0.1/did',\n",
      " '~thread': {'thid': 'f7619529-1c43-4104-8137-b60e217a3b82'}}\n"
     ]
    }
   ],
   "source": [
    "message = util.buildMessage(\"did:sov:BzCbsNYhMrjHiqZDTUASHg;spec/admin-dids/0.1/get-public-did\")\n",
    "encodedMessage = util.packMessage(message, connections[0])\n",
    "# print(encodedMessage)\n",
    "\n",
    "endpoint = connections[0]['DIDDoc']['service'][0]['serviceEndpoint']\n",
    "response = requests.post(endpoint, data=encodedMessage)\n",
    "# print(response.text)\n",
    "\n",
    "responseDecoded = util.unpackMessage(response.text, plugin['keypair'][1])\n",
    "responseDecoded = json.loads(responseDecoded[0])\n",
    "pp.pprint(responseDecoded)"
   ]
  },
  {
   "cell_type": "code",
   "execution_count": 135,
   "metadata": {},
   "outputs": [
    {
     "name": "stdout",
     "output_type": "stream",
     "text": [
      "{'@id': 'ddf493d3-fff6-4100-956f-7d8240c90b0c',\n",
      " '@type': 'did:sov:BzCbsNYhMrjHiqZDTUASHg;spec/acapy-plugin/1.0/schema',\n",
      " 'payload': 'a very cool message',\n",
      " 'schema_id': '622917b8b7de4b84a3dbc870827fa307',\n",
      " '~thread': {'thid': '432fc924-e51c-4be4-9484-4bf7d2d8f67e'}}\n"
     ]
    }
   ],
   "source": [
    "message = util.buildMessage(\n",
    "    \"did:sov:BzCbsNYhMrjHiqZDTUASHg;spec/acapy-plugin/1.0/schema\",\n",
    "    payload=\"a very cool message\"\n",
    ")\n",
    "\n",
    "encodedMessage = util.packMessage(message, connections[0])\n",
    "# print(encodedMessage)\n",
    "\n",
    "endpoint = connections[0]['DIDDoc']['service'][0]['serviceEndpoint']\n",
    "response = requests.post(endpoint, data=encodedMessage)\n",
    "# print(response.text)\n",
    "\n",
    "responseDecoded = util.unpackMessage(response.text, plugin['keypair'][1])\n",
    "responseDecoded = json.loads(responseDecoded[0])\n",
    "pp.pprint(responseDecoded)"
   ]
  },
  {
   "cell_type": "code",
   "execution_count": 140,
   "metadata": {},
   "outputs": [
    {
     "name": "stdout",
     "output_type": "stream",
     "text": [
      "{'@id': '09a5e950-7544-4c4b-9ba4-da79602674a9',\n",
      " '@type': 'did:sov:BzCbsNYhMrjHiqZDTUASHg;spec/acapy-plugin/1.0/schema',\n",
      " 'payload': 'a very cool message',\n",
      " 'schema_id': '6f1b20eaa0a144e6aa5744fe6eaabede',\n",
      " '~thread': {'thid': '0d5a745a-0721-43a3-8170-ce963829750e'}}\n"
     ]
    }
   ],
   "source": [
    "message = util.buildMessage(\n",
    "    \"did:sov:BzCbsNYhMrjHiqZDTUASHg;spec/acapy-plugin/1.0/search_schema\",\n",
    "    schema_id=\"6f1b20eaa0a144e6aa5744fe6eaabede\"\n",
    ")\n",
    "\n",
    "encodedMessage = util.packMessage(message, connections[0])\n",
    "\n",
    "endpoint = connections[0]['DIDDoc']['service'][0]['serviceEndpoint']\n",
    "response = requests.post(endpoint, data=encodedMessage)\n",
    "\n",
    "responseDecoded = util.unpackMessage(response.text, plugin['keypair'][1])\n",
    "responseDecoded = json.loads(responseDecoded[0])\n",
    "pp.pprint(responseDecoded)"
   ]
  }
 ],
 "metadata": {
  "kernelspec": {
   "display_name": "Python 3",
   "language": "python",
   "name": "python3"
  },
  "language_info": {
   "codemirror_mode": {
    "name": "ipython",
    "version": 3
   },
   "file_extension": ".py",
   "mimetype": "text/x-python",
   "name": "python",
   "nbconvert_exporter": "python",
   "pygments_lexer": "ipython3",
   "version": "3.7.5"
  }
 },
 "nbformat": 4,
 "nbformat_minor": 4
}
