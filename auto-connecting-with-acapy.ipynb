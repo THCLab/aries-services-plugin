{
 "cells": [
  {
   "cell_type": "code",
   "execution_count": 119,
   "metadata": {},
   "outputs": [],
   "source": [
    "import requests \n",
    "import re as regex\n",
    "import json\n",
    "import pprint as pp # pretty print\n",
    "\n",
    "import aries_cloudagent.wallet.crypto as crypto\n",
    "import aries_cloudagent.wallet.util as util\n",
    "import base64\n",
    "import base58\n",
    "import uuid\n",
    "\n",
    "agent1 = {}\n",
    "agent2 = {}\n",
    "plugin = {}"
   ]
  },
  {
   "cell_type": "markdown",
   "metadata": {},
   "source": [
    "## Enter Invite Url:"
   ]
  },
  {
   "cell_type": "code",
   "execution_count": 120,
   "metadata": {},
   "outputs": [
    {
     "name": "stdout",
     "output_type": "stream",
     "text": [
      "http://agent1.localhost?c_i=eyJAdHlwZSI6ICJkaWQ6c292OkJ6Q2JzTlloTXJqSGlxWkRUVUFTSGc7c3BlYy9jb25uZWN0aW9ucy8xLjAvaW52aXRhdGlvbiIsICJAaWQiOiAiZTgyYzVmYzQtZTVjMC00NzZiLTlhNWQtMzJhZDFiN2UxNjFmIiwgImxhYmVsIjogIk1haW4gKGFkbWluKSIsICJzZXJ2aWNlRW5kcG9pbnQiOiAiaHR0cDovL2FnZW50MS5sb2NhbGhvc3QiLCAicmVjaXBpZW50S2V5cyI6IFsiOUFWc0FHbVBIQmVSenV2TVNpdFVtOVRnS3ZoaFBoTlNSYk5aRHk2cWppc1IiXX0=\n"
     ]
    }
   ],
   "source": [
    "endpoint = \"http://localhost:8150/connections/create-admin-invitation-url\"\n",
    "adminInvitationResponse = requests.post(endpoint)\n",
    "adminInvitationResponse = adminInvitationResponse.text\n",
    "agent1['url'] = json.loads(adminInvitationResponse)['invitation_url']\n",
    "print(agent1['url'])"
   ]
  },
  {
   "cell_type": "code",
   "execution_count": 121,
   "metadata": {
    "scrolled": true
   },
   "outputs": [
    {
     "name": "stdout",
     "output_type": "stream",
     "text": [
      "Decoded invitation:\n",
      "\n",
      "{'@id': 'e82c5fc4-e5c0-476b-9a5d-32ad1b7e161f',\n",
      " '@type': 'did:sov:BzCbsNYhMrjHiqZDTUASHg;spec/connections/1.0/invitation',\n",
      " 'label': 'Main (admin)',\n",
      " 'recipientKeys': ['9AVsAGmPHBeRzuvMSitUm9TgKvhhPhNSRbNZDy6qjisR'],\n",
      " 'serviceEndpoint': 'http://agent1.localhost'}\n"
     ]
    }
   ],
   "source": [
    "# Process invite url, delete white spaces\n",
    "agent1['url'] = agent1['url'].replace(\" \", \"\")\n",
    "# Regex(substitution) to extract only the invite string from url\n",
    "agent1['invite_string_b64'] = regex.sub(\n",
    "           r\".*(c\\_i\\=)\", \n",
    "           r\"\", \n",
    "           agent1['url'])\n",
    "# Decoding invite string using base64 decoder\n",
    "agent1['invite_string'] = base64.b64decode(agent1['invite_string_b64'])\n",
    "# Converting our invite json string into a dictionary \n",
    "agent1['invite'] = json.loads(agent1['invite_string'])\n",
    "\n",
    "print(\"Decoded invitation:\\n\")\n",
    "pp.pprint(agent1['invite'])"
   ]
  },
  {
   "cell_type": "code",
   "execution_count": 122,
   "metadata": {},
   "outputs": [
    {
     "name": "stdout",
     "output_type": "stream",
     "text": [
      "Private key: \n",
      " 3Kz9RqzbMKmnw8252h3um3abrfd7sYRVeW35LbsXNj1xGKC5z4Boz1ywiQ3FvWa28hYXtPvgEJQmTQEUb5ejQbaF\n",
      "\n",
      "Public key: \n",
      " HYLHdC8r4cTx1ymwPGWNTvggWMq9eriEE7vutn9eqPuy\n"
     ]
    }
   ],
   "source": [
    "### Generating a did key using aries crypto module\n",
    "# Create a key pair with random seed \n",
    "# Order: 0 - public key, 1 - secret / pritvate key\n",
    "plugin['keypair'] = crypto.create_keypair()\n",
    "# it seems to me that did is an encoded sub string of public key\n",
    "# or maybe just some arbitrary random number\n",
    "did = plugin['keypair'][0][:16]\n",
    "# final version of our did\n",
    "plugin['did'] = base58.b58encode(did).decode(\"ascii\")\n",
    "# encoding keys to base58\n",
    "plugin['public_key_b58'] = \\\n",
    "    base58.b58encode(plugin['keypair'][0]).decode(\"ascii\")\n",
    "plugin['private_key_b58'] = \\\n",
    "    base58.b58encode(plugin['keypair'][1]).decode(\"ascii\")\n",
    "\n",
    "# print(base58.b58encode(did))\n",
    "# print(plugin['did'])\n",
    "print(\"Private key: \\n\", plugin['private_key_b58'])\n",
    "print(\"\\nPublic key: \\n\", plugin['public_key_b58'])"
   ]
  },
  {
   "cell_type": "markdown",
   "metadata": {},
   "source": [
    "**Sending a connection request to acapy**"
   ]
  },
  {
   "cell_type": "code",
   "execution_count": 123,
   "metadata": {},
   "outputs": [],
   "source": [
    "uniqueId = str(uuid.uuid4())\n",
    "# print(uniqueId)\n",
    "\n",
    "# our request body\n",
    "message = {\n",
    "        \"@id\":  uniqueId,\n",
    "        \"~transport\": {\n",
    "          \"return_route\": \"all\"\n",
    "        },\n",
    "        \"@type\": \"did:sov:BzCbsNYhMrjHiqZDTUASHg;spec/connections/1.0/request\",\n",
    "        \"label\": \"Plugin\",\n",
    "        \"connection\": {\n",
    "          \"DID\": plugin['did'],\n",
    "          \"DIDDoc\": {\n",
    "            \"@context\": \"https://w3id.org/did/v1\",\n",
    "            \"id\": plugin['did'],\n",
    "            \"publicKey\": [{\n",
    "              \"id\": plugin['did'] + \"#keys-1\",\n",
    "              \"type\": \"Ed25519VerificationKey2018\",\n",
    "              \"controller\": plugin['did'],\n",
    "              \"publicKeyBase58\": plugin['public_key_b58']\n",
    "            }],\n",
    "            \"service\": [{\n",
    "              \"id\": plugin['did'] + \";indy\",\n",
    "              \"type\": \"IndyAgent\",\n",
    "              \"recipientKeys\": plugin['public_key_b58'],\n",
    "              \"serviceEndpoint\": \"\"\n",
    "            }]\n",
    "          }\n",
    "        }\n",
    "      }"
   ]
  },
  {
   "cell_type": "markdown",
   "metadata": {},
   "source": [
    "**Encoding/packing the request**"
   ]
  },
  {
   "cell_type": "code",
   "execution_count": 124,
   "metadata": {},
   "outputs": [],
   "source": [
    "# encoding it with aries crypto function using the key that was\n",
    "# given to us by aca-py in recipientKeys\n",
    "decodedAcapyKey = base58.b58decode(agent1['invite']['recipientKeys'][0])\n",
    "ourPrivateKey = plugin['keypair'][1]\n",
    "# print(plugin['did'])\n",
    "encodedMessage = \\\n",
    "    crypto.encode_pack_message(json.dumps(message), [decodedAcapyKey], ourPrivateKey)\n",
    "\n",
    "encodedMessage = encodedMessage.decode(\"ascii\")\n",
    "# print(\"Encoded message: \\n\")\n",
    "# pp.pprint(encodedMessage)"
   ]
  },
  {
   "cell_type": "code",
   "execution_count": 125,
   "metadata": {},
   "outputs": [],
   "source": [
    "connectionRequestResponse = requests.post(agent1['invite']['serviceEndpoint'], data=encodedMessage)\n",
    "assert connectionRequestResponse.text != \"\", \"invalid response from acapy\""
   ]
  },
  {
   "cell_type": "markdown",
   "metadata": {},
   "source": [
    "**Response from aca-py**"
   ]
  },
  {
   "cell_type": "code",
   "execution_count": 126,
   "metadata": {
    "scrolled": true
   },
   "outputs": [
    {
     "name": "stdout",
     "output_type": "stream",
     "text": [
      "Decoded acapy response: \n",
      "\n",
      "('{\"@type\": \"did:sov:BzCbsNYhMrjHiqZDTUASHg;spec/connections/1.0/response\", '\n",
      " '\"@id\": \"47c446d1-18f1-4a3b-95b8-3dab26a6e905\", \"~thread\": {\"thid\": '\n",
      " '\"e83aa68b-0531-4298-a495-b3fbfb7b4ee5\"}, \"connection~sig\": {\"@type\": '\n",
      " '\"did:sov:BzCbsNYhMrjHiqZDTUASHg;spec/signature/1.0/ed25519Sha512_single\", '\n",
      " '\"signature\": '\n",
      " '\"3geJZS66rFVz-EaGJIqBaqgi4si7vCHP4WX0PdSqOAtGphnKJFYopeg3lzL4dgud_IcK0iZhrfIm0BKb2cN-Dg==\", '\n",
      " '\"sig_data\": '\n",
      " '\"AAAAAF7DluF7IkRJRCI6ICJWVVZBRE1qVGg0WjFQY240U0dXTVNwIiwgIkRJRERvYyI6IHsiQGNvbnRleHQiOiAiaHR0cHM6Ly93M2lkLm9yZy9kaWQvdjEiLCAiaWQiOiAiZGlkOnNvdjpWVVZBRE1qVGg0WjFQY240U0dXTVNwIiwgInB1YmxpY0tleSI6IFt7ImlkIjogImRpZDpzb3Y6VlVWQURNalRoNFoxUGNuNFNHV01TcCMxIiwgInR5cGUiOiAiRWQyNTUxOVZlcmlmaWNhdGlvbktleTIwMTgiLCAiY29udHJvbGxlciI6ICJkaWQ6c292OlZVVkFETWpUaDRaMVBjbjRTR1dNU3AiLCAicHVibGljS2V5QmFzZTU4IjogIkdYN2lLOG9zRjJnbVpFR0hDbVlFWlZScmJYWkFQMVpITlpwdkJnYjZ5WEUyIn1dLCAiYXV0aGVudGljYXRpb24iOiBbeyJ0eXBlIjogIkVkMjU1MTlTaWduYXR1cmVBdXRoZW50aWNhdGlvbjIwMTgiLCAicHVibGljS2V5IjogImRpZDpzb3Y6VlVWQURNalRoNFoxUGNuNFNHV01TcCMxIn1dLCAic2VydmljZSI6IFt7ImlkIjogImRpZDpzb3Y6VlVWQURNalRoNFoxUGNuNFNHV01TcDtpbmR5IiwgInR5cGUiOiAiSW5keUFnZW50IiwgInByaW9yaXR5IjogMCwgInJlY2lwaWVudEtleXMiOiBbIkdYN2lLOG9zRjJnbVpFR0hDbVlFWlZScmJYWkFQMVpITlpwdkJnYjZ5WEUyIl0sICJzZXJ2aWNlRW5kcG9pbnQiOiAiaHR0cDovL2FnZW50MS5sb2NhbGhvc3QifV19fQ==\", '\n",
      " '\"signer\": \"9AVsAGmPHBeRzuvMSitUm9TgKvhhPhNSRbNZDy6qjisR\"}}',\n",
      " '9AVsAGmPHBeRzuvMSitUm9TgKvhhPhNSRbNZDy6qjisR',\n",
      " 'HYLHdC8r4cTx1ymwPGWNTvggWMq9eriEE7vutn9eqPuy')\n"
     ]
    }
   ],
   "source": [
    "# a bit of a hack to simplify message unpacking,\n",
    "# decode_pack_message needs a callable object for some reason\n",
    "def unpackMessage(message, privateKey):\n",
    "    class FindKey:\n",
    "        def __init__(self, key):\n",
    "            self.key = key\n",
    "\n",
    "        def __call__(self, argument):\n",
    "            return self.key\n",
    "\n",
    "    find_key = FindKey(privateKey)   \n",
    "    return crypto.decode_pack_message(message, find_key)\n",
    "    \n",
    "connectionRequestResponseUnpacked = \\\n",
    "    unpackMessage(connectionRequestResponse.text, plugin['keypair'][1])\n",
    "\n",
    "connectionRequestResponseDict = json.loads(connectionRequestResponseUnpacked[0])\n",
    "\n",
    "print(\"Decoded acapy response: \\n\")\n",
    "pp.pprint(connectionRequestResponseUnpacked)"
   ]
  },
  {
   "cell_type": "markdown",
   "metadata": {},
   "source": [
    "**Unpacking connection data embedded in the response**"
   ]
  },
  {
   "cell_type": "code",
   "execution_count": 127,
   "metadata": {
    "scrolled": true
   },
   "outputs": [
    {
     "name": "stdout",
     "output_type": "stream",
     "text": [
      "{'DID': 'VUVADMjTh4Z1Pcn4SGWMSp',\n",
      " 'DIDDoc': {'@context': 'https://w3id.org/did/v1',\n",
      "            'authentication': [{'publicKey': 'did:sov:VUVADMjTh4Z1Pcn4SGWMSp#1',\n",
      "                                'type': 'Ed25519SignatureAuthentication2018'}],\n",
      "            'id': 'did:sov:VUVADMjTh4Z1Pcn4SGWMSp',\n",
      "            'publicKey': [{'controller': 'did:sov:VUVADMjTh4Z1Pcn4SGWMSp',\n",
      "                           'id': 'did:sov:VUVADMjTh4Z1Pcn4SGWMSp#1',\n",
      "                           'publicKeyBase58': 'GX7iK8osF2gmZEGHCmYEZVRrbXZAP1ZHNZpvBgb6yXE2',\n",
      "                           'type': 'Ed25519VerificationKey2018'}],\n",
      "            'service': [{'id': 'did:sov:VUVADMjTh4Z1Pcn4SGWMSp;indy',\n",
      "                         'priority': 0,\n",
      "                         'recipientKeys': ['GX7iK8osF2gmZEGHCmYEZVRrbXZAP1ZHNZpvBgb6yXE2'],\n",
      "                         'serviceEndpoint': 'http://agent1.localhost',\n",
      "                         'type': 'IndyAgent'}]}}\n"
     ]
    }
   ],
   "source": [
    "sig_data_raw = connectionRequestResponseDict['connection~sig']['sig_data']\n",
    "#  (this is a hack)replacing artifacts that sometimes happen\n",
    "sig_data_raw = sig_data_raw.replace(\"-\", \"1\")\n",
    "sig_data_raw = sig_data_raw.replace(\"_\", \"1\")\n",
    "\n",
    "sig_data_raw = base64.b64decode(sig_data_raw)\n",
    "# avoid first 8 characters as they are a time signature\n",
    "sig_data_raw = sig_data_raw[8:]\n",
    "sig_data_raw = sig_data_raw.decode('ascii')\n",
    "\n",
    "sig_data = json.loads(sig_data_raw)\n",
    "pp.pprint(sig_data)"
   ]
  },
  {
   "cell_type": "markdown",
   "metadata": {},
   "source": [
    "**Adding the connection to connection list**"
   ]
  },
  {
   "cell_type": "code",
   "execution_count": 128,
   "metadata": {},
   "outputs": [
    {
     "name": "stdout",
     "output_type": "stream",
     "text": [
      "[{'DIDDoc': {'@context': 'https://w3id.org/did/v1',\n",
      "             'authentication': [{'publicKey': 'did:sov:VUVADMjTh4Z1Pcn4SGWMSp#1',\n",
      "                                 'type': 'Ed25519SignatureAuthentication2018'}],\n",
      "             'id': 'did:sov:VUVADMjTh4Z1Pcn4SGWMSp',\n",
      "             'publicKey': [{'controller': 'did:sov:VUVADMjTh4Z1Pcn4SGWMSp',\n",
      "                            'id': 'did:sov:VUVADMjTh4Z1Pcn4SGWMSp#1',\n",
      "                            'publicKeyBase58': 'GX7iK8osF2gmZEGHCmYEZVRrbXZAP1ZHNZpvBgb6yXE2',\n",
      "                            'type': 'Ed25519VerificationKey2018'}],\n",
      "             'service': [{'id': 'did:sov:VUVADMjTh4Z1Pcn4SGWMSp;indy',\n",
      "                          'priority': 0,\n",
      "                          'recipientKeys': ['GX7iK8osF2gmZEGHCmYEZVRrbXZAP1ZHNZpvBgb6yXE2'],\n",
      "                          'serviceEndpoint': 'http://agent1.localhost',\n",
      "                          'type': 'IndyAgent'}]},\n",
      "  'label': 'Main (admin)',\n",
      "  'myKey': b'tg\\xfa\\x9d\\xb8Y\\xa5(\\xdd\\xac\\x08\\x03\\xa9\\x84X~p*\\xf9?4\\x94Q\\xf9'\n",
      "           b'\\xc1:t\\xf1\\xb8L\"4\\xf5\\xc1\\xcd\\xa8\\xa3\\xecj\\xf41C\\xf6\\n'\n",
      "           b'\\xcf\\x9d\\xa3\\xa1-\\x1e:YcV\\x91Y8f\\xe7\\x1af{{\\xa8'}]\n"
     ]
    }
   ],
   "source": [
    "connections = [\n",
    "    {\n",
    "        \"label\": agent1['invite']['label'],\n",
    "        \"DIDDoc\": sig_data['DIDDoc'],\n",
    "        \"myKey\": plugin['keypair'][1]\n",
    "    }\n",
    "]\n",
    "\n",
    "def packMessage(message, connection):\n",
    "    # pass in our private key and recipient key to the encode_pack_message\n",
    "    decodedRecipientKey = base58.b58decode(connection['DIDDoc']['service'][0]['recipientKeys'][0])\n",
    "    packedMessage = \\\n",
    "    crypto.encode_pack_message(json.dumps(message), \\\n",
    "                               [decodedRecipientKey], \\\n",
    "                               connection['myKey'])\n",
    "    return packedMessage.decode('ascii')\n",
    "\n",
    "\n",
    "pp.pprint(connections)"
   ]
  },
  {
   "cell_type": "markdown",
   "metadata": {},
   "source": [
    "### FEATURE DISCOVERY"
   ]
  },
  {
   "cell_type": "code",
   "execution_count": 129,
   "metadata": {
    "scrolled": true
   },
   "outputs": [
    {
     "name": "stdout",
     "output_type": "stream",
     "text": [
      "{'@id': 'f8e92e3a-b763-4caf-91e4-ac9a2e6cbb58',\n",
      " '@type': 'did:sov:BzCbsNYhMrjHiqZDTUASHg;spec/discover-features/1.0/disclose',\n",
      " 'protocols': [{'pid': 'did:sov:BzCbsNYhMrjHiqZDTUASHg;spec/admin-static-connections/0.1'},\n",
      "               {'pid': 'https://github.com/hyperledger/aries-toolbox/tree/master/docs/admin-payments/0.1'},\n",
      "               {'pid': 'did:sov:BzCbsNYhMrjHiqZDTUASHg;spec/admin-dids/0.1'},\n",
      "               {'pid': 'did:sov:BzCbsNYhMrjHiqZDTUASHg;spec/admin-issuer/0.1'},\n",
      "               {'pid': 'https://didcomm.org/routing/1.0'},\n",
      "               {'pid': 'https://github.com/hyperledger/aries-toolbox/tree/master/docs/admin-basicmessage/0.1'},\n",
      "               {'pid': 'did:sov:BzCbsNYhMrjHiqZDTUASHg;spec/trust_ping/1.0'},\n",
      "               {'pid': 'https://didcomm.org/connections/1.0'},\n",
      "               {'pid': 'did:sov:BzCbsNYhMrjHiqZDTUASHg;spec/routing/1.0'},\n",
      "               {'pid': 'did:sov:BzCbsNYhMrjHiqZDTUASHg;spec/discover-features/1.0'},\n",
      "               {'pid': 'https://didcomm.org/trust_ping/1.0'},\n",
      "               {'pid': 'did:sov:BzCbsNYhMrjHiqZDTUASHg;spec/admin-holder/0.1'},\n",
      "               {'pid': 'https://didcomm.org/discover-features/1.0'},\n",
      "               {'pid': 'https://didcomm.org/introduction-service/0.1'},\n",
      "               {'pid': 'did:sov:BzCbsNYhMrjHiqZDTUASHg;spec/connections/1.0'},\n",
      "               {'pid': 'https://didcomm.org/issue-credential/1.0'},\n",
      "               {'pid': 'did:sov:BzCbsNYhMrjHiqZDTUASHg;spec/introduction-service/0.1'},\n",
      "               {'pid': 'did:sov:BzCbsNYhMrjHiqZDTUASHg;spec/admin-credential-definitions/0.1'},\n",
      "               {'pid': 'did:sov:BzCbsNYhMrjHiqZDTUASHg;spec/present-proof/1.0'},\n",
      "               {'pid': 'did:sov:BzCbsNYhMrjHiqZDTUASHg;spec/action-menu/1.0',\n",
      "                'roles': ['provider']},\n",
      "               {'pid': 'https://didcomm.org/action-menu/1.0'},\n",
      "               {'pid': 'did:sov:BzCbsNYhMrjHiqZDTUASHg;spec/issue-credential/1.0'},\n",
      "               {'pid': 'did:sov:BzCbsNYhMrjHiqZDTUASHg;spec/credential-presentation/0.1'},\n",
      "               {'pid': 'https://didcomm.org/credential-presentation/0.1'},\n",
      "               {'pid': 'did:sov:BzCbsNYhMrjHiqZDTUASHg;spec/notification/1.0'},\n",
      "               {'pid': 'did:sov:BzCbsNYhMrjHiqZDTUASHg;spec/acapy-plugin/1.0'},\n",
      "               {'pid': 'did:sov:BzCbsNYhMrjHiqZDTUASHg;spec/basicmessage/1.0'},\n",
      "               {'pid': 'did:sov:BzCbsNYhMrjHiqZDTUASHg;spec/admin-schemas/0.1'},\n",
      "               {'pid': 'https://github.com/hyperledger/aries-toolbox/tree/master/docs/admin-invitations/0.1'},\n",
      "               {'pid': 'did:sov:BzCbsNYhMrjHiqZDTUASHg;spec/credential-issuance/0.1'},\n",
      "               {'pid': 'https://didcomm.org/credential-issuance/0.1'},\n",
      "               {'pid': 'https://github.com/hyperledger/aries-toolbox/tree/master/docs/admin-connections/0.1'},\n",
      "               {'pid': 'https://github.com/hyperledger/aries-toolbox/tree/master/docs/admin-taa/0.1'},\n",
      "               {'pid': 'https://didcomm.org/notification/1.0'},\n",
      "               {'pid': 'https://didcomm.org/basicmessage/1.0'},\n",
      "               {'pid': 'https://didcomm.org/present-proof/1.0'},\n",
      "               {'pid': 'did:sov:BzCbsNYhMrjHiqZDTUASHg;spec/admin-connections/0.1'}],\n",
      " '~thread': {'thid': '53d94767-7e08-4745-bb33-4ef9e059f08d'}}\n"
     ]
    }
   ],
   "source": [
    "message = {}\n",
    "message['@id'] = str(uuid.uuid4())\n",
    "message['@type'] = \"did:sov:BzCbsNYhMrjHiqZDTUASHg;spec/discover-features/1.0/query\"\n",
    "message['~transport'] = {}\n",
    "message['~transport']['return_route'] = 'all'\n",
    "message['query'] = '*'\n",
    "encodedMessage = packMessage(message, connections[0])\n",
    "# print(encodedMessage)\n",
    "\n",
    "endpoint = connections[0]['DIDDoc']['service'][0]['serviceEndpoint']\n",
    "response = requests.post(endpoint, data=encodedMessage)\n",
    "# print(response.text)\n",
    "\n",
    "responseDecoded = unpackMessage(response.text, plugin['keypair'][1])\n",
    "responseDecoded = json.loads(responseDecoded[0])\n",
    "pp.pprint(responseDecoded)"
   ]
  },
  {
   "cell_type": "markdown",
   "metadata": {},
   "source": [
    "## Dids"
   ]
  },
  {
   "cell_type": "code",
   "execution_count": 130,
   "metadata": {},
   "outputs": [
    {
     "name": "stdout",
     "output_type": "stream",
     "text": [
      "{'@id': 'ab2eed0b-bd5c-4fa8-af91-38adf8a539b9',\n",
      " '@type': 'did:sov:BzCbsNYhMrjHiqZDTUASHg;spec/admin-dids/0.1/list-dids',\n",
      " 'result': [{'did': 'WjVuoNs4Zc1mK6vXPfqnj5',\n",
      "             'verkey': 'HCuoA2ewtHWQ297KgJG22VrexYmEbZRCi4aqPkE2cEt9'},\n",
      "            {'did': 'AH7bQLKyijZkniHvRoLAzu',\n",
      "             'verkey': '64HqNtZaju4Y5Vd4ZzzBZ4apZqe69gc6AtF9zHr5S9dr'},\n",
      "            {'did': 'TUNT4Z7kKeYquhmeCZjg8F',\n",
      "             'verkey': 'FRq4sMiB64yErvd4Rs7k4dmKxzBBVkbFh4Rt6QGmXmbZ'},\n",
      "            {'did': 'WZndzdvhBc6vXp8hFPrCdL',\n",
      "             'verkey': 'H7co14Vem8cv3BQ4GLgu3yutTHRRikXfUFofspX9vpDd'},\n",
      "            {'did': 'qREBhbMGwvNYXYVehH82e',\n",
      "             'verkey': 'TPabtvsKvYvrGPPohaD6PGy3yn4MxmQbng9BWSgDimx'},\n",
      "            {'did': '8vxj6PkgTnDZ2bBkyHsxga',\n",
      "             'verkey': '5KhGWAMLFtxvFjB7YhFZGSjPNnEfDSwEMrHhWB3H2PT9'},\n",
      "            {'did': '5UupaM5RUM4mUebHuUx2sz',\n",
      "             'verkey': '3SfHndFMGHHDF3qjEG6zzpvYaBdEo9o3DSxUHAgdjZ1m'},\n",
      "            {'did': 'PAMhLzhfLCv3DDUP7Yx7ps',\n",
      "             'verkey': 'D5ZfTTQDKREv8nVwR5evgzfUr2yJquwt9dECKbKHV7ie'},\n",
      "            {'did': 'F4po14vx8dJBhQWcRfLAq1',\n",
      "             'verkey': '8feoitpFocZG4muetHvUvQN5cxFhA6yKSCSqVakU1v57'},\n",
      "            {'did': '55GkHamhTU1ZbTbV2ab9DE',\n",
      "             'verkey': '3Dn1SJNPaCXcvvJvSbsFWP2xaCjMom3can8CQNhWrTRx'},\n",
      "            {'did': 'Faq6TQsQ3ZsiARxwKv29tT',\n",
      "             'verkey': '8x1L4oqHNa8nRg3BACzrJkgzmWPCX3581tgt4Ghvobu1'},\n",
      "            {'did': '2xVVxz7CUc1aEDqmtWTNyY',\n",
      "             'verkey': '24rgnQ3jsfCEoEow8KF2Nz19piYtZHppZxbAMwqwmq5z'},\n",
      "            {'did': '8P9EYpMrG1sRB77QJxinJT',\n",
      "             'verkey': '52MQrkyBgynpJmh6upFQwext7k6Fp6why8e1bLKYSZhf'},\n",
      "            {'did': 'VUVADMjTh4Z1Pcn4SGWMSp',\n",
      "             'verkey': 'GX7iK8osF2gmZEGHCmYEZVRrbXZAP1ZHNZpvBgb6yXE2'},\n",
      "            {'did': 'AjBA7vUjTkG7LkCJAHuj4p',\n",
      "             'verkey': '6JVgu66GQJuNvJS3nSjodAYfigKJhioEUfDM5ZvWayar'},\n",
      "            {'did': '3VdJuJC62Ru33WyNSxUcjX',\n",
      "             'verkey': '2MpuySBwegXuRaDnaktGYiwxJLEEnuuDHHCZgnWQkCwU'},\n",
      "            {'did': 'LFNLZCihLk1DRYbsmswgr4',\n",
      "             'verkey': 'BVTbCE9RrNxqEZPidAtDLCtNLqLwKXfhD4gVudXjmJcV'},\n",
      "            {'did': '5pm36m4SARmZC3nTLZ1VpK',\n",
      "             'verkey': '3dUjzXnhyfb79B6QLV1cHEsqBk3trsntEcMZjBSm3mTk'},\n",
      "            {'did': 'XnueDaAMaE4f4Nzhio2Kh2',\n",
      "             'verkey': 'HnP4WGLwWXgsvmmVRAtg41ErNUicmdA9tYCiBUr23hg9'},\n",
      "            {'did': 'GuCfzcBckXK91DvdcFm9cT',\n",
      "             'verkey': '9fdbmSSVvELS74jkdY5sUkqDV14hZLbJdcAm6TL79ex8'},\n",
      "            {'did': 'SqDRMURHifvwtzWwdazfSa',\n",
      "             'verkey': 'F5aW93xPr4yVBDNnzDJxXRBEYzouyivd6XwmCpg8Y96Z'},\n",
      "            {'did': 'NoE2L3jV9yALVhptnhXMTe',\n",
      "             'verkey': 'Ct3dXWGuYPGNHQFtxKgYBEnQ5GijhUguW6aDS61rBjfX'},\n",
      "            {'did': 'NsBr4HvNa3YRV6HgbywSGc',\n",
      "             'verkey': 'CvCtgVmrNjshZt6FE5Y1Kx5nLxbvbTn3Cju4V5KfmzSU'}],\n",
      " '~thread': {'thid': '939ab09c-e837-48ac-bf84-4593a26984c2'}}\n"
     ]
    }
   ],
   "source": [
    "message = {}\n",
    "message['@id'] = str(uuid.uuid4())\n",
    "message['@type'] = \"did:sov:BzCbsNYhMrjHiqZDTUASHg;spec/admin-dids/0.1/get-list-dids\"\n",
    "message['~transport'] = {}\n",
    "message['~transport']['return_route'] = 'all'\n",
    "encodedMessage = packMessage(message, connections[0])\n",
    "# print(encodedMessage)\n",
    "\n",
    "endpoint = connections[0]['DIDDoc']['service'][0]['serviceEndpoint']\n",
    "response = requests.post(endpoint, data=encodedMessage)\n",
    "# print(response.text)\n",
    "\n",
    "responseDecoded = unpackMessage(response.text, plugin['keypair'][1])\n",
    "responseDecoded = json.loads(responseDecoded[0])\n",
    "pp.pprint(responseDecoded)"
   ]
  },
  {
   "cell_type": "markdown",
   "metadata": {},
   "source": [
    "## Public did"
   ]
  },
  {
   "cell_type": "code",
   "execution_count": 131,
   "metadata": {},
   "outputs": [
    {
     "name": "stdout",
     "output_type": "stream",
     "text": [
      "{'@id': '654567eb-bed0-49c0-b1e7-0f92735c2b43',\n",
      " '@type': 'did:sov:BzCbsNYhMrjHiqZDTUASHg;spec/admin-dids/0.1/did',\n",
      " '~thread': {'thid': 'c2b3f458-79f3-4401-b9d0-3da33615bbaf'}}\n"
     ]
    }
   ],
   "source": [
    "message['@id'] = str(uuid.uuid4())\n",
    "message['@type'] = \"did:sov:BzCbsNYhMrjHiqZDTUASHg;spec/admin-dids/0.1/get-public-did\"\n",
    "message['~transport'] = {}\n",
    "message['~transport']['return_route'] = 'all'\n",
    "encodedMessage = packMessage(message, connections[0])\n",
    "# print(encodedMessage)\n",
    "\n",
    "endpoint = connections[0]['DIDDoc']['service'][0]['serviceEndpoint']\n",
    "response = requests.post(endpoint, data=encodedMessage)\n",
    "# print(response.text)\n",
    "\n",
    "responseDecoded = unpackMessage(response.text, plugin['keypair'][1])\n",
    "responseDecoded = json.loads(responseDecoded[0])\n",
    "pp.pprint(responseDecoded)"
   ]
  },
  {
   "cell_type": "code",
   "execution_count": 132,
   "metadata": {},
   "outputs": [
    {
     "name": "stdout",
     "output_type": "stream",
     "text": [
      "{'@id': '67688d92-6fda-45ae-a7ed-dfa07f1c7365',\n",
      " '@type': 'did:sov:BzCbsNYhMrjHiqZDTUASHg;spec/acapy-plugin/1.0/schema',\n",
      " 'payload': 'qweqwe',\n",
      " '~thread': {'thid': 'e70ece56-3698-4f57-832d-35ecf255c894'}}\n"
     ]
    }
   ],
   "source": [
    "message = {}\n",
    "message['@id'] = str(uuid.uuid4())\n",
    "message['@type'] = \"did:sov:BzCbsNYhMrjHiqZDTUASHg;spec/acapy-plugin/1.0/schema\"\n",
    "message['~transport'] = {}\n",
    "message['~transport']['return_route'] = 'all'\n",
    "message['payload'] = 'qweqwe'\n",
    "\n",
    "# message['comment'] = \"memes\"\n",
    "encodedMessage = packMessage(message, connections[0])\n",
    "# print(encodedMessage)\n",
    "\n",
    "endpoint = connections[0]['DIDDoc']['service'][0]['serviceEndpoint']\n",
    "response = requests.post(endpoint, data=encodedMessage)\n",
    "# print(response.text)\n",
    "\n",
    "responseDecoded = unpackMessage(response.text, plugin['keypair'][1])\n",
    "responseDecoded = json.loads(responseDecoded[0])\n",
    "pp.pprint(responseDecoded)"
   ]
  },
  {
   "cell_type": "code",
   "execution_count": 133,
   "metadata": {},
   "outputs": [
    {
     "name": "stdout",
     "output_type": "stream",
     "text": [
      "{\"protected\":\"eyJlbmMiOiJ4Y2hhY2hhMjBwb2x5MTMwNV9pZXRmIiwidHlwIjoiSldNLzEuMCIsImFsZyI6IkF1dGhjcnlwdCIsInJlY2lwaWVudHMiOlt7ImVuY3J5cHRlZF9rZXkiOiJ6blJic2MzQ3dYU2k1SGtEM2pHaXBDak04ZWFub2pNRnBtTXhxYmFIelFlU2J0dXFNYU9QY3JUdFBVVzRaS0thIiwiaGVhZGVyIjp7ImtpZCI6IkhZTEhkQzhyNGNUeDF5bXdQR1dOVHZnZ1dNcTllcmlFRTd2dXRuOWVxUHV5IiwiaXYiOiJWcUdwTXJLRnF4NFZSS0R3b2JjLTdaenE3QmpOQVVfWSIsInNlbmRlciI6InU3QUxsWWhWVjVMV3Ryaks2a3FjOHFWNzVpSkN5WFg1SVBEcEhCOHllRkpCUU5lQU50T29LazhFMmRLWG9aR0wxVmZDUVozREo1RjFURUpBN0xVR2FIY3ViZi1udzZDcFhUZ3BlbWZCNmJQQUdvOUxqeUw0QUtLQUtFND0ifX1dfQ==\",\"iv\":\"8P-Llb39aMZ_FjhW\",\"ciphertext\":\"_ZHWOj8MivvfDRvEJ22gL4MgJ0shx61AmATuGVPnB9jjfbXQ70x9M63pE3CA-G99_2vfkmOL4FHN9B5ojgtZYL8XTkPqmb-MYb8x29LHSEUStRIN37204LTvx24Gk0roOdRjFdPesQkHh-SUDZQHYdE6fRWFmn28nfMqjJUDPQQ_F75eDelOl5u5t4QiNMPf\",\"tag\":\"9PAeCc9yeYM9rxW6c15Mgg==\"}\n",
      "{'@id': '80135f62-8b76-4e5f-9623-c114fcda41f4',\n",
      " '@type': 'did:sov:BzCbsNYhMrjHiqZDTUASHg;spec/acapy-plugin/1.0/search_schema',\n",
      " 'type': 'schema'}\n"
     ]
    }
   ],
   "source": [
    "message = {}\n",
    "message['@id'] = str(uuid.uuid4())\n",
    "message['@type'] = \"did:sov:BzCbsNYhMrjHiqZDTUASHg;spec/acapy-plugin/1.0/search_schema\"\n",
    "message['~transport'] = {}\n",
    "message['~transport']['return_route'] = 'all'\n",
    "message['type'] = 'schema'\n",
    "\n",
    "# message['comment'] = \"memes\"\n",
    "encodedMessage = packMessage(message, connections[0])\n",
    "# print(encodedMessage)\n",
    "\n",
    "endpoint = connections[0]['DIDDoc']['service'][0]['serviceEndpoint']\n",
    "response = requests.post(endpoint, data=encodedMessage)\n",
    "print(response.text)\n",
    "\n",
    "responseDecoded = unpackMessage(response.text, plugin['keypair'][1])\n",
    "responseDecoded = json.loads(responseDecoded[0])\n",
    "pp.pprint(responseDecoded)"
   ]
  }
 ],
 "metadata": {
  "kernelspec": {
   "display_name": "Python 3",
   "language": "python",
   "name": "python3"
  },
  "language_info": {
   "codemirror_mode": {
    "name": "ipython",
    "version": 3
   },
   "file_extension": ".py",
   "mimetype": "text/x-python",
   "name": "python",
   "nbconvert_exporter": "python",
   "pygments_lexer": "ipython3",
   "version": "3.7.5"
  }
 },
 "nbformat": 4,
 "nbformat_minor": 4
}
