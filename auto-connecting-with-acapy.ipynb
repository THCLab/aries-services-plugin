{
 "cells": [
  {
   "cell_type": "code",
   "execution_count": 1,
   "metadata": {},
   "outputs": [],
   "source": [
    "import requests \n",
    "import re as regex\n",
    "import json\n",
    "import pprint as pp # pretty print\n",
    "\n",
    "import aries_cloudagent.wallet.crypto as crypto\n",
    "import base64\n",
    "import base58\n",
    "import uuid\n",
    "import jupyter_util as util"
   ]
  },
  {
   "cell_type": "markdown",
   "metadata": {},
   "source": [
    "## Enter Invite Url:"
   ]
  },
  {
   "cell_type": "code",
   "execution_count": 2,
   "metadata": {},
   "outputs": [
    {
     "name": "stdout",
     "output_type": "stream",
     "text": [
      "http://agent1.localhost?c_i=eyJAdHlwZSI6ICJkaWQ6c292OkJ6Q2JzTlloTXJqSGlxWkRUVUFTSGc7c3BlYy9jb25uZWN0aW9ucy8xLjAvaW52aXRhdGlvbiIsICJAaWQiOiAiYjg2OWI0NjAtMzc1ZS00MTQ0LWEyOGUtZGFjN2NiMjRhM2E3IiwgImxhYmVsIjogIk1haW4gKGFkbWluKSIsICJzZXJ2aWNlRW5kcG9pbnQiOiAiaHR0cDovL2FnZW50MS5sb2NhbGhvc3QiLCAicmVjaXBpZW50S2V5cyI6IFsiNW9HZDRUWlUxR2ZkZUs4OVJVMnhMcHltR3JzUEU2SHZwS1hVTkE0ZnFpRHAiXX0=\n"
     ]
    }
   ],
   "source": [
    "agent1 = {}\n",
    "plugin = {}\n",
    "endpoint = \"http://localhost:8150/connections/create-admin-invitation-url\"\n",
    "adminInvitationResponse = requests.post(endpoint)\n",
    "adminInvitationResponse = adminInvitationResponse.text\n",
    "agent1['url'] = json.loads(adminInvitationResponse)['invitation_url']\n",
    "print(agent1['url'])"
   ]
  },
  {
   "cell_type": "code",
   "execution_count": 3,
   "metadata": {
    "scrolled": true
   },
   "outputs": [
    {
     "name": "stdout",
     "output_type": "stream",
     "text": [
      "Decoded invitation:\n",
      "\n",
      "{'@id': 'b869b460-375e-4144-a28e-dac7cb24a3a7',\n",
      " '@type': 'did:sov:BzCbsNYhMrjHiqZDTUASHg;spec/connections/1.0/invitation',\n",
      " 'label': 'Main (admin)',\n",
      " 'recipientKeys': ['5oGd4TZU1GfdeK89RU2xLpymGrsPE6HvpKXUNA4fqiDp'],\n",
      " 'serviceEndpoint': 'http://agent1.localhost'}\n"
     ]
    }
   ],
   "source": [
    "# Process invite url, delete white spaces\n",
    "agent1['url'] = agent1['url'].replace(\" \", \"\")\n",
    "# Regex(substitution) to extract only the invite string from url\n",
    "agent1['invite_string_b64'] = regex.sub(\n",
    "           r\".*(c\\_i\\=)\", \n",
    "           r\"\", \n",
    "           agent1['url'])\n",
    "# Decoding invite string using base64 decoder\n",
    "agent1['invite_string'] = base64.b64decode(agent1['invite_string_b64'])\n",
    "# Converting our invite json string into a dictionary \n",
    "agent1['invite'] = json.loads(agent1['invite_string'])\n",
    "\n",
    "print(\"Decoded invitation:\\n\")\n",
    "pp.pprint(agent1['invite'])"
   ]
  },
  {
   "cell_type": "code",
   "execution_count": 4,
   "metadata": {},
   "outputs": [
    {
     "name": "stdout",
     "output_type": "stream",
     "text": [
      "Private key: \n",
      " f84DWijNoviU8iBRbKppPFP9tb1c3DJb9n7K9PPH5HtmRPAHutynjVSn2cvDwkibx2vgMzp7aUGGQdsYcFXZwbN\n",
      "\n",
      "Public key: \n",
      " FMHjyQLYY9szZbT65VQ3aPAFztaG66fA83BxyeZ2dv9E\n"
     ]
    }
   ],
   "source": [
    "### Generating a did key using aries crypto module\n",
    "# Create a key pair with random seed \n",
    "# Order: 0 - public key, 1 - secret / pritvate key\n",
    "plugin['keypair'] = crypto.create_keypair()\n",
    "# it seems to me that did is an encoded sub string of public key\n",
    "# or maybe just some arbitrary random number\n",
    "did = plugin['keypair'][0][:16]\n",
    "# final version of our did\n",
    "plugin['did'] = base58.b58encode(did).decode(\"ascii\")\n",
    "# encoding keys to base58\n",
    "plugin['public_key_b58'] = \\\n",
    "    base58.b58encode(plugin['keypair'][0]).decode(\"ascii\")\n",
    "plugin['private_key_b58'] = \\\n",
    "    base58.b58encode(plugin['keypair'][1]).decode(\"ascii\")\n",
    "\n",
    "# print(base58.b58encode(did))\n",
    "# print(plugin['did'])\n",
    "print(\"Private key: \\n\", plugin['private_key_b58'])\n",
    "print(\"\\nPublic key: \\n\", plugin['public_key_b58'])"
   ]
  },
  {
   "cell_type": "markdown",
   "metadata": {},
   "source": [
    "**Sending a connection request to acapy**"
   ]
  },
  {
   "cell_type": "code",
   "execution_count": 5,
   "metadata": {},
   "outputs": [],
   "source": [
    "uniqueId = str(uuid.uuid4())\n",
    "# print(uniqueId)\n",
    "\n",
    "# our request body\n",
    "message = {\n",
    "        \"@id\":  uniqueId,\n",
    "        \"~transport\": {\n",
    "          \"return_route\": \"all\"\n",
    "        },\n",
    "        \"@type\": \"did:sov:BzCbsNYhMrjHiqZDTUASHg;spec/connections/1.0/request\",\n",
    "        \"label\": \"Plugin\",\n",
    "        \"connection\": {\n",
    "          \"DID\": plugin['did'],\n",
    "          \"DIDDoc\": {\n",
    "            \"@context\": \"https://w3id.org/did/v1\",\n",
    "            \"id\": plugin['did'],\n",
    "            \"publicKey\": [{\n",
    "              \"id\": plugin['did'] + \"#keys-1\",\n",
    "              \"type\": \"Ed25519VerificationKey2018\",\n",
    "              \"controller\": plugin['did'],\n",
    "              \"publicKeyBase58\": plugin['public_key_b58']\n",
    "            }],\n",
    "            \"service\": [{\n",
    "              \"id\": plugin['did'] + \";indy\",\n",
    "              \"type\": \"IndyAgent\",\n",
    "              \"recipientKeys\": plugin['public_key_b58'],\n",
    "              \"serviceEndpoint\": \"\"\n",
    "            }]\n",
    "          }\n",
    "        }\n",
    "      }"
   ]
  },
  {
   "cell_type": "markdown",
   "metadata": {},
   "source": [
    "**Encoding/packing the request**"
   ]
  },
  {
   "cell_type": "code",
   "execution_count": 6,
   "metadata": {},
   "outputs": [],
   "source": [
    "# encoding it with aries crypto function using the key that was\n",
    "# given to us by aca-py in recipientKeys\n",
    "decodedAcapyKey = base58.b58decode(agent1['invite']['recipientKeys'][0])\n",
    "ourPrivateKey = plugin['keypair'][1]\n",
    "# print(plugin['did'])\n",
    "encodedMessage = \\\n",
    "    crypto.encode_pack_message(json.dumps(message), [decodedAcapyKey], ourPrivateKey)\n",
    "\n",
    "encodedMessage = encodedMessage.decode(\"ascii\")"
   ]
  },
  {
   "cell_type": "code",
   "execution_count": 7,
   "metadata": {},
   "outputs": [],
   "source": [
    "connectionRequestResponse = requests.post(agent1['invite']['serviceEndpoint'], data=encodedMessage)\n",
    "assert connectionRequestResponse.text != \"\", \"invalid response from acapy\""
   ]
  },
  {
   "cell_type": "markdown",
   "metadata": {},
   "source": [
    "**Response from aca-py**"
   ]
  },
  {
   "cell_type": "code",
   "execution_count": 8,
   "metadata": {
    "scrolled": true
   },
   "outputs": [
    {
     "name": "stdout",
     "output_type": "stream",
     "text": [
      "Decoded acapy response: \n",
      "\n",
      "('{\"@type\": \"did:sov:BzCbsNYhMrjHiqZDTUASHg;spec/connections/1.0/response\", '\n",
      " '\"@id\": \"3b7cee7b-1900-4500-aa70-c1bab8f74c5c\", \"~thread\": {\"thid\": '\n",
      " '\"c766fce3-e886-4928-95d3-3c8aaaf5651e\"}, \"connection~sig\": {\"@type\": '\n",
      " '\"did:sov:BzCbsNYhMrjHiqZDTUASHg;spec/signature/1.0/ed25519Sha512_single\", '\n",
      " '\"signature\": '\n",
      " '\"6dXlVT_-BqiqXn4jIzlwv3HQ4vpjvv0VJCTCuIudwvoY9FDmn98dCRfG88akX5NNdb2GTlbe_8oanLlnbLvGBg==\", '\n",
      " '\"sig_data\": '\n",
      " '\"AAAAAF7DrK17IkRJRCI6ICJXVFNuUU1VZFFqZHN4WWtLVUJUY1lKIiwgIkRJRERvYyI6IHsiQGNvbnRleHQiOiAiaHR0cHM6Ly93M2lkLm9yZy9kaWQvdjEiLCAiaWQiOiAiZGlkOnNvdjpXVFNuUU1VZFFqZHN4WWtLVUJUY1lKIiwgInB1YmxpY0tleSI6IFt7ImlkIjogImRpZDpzb3Y6V1RTblFNVWRRamRzeFlrS1VCVGNZSiMxIiwgInR5cGUiOiAiRWQyNTUxOVZlcmlmaWNhdGlvbktleTIwMTgiLCAiY29udHJvbGxlciI6ICJkaWQ6c292OldUU25RTVVkUWpkc3hZa0tVQlRjWUoiLCAicHVibGljS2V5QmFzZTU4IjogIkg0QUpOeHlCSGRtZ0VOUXNNRTZkaFhTMzQ1TkxWcWN2dlBNN1F0RjJYM2I1In1dLCAiYXV0aGVudGljYXRpb24iOiBbeyJ0eXBlIjogIkVkMjU1MTlTaWduYXR1cmVBdXRoZW50aWNhdGlvbjIwMTgiLCAicHVibGljS2V5IjogImRpZDpzb3Y6V1RTblFNVWRRamRzeFlrS1VCVGNZSiMxIn1dLCAic2VydmljZSI6IFt7ImlkIjogImRpZDpzb3Y6V1RTblFNVWRRamRzeFlrS1VCVGNZSjtpbmR5IiwgInR5cGUiOiAiSW5keUFnZW50IiwgInByaW9yaXR5IjogMCwgInJlY2lwaWVudEtleXMiOiBbIkg0QUpOeHlCSGRtZ0VOUXNNRTZkaFhTMzQ1TkxWcWN2dlBNN1F0RjJYM2I1Il0sICJzZXJ2aWNlRW5kcG9pbnQiOiAiaHR0cDovL2FnZW50MS5sb2NhbGhvc3QifV19fQ==\", '\n",
      " '\"signer\": \"5oGd4TZU1GfdeK89RU2xLpymGrsPE6HvpKXUNA4fqiDp\"}}',\n",
      " '5oGd4TZU1GfdeK89RU2xLpymGrsPE6HvpKXUNA4fqiDp',\n",
      " 'FMHjyQLYY9szZbT65VQ3aPAFztaG66fA83BxyeZ2dv9E')\n"
     ]
    }
   ],
   "source": [
    "   \n",
    "connectionRequestResponseUnpacked = \\\n",
    "    util.unpackMessage(connectionRequestResponse.text, plugin['keypair'][1])\n",
    "\n",
    "connectionRequestResponseDict = json.loads(connectionRequestResponseUnpacked[0])\n",
    "\n",
    "print(\"Decoded acapy response: \\n\")\n",
    "pp.pprint(connectionRequestResponseUnpacked)"
   ]
  },
  {
   "cell_type": "markdown",
   "metadata": {},
   "source": [
    "**Unpacking connection data embedded in the response**"
   ]
  },
  {
   "cell_type": "code",
   "execution_count": 9,
   "metadata": {
    "scrolled": true
   },
   "outputs": [
    {
     "name": "stdout",
     "output_type": "stream",
     "text": [
      "{'DID': 'WTSnQMUdQjdsxYkKUBTcYJ',\n",
      " 'DIDDoc': {'@context': 'https://w3id.org/did/v1',\n",
      "            'authentication': [{'publicKey': 'did:sov:WTSnQMUdQjdsxYkKUBTcYJ#1',\n",
      "                                'type': 'Ed25519SignatureAuthentication2018'}],\n",
      "            'id': 'did:sov:WTSnQMUdQjdsxYkKUBTcYJ',\n",
      "            'publicKey': [{'controller': 'did:sov:WTSnQMUdQjdsxYkKUBTcYJ',\n",
      "                           'id': 'did:sov:WTSnQMUdQjdsxYkKUBTcYJ#1',\n",
      "                           'publicKeyBase58': 'H4AJNxyBHdmgENQsME6dhXS345NLVqcvvPM7QtF2X3b5',\n",
      "                           'type': 'Ed25519VerificationKey2018'}],\n",
      "            'service': [{'id': 'did:sov:WTSnQMUdQjdsxYkKUBTcYJ;indy',\n",
      "                         'priority': 0,\n",
      "                         'recipientKeys': ['H4AJNxyBHdmgENQsME6dhXS345NLVqcvvPM7QtF2X3b5'],\n",
      "                         'serviceEndpoint': 'http://agent1.localhost',\n",
      "                         'type': 'IndyAgent'}]}}\n"
     ]
    }
   ],
   "source": [
    "sig_data_raw = connectionRequestResponseDict['connection~sig']['sig_data']\n",
    "#  (this is a hack)replacing artifacts that sometimes happen\n",
    "sig_data_raw = sig_data_raw.replace(\"-\", \"1\")\n",
    "sig_data_raw = sig_data_raw.replace(\"_\", \"1\")\n",
    "\n",
    "sig_data_raw = base64.b64decode(sig_data_raw)\n",
    "# avoid first 8 characters as they are a time signature\n",
    "sig_data_raw = sig_data_raw[8:]\n",
    "sig_data_raw = sig_data_raw.decode('ascii')\n",
    "\n",
    "sig_data = json.loads(sig_data_raw)\n",
    "pp.pprint(sig_data)"
   ]
  },
  {
   "cell_type": "markdown",
   "metadata": {},
   "source": [
    "**Adding the connection to connection list**"
   ]
  },
  {
   "cell_type": "code",
   "execution_count": 10,
   "metadata": {
    "scrolled": true
   },
   "outputs": [
    {
     "name": "stdout",
     "output_type": "stream",
     "text": [
      "[{'DIDDoc': {'@context': 'https://w3id.org/did/v1',\n",
      "             'authentication': [{'publicKey': 'did:sov:WTSnQMUdQjdsxYkKUBTcYJ#1',\n",
      "                                 'type': 'Ed25519SignatureAuthentication2018'}],\n",
      "             'id': 'did:sov:WTSnQMUdQjdsxYkKUBTcYJ',\n",
      "             'publicKey': [{'controller': 'did:sov:WTSnQMUdQjdsxYkKUBTcYJ',\n",
      "                            'id': 'did:sov:WTSnQMUdQjdsxYkKUBTcYJ#1',\n",
      "                            'publicKeyBase58': 'H4AJNxyBHdmgENQsME6dhXS345NLVqcvvPM7QtF2X3b5',\n",
      "                            'type': 'Ed25519VerificationKey2018'}],\n",
      "             'service': [{'id': 'did:sov:WTSnQMUdQjdsxYkKUBTcYJ;indy',\n",
      "                          'priority': 0,\n",
      "                          'recipientKeys': ['H4AJNxyBHdmgENQsME6dhXS345NLVqcvvPM7QtF2X3b5'],\n",
      "                          'serviceEndpoint': 'http://agent1.localhost',\n",
      "                          'type': 'IndyAgent'}]},\n",
      "  'label': 'Main (admin)',\n",
      "  'myKey': b' \\xdf\\xe9\\xb9K\\xec\\x82~!j\\xac\\xac\\xfb\\x93\\xda\\xf7\\xa9\\x1f\\xaf\\xcc'\n",
      "           b'\\xa5l} \\xf7\\xa0\\xb0\\xf6\\xea\\xde\\xb2\\x01\\xd56)\\x82\\xc0\\x98\\xffb'\n",
      "           b'\\xe6\\x98`6\\x19\\xf9\\x8e\\xab\\xe4\\xc3\\xd5\\xdf\\xc2\\x15\\xf8\\x8e'\n",
      "           b'\\rJ\\xa1\\xe5E\\xd2\\xe7A'}]\n"
     ]
    }
   ],
   "source": [
    "connections = [\n",
    "    {\n",
    "        \"label\": agent1['invite']['label'],\n",
    "        \"DIDDoc\": sig_data['DIDDoc'],\n",
    "        \"myKey\": plugin['keypair'][1]\n",
    "    }\n",
    "]\n",
    "\n",
    "pp.pprint(connections)"
   ]
  },
  {
   "cell_type": "markdown",
   "metadata": {},
   "source": [
    "### FEATURE DISCOVERY"
   ]
  },
  {
   "cell_type": "code",
   "execution_count": 11,
   "metadata": {
    "scrolled": true
   },
   "outputs": [
    {
     "name": "stdout",
     "output_type": "stream",
     "text": [
      "{'@id': 'aca0ce17-2725-400e-9713-69780259c073',\n",
      " '@type': 'did:sov:BzCbsNYhMrjHiqZDTUASHg;spec/discover-features/1.0/disclose',\n",
      " 'protocols': [{'pid': 'did:sov:BzCbsNYhMrjHiqZDTUASHg;spec/admin-static-connections/0.1'},\n",
      "               {'pid': 'https://github.com/hyperledger/aries-toolbox/tree/master/docs/admin-payments/0.1'},\n",
      "               {'pid': 'did:sov:BzCbsNYhMrjHiqZDTUASHg;spec/admin-dids/0.1'},\n",
      "               {'pid': 'did:sov:BzCbsNYhMrjHiqZDTUASHg;spec/admin-issuer/0.1'},\n",
      "               {'pid': 'https://didcomm.org/routing/1.0'},\n",
      "               {'pid': 'https://github.com/hyperledger/aries-toolbox/tree/master/docs/admin-basicmessage/0.1'},\n",
      "               {'pid': 'did:sov:BzCbsNYhMrjHiqZDTUASHg;spec/trust_ping/1.0'},\n",
      "               {'pid': 'https://didcomm.org/connections/1.0'},\n",
      "               {'pid': 'did:sov:BzCbsNYhMrjHiqZDTUASHg;spec/routing/1.0'},\n",
      "               {'pid': 'did:sov:BzCbsNYhMrjHiqZDTUASHg;spec/discover-features/1.0'},\n",
      "               {'pid': 'https://didcomm.org/trust_ping/1.0'},\n",
      "               {'pid': 'did:sov:BzCbsNYhMrjHiqZDTUASHg;spec/admin-holder/0.1'},\n",
      "               {'pid': 'https://didcomm.org/discover-features/1.0'},\n",
      "               {'pid': 'https://didcomm.org/introduction-service/0.1'},\n",
      "               {'pid': 'did:sov:BzCbsNYhMrjHiqZDTUASHg;spec/connections/1.0'},\n",
      "               {'pid': 'https://didcomm.org/issue-credential/1.0'},\n",
      "               {'pid': 'did:sov:BzCbsNYhMrjHiqZDTUASHg;spec/introduction-service/0.1'},\n",
      "               {'pid': 'did:sov:BzCbsNYhMrjHiqZDTUASHg;spec/admin-credential-definitions/0.1'},\n",
      "               {'pid': 'did:sov:BzCbsNYhMrjHiqZDTUASHg;spec/present-proof/1.0'},\n",
      "               {'pid': 'did:sov:BzCbsNYhMrjHiqZDTUASHg;spec/action-menu/1.0',\n",
      "                'roles': ['provider']},\n",
      "               {'pid': 'https://didcomm.org/action-menu/1.0'},\n",
      "               {'pid': 'did:sov:BzCbsNYhMrjHiqZDTUASHg;spec/issue-credential/1.0'},\n",
      "               {'pid': 'did:sov:BzCbsNYhMrjHiqZDTUASHg;spec/credential-presentation/0.1'},\n",
      "               {'pid': 'https://didcomm.org/credential-presentation/0.1'},\n",
      "               {'pid': 'did:sov:BzCbsNYhMrjHiqZDTUASHg;spec/notification/1.0'},\n",
      "               {'pid': 'did:sov:BzCbsNYhMrjHiqZDTUASHg;spec/acapy-plugin/1.0'},\n",
      "               {'pid': 'did:sov:BzCbsNYhMrjHiqZDTUASHg;spec/basicmessage/1.0'},\n",
      "               {'pid': 'did:sov:BzCbsNYhMrjHiqZDTUASHg;spec/admin-schemas/0.1'},\n",
      "               {'pid': 'https://github.com/hyperledger/aries-toolbox/tree/master/docs/admin-invitations/0.1'},\n",
      "               {'pid': 'did:sov:BzCbsNYhMrjHiqZDTUASHg;spec/credential-issuance/0.1'},\n",
      "               {'pid': 'https://didcomm.org/credential-issuance/0.1'},\n",
      "               {'pid': 'https://github.com/hyperledger/aries-toolbox/tree/master/docs/admin-connections/0.1'},\n",
      "               {'pid': 'https://github.com/hyperledger/aries-toolbox/tree/master/docs/admin-taa/0.1'},\n",
      "               {'pid': 'https://didcomm.org/notification/1.0'},\n",
      "               {'pid': 'https://didcomm.org/basicmessage/1.0'},\n",
      "               {'pid': 'https://didcomm.org/present-proof/1.0'},\n",
      "               {'pid': 'did:sov:BzCbsNYhMrjHiqZDTUASHg;spec/admin-connections/0.1'}],\n",
      " '~thread': {'thid': 'bee1c95f-3824-4149-b801-e97a6e9c7c8c'}}\n"
     ]
    }
   ],
   "source": [
    "message = util.buildMessage(\n",
    "    \"did:sov:BzCbsNYhMrjHiqZDTUASHg;spec/discover-features/1.0/query\",\n",
    "    query=\"*\"\n",
    ")\n",
    "message = util.packMessage(message, connections[0])\n",
    "# print(encodedMessage)\n",
    "\n",
    "endpoint = connections[0]['DIDDoc']['service'][0]['serviceEndpoint']\n",
    "response = requests.post(endpoint, data=message)\n",
    "# print(response.text)\n",
    "\n",
    "responseDecoded = util.unpackMessage(response.text, plugin['keypair'][1])\n",
    "responseDecoded = json.loads(responseDecoded[0])\n",
    "pp.pprint(responseDecoded)"
   ]
  },
  {
   "cell_type": "markdown",
   "metadata": {},
   "source": [
    "## Dids"
   ]
  },
  {
   "cell_type": "code",
   "execution_count": 12,
   "metadata": {},
   "outputs": [
    {
     "name": "stdout",
     "output_type": "stream",
     "text": [
      "{'@id': '07308c74-fbda-441d-817b-621f3a4cd5d2',\n",
      " '@type': 'did:sov:BzCbsNYhMrjHiqZDTUASHg;spec/admin-dids/0.1/list-dids',\n",
      " 'result': [{'did': 'WTSnQMUdQjdsxYkKUBTcYJ',\n",
      "             'verkey': 'H4AJNxyBHdmgENQsME6dhXS345NLVqcvvPM7QtF2X3b5'},\n",
      "            {'did': 'WjVuoNs4Zc1mK6vXPfqnj5',\n",
      "             'verkey': 'HCuoA2ewtHWQ297KgJG22VrexYmEbZRCi4aqPkE2cEt9'},\n",
      "            {'did': 'CcPNApHoaNaxHtrDJx3Fcu',\n",
      "             'verkey': '7L23hAKHoiLQ4KyaTEkpzi5eoLXt3cLuteFYp6CzDxXk'},\n",
      "            {'did': 'AH7bQLKyijZkniHvRoLAzu',\n",
      "             'verkey': '64HqNtZaju4Y5Vd4ZzzBZ4apZqe69gc6AtF9zHr5S9dr'},\n",
      "            {'did': 'TUNT4Z7kKeYquhmeCZjg8F',\n",
      "             'verkey': 'FRq4sMiB64yErvd4Rs7k4dmKxzBBVkbFh4Rt6QGmXmbZ'},\n",
      "            {'did': 'WZndzdvhBc6vXp8hFPrCdL',\n",
      "             'verkey': 'H7co14Vem8cv3BQ4GLgu3yutTHRRikXfUFofspX9vpDd'},\n",
      "            {'did': 'qREBhbMGwvNYXYVehH82e',\n",
      "             'verkey': 'TPabtvsKvYvrGPPohaD6PGy3yn4MxmQbng9BWSgDimx'},\n",
      "            {'did': '8vxj6PkgTnDZ2bBkyHsxga',\n",
      "             'verkey': '5KhGWAMLFtxvFjB7YhFZGSjPNnEfDSwEMrHhWB3H2PT9'},\n",
      "            {'did': 'SZEuahK29EnCrm9uUtJaJ6',\n",
      "             'verkey': 'EvsXE959ztN2HGbhfp4BJcmDU6umsswhxQPD73evxLFd'},\n",
      "            {'did': '5UupaM5RUM4mUebHuUx2sz',\n",
      "             'verkey': '3SfHndFMGHHDF3qjEG6zzpvYaBdEo9o3DSxUHAgdjZ1m'},\n",
      "            {'did': 'PAMhLzhfLCv3DDUP7Yx7ps',\n",
      "             'verkey': 'D5ZfTTQDKREv8nVwR5evgzfUr2yJquwt9dECKbKHV7ie'},\n",
      "            {'did': 'F4po14vx8dJBhQWcRfLAq1',\n",
      "             'verkey': '8feoitpFocZG4muetHvUvQN5cxFhA6yKSCSqVakU1v57'},\n",
      "            {'did': 'LUyanBdxvSZbptjEb8xbQa',\n",
      "             'verkey': 'BcsknuSSTdYRHCnvaQs7Q5DXeiRETF61QF1nS6sY5a6B'},\n",
      "            {'did': '55GkHamhTU1ZbTbV2ab9DE',\n",
      "             'verkey': '3Dn1SJNPaCXcvvJvSbsFWP2xaCjMom3can8CQNhWrTRx'},\n",
      "            {'did': 'Eae7rNh7Mn93GTVYzhV2st',\n",
      "             'verkey': '8QHrRY5Wm6eMiDfzsZwVxdiazkL6Zd7qYK8PeytBucjX'},\n",
      "            {'did': 'MtQ8f8RS3D9L32KwRppSN3',\n",
      "             'verkey': 'CPFhtvCVkzXbCQkNHVeYv8idUYWp6UqHDMaaYXK92fQV'},\n",
      "            {'did': 'Faq6TQsQ3ZsiARxwKv29tT',\n",
      "             'verkey': '8x1L4oqHNa8nRg3BACzrJkgzmWPCX3581tgt4Ghvobu1'},\n",
      "            {'did': '2xVVxz7CUc1aEDqmtWTNyY',\n",
      "             'verkey': '24rgnQ3jsfCEoEow8KF2Nz19piYtZHppZxbAMwqwmq5z'},\n",
      "            {'did': '12JVZvRYnFCbvquE4NCdRq',\n",
      "             'verkey': '1i9U9vXkK6292TKNHTYgFYTA4bKJZsjhMidDXECsVKe'},\n",
      "            {'did': 'LBNmHx5rsjt4uzihCKK5FS',\n",
      "             'verkey': 'BTHNhXWAp2af9WMDXdJQpNHiNPct2eedY8oZQHNhCpdr'},\n",
      "            {'did': 'GbkqqqnCPFVP8r45GAZZDr',\n",
      "             'verkey': '9W87pWUrgFVpojeR8zKtEDj4VaWM788N2DgHzN2Tkkzd'},\n",
      "            {'did': '8P9EYpMrG1sRB77QJxinJT',\n",
      "             'verkey': '52MQrkyBgynpJmh6upFQwext7k6Fp6why8e1bLKYSZhf'},\n",
      "            {'did': 'VUVADMjTh4Z1Pcn4SGWMSp',\n",
      "             'verkey': 'GX7iK8osF2gmZEGHCmYEZVRrbXZAP1ZHNZpvBgb6yXE2'},\n",
      "            {'did': 'AjBA7vUjTkG7LkCJAHuj4p',\n",
      "             'verkey': '6JVgu66GQJuNvJS3nSjodAYfigKJhioEUfDM5ZvWayar'},\n",
      "            {'did': 'GezrG42HRtizmLy6RsmW7p',\n",
      "             'verkey': '9Xtb6e8SkFtcaxavEyJ115e28VSq7eTU4w7WnpBk27oQ'},\n",
      "            {'did': 'SeW18kDEZHDBuV7HfYmFxv',\n",
      "             'verkey': 'EyjouSbB8vR6N6S5x6pza5U2ZKXxfwq9mgzyHoqYPWrb'},\n",
      "            {'did': '3VdJuJC62Ru33WyNSxUcjX',\n",
      "             'verkey': '2MpuySBwegXuRaDnaktGYiwxJLEEnuuDHHCZgnWQkCwU'},\n",
      "            {'did': 'LFNLZCihLk1DRYbsmswgr4',\n",
      "             'verkey': 'BVTbCE9RrNxqEZPidAtDLCtNLqLwKXfhD4gVudXjmJcV'},\n",
      "            {'did': '5pm36m4SARmZC3nTLZ1VpK',\n",
      "             'verkey': '3dUjzXnhyfb79B6QLV1cHEsqBk3trsntEcMZjBSm3mTk'},\n",
      "            {'did': 'XnueDaAMaE4f4Nzhio2Kh2',\n",
      "             'verkey': 'HnP4WGLwWXgsvmmVRAtg41ErNUicmdA9tYCiBUr23hg9'},\n",
      "            {'did': 'GuCfzcBckXK91DvdcFm9cT',\n",
      "             'verkey': '9fdbmSSVvELS74jkdY5sUkqDV14hZLbJdcAm6TL79ex8'},\n",
      "            {'did': 'SqDRMURHifvwtzWwdazfSa',\n",
      "             'verkey': 'F5aW93xPr4yVBDNnzDJxXRBEYzouyivd6XwmCpg8Y96Z'},\n",
      "            {'did': '3U3xJ7A5eQZr8fo4P9DsLg',\n",
      "             'verkey': '2Ly842juwgcVrjPoeU1RXjQ2WrZvSnQ6yCAFXtnRcurA'},\n",
      "            {'did': 'NoE2L3jV9yALVhptnhXMTe',\n",
      "             'verkey': 'Ct3dXWGuYPGNHQFtxKgYBEnQ5GijhUguW6aDS61rBjfX'},\n",
      "            {'did': 'NsBr4HvNa3YRV6HgbywSGc',\n",
      "             'verkey': 'CvCtgVmrNjshZt6FE5Y1Kx5nLxbvbTn3Cju4V5KfmzSU'}],\n",
      " '~thread': {'thid': '61b24ddd-0168-415f-b385-991dd53a3c3c'}}\n"
     ]
    }
   ],
   "source": [
    "message = util.buildMessage(\"did:sov:BzCbsNYhMrjHiqZDTUASHg;spec/admin-dids/0.1/get-list-dids\")\n",
    "encodedMessage = util.packMessage(message, connections[0])\n",
    "# print(encodedMessage)\n",
    "\n",
    "endpoint = connections[0]['DIDDoc']['service'][0]['serviceEndpoint']\n",
    "response = requests.post(endpoint, data=encodedMessage)\n",
    "# print(response.text)\n",
    "\n",
    "responseDecoded = util.unpackMessage(response.text, plugin['keypair'][1])\n",
    "responseDecoded = json.loads(responseDecoded[0])\n",
    "pp.pprint(responseDecoded)"
   ]
  },
  {
   "cell_type": "markdown",
   "metadata": {},
   "source": [
    "## Public did"
   ]
  },
  {
   "cell_type": "code",
   "execution_count": 13,
   "metadata": {},
   "outputs": [
    {
     "name": "stdout",
     "output_type": "stream",
     "text": [
      "{'@id': '2577870e-7ef1-4978-a0f1-4edddb357ea4',\n",
      " '@type': 'did:sov:BzCbsNYhMrjHiqZDTUASHg;spec/admin-dids/0.1/did',\n",
      " '~thread': {'thid': 'ed7c2969-38c9-465b-ac2e-565bb778a669'}}\n"
     ]
    }
   ],
   "source": [
    "message = util.buildMessage(\"did:sov:BzCbsNYhMrjHiqZDTUASHg;spec/admin-dids/0.1/get-public-did\")\n",
    "encodedMessage = util.packMessage(message, connections[0])\n",
    "# print(encodedMessage)\n",
    "\n",
    "endpoint = connections[0]['DIDDoc']['service'][0]['serviceEndpoint']\n",
    "response = requests.post(endpoint, data=encodedMessage)\n",
    "# print(response.text)\n",
    "\n",
    "responseDecoded = util.unpackMessage(response.text, plugin['keypair'][1])\n",
    "responseDecoded = json.loads(responseDecoded[0])\n",
    "pp.pprint(responseDecoded)"
   ]
  },
  {
   "cell_type": "code",
   "execution_count": 14,
   "metadata": {},
   "outputs": [
    {
     "name": "stdout",
     "output_type": "stream",
     "text": [
      "{'@id': '736c5003-1cd5-4c62-abd0-20b10d282eeb',\n",
      " '@type': 'did:sov:BzCbsNYhMrjHiqZDTUASHg;spec/acapy-plugin/1.0/schema',\n",
      " 'payload': 'a very cool message',\n",
      " '~thread': {'thid': '3544ac98-a445-4cc6-85f1-8180c90b89fc'}}\n"
     ]
    }
   ],
   "source": [
    "message = util.buildMessage(\n",
    "    \"did:sov:BzCbsNYhMrjHiqZDTUASHg;spec/acapy-plugin/1.0/schema\",\n",
    "    payload=\"a very cool message\"\n",
    ")\n",
    "\n",
    "encodedMessage = util.packMessage(message, connections[0])\n",
    "# print(encodedMessage)\n",
    "\n",
    "endpoint = connections[0]['DIDDoc']['service'][0]['serviceEndpoint']\n",
    "response = requests.post(endpoint, data=encodedMessage)\n",
    "# print(response.text)\n",
    "\n",
    "responseDecoded = util.unpackMessage(response.text, plugin['keypair'][1])\n",
    "responseDecoded = json.loads(responseDecoded[0])\n",
    "pp.pprint(responseDecoded)"
   ]
  },
  {
   "cell_type": "code",
   "execution_count": 16,
   "metadata": {},
   "outputs": [
    {
     "name": "stdout",
     "output_type": "stream",
     "text": [
      "{'@id': 'fa527ff4-541b-47d3-b2da-3f8f6ee70631',\n",
      " '@type': 'did:sov:BzCbsNYhMrjHiqZDTUASHg;spec/acapy-plugin/1.0/search_schema',\n",
      " 'type': 'schema'}\n"
     ]
    }
   ],
   "source": [
    "message = util.buildMessage(\n",
    "    \"did:sov:BzCbsNYhMrjHiqZDTUASHg;spec/acapy-plugin/1.0/search_schema\",\n",
    "    type=\"schema\"\n",
    ")\n",
    "\n",
    "encodedMessage = util.packMessage(message, connections[0])\n",
    "\n",
    "endpoint = connections[0]['DIDDoc']['service'][0]['serviceEndpoint']\n",
    "response = requests.post(endpoint, data=encodedMessage)\n",
    "\n",
    "responseDecoded = util.unpackMessage(response.text, plugin['keypair'][1])\n",
    "responseDecoded = json.loads(responseDecoded[0])\n",
    "pp.pprint(responseDecoded)"
   ]
  }
 ],
 "metadata": {
  "kernelspec": {
   "display_name": "Python 3",
   "language": "python",
   "name": "python3"
  },
  "language_info": {
   "codemirror_mode": {
    "name": "ipython",
    "version": 3
   },
   "file_extension": ".py",
   "mimetype": "text/x-python",
   "name": "python",
   "nbconvert_exporter": "python",
   "pygments_lexer": "ipython3",
   "version": "3.7.5"
  }
 },
 "nbformat": 4,
 "nbformat_minor": 4
}
