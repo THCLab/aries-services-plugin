{
 "cells": [
  {
   "cell_type": "code",
   "execution_count": 12,
   "metadata": {},
   "outputs": [],
   "source": [
    "import requests \n",
    "import re as regex\n",
    "import json\n",
    "import pprint as pp # pretty print\n",
    "\n",
    "import aries_cloudagent.wallet.crypto as crypto\n",
    "import aries_cloudagent.wallet.util as util\n",
    "import base64\n",
    "import base58\n",
    "import uuid\n",
    "\n",
    "agent1 = {}\n",
    "agent2 = {}\n",
    "plugin = {}"
   ]
  },
  {
   "cell_type": "markdown",
   "metadata": {},
   "source": [
    "## Enter Invite Url:"
   ]
  },
  {
   "cell_type": "code",
   "execution_count": 13,
   "metadata": {},
   "outputs": [
    {
     "name": "stdout",
     "output_type": "stream",
     "text": [
      "http://agent1.localhost?c_i=eyJAdHlwZSI6ICJkaWQ6c292OkJ6Q2JzTlloTXJqSGlxWkRUVUFTSGc7c3BlYy9jb25uZWN0aW9ucy8xLjAvaW52aXRhdGlvbiIsICJAaWQiOiAiMjI5MGI1ODctN2UyMi00NGQ0LTk1N2QtNTZlNGUxZGE2YzE1IiwgInJlY2lwaWVudEtleXMiOiBbIkd6R1pyVUdtTlJ3YlpLd1RkTTg3NzF0Rmp5Y3AzSmFYZ0Zxb2pqWjhrSnlWIl0sICJsYWJlbCI6ICJNYWluIChhZG1pbikiLCAic2VydmljZUVuZHBvaW50IjogImh0dHA6Ly9hZ2VudDEubG9jYWxob3N0In0=\n"
     ]
    }
   ],
   "source": [
    "endpoint = \"http://localhost:8150/connections/create-admin-invitation-url\"\n",
    "adminInvitationResponse = requests.post(endpoint)\n",
    "adminInvitationResponse = adminInvitationResponse.text\n",
    "agent1['url'] = json.loads(adminInvitationResponse)['invitation_url']\n",
    "print(agent1['url'])"
   ]
  },
  {
   "cell_type": "code",
   "execution_count": 14,
   "metadata": {
    "scrolled": true
   },
   "outputs": [
    {
     "name": "stdout",
     "output_type": "stream",
     "text": [
      "Decoded invitation:\n",
      "\n",
      "{'@id': '2290b587-7e22-44d4-957d-56e4e1da6c15',\n",
      " '@type': 'did:sov:BzCbsNYhMrjHiqZDTUASHg;spec/connections/1.0/invitation',\n",
      " 'label': 'Main (admin)',\n",
      " 'recipientKeys': ['GzGZrUGmNRwbZKwTdM8771tFjycp3JaXgFqojjZ8kJyV'],\n",
      " 'serviceEndpoint': 'http://agent1.localhost'}\n"
     ]
    }
   ],
   "source": [
    "# Process invite url, delete white spaces\n",
    "agent1['url'] = agent1['url'].replace(\" \", \"\")\n",
    "# Regex(substitution) to extract only the invite string from url\n",
    "agent1['invite_string_b64'] = regex.sub(\n",
    "           r\".*(c\\_i\\=)\", \n",
    "           r\"\", \n",
    "           agent1['url'])\n",
    "# Decoding invite string using base64 decoder\n",
    "agent1['invite_string'] = base64.b64decode(agent1['invite_string_b64'])\n",
    "# Converting our invite json string into a dictionary \n",
    "agent1['invite'] = json.loads(agent1['invite_string'])\n",
    "\n",
    "print(\"Decoded invitation:\\n\")\n",
    "pp.pprint(agent1['invite'])"
   ]
  },
  {
   "cell_type": "code",
   "execution_count": 15,
   "metadata": {},
   "outputs": [
    {
     "name": "stdout",
     "output_type": "stream",
     "text": [
      "Private key: \n",
      " 4JZwLwuCwjwZaEhbHPSbPXXkdkQonDhasBju6PjVLyC4GR7yPM8GN81qqphYBKJ5VK7PKARrAp8WmxPqNB81Xt6P\n",
      "\n",
      "Public key: \n",
      " aueVNDZP3U32oscmVreXwZmE8Di2iwZKUh5ZzsXahdd\n"
     ]
    }
   ],
   "source": [
    "### Generating a did key using aries crypto module\n",
    "# Create a key pair with random seed \n",
    "# Order: 0 - public key, 1 - secret / pritvate key\n",
    "plugin['keypair'] = crypto.create_keypair()\n",
    "# it seems to me that did is an encoded sub string of public key\n",
    "# or maybe just some arbitrary random number\n",
    "did = plugin['keypair'][0][:16]\n",
    "# final version of our did\n",
    "plugin['did'] = base58.b58encode(did).decode(\"ascii\")\n",
    "# encoding keys to base58\n",
    "plugin['public_key_b58'] = \\\n",
    "    base58.b58encode(plugin['keypair'][0]).decode(\"ascii\")\n",
    "plugin['private_key_b58'] = \\\n",
    "    base58.b58encode(plugin['keypair'][1]).decode(\"ascii\")\n",
    "\n",
    "# print(base58.b58encode(did))\n",
    "# print(plugin['did'])\n",
    "print(\"Private key: \\n\", plugin['private_key_b58'])\n",
    "print(\"\\nPublic key: \\n\", plugin['public_key_b58'])"
   ]
  },
  {
   "cell_type": "markdown",
   "metadata": {},
   "source": [
    "**Sending a connection request to acapy**"
   ]
  },
  {
   "cell_type": "code",
   "execution_count": 16,
   "metadata": {},
   "outputs": [],
   "source": [
    "uniqueId = str(uuid.uuid4())\n",
    "# print(uniqueId)\n",
    "\n",
    "# our request body\n",
    "message = {\n",
    "        \"@id\":  uniqueId,\n",
    "        \"~transport\": {\n",
    "          \"return_route\": \"all\"\n",
    "        },\n",
    "        \"@type\": \"did:sov:BzCbsNYhMrjHiqZDTUASHg;spec/connections/1.0/request\",\n",
    "        \"label\": \"Plugin\",\n",
    "        \"connection\": {\n",
    "          \"DID\": plugin['did'],\n",
    "          \"DIDDoc\": {\n",
    "            \"@context\": \"https://w3id.org/did/v1\",\n",
    "            \"id\": plugin['did'],\n",
    "            \"publicKey\": [{\n",
    "              \"id\": plugin['did'] + \"#keys-1\",\n",
    "              \"type\": \"Ed25519VerificationKey2018\",\n",
    "              \"controller\": plugin['did'],\n",
    "              \"publicKeyBase58\": plugin['public_key_b58']\n",
    "            }],\n",
    "            \"service\": [{\n",
    "              \"id\": plugin['did'] + \";indy\",\n",
    "              \"type\": \"IndyAgent\",\n",
    "              \"recipientKeys\": plugin['public_key_b58'],\n",
    "              \"serviceEndpoint\": \"\"\n",
    "            }]\n",
    "          }\n",
    "        }\n",
    "      }"
   ]
  },
  {
   "cell_type": "markdown",
   "metadata": {},
   "source": [
    "**Encoding/packing the request**"
   ]
  },
  {
   "cell_type": "code",
   "execution_count": 17,
   "metadata": {},
   "outputs": [],
   "source": [
    "# encoding it with aries crypto function using the key that was\n",
    "# given to us by aca-py in recipientKeys\n",
    "decodedAcapyKey = base58.b58decode(agent1['invite']['recipientKeys'][0])\n",
    "ourPrivateKey = plugin['keypair'][1]\n",
    "# print(plugin['did'])\n",
    "encodedMessage = \\\n",
    "    crypto.encode_pack_message(json.dumps(message), [decodedAcapyKey], ourPrivateKey)\n",
    "\n",
    "encodedMessage = encodedMessage.decode(\"ascii\")\n",
    "# print(\"Encoded message: \\n\")\n",
    "# pp.pprint(encodedMessage)"
   ]
  },
  {
   "cell_type": "code",
   "execution_count": 18,
   "metadata": {},
   "outputs": [],
   "source": [
    "connectionRequestResponse = requests.post(agent1['invite']['serviceEndpoint'], data=encodedMessage)\n",
    "assert connectionRequestResponse.text != \"\", \"invalid response from acapy\""
   ]
  },
  {
   "cell_type": "markdown",
   "metadata": {},
   "source": [
    "**Response from aca-py**"
   ]
  },
  {
   "cell_type": "code",
   "execution_count": 19,
   "metadata": {
    "scrolled": true
   },
   "outputs": [
    {
     "name": "stdout",
     "output_type": "stream",
     "text": [
      "Decoded acapy response: \n",
      "\n",
      "('{\"@type\": \"did:sov:BzCbsNYhMrjHiqZDTUASHg;spec/connections/1.0/response\", '\n",
      " '\"@id\": \"b5c86c9d-92b4-4e71-9ac2-1dff3243b483\", \"~thread\": {\"thid\": '\n",
      " '\"49d13a33-ff13-4163-b9c9-e17537dfdc58\"}, \"connection~sig\": {\"@type\": '\n",
      " '\"did:sov:BzCbsNYhMrjHiqZDTUASHg;spec/signature/1.0/ed25519Sha512_single\", '\n",
      " '\"signature\": '\n",
      " '\"EnBv727-7UG_cSwRdlMchATziZ5wfF4NWNTnhCDYL0BrDAkeEuJvzHTOF38cCgZmRmcKzNwtA25uQF9WVUUaAQ==\", '\n",
      " '\"sig_data\": '\n",
      " '\"AAAAAF69J2t7IkRJRCI6ICJXS1htS0FHanFtUHlxN0x6amNqb3F6IiwgIkRJRERvYyI6IHsiQGNvbnRleHQiOiAiaHR0cHM6Ly93M2lkLm9yZy9kaWQvdjEiLCAiaWQiOiAiZGlkOnNvdjpXS1htS0FHanFtUHlxN0x6amNqb3F6IiwgInB1YmxpY0tleSI6IFt7ImlkIjogImRpZDpzb3Y6V0tYbUtBR2pxbVB5cTdMempjam9xeiMxIiwgInR5cGUiOiAiRWQyNTUxOVZlcmlmaWNhdGlvbktleTIwMTgiLCAiY29udHJvbGxlciI6ICJkaWQ6c292OldLWG1LQUdqcW1QeXE3THpqY2pvcXoiLCAicHVibGljS2V5QmFzZTU4IjogIkd5cjd0Y3llQlFSTnoxQnNFWUR0b1FNR0FIendYbWlmODkxZVo3RHp3aE13In1dLCAiYXV0aGVudGljYXRpb24iOiBbeyJ0eXBlIjogIkVkMjU1MTlTaWduYXR1cmVBdXRoZW50aWNhdGlvbjIwMTgiLCAicHVibGljS2V5IjogImRpZDpzb3Y6V0tYbUtBR2pxbVB5cTdMempjam9xeiMxIn1dLCAic2VydmljZSI6IFt7ImlkIjogImRpZDpzb3Y6V0tYbUtBR2pxbVB5cTdMempjam9xejtpbmR5IiwgInR5cGUiOiAiSW5keUFnZW50IiwgInByaW9yaXR5IjogMCwgInJlY2lwaWVudEtleXMiOiBbIkd5cjd0Y3llQlFSTnoxQnNFWUR0b1FNR0FIendYbWlmODkxZVo3RHp3aE13Il0sICJzZXJ2aWNlRW5kcG9pbnQiOiAiaHR0cDovL2FnZW50MS5sb2NhbGhvc3QifV19fQ==\", '\n",
      " '\"signer\": \"GzGZrUGmNRwbZKwTdM8771tFjycp3JaXgFqojjZ8kJyV\"}}',\n",
      " 'GzGZrUGmNRwbZKwTdM8771tFjycp3JaXgFqojjZ8kJyV',\n",
      " 'aueVNDZP3U32oscmVreXwZmE8Di2iwZKUh5ZzsXahdd')\n"
     ]
    }
   ],
   "source": [
    "# a bit of a hack to simplify message unpacking,\n",
    "# decode_pack_message needs a callable object for some reason\n",
    "def unpackMessage(message, privateKey):\n",
    "    class FindKey:\n",
    "        def __init__(self, key):\n",
    "            self.key = key\n",
    "\n",
    "        def __call__(self, argument):\n",
    "            return self.key\n",
    "\n",
    "    find_key = FindKey(privateKey)   \n",
    "    return crypto.decode_pack_message(message, find_key)\n",
    "    \n",
    "connectionRequestResponseUnpacked = \\\n",
    "    unpackMessage(connectionRequestResponse.text, plugin['keypair'][1])\n",
    "\n",
    "connectionRequestResponseDict = json.loads(connectionRequestResponseUnpacked[0])\n",
    "\n",
    "print(\"Decoded acapy response: \\n\")\n",
    "pp.pprint(connectionRequestResponseUnpacked)"
   ]
  },
  {
   "cell_type": "markdown",
   "metadata": {},
   "source": [
    "**Unpacking connection data embedded in the response**"
   ]
  },
  {
   "cell_type": "code",
   "execution_count": 20,
   "metadata": {
    "scrolled": true
   },
   "outputs": [
    {
     "name": "stdout",
     "output_type": "stream",
     "text": [
      "{'DID': 'WKXmKAGjqmPyq7Lzjcjoqz',\n",
      " 'DIDDoc': {'@context': 'https://w3id.org/did/v1',\n",
      "            'authentication': [{'publicKey': 'did:sov:WKXmKAGjqmPyq7Lzjcjoqz#1',\n",
      "                                'type': 'Ed25519SignatureAuthentication2018'}],\n",
      "            'id': 'did:sov:WKXmKAGjqmPyq7Lzjcjoqz',\n",
      "            'publicKey': [{'controller': 'did:sov:WKXmKAGjqmPyq7Lzjcjoqz',\n",
      "                           'id': 'did:sov:WKXmKAGjqmPyq7Lzjcjoqz#1',\n",
      "                           'publicKeyBase58': 'Gyr7tcyeBQRNz1BsEYDtoQMGAHzwXmif891eZ7DzwhMw',\n",
      "                           'type': 'Ed25519VerificationKey2018'}],\n",
      "            'service': [{'id': 'did:sov:WKXmKAGjqmPyq7Lzjcjoqz;indy',\n",
      "                         'priority': 0,\n",
      "                         'recipientKeys': ['Gyr7tcyeBQRNz1BsEYDtoQMGAHzwXmif891eZ7DzwhMw'],\n",
      "                         'serviceEndpoint': 'http://agent1.localhost',\n",
      "                         'type': 'IndyAgent'}]}}\n"
     ]
    }
   ],
   "source": [
    "sig_data_raw = connectionRequestResponseDict['connection~sig']['sig_data']\n",
    "#  (this is a hack)replacing artifacts that sometimes happen\n",
    "sig_data_raw = sig_data_raw.replace(\"-\", \"1\")\n",
    "sig_data_raw = sig_data_raw.replace(\"_\", \"1\")\n",
    "\n",
    "sig_data_raw = base64.b64decode(sig_data_raw)\n",
    "# avoid first 8 characters as they are a time signature\n",
    "sig_data_raw = sig_data_raw[8:]\n",
    "sig_data_raw = sig_data_raw.decode('ascii')\n",
    "\n",
    "sig_data = json.loads(sig_data_raw)\n",
    "pp.pprint(sig_data)"
   ]
  },
  {
   "cell_type": "markdown",
   "metadata": {},
   "source": [
    "**Adding the connection to connection list**"
   ]
  },
  {
   "cell_type": "code",
   "execution_count": 21,
   "metadata": {},
   "outputs": [
    {
     "name": "stdout",
     "output_type": "stream",
     "text": [
      "[{'DIDDoc': {'@context': 'https://w3id.org/did/v1',\n",
      "             'authentication': [{'publicKey': 'did:sov:WKXmKAGjqmPyq7Lzjcjoqz#1',\n",
      "                                 'type': 'Ed25519SignatureAuthentication2018'}],\n",
      "             'id': 'did:sov:WKXmKAGjqmPyq7Lzjcjoqz',\n",
      "             'publicKey': [{'controller': 'did:sov:WKXmKAGjqmPyq7Lzjcjoqz',\n",
      "                            'id': 'did:sov:WKXmKAGjqmPyq7Lzjcjoqz#1',\n",
      "                            'publicKeyBase58': 'Gyr7tcyeBQRNz1BsEYDtoQMGAHzwXmif891eZ7DzwhMw',\n",
      "                            'type': 'Ed25519VerificationKey2018'}],\n",
      "             'service': [{'id': 'did:sov:WKXmKAGjqmPyq7Lzjcjoqz;indy',\n",
      "                          'priority': 0,\n",
      "                          'recipientKeys': ['Gyr7tcyeBQRNz1BsEYDtoQMGAHzwXmif891eZ7DzwhMw'],\n",
      "                          'serviceEndpoint': 'http://agent1.localhost',\n",
      "                          'type': 'IndyAgent'}]},\n",
      "  'label': 'Main (admin)',\n",
      "  'myKey': b'\\xa53l\\x02\\xef@\\xf4snzf\\xbeb\\xb9\\x19\\xa2\\xf8\\x8f\\xb5H\\xac\\x99\\xf8u'\n",
      "           b'\\xdf\\x99U\\xc9\\xd6\\xdc\\xcc\\x8f\\x08\\xaf\\xb1\\xb2\\xa4\\x8c&\\xf9'\n",
      "           b'\\x8d!\\xda\\xdf)\\xef3M\\x95\\xab%4\\xb1m\\xb2\\xfb[M\\xbb\\xa0\\x0c\\x9b\\x1at'}]\n"
     ]
    }
   ],
   "source": [
    "connections = [\n",
    "    {\n",
    "        \"label\": agent1['invite']['label'],\n",
    "        \"DIDDoc\": sig_data['DIDDoc'],\n",
    "        \"myKey\": plugin['keypair'][1]\n",
    "    }\n",
    "]\n",
    "\n",
    "def packMessage(message, connection):\n",
    "    # pass in our private key and recipient key to the encode_pack_message\n",
    "    decodedRecipientKey = base58.b58decode(connection['DIDDoc']['service'][0]['recipientKeys'][0])\n",
    "    packedMessage = \\\n",
    "    crypto.encode_pack_message(json.dumps(message), \\\n",
    "                               [decodedRecipientKey], \\\n",
    "                               connection['myKey'])\n",
    "    return packedMessage.decode('ascii')\n",
    "\n",
    "\n",
    "pp.pprint(connections)"
   ]
  },
  {
   "cell_type": "markdown",
   "metadata": {},
   "source": [
    "### FEATURE DISCOVERY"
   ]
  },
  {
   "cell_type": "code",
   "execution_count": 22,
   "metadata": {
    "scrolled": true
   },
   "outputs": [
    {
     "name": "stdout",
     "output_type": "stream",
     "text": [
      "{'@id': 'c6dd21cb-abe2-4f27-b41a-b53a45200bf6',\n",
      " '@type': 'did:sov:BzCbsNYhMrjHiqZDTUASHg;spec/discover-features/1.0/disclose',\n",
      " 'protocols': [{'pid': 'https://didcomm.org/notification/1.0'},\n",
      "               {'pid': 'did:sov:BzCbsNYhMrjHiqZDTUASHg;spec/basicmessage/1.0'},\n",
      "               {'pid': 'https://didcomm.org/present-proof/1.0'},\n",
      "               {'pid': 'did:sov:BzCbsNYhMrjHiqZDTUASHg;spec/issue-credential/1.0'},\n",
      "               {'pid': 'did:sov:BzCbsNYhMrjHiqZDTUASHg;spec/admin-holder/0.1'},\n",
      "               {'pid': 'did:sov:BzCbsNYhMrjHiqZDTUASHg;spec/credential-presentation/0.1'},\n",
      "               {'pid': 'did:sov:BzCbsNYhMrjHiqZDTUASHg;spec/credential-issuance/0.1'},\n",
      "               {'pid': 'did:sov:BzCbsNYhMrjHiqZDTUASHg;spec/admin-credential-definitions/0.1'},\n",
      "               {'pid': 'did:sov:BzCbsNYhMrjHiqZDTUASHg;spec/connections/1.0'},\n",
      "               {'pid': 'https://didcomm.org/trust_ping/1.0'},\n",
      "               {'pid': 'did:sov:BzCbsNYhMrjHiqZDTUASHg;spec/present-proof/1.0'},\n",
      "               {'pid': 'https://didcomm.org/basicmessage/1.0'},\n",
      "               {'pid': 'https://github.com/hyperledger/aries-toolbox/tree/master/docs/admin-payments/0.1'},\n",
      "               {'pid': 'https://github.com/hyperledger/aries-toolbox/tree/master/docs/admin-basicmessage/0.1'},\n",
      "               {'pid': 'did:sov:BzCbsNYhMrjHiqZDTUASHg;spec/notification/1.0'},\n",
      "               {'pid': 'did:sov:BzCbsNYhMrjHiqZDTUASHg;spec/admin-connections/0.1'},\n",
      "               {'pid': 'https://didcomm.org/discover-features/1.0'},\n",
      "               {'pid': 'did:sov:BzCbsNYhMrjHiqZDTUASHg;spec/discover-features/1.0'},\n",
      "               {'pid': 'did:sov:BzCbsNYhMrjHiqZDTUASHg;spec/admin-static-connections/0.1'},\n",
      "               {'pid': 'https://didcomm.org/credential-presentation/0.1'},\n",
      "               {'pid': 'https://didcomm.org/issue-credential/1.0'},\n",
      "               {'pid': 'https://didcomm.org/action-menu/1.0'},\n",
      "               {'pid': 'https://github.com/hyperledger/aries-toolbox/tree/master/docs/admin-invitations/0.1'},\n",
      "               {'pid': 'did:sov:BzCbsNYhMrjHiqZDTUASHg;spec/routing/1.0'},\n",
      "               {'pid': 'https://didcomm.org/connections/1.0'},\n",
      "               {'pid': 'did:sov:BzCbsNYhMrjHiqZDTUASHg;spec/acapy-plugin/1.0'},\n",
      "               {'pid': 'did:sov:BzCbsNYhMrjHiqZDTUASHg;spec/trust_ping/1.0'},\n",
      "               {'pid': 'did:sov:BzCbsNYhMrjHiqZDTUASHg;spec/admin-dids/0.1'},\n",
      "               {'pid': 'https://didcomm.org/credential-issuance/0.1'},\n",
      "               {'pid': 'https://github.com/hyperledger/aries-toolbox/tree/master/docs/admin-taa/0.1'},\n",
      "               {'pid': 'https://didcomm.org/introduction-service/0.1'},\n",
      "               {'pid': 'https://github.com/hyperledger/aries-toolbox/tree/master/docs/admin-connections/0.1'},\n",
      "               {'pid': 'did:sov:BzCbsNYhMrjHiqZDTUASHg;spec/admin-issuer/0.1'},\n",
      "               {'pid': 'https://didcomm.org/routing/1.0'},\n",
      "               {'pid': 'did:sov:BzCbsNYhMrjHiqZDTUASHg;spec/introduction-service/0.1'},\n",
      "               {'pid': 'did:sov:BzCbsNYhMrjHiqZDTUASHg;spec/action-menu/1.0',\n",
      "                'roles': ['provider']},\n",
      "               {'pid': 'did:sov:BzCbsNYhMrjHiqZDTUASHg;spec/admin-schemas/0.1'}],\n",
      " '~thread': {'thid': 'a7197beb-cd4e-4699-932d-21ede64e8b2d'}}\n"
     ]
    }
   ],
   "source": [
    "message = {}\n",
    "message['@id'] = str(uuid.uuid4())\n",
    "message['@type'] = \"did:sov:BzCbsNYhMrjHiqZDTUASHg;spec/discover-features/1.0/query\"\n",
    "message['~transport'] = {}\n",
    "message['~transport']['return_route'] = 'all'\n",
    "message['query'] = '*'\n",
    "encodedMessage = packMessage(message, connections[0])\n",
    "# print(encodedMessage)\n",
    "\n",
    "endpoint = connections[0]['DIDDoc']['service'][0]['serviceEndpoint']\n",
    "response = requests.post(endpoint, data=encodedMessage)\n",
    "# print(response.text)\n",
    "\n",
    "responseDecoded = unpackMessage(response.text, plugin['keypair'][1])\n",
    "responseDecoded = json.loads(responseDecoded[0])\n",
    "pp.pprint(responseDecoded)"
   ]
  },
  {
   "cell_type": "markdown",
   "metadata": {},
   "source": [
    "## Dids"
   ]
  },
  {
   "cell_type": "code",
   "execution_count": 23,
   "metadata": {},
   "outputs": [
    {
     "name": "stdout",
     "output_type": "stream",
     "text": [
      "{'@id': '7fe53168-2b92-40cc-9802-eebb03baede8',\n",
      " '@type': 'did:sov:BzCbsNYhMrjHiqZDTUASHg;spec/admin-dids/0.1/list-dids',\n",
      " 'result': [{'did': 'WKXmKAGjqmPyq7Lzjcjoqz',\n",
      "             'verkey': 'Gyr7tcyeBQRNz1BsEYDtoQMGAHzwXmif891eZ7DzwhMw'}],\n",
      " '~thread': {'thid': '2642f320-428b-4a03-ae80-ee1c87015b97'}}\n"
     ]
    }
   ],
   "source": [
    "message = {}\n",
    "message['@id'] = str(uuid.uuid4())\n",
    "message['@type'] = \"did:sov:BzCbsNYhMrjHiqZDTUASHg;spec/admin-dids/0.1/get-list-dids\"\n",
    "message['~transport'] = {}\n",
    "message['~transport']['return_route'] = 'all'\n",
    "encodedMessage = packMessage(message, connections[0])\n",
    "# print(encodedMessage)\n",
    "\n",
    "endpoint = connections[0]['DIDDoc']['service'][0]['serviceEndpoint']\n",
    "response = requests.post(endpoint, data=encodedMessage)\n",
    "# print(response.text)\n",
    "\n",
    "responseDecoded = unpackMessage(response.text, plugin['keypair'][1])\n",
    "responseDecoded = json.loads(responseDecoded[0])\n",
    "pp.pprint(responseDecoded)"
   ]
  },
  {
   "cell_type": "markdown",
   "metadata": {},
   "source": [
    "## Public did"
   ]
  },
  {
   "cell_type": "code",
   "execution_count": 24,
   "metadata": {},
   "outputs": [
    {
     "name": "stdout",
     "output_type": "stream",
     "text": [
      "{'@id': 'f285d57c-2f66-4854-aa0c-c03abce156e9',\n",
      " '@type': 'did:sov:BzCbsNYhMrjHiqZDTUASHg;spec/admin-dids/0.1/did',\n",
      " '~thread': {'thid': '06031017-63dc-4a01-9b2f-3b105690fe59'}}\n"
     ]
    }
   ],
   "source": [
    "message['@id'] = str(uuid.uuid4())\n",
    "message['@type'] = \"did:sov:BzCbsNYhMrjHiqZDTUASHg;spec/admin-dids/0.1/get-public-did\"\n",
    "message['~transport'] = {}\n",
    "message['~transport']['return_route'] = 'all'\n",
    "encodedMessage = packMessage(message, connections[0])\n",
    "# print(encodedMessage)\n",
    "\n",
    "endpoint = connections[0]['DIDDoc']['service'][0]['serviceEndpoint']\n",
    "response = requests.post(endpoint, data=encodedMessage)\n",
    "# print(response.text)\n",
    "\n",
    "responseDecoded = unpackMessage(response.text, plugin['keypair'][1])\n",
    "responseDecoded = json.loads(responseDecoded[0])\n",
    "pp.pprint(responseDecoded)"
   ]
  },
  {
   "cell_type": "code",
   "execution_count": 25,
   "metadata": {},
   "outputs": [
    {
     "name": "stdout",
     "output_type": "stream",
     "text": [
      "{'@id': '81397632-e925-4be9-84e8-6eddaa18df99',\n",
      " '@type': 'did:sov:BzCbsNYhMrjHiqZDTUASHg;spec/acapy-plugin/1.0/query',\n",
      " 'comment': 'qweqwe',\n",
      " '~thread': {'thid': '74836db2-85f7-492f-9708-076b876d9690'}}\n"
     ]
    }
   ],
   "source": [
    "message = {}\n",
    "message['@id'] = str(uuid.uuid4())\n",
    "message['@type'] = \"did:sov:BzCbsNYhMrjHiqZDTUASHg;spec/acapy-plugin/1.0/query\"\n",
    "message['~transport'] = {}\n",
    "message['~transport']['return_route'] = 'all'\n",
    "message['comment'] = 'qweqwe'\n",
    "\n",
    "# message['comment'] = \"memes\"\n",
    "encodedMessage = packMessage(message, connections[0])\n",
    "# print(encodedMessage)\n",
    "\n",
    "endpoint = connections[0]['DIDDoc']['service'][0]['serviceEndpoint']\n",
    "response = requests.post(endpoint, data=encodedMessage)\n",
    "# print(response.text)\n",
    "\n",
    "responseDecoded = unpackMessage(response.text, plugin['keypair'][1])\n",
    "responseDecoded = json.loads(responseDecoded[0])\n",
    "pp.pprint(responseDecoded)"
   ]
  }
 ],
 "metadata": {
  "kernelspec": {
   "display_name": "Python 3",
   "language": "python",
   "name": "python3"
  },
  "language_info": {
   "codemirror_mode": {
    "name": "ipython",
    "version": 3
   },
   "file_extension": ".py",
   "mimetype": "text/x-python",
   "name": "python",
   "nbconvert_exporter": "python",
   "pygments_lexer": "ipython3",
   "version": "3.7.5"
  }
 },
 "nbformat": 4,
 "nbformat_minor": 4
}
