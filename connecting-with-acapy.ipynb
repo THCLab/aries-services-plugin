{
 "cells": [
  {
   "cell_type": "code",
   "execution_count": 492,
   "metadata": {},
   "outputs": [],
   "source": [
    "import requests \n",
    "import re as regex\n",
    "import json\n",
    "import pprint as pp # pretty print\n",
    "\n",
    "import aries_cloudagent.wallet.crypto as crypto\n",
    "import aries_cloudagent.wallet.util as util\n",
    "import base64\n",
    "import base58\n",
    "import uuid\n",
    "\n",
    "agent1 = {}\n",
    "agent2 = {}\n",
    "plugin = {}"
   ]
  },
  {
   "cell_type": "markdown",
   "metadata": {},
   "source": [
    "## Enter Invite Url:"
   ]
  },
  {
   "cell_type": "code",
   "execution_count": 493,
   "metadata": {},
   "outputs": [],
   "source": [
    "agent1['url'] = \"http://agent2.localhost?c_i=eyJAdHlwZSI6ICJkaWQ6c292OkJ6Q2JzTlloTXJqSGlxWkRUVUFTSGc7c3BlYy9jb25uZWN0aW9ucy8xLjAvaW52aXRhdGlvbiIsICJAaWQiOiAiMjJmMmY0MGQtMDNiNC00Yzc0LWJlOTEtNjVmZDU3NzIwMDRkIiwgInJlY2lwaWVudEtleXMiOiBbIkVjNHV1cE5ZcGZ5eHFOU2Y5TFh5a05vZ0ptTTZ0aHFVTHY5cUh2QjFxTnVxIl0sICJzZXJ2aWNlRW5kcG9pbnQiOiAiaHR0cDovL2FnZW50Mi5sb2NhbGhvc3QiLCAibGFiZWwiOiAiQ2xpZW50IChhZG1pbikifQ==\""
   ]
  },
  {
   "cell_type": "code",
   "execution_count": 494,
   "metadata": {
    "scrolled": true
   },
   "outputs": [
    {
     "name": "stdout",
     "output_type": "stream",
     "text": [
      "Decoded invitation:\n",
      "\n",
      "{'@id': '22f2f40d-03b4-4c74-be91-65fd5772004d',\n",
      " '@type': 'did:sov:BzCbsNYhMrjHiqZDTUASHg;spec/connections/1.0/invitation',\n",
      " 'label': 'Client (admin)',\n",
      " 'recipientKeys': ['Ec4uupNYpfyxqNSf9LXykNogJmM6thqULv9qHvB1qNuq'],\n",
      " 'serviceEndpoint': 'http://agent2.localhost'}\n"
     ]
    }
   ],
   "source": [
    "# Process invite url, delete white spaces\n",
    "agent1['url'] = agent1['url'].replace(\" \", \"\")\n",
    "# Regex(substitution) to extract only the invite string from url\n",
    "agent1['invite_string_b64'] = regex.sub(\n",
    "           r\".*(c\\_i\\=)\", \n",
    "           r\"\", \n",
    "           agent1['url'])\n",
    "# Decoding invite string using base64 decoder\n",
    "agent1['invite_string'] = base64.b64decode(agent1['invite_string_b64'])\n",
    "# Converting our invite json string into a dictionary \n",
    "agent1['invite'] = json.loads(agent1['invite_string'])\n",
    "\n",
    "print(\"Decoded invitation:\\n\")\n",
    "pp.pprint(agent1['invite'])"
   ]
  },
  {
   "cell_type": "code",
   "execution_count": 495,
   "metadata": {},
   "outputs": [
    {
     "name": "stdout",
     "output_type": "stream",
     "text": [
      "Private key: \n",
      " 2BN9notxSeAyRkBCgkyuB8gQzhKik6xCuc4YvC9hTc2cu1AkndX19zLME7iwYtMzhXSE453JHKKCXFGaa6XRokCM\n",
      "\n",
      "Public key: \n",
      " 9RokKfrREJvJEV8Z7f9CombqpjK6yhmJHbPm8AsiazYD\n"
     ]
    }
   ],
   "source": [
    "### Generating a did key using aries crypto module\n",
    "# Create a key pair with random seed \n",
    "# Order: 0 - public key, 1 - secret / pritvate key\n",
    "plugin['keypair'] = crypto.create_keypair()\n",
    "# it seems to me that did is an encoded sub string of public key\n",
    "# or maybe just some arbitrary random number\n",
    "did = plugin['keypair'][0][:16]\n",
    "# final version of our did\n",
    "plugin['did'] = base58.b58encode(did).decode(\"ascii\")\n",
    "# encoding keys to base58\n",
    "plugin['public_key_b58'] = \\\n",
    "    base58.b58encode(plugin['keypair'][0]).decode(\"ascii\")\n",
    "plugin['private_key_b58'] = \\\n",
    "    base58.b58encode(plugin['keypair'][1]).decode(\"ascii\")\n",
    "\n",
    "# print(base58.b58encode(did))\n",
    "# print(plugin['did'])\n",
    "print(\"Private key: \\n\", plugin['private_key_b58'])\n",
    "print(\"\\nPublic key: \\n\", plugin['public_key_b58'])"
   ]
  },
  {
   "cell_type": "markdown",
   "metadata": {},
   "source": [
    "**Sending a connection request to acapy**"
   ]
  },
  {
   "cell_type": "code",
   "execution_count": 496,
   "metadata": {},
   "outputs": [],
   "source": [
    "uniqueId = str(uuid.uuid4())\n",
    "# print(uniqueId)\n",
    "\n",
    "# our request body\n",
    "message = {\n",
    "        \"@id\":  uniqueId,\n",
    "        \"~transport\": {\n",
    "          \"return_route\": \"all\"\n",
    "        },\n",
    "        \"@type\": \"did:sov:BzCbsNYhMrjHiqZDTUASHg;spec/connections/1.0/request\",\n",
    "        \"label\": \"Plugin\",\n",
    "        \"connection\": {\n",
    "          \"DID\": plugin['did'],\n",
    "          \"DIDDoc\": {\n",
    "            \"@context\": \"https://w3id.org/did/v1\",\n",
    "            \"id\": plugin['did'],\n",
    "            \"publicKey\": [{\n",
    "              \"id\": plugin['did'] + \"#keys-1\",\n",
    "              \"type\": \"Ed25519VerificationKey2018\",\n",
    "              \"controller\": plugin['did'],\n",
    "              \"publicKeyBase58\": plugin['public_key_b58']\n",
    "            }],\n",
    "            \"service\": [{\n",
    "              \"id\": plugin['did'] + \";indy\",\n",
    "              \"type\": \"IndyAgent\",\n",
    "              \"recipientKeys\": plugin['public_key_b58'],\n",
    "              \"serviceEndpoint\": \"\"\n",
    "            }]\n",
    "          }\n",
    "        }\n",
    "      }"
   ]
  },
  {
   "cell_type": "markdown",
   "metadata": {},
   "source": [
    "**Encoding/packing the request**"
   ]
  },
  {
   "cell_type": "code",
   "execution_count": 497,
   "metadata": {},
   "outputs": [],
   "source": [
    "# encoding it with aries crypto function using the key that was\n",
    "# given to us by aca-py in recipientKeys\n",
    "decodedAcapyKey = base58.b58decode(agent1['invite']['recipientKeys'][0])\n",
    "ourPrivateKey = plugin['keypair'][1]\n",
    "# print(plugin['did'])\n",
    "encodedMessage = \\\n",
    "    crypto.encode_pack_message(json.dumps(message), [decodedAcapyKey], ourPrivateKey)\n",
    "\n",
    "encodedMessage = encodedMessage.decode(\"ascii\")\n",
    "# print(\"Encoded message: \\n\")\n",
    "# pp.pprint(encodedMessage)"
   ]
  },
  {
   "cell_type": "code",
   "execution_count": 498,
   "metadata": {},
   "outputs": [],
   "source": [
    "connectionRequestResponse = requests.post(agent1['invite']['serviceEndpoint'], data=encodedMessage)\n",
    "assert connectionRequestResponse.text != \"\", \"invalid response from acapy\""
   ]
  },
  {
   "cell_type": "markdown",
   "metadata": {},
   "source": [
    "**Response from aca-py**"
   ]
  },
  {
   "cell_type": "code",
   "execution_count": 499,
   "metadata": {
    "scrolled": true
   },
   "outputs": [
    {
     "name": "stdout",
     "output_type": "stream",
     "text": [
      "Decoded acapy response: \n",
      "\n",
      "('{\"@type\": \"did:sov:BzCbsNYhMrjHiqZDTUASHg;spec/connections/1.0/response\", '\n",
      " '\"@id\": \"33c62541-bf41-4b30-b0ef-277d54758831\", \"~thread\": {\"thid\": '\n",
      " '\"ed569bb8-bbdf-41c1-aa59-9b0c6ab83c82\"}, \"connection~sig\": {\"@type\": '\n",
      " '\"did:sov:BzCbsNYhMrjHiqZDTUASHg;spec/signature/1.0/ed25519Sha512_single\", '\n",
      " '\"signature\": '\n",
      " '\"3Rgy6TiH6f33n9jWyrth7TEzPlk5PNMIjWp1BK3BjCjZSirh80XUqzZsWhXyCxVFBRd0yIOlfrsb01koz-p9DA==\", '\n",
      " '\"sig_data\": '\n",
      " '\"AAAAAF69IdZ7IkRJRCI6ICJLWW81Q0Rlc1NKQ2dQVXZKUHV3ZjZrIiwgIkRJRERvYyI6IHsiQGNvbnRleHQiOiAiaHR0cHM6Ly93M2lkLm9yZy9kaWQvdjEiLCAiaWQiOiAiZGlkOnNvdjpLWW81Q0Rlc1NKQ2dQVXZKUHV3ZjZrIiwgInB1YmxpY0tleSI6IFt7ImlkIjogImRpZDpzb3Y6S1lvNUNEZXNTSkNnUFV2SlB1d2Y2ayMxIiwgInR5cGUiOiAiRWQyNTUxOVZlcmlmaWNhdGlvbktleTIwMTgiLCAiY29udHJvbGxlciI6ICJkaWQ6c292OktZbzVDRGVzU0pDZ1BVdkpQdXdmNmsiLCAicHVibGljS2V5QmFzZTU4IjogIkI3THlyUm1xdXN2TXpidU5naFllWnlkQ0NBNmUzdVBETnZqV2FQazgzd1dSIn1dLCAiYXV0aGVudGljYXRpb24iOiBbeyJ0eXBlIjogIkVkMjU1MTlTaWduYXR1cmVBdXRoZW50aWNhdGlvbjIwMTgiLCAicHVibGljS2V5IjogImRpZDpzb3Y6S1lvNUNEZXNTSkNnUFV2SlB1d2Y2ayMxIn1dLCAic2VydmljZSI6IFt7ImlkIjogImRpZDpzb3Y6S1lvNUNEZXNTSkNnUFV2SlB1d2Y2aztpbmR5IiwgInR5cGUiOiAiSW5keUFnZW50IiwgInByaW9yaXR5IjogMCwgInJlY2lwaWVudEtleXMiOiBbIkI3THlyUm1xdXN2TXpidU5naFllWnlkQ0NBNmUzdVBETnZqV2FQazgzd1dSIl0sICJzZXJ2aWNlRW5kcG9pbnQiOiAiaHR0cDovL2FnZW50Mi5sb2NhbGhvc3QifV19fQ==\", '\n",
      " '\"signer\": \"Ec4uupNYpfyxqNSf9LXykNogJmM6thqULv9qHvB1qNuq\"}}',\n",
      " 'Ec4uupNYpfyxqNSf9LXykNogJmM6thqULv9qHvB1qNuq',\n",
      " '9RokKfrREJvJEV8Z7f9CombqpjK6yhmJHbPm8AsiazYD')\n"
     ]
    }
   ],
   "source": [
    "# a bit of a hack to simplify message unpacking,\n",
    "# decode_pack_message needs a callable object for some reason\n",
    "def unpackMessage(message, privateKey):\n",
    "    class FindKey:\n",
    "        def __init__(self, key):\n",
    "            self.key = key\n",
    "\n",
    "        def __call__(self, argument):\n",
    "            return self.key\n",
    "\n",
    "    find_key = FindKey(privateKey)   \n",
    "    return crypto.decode_pack_message(message, find_key)\n",
    "    \n",
    "connectionRequestResponseUnpacked = \\\n",
    "    unpackMessage(connectionRequestResponse.text, plugin['keypair'][1])\n",
    "\n",
    "connectionRequestResponseDict = json.loads(connectionRequestResponseUnpacked[0])\n",
    "\n",
    "print(\"Decoded acapy response: \\n\")\n",
    "pp.pprint(connectionRequestResponseUnpacked)"
   ]
  },
  {
   "cell_type": "markdown",
   "metadata": {},
   "source": [
    "**Unpacking connection data embedded in the response**"
   ]
  },
  {
   "cell_type": "code",
   "execution_count": 500,
   "metadata": {
    "scrolled": true
   },
   "outputs": [
    {
     "name": "stdout",
     "output_type": "stream",
     "text": [
      "{'DID': 'KYo5CDesSJCgPUvJPuwf6k',\n",
      " 'DIDDoc': {'@context': 'https://w3id.org/did/v1',\n",
      "            'authentication': [{'publicKey': 'did:sov:KYo5CDesSJCgPUvJPuwf6k#1',\n",
      "                                'type': 'Ed25519SignatureAuthentication2018'}],\n",
      "            'id': 'did:sov:KYo5CDesSJCgPUvJPuwf6k',\n",
      "            'publicKey': [{'controller': 'did:sov:KYo5CDesSJCgPUvJPuwf6k',\n",
      "                           'id': 'did:sov:KYo5CDesSJCgPUvJPuwf6k#1',\n",
      "                           'publicKeyBase58': 'B7LyrRmqusvMzbuNghYeZydCCA6e3uPDNvjWaPk83wWR',\n",
      "                           'type': 'Ed25519VerificationKey2018'}],\n",
      "            'service': [{'id': 'did:sov:KYo5CDesSJCgPUvJPuwf6k;indy',\n",
      "                         'priority': 0,\n",
      "                         'recipientKeys': ['B7LyrRmqusvMzbuNghYeZydCCA6e3uPDNvjWaPk83wWR'],\n",
      "                         'serviceEndpoint': 'http://agent2.localhost',\n",
      "                         'type': 'IndyAgent'}]}}\n"
     ]
    }
   ],
   "source": [
    "sig_data_raw = connectionRequestResponseDict['connection~sig']['sig_data']\n",
    "sig_data_raw = base64.b64decode(sig_data_raw)\n",
    "## TODO: replace - _ characters with some random number etc.\n",
    "# avoid first 8 characters as they are a time signature\n",
    "sig_data_raw = sig_data_raw[8:]\n",
    "sig_data_raw = sig_data_raw.decode('ascii')\n",
    "\n",
    "sig_data = json.loads(sig_data_raw)\n",
    "pp.pprint(sig_data)"
   ]
  },
  {
   "cell_type": "markdown",
   "metadata": {},
   "source": [
    "**Adding the connection to connection list**"
   ]
  },
  {
   "cell_type": "code",
   "execution_count": 501,
   "metadata": {},
   "outputs": [
    {
     "name": "stdout",
     "output_type": "stream",
     "text": [
      "[{'DIDDoc': {'@context': 'https://w3id.org/did/v1',\n",
      "             'authentication': [{'publicKey': 'did:sov:KYo5CDesSJCgPUvJPuwf6k#1',\n",
      "                                 'type': 'Ed25519SignatureAuthentication2018'}],\n",
      "             'id': 'did:sov:KYo5CDesSJCgPUvJPuwf6k',\n",
      "             'publicKey': [{'controller': 'did:sov:KYo5CDesSJCgPUvJPuwf6k',\n",
      "                            'id': 'did:sov:KYo5CDesSJCgPUvJPuwf6k#1',\n",
      "                            'publicKeyBase58': 'B7LyrRmqusvMzbuNghYeZydCCA6e3uPDNvjWaPk83wWR',\n",
      "                            'type': 'Ed25519VerificationKey2018'}],\n",
      "             'service': [{'id': 'did:sov:KYo5CDesSJCgPUvJPuwf6k;indy',\n",
      "                          'priority': 0,\n",
      "                          'recipientKeys': ['B7LyrRmqusvMzbuNghYeZydCCA6e3uPDNvjWaPk83wWR'],\n",
      "                          'serviceEndpoint': 'http://agent2.localhost',\n",
      "                          'type': 'IndyAgent'}]},\n",
      "  'label': 'Client (admin)',\n",
      "  'myKey': b':\\xf4\\x81\\xdd\\xa2\\xf16\\x8c\\xa7\\xd6JB\\xdb\\xd5\\x85\\xf8'\n",
      "           b'\\xb3\\xe6\\x1f\\xc2\\xfd\\x84\\x15\\x86\\x8bp!\\x90\\x87E.[}8J\\xb0 \\x92\\xd53'\n",
      "           b'\\xcb\\xe5z\\xec\\xb3\\xfe\\xc8\\x96x\\x91k\\x07\\xc7\\xb8al\\x83Q\\xf8\\x1b'\n",
      "           b'\\xbf\\x0ce\\xce'}]\n"
     ]
    }
   ],
   "source": [
    "connections = [\n",
    "    {\n",
    "        \"label\": agent1['invite']['label'],\n",
    "        \"DIDDoc\": sig_data['DIDDoc'],\n",
    "        \"myKey\": plugin['keypair'][1]\n",
    "    }\n",
    "]\n",
    "\n",
    "def packMessage(message, connection):\n",
    "    # pass in our private key and recipient key to the encode_pack_message\n",
    "    decodedRecipientKey = base58.b58decode(connection['DIDDoc']['service'][0]['recipientKeys'][0])\n",
    "    packedMessage = \\\n",
    "    crypto.encode_pack_message(json.dumps(message), \\\n",
    "                               [decodedRecipientKey], \\\n",
    "                               connection['myKey'])\n",
    "    return packedMessage.decode('ascii')\n",
    "\n",
    "\n",
    "pp.pprint(connections)"
   ]
  },
  {
   "cell_type": "markdown",
   "metadata": {},
   "source": [
    "### FEATURE DISCOVERY"
   ]
  },
  {
   "cell_type": "code",
   "execution_count": 502,
   "metadata": {
    "scrolled": true
   },
   "outputs": [
    {
     "name": "stdout",
     "output_type": "stream",
     "text": [
      "{'@id': 'caff7deb-9a02-4e05-b8dd-ea11c8c14812',\n",
      " '@type': 'did:sov:BzCbsNYhMrjHiqZDTUASHg;spec/discover-features/1.0/disclose',\n",
      " 'protocols': [{'pid': 'https://didcomm.org/routing/1.0'},\n",
      "               {'pid': 'https://didcomm.org/connections/1.0'},\n",
      "               {'pid': 'https://didcomm.org/discover-features/1.0'},\n",
      "               {'pid': 'did:sov:BzCbsNYhMrjHiqZDTUASHg;spec/notification/1.0'},\n",
      "               {'pid': 'https://didcomm.org/introduction-service/0.1'},\n",
      "               {'pid': 'did:sov:BzCbsNYhMrjHiqZDTUASHg;spec/credential-presentation/0.1'},\n",
      "               {'pid': 'https://didcomm.org/notification/1.0'},\n",
      "               {'pid': 'did:sov:BzCbsNYhMrjHiqZDTUASHg;spec/admin-static-connections/0.1'},\n",
      "               {'pid': 'did:sov:BzCbsNYhMrjHiqZDTUASHg;spec/introduction-service/0.1'},\n",
      "               {'pid': 'https://didcomm.org/credential-issuance/0.1'},\n",
      "               {'pid': 'did:sov:BzCbsNYhMrjHiqZDTUASHg;spec/admin-issuer/0.1'},\n",
      "               {'pid': 'did:sov:BzCbsNYhMrjHiqZDTUASHg;spec/basicmessage/1.0'},\n",
      "               {'pid': 'https://github.com/hyperledger/aries-toolbox/tree/master/docs/admin-basicmessage/0.1'},\n",
      "               {'pid': 'https://didcomm.org/present-proof/1.0'},\n",
      "               {'pid': 'https://didcomm.org/credential-presentation/0.1'},\n",
      "               {'pid': 'https://github.com/hyperledger/aries-toolbox/tree/master/docs/admin-payments/0.1'},\n",
      "               {'pid': 'https://didcomm.org/issue-credential/1.0'},\n",
      "               {'pid': 'did:sov:BzCbsNYhMrjHiqZDTUASHg;spec/issue-credential/1.0'},\n",
      "               {'pid': 'did:sov:BzCbsNYhMrjHiqZDTUASHg;spec/credential-issuance/0.1'},\n",
      "               {'pid': 'did:sov:BzCbsNYhMrjHiqZDTUASHg;spec/admin-credential-definitions/0.1'},\n",
      "               {'pid': 'did:sov:BzCbsNYhMrjHiqZDTUASHg;spec/connections/1.0'},\n",
      "               {'pid': 'did:sov:BzCbsNYhMrjHiqZDTUASHg;spec/action-menu/1.0',\n",
      "                'roles': ['provider']},\n",
      "               {'pid': 'https://github.com/hyperledger/aries-toolbox/tree/master/docs/admin-taa/0.1'},\n",
      "               {'pid': 'did:sov:BzCbsNYhMrjHiqZDTUASHg;spec/present-proof/1.0'},\n",
      "               {'pid': 'did:sov:BzCbsNYhMrjHiqZDTUASHg;spec/acapy-plugin/1.0'},\n",
      "               {'pid': 'did:sov:BzCbsNYhMrjHiqZDTUASHg;spec/routing/1.0'},\n",
      "               {'pid': 'did:sov:BzCbsNYhMrjHiqZDTUASHg;spec/admin-holder/0.1'},\n",
      "               {'pid': 'https://didcomm.org/basicmessage/1.0'},\n",
      "               {'pid': 'did:sov:BzCbsNYhMrjHiqZDTUASHg;spec/admin-dids/0.1'},\n",
      "               {'pid': 'https://github.com/hyperledger/aries-toolbox/tree/master/docs/admin-invitations/0.1'},\n",
      "               {'pid': 'did:sov:BzCbsNYhMrjHiqZDTUASHg;spec/trust_ping/1.0'},\n",
      "               {'pid': 'https://didcomm.org/trust_ping/1.0'},\n",
      "               {'pid': 'did:sov:BzCbsNYhMrjHiqZDTUASHg;spec/admin-schemas/0.1'},\n",
      "               {'pid': 'https://didcomm.org/action-menu/1.0'},\n",
      "               {'pid': 'did:sov:BzCbsNYhMrjHiqZDTUASHg;spec/discover-features/1.0'},\n",
      "               {'pid': 'did:sov:BzCbsNYhMrjHiqZDTUASHg;spec/admin-connections/0.1'},\n",
      "               {'pid': 'https://github.com/hyperledger/aries-toolbox/tree/master/docs/admin-connections/0.1'}],\n",
      " '~thread': {'thid': 'a40e5f13-6c56-4848-b228-285cded54a02'}}\n"
     ]
    }
   ],
   "source": [
    "message = {}\n",
    "message['@id'] = str(uuid.uuid4())\n",
    "message['@type'] = \"did:sov:BzCbsNYhMrjHiqZDTUASHg;spec/discover-features/1.0/query\"\n",
    "message['~transport'] = {}\n",
    "message['~transport']['return_route'] = 'all'\n",
    "message['query'] = '*'\n",
    "encodedMessage = packMessage(message, connections[0])\n",
    "# print(encodedMessage)\n",
    "\n",
    "endpoint = connections[0]['DIDDoc']['service'][0]['serviceEndpoint']\n",
    "response = requests.post(endpoint, data=encodedMessage)\n",
    "# print(response.text)\n",
    "\n",
    "responseDecoded = unpackMessage(response.text, plugin['keypair'][1])\n",
    "responseDecoded = json.loads(responseDecoded[0])\n",
    "pp.pprint(responseDecoded)"
   ]
  },
  {
   "cell_type": "markdown",
   "metadata": {},
   "source": [
    "## Dids"
   ]
  },
  {
   "cell_type": "code",
   "execution_count": 503,
   "metadata": {},
   "outputs": [
    {
     "name": "stdout",
     "output_type": "stream",
     "text": [
      "{'@id': 'd9342669-98fa-4b06-88fb-ed5dd75aa78a',\n",
      " '@type': 'did:sov:BzCbsNYhMrjHiqZDTUASHg;spec/admin-dids/0.1/list-dids',\n",
      " 'result': [{'did': 'SRypyC6EGLfDQrXMkLB78s',\n",
      "             'verkey': 'Erv25DwntLu9Wrv9qDDpTyT5geAP2EFJKhoCEaa59wy7'},\n",
      "            {'did': 'R7jMcbdYSWDBZ6iWqsTbXP',\n",
      "             'verkey': 'E9Md2W85gvBbLM471Bok4PAm8skfZwHQJxEW33u2P4GL'},\n",
      "            {'did': 'GfMEYgBHWeap9Y1TNBkWs3',\n",
      "             'verkey': '9Y5hV3wHxTZv9HMaJHHKAmBEzmcKLX3R2Go4TNnNE3b4'},\n",
      "            {'did': 'LcHB9CYg1ubfTfZfqgioMc',\n",
      "             'verkey': 'BgrdPGjy34iF6HpX3ADondV8Dc92T7BkHv7CCuYwwVSY'},\n",
      "            {'did': 'GA5cdEpPbyxcWyLmUGZqNX',\n",
      "             'verkey': '9G8SPcRmoaepYaLKY1UhzZF1EjXe7vmKcHhVMmJmRgj5'},\n",
      "            {'did': 'UuzotrWcFJ7Prz3LmRGJbB',\n",
      "             'verkey': 'GDQgHUQvL827rwJt9GNCzRyfUFUASQuhr8294NDjHfiR'},\n",
      "            {'did': 'A16AZUPifEcvmYjhUdyJQm',\n",
      "             'verkey': '5uZGKL4EhHvre87MJKwyRHUoYt5ZZuRg1YrXMNkCUGMZ'},\n",
      "            {'did': '35G1tpBSY1uXYuDUU3eFmp',\n",
      "             'verkey': '28YczGLtZNfi8Ss9BbymUkkq6hGMZ8Acnpew74WBBEwi'},\n",
      "            {'did': 'QYJmWf2G4gyzsXjgf2xCMK',\n",
      "             'verkey': 'Dq92SRejEFaLCbomKA6AQiEj6QLbxTjoAJg72UbXR456'},\n",
      "            {'did': '2yEo931qe7EHqS7XuThn4Z',\n",
      "             'verkey': '25GHTY3MBMSgr9s7HPMVNCcZDyX8SXWUhZYdkK6m6UdP'},\n",
      "            {'did': 'D1U33FJPFSNJGQ9qnxoU4s',\n",
      "             'verkey': '7YbfhL8Cydw42YLYDfWNkFR871KCvGYBucqtaQegDJBR'},\n",
      "            {'did': 'KYo5CDesSJCgPUvJPuwf6k',\n",
      "             'verkey': 'B7LyrRmqusvMzbuNghYeZydCCA6e3uPDNvjWaPk83wWR'},\n",
      "            {'did': 'HZgvTp8HTGMdmXP9ZULu11',\n",
      "             'verkey': 'A2cFaCj8VvjjVAqUH1vnvGrEtE5ue5mG3JzZmmrcDJcE'},\n",
      "            {'did': '5FXBfMuy5NAHnUPj9oMwYX',\n",
      "             'verkey': '3KMzn7CYubSTtX9s6WysUS6hjv457w8BSFeAwyZ3MLWZ'},\n",
      "            {'did': '3Q3UKed7XKrxv8Ls2hTJ6T',\n",
      "             'verkey': '2JnQq3pJwsgYpt8aGAeRK7xo8eCa7982NXNMjXtCgEHF'},\n",
      "            {'did': 'WeM5aKHwyftUAf2DGxTMb5',\n",
      "             'verkey': 'HA6vWDqxjBPLFxWDu8XiqspmPsCsuVx7mMCYktGmyNrc'},\n",
      "            {'did': 'TvDXWWGbf2F47e5tkaaX4d',\n",
      "             'verkey': 'Ffv7dxzWYAJg9hw1xc883GiBYmj2ibF8w3xqnrVsAHh3'}],\n",
      " '~thread': {'thid': 'cb71ce4a-6ddf-40ae-a645-1414d6e6e1b2'}}\n"
     ]
    }
   ],
   "source": [
    "message = {}\n",
    "message['@id'] = str(uuid.uuid4())\n",
    "message['@type'] = \"did:sov:BzCbsNYhMrjHiqZDTUASHg;spec/admin-dids/0.1/get-list-dids\"\n",
    "message['~transport'] = {}\n",
    "message['~transport']['return_route'] = 'all'\n",
    "encodedMessage = packMessage(message, connections[0])\n",
    "# print(encodedMessage)\n",
    "\n",
    "endpoint = connections[0]['DIDDoc']['service'][0]['serviceEndpoint']\n",
    "response = requests.post(endpoint, data=encodedMessage)\n",
    "# print(response.text)\n",
    "\n",
    "responseDecoded = unpackMessage(response.text, plugin['keypair'][1])\n",
    "responseDecoded = json.loads(responseDecoded[0])\n",
    "pp.pprint(responseDecoded)"
   ]
  },
  {
   "cell_type": "markdown",
   "metadata": {},
   "source": [
    "## Public did"
   ]
  },
  {
   "cell_type": "code",
   "execution_count": 504,
   "metadata": {},
   "outputs": [
    {
     "name": "stdout",
     "output_type": "stream",
     "text": [
      "{'@id': '6fe2acda-50ff-4dbf-9242-8c4966d16e2c',\n",
      " '@type': 'did:sov:BzCbsNYhMrjHiqZDTUASHg;spec/admin-dids/0.1/did',\n",
      " '~thread': {'thid': 'a368120d-5a12-46df-8ced-58c7b1e21d0e'}}\n"
     ]
    }
   ],
   "source": [
    "message['@id'] = str(uuid.uuid4())\n",
    "message['@type'] = \"did:sov:BzCbsNYhMrjHiqZDTUASHg;spec/admin-dids/0.1/get-public-did\"\n",
    "message['~transport'] = {}\n",
    "message['~transport']['return_route'] = 'all'\n",
    "encodedMessage = packMessage(message, connections[0])\n",
    "# print(encodedMessage)\n",
    "\n",
    "endpoint = connections[0]['DIDDoc']['service'][0]['serviceEndpoint']\n",
    "response = requests.post(endpoint, data=encodedMessage)\n",
    "# print(response.text)\n",
    "\n",
    "responseDecoded = unpackMessage(response.text, plugin['keypair'][1])\n",
    "responseDecoded = json.loads(responseDecoded[0])\n",
    "pp.pprint(responseDecoded)"
   ]
  },
  {
   "cell_type": "code",
   "execution_count": 509,
   "metadata": {},
   "outputs": [
    {
     "name": "stdout",
     "output_type": "stream",
     "text": [
      "{'@id': 'fef40c76-40b8-4b13-b607-e72283e89e66',\n",
      " '@type': 'did:sov:BzCbsNYhMrjHiqZDTUASHg;spec/acapy-plugin/1.0/query',\n",
      " 'comment': 'qqq',\n",
      " '~thread': {'thid': '8be8effd-7b88-4728-937d-1b704789f700'}}\n"
     ]
    }
   ],
   "source": [
    "message = {}\n",
    "message['@id'] = str(uuid.uuid4())\n",
    "message['@type'] = \"did:sov:BzCbsNYhMrjHiqZDTUASHg;spec/acapy-plugin/1.0/query\"\n",
    "message['~transport'] = {}\n",
    "message['~transport']['return_route'] = 'all'\n",
    "message['comment'] = 'qqq'\n",
    "\n",
    "# message['comment'] = \"memes\"\n",
    "encodedMessage = packMessage(message, connections[0])\n",
    "# print(encodedMessage)\n",
    "\n",
    "endpoint = connections[0]['DIDDoc']['service'][0]['serviceEndpoint']\n",
    "response = requests.post(endpoint, data=encodedMessage)\n",
    "# print(response.text)\n",
    "\n",
    "responseDecoded = unpackMessage(response.text, plugin['keypair'][1])\n",
    "responseDecoded = json.loads(responseDecoded[0])\n",
    "pp.pprint(responseDecoded)"
   ]
  }
 ],
 "metadata": {
  "kernelspec": {
   "display_name": "Python 3",
   "language": "python",
   "name": "python3"
  },
  "language_info": {
   "codemirror_mode": {
    "name": "ipython",
    "version": 3
   },
   "file_extension": ".py",
   "mimetype": "text/x-python",
   "name": "python",
   "nbconvert_exporter": "python",
   "pygments_lexer": "ipython3",
   "version": "3.7.5"
  }
 },
 "nbformat": 4,
 "nbformat_minor": 4
}
