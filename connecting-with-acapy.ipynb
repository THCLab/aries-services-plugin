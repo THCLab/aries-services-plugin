{
 "cells": [
  {
   "cell_type": "code",
   "execution_count": 478,
   "metadata": {},
   "outputs": [],
   "source": [
    "import requests \n",
    "import re as regex\n",
    "import json\n",
    "import pprint as pp # pretty print\n",
    "\n",
    "import aries_cloudagent.wallet.crypto as crypto\n",
    "import aries_cloudagent.wallet.util as util\n",
    "import base64\n",
    "import base58\n",
    "import uuid\n",
    "\n",
    "agent1 = {}\n",
    "agent2 = {}\n",
    "plugin = {}"
   ]
  },
  {
   "cell_type": "markdown",
   "metadata": {},
   "source": [
    "## Enter Invite Url:"
   ]
  },
  {
   "cell_type": "code",
   "execution_count": 479,
   "metadata": {},
   "outputs": [],
   "source": [
    "agent1['url'] = \"http://agent2.localhost?c_i=eyJAdHlwZSI6ICJkaWQ6c292OkJ6Q2JzTlloTXJqSGlxWkRUVUFTSGc7c3BlYy9jb25uZWN0aW9ucy8xLjAvaW52aXRhdGlvbiIsICJAaWQiOiAiNDk0NTRiODYtZjc4NS00YzQxLWFkODAtMjcyNWUwYzAyMGFiIiwgInNlcnZpY2VFbmRwb2ludCI6ICJodHRwOi8vYWdlbnQyLmxvY2FsaG9zdCIsICJyZWNpcGllbnRLZXlzIjogWyJFVFBMUGNxMXBNdzdSMVJ5UW45NVZQZUM1RFk1VXpGYW1HSEFLQkZ3c1J4OCJdLCAibGFiZWwiOiAiQ2xpZW50IChhZG1pbikifQ==\""
   ]
  },
  {
   "cell_type": "code",
   "execution_count": 480,
   "metadata": {
    "scrolled": true
   },
   "outputs": [
    {
     "name": "stdout",
     "output_type": "stream",
     "text": [
      "Decoded invitation:\n",
      "\n",
      "{'@id': '49454b86-f785-4c41-ad80-2725e0c020ab',\n",
      " '@type': 'did:sov:BzCbsNYhMrjHiqZDTUASHg;spec/connections/1.0/invitation',\n",
      " 'label': 'Client (admin)',\n",
      " 'recipientKeys': ['ETPLPcq1pMw7R1RyQn95VPeC5DY5UzFamGHAKBFwsRx8'],\n",
      " 'serviceEndpoint': 'http://agent2.localhost'}\n"
     ]
    }
   ],
   "source": [
    "# Process invite url, delete white spaces\n",
    "agent1['url'] = agent1['url'].replace(\" \", \"\")\n",
    "# Regex(substitution) to extract only the invite string from url\n",
    "agent1['invite_string_b64'] = regex.sub(\n",
    "           r\".*(c\\_i\\=)\", \n",
    "           r\"\", \n",
    "           agent1['url'])\n",
    "# Decoding invite string using base64 decoder\n",
    "agent1['invite_string'] = base64.b64decode(agent1['invite_string_b64'])\n",
    "# Converting our invite json string into a dictionary \n",
    "agent1['invite'] = json.loads(agent1['invite_string'])\n",
    "\n",
    "print(\"Decoded invitation:\\n\")\n",
    "pp.pprint(agent1['invite'])"
   ]
  },
  {
   "cell_type": "code",
   "execution_count": 481,
   "metadata": {},
   "outputs": [
    {
     "name": "stdout",
     "output_type": "stream",
     "text": [
      "Private key: \n",
      " 3y47gwwUTd6kauCRoKPNFErs7PMwRNGCQkVzHnQV765UfYemftVscviKpVZA3RsFN1BqJSCpwUcUw8YhPyWL6Pqh\n",
      "\n",
      "Public key: \n",
      " 4A7J1pn1SSrtmysErvLxVbyn5qh4NtQFtn4fS7DacfHy\n"
     ]
    }
   ],
   "source": [
    "### Generating a did key using aries crypto module\n",
    "# Create a key pair with random seed \n",
    "# Order: 0 - public key, 1 - secret / pritvate key\n",
    "plugin['keypair'] = crypto.create_keypair()\n",
    "# it seems to me that did is an encoded sub string of public key\n",
    "# or maybe just some arbitrary random number\n",
    "did = plugin['keypair'][0][:16]\n",
    "# final version of our did\n",
    "plugin['did'] = base58.b58encode(did).decode(\"ascii\")\n",
    "# encoding keys to base58\n",
    "plugin['public_key_b58'] = \\\n",
    "    base58.b58encode(plugin['keypair'][0]).decode(\"ascii\")\n",
    "plugin['private_key_b58'] = \\\n",
    "    base58.b58encode(plugin['keypair'][1]).decode(\"ascii\")\n",
    "\n",
    "# print(base58.b58encode(did))\n",
    "# print(plugin['did'])\n",
    "print(\"Private key: \\n\", plugin['private_key_b58'])\n",
    "print(\"\\nPublic key: \\n\", plugin['public_key_b58'])"
   ]
  },
  {
   "cell_type": "markdown",
   "metadata": {},
   "source": [
    "**Sending a connection request to acapy**"
   ]
  },
  {
   "cell_type": "code",
   "execution_count": 482,
   "metadata": {},
   "outputs": [],
   "source": [
    "uniqueId = str(uuid.uuid4())\n",
    "# print(uniqueId)\n",
    "\n",
    "# our request body\n",
    "message = {\n",
    "        \"@id\":  uniqueId,\n",
    "        \"~transport\": {\n",
    "          \"return_route\": \"all\"\n",
    "        },\n",
    "        \"@type\": \"did:sov:BzCbsNYhMrjHiqZDTUASHg;spec/connections/1.0/request\",\n",
    "        \"label\": \"Plugin\",\n",
    "        \"connection\": {\n",
    "          \"DID\": plugin['did'],\n",
    "          \"DIDDoc\": {\n",
    "            \"@context\": \"https://w3id.org/did/v1\",\n",
    "            \"id\": plugin['did'],\n",
    "            \"publicKey\": [{\n",
    "              \"id\": plugin['did'] + \"#keys-1\",\n",
    "              \"type\": \"Ed25519VerificationKey2018\",\n",
    "              \"controller\": plugin['did'],\n",
    "              \"publicKeyBase58\": plugin['public_key_b58']\n",
    "            }],\n",
    "            \"service\": [{\n",
    "              \"id\": plugin['did'] + \";indy\",\n",
    "              \"type\": \"IndyAgent\",\n",
    "              \"recipientKeys\": plugin['public_key_b58'],\n",
    "              \"serviceEndpoint\": \"\"\n",
    "            }]\n",
    "          }\n",
    "        }\n",
    "      }"
   ]
  },
  {
   "cell_type": "markdown",
   "metadata": {},
   "source": [
    "**Encoding/packing the request**"
   ]
  },
  {
   "cell_type": "code",
   "execution_count": 483,
   "metadata": {},
   "outputs": [],
   "source": [
    "# encoding it with aries crypto function using the key that was\n",
    "# given to us by aca-py in recipientKeys\n",
    "decodedAcapyKey = base58.b58decode(agent1['invite']['recipientKeys'][0])\n",
    "ourPrivateKey = plugin['keypair'][1]\n",
    "# print(plugin['did'])\n",
    "encodedMessage = \\\n",
    "    crypto.encode_pack_message(json.dumps(message), [decodedAcapyKey], ourPrivateKey)\n",
    "\n",
    "encodedMessage = encodedMessage.decode(\"ascii\")\n",
    "# print(\"Encoded message: \\n\")\n",
    "# pp.pprint(encodedMessage)"
   ]
  },
  {
   "cell_type": "code",
   "execution_count": 484,
   "metadata": {},
   "outputs": [],
   "source": [
    "connectionRequestResponse = requests.post(agent1['invite']['serviceEndpoint'], data=encodedMessage)\n",
    "assert connectionRequestResponse.text != \"\", \"invalid response from acapy\""
   ]
  },
  {
   "cell_type": "markdown",
   "metadata": {},
   "source": [
    "**Response from aca-py**"
   ]
  },
  {
   "cell_type": "code",
   "execution_count": 485,
   "metadata": {
    "scrolled": true
   },
   "outputs": [
    {
     "name": "stdout",
     "output_type": "stream",
     "text": [
      "Decoded acapy response: \n",
      "\n",
      "('{\"@type\": \"did:sov:BzCbsNYhMrjHiqZDTUASHg;spec/connections/1.0/response\", '\n",
      " '\"@id\": \"6f5a48d2-0014-4dd4-b798-ccd8183af6b3\", \"~thread\": {\"thid\": '\n",
      " '\"5367a3d9-0904-41d0-9500-114cfba64ae7\"}, \"connection~sig\": {\"@type\": '\n",
      " '\"did:sov:BzCbsNYhMrjHiqZDTUASHg;spec/signature/1.0/ed25519Sha512_single\", '\n",
      " '\"signature\": '\n",
      " '\"mMkZgUytDPnDCTZCNhkMRyjteU2etXu4d6cCZiXRoV6C4Ow-VIjB3Ima9yuwvhFIJQSF2_cCa25A0ncb8um-Dw==\", '\n",
      " '\"sig_data\": '\n",
      " '\"AAAAAF69IU17IkRJRCI6ICJHZk1FWWdCSFdlYXA5WTFUTkJrV3MzIiwgIkRJRERvYyI6IHsiQGNvbnRleHQiOiAiaHR0cHM6Ly93M2lkLm9yZy9kaWQvdjEiLCAiaWQiOiAiZGlkOnNvdjpHZk1FWWdCSFdlYXA5WTFUTkJrV3MzIiwgInB1YmxpY0tleSI6IFt7ImlkIjogImRpZDpzb3Y6R2ZNRVlnQkhXZWFwOVkxVE5Ca1dzMyMxIiwgInR5cGUiOiAiRWQyNTUxOVZlcmlmaWNhdGlvbktleTIwMTgiLCAiY29udHJvbGxlciI6ICJkaWQ6c292OkdmTUVZZ0JIV2VhcDlZMVROQmtXczMiLCAicHVibGljS2V5QmFzZTU4IjogIjlZNWhWM3dIeFRadjlITWFKSEhLQW1CRXptY0tMWDNSMkdvNFRObk5FM2I0In1dLCAiYXV0aGVudGljYXRpb24iOiBbeyJ0eXBlIjogIkVkMjU1MTlTaWduYXR1cmVBdXRoZW50aWNhdGlvbjIwMTgiLCAicHVibGljS2V5IjogImRpZDpzb3Y6R2ZNRVlnQkhXZWFwOVkxVE5Ca1dzMyMxIn1dLCAic2VydmljZSI6IFt7ImlkIjogImRpZDpzb3Y6R2ZNRVlnQkhXZWFwOVkxVE5Ca1dzMztpbmR5IiwgInR5cGUiOiAiSW5keUFnZW50IiwgInByaW9yaXR5IjogMCwgInJlY2lwaWVudEtleXMiOiBbIjlZNWhWM3dIeFRadjlITWFKSEhLQW1CRXptY0tMWDNSMkdvNFRObk5FM2I0Il0sICJzZXJ2aWNlRW5kcG9pbnQiOiAiaHR0cDovL2FnZW50Mi5sb2NhbGhvc3QifV19fQ==\", '\n",
      " '\"signer\": \"ETPLPcq1pMw7R1RyQn95VPeC5DY5UzFamGHAKBFwsRx8\"}}',\n",
      " 'ETPLPcq1pMw7R1RyQn95VPeC5DY5UzFamGHAKBFwsRx8',\n",
      " '4A7J1pn1SSrtmysErvLxVbyn5qh4NtQFtn4fS7DacfHy')\n"
     ]
    }
   ],
   "source": [
    "# a bit of a hack to simplify message unpacking,\n",
    "# decode_pack_message needs a callable object for some reason\n",
    "def unpackMessage(message, privateKey):\n",
    "    class FindKey:\n",
    "        def __init__(self, key):\n",
    "            self.key = key\n",
    "\n",
    "        def __call__(self, argument):\n",
    "            return self.key\n",
    "\n",
    "    find_key = FindKey(privateKey)   \n",
    "    return crypto.decode_pack_message(message, find_key)\n",
    "    \n",
    "connectionRequestResponseUnpacked = \\\n",
    "    unpackMessage(connectionRequestResponse.text, plugin['keypair'][1])\n",
    "\n",
    "connectionRequestResponseDict = json.loads(connectionRequestResponseUnpacked[0])\n",
    "\n",
    "print(\"Decoded acapy response: \\n\")\n",
    "pp.pprint(connectionRequestResponseUnpacked)"
   ]
  },
  {
   "cell_type": "markdown",
   "metadata": {},
   "source": [
    "**Unpacking connection data embedded in the response**"
   ]
  },
  {
   "cell_type": "code",
   "execution_count": 486,
   "metadata": {
    "scrolled": true
   },
   "outputs": [
    {
     "name": "stdout",
     "output_type": "stream",
     "text": [
      "{'DID': 'GfMEYgBHWeap9Y1TNBkWs3',\n",
      " 'DIDDoc': {'@context': 'https://w3id.org/did/v1',\n",
      "            'authentication': [{'publicKey': 'did:sov:GfMEYgBHWeap9Y1TNBkWs3#1',\n",
      "                                'type': 'Ed25519SignatureAuthentication2018'}],\n",
      "            'id': 'did:sov:GfMEYgBHWeap9Y1TNBkWs3',\n",
      "            'publicKey': [{'controller': 'did:sov:GfMEYgBHWeap9Y1TNBkWs3',\n",
      "                           'id': 'did:sov:GfMEYgBHWeap9Y1TNBkWs3#1',\n",
      "                           'publicKeyBase58': '9Y5hV3wHxTZv9HMaJHHKAmBEzmcKLX3R2Go4TNnNE3b4',\n",
      "                           'type': 'Ed25519VerificationKey2018'}],\n",
      "            'service': [{'id': 'did:sov:GfMEYgBHWeap9Y1TNBkWs3;indy',\n",
      "                         'priority': 0,\n",
      "                         'recipientKeys': ['9Y5hV3wHxTZv9HMaJHHKAmBEzmcKLX3R2Go4TNnNE3b4'],\n",
      "                         'serviceEndpoint': 'http://agent2.localhost',\n",
      "                         'type': 'IndyAgent'}]}}\n"
     ]
    }
   ],
   "source": [
    "sig_data_raw = connectionRequestResponseDict['connection~sig']['sig_data']\n",
    "sig_data_raw = base64.b64decode(sig_data_raw)\n",
    "## TODO: replace - _ characters with some random number etc.\n",
    "# avoid first 8 characters as they are a time signature\n",
    "sig_data_raw = sig_data_raw[8:]\n",
    "sig_data_raw = sig_data_raw.decode('ascii')\n",
    "\n",
    "sig_data = json.loads(sig_data_raw)\n",
    "pp.pprint(sig_data)"
   ]
  },
  {
   "cell_type": "markdown",
   "metadata": {},
   "source": [
    "**Adding the connection to connection list**"
   ]
  },
  {
   "cell_type": "code",
   "execution_count": 487,
   "metadata": {},
   "outputs": [
    {
     "name": "stdout",
     "output_type": "stream",
     "text": [
      "[{'DIDDoc': {'@context': 'https://w3id.org/did/v1',\n",
      "             'authentication': [{'publicKey': 'did:sov:GfMEYgBHWeap9Y1TNBkWs3#1',\n",
      "                                 'type': 'Ed25519SignatureAuthentication2018'}],\n",
      "             'id': 'did:sov:GfMEYgBHWeap9Y1TNBkWs3',\n",
      "             'publicKey': [{'controller': 'did:sov:GfMEYgBHWeap9Y1TNBkWs3',\n",
      "                            'id': 'did:sov:GfMEYgBHWeap9Y1TNBkWs3#1',\n",
      "                            'publicKeyBase58': '9Y5hV3wHxTZv9HMaJHHKAmBEzmcKLX3R2Go4TNnNE3b4',\n",
      "                            'type': 'Ed25519VerificationKey2018'}],\n",
      "             'service': [{'id': 'did:sov:GfMEYgBHWeap9Y1TNBkWs3;indy',\n",
      "                          'priority': 0,\n",
      "                          'recipientKeys': ['9Y5hV3wHxTZv9HMaJHHKAmBEzmcKLX3R2Go4TNnNE3b4'],\n",
      "                          'serviceEndpoint': 'http://agent2.localhost',\n",
      "                          'type': 'IndyAgent'}]},\n",
      "  'label': 'Client (admin)',\n",
      "  'myKey': b'\\x94_b\\x1a\\t\\x1bsX\\xcfBK\\xf01q\\x9d\\x80E\\x8bF6a\\xfeC\\xf4X\\xf3\\x19t'\n",
      "           b'\\x1b\\x7f\\xd8\\x1b.\\xe8gj\\xbbw\\xc21\\xdf\\xe3\\xd3~^c\\x98\\x8e\\xb1oai'\n",
      "           b'}\\x9d\\xc7\\xa2Q\\xba\\xc1\\xa6e\\xad)8'}]\n"
     ]
    }
   ],
   "source": [
    "connections = [\n",
    "    {\n",
    "        \"label\": agent1['invite']['label'],\n",
    "        \"DIDDoc\": sig_data['DIDDoc'],\n",
    "        \"myKey\": plugin['keypair'][1]\n",
    "    }\n",
    "]\n",
    "\n",
    "def packMessage(message, connection):\n",
    "    # pass in our private key and recipient key to the encode_pack_message\n",
    "    decodedRecipientKey = base58.b58decode(connection['DIDDoc']['service'][0]['recipientKeys'][0])\n",
    "    packedMessage = \\\n",
    "    crypto.encode_pack_message(json.dumps(message), \\\n",
    "                               [decodedRecipientKey], \\\n",
    "                               connection['myKey'])\n",
    "    return packedMessage.decode('ascii')\n",
    "\n",
    "\n",
    "pp.pprint(connections)"
   ]
  },
  {
   "cell_type": "markdown",
   "metadata": {},
   "source": [
    "### FEATURE DISCOVERY"
   ]
  },
  {
   "cell_type": "code",
   "execution_count": 488,
   "metadata": {
    "scrolled": true
   },
   "outputs": [
    {
     "name": "stdout",
     "output_type": "stream",
     "text": [
      "{'@id': 'a44ea213-0af5-4d0a-a51a-d4d53afb96a9',\n",
      " '@type': 'did:sov:BzCbsNYhMrjHiqZDTUASHg;spec/discover-features/1.0/disclose',\n",
      " 'protocols': [{'pid': 'did:sov:BzCbsNYhMrjHiqZDTUASHg;spec/admin-schemas/0.1'},\n",
      "               {'pid': 'https://didcomm.org/introduction-service/0.1'},\n",
      "               {'pid': 'did:sov:BzCbsNYhMrjHiqZDTUASHg;spec/basicmessage/1.0'},\n",
      "               {'pid': 'https://didcomm.org/notification/1.0'},\n",
      "               {'pid': 'did:sov:BzCbsNYhMrjHiqZDTUASHg;spec/admin-holder/0.1'},\n",
      "               {'pid': 'did:sov:BzCbsNYhMrjHiqZDTUASHg;spec/notification/1.0'},\n",
      "               {'pid': 'https://github.com/hyperledger/aries-toolbox/tree/master/docs/admin-payments/0.1'},\n",
      "               {'pid': 'did:sov:BzCbsNYhMrjHiqZDTUASHg;spec/admin-dids/0.1'},\n",
      "               {'pid': 'https://didcomm.org/routing/1.0'},\n",
      "               {'pid': 'did:sov:BzCbsNYhMrjHiqZDTUASHg;spec/admin-credential-definitions/0.1'},\n",
      "               {'pid': 'https://github.com/hyperledger/aries-toolbox/tree/master/docs/admin-invitations/0.1'},\n",
      "               {'pid': 'https://didcomm.org/trust_ping/1.0'},\n",
      "               {'pid': 'https://github.com/hyperledger/aries-toolbox/tree/master/docs/admin-basicmessage/0.1'},\n",
      "               {'pid': 'https://didcomm.org/basicmessage/1.0'},\n",
      "               {'pid': 'https://didcomm.org/connections/1.0'},\n",
      "               {'pid': 'did:sov:BzCbsNYhMrjHiqZDTUASHg;spec/admin-connections/0.1'},\n",
      "               {'pid': 'did:sov:BzCbsNYhMrjHiqZDTUASHg;spec/routing/1.0'},\n",
      "               {'pid': 'did:sov:BzCbsNYhMrjHiqZDTUASHg;spec/action-menu/1.0',\n",
      "                'roles': ['provider']},\n",
      "               {'pid': 'https://didcomm.org/discover-features/1.0'},\n",
      "               {'pid': 'did:sov:BzCbsNYhMrjHiqZDTUASHg;spec/present-proof/1.0'},\n",
      "               {'pid': 'https://github.com/hyperledger/aries-toolbox/tree/master/docs/admin-taa/0.1'},\n",
      "               {'pid': 'did:sov:BzCbsNYhMrjHiqZDTUASHg;spec/introduction-service/0.1'},\n",
      "               {'pid': 'did:sov:BzCbsNYhMrjHiqZDTUASHg;spec/credential-issuance/0.1'},\n",
      "               {'pid': 'did:sov:BzCbsNYhMrjHiqZDTUASHg;spec/credential-presentation/0.1'},\n",
      "               {'pid': 'https://didcomm.org/action-menu/1.0'},\n",
      "               {'pid': 'https://didcomm.org/credential-issuance/0.1'},\n",
      "               {'pid': 'did:sov:BzCbsNYhMrjHiqZDTUASHg;spec/discover-features/1.0'},\n",
      "               {'pid': 'https://github.com/hyperledger/aries-toolbox/tree/master/docs/admin-connections/0.1'},\n",
      "               {'pid': 'did:sov:BzCbsNYhMrjHiqZDTUASHg;spec/admin-issuer/0.1'},\n",
      "               {'pid': 'did:sov:BzCbsNYhMrjHiqZDTUASHg;spec/trust_ping/1.0'},\n",
      "               {'pid': 'did:sov:BzCbsNYhMrjHiqZDTUASHg;spec/acapy-plugin/1.0'},\n",
      "               {'pid': 'https://didcomm.org/present-proof/1.0'},\n",
      "               {'pid': 'https://didcomm.org/issue-credential/1.0'},\n",
      "               {'pid': 'did:sov:BzCbsNYhMrjHiqZDTUASHg;spec/connections/1.0'},\n",
      "               {'pid': 'did:sov:BzCbsNYhMrjHiqZDTUASHg;spec/admin-static-connections/0.1'},\n",
      "               {'pid': 'did:sov:BzCbsNYhMrjHiqZDTUASHg;spec/issue-credential/1.0'},\n",
      "               {'pid': 'https://didcomm.org/credential-presentation/0.1'}],\n",
      " '~thread': {'thid': 'e0269274-6f86-4c47-8c4c-b61c753d22de'}}\n"
     ]
    }
   ],
   "source": [
    "message = {}\n",
    "message['@id'] = str(uuid.uuid4())\n",
    "message['@type'] = \"did:sov:BzCbsNYhMrjHiqZDTUASHg;spec/discover-features/1.0/query\"\n",
    "message['~transport'] = {}\n",
    "message['~transport']['return_route'] = 'all'\n",
    "message['query'] = '*'\n",
    "encodedMessage = packMessage(message, connections[0])\n",
    "# print(encodedMessage)\n",
    "\n",
    "endpoint = connections[0]['DIDDoc']['service'][0]['serviceEndpoint']\n",
    "response = requests.post(endpoint, data=encodedMessage)\n",
    "# print(response.text)\n",
    "\n",
    "responseDecoded = unpackMessage(response.text, plugin['keypair'][1])\n",
    "responseDecoded = json.loads(responseDecoded[0])\n",
    "pp.pprint(responseDecoded)"
   ]
  },
  {
   "cell_type": "markdown",
   "metadata": {},
   "source": [
    "## Dids"
   ]
  },
  {
   "cell_type": "code",
   "execution_count": 489,
   "metadata": {},
   "outputs": [
    {
     "name": "stdout",
     "output_type": "stream",
     "text": [
      "{'@id': '153dd576-4345-4da6-8173-489e2b3edd91',\n",
      " '@type': 'did:sov:BzCbsNYhMrjHiqZDTUASHg;spec/admin-dids/0.1/list-dids',\n",
      " 'result': [{'did': 'SRypyC6EGLfDQrXMkLB78s',\n",
      "             'verkey': 'Erv25DwntLu9Wrv9qDDpTyT5geAP2EFJKhoCEaa59wy7'},\n",
      "            {'did': 'R7jMcbdYSWDBZ6iWqsTbXP',\n",
      "             'verkey': 'E9Md2W85gvBbLM471Bok4PAm8skfZwHQJxEW33u2P4GL'},\n",
      "            {'did': 'GfMEYgBHWeap9Y1TNBkWs3',\n",
      "             'verkey': '9Y5hV3wHxTZv9HMaJHHKAmBEzmcKLX3R2Go4TNnNE3b4'},\n",
      "            {'did': 'LcHB9CYg1ubfTfZfqgioMc',\n",
      "             'verkey': 'BgrdPGjy34iF6HpX3ADondV8Dc92T7BkHv7CCuYwwVSY'},\n",
      "            {'did': 'GA5cdEpPbyxcWyLmUGZqNX',\n",
      "             'verkey': '9G8SPcRmoaepYaLKY1UhzZF1EjXe7vmKcHhVMmJmRgj5'},\n",
      "            {'did': 'UuzotrWcFJ7Prz3LmRGJbB',\n",
      "             'verkey': 'GDQgHUQvL827rwJt9GNCzRyfUFUASQuhr8294NDjHfiR'},\n",
      "            {'did': 'A16AZUPifEcvmYjhUdyJQm',\n",
      "             'verkey': '5uZGKL4EhHvre87MJKwyRHUoYt5ZZuRg1YrXMNkCUGMZ'},\n",
      "            {'did': '35G1tpBSY1uXYuDUU3eFmp',\n",
      "             'verkey': '28YczGLtZNfi8Ss9BbymUkkq6hGMZ8Acnpew74WBBEwi'},\n",
      "            {'did': 'QYJmWf2G4gyzsXjgf2xCMK',\n",
      "             'verkey': 'Dq92SRejEFaLCbomKA6AQiEj6QLbxTjoAJg72UbXR456'},\n",
      "            {'did': '2yEo931qe7EHqS7XuThn4Z',\n",
      "             'verkey': '25GHTY3MBMSgr9s7HPMVNCcZDyX8SXWUhZYdkK6m6UdP'},\n",
      "            {'did': 'D1U33FJPFSNJGQ9qnxoU4s',\n",
      "             'verkey': '7YbfhL8Cydw42YLYDfWNkFR871KCvGYBucqtaQegDJBR'},\n",
      "            {'did': 'HZgvTp8HTGMdmXP9ZULu11',\n",
      "             'verkey': 'A2cFaCj8VvjjVAqUH1vnvGrEtE5ue5mG3JzZmmrcDJcE'},\n",
      "            {'did': '5FXBfMuy5NAHnUPj9oMwYX',\n",
      "             'verkey': '3KMzn7CYubSTtX9s6WysUS6hjv457w8BSFeAwyZ3MLWZ'},\n",
      "            {'did': '3Q3UKed7XKrxv8Ls2hTJ6T',\n",
      "             'verkey': '2JnQq3pJwsgYpt8aGAeRK7xo8eCa7982NXNMjXtCgEHF'},\n",
      "            {'did': 'WeM5aKHwyftUAf2DGxTMb5',\n",
      "             'verkey': 'HA6vWDqxjBPLFxWDu8XiqspmPsCsuVx7mMCYktGmyNrc'},\n",
      "            {'did': 'TvDXWWGbf2F47e5tkaaX4d',\n",
      "             'verkey': 'Ffv7dxzWYAJg9hw1xc883GiBYmj2ibF8w3xqnrVsAHh3'}],\n",
      " '~thread': {'thid': 'dd8c497a-dfa9-4a4a-8875-9c97d7f69c08'}}\n"
     ]
    }
   ],
   "source": [
    "message = {}\n",
    "message['@id'] = str(uuid.uuid4())\n",
    "message['@type'] = \"did:sov:BzCbsNYhMrjHiqZDTUASHg;spec/admin-dids/0.1/get-list-dids\"\n",
    "message['~transport'] = {}\n",
    "message['~transport']['return_route'] = 'all'\n",
    "encodedMessage = packMessage(message, connections[0])\n",
    "# print(encodedMessage)\n",
    "\n",
    "endpoint = connections[0]['DIDDoc']['service'][0]['serviceEndpoint']\n",
    "response = requests.post(endpoint, data=encodedMessage)\n",
    "# print(response.text)\n",
    "\n",
    "responseDecoded = unpackMessage(response.text, plugin['keypair'][1])\n",
    "responseDecoded = json.loads(responseDecoded[0])\n",
    "pp.pprint(responseDecoded)"
   ]
  },
  {
   "cell_type": "markdown",
   "metadata": {},
   "source": [
    "## Public did"
   ]
  },
  {
   "cell_type": "code",
   "execution_count": 490,
   "metadata": {},
   "outputs": [
    {
     "name": "stdout",
     "output_type": "stream",
     "text": [
      "{'@id': 'b63f9f8e-3f27-4efd-a6ff-21665c38bafc',\n",
      " '@type': 'did:sov:BzCbsNYhMrjHiqZDTUASHg;spec/admin-dids/0.1/did',\n",
      " '~thread': {'thid': '6e2bd98f-1485-4245-9b94-619239a5cab1'}}\n"
     ]
    }
   ],
   "source": [
    "message['@id'] = str(uuid.uuid4())\n",
    "message['@type'] = \"did:sov:BzCbsNYhMrjHiqZDTUASHg;spec/admin-dids/0.1/get-public-did\"\n",
    "message['~transport'] = {}\n",
    "message['~transport']['return_route'] = 'all'\n",
    "encodedMessage = packMessage(message, connections[0])\n",
    "# print(encodedMessage)\n",
    "\n",
    "endpoint = connections[0]['DIDDoc']['service'][0]['serviceEndpoint']\n",
    "response = requests.post(endpoint, data=encodedMessage)\n",
    "# print(response.text)\n",
    "\n",
    "responseDecoded = unpackMessage(response.text, plugin['keypair'][1])\n",
    "responseDecoded = json.loads(responseDecoded[0])\n",
    "pp.pprint(responseDecoded)"
   ]
  },
  {
   "cell_type": "code",
   "execution_count": 491,
   "metadata": {},
   "outputs": [
    {
     "name": "stdout",
     "output_type": "stream",
     "text": [
      "{'@id': '23697ad0-c78f-46ac-be9b-59f0aa319f34',\n",
      " '@type': 'did:sov:BzCbsNYhMrjHiqZDTUASHg;spec/acapy-plugin/1.0/query',\n",
      " 'comment': 'testing',\n",
      " '~thread': {'thid': '7e3f2aa9-9f17-4a2d-977a-6216d2b39546'}}\n"
     ]
    }
   ],
   "source": [
    "\n",
    "message = {}\n",
    "message['@id'] = str(uuid.uuid4())\n",
    "message['@type'] = \"did:sov:BzCbsNYhMrjHiqZDTUASHg;spec/acapy-plugin/1.0/query\"\n",
    "message['~transport'] = {}\n",
    "message['~transport']['return_route'] = 'all'\n",
    "message['query'] = '*'\n",
    "# message['comment'] = \"memes\"\n",
    "encodedMessage = packMessage(message, connections[0])\n",
    "# print(encodedMessage)\n",
    "\n",
    "endpoint = connections[0]['DIDDoc']['service'][0]['serviceEndpoint']\n",
    "response = requests.post(endpoint, data=encodedMessage)\n",
    "# print(response.text)\n",
    "\n",
    "responseDecoded = unpackMessage(response.text, plugin['keypair'][1])\n",
    "responseDecoded = json.loads(responseDecoded[0])\n",
    "pp.pprint(responseDecoded)"
   ]
  }
 ],
 "metadata": {
  "kernelspec": {
   "display_name": "Python 3",
   "language": "python",
   "name": "python3"
  },
  "language_info": {
   "codemirror_mode": {
    "name": "ipython",
    "version": 3
   },
   "file_extension": ".py",
   "mimetype": "text/x-python",
   "name": "python",
   "nbconvert_exporter": "python",
   "pygments_lexer": "ipython3",
   "version": "3.7.5"
  }
 },
 "nbformat": 4,
 "nbformat_minor": 4
}
