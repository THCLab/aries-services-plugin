{
 "cells": [
  {
   "cell_type": "code",
   "execution_count": 380,
   "metadata": {},
   "outputs": [],
   "source": [
    "import requests \n",
    "import re as regex\n",
    "import json\n",
    "import pprint as pp # pretty print\n",
    "\n",
    "import aries_cloudagent.wallet.crypto as crypto\n",
    "import aries_cloudagent.wallet.util as util\n",
    "import base64\n",
    "import base58\n",
    "import uuid\n",
    "\n",
    "agent1 = {}\n",
    "agent2 = {}\n",
    "plugin = {}"
   ]
  },
  {
   "cell_type": "markdown",
   "metadata": {},
   "source": [
    "## Enter Invite Url:"
   ]
  },
  {
   "cell_type": "code",
   "execution_count": 381,
   "metadata": {},
   "outputs": [],
   "source": [
    "agent1['url'] = \"http://agent2.localhost?c_i=eyJAdHlwZSI6ICJkaWQ6c292OkJ6Q2JzTlloTXJqSGlxWkRUVUFTSGc7c3BlYy9jb25uZWN0aW9ucy8xLjAvaW52aXRhdGlvbiIsICJAaWQiOiAiMDI4OWVlYTktMDU4Ny00ZTc4LTg2ZGEtODIyZDMyODFiY2ZiIiwgInJlY2lwaWVudEtleXMiOiBbIjEzYlR1RDYzcGJhSmZoMm16cEpjU3NQdXl0QThTc1A0ajd3ZHRGVmRrMXBoIl0sICJsYWJlbCI6ICJDbGllbnQgKGFkbWluKSIsICJzZXJ2aWNlRW5kcG9pbnQiOiAiaHR0cDovL2FnZW50Mi5sb2NhbGhvc3QifQ==\""
   ]
  },
  {
   "cell_type": "code",
   "execution_count": 382,
   "metadata": {
    "scrolled": true
   },
   "outputs": [
    {
     "name": "stdout",
     "output_type": "stream",
     "text": [
      "Decoded invitation:\n",
      "\n",
      "{'@id': '0289eea9-0587-4e78-86da-822d3281bcfb',\n",
      " '@type': 'did:sov:BzCbsNYhMrjHiqZDTUASHg;spec/connections/1.0/invitation',\n",
      " 'label': 'Client (admin)',\n",
      " 'recipientKeys': ['13bTuD63pbaJfh2mzpJcSsPuytA8SsP4j7wdtFVdk1ph'],\n",
      " 'serviceEndpoint': 'http://agent2.localhost'}\n"
     ]
    }
   ],
   "source": [
    "# Process invite url, delete white spaces\n",
    "agent1['url'] = agent1['url'].replace(\" \", \"\")\n",
    "# Regex(substitution) to extract only the invite string from url\n",
    "agent1['invite_string_b64'] = regex.sub(\n",
    "           r\".*(c\\_i\\=)\", \n",
    "           r\"\", \n",
    "           agent1['url'])\n",
    "# Decoding invite string using base64 decoder\n",
    "agent1['invite_string'] = base64.b64decode(agent1['invite_string_b64'])\n",
    "# Converting our invite json string into a dictionary \n",
    "agent1['invite'] = json.loads(agent1['invite_string'])\n",
    "\n",
    "print(\"Decoded invitation:\\n\")\n",
    "pp.pprint(agent1['invite'])"
   ]
  },
  {
   "cell_type": "code",
   "execution_count": 383,
   "metadata": {},
   "outputs": [
    {
     "name": "stdout",
     "output_type": "stream",
     "text": [
      "Private key: \n",
      " 2PdYpQB79GBH7K5gH9zWFmt313uYeGxqrsqCRXWyDs1TqSNAud2mz4JNduZeSKeXeKjzZxC9KM5Gada53wTQNjRG\n",
      "\n",
      "Public key: \n",
      " DEBMWAgADpW1JRcnhkBidDaB64ifFdRoRD56ivDj7tJA\n"
     ]
    }
   ],
   "source": [
    "### Generating a did key using aries crypto module\n",
    "# Create a key pair with random seed \n",
    "# Order: 0 - public key, 1 - secret / pritvate key\n",
    "plugin['keypair'] = crypto.create_keypair()\n",
    "# it seems to me that did is an encoded sub string of public key\n",
    "# or maybe just some arbitrary random number\n",
    "did = plugin['keypair'][0][:16]\n",
    "# final version of our did\n",
    "plugin['did'] = base58.b58encode(did).decode(\"ascii\")\n",
    "# encoding keys to base58\n",
    "plugin['public_key_b58'] = \\\n",
    "    base58.b58encode(plugin['keypair'][0]).decode(\"ascii\")\n",
    "plugin['private_key_b58'] = \\\n",
    "    base58.b58encode(plugin['keypair'][1]).decode(\"ascii\")\n",
    "\n",
    "# print(base58.b58encode(did))\n",
    "# print(plugin['did'])\n",
    "print(\"Private key: \\n\", plugin['private_key_b58'])\n",
    "print(\"\\nPublic key: \\n\", plugin['public_key_b58'])"
   ]
  },
  {
   "cell_type": "markdown",
   "metadata": {},
   "source": [
    "**Sending a connection request to acapy**"
   ]
  },
  {
   "cell_type": "code",
   "execution_count": 384,
   "metadata": {},
   "outputs": [],
   "source": [
    "uniqueId = str(uuid.uuid4())\n",
    "# print(uniqueId)\n",
    "\n",
    "# our request body\n",
    "message = {\n",
    "        \"@id\":  uniqueId,\n",
    "        \"~transport\": {\n",
    "          \"return_route\": \"all\"\n",
    "        },\n",
    "        \"@type\": \"did:sov:BzCbsNYhMrjHiqZDTUASHg;spec/connections/1.0/request\",\n",
    "        \"label\": \"Plugin\",\n",
    "        \"connection\": {\n",
    "          \"DID\": plugin['did'],\n",
    "          \"DIDDoc\": {\n",
    "            \"@context\": \"https://w3id.org/did/v1\",\n",
    "            \"id\": plugin['did'],\n",
    "            \"publicKey\": [{\n",
    "              \"id\": plugin['did'] + \"#keys-1\",\n",
    "              \"type\": \"Ed25519VerificationKey2018\",\n",
    "              \"controller\": plugin['did'],\n",
    "              \"publicKeyBase58\": plugin['public_key_b58']\n",
    "            }],\n",
    "            \"service\": [{\n",
    "              \"id\": plugin['did'] + \";indy\",\n",
    "              \"type\": \"IndyAgent\",\n",
    "              \"recipientKeys\": plugin['public_key_b58'],\n",
    "              \"serviceEndpoint\": \"\"\n",
    "            }]\n",
    "          }\n",
    "        }\n",
    "      }"
   ]
  },
  {
   "cell_type": "markdown",
   "metadata": {},
   "source": [
    "**Encoding/packing the request**"
   ]
  },
  {
   "cell_type": "code",
   "execution_count": 385,
   "metadata": {},
   "outputs": [],
   "source": [
    "# encoding it with aries crypto function using the key that was\n",
    "# given to us by aca-py in recipientKeys\n",
    "decodedAcapyKey = base58.b58decode(agent1['invite']['recipientKeys'][0])\n",
    "ourPrivateKey = plugin['keypair'][1]\n",
    "# print(plugin['did'])\n",
    "encodedMessage = \\\n",
    "    crypto.encode_pack_message(json.dumps(message), [decodedAcapyKey], ourPrivateKey)\n",
    "\n",
    "encodedMessage = encodedMessage.decode(\"ascii\")\n",
    "# print(\"Encoded message: \\n\")\n",
    "# pp.pprint(encodedMessage)"
   ]
  },
  {
   "cell_type": "code",
   "execution_count": 386,
   "metadata": {},
   "outputs": [],
   "source": [
    "connectionRequestResponse = requests.post(agent1['invite']['serviceEndpoint'], data=encodedMessage)\n",
    "assert connectionRequestResponse.text != \"\", \"invalid response from acapy\""
   ]
  },
  {
   "cell_type": "markdown",
   "metadata": {},
   "source": [
    "**Response from aca-py**"
   ]
  },
  {
   "cell_type": "code",
   "execution_count": 387,
   "metadata": {
    "scrolled": true
   },
   "outputs": [
    {
     "name": "stdout",
     "output_type": "stream",
     "text": [
      "Decoded acapy response: \n",
      "\n",
      "('{\"@type\": \"did:sov:BzCbsNYhMrjHiqZDTUASHg;spec/connections/1.0/response\", '\n",
      " '\"@id\": \"56ea79f5-0943-40e5-887d-610886a84388\", \"~thread\": {\"thid\": '\n",
      " '\"8aea75cd-813a-40a2-bab9-008d65578079\"}, \"connection~sig\": {\"@type\": '\n",
      " '\"did:sov:BzCbsNYhMrjHiqZDTUASHg;spec/signature/1.0/ed25519Sha512_single\", '\n",
      " '\"signature\": '\n",
      " '\"C9Dloc9a1shLtl6GVgUrt0E3HpaaGHZ7WZOMnOotQon1H08keVzxYm94NbHiVDOH6Gfnyix2fUvWlSpAod5iAw==\", '\n",
      " '\"sig_data\": '\n",
      " '\"AAAAAF69CcR7IkRJRCI6ICJUdkRYV1dHYmYyRjQ3ZTV0a2FhWDRkIiwgIkRJRERvYyI6IHsiQGNvbnRleHQiOiAiaHR0cHM6Ly93M2lkLm9yZy9kaWQvdjEiLCAiaWQiOiAiZGlkOnNvdjpUdkRYV1dHYmYyRjQ3ZTV0a2FhWDRkIiwgInB1YmxpY0tleSI6IFt7ImlkIjogImRpZDpzb3Y6VHZEWFdXR2JmMkY0N2U1dGthYVg0ZCMxIiwgInR5cGUiOiAiRWQyNTUxOVZlcmlmaWNhdGlvbktleTIwMTgiLCAiY29udHJvbGxlciI6ICJkaWQ6c292OlR2RFhXV0diZjJGNDdlNXRrYWFYNGQiLCAicHVibGljS2V5QmFzZTU4IjogIkZmdjdkeHpXWUFKZzlodzF4Yzg4M0dpQlltajJpYkY4dzN4cW5yVnNBSGgzIn1dLCAiYXV0aGVudGljYXRpb24iOiBbeyJ0eXBlIjogIkVkMjU1MTlTaWduYXR1cmVBdXRoZW50aWNhdGlvbjIwMTgiLCAicHVibGljS2V5IjogImRpZDpzb3Y6VHZEWFdXR2JmMkY0N2U1dGthYVg0ZCMxIn1dLCAic2VydmljZSI6IFt7ImlkIjogImRpZDpzb3Y6VHZEWFdXR2JmMkY0N2U1dGthYVg0ZDtpbmR5IiwgInR5cGUiOiAiSW5keUFnZW50IiwgInByaW9yaXR5IjogMCwgInJlY2lwaWVudEtleXMiOiBbIkZmdjdkeHpXWUFKZzlodzF4Yzg4M0dpQlltajJpYkY4dzN4cW5yVnNBSGgzIl0sICJzZXJ2aWNlRW5kcG9pbnQiOiAiaHR0cDovL2FnZW50Mi5sb2NhbGhvc3QifV19fQ==\", '\n",
      " '\"signer\": \"13bTuD63pbaJfh2mzpJcSsPuytA8SsP4j7wdtFVdk1ph\"}}',\n",
      " '13bTuD63pbaJfh2mzpJcSsPuytA8SsP4j7wdtFVdk1ph',\n",
      " 'DEBMWAgADpW1JRcnhkBidDaB64ifFdRoRD56ivDj7tJA')\n"
     ]
    }
   ],
   "source": [
    "# a bit of a hack to simplify message unpacking,\n",
    "# decode_pack_message needs a callable object for some reason\n",
    "def unpackMessage(message, privateKey):\n",
    "    class FindKey:\n",
    "        def __init__(self, key):\n",
    "            self.key = key\n",
    "\n",
    "        def __call__(self, argument):\n",
    "            return self.key\n",
    "\n",
    "    find_key = FindKey(privateKey)   \n",
    "    return crypto.decode_pack_message(message, find_key)\n",
    "    \n",
    "connectionRequestResponseUnpacked = \\\n",
    "    unpackMessage(connectionRequestResponse.text, plugin['keypair'][1])\n",
    "\n",
    "connectionRequestResponseDict = json.loads(connectionRequestResponseUnpacked[0])\n",
    "\n",
    "print(\"Decoded acapy response: \\n\")\n",
    "pp.pprint(connectionRequestResponseUnpacked)"
   ]
  },
  {
   "cell_type": "markdown",
   "metadata": {},
   "source": [
    "**Unpacking connection data embedded in the response**"
   ]
  },
  {
   "cell_type": "code",
   "execution_count": 388,
   "metadata": {
    "scrolled": true
   },
   "outputs": [
    {
     "name": "stdout",
     "output_type": "stream",
     "text": [
      "{'DID': 'TvDXWWGbf2F47e5tkaaX4d',\n",
      " 'DIDDoc': {'@context': 'https://w3id.org/did/v1',\n",
      "            'authentication': [{'publicKey': 'did:sov:TvDXWWGbf2F47e5tkaaX4d#1',\n",
      "                                'type': 'Ed25519SignatureAuthentication2018'}],\n",
      "            'id': 'did:sov:TvDXWWGbf2F47e5tkaaX4d',\n",
      "            'publicKey': [{'controller': 'did:sov:TvDXWWGbf2F47e5tkaaX4d',\n",
      "                           'id': 'did:sov:TvDXWWGbf2F47e5tkaaX4d#1',\n",
      "                           'publicKeyBase58': 'Ffv7dxzWYAJg9hw1xc883GiBYmj2ibF8w3xqnrVsAHh3',\n",
      "                           'type': 'Ed25519VerificationKey2018'}],\n",
      "            'service': [{'id': 'did:sov:TvDXWWGbf2F47e5tkaaX4d;indy',\n",
      "                         'priority': 0,\n",
      "                         'recipientKeys': ['Ffv7dxzWYAJg9hw1xc883GiBYmj2ibF8w3xqnrVsAHh3'],\n",
      "                         'serviceEndpoint': 'http://agent2.localhost',\n",
      "                         'type': 'IndyAgent'}]}}\n"
     ]
    }
   ],
   "source": [
    "sig_data_raw = connectionRequestResponseDict['connection~sig']['sig_data']\n",
    "sig_data_raw = base64.b64decode(sig_data_raw)\n",
    "# avoid first 8 characters as they are a time signature\n",
    "sig_data_raw = sig_data_raw[8:]\n",
    "sig_data_raw = sig_data_raw.decode('ascii')\n",
    "\n",
    "sig_data = json.loads(sig_data_raw)\n",
    "pp.pprint(sig_data)"
   ]
  },
  {
   "cell_type": "markdown",
   "metadata": {},
   "source": [
    "**Adding the connection to connection list**"
   ]
  },
  {
   "cell_type": "code",
   "execution_count": 389,
   "metadata": {},
   "outputs": [
    {
     "name": "stdout",
     "output_type": "stream",
     "text": [
      "[{'DIDDoc': {'@context': 'https://w3id.org/did/v1',\n",
      "             'authentication': [{'publicKey': 'did:sov:TvDXWWGbf2F47e5tkaaX4d#1',\n",
      "                                 'type': 'Ed25519SignatureAuthentication2018'}],\n",
      "             'id': 'did:sov:TvDXWWGbf2F47e5tkaaX4d',\n",
      "             'publicKey': [{'controller': 'did:sov:TvDXWWGbf2F47e5tkaaX4d',\n",
      "                            'id': 'did:sov:TvDXWWGbf2F47e5tkaaX4d#1',\n",
      "                            'publicKeyBase58': 'Ffv7dxzWYAJg9hw1xc883GiBYmj2ibF8w3xqnrVsAHh3',\n",
      "                            'type': 'Ed25519VerificationKey2018'}],\n",
      "             'service': [{'id': 'did:sov:TvDXWWGbf2F47e5tkaaX4d;indy',\n",
      "                          'priority': 0,\n",
      "                          'recipientKeys': ['Ffv7dxzWYAJg9hw1xc883GiBYmj2ibF8w3xqnrVsAHh3'],\n",
      "                          'serviceEndpoint': 'http://agent2.localhost',\n",
      "                          'type': 'IndyAgent'}]},\n",
      "  'label': 'Client (admin)',\n",
      "  'myKey': b'E\\x88I\\xfa\\xc9\\x98\\x93\\x14lz_\\xbf\\x87\\xfd\\xc6\\xf5o\\x82\\x0e\\t'\n",
      "           b'G\\xd4\\xfex\\xfb$\\xe96\\xd8R\\xc2\\x8b\\xb5\\xac\\x80\\x18Y\\xbeN\\xbe'\n",
      "           b'\\x1c\\x9ce\\xcbQ)l\\x94\\xf4\\x84\\xdd\\x17\\xb1\\xa6`\\x90\\xb1\\xe7z\\x16'\n",
      "           b'\"\\xee\\xfd\\xdf'}]\n"
     ]
    }
   ],
   "source": [
    "connections = [\n",
    "    {\n",
    "        \"label\": agent1['invite']['label'],\n",
    "        \"DIDDoc\": sig_data['DIDDoc'],\n",
    "        \"myKey\": plugin['keypair'][1]\n",
    "    }\n",
    "]\n",
    "\n",
    "def packMessage(message, connection):\n",
    "    # pass in our private key and recipient key to the encode_pack_message\n",
    "    decodedRecipientKey = base58.b58decode(connection['DIDDoc']['service'][0]['recipientKeys'][0])\n",
    "    packedMessage = \\\n",
    "    crypto.encode_pack_message(json.dumps(message), \\\n",
    "                               [decodedRecipientKey], \\\n",
    "                               connection['myKey'])\n",
    "    return packedMessage.decode('ascii')\n",
    "\n",
    "\n",
    "pp.pprint(connections)"
   ]
  },
  {
   "cell_type": "markdown",
   "metadata": {},
   "source": [
    "### FEATURE DISCOVERY"
   ]
  },
  {
   "cell_type": "code",
   "execution_count": 390,
   "metadata": {
    "scrolled": true
   },
   "outputs": [
    {
     "name": "stdout",
     "output_type": "stream",
     "text": [
      "{'@id': '7c0afca4-59f2-4628-9cf8-c47b23064336',\n",
      " '@type': 'did:sov:BzCbsNYhMrjHiqZDTUASHg;spec/discover-features/1.0/disclose',\n",
      " 'protocols': [{'pid': 'did:sov:BzCbsNYhMrjHiqZDTUASHg;spec/credential-issuance/0.1'},\n",
      "               {'pid': 'https://didcomm.org/issue-credential/1.0'},\n",
      "               {'pid': 'https://didcomm.org/basicmessage/1.0'},\n",
      "               {'pid': 'https://didcomm.org/credential-presentation/0.1'},\n",
      "               {'pid': 'did:sov:BzCbsNYhMrjHiqZDTUASHg;spec/credential-presentation/0.1'},\n",
      "               {'pid': 'did:sov:BzCbsNYhMrjHiqZDTUASHg;spec/acapy-plugin/1.0'},\n",
      "               {'pid': 'did:sov:BzCbsNYhMrjHiqZDTUASHg;spec/routing/1.0'},\n",
      "               {'pid': 'did:sov:BzCbsNYhMrjHiqZDTUASHg;spec/action-menu/1.0',\n",
      "                'roles': ['provider']},\n",
      "               {'pid': 'https://didcomm.org/present-proof/1.0'},\n",
      "               {'pid': 'https://didcomm.org/introduction-service/0.1'},\n",
      "               {'pid': 'https://didcomm.org/credential-issuance/0.1'},\n",
      "               {'pid': 'did:sov:BzCbsNYhMrjHiqZDTUASHg;spec/basicmessage/1.0'},\n",
      "               {'pid': 'did:sov:BzCbsNYhMrjHiqZDTUASHg;spec/notification/1.0'},\n",
      "               {'pid': 'did:sov:BzCbsNYhMrjHiqZDTUASHg;spec/connections/1.0'},\n",
      "               {'pid': 'did:sov:BzCbsNYhMrjHiqZDTUASHg;spec/present-proof/1.0'},\n",
      "               {'pid': 'did:sov:BzCbsNYhMrjHiqZDTUASHg;spec/introduction-service/0.1'},\n",
      "               {'pid': 'https://didcomm.org/action-menu/1.0'},\n",
      "               {'pid': 'https://didcomm.org/connections/1.0'},\n",
      "               {'pid': 'did:sov:BzCbsNYhMrjHiqZDTUASHg;spec/trust_ping/1.0'},\n",
      "               {'pid': 'https://didcomm.org/notification/1.0'},\n",
      "               {'pid': 'https://didcomm.org/routing/1.0'},\n",
      "               {'pid': 'did:sov:BzCbsNYhMrjHiqZDTUASHg;spec/issue-credential/1.0'},\n",
      "               {'pid': 'https://didcomm.org/discover-features/1.0'},\n",
      "               {'pid': 'did:sov:BzCbsNYhMrjHiqZDTUASHg;spec/discover-features/1.0'},\n",
      "               {'pid': 'https://didcomm.org/trust_ping/1.0'}],\n",
      " '~thread': {'thid': 'f393fb34-3eb3-431c-bbcf-b9677e1a35a7'}}\n"
     ]
    }
   ],
   "source": [
    "message = {}\n",
    "message['@id'] = str(uuid.uuid4())\n",
    "message['@type'] = \"did:sov:BzCbsNYhMrjHiqZDTUASHg;spec/discover-features/1.0/query\"\n",
    "message['~transport'] = {}\n",
    "message['~transport']['return_route'] = 'all'\n",
    "message['query'] = '*'\n",
    "encodedMessage = packMessage(message, connections[0])\n",
    "# print(encodedMessage)\n",
    "\n",
    "endpoint = connections[0]['DIDDoc']['service'][0]['serviceEndpoint']\n",
    "response = requests.post(endpoint, data=encodedMessage)\n",
    "# print(response.text)\n",
    "\n",
    "responseDecoded = unpackMessage(response.text, plugin['keypair'][1])\n",
    "responseDecoded = json.loads(responseDecoded[0])\n",
    "pp.pprint(responseDecoded)"
   ]
  },
  {
   "cell_type": "markdown",
   "metadata": {},
   "source": [
    "## Dids"
   ]
  },
  {
   "cell_type": "code",
   "execution_count": 391,
   "metadata": {},
   "outputs": [
    {
     "name": "stdout",
     "output_type": "stream",
     "text": [
      "{'@id': '6392c9c3-c3f6-4651-a68a-afd1575e467a',\n",
      " '@type': 'did:sov:BzCbsNYhMrjHiqZDTUASHg;spec/notification/1.0/problem-report',\n",
      " 'explain-ltxt': 'Unrecognized message type '\n",
      "                 'did:sov:BzCbsNYhMrjHiqZDTUASHg;spec/admin-dids/0.1/get-list-dids',\n",
      " '~thread': {'thid': '8f486a91-f799-4ff1-8864-5f65def969d4'}}\n"
     ]
    }
   ],
   "source": [
    "message = {}\n",
    "message['@id'] = str(uuid.uuid4())\n",
    "message['@type'] = \"did:sov:BzCbsNYhMrjHiqZDTUASHg;spec/admin-dids/0.1/get-list-dids\"\n",
    "message['~transport'] = {}\n",
    "message['~transport']['return_route'] = 'all'\n",
    "encodedMessage = packMessage(message, connections[0])\n",
    "# print(encodedMessage)\n",
    "\n",
    "endpoint = connections[0]['DIDDoc']['service'][0]['serviceEndpoint']\n",
    "response = requests.post(endpoint, data=encodedMessage)\n",
    "# print(response.text)\n",
    "\n",
    "responseDecoded = unpackMessage(response.text, plugin['keypair'][1])\n",
    "responseDecoded = json.loads(responseDecoded[0])\n",
    "pp.pprint(responseDecoded)"
   ]
  },
  {
   "cell_type": "markdown",
   "metadata": {},
   "source": [
    "## Public did"
   ]
  },
  {
   "cell_type": "code",
   "execution_count": 392,
   "metadata": {},
   "outputs": [
    {
     "name": "stdout",
     "output_type": "stream",
     "text": [
      "{'@id': 'eb511a10-302d-4b8d-8e7c-4dcac4e7f5b5',\n",
      " '@type': 'did:sov:BzCbsNYhMrjHiqZDTUASHg;spec/notification/1.0/problem-report',\n",
      " 'explain-ltxt': 'Unrecognized message type '\n",
      "                 'did:sov:BzCbsNYhMrjHiqZDTUASHg;spec/admin-dids/0.1/get-public-did',\n",
      " '~thread': {'thid': '871d5b05-7f6e-455a-b062-7f5d656c5b81'}}\n"
     ]
    }
   ],
   "source": [
    "message['@id'] = str(uuid.uuid4())\n",
    "message['@type'] = \"did:sov:BzCbsNYhMrjHiqZDTUASHg;spec/admin-dids/0.1/get-public-did\"\n",
    "message['~transport'] = {}\n",
    "message['~transport']['return_route'] = 'all'\n",
    "encodedMessage = packMessage(message, connections[0])\n",
    "# print(encodedMessage)\n",
    "\n",
    "endpoint = connections[0]['DIDDoc']['service'][0]['serviceEndpoint']\n",
    "response = requests.post(endpoint, data=encodedMessage)\n",
    "# print(response.text)\n",
    "\n",
    "responseDecoded = unpackMessage(response.text, plugin['keypair'][1])\n",
    "responseDecoded = json.loads(responseDecoded[0])\n",
    "pp.pprint(responseDecoded)"
   ]
  },
  {
   "cell_type": "code",
   "execution_count": 393,
   "metadata": {},
   "outputs": [
    {
     "name": "stdout",
     "output_type": "stream",
     "text": [
      "{'@id': 'd7b854ee-44f4-4309-8855-a347524905d1',\n",
      " '@type': 'did:sov:BzCbsNYhMrjHiqZDTUASHg;spec/acapy-plugin/1.0/disclose',\n",
      " 'protocols': 'hello world',\n",
      " '~thread': {'thid': 'ef6e3f37-0926-4165-91eb-9ac2d5e043ce'}}\n"
     ]
    }
   ],
   "source": [
    "\n",
    "message = {}\n",
    "message['@id'] = str(uuid.uuid4())\n",
    "message['@type'] = \"did:sov:BzCbsNYhMrjHiqZDTUASHg;spec/acapy-plugin/1.0/query\"\n",
    "message['~transport'] = {}\n",
    "message['~transport']['return_route'] = 'all'\n",
    "message['query'] = '*'\n",
    "# message['comment'] = \"memes\"\n",
    "encodedMessage = packMessage(message, connections[0])\n",
    "# print(encodedMessage)\n",
    "\n",
    "endpoint = connections[0]['DIDDoc']['service'][0]['serviceEndpoint']\n",
    "response = requests.post(endpoint, data=encodedMessage)\n",
    "# print(response.text)\n",
    "\n",
    "responseDecoded = unpackMessage(response.text, plugin['keypair'][1])\n",
    "responseDecoded = json.loads(responseDecoded[0])\n",
    "pp.pprint(responseDecoded)"
   ]
  }
 ],
 "metadata": {
  "kernelspec": {
   "display_name": "Python 3",
   "language": "python",
   "name": "python3"
  },
  "language_info": {
   "codemirror_mode": {
    "name": "ipython",
    "version": 3
   },
   "file_extension": ".py",
   "mimetype": "text/x-python",
   "name": "python",
   "nbconvert_exporter": "python",
   "pygments_lexer": "ipython3",
   "version": "3.7.5"
  }
 },
 "nbformat": 4,
 "nbformat_minor": 4
}
